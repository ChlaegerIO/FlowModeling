{
 "cells": [
  {
   "cell_type": "code",
   "execution_count": 2,
   "metadata": {
    "scrolled": false
   },
   "outputs": [],
   "source": [
    "import numpy as np\n",
    "import matplotlib.pyplot as plt\n",
    "from matplotlib import rcParams\n",
    "from scipy import io\n",
    "import os\n",
    "from tensorflow.keras.utils import to_categorical\n",
    "from tensorflow.keras.models import Sequential\n",
    "from tensorflow.keras.layers import Dense, Conv2D, Flatten, MaxPool2D\n",
    "from tensorflow.keras import optimizers\n",
    "\n",
    "\n",
    "rcParams.update({'font.size': 18})\n",
    "plt.rcParams['figure.figsize'] = [12, 12]"
   ]
  },
  {
   "cell_type": "code",
   "execution_count": 22,
   "metadata": {},
   "outputs": [
    {
     "name": "stdout",
     "output_type": "stream",
     "text": [
      "(1500, 1) label: [array(['A'], dtype='<U1') array(['A'], dtype='<U1')\n",
      " array(['A'], dtype='<U1') array(['A'], dtype='<U1')\n",
      " array(['A'], dtype='<U1') array(['A'], dtype='<U1')\n",
      " array(['A'], dtype='<U1') array(['A'], dtype='<U1')\n",
      " array(['A'], dtype='<U1') array(['A'], dtype='<U1')\n",
      " array(['A'], dtype='<U1') array(['A'], dtype='<U1')\n",
      " array(['A'], dtype='<U1') array(['A'], dtype='<U1')\n",
      " array(['A'], dtype='<U1') array(['A'], dtype='<U1')\n",
      " array(['A'], dtype='<U1') array(['A'], dtype='<U1')\n",
      " array(['A'], dtype='<U1')]\n"
     ]
    },
    {
     "data": {
      "image/png": "[encoded data removed]",
      "text/plain": [
       "<Figure size 864x864 with 20 Axes>"
      ]
     },
     "metadata": {
      "needs_background": "light"
     },
     "output_type": "display_data"
    }
   ],
   "source": [
    "letters_train_mat = io.loadmat(os.path.join('..','DATA','lettersTrainSet.mat'))\n",
    "letters_test_mat = io.loadmat(os.path.join('..','DATA','lettersTestSet.mat'))\n",
    "XTrain = letters_train_mat['XTrain']\n",
    "TTrain = letters_train_mat['TTrain_cell']\n",
    "XTest = letters_test_mat['XTest']\n",
    "TTest = letters_test_mat['TTest_cell']\n",
    "\n",
    "perm = np.random.permutation(1500)[:20]\n",
    "\n",
    "\n",
    "# By default, Keras expects data in form (batch, height, width, channels) \n",
    "XTrain = np.transpose(XTrain,axes=[3,0,1,2])\n",
    "XTest = np.transpose(XTest,axes=[3,0,1,2])\n",
    "\n",
    "#print(str(XTrain.shape))\n",
    "#print(str(TTrain.shape) + ' label: ' + str(TTrain[0:19,0]))\n",
    "\n",
    "\n",
    "fig,axs = plt.subplots(4,5)\n",
    "axs = axs.reshape(-1)\n",
    "\n",
    "for j in range(len(axs)):\n",
    "    axs[j].imshow(np.squeeze(XTrain[perm[j],:,:,:]),cmap='gray')\n",
    "    axs[j].axis('off')"
   ]
  },
  {
   "cell_type": "code",
   "execution_count": 23,
   "metadata": {},
   "outputs": [],
   "source": [
    "classes = np.unique(TTrain)\n",
    "y_train_label = np.zeros_like(TTrain)\n",
    "y_test_label = np.zeros_like(TTest)\n",
    "for nc in range(len(classes)):\n",
    "    y_train_label[TTrain == classes[nc]] = nc\n",
    "    y_test_label[TTest == classes[nc]] = nc\n",
    "\n",
    "y_train_label = y_train_label.reshape(-1)\n",
    "y_test_label = y_test_label.reshape(-1)\n",
    "    \n",
    "#one-hot encode categorical classes\n",
    "y_train = to_categorical(y_train_label)\n",
    "y_test = to_categorical(y_test_label)"
   ]
  },
  {
   "cell_type": "code",
   "execution_count": 39,
   "metadata": {
    "scrolled": true
   },
   "outputs": [
    {
     "name": "stdout",
     "output_type": "stream",
     "text": [
      "Epoch 1/30\n",
      "47/47 [==============================] - 2s 18ms/step - loss: 0.7609\n",
      "Epoch 2/30\n",
      "47/47 [==============================] - 1s 18ms/step - loss: 0.0695\n",
      "Epoch 3/30\n",
      "47/47 [==============================] - 1s 17ms/step - loss: 0.0044\n",
      "Epoch 4/30\n",
      "47/47 [==============================] - 1s 18ms/step - loss: 0.0023\n",
      "Epoch 5/30\n",
      "47/47 [==============================] - 1s 18ms/step - loss: 0.0015\n",
      "Epoch 6/30\n",
      "47/47 [==============================] - 1s 18ms/step - loss: 0.0011\n",
      "Epoch 7/30\n",
      "47/47 [==============================] - 1s 17ms/step - loss: 9.3267e-04\n",
      "Epoch 8/30\n",
      "47/47 [==============================] - 1s 17ms/step - loss: 7.4363e-04\n",
      "Epoch 9/30\n",
      "47/47 [==============================] - 1s 16ms/step - loss: 6.4057e-04\n",
      "Epoch 10/30\n",
      "47/47 [==============================] - 1s 18ms/step - loss: 5.4970e-04\n",
      "Epoch 11/30\n",
      "47/47 [==============================] - 1s 18ms/step - loss: 4.8788e-04\n",
      "Epoch 12/30\n",
      "47/47 [==============================] - 1s 18ms/step - loss: 4.5015e-04\n",
      "Epoch 13/30\n",
      "47/47 [==============================] - 1s 17ms/step - loss: 3.9967e-04\n",
      "Epoch 14/30\n",
      "47/47 [==============================] - 1s 17ms/step - loss: 3.5976e-04\n",
      "Epoch 15/30\n",
      "47/47 [==============================] - 1s 18ms/step - loss: 3.3037e-04\n",
      "Epoch 16/30\n",
      "47/47 [==============================] - 1s 17ms/step - loss: 3.2214e-04\n",
      "Epoch 17/30\n",
      "47/47 [==============================] - 1s 17ms/step - loss: 3.0191e-04\n",
      "Epoch 18/30\n",
      "47/47 [==============================] - 1s 17ms/step - loss: 2.6637e-04\n",
      "Epoch 19/30\n",
      "47/47 [==============================] - 1s 15ms/step - loss: 2.5461e-04\n",
      "Epoch 20/30\n",
      "47/47 [==============================] - 1s 15ms/step - loss: 2.3607e-04\n",
      "Epoch 21/30\n",
      "47/47 [==============================] - 1s 15ms/step - loss: 2.2058e-04\n",
      "Epoch 22/30\n",
      "47/47 [==============================] - 1s 15ms/step - loss: 2.0752e-04\n",
      "Epoch 23/30\n",
      "47/47 [==============================] - 1s 15ms/step - loss: 1.9849e-04\n",
      "Epoch 24/30\n",
      "47/47 [==============================] - 1s 15ms/step - loss: 1.8441e-04\n",
      "Epoch 25/30\n",
      "47/47 [==============================] - 1s 16ms/step - loss: 1.7583e-04\n",
      "Epoch 26/30\n",
      "47/47 [==============================] - 1s 16ms/step - loss: 1.6754e-04\n",
      "Epoch 27/30\n",
      "47/47 [==============================] - 1s 16ms/step - loss: 1.6342e-04\n",
      "Epoch 28/30\n",
      "47/47 [==============================] - 1s 19ms/step - loss: 1.5486e-04\n",
      "Epoch 29/30\n",
      "47/47 [==============================] - 1s 18ms/step - loss: 1.4967e-04\n",
      "Epoch 30/30\n",
      "47/47 [==============================] - 1s 19ms/step - loss: 1.4139e-04\n"
     ]
    },
    {
     "data": {
      "text/plain": [
       "<tensorflow.python.keras.callbacks.History at 0x17e0611a9a0>"
      ]
     },
     "execution_count": 39,
     "metadata": {},
     "output_type": "execute_result"
    }
   ],
   "source": [
    "#create model\n",
    "model = Sequential()\n",
    "\n",
    "#add model layers\n",
    "model.add(Conv2D(filters=22, kernel_size=5, activation='relu', input_shape=(28,28,1)))\n",
    "model.add(MaxPool2D(pool_size=2, strides=2))\n",
    "model.add(Conv2D(filters=16, kernel_size=5, activation='relu', input_shape=(22,22,1)))\n",
    "model.add(Conv2D(filters=12, kernel_size=4, activation='relu', input_shape=(16,16,1)))\n",
    "model.add(MaxPool2D(pool_size=2, strides=2))\n",
    "model.add(Flatten())\n",
    "model.add(Dense(len(classes), activation='softmax'))\n",
    "\n",
    "sgd_optimizer = optimizers.SGD(momentum=0.9)\n",
    "model.compile(optimizer=sgd_optimizer, loss='categorical_crossentropy')\n",
    "model.fit(XTrain, y_train, epochs=30)"
   ]
  },
  {
   "cell_type": "code",
   "execution_count": 40,
   "metadata": {},
   "outputs": [
    {
     "name": "stdout",
     "output_type": "stream",
     "text": [
      "Accuracy = 0.9486666666666667\n"
     ]
    }
   ],
   "source": [
    "YPredict = np.argmax(model.predict(XTest),axis=1)\n",
    "# argmax reverses the one-hot encoding scheme\n",
    "\n",
    "accuracy = np.sum(YPredict == y_test_label)/len(y_test_label)\n",
    "print('Accuracy = {}'.format(accuracy))"
   ]
  },
  {
   "cell_type": "code",
   "execution_count": null,
   "metadata": {},
   "outputs": [],
   "source": []
  },
  {
   "cell_type": "code",
   "execution_count": null,
   "metadata": {},
   "outputs": [],
   "source": []
  }
 ],
 "metadata": {
  "kernelspec": {
   "display_name": "Python 3 (ipykernel)",
   "language": "python",
   "name": "python3"
  },
  "language_info": {
   "codemirror_mode": {
    "name": "ipython",
    "version": 3
   },
   "file_extension": ".py",
   "mimetype": "text/x-python",
   "name": "python",
   "nbconvert_exporter": "python",
   "pygments_lexer": "ipython3",
   "version": "3.9.1"
  }
 },
 "nbformat": 4,
 "nbformat_minor": 2
}
