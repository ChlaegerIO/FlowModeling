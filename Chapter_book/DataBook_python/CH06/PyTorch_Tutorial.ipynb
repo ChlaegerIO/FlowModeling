{
 "cells": [
  {
   "cell_type": "markdown",
   "id": "4f8f0b7e",
   "metadata": {},
   "source": [
    "# PyTorch Tutorial"
   ]
  },
  {
   "cell_type": "code",
   "execution_count": 1,
   "id": "36b0ac38",
   "metadata": {},
   "outputs": [],
   "source": [
    "# print progress, possibly faster than progress bar\n",
    "def print_progress(epoch, batch_id, accuracy, loss):\n",
    "    progress = '='* int((10. * batch_id / len(train_data)))\n",
    "    progress += '>'\n",
    "    if batch_id == 1:\n",
    "        print('Train Epoche {}: {}% [{}]\\t accuracy: {:.6f}, loss: {:.6f}'.format(\n",
    "            epoch, 100. * batch_id / len(train_data),progress, accuracy, loss.item()), end='')\n",
    "    else:\n",
    "        print('\\rTrain Epoche {}: {}% [{}]\\t accuracy: {:.6f}, loss: {:.6f}'.format(\n",
    "            epoch, 100. * batch_id / len(train_data),progress, accuracy, loss.item()), end='', flush = True)"
   ]
  },
  {
   "cell_type": "markdown",
   "id": "7f332b95",
   "metadata": {},
   "source": [
    "### Progress bar"
   ]
  },
  {
   "cell_type": "code",
   "execution_count": 2,
   "id": "c83753ba",
   "metadata": {},
   "outputs": [
    {
     "name": "stderr",
     "output_type": "stream",
     "text": [
      "Testing odd number 9: 100%|███████████████████████████████████| 10/10 [00:05<00:00,  1.97carrots/s, divisors=[1, 3, 9]]\n"
     ]
    }
   ],
   "source": [
    "from tqdm import trange\n",
    "from time import sleep\n",
    "\n",
    "def get_divisors(n):\n",
    "    divisors = []\n",
    "    for m in range(1, n+1):\n",
    "        if n % m == 0:\n",
    "            divisors.append(m)\n",
    "    return divisors\n",
    "\n",
    "iterations = 10\n",
    "with trange(iterations, unit=\"carrots\") as pbar:\n",
    "    for i in pbar:\n",
    "        sleep(0.5)\n",
    "        if i % 2:\n",
    "            pbar.set_description(f\"Testing odd number {i}\")\n",
    "        else:\n",
    "            pbar.set_description(f\"Testing even number {i}\")\n",
    "        pbar.set_postfix(divisors=get_divisors(i))"
   ]
  },
  {
   "cell_type": "markdown",
   "id": "4cf27e75",
   "metadata": {},
   "source": [
    "### First network"
   ]
  },
  {
   "cell_type": "code",
   "execution_count": 5,
   "id": "8163b958",
   "metadata": {},
   "outputs": [
    {
     "name": "stdout",
     "output_type": "stream",
     "text": [
      "tensor([[1.9733, 1.6265, 2.4631],\n",
      "        [1.7833, 0.7271, 0.1025],\n",
      "        [0.8165, 1.9885, 2.2756],\n",
      "        [0.1511, 1.4171, 0.6514],\n",
      "        [1.5482, 2.5004, 0.0784]])\n"
     ]
    },
    {
     "ename": "FileNotFoundError",
     "evalue": "[WinError 3] The system cannot find the path specified: 'catdog/train/'",
     "output_type": "error",
     "traceback": [
      "\u001b[1;31m---------------------------------------------------------------------------\u001b[0m",
      "\u001b[1;31mFileNotFoundError\u001b[0m                         Traceback (most recent call last)",
      "\u001b[1;32m~\\AppData\\Local\\Temp/ipykernel_20048/1410374020.py\u001b[0m in \u001b[0;36m<module>\u001b[1;34m\u001b[0m\n\u001b[0;32m     38\u001b[0m \u001b[0mtrain_data\u001b[0m \u001b[1;33m=\u001b[0m \u001b[1;33m[\u001b[0m\u001b[1;33m]\u001b[0m\u001b[1;33m\u001b[0m\u001b[1;33m\u001b[0m\u001b[0m\n\u001b[0;32m     39\u001b[0m \u001b[0mtarget_label\u001b[0m \u001b[1;33m=\u001b[0m \u001b[1;33m[\u001b[0m\u001b[1;33m]\u001b[0m\u001b[1;33m\u001b[0m\u001b[1;33m\u001b[0m\u001b[0m\n\u001b[1;32m---> 40\u001b[1;33m \u001b[1;32mfor\u001b[0m \u001b[0mf\u001b[0m \u001b[1;32min\u001b[0m \u001b[0mlistdir\u001b[0m\u001b[1;33m(\u001b[0m\u001b[1;34m'catdog/train/'\u001b[0m\u001b[1;33m)\u001b[0m\u001b[1;33m:\u001b[0m\u001b[1;33m\u001b[0m\u001b[1;33m\u001b[0m\u001b[0m\n\u001b[0m\u001b[0;32m     41\u001b[0m     \u001b[0mimg\u001b[0m \u001b[1;33m=\u001b[0m \u001b[0mImage\u001b[0m\u001b[1;33m.\u001b[0m\u001b[0mopen\u001b[0m\u001b[1;33m(\u001b[0m\u001b[1;34m'catdog/train/'\u001b[0m \u001b[1;33m+\u001b[0m \u001b[0mf\u001b[0m\u001b[1;33m)\u001b[0m\u001b[1;33m\u001b[0m\u001b[1;33m\u001b[0m\u001b[0m\n\u001b[0;32m     42\u001b[0m     \u001b[0mimg_tensor\u001b[0m \u001b[1;33m=\u001b[0m \u001b[0mtransforms\u001b[0m\u001b[1;33m(\u001b[0m\u001b[0mimg\u001b[0m\u001b[1;33m)\u001b[0m\u001b[1;33m\u001b[0m\u001b[1;33m\u001b[0m\u001b[0m\n",
      "\u001b[1;31mFileNotFoundError\u001b[0m: [WinError 3] The system cannot find the path specified: 'catdog/train/'"
     ]
    }
   ],
   "source": [
    "import torch\n",
    "import torch.nn as nn\n",
    "import torch.nn.functional as F\n",
    "from torch.autograd import Variable\n",
    "from torchvision import datasets, transforms\n",
    "import torch.optim as optim\n",
    "import numpy as np\n",
    "from scipy import io\n",
    "import os\n",
    "\n",
    "# Tutorial: https://www.youtube.com/watch?v=GBzojftwfGQ&list=PLNmsVeXQZj7rx55Mai21reZtd_8m-qe27&index=5&ab_channel=TheMorpheusTutorials\n",
    "# 1. Tensor\n",
    "x = torch.Tensor(5,3)   # numpy arrays werden durch Tensoren ersetzt\n",
    "x[:,:] = 1\n",
    "y = torch.randn(5,3)    # random tenseor\n",
    "#print(y)\n",
    "xy = torch.add(x,y)\n",
    "print(xy)\n",
    "\n",
    "# 2. Für Grafik Karte\n",
    "#if torch.cuda.is_available():\n",
    "#    x = x.cuda()       # RuntimeError: CUDA error: all CUDA-capable devices are busy or unavailable \n",
    "#    y = y.cude()\n",
    "#print(x+y)\n",
    "\n",
    "# 3. Daten laden \n",
    "kwargs = {}\n",
    "train_data = torch.utils.data.DataLoader(datasets.MNIST('data_figures_nn', train=True, download=True, \n",
    "                                                    transform=transforms.Compose([transforms.ToTensor(), transforms.Normalize((0.1307,),(0.3082,))])),\n",
    "                                    batch_size=64, shuffle=True, **kwargs)\n",
    "# Bilder laden und verarbeiten\n",
    "from PIL import Image\n",
    "from torchvision import transforms\n",
    "from os import listdir\n",
    "normalize = transforms.Normalize(mean=[0.485,0.456,0.406], std=[0.229,0.224,0.225])    # normalize around mean with sigma (std)\n",
    "transform = transforms.Compose([transforms.Resize(256), transforms.CenterCrop(256), transforms.ToTensor(), normalize])\n",
    "train_data_list = []\n",
    "train_data = []\n",
    "target_label = []\n",
    "for f in listdir('catdog/train/'):        # choose your datasource\n",
    "    img = Image.open('catdog/train/' + f)\n",
    "    img_tensor = transforms(img)\n",
    "    img_tensor.unsqueeze_(0)   # save directly in img_tensor with _ at the end (1,3,256,256)\n",
    "    # label\n",
    "    isCat = 1 if 'cat' in f else 0\n",
    "    isDog = 1 if 'dog' in f else 0\n",
    "    target = [isCat, isDog]\n",
    "    target_label.append(target)\n",
    "    if len(train_data_list) >= 64:\n",
    "        train_data.append(torch.stack(train_data_list), target_label)\n",
    "        train_data_list = []\n",
    "        break\n",
    "\n",
    "\n"
   ]
  },
  {
   "cell_type": "code",
   "execution_count": 6,
   "id": "591cf2d9",
   "metadata": {},
   "outputs": [
    {
     "name": "stdout",
     "output_type": "stream",
     "text": [
      "MyNet(\n",
      "  (lin1): Linear(in_features=10, out_features=10, bias=True)\n",
      "  (lin2): Linear(in_features=10, out_features=10, bias=True)\n",
      ")\n"
     ]
    }
   ],
   "source": [
    "# 4. Erste eigene Neuronale Netzwerk\n",
    "class MyNet(nn.Module): # Vererbungslehre\n",
    "    def __init__(self):              # initialize network\n",
    "        super(MyNet,self).__init__()\n",
    "        self.lin1 = nn.Linear(10,10)\n",
    "        self.lin2 = nn.Linear(10,10)\n",
    "    \n",
    "    def forward(self, x):            # forward pass function\n",
    "        x = F.relu(self.lin1(x))\n",
    "        x = self.lin2(x)\n",
    "        return x\n",
    "\n",
    "    def num_flat_features(self,x):\n",
    "        size = x.size() [1:]         # ohne batch dimension\n",
    "        num = 1\n",
    "        for i in size:\n",
    "            num *= i\n",
    "        return num\n",
    "    \n",
    "net = MyNet()\n",
    "#net = net.cuda()\n",
    "print(net)"
   ]
  },
  {
   "cell_type": "code",
   "execution_count": 7,
   "id": "e629a5ac",
   "metadata": {},
   "outputs": [
    {
     "name": "stdout",
     "output_type": "stream",
     "text": [
      "tensor(0.5861, grad_fn=<MseLossBackward0>)\n",
      "tensor(0.5043, grad_fn=<MseLossBackward0>)\n",
      "tensor(0.4419, grad_fn=<MseLossBackward0>)\n",
      "tensor(0.3914, grad_fn=<MseLossBackward0>)\n",
      "tensor(0.3489, grad_fn=<MseLossBackward0>)\n",
      "tensor(0.3118, grad_fn=<MseLossBackward0>)\n",
      "tensor(0.2787, grad_fn=<MseLossBackward0>)\n",
      "tensor(0.2487, grad_fn=<MseLossBackward0>)\n",
      "tensor(0.2213, grad_fn=<MseLossBackward0>)\n",
      "tensor(0.1973, grad_fn=<MseLossBackward0>)\n",
      "tensor(0.1764, grad_fn=<MseLossBackward0>)\n",
      "tensor(0.1567, grad_fn=<MseLossBackward0>)\n",
      "tensor(0.1383, grad_fn=<MseLossBackward0>)\n",
      "tensor(0.1214, grad_fn=<MseLossBackward0>)\n",
      "tensor(0.1058, grad_fn=<MseLossBackward0>)\n",
      "tensor(0.0917, grad_fn=<MseLossBackward0>)\n",
      "tensor(0.0790, grad_fn=<MseLossBackward0>)\n",
      "tensor(0.0678, grad_fn=<MseLossBackward0>)\n",
      "tensor(0.0578, grad_fn=<MseLossBackward0>)\n",
      "tensor(0.0492, grad_fn=<MseLossBackward0>)\n",
      "tensor(0.0416, grad_fn=<MseLossBackward0>)\n",
      "tensor(0.0352, grad_fn=<MseLossBackward0>)\n",
      "tensor(0.0296, grad_fn=<MseLossBackward0>)\n",
      "tensor(0.0249, grad_fn=<MseLossBackward0>)\n",
      "tensor(0.0209, grad_fn=<MseLossBackward0>)\n",
      "tensor(0.0175, grad_fn=<MseLossBackward0>)\n",
      "tensor(0.0147, grad_fn=<MseLossBackward0>)\n",
      "tensor(0.0123, grad_fn=<MseLossBackward0>)\n",
      "tensor(0.0103, grad_fn=<MseLossBackward0>)\n",
      "tensor(0.0086, grad_fn=<MseLossBackward0>)\n",
      "tensor(0.0072, grad_fn=<MseLossBackward0>)\n",
      "tensor(0.0061, grad_fn=<MseLossBackward0>)\n",
      "tensor(0.0051, grad_fn=<MseLossBackward0>)\n",
      "tensor(0.0043, grad_fn=<MseLossBackward0>)\n",
      "tensor(0.0036, grad_fn=<MseLossBackward0>)\n",
      "tensor(0.0030, grad_fn=<MseLossBackward0>)\n",
      "tensor(0.0025, grad_fn=<MseLossBackward0>)\n",
      "tensor(0.0021, grad_fn=<MseLossBackward0>)\n",
      "tensor(0.0018, grad_fn=<MseLossBackward0>)\n",
      "tensor(0.0015, grad_fn=<MseLossBackward0>)\n",
      "tensor(0.0012, grad_fn=<MseLossBackward0>)\n",
      "tensor(0.0010, grad_fn=<MseLossBackward0>)\n",
      "tensor(0.0009, grad_fn=<MseLossBackward0>)\n",
      "tensor(0.0007, grad_fn=<MseLossBackward0>)\n",
      "tensor(0.0006, grad_fn=<MseLossBackward0>)\n",
      "tensor(0.0005, grad_fn=<MseLossBackward0>)\n",
      "tensor(0.0004, grad_fn=<MseLossBackward0>)\n",
      "tensor(0.0004, grad_fn=<MseLossBackward0>)\n",
      "tensor(0.0003, grad_fn=<MseLossBackward0>)\n",
      "tensor(0.0003, grad_fn=<MseLossBackward0>)\n",
      "tensor(0.0002, grad_fn=<MseLossBackward0>)\n",
      "tensor(0.0002, grad_fn=<MseLossBackward0>)\n",
      "tensor(0.0002, grad_fn=<MseLossBackward0>)\n",
      "tensor(0.0001, grad_fn=<MseLossBackward0>)\n",
      "tensor(0.0001, grad_fn=<MseLossBackward0>)\n",
      "tensor(9.1770e-05, grad_fn=<MseLossBackward0>)\n",
      "tensor(7.7166e-05, grad_fn=<MseLossBackward0>)\n",
      "tensor(6.4889e-05, grad_fn=<MseLossBackward0>)\n",
      "tensor(5.4567e-05, grad_fn=<MseLossBackward0>)\n",
      "tensor(4.5887e-05, grad_fn=<MseLossBackward0>)\n",
      "tensor(3.8590e-05, grad_fn=<MseLossBackward0>)\n",
      "tensor(3.2454e-05, grad_fn=<MseLossBackward0>)\n",
      "tensor(2.7293e-05, grad_fn=<MseLossBackward0>)\n",
      "tensor(2.2954e-05, grad_fn=<MseLossBackward0>)\n",
      "tensor(1.9305e-05, grad_fn=<MseLossBackward0>)\n",
      "tensor(1.6237e-05, grad_fn=<MseLossBackward0>)\n",
      "tensor(1.3656e-05, grad_fn=<MseLossBackward0>)\n",
      "tensor(1.1485e-05, grad_fn=<MseLossBackward0>)\n",
      "tensor(9.6599e-06, grad_fn=<MseLossBackward0>)\n",
      "tensor(8.1247e-06, grad_fn=<MseLossBackward0>)\n",
      "tensor(6.8336e-06, grad_fn=<MseLossBackward0>)\n",
      "tensor(5.7478e-06, grad_fn=<MseLossBackward0>)\n",
      "tensor(4.8344e-06, grad_fn=<MseLossBackward0>)\n",
      "tensor(4.0662e-06, grad_fn=<MseLossBackward0>)\n",
      "tensor(3.4201e-06, grad_fn=<MseLossBackward0>)\n",
      "tensor(2.8768e-06, grad_fn=<MseLossBackward0>)\n",
      "tensor(2.4197e-06, grad_fn=<MseLossBackward0>)\n",
      "tensor(2.0352e-06, grad_fn=<MseLossBackward0>)\n",
      "tensor(1.7119e-06, grad_fn=<MseLossBackward0>)\n",
      "tensor(1.4399e-06, grad_fn=<MseLossBackward0>)\n",
      "tensor(1.2112e-06, grad_fn=<MseLossBackward0>)\n",
      "tensor(1.0188e-06, grad_fn=<MseLossBackward0>)\n",
      "tensor(8.5691e-07, grad_fn=<MseLossBackward0>)\n",
      "tensor(7.2079e-07, grad_fn=<MseLossBackward0>)\n",
      "tensor(6.0628e-07, grad_fn=<MseLossBackward0>)\n",
      "tensor(5.0997e-07, grad_fn=<MseLossBackward0>)\n",
      "tensor(4.2896e-07, grad_fn=<MseLossBackward0>)\n",
      "tensor(3.6081e-07, grad_fn=<MseLossBackward0>)\n",
      "tensor(3.0348e-07, grad_fn=<MseLossBackward0>)\n",
      "tensor(2.5528e-07, grad_fn=<MseLossBackward0>)\n",
      "tensor(2.1474e-07, grad_fn=<MseLossBackward0>)\n",
      "tensor(1.8063e-07, grad_fn=<MseLossBackward0>)\n",
      "tensor(1.5193e-07, grad_fn=<MseLossBackward0>)\n",
      "tensor(1.2780e-07, grad_fn=<MseLossBackward0>)\n",
      "tensor(1.0750e-07, grad_fn=<MseLossBackward0>)\n",
      "tensor(9.0434e-08, grad_fn=<MseLossBackward0>)\n",
      "tensor(7.6051e-08, grad_fn=<MseLossBackward0>)\n",
      "tensor(6.3985e-08, grad_fn=<MseLossBackward0>)\n",
      "tensor(5.3819e-08, grad_fn=<MseLossBackward0>)\n",
      "tensor(4.5267e-08, grad_fn=<MseLossBackward0>)\n",
      "tensor([ 1.0230, -0.0031, -0.0313, -0.0392,  1.1351, -0.0732, -0.0094,  0.0220,\n",
      "         1.0155,  1.0232], grad_fn=<AddBackward0>)\n",
      "tensor([[ 1.0002e+00,  8.5995e-05,  6.3628e-06,  2.8774e-05,  9.9954e-01,\n",
      "         -1.3781e-04, -1.5809e-04, -3.3108e-04,  9.9994e-01,  1.0002e+00],\n",
      "        [ 1.0002e+00,  8.5995e-05,  6.3628e-06,  2.8774e-05,  9.9954e-01,\n",
      "         -1.3781e-04, -1.5809e-04, -3.3108e-04,  9.9994e-01,  1.0002e+00],\n",
      "        [ 1.0002e+00,  8.5995e-05,  6.3628e-06,  2.8774e-05,  9.9954e-01,\n",
      "         -1.3781e-04, -1.5809e-04, -3.3108e-04,  9.9994e-01,  1.0002e+00],\n",
      "        [ 1.0002e+00,  8.5995e-05,  6.3628e-06,  2.8774e-05,  9.9954e-01,\n",
      "         -1.3781e-04, -1.5809e-04, -3.3108e-04,  9.9994e-01,  1.0002e+00],\n",
      "        [ 1.0002e+00,  8.5995e-05,  6.3628e-06,  2.8774e-05,  9.9954e-01,\n",
      "         -1.3781e-04, -1.5809e-04, -3.3108e-04,  9.9994e-01,  1.0002e+00],\n",
      "        [ 1.0002e+00,  8.5995e-05,  6.3628e-06,  2.8774e-05,  9.9954e-01,\n",
      "         -1.3781e-04, -1.5809e-04, -3.3108e-04,  9.9994e-01,  1.0002e+00],\n",
      "        [ 1.0002e+00,  8.5995e-05,  6.3628e-06,  2.8774e-05,  9.9954e-01,\n",
      "         -1.3781e-04, -1.5809e-04, -3.3108e-04,  9.9994e-01,  1.0002e+00],\n",
      "        [ 1.0002e+00,  8.5995e-05,  6.3628e-06,  2.8774e-05,  9.9954e-01,\n",
      "         -1.3781e-04, -1.5809e-04, -3.3108e-04,  9.9994e-01,  1.0002e+00],\n",
      "        [ 1.0002e+00,  8.5995e-05,  6.3628e-06,  2.8774e-05,  9.9954e-01,\n",
      "         -1.3781e-04, -1.5809e-04, -3.3108e-04,  9.9994e-01,  1.0002e+00],\n",
      "        [ 1.0002e+00,  8.5995e-05,  6.3628e-06,  2.8774e-05,  9.9954e-01,\n",
      "         -1.3781e-04, -1.5809e-04, -3.3108e-04,  9.9994e-01,  1.0002e+00]],\n",
      "       grad_fn=<AddmmBackward0>)\n",
      "MyNet(\n",
      "  (lin1): Linear(in_features=10, out_features=10, bias=True)\n",
      "  (lin2): Linear(in_features=10, out_features=10, bias=True)\n",
      ")\n"
     ]
    }
   ],
   "source": [
    "# 5. main training loop with input\n",
    "for i in range(100):\n",
    "    x = [0,1,1,1,0,1,1,1,0,0]\n",
    "    input = Variable(torch.Tensor([x for _ in range(10)]))    # 10x10 input variable, weil man ein batch von 10 daraus erstellt\n",
    "    out = net(input)                      # input durch Netz durchlaufen lassen\n",
    "\n",
    "    # labels what to expect\n",
    "    x = [1,0,0,0,1,0,0,0,1,1]\n",
    "    target = Variable(torch.Tensor([x for _ in range(10)]))\n",
    "    # loss\n",
    "    criterion = nn.MSELoss()              # Fehlerfunktionen: optimieren (softwmax, MSE, ...)\n",
    "    loss = criterion(out, target)\n",
    "    print(loss)\n",
    "\n",
    "    net.zero_grad()\n",
    "    loss.backward()\n",
    "    optimizer = optim.SGD(net.parameters(), lr=0.1,)            # optimizer ausprobieren SGD, Adam, ...\n",
    "    optimizer.step()\n",
    "    y\n",
    "    \n",
    "test_input = Variable(torch.Tensor([1,1,1,1,0,0,0,1,1,1]))\n",
    "test_out = net(test_input)\n",
    "print(test_out)  \n",
    "\n",
    "print(out)\n",
    "\n",
    "# 6. Speichern und Laden des Trainierten Netzes (pro Zyklus speichern, falls das Programm abstürtzt während dem trainieren)\n",
    "torch.save(net, 'data_figures_nn/MyNet.pt')\n",
    "if os.path.isfile('data_figures_nn/MyNet.pt'):\n",
    "    net_load = torch.load('data_figures_nn/MyNet.pt')\n",
    "\n",
    "print(net_load)\n"
   ]
  },
  {
   "cell_type": "markdown",
   "id": "94b82887",
   "metadata": {},
   "source": [
    "### MNIST example"
   ]
  },
  {
   "cell_type": "code",
   "execution_count": 4,
   "id": "47f6c10a",
   "metadata": {},
   "outputs": [
    {
     "name": "stdout",
     "output_type": "stream",
     "text": [
      "60000\n",
      "Dataset MNIST\n",
      "    Number of datapoints: 60000\n",
      "    Root location: data_figures_nn\n",
      "    Split: Train\n",
      "    StandardTransform\n",
      "Transform: Compose(\n",
      "               ToTensor()\n",
      "               Normalize(mean=(0.1307,), std=(0.3082,))\n",
      "           )\n"
     ]
    },
    {
     "name": "stderr",
     "output_type": "stream",
     "text": [
      "Epoch 1:   0%|▏                                           | 3/938 [00:00<00:39, 23.69batch/s, accuracy=14.1, loss=2.31]"
     ]
    },
    {
     "name": "stdout",
     "output_type": "stream",
     "text": [
      "relu2: torch.Size([64, 20, 4, 4])\n",
      "view: torch.Size([64, 320])\n",
      "relu2: torch.Size([64, 20, 4, 4])\n",
      "view: torch.Size([64, 320])\n",
      "relu2: torch.Size([64, 20, 4, 4])\n",
      "view: torch.Size([64, 320])\n",
      "relu2: torch.Size([64, 20, 4, 4])\n",
      "view: torch.Size([64, 320])\n",
      "relu2: torch.Size([64, 20, 4, 4])\n"
     ]
    },
    {
     "name": "stderr",
     "output_type": "stream",
     "text": [
      "Epoch 1:   0%|▏                                           | 3/938 [00:00<00:39, 23.69batch/s, accuracy=15.6, loss=2.29]"
     ]
    },
    {
     "name": "stdout",
     "output_type": "stream",
     "text": [
      "view: torch.Size([64, 320])\n",
      "relu2: torch.Size([64, 20, 4, 4])\n",
      "view: torch.Size([64, 320])\n"
     ]
    },
    {
     "name": "stderr",
     "output_type": "stream",
     "text": [
      "Epoch 1:   1%|▍                                          | 10/938 [00:00<00:31, 29.08batch/s, accuracy=26.6, loss=2.23]"
     ]
    },
    {
     "name": "stdout",
     "output_type": "stream",
     "text": [
      "relu2: torch.Size([64, 20, 4, 4])\n",
      "view: torch.Size([64, 320])\n",
      "relu2: torch.Size([64, 20, 4, 4])\n",
      "view: torch.Size([64, 320])\n",
      "relu2: torch.Size([64, 20, 4, 4])\n",
      "view: torch.Size([64, 320])\n",
      "relu2: torch.Size([64, 20, 4, 4])\n",
      "view: torch.Size([64, 320])\n",
      "relu2: torch.Size([64, 20, 4, 4])\n"
     ]
    },
    {
     "name": "stderr",
     "output_type": "stream",
     "text": [
      "Epoch 1:   1%|▍                                          | 10/938 [00:00<00:31, 29.08batch/s, accuracy=29.7, loss=2.09]"
     ]
    },
    {
     "name": "stdout",
     "output_type": "stream",
     "text": [
      "view: torch.Size([64, 320])\n",
      "relu2: torch.Size([64, 20, 4, 4])\n",
      "view: torch.Size([64, 320])\n",
      "relu2: torch.Size([64, 20, 4, 4])\n",
      "view: torch.Size([64, 320])\n"
     ]
    },
    {
     "name": "stderr",
     "output_type": "stream",
     "text": [
      "Epoch 1:   1%|▌                                          | 13/938 [00:00<00:31, 29.28batch/s, accuracy=45.3, loss=1.73]"
     ]
    },
    {
     "name": "stdout",
     "output_type": "stream",
     "text": [
      "relu2: torch.Size([64, 20, 4, 4])\n",
      "view: torch.Size([64, 320])\n",
      "relu2: torch.Size([64, 20, 4, 4])\n",
      "view: torch.Size([64, 320])\n",
      "relu2: torch.Size([64, 20, 4, 4])\n",
      "view: torch.Size([64, 320])\n"
     ]
    },
    {
     "name": "stderr",
     "output_type": "stream",
     "text": [
      "Epoch 1:   2%|▊                                          | 17/938 [00:00<00:31, 29.28batch/s, accuracy=46.9, loss=1.73]"
     ]
    },
    {
     "name": "stdout",
     "output_type": "stream",
     "text": [
      "relu2: torch.Size([64, 20, 4, 4])\n",
      "view: torch.Size([64, 320])\n",
      "relu2: torch.Size([64, 20, 4, 4])\n",
      "view: torch.Size([64, 320])\n",
      "relu2: torch.Size([64, 20, 4, 4])\n",
      "view: torch.Size([64, 320])\n",
      "relu2: torch.Size([64, 20, 4, 4])\n"
     ]
    },
    {
     "name": "stderr",
     "output_type": "stream",
     "text": [
      "Epoch 1:   2%|▉                                          | 21/938 [00:00<00:30, 29.67batch/s, accuracy=59.4, loss=1.36]"
     ]
    },
    {
     "name": "stdout",
     "output_type": "stream",
     "text": [
      "view: torch.Size([64, 320])\n",
      "relu2: torch.Size([64, 20, 4, 4])\n",
      "view: torch.Size([64, 320])\n",
      "relu2: torch.Size([64, 20, 4, 4])\n",
      "view: torch.Size([64, 320])\n"
     ]
    },
    {
     "name": "stderr",
     "output_type": "stream",
     "text": [
      "Epoch 1:   3%|█                                         | 25/938 [00:00<00:30, 29.92batch/s, accuracy=73.4, loss=0.747]"
     ]
    },
    {
     "name": "stdout",
     "output_type": "stream",
     "text": [
      "relu2: torch.Size([64, 20, 4, 4])\n",
      "view: torch.Size([64, 320])\n",
      "relu2: torch.Size([64, 20, 4, 4])\n",
      "view: torch.Size([64, 320])\n",
      "relu2: torch.Size([64, 20, 4, 4])\n",
      "view: torch.Size([64, 320])\n",
      "relu2: torch.Size([64, 20, 4, 4])\n"
     ]
    },
    {
     "name": "stderr",
     "output_type": "stream",
     "text": [
      "Epoch 1:   3%|█▏                                            | 25/938 [00:00<00:30, 29.92batch/s, accuracy=75, loss=1.1]"
     ]
    },
    {
     "name": "stdout",
     "output_type": "stream",
     "text": [
      "view: torch.Size([64, 320])\n",
      "relu2: torch.Size([64, 20, 4, 4])\n",
      "view: torch.Size([64, 320])\n",
      "relu2: torch.Size([64, 20, 4, 4])\n",
      "view: torch.Size([64, 320])\n"
     ]
    },
    {
     "name": "stderr",
     "output_type": "stream",
     "text": [
      "Epoch 1:   3%|█▎                                         | 28/938 [00:01<00:30, 29.48batch/s, accuracy=57.8, loss=1.23]"
     ]
    },
    {
     "name": "stdout",
     "output_type": "stream",
     "text": [
      "relu2: torch.Size([64, 20, 4, 4])\n",
      "view: torch.Size([64, 320])\n",
      "relu2: torch.Size([64, 20, 4, 4])\n",
      "view: torch.Size([64, 320])\n",
      "relu2: torch.Size([64, 20, 4, 4])\n",
      "view: torch.Size([64, 320])\n"
     ]
    },
    {
     "name": "stderr",
     "output_type": "stream",
     "text": [
      "Epoch 1:   3%|█▍                                        | 31/938 [00:01<00:30, 29.57batch/s, accuracy=71.9, loss=0.962]"
     ]
    },
    {
     "name": "stdout",
     "output_type": "stream",
     "text": [
      "relu2: torch.Size([64, 20, 4, 4])\n",
      "view: torch.Size([64, 320])\n",
      "relu2: torch.Size([64, 20, 4, 4])\n",
      "view: torch.Size([64, 320])\n",
      "relu2: torch.Size([64, 20, 4, 4])\n",
      "view: torch.Size([64, 320])\n",
      "relu2: torch.Size([64, 20, 4, 4])\n",
      "view: torch.Size([64, 320])\n"
     ]
    },
    {
     "name": "stderr",
     "output_type": "stream",
     "text": [
      "Epoch 1:   4%|█▌                                        | 35/938 [00:01<00:29, 30.20batch/s, accuracy=67.2, loss=0.981]"
     ]
    },
    {
     "name": "stdout",
     "output_type": "stream",
     "text": [
      "relu2: torch.Size([64, 20, 4, 4])\n",
      "view: torch.Size([64, 320])\n",
      "relu2: torch.Size([64, 20, 4, 4])\n",
      "view: torch.Size([64, 320])\n",
      "relu2: torch.Size([64, 20, 4, 4])\n"
     ]
    },
    {
     "name": "stderr",
     "output_type": "stream",
     "text": [
      "Epoch 1:   4%|█▋                                        | 39/938 [00:01<00:29, 30.44batch/s, accuracy=70.3, loss=0.898]"
     ]
    },
    {
     "name": "stdout",
     "output_type": "stream",
     "text": [
      "view: torch.Size([64, 320])\n",
      "relu2: torch.Size([64, 20, 4, 4])\n",
      "view: torch.Size([64, 320])\n",
      "relu2: torch.Size([64, 20, 4, 4])\n",
      "view: torch.Size([64, 320])\n",
      "relu2: torch.Size([64, 20, 4, 4])\n",
      "view: torch.Size([64, 320])\n",
      "relu2: torch.Size([64, 20, 4, 4])\n"
     ]
    },
    {
     "name": "stderr",
     "output_type": "stream",
     "text": [
      "Epoch 1:   5%|█▉                                        | 43/938 [00:01<00:29, 30.35batch/s, accuracy=73.4, loss=0.887]"
     ]
    },
    {
     "name": "stdout",
     "output_type": "stream",
     "text": [
      "view: torch.Size([64, 320])\n",
      "relu2: torch.Size([64, 20, 4, 4])\n",
      "view: torch.Size([64, 320])\n",
      "relu2: torch.Size([64, 20, 4, 4])\n"
     ]
    },
    {
     "name": "stderr",
     "output_type": "stream",
     "text": [
      "Epoch 1:   5%|██                                        | 47/938 [00:01<00:28, 30.90batch/s, accuracy=79.7, loss=0.562]"
     ]
    },
    {
     "name": "stdout",
     "output_type": "stream",
     "text": [
      "view: torch.Size([64, 320])\n",
      "relu2: torch.Size([64, 20, 4, 4])\n",
      "view: torch.Size([64, 320])\n",
      "relu2: torch.Size([64, 20, 4, 4])\n",
      "view: torch.Size([64, 320])\n",
      "relu2: torch.Size([64, 20, 4, 4])\n",
      "view: torch.Size([64, 320])\n",
      "relu2: torch.Size([64, 20, 4, 4])\n"
     ]
    },
    {
     "name": "stderr",
     "output_type": "stream",
     "text": [
      "Epoch 1:   5%|██▎                                          | 47/938 [00:01<00:28, 30.90batch/s, accuracy=75, loss=0.82]"
     ]
    },
    {
     "name": "stdout",
     "output_type": "stream",
     "text": [
      "view: torch.Size([64, 320])\n",
      "relu2: torch.Size([64, 20, 4, 4])\n",
      "view: torch.Size([64, 320])\n",
      "relu2: torch.Size([64, 20, 4, 4])\n"
     ]
    },
    {
     "name": "stderr",
     "output_type": "stream",
     "text": [
      "Epoch 1:   5%|██▎                                       | 51/938 [00:01<00:28, 30.81batch/s, accuracy=78.1, loss=0.672]"
     ]
    },
    {
     "name": "stdout",
     "output_type": "stream",
     "text": [
      "view: torch.Size([64, 320])\n",
      "relu2: torch.Size([64, 20, 4, 4])\n",
      "view: torch.Size([64, 320])\n",
      "relu2: torch.Size([64, 20, 4, 4])\n",
      "view: torch.Size([64, 320])\n",
      "relu2: torch.Size([64, 20, 4, 4])\n",
      "view: torch.Size([64, 320])\n",
      "relu2: torch.Size([64, 20, 4, 4])\n",
      "view: torch.Size([64, 320])\n"
     ]
    },
    {
     "name": "stderr",
     "output_type": "stream",
     "text": [
      "Epoch 1:   6%|██▍                                       | 55/938 [00:01<00:27, 31.57batch/s, accuracy=79.7, loss=0.638]"
     ]
    },
    {
     "name": "stdout",
     "output_type": "stream",
     "text": [
      "relu2: torch.Size([64, 20, 4, 4])\n",
      "view: torch.Size([64, 320])\n",
      "relu2: torch.Size([64, 20, 4, 4])\n"
     ]
    },
    {
     "name": "stderr",
     "output_type": "stream",
     "text": [
      "Epoch 1:   6%|██▋                                       | 59/938 [00:01<00:27, 31.50batch/s, accuracy=87.5, loss=0.361]"
     ]
    },
    {
     "name": "stdout",
     "output_type": "stream",
     "text": [
      "view: torch.Size([64, 320])\n",
      "relu2: torch.Size([64, 20, 4, 4])\n",
      "view: torch.Size([64, 320])\n",
      "relu2: torch.Size([64, 20, 4, 4])\n",
      "view: torch.Size([64, 320])\n",
      "relu2: torch.Size([64, 20, 4, 4])\n",
      "view: torch.Size([64, 320])\n",
      "relu2: torch.Size([64, 20, 4, 4])\n",
      "view: torch.Size([64, 320])\n",
      "relu2: torch.Size([64, 20, 4, 4])\n"
     ]
    },
    {
     "name": "stderr",
     "output_type": "stream",
     "text": [
      "Epoch 1:   6%|██▋                                       | 59/938 [00:02<00:27, 31.50batch/s, accuracy=76.6, loss=0.534]"
     ]
    },
    {
     "name": "stdout",
     "output_type": "stream",
     "text": [
      "view: torch.Size([64, 320])\n",
      "relu2: torch.Size([64, 20, 4, 4])\n"
     ]
    },
    {
     "name": "stderr",
     "output_type": "stream",
     "text": [
      "Epoch 1:   7%|██▊                                       | 63/938 [00:02<00:27, 31.30batch/s, accuracy=84.4, loss=0.472]"
     ]
    },
    {
     "name": "stdout",
     "output_type": "stream",
     "text": [
      "view: torch.Size([64, 320])\n",
      "relu2: torch.Size([64, 20, 4, 4])\n",
      "view: torch.Size([64, 320])\n",
      "relu2: torch.Size([64, 20, 4, 4])\n",
      "view: torch.Size([64, 320])\n",
      "relu2: torch.Size([64, 20, 4, 4])\n",
      "view: torch.Size([64, 320])\n",
      "relu2: torch.Size([64, 20, 4, 4])\n",
      "view: torch.Size([64, 320])\n",
      "relu2: torch.Size([64, 20, 4, 4])\n"
     ]
    },
    {
     "name": "stderr",
     "output_type": "stream",
     "text": [
      "Epoch 1:   7%|███                                       | 67/938 [00:02<00:28, 30.87batch/s, accuracy=81.2, loss=0.655]"
     ]
    },
    {
     "name": "stdout",
     "output_type": "stream",
     "text": [
      "view: torch.Size([64, 320])\n",
      "relu2: torch.Size([64, 20, 4, 4])\n"
     ]
    },
    {
     "name": "stderr",
     "output_type": "stream",
     "text": [
      "Epoch 1:   8%|███▏                                      | 71/938 [00:02<00:27, 31.01batch/s, accuracy=78.1, loss=0.558]"
     ]
    },
    {
     "name": "stdout",
     "output_type": "stream",
     "text": [
      "view: torch.Size([64, 320])\n",
      "relu2: torch.Size([64, 20, 4, 4])\n",
      "view: torch.Size([64, 320])\n",
      "relu2: torch.Size([64, 20, 4, 4])\n",
      "view: torch.Size([64, 320])\n",
      "relu2: torch.Size([64, 20, 4, 4])\n",
      "view: torch.Size([64, 320])\n",
      "relu2: torch.Size([64, 20, 4, 4])\n",
      "view: torch.Size([64, 320])\n",
      "relu2: torch.Size([64, 20, 4, 4])\n"
     ]
    },
    {
     "name": "stderr",
     "output_type": "stream",
     "text": [
      "Epoch 1:   8%|███▏                                      | 71/938 [00:02<00:27, 31.01batch/s, accuracy=82.8, loss=0.463]"
     ]
    },
    {
     "name": "stdout",
     "output_type": "stream",
     "text": [
      "view: torch.Size([64, 320])\n",
      "relu2: torch.Size([64, 20, 4, 4])\n"
     ]
    },
    {
     "name": "stderr",
     "output_type": "stream",
     "text": [
      "Epoch 1:   8%|███▎                                      | 75/938 [00:02<00:27, 30.89batch/s, accuracy=81.2, loss=0.519]"
     ]
    },
    {
     "name": "stdout",
     "output_type": "stream",
     "text": [
      "view: torch.Size([64, 320])\n",
      "relu2: torch.Size([64, 20, 4, 4])\n",
      "view: torch.Size([64, 320])\n",
      "relu2: torch.Size([64, 20, 4, 4])\n",
      "view: torch.Size([64, 320])\n",
      "relu2: torch.Size([64, 20, 4, 4])\n",
      "view: torch.Size([64, 320])\n",
      "relu2: torch.Size([64, 20, 4, 4])\n",
      "view: torch.Size([64, 320])\n",
      "relu2: torch.Size([64, 20, 4, 4])\n"
     ]
    },
    {
     "name": "stderr",
     "output_type": "stream",
     "text": [
      "Epoch 1:   8%|███▌                                      | 79/938 [00:02<00:27, 31.09batch/s, accuracy=81.2, loss=0.685]"
     ]
    },
    {
     "name": "stdout",
     "output_type": "stream",
     "text": [
      "view: torch.Size([64, 320])\n",
      "relu2: torch.Size([64, 20, 4, 4])\n"
     ]
    },
    {
     "name": "stderr",
     "output_type": "stream",
     "text": [
      "Epoch 1:   9%|███▋                                      | 83/938 [00:02<00:27, 31.24batch/s, accuracy=73.4, loss=0.855]"
     ]
    },
    {
     "name": "stdout",
     "output_type": "stream",
     "text": [
      "view: torch.Size([64, 320])\n",
      "relu2: torch.Size([64, 20, 4, 4])\n",
      "view: torch.Size([64, 320])\n",
      "relu2: torch.Size([64, 20, 4, 4])\n",
      "view: torch.Size([64, 320])\n",
      "relu2: torch.Size([64, 20, 4, 4])\n",
      "view: torch.Size([64, 320])\n",
      "relu2: torch.Size([64, 20, 4, 4])\n",
      "view: torch.Size([64, 320])\n",
      "relu2: torch.Size([64, 20, 4, 4])\n"
     ]
    },
    {
     "name": "stderr",
     "output_type": "stream",
     "text": [
      "Epoch 1:   9%|███▊                                       | 83/938 [00:02<00:27, 31.24batch/s, accuracy=78.1, loss=0.63]"
     ]
    },
    {
     "name": "stdout",
     "output_type": "stream",
     "text": [
      "view: torch.Size([64, 320])\n",
      "relu2: torch.Size([64, 20, 4, 4])\n"
     ]
    },
    {
     "name": "stderr",
     "output_type": "stream",
     "text": [
      "Epoch 1:   9%|███▉                                      | 87/938 [00:02<00:26, 31.63batch/s, accuracy=89.1, loss=0.401]"
     ]
    },
    {
     "name": "stdout",
     "output_type": "stream",
     "text": [
      "view: torch.Size([64, 320])\n",
      "relu2: torch.Size([64, 20, 4, 4])\n",
      "view: torch.Size([64, 320])\n",
      "relu2: torch.Size([64, 20, 4, 4])\n",
      "view: torch.Size([64, 320])\n",
      "relu2: torch.Size([64, 20, 4, 4])\n",
      "view: torch.Size([64, 320])\n",
      "relu2: torch.Size([64, 20, 4, 4])\n",
      "view: torch.Size([64, 320])\n",
      "relu2: torch.Size([64, 20, 4, 4])\n"
     ]
    },
    {
     "name": "stderr",
     "output_type": "stream",
     "text": [
      "Epoch 1:  10%|████▎                                       | 91/938 [00:02<00:26, 31.70batch/s, accuracy=84.4, loss=0.6]"
     ]
    },
    {
     "name": "stdout",
     "output_type": "stream",
     "text": [
      "view: torch.Size([64, 320])\n",
      "relu2: torch.Size([64, 20, 4, 4])\n"
     ]
    },
    {
     "name": "stderr",
     "output_type": "stream",
     "text": [
      "Epoch 1:  10%|████▎                                     | 95/938 [00:03<00:26, 31.29batch/s, accuracy=89.1, loss=0.435]"
     ]
    },
    {
     "name": "stdout",
     "output_type": "stream",
     "text": [
      "view: torch.Size([64, 320])\n",
      "relu2: torch.Size([64, 20, 4, 4])\n",
      "view: torch.Size([64, 320])\n",
      "relu2: torch.Size([64, 20, 4, 4])\n",
      "view: torch.Size([64, 320])\n",
      "relu2: torch.Size([64, 20, 4, 4])\n",
      "view: torch.Size([64, 320])\n",
      "relu2: torch.Size([64, 20, 4, 4])\n",
      "view: torch.Size([64, 320])\n",
      "relu2: torch.Size([64, 20, 4, 4])\n"
     ]
    },
    {
     "name": "stderr",
     "output_type": "stream",
     "text": [
      "Epoch 1:  10%|████▎                                     | 95/938 [00:03<00:26, 31.29batch/s, accuracy=87.5, loss=0.726]"
     ]
    },
    {
     "name": "stdout",
     "output_type": "stream",
     "text": [
      "view: torch.Size([64, 320])\n",
      "relu2: torch.Size([64, 20, 4, 4])\n",
      "view: torch.Size([64, 320])\n"
     ]
    },
    {
     "name": "stderr",
     "output_type": "stream",
     "text": [
      "Epoch 1:  11%|████▍                                     | 99/938 [00:03<00:26, 32.05batch/s, accuracy=92.2, loss=0.456]"
     ]
    },
    {
     "name": "stdout",
     "output_type": "stream",
     "text": [
      "relu2: torch.Size([64, 20, 4, 4])\n",
      "view: torch.Size([64, 320])\n",
      "relu2: torch.Size([64, 20, 4, 4])\n",
      "view: torch.Size([64, 320])\n",
      "relu2: torch.Size([64, 20, 4, 4])\n",
      "view: torch.Size([64, 320])\n",
      "relu2: torch.Size([64, 20, 4, 4])\n",
      "view: torch.Size([64, 320])\n",
      "relu2: torch.Size([64, 20, 4, 4])\n",
      "view: torch.Size([64, 320])\n"
     ]
    },
    {
     "name": "stderr",
     "output_type": "stream",
     "text": [
      "Epoch 1:  11%|████▌                                    | 103/938 [00:03<00:25, 32.37batch/s, accuracy=87.5, loss=0.422]"
     ]
    },
    {
     "name": "stdout",
     "output_type": "stream",
     "text": [
      "relu2: torch.Size([64, 20, 4, 4])\n",
      "view: torch.Size([64, 320])\n",
      "relu2: torch.Size([64, 20, 4, 4])\n"
     ]
    },
    {
     "name": "stderr",
     "output_type": "stream",
     "text": [
      "Epoch 1:  11%|████▋                                    | 107/938 [00:03<00:26, 31.88batch/s, accuracy=78.1, loss=0.575]"
     ]
    },
    {
     "name": "stdout",
     "output_type": "stream",
     "text": [
      "view: torch.Size([64, 320])\n",
      "relu2: torch.Size([64, 20, 4, 4])\n",
      "view: torch.Size([64, 320])\n",
      "relu2: torch.Size([64, 20, 4, 4])\n",
      "view: torch.Size([64, 320])\n",
      "relu2: torch.Size([64, 20, 4, 4])\n",
      "view: torch.Size([64, 320])\n",
      "relu2: torch.Size([64, 20, 4, 4])\n",
      "view: torch.Size([64, 320])\n",
      "relu2: torch.Size([64, 20, 4, 4])\n"
     ]
    },
    {
     "name": "stderr",
     "output_type": "stream",
     "text": [
      "Epoch 1:  11%|████▋                                    | 107/938 [00:03<00:26, 31.88batch/s, accuracy=70.3, loss=0.616]"
     ]
    },
    {
     "name": "stdout",
     "output_type": "stream",
     "text": [
      "view: torch.Size([64, 320])\n",
      "relu2: torch.Size([64, 20, 4, 4])\n"
     ]
    },
    {
     "name": "stderr",
     "output_type": "stream",
     "text": [
      "Epoch 1:  12%|█████                                    | 115/938 [00:03<00:25, 32.45batch/s, accuracy=79.7, loss=0.566]"
     ]
    },
    {
     "name": "stdout",
     "output_type": "stream",
     "text": [
      "view: torch.Size([64, 320])\n",
      "relu2: torch.Size([64, 20, 4, 4])\n",
      "view: torch.Size([64, 320])\n",
      "relu2: torch.Size([64, 20, 4, 4])\n",
      "view: torch.Size([64, 320])\n",
      "relu2: torch.Size([64, 20, 4, 4])\n",
      "view: torch.Size([64, 320])\n",
      "relu2: torch.Size([64, 20, 4, 4])\n",
      "view: torch.Size([64, 320])\n",
      "relu2: torch.Size([64, 20, 4, 4])\n",
      "view: torch.Size([64, 320])\n"
     ]
    },
    {
     "name": "stderr",
     "output_type": "stream",
     "text": [
      "Epoch 1:  12%|█████                                    | 115/938 [00:03<00:25, 32.45batch/s, accuracy=84.4, loss=0.355]"
     ]
    },
    {
     "name": "stdout",
     "output_type": "stream",
     "text": [
      "relu2: torch.Size([64, 20, 4, 4])\n",
      "view: torch.Size([64, 320])\n"
     ]
    },
    {
     "name": "stderr",
     "output_type": "stream",
     "text": [
      "Epoch 1:  13%|█████▏                                   | 119/938 [00:03<00:24, 32.98batch/s, accuracy=84.4, loss=0.549]"
     ]
    },
    {
     "name": "stdout",
     "output_type": "stream",
     "text": [
      "relu2: torch.Size([64, 20, 4, 4])\n",
      "view: torch.Size([64, 320])\n",
      "relu2: torch.Size([64, 20, 4, 4])\n",
      "view: torch.Size([64, 320])\n",
      "relu2: torch.Size([64, 20, 4, 4])\n",
      "view: torch.Size([64, 320])\n",
      "relu2: torch.Size([64, 20, 4, 4])\n",
      "view: torch.Size([64, 320])\n",
      "relu2: torch.Size([64, 20, 4, 4])\n",
      "view: torch.Size([64, 320])\n",
      "relu2: torch.Size([64, 20, 4, 4])\n"
     ]
    },
    {
     "name": "stderr",
     "output_type": "stream",
     "text": [
      "Epoch 1:  13%|█████▋                                     | 123/938 [00:03<00:24, 32.95batch/s, accuracy=75, loss=0.541]"
     ]
    },
    {
     "name": "stdout",
     "output_type": "stream",
     "text": [
      "view: torch.Size([64, 320])\n",
      "relu2: torch.Size([64, 20, 4, 4])\n"
     ]
    },
    {
     "name": "stderr",
     "output_type": "stream",
     "text": [
      "Epoch 1:  14%|█████▌                                   | 127/938 [00:04<00:25, 32.27batch/s, accuracy=82.8, loss=0.454]"
     ]
    },
    {
     "name": "stdout",
     "output_type": "stream",
     "text": [
      "view: torch.Size([64, 320])\n",
      "relu2: torch.Size([64, 20, 4, 4])\n",
      "view: torch.Size([64, 320])\n",
      "relu2: torch.Size([64, 20, 4, 4])\n",
      "view: torch.Size([64, 320])\n",
      "relu2: torch.Size([64, 20, 4, 4])\n",
      "view: torch.Size([64, 320])\n",
      "relu2: torch.Size([64, 20, 4, 4])\n",
      "view: torch.Size([64, 320])\n",
      "relu2: torch.Size([64, 20, 4, 4])\n"
     ]
    },
    {
     "name": "stderr",
     "output_type": "stream",
     "text": [
      "Epoch 1:  14%|█████▌                                   | 127/938 [00:04<00:25, 32.27batch/s, accuracy=81.2, loss=0.731]"
     ]
    },
    {
     "name": "stdout",
     "output_type": "stream",
     "text": [
      "view: torch.Size([64, 320])\n",
      "relu2: torch.Size([64, 20, 4, 4])"
     ]
    },
    {
     "name": "stderr",
     "output_type": "stream",
     "text": [
      "Epoch 1:  14%|█████▋                                   | 131/938 [00:04<00:25, 31.83batch/s, accuracy=87.5, loss=0.438]"
     ]
    },
    {
     "name": "stdout",
     "output_type": "stream",
     "text": [
      "\n",
      "view: torch.Size([64, 320])\n",
      "relu2: torch.Size([64, 20, 4, 4])\n",
      "view: torch.Size([64, 320])\n",
      "relu2: torch.Size([64, 20, 4, 4])\n",
      "view: torch.Size([64, 320])\n",
      "relu2: torch.Size([64, 20, 4, 4])\n",
      "view: torch.Size([64, 320])\n",
      "relu2: torch.Size([64, 20, 4, 4])\n",
      "view: torch.Size([64, 320])\n",
      "relu2: torch.Size([64, 20, 4, 4])\n"
     ]
    },
    {
     "name": "stderr",
     "output_type": "stream",
     "text": [
      "Epoch 1:  14%|█████▉                                   | 135/938 [00:04<00:25, 31.68batch/s, accuracy=79.7, loss=0.653]"
     ]
    },
    {
     "name": "stdout",
     "output_type": "stream",
     "text": [
      "view: torch.Size([64, 320])\n",
      "relu2: torch.Size([64, 20, 4, 4])\n"
     ]
    },
    {
     "name": "stderr",
     "output_type": "stream",
     "text": [
      "Epoch 1:  15%|██████                                   | 139/938 [00:04<00:25, 31.42batch/s, accuracy=76.6, loss=0.796]"
     ]
    },
    {
     "name": "stdout",
     "output_type": "stream",
     "text": [
      "view: torch.Size([64, 320])\n",
      "relu2: torch.Size([64, 20, 4, 4])\n",
      "view: torch.Size([64, 320])\n",
      "relu2: torch.Size([64, 20, 4, 4])\n",
      "view: torch.Size([64, 320])\n",
      "relu2: torch.Size([64, 20, 4, 4])\n",
      "view: torch.Size([64, 320])\n",
      "relu2: torch.Size([64, 20, 4, 4])\n",
      "view: torch.Size([64, 320])\n",
      "relu2: torch.Size([64, 20, 4, 4])\n",
      "view: torch.Size([64, 320])\n"
     ]
    },
    {
     "name": "stderr",
     "output_type": "stream",
     "text": [
      "Epoch 1:  15%|██████                                   | 139/938 [00:04<00:25, 31.42batch/s, accuracy=89.1, loss=0.324]"
     ]
    },
    {
     "name": "stdout",
     "output_type": "stream",
     "text": [
      "relu2: torch.Size([64, 20, 4, 4])\n",
      "view: "
     ]
    },
    {
     "name": "stderr",
     "output_type": "stream",
     "text": [
      "Epoch 1:  16%|██████▍                                  | 147/938 [00:04<00:24, 31.84batch/s, accuracy=85.9, loss=0.354]"
     ]
    },
    {
     "name": "stdout",
     "output_type": "stream",
     "text": [
      "torch.Size([64, 320])\n",
      "relu2: torch.Size([64, 20, 4, 4])\n",
      "view: torch.Size([64, 320])\n",
      "relu2: torch.Size([64, 20, 4, 4])\n",
      "view: torch.Size([64, 320])\n",
      "relu2: torch.Size([64, 20, 4, 4])\n",
      "view: torch.Size([64, 320])\n",
      "relu2: torch.Size([64, 20, 4, 4])\n",
      "view: torch.Size([64, 320])\n",
      "relu2: torch.Size([64, 20, 4, 4])\n",
      "view: torch.Size([64, 320])\n",
      "relu2: torch.Size([64, 20, 4, 4])\n"
     ]
    },
    {
     "name": "stderr",
     "output_type": "stream",
     "text": [
      "Epoch 1:  16%|██████▌                                  | 151/938 [00:04<00:24, 31.69batch/s, accuracy=89.1, loss=0.462]"
     ]
    },
    {
     "name": "stdout",
     "output_type": "stream",
     "text": [
      "view: torch.Size([64, 320])\n",
      "relu2: torch.Size([64, 20, 4, 4])\n",
      "view: torch.Size([64, 320])\n",
      "relu2: torch.Size([64, 20, 4, 4])\n",
      "view: torch.Size([64, 320])\n",
      "relu2: torch.Size([64, 20, 4, 4])\n",
      "view: torch.Size([64, 320])\n",
      "relu2: torch.Size([64, 20, 4, 4])\n",
      "view: torch.Size([64, 320])\n",
      "relu2: torch.Size([64, 20, 4, 4])\n",
      "view: torch.Size([64, 320])\n",
      "relu2: torch.Size([64, 20, 4, 4])\n",
      "view: torch.Size([64, 320])\n"
     ]
    },
    {
     "name": "stderr",
     "output_type": "stream",
     "text": [
      "Epoch 1:  17%|███████▍                                    | 159/938 [00:05<00:24, 31.78batch/s, accuracy=75, loss=1.08]"
     ]
    },
    {
     "name": "stdout",
     "output_type": "stream",
     "text": [
      "relu2: torch.Size([64, 20, 4, 4])\n",
      "view: torch.Size([64, 320])\n",
      "relu2: torch.Size([64, 20, 4, 4])\n",
      "view: torch.Size([64, 320])\n",
      "relu2: torch.Size([64, 20, 4, 4])\n",
      "view: torch.Size([64, 320])\n",
      "relu2: torch.Size([64, 20, 4, 4])\n",
      "view: torch.Size([64, 320])\n",
      "relu2: torch.Size([64, 20, 4, 4])\n",
      "view: torch.Size([64, 320])\n",
      "relu2: torch.Size([64, 20, 4, 4])\n",
      "view: torch.Size([64, 320])\n",
      "relu2: torch.Size([64, 20, 4, 4])\n"
     ]
    },
    {
     "name": "stderr",
     "output_type": "stream",
     "text": [
      "Epoch 1:  17%|███████                                  | 163/938 [00:05<00:25, 30.84batch/s, accuracy=90.6, loss=0.381]"
     ]
    },
    {
     "name": "stdout",
     "output_type": "stream",
     "text": [
      "view: torch.Size([64, 320])\n",
      "relu2: torch.Size([64, 20, 4, 4])\n",
      "view: torch.Size([64, 320])\n",
      "relu2: torch.Size([64, 20, 4, 4])\n",
      "view: torch.Size([64, 320])\n",
      "relu2: torch.Size([64, 20, 4, 4])\n",
      "view: torch.Size([64, 320])\n",
      "relu2: torch.Size([64, 20, 4, 4])\n",
      "view: torch.Size([64, 320])\n",
      "relu2: torch.Size([64, 20, 4, 4])\n",
      "view: torch.Size([64, 320])\n",
      "relu2: torch.Size([64, 20, 4, 4])\n"
     ]
    },
    {
     "name": "stderr",
     "output_type": "stream",
     "text": [
      "Epoch 1:  18%|███████▍                                 | 171/938 [00:05<00:24, 31.62batch/s, accuracy=85.9, loss=0.451]"
     ]
    },
    {
     "name": "stdout",
     "output_type": "stream",
     "text": [
      "view: torch.Size([64, 320])\n",
      "relu2: torch.Size([64, 20, 4, 4])\n",
      "view: torch.Size([64, 320])\n",
      "relu2: torch.Size([64, 20, 4, 4])\n",
      "view: torch.Size([64, 320])\n",
      "relu2: torch.Size([64, 20, 4, 4])\n",
      "view: torch.Size([64, 320])\n",
      "relu2: torch.Size([64, 20, 4, 4])\n",
      "view: torch.Size([64, 320])\n",
      "relu2: torch.Size([64, 20, 4, 4])\n",
      "view: torch.Size([64, 320])\n",
      "relu2: torch.Size([64, 20, 4, 4])\n",
      "view: torch.Size([64, 320])\n"
     ]
    },
    {
     "name": "stderr",
     "output_type": "stream",
     "text": [
      "Epoch 1:  19%|███████▊                                 | 179/938 [00:05<00:23, 31.80batch/s, accuracy=89.1, loss=0.272]"
     ]
    },
    {
     "name": "stdout",
     "output_type": "stream",
     "text": [
      "relu2: torch.Size([64, 20, 4, 4])\n",
      "view: torch.Size([64, 320])\n",
      "relu2: torch.Size([64, 20, 4, 4])\n",
      "view: torch.Size([64, 320])\n",
      "relu2: torch.Size([64, 20, 4, 4])\n",
      "view: torch.Size([64, 320])\n",
      "relu2: torch.Size([64, 20, 4, 4])\n",
      "view: torch.Size([64, 320])\n",
      "relu2: torch.Size([64, 20, 4, 4])\n",
      "view: torch.Size([64, 320])\n",
      "relu2: torch.Size([64, 20, 4, 4])\n",
      "view: torch.Size([64, 320])\n",
      "relu2: torch.Size([64, 20, 4, 4])\n"
     ]
    },
    {
     "name": "stderr",
     "output_type": "stream",
     "text": [
      "Epoch 1:  20%|███████▉                                 | 183/938 [00:05<00:24, 31.36batch/s, accuracy=81.2, loss=0.634]"
     ]
    },
    {
     "name": "stdout",
     "output_type": "stream",
     "text": [
      "view: torch.Size([64, 320])\n",
      "relu2: torch.Size([64, 20, 4, 4])\n",
      "view: torch.Size([64, 320])\n",
      "relu2: torch.Size([64, 20, 4, 4])\n",
      "view: torch.Size([64, 320])\n",
      "relu2: torch.Size([64, 20, 4, 4])\n",
      "view: torch.Size([64, 320])\n",
      "relu2: torch.Size([64, 20, 4, 4])\n",
      "view: torch.Size([64, 320])\n",
      "relu2: torch.Size([64, 20, 4, 4])\n",
      "view: torch.Size([64, 320])\n",
      "relu2: torch.Size([64, 20, 4, 4])\n"
     ]
    },
    {
     "name": "stderr",
     "output_type": "stream",
     "text": [
      "Epoch 1:  20%|████████▏                                | 187/938 [00:06<00:25, 29.95batch/s, accuracy=85.9, loss=0.404]"
     ]
    },
    {
     "name": "stdout",
     "output_type": "stream",
     "text": [
      "view: torch.Size([64, 320])\n",
      "relu2: torch.Size([64, 20, 4, 4])\n",
      "view: torch.Size([64, 320])\n",
      "relu2: torch.Size([64, 20, 4, 4])\n",
      "view: torch.Size([64, 320])\n",
      "relu2: torch.Size([64, 20, 4, 4])\n",
      "view: torch.Size([64, 320])\n",
      "relu2: torch.Size([64, 20, 4, 4])\n",
      "view: torch.Size([64, 320])\n"
     ]
    },
    {
     "name": "stderr",
     "output_type": "stream",
     "text": [
      "Epoch 1:  21%|████████▍                                | 194/938 [00:06<00:28, 25.84batch/s, accuracy=93.8, loss=0.164]"
     ]
    },
    {
     "name": "stdout",
     "output_type": "stream",
     "text": [
      "relu2: torch.Size([64, 20, 4, 4])\n",
      "view: torch.Size([64, 320])\n",
      "relu2: torch.Size([64, 20, 4, 4])\n",
      "view: torch.Size([64, 320])\n",
      "relu2: torch.Size([64, 20, 4, 4])\n",
      "view: torch.Size([64, 320])\n",
      "relu2: torch.Size([64, 20, 4, 4])\n",
      "view: torch.Size([64, 320])\n",
      "relu2: torch.Size([64, 20, 4, 4])\n"
     ]
    },
    {
     "name": "stderr",
     "output_type": "stream",
     "text": [
      "Epoch 1:  21%|████████▌                                | 197/938 [00:06<00:30, 24.05batch/s, accuracy=84.4, loss=0.425]"
     ]
    },
    {
     "name": "stdout",
     "output_type": "stream",
     "text": [
      "view: torch.Size([64, 320])\n",
      "relu2: torch.Size([64, 20, 4, 4])\n",
      "view: torch.Size([64, 320])\n",
      "relu2: torch.Size([64, 20, 4, 4])\n",
      "view: torch.Size([64, 320])\n",
      "relu2: torch.Size([64, 20, 4, 4])\n",
      "view: torch.Size([64, 320])\n",
      "relu2: torch.Size([64, 20, 4, 4])\n"
     ]
    },
    {
     "name": "stderr",
     "output_type": "stream",
     "text": [
      "Epoch 1:  21%|████████▋                                | 200/938 [00:06<00:31, 23.20batch/s, accuracy=89.1, loss=0.307]"
     ]
    },
    {
     "name": "stdout",
     "output_type": "stream",
     "text": [
      "view: torch.Size([64, 320])\n",
      "relu2: torch.Size([64, 20, 4, 4])\n",
      "view: torch.Size([64, 320])\n",
      "relu2: torch.Size([64, 20, 4, 4])\n",
      "view: torch.Size([64, 320])\n",
      "relu2: torch.Size([64, 20, 4, 4])\n",
      "view: torch.Size([64, 320])\n"
     ]
    },
    {
     "name": "stderr",
     "output_type": "stream",
     "text": [
      "Epoch 1:  22%|████████▊                                | 203/938 [00:06<00:34, 21.15batch/s, accuracy=92.2, loss=0.285]"
     ]
    },
    {
     "name": "stdout",
     "output_type": "stream",
     "text": [
      "relu2: torch.Size([64, 20, 4, 4])\n",
      "view: torch.Size([64, 320])\n",
      "relu2: torch.Size([64, 20, 4, 4])\n",
      "view: torch.Size([64, 320])\n",
      "relu2: torch.Size([64, 20, 4, 4])\n",
      "view: torch.Size([64, 320])\n",
      "relu2: torch.Size([64, 20, 4, 4])"
     ]
    },
    {
     "name": "stderr",
     "output_type": "stream",
     "text": [
      "Epoch 1:  22%|█████████▏                               | 209/938 [00:07<00:36, 19.95batch/s, accuracy=87.5, loss=0.333]"
     ]
    },
    {
     "name": "stdout",
     "output_type": "stream",
     "text": [
      "\n",
      "view: torch.Size([64, 320])\n",
      "relu2: torch.Size([64, 20, 4, 4])\n",
      "view: torch.Size([64, 320])\n",
      "relu2: torch.Size([64, 20, 4, 4])\n",
      "view: torch.Size([64, 320])\n",
      "relu2: torch.Size([64, 20, 4, 4])\n",
      "view: torch.Size([64, 320])\n"
     ]
    },
    {
     "name": "stderr",
     "output_type": "stream",
     "text": [
      "Epoch 1:  23%|█████████▎                               | 212/938 [00:07<00:36, 19.63batch/s, accuracy=95.3, loss=0.239]"
     ]
    },
    {
     "name": "stdout",
     "output_type": "stream",
     "text": [
      "relu2: torch.Size([64, 20, 4, 4])\n",
      "view: torch.Size([64, 320])\n",
      "relu2: torch.Size([64, 20, 4, 4])\n",
      "view: torch.Size([64, 320])\n",
      "relu2: torch.Size([64, 20, 4, 4])\n",
      "view: torch.Size([64, 320])\n",
      "relu2: torch.Size([64, 20, 4, 4])\n",
      "view: torch.Size([64, 320])\n"
     ]
    },
    {
     "name": "stderr",
     "output_type": "stream",
     "text": [
      "Epoch 1:  23%|█████████▍                               | 215/938 [00:07<00:36, 19.60batch/s, accuracy=95.3, loss=0.153]"
     ]
    },
    {
     "name": "stdout",
     "output_type": "stream",
     "text": [
      "relu2: torch.Size([64, 20, 4, 4])\n",
      "view: torch.Size([64, 320])\n",
      "relu2: torch.Size([64, 20, 4, 4])\n",
      "view: torch.Size([64, 320])\n",
      "relu2: torch.Size([64, 20, 4, 4])\n",
      "view: torch.Size([64, 320])\n",
      "relu2: torch.Size([64, 20, 4, 4])\n",
      "view: torch.Size([64, 320])\n"
     ]
    },
    {
     "name": "stderr",
     "output_type": "stream",
     "text": [
      "Epoch 1:  24%|█████████▋                               | 221/938 [00:07<00:35, 19.94batch/s, accuracy=85.9, loss=0.445]"
     ]
    },
    {
     "name": "stdout",
     "output_type": "stream",
     "text": [
      "relu2: torch.Size([64, 20, 4, 4])\n",
      "view: torch.Size([64, 320])\n",
      "relu2: torch.Size([64, 20, 4, 4])\n",
      "view: torch.Size([64, 320])\n",
      "relu2: torch.Size([64, 20, 4, 4])\n",
      "view: torch.Size([64, 320])\n",
      "relu2: torch.Size([64, 20, 4, 4])\n",
      "view: torch.Size([64, 320])\n",
      "relu2: torch.Size([64, 20, 4, 4])\n"
     ]
    },
    {
     "name": "stderr",
     "output_type": "stream",
     "text": [
      "Epoch 1:  24%|█████████▊                               | 224/938 [00:07<00:36, 19.66batch/s, accuracy=92.2, loss=0.368]"
     ]
    },
    {
     "name": "stdout",
     "output_type": "stream",
     "text": [
      "view: torch.Size([64, 320])\n",
      "relu2: torch.Size([64, 20, 4, 4])\n",
      "view: torch.Size([64, 320])\n",
      "relu2: torch.Size([64, 20, 4, 4])\n",
      "view: torch.Size([64, 320])\n",
      "relu2: torch.Size([64, 20, 4, 4])\n",
      "view: torch.Size([64, 320])\n",
      "relu2: torch.Size([64, 20, 4, 4])\n"
     ]
    },
    {
     "name": "stderr",
     "output_type": "stream",
     "text": [
      "Epoch 1:  24%|██████████                               | 229/938 [00:08<00:36, 19.41batch/s, accuracy=90.6, loss=0.368]"
     ]
    },
    {
     "name": "stdout",
     "output_type": "stream",
     "text": [
      "view: torch.Size([64, 320])\n",
      "relu2: torch.Size([64, 20, 4, 4])\n",
      "view: torch.Size([64, 320])\n",
      "relu2: torch.Size([64, 20, 4, 4])\n",
      "view: torch.Size([64, 320])\n",
      "relu2: torch.Size([64, 20, 4, 4])\n",
      "view: torch.Size([64, 320])\n"
     ]
    },
    {
     "name": "stderr",
     "output_type": "stream",
     "text": [
      "Epoch 1:  25%|██████████▏                              | 233/938 [00:08<00:36, 19.17batch/s, accuracy=92.2, loss=0.284]"
     ]
    },
    {
     "name": "stdout",
     "output_type": "stream",
     "text": [
      "relu2: torch.Size([64, 20, 4, 4])\n",
      "view: torch.Size([64, 320])\n",
      "relu2: torch.Size([64, 20, 4, 4])\n",
      "view: torch.Size([64, 320])\n",
      "relu2: torch.Size([64, 20, 4, 4])\n",
      "view: torch.Size([64, 320])\n",
      "relu2: torch.Size([64, 20, 4, 4])\n",
      "view: torch.Size([64, 320])\n"
     ]
    },
    {
     "name": "stderr",
     "output_type": "stream",
     "text": [
      "Epoch 1:  25%|██████████▎                              | 237/938 [00:08<00:36, 19.00batch/s, accuracy=93.8, loss=0.198]"
     ]
    },
    {
     "name": "stdout",
     "output_type": "stream",
     "text": [
      "relu2: torch.Size([64, 20, 4, 4])\n",
      "view: torch.Size([64, 320])\n",
      "relu2: torch.Size([64, 20, 4, 4])\n",
      "view: torch.Size([64, 320])\n",
      "relu2: torch.Size([64, 20, 4, 4])\n",
      "view: torch.Size([64, 320])\n",
      "relu2: torch.Size([64, 20, 4, 4])\n",
      "view: torch.Size([64, 320])\n"
     ]
    },
    {
     "name": "stderr",
     "output_type": "stream",
     "text": [
      "Epoch 1:  26%|██████████▌                              | 241/938 [00:08<00:36, 19.34batch/s, accuracy=96.9, loss=0.141]"
     ]
    },
    {
     "name": "stdout",
     "output_type": "stream",
     "text": [
      "relu2: torch.Size([64, 20, 4, 4])\n",
      "view: torch.Size([64, 320])\n",
      "relu2: torch.Size([64, 20, 4, 4])\n",
      "view: torch.Size([64, 320])\n",
      "relu2: torch.Size([64, 20, 4, 4])\n",
      "view: torch.Size([64, 320])\n",
      "relu2: torch.Size([64, 20, 4, 4])\n",
      "view: torch.Size([64, 320])\n"
     ]
    },
    {
     "name": "stderr",
     "output_type": "stream",
     "text": [
      "Epoch 1:  26%|██████████▌                              | 243/938 [00:08<00:35, 19.37batch/s, accuracy=89.1, loss=0.349]"
     ]
    },
    {
     "name": "stdout",
     "output_type": "stream",
     "text": [
      "relu2: torch.Size([64, 20, 4, 4])\n",
      "view: torch.Size([64, 320])\n",
      "relu2: torch.Size([64, 20, 4, 4])\n",
      "view: torch.Size([64, 320])\n",
      "relu2: torch.Size([64, 20, 4, 4])\n",
      "view: torch.Size([64, 320])\n",
      "relu2: torch.Size([64, 20, 4, 4])\n",
      "view: torch.Size([64, 320])\n",
      "relu2: torch.Size([64, 20, 4, 4])\n"
     ]
    },
    {
     "name": "stderr",
     "output_type": "stream",
     "text": [
      "Epoch 1:  26%|██████████▊                              | 248/938 [00:09<00:35, 19.51batch/s, accuracy=87.5, loss=0.392]"
     ]
    },
    {
     "name": "stdout",
     "output_type": "stream",
     "text": [
      "view: torch.Size([64, 320])\n",
      "relu2: torch.Size([64, 20, 4, 4])\n",
      "view: torch.Size([64, 320])\n",
      "relu2: torch.Size([64, 20, 4, 4])\n",
      "view: torch.Size([64, 320])\n",
      "relu2: torch.Size([64, 20, 4, 4])\n",
      "view: torch.Size([64, 320])\n"
     ]
    },
    {
     "name": "stderr",
     "output_type": "stream",
     "text": [
      "Epoch 1:  27%|██████████▉                              | 251/938 [00:09<00:34, 19.65batch/s, accuracy=93.8, loss=0.224]"
     ]
    },
    {
     "name": "stdout",
     "output_type": "stream",
     "text": [
      "relu2: torch.Size([64, 20, 4, 4])\n",
      "view: torch.Size([64, 320])\n",
      "relu2: torch.Size([64, 20, 4, 4])\n",
      "view: torch.Size([64, 320])\n",
      "relu2: torch.Size([64, 20, 4, 4])\n",
      "view: torch.Size([64, 320])\n",
      "relu2: torch.Size([64, 20, 4, 4])\n",
      "view: torch.Size([64, 320])\n"
     ]
    },
    {
     "name": "stderr",
     "output_type": "stream",
     "text": [
      "Epoch 1:  27%|███████████▍                              | 256/938 [00:09<00:34, 19.65batch/s, accuracy=85.9, loss=0.45]"
     ]
    },
    {
     "name": "stdout",
     "output_type": "stream",
     "text": [
      "relu2: torch.Size([64, 20, 4, 4])\n",
      "view: torch.Size([64, 320])\n",
      "relu2: torch.Size([64, 20, 4, 4])\n",
      "view: torch.Size([64, 320])\n",
      "relu2: torch.Size([64, 20, 4, 4])\n",
      "view: torch.Size([64, 320])\n",
      "relu2: torch.Size([64, 20, 4, 4])\n",
      "view: torch.Size([64, 320])\n"
     ]
    },
    {
     "name": "stderr",
     "output_type": "stream",
     "text": [
      "Epoch 1:  28%|███████████▎                             | 260/938 [00:09<00:34, 19.64batch/s, accuracy=81.2, loss=0.661]"
     ]
    },
    {
     "name": "stdout",
     "output_type": "stream",
     "text": [
      "relu2: torch.Size([64, 20, 4, 4])\n",
      "view: torch.Size([64, 320])\n",
      "relu2: torch.Size([64, 20, 4, 4])\n",
      "view: torch.Size([64, 320])\n",
      "relu2: torch.Size([64, 20, 4, 4])\n",
      "view: torch.Size([64, 320])\n",
      "relu2: torch.Size([64, 20, 4, 4])\n",
      "view: torch.Size([64, 320])\n"
     ]
    },
    {
     "name": "stderr",
     "output_type": "stream",
     "text": [
      "Epoch 1:  28%|███████████▌                             | 264/938 [00:09<00:34, 19.45batch/s, accuracy=90.6, loss=0.365]"
     ]
    },
    {
     "name": "stdout",
     "output_type": "stream",
     "text": [
      "relu2: torch.Size([64, 20, 4, 4])\n",
      "view: torch.Size([64, 320])\n",
      "relu2: torch.Size([64, 20, 4, 4])\n",
      "view: torch.Size([64, 320])\n",
      "relu2: torch.Size([64, 20, 4, 4])\n",
      "view: torch.Size([64, 320])\n",
      "relu2: torch.Size([64, 20, 4, 4])\n",
      "view: torch.Size([64, 320])\n"
     ]
    },
    {
     "name": "stderr",
     "output_type": "stream",
     "text": [
      "Epoch 1:  29%|███████████▋                             | 268/938 [00:10<00:34, 19.59batch/s, accuracy=85.9, loss=0.341]"
     ]
    },
    {
     "name": "stdout",
     "output_type": "stream",
     "text": [
      "relu2: torch.Size([64, 20, 4, 4])\n",
      "view: torch.Size([64, 320])\n",
      "relu2: torch.Size([64, 20, 4, 4])\n",
      "view: torch.Size([64, 320])\n",
      "relu2: torch.Size([64, 20, 4, 4])\n",
      "view: torch.Size([64, 320])\n",
      "relu2: torch.Size([64, 20, 4, 4])\n",
      "view: torch.Size([64, 320])\n"
     ]
    },
    {
     "name": "stderr",
     "output_type": "stream",
     "text": [
      "Epoch 1:  29%|███████████▉                             | 273/938 [00:10<00:34, 19.24batch/s, accuracy=84.4, loss=0.439]"
     ]
    },
    {
     "name": "stdout",
     "output_type": "stream",
     "text": [
      "relu2: torch.Size([64, 20, 4, 4])\n",
      "view: torch.Size([64, 320])\n",
      "relu2: torch.Size([64, 20, 4, 4])\n",
      "view: torch.Size([64, 320])\n",
      "relu2: torch.Size([64, 20, 4, 4])\n",
      "view: torch.Size([64, 320])\n",
      "relu2: torch.Size([64, 20, 4, 4])\n",
      "view: torch.Size([64, 320])\n"
     ]
    },
    {
     "name": "stderr",
     "output_type": "stream",
     "text": [
      "Epoch 1:  30%|████████████                             | 277/938 [00:10<00:34, 19.05batch/s, accuracy=85.9, loss=0.606]"
     ]
    },
    {
     "name": "stdout",
     "output_type": "stream",
     "text": [
      "relu2: torch.Size([64, 20, 4, 4])\n",
      "view: torch.Size([64, 320])\n",
      "relu2: torch.Size([64, 20, 4, 4])\n",
      "view: torch.Size([64, 320])\n",
      "relu2: torch.Size([64, 20, 4, 4])\n",
      "view: torch.Size([64, 320])\n",
      "relu2: torch.Size([64, 20, 4, 4])\n",
      "view: torch.Size([64, 320])\n"
     ]
    },
    {
     "name": "stderr",
     "output_type": "stream",
     "text": [
      "Epoch 1:  30%|████████████▎                            | 281/938 [00:10<00:34, 18.89batch/s, accuracy=87.5, loss=0.462]"
     ]
    },
    {
     "name": "stdout",
     "output_type": "stream",
     "text": [
      "relu2: torch.Size([64, 20, 4, 4])\n",
      "view: torch.Size([64, 320])\n",
      "relu2: torch.Size([64, 20, 4, 4])\n",
      "view: torch.Size([64, 320])\n",
      "relu2: torch.Size([64, 20, 4, 4])\n",
      "view: torch.Size([64, 320])\n",
      "relu2: torch.Size([64, 20, 4, 4])\n",
      "view: torch.Size([64, 320])\n"
     ]
    },
    {
     "name": "stderr",
     "output_type": "stream",
     "text": [
      "Epoch 1:  30%|████████████▎                            | 283/938 [00:11<00:35, 18.39batch/s, accuracy=96.9, loss=0.254]"
     ]
    },
    {
     "name": "stdout",
     "output_type": "stream",
     "text": [
      "relu2: torch.Size([64, 20, 4, 4])\n",
      "view: torch.Size([64, 320])\n",
      "relu2: torch.Size([64, 20, 4, 4])\n",
      "view: torch.Size([64, 320])\n",
      "relu2: torch.Size([64, 20, 4, 4])\n",
      "view: torch.Size([64, 320])\n",
      "relu2: torch.Size([64, 20, 4, 4])\n",
      "view: torch.Size([64, 320])\n"
     ]
    },
    {
     "name": "stderr",
     "output_type": "stream",
     "text": [
      "Epoch 1:  31%|████████████▌                            | 287/938 [00:11<00:35, 18.22batch/s, accuracy=95.3, loss=0.145]"
     ]
    },
    {
     "name": "stdout",
     "output_type": "stream",
     "text": [
      "relu2: torch.Size([64, 20, 4, 4])\n",
      "view: torch.Size([64, 320])\n",
      "relu2: torch.Size([64, 20, 4, 4])\n",
      "view: torch.Size([64, 320])\n",
      "relu2: torch.Size([64, 20, 4, 4])\n",
      "view: torch.Size([64, 320])\n",
      "relu2: torch.Size([64, 20, 4, 4])\n"
     ]
    },
    {
     "name": "stderr",
     "output_type": "stream",
     "text": [
      "Epoch 1:  31%|████████████▋                            | 291/938 [00:11<00:36, 17.58batch/s, accuracy=85.9, loss=0.517]"
     ]
    },
    {
     "name": "stdout",
     "output_type": "stream",
     "text": [
      "view: torch.Size([64, 320])\n",
      "relu2: torch.Size([64, 20, 4, 4])\n",
      "view: torch.Size([64, 320])\n",
      "relu2: torch.Size([64, 20, 4, 4])\n",
      "view: torch.Size([64, 320])\n",
      "relu2: torch.Size([64, 20, 4, 4])\n",
      "view: torch.Size([64, 320])\n"
     ]
    },
    {
     "name": "stderr",
     "output_type": "stream",
     "text": [
      "Epoch 1:  32%|████████████▉                            | 296/938 [00:11<00:34, 18.68batch/s, accuracy=89.1, loss=0.307]"
     ]
    },
    {
     "name": "stdout",
     "output_type": "stream",
     "text": [
      "relu2: torch.Size([64, 20, 4, 4])\n",
      "view: torch.Size([64, 320])\n",
      "relu2: torch.Size([64, 20, 4, 4])\n",
      "view: torch.Size([64, 320])\n",
      "relu2: torch.Size([64, 20, 4, 4])\n",
      "view: torch.Size([64, 320])\n",
      "relu2: torch.Size([64, 20, 4, 4])\n",
      "view: torch.Size([64, 320])\n"
     ]
    },
    {
     "name": "stderr",
     "output_type": "stream",
     "text": [
      "Epoch 1:  32%|█████████████                            | 300/938 [00:11<00:34, 18.75batch/s, accuracy=89.1, loss=0.352]"
     ]
    },
    {
     "name": "stdout",
     "output_type": "stream",
     "text": [
      "relu2: torch.Size([64, 20, 4, 4])\n",
      "view: torch.Size([64, 320])\n",
      "relu2: torch.Size([64, 20, 4, 4])\n",
      "view: torch.Size([64, 320])\n",
      "relu2: torch.Size([64, 20, 4, 4])\n",
      "view: torch.Size([64, 320])\n",
      "relu2: torch.Size([64, 20, 4, 4])\n",
      "view: torch.Size([64, 320])\n"
     ]
    },
    {
     "name": "stderr",
     "output_type": "stream",
     "text": [
      "Epoch 1:  32%|█████████████▏                           | 302/938 [00:12<00:34, 18.21batch/s, accuracy=92.2, loss=0.239]"
     ]
    },
    {
     "name": "stdout",
     "output_type": "stream",
     "text": [
      "relu2: torch.Size([64, 20, 4, 4])\n",
      "view: torch.Size([64, 320])\n",
      "relu2: torch.Size([64, 20, 4, 4])\n",
      "view: torch.Size([64, 320])\n",
      "relu2: torch.Size([64, 20, 4, 4])\n",
      "view: torch.Size([64, 320])\n",
      "relu2: torch.Size([64, 20, 4, 4])\n",
      "view: torch.Size([64, 320])\n"
     ]
    },
    {
     "name": "stderr",
     "output_type": "stream",
     "text": [
      "Epoch 1:  33%|█████████████▍                           | 308/938 [00:12<00:33, 18.88batch/s, accuracy=89.1, loss=0.266]"
     ]
    },
    {
     "name": "stdout",
     "output_type": "stream",
     "text": [
      "relu2: torch.Size([64, 20, 4, 4])\n",
      "view: torch.Size([64, 320])\n",
      "relu2: torch.Size([64, 20, 4, 4])\n",
      "view: torch.Size([64, 320])\n",
      "relu2: torch.Size([64, 20, 4, 4])\n",
      "view: torch.Size([64, 320])\n",
      "relu2: torch.Size([64, 20, 4, 4])\n",
      "view: torch.Size([64, 320])\n"
     ]
    },
    {
     "name": "stderr",
     "output_type": "stream",
     "text": [
      "Epoch 1:  33%|█████████████▋                           | 312/938 [00:12<00:33, 18.90batch/s, accuracy=85.9, loss=0.453]"
     ]
    },
    {
     "name": "stdout",
     "output_type": "stream",
     "text": [
      "relu2: torch.Size([64, 20, 4, 4])\n",
      "view: torch.Size([64, 320])\n",
      "relu2: torch.Size([64, 20, 4, 4])\n",
      "view: torch.Size([64, 320])\n",
      "relu2: torch.Size([64, 20, 4, 4])\n",
      "view: torch.Size([64, 320])\n",
      "relu2: torch.Size([64, 20, 4, 4])\n",
      "view: torch.Size([64, 320])\n"
     ]
    },
    {
     "name": "stderr",
     "output_type": "stream",
     "text": [
      "Epoch 1:  34%|██████████████▏                           | 316/938 [00:12<00:33, 18.79batch/s, accuracy=93.8, loss=0.21]"
     ]
    },
    {
     "name": "stdout",
     "output_type": "stream",
     "text": [
      "relu2: torch.Size([64, 20, 4, 4])\n",
      "view: torch.Size([64, 320])\n",
      "relu2: torch.Size([64, 20, 4, 4])\n",
      "view: torch.Size([64, 320])\n",
      "relu2: torch.Size([64, 20, 4, 4])\n",
      "view: torch.Size([64, 320])\n",
      "relu2: torch.Size([64, 20, 4, 4])\n",
      "view: torch.Size([64, 320])\n"
     ]
    },
    {
     "name": "stderr",
     "output_type": "stream",
     "text": [
      "Epoch 1:  34%|█████████████▉                           | 318/938 [00:12<00:33, 18.62batch/s, accuracy=90.6, loss=0.238]"
     ]
    },
    {
     "name": "stdout",
     "output_type": "stream",
     "text": [
      "relu2: torch.Size([64, 20, 4, 4])\n",
      "view: torch.Size([64, 320])\n",
      "relu2: torch.Size([64, 20, 4, 4])\n",
      "view: torch.Size([64, 320])\n",
      "relu2: torch.Size([64, 20, 4, 4])\n",
      "view: torch.Size([64, 320])\n",
      "relu2: torch.Size([64, 20, 4, 4])\n",
      "view: torch.Size([64, 320])\n",
      "relu2: torch.Size([64, 20, 4, 4])"
     ]
    },
    {
     "name": "stderr",
     "output_type": "stream",
     "text": [
      "Epoch 1:  34%|██████████████                           | 323/938 [00:13<00:32, 18.82batch/s, accuracy=89.1, loss=0.313]"
     ]
    },
    {
     "name": "stdout",
     "output_type": "stream",
     "text": [
      "\n",
      "view: torch.Size([64, 320])\n",
      "relu2: torch.Size([64, 20, 4, 4])\n",
      "view: torch.Size([64, 320])\n",
      "relu2: torch.Size([64, 20, 4, 4])\n",
      "view: torch.Size([64, 320])\n",
      "relu2: torch.Size([64, 20, 4, 4])\n",
      "view: torch.Size([64, 320])\n"
     ]
    },
    {
     "name": "stderr",
     "output_type": "stream",
     "text": [
      "Epoch 1:  35%|██████████████▎                          | 327/938 [00:13<00:32, 18.81batch/s, accuracy=82.8, loss=0.449]"
     ]
    },
    {
     "name": "stdout",
     "output_type": "stream",
     "text": [
      "relu2: torch.Size([64, 20, 4, 4])\n",
      "view: torch.Size([64, 320])\n",
      "relu2: torch.Size([64, 20, 4, 4])\n",
      "view: torch.Size([64, 320])\n",
      "relu2: torch.Size([64, 20, 4, 4])\n",
      "view: torch.Size([64, 320])\n",
      "relu2: torch.Size([64, 20, 4, 4])\n",
      "view: torch.Size([64, 320])\n"
     ]
    },
    {
     "name": "stderr",
     "output_type": "stream",
     "text": [
      "Epoch 1:  35%|██████████████▍                          | 331/938 [00:13<00:31, 19.21batch/s, accuracy=92.2, loss=0.178]"
     ]
    },
    {
     "name": "stdout",
     "output_type": "stream",
     "text": [
      "relu2: torch.Size([64, 20, 4, 4])\n",
      "view: torch.Size([64, 320])\n",
      "relu2: torch.Size([64, 20, 4, 4])\n",
      "view: torch.Size([64, 320])\n",
      "relu2: torch.Size([64, 20, 4, 4])\n",
      "view: torch.Size([64, 320])\n",
      "relu2: torch.Size([64, 20, 4, 4])\n",
      "view: torch.Size([64, 320])\n"
     ]
    },
    {
     "name": "stderr",
     "output_type": "stream",
     "text": [
      "Epoch 1:  36%|██████████████▋                          | 335/938 [00:13<00:31, 18.93batch/s, accuracy=96.9, loss=0.148]"
     ]
    },
    {
     "name": "stdout",
     "output_type": "stream",
     "text": [
      "relu2: torch.Size([64, 20, 4, 4])\n",
      "view: torch.Size([64, 320])\n",
      "relu2: torch.Size([64, 20, 4, 4])\n",
      "view: torch.Size([64, 320])\n",
      "relu2: torch.Size([64, 20, 4, 4])\n",
      "view: torch.Size([64, 320])\n",
      "relu2: torch.Size([64, 20, 4, 4])\n",
      "view: torch.Size([64, 320])\n"
     ]
    },
    {
     "name": "stderr",
     "output_type": "stream",
     "text": [
      "Epoch 1:  36%|██████████████▊                          | 339/938 [00:14<00:33, 18.14batch/s, accuracy=87.5, loss=0.371]"
     ]
    },
    {
     "name": "stdout",
     "output_type": "stream",
     "text": [
      "relu2: torch.Size([64, 20, 4, 4])\n",
      "view: torch.Size([64, 320])\n",
      "relu2: torch.Size([64, 20, 4, 4])\n",
      "view: torch.Size([64, 320])\n",
      "relu2: torch.Size([64, 20, 4, 4])\n",
      "view: torch.Size([64, 320])\n",
      "relu2: torch.Size([64, 20, 4, 4])\n",
      "view: torch.Size([64, 320])\n"
     ]
    },
    {
     "name": "stderr",
     "output_type": "stream",
     "text": [
      "Epoch 1:  36%|██████████████▉                          | 342/938 [00:14<00:31, 18.98batch/s, accuracy=93.8, loss=0.394]"
     ]
    },
    {
     "name": "stdout",
     "output_type": "stream",
     "text": [
      "relu2: torch.Size([64, 20, 4, 4])\n",
      "view: torch.Size([64, 320])\n",
      "relu2: torch.Size([64, 20, 4, 4])\n",
      "view: torch.Size([64, 320])\n",
      "relu2: torch.Size([64, 20, 4, 4])\n",
      "view: torch.Size([64, 320])\n",
      "relu2: torch.Size([64, 20, 4, 4])\n",
      "view: torch.Size([64, 320])\n",
      "relu2: torch.Size([64, 20, 4, 4])\n"
     ]
    },
    {
     "name": "stderr",
     "output_type": "stream",
     "text": [
      "Epoch 1:  37%|███████████████▏                         | 348/938 [00:14<00:28, 20.44batch/s, accuracy=89.1, loss=0.223]"
     ]
    },
    {
     "name": "stdout",
     "output_type": "stream",
     "text": [
      "view: torch.Size([64, 320])\n",
      "relu2: torch.Size([64, 20, 4, 4])\n",
      "view: torch.Size([64, 320])\n",
      "relu2: torch.Size([64, 20, 4, 4])\n",
      "view: torch.Size([64, 320])\n",
      "relu2: torch.Size([64, 20, 4, 4])\n",
      "view: torch.Size([64, 320])\n",
      "relu2: torch.Size([64, 20, 4, 4])\n"
     ]
    },
    {
     "name": "stderr",
     "output_type": "stream",
     "text": [
      "Epoch 1:  37%|███████████████▎                         | 351/938 [00:14<00:29, 20.05batch/s, accuracy=90.6, loss=0.373]"
     ]
    },
    {
     "name": "stdout",
     "output_type": "stream",
     "text": [
      "view: torch.Size([64, 320])\n",
      "relu2: torch.Size([64, 20, 4, 4])\n",
      "view: torch.Size([64, 320])\n",
      "relu2: torch.Size([64, 20, 4, 4])\n",
      "view: torch.Size([64, 320])\n",
      "relu2: torch.Size([64, 20, 4, 4])\n",
      "view: torch.Size([64, 320])\n"
     ]
    },
    {
     "name": "stderr",
     "output_type": "stream",
     "text": [
      "Epoch 1:  38%|███████████████▍                         | 354/938 [00:14<00:29, 19.47batch/s, accuracy=89.1, loss=0.334]"
     ]
    },
    {
     "name": "stdout",
     "output_type": "stream",
     "text": [
      "relu2: torch.Size([64, 20, 4, 4])\n",
      "view: torch.Size([64, 320])\n",
      "relu2: torch.Size([64, 20, 4, 4])\n",
      "view: torch.Size([64, 320])\n",
      "relu2: torch.Size([64, 20, 4, 4])\n",
      "view: torch.Size([64, 320])\n",
      "relu2: torch.Size([64, 20, 4, 4])\n",
      "view: torch.Size([64, 320])\n"
     ]
    },
    {
     "name": "stderr",
     "output_type": "stream",
     "text": [
      "Epoch 1:  38%|███████████████▋                         | 358/938 [00:15<00:31, 18.28batch/s, accuracy=89.1, loss=0.337]"
     ]
    },
    {
     "name": "stdout",
     "output_type": "stream",
     "text": [
      "relu2: torch.Size([64, 20, 4, 4])\n",
      "view: torch.Size([64, 320])\n",
      "relu2: torch.Size([64, 20, 4, 4])\n",
      "view: torch.Size([64, 320])\n",
      "relu2: torch.Size([64, 20, 4, 4])\n",
      "view: torch.Size([64, 320])\n",
      "relu2: torch.Size([64, 20, 4, 4])\n",
      "view: torch.Size([64, 320])\n"
     ]
    },
    {
     "name": "stderr",
     "output_type": "stream",
     "text": [
      "Epoch 1:  39%|███████████████▊                         | 363/938 [00:15<00:30, 18.88batch/s, accuracy=96.9, loss=0.156]"
     ]
    },
    {
     "name": "stdout",
     "output_type": "stream",
     "text": [
      "relu2: torch.Size([64, 20, 4, 4])\n",
      "view: torch.Size([64, 320])\n",
      "relu2: torch.Size([64, 20, 4, 4])\n",
      "view: torch.Size([64, 320])\n",
      "relu2: torch.Size([64, 20, 4, 4])\n",
      "view: torch.Size([64, 320])\n",
      "relu2: torch.Size([64, 20, 4, 4])\n",
      "view: torch.Size([64, 320])\n"
     ]
    },
    {
     "name": "stderr",
     "output_type": "stream",
     "text": [
      "Epoch 1:  39%|████████████████                         | 367/938 [00:15<00:30, 18.63batch/s, accuracy=90.6, loss=0.427]"
     ]
    },
    {
     "name": "stdout",
     "output_type": "stream",
     "text": [
      "relu2: torch.Size([64, 20, 4, 4])\n",
      "view: torch.Size([64, 320])\n",
      "relu2: torch.Size([64, 20, 4, 4])\n",
      "view: torch.Size([64, 320])\n",
      "relu2: torch.Size([64, 20, 4, 4])\n",
      "view: torch.Size([64, 320])\n",
      "relu2: torch.Size([64, 20, 4, 4])\n",
      "view: torch.Size([64, 320])\n"
     ]
    },
    {
     "name": "stderr",
     "output_type": "stream",
     "text": [
      "Epoch 1:  40%|████████████████▏                        | 371/938 [00:15<00:29, 18.93batch/s, accuracy=90.6, loss=0.229]"
     ]
    },
    {
     "name": "stdout",
     "output_type": "stream",
     "text": [
      "relu2: torch.Size([64, 20, 4, 4])\n",
      "view: torch.Size([64, 320])\n",
      "relu2: torch.Size([64, 20, 4, 4])\n",
      "view: torch.Size([64, 320])\n",
      "relu2: torch.Size([64, 20, 4, 4])\n",
      "view: torch.Size([64, 320])\n",
      "relu2: torch.Size([64, 20, 4, 4])\n",
      "view: torch.Size([64, 320])\n"
     ]
    },
    {
     "name": "stderr",
     "output_type": "stream",
     "text": [
      "Epoch 1:  40%|████████████████▍                        | 375/938 [00:15<00:32, 17.54batch/s, accuracy=92.2, loss=0.232]"
     ]
    },
    {
     "name": "stdout",
     "output_type": "stream",
     "text": [
      "relu2: torch.Size([64, 20, 4, 4])\n",
      "view: torch.Size([64, 320])\n",
      "relu2: torch.Size([64, 20, 4, 4])\n",
      "view: torch.Size([64, 320])\n",
      "relu2: torch.Size([64, 20, 4, 4])\n",
      "view: torch.Size([64, 320])\n",
      "relu2: torch.Size([64, 20, 4, 4])\n",
      "view: torch.Size([64, 320])\n"
     ]
    },
    {
     "name": "stderr",
     "output_type": "stream",
     "text": [
      "Epoch 1:  40%|████████████████▌                        | 379/938 [00:16<00:31, 17.62batch/s, accuracy=92.2, loss=0.283]"
     ]
    },
    {
     "name": "stdout",
     "output_type": "stream",
     "text": [
      "relu2: torch.Size([64, 20, 4, 4])\n",
      "view: torch.Size([64, 320])\n",
      "relu2: torch.Size([64, 20, 4, 4])\n",
      "view: torch.Size([64, 320])\n",
      "relu2: torch.Size([64, 20, 4, 4])\n",
      "view: torch.Size([64, 320])\n",
      "relu2: torch.Size([64, 20, 4, 4])\n"
     ]
    },
    {
     "name": "stderr",
     "output_type": "stream",
     "text": [
      "Epoch 1:  41%|████████████████▋                        | 381/938 [00:16<00:32, 17.26batch/s, accuracy=89.1, loss=0.406]"
     ]
    },
    {
     "name": "stdout",
     "output_type": "stream",
     "text": [
      "view: torch.Size([64, 320])\n",
      "relu2: torch.Size([64, 20, 4, 4])\n",
      "view: torch.Size([64, 320])\n",
      "relu2: torch.Size([64, 20, 4, 4])\n",
      "view: torch.Size([64, 320])\n"
     ]
    },
    {
     "name": "stderr",
     "output_type": "stream",
     "text": [
      "Epoch 1:  41%|████████████████▊                        | 385/938 [00:16<00:36, 15.10batch/s, accuracy=93.8, loss=0.198]"
     ]
    },
    {
     "name": "stdout",
     "output_type": "stream",
     "text": [
      "relu2: torch.Size([64, 20, 4, 4])\n",
      "view: torch.Size([64, 320])\n",
      "relu2: torch.Size([64, 20, 4, 4])\n",
      "view: torch.Size([64, 320])\n",
      "relu2: torch.Size([64, 20, 4, 4])\n",
      "view: torch.Size([64, 320])\n"
     ]
    },
    {
     "name": "stderr",
     "output_type": "stream",
     "text": [
      "Epoch 1:  41%|████████████████▉                        | 387/938 [00:16<00:36, 14.93batch/s, accuracy=93.8, loss=0.272]"
     ]
    },
    {
     "name": "stdout",
     "output_type": "stream",
     "text": [
      "relu2: torch.Size([64, 20, 4, 4])\n",
      "view: torch.Size([64, 320])\n",
      "relu2: torch.Size([64, 20, 4, 4])\n",
      "view: torch.Size([64, 320])\n",
      "relu2: torch.Size([64, 20, 4, 4])\n",
      "view: torch.Size([64, 320])\n"
     ]
    },
    {
     "name": "stderr",
     "output_type": "stream",
     "text": [
      "Epoch 1:  42%|█████████████████                        | 391/938 [00:16<00:35, 15.45batch/s, accuracy=95.3, loss=0.155]"
     ]
    },
    {
     "name": "stdout",
     "output_type": "stream",
     "text": [
      "relu2: torch.Size([64, 20, 4, 4])\n",
      "view: torch.Size([64, 320])\n",
      "relu2: torch.Size([64, 20, 4, 4])\n",
      "view: torch.Size([64, 320])\n",
      "relu2: torch.Size([64, 20, 4, 4])\n",
      "view: torch.Size([64, 320])\n",
      "relu2: torch.Size([64, 20, 4, 4])"
     ]
    },
    {
     "name": "stderr",
     "output_type": "stream",
     "text": [
      "Epoch 1:  42%|█████████████████▏                       | 393/938 [00:17<00:35, 15.40batch/s, accuracy=89.1, loss=0.337]"
     ]
    },
    {
     "name": "stdout",
     "output_type": "stream",
     "text": [
      "\n",
      "view: torch.Size([64, 320])\n",
      "relu2: torch.Size([64, 20, 4, 4])\n",
      "view: torch.Size([64, 320])\n",
      "relu2: torch.Size([64, 20, 4, 4])\n",
      "view: torch.Size([64, 320])\n",
      "relu2: torch.Size([64, 20, 4, 4])\n",
      "view: torch.Size([64, 320])\n"
     ]
    },
    {
     "name": "stderr",
     "output_type": "stream",
     "text": [
      "Epoch 1:  42%|█████████████████▎                       | 397/938 [00:17<00:32, 16.55batch/s, accuracy=90.6, loss=0.288]"
     ]
    },
    {
     "name": "stdout",
     "output_type": "stream",
     "text": [
      "relu2: torch.Size([64, 20, 4, 4])\n",
      "view: torch.Size([64, 320])\n",
      "relu2: torch.Size([64, 20, 4, 4])\n",
      "view: torch.Size([64, 320])\n",
      "relu2: torch.Size([64, 20, 4, 4])\n",
      "view: torch.Size([64, 320])\n",
      "relu2: torch.Size([64, 20, 4, 4])\n",
      "view: torch.Size([64, 320])\n"
     ]
    },
    {
     "name": "stderr",
     "output_type": "stream",
     "text": [
      "Epoch 1:  43%|█████████████████▌                       | 401/938 [00:17<00:31, 17.09batch/s, accuracy=92.2, loss=0.333]"
     ]
    },
    {
     "name": "stdout",
     "output_type": "stream",
     "text": [
      "relu2: torch.Size([64, 20, 4, 4])\n",
      "view: torch.Size([64, 320])\n",
      "relu2: torch.Size([64, 20, 4, 4])\n",
      "view: torch.Size([64, 320])\n",
      "relu2: torch.Size([64, 20, 4, 4])\n",
      "view: torch.Size([64, 320])\n",
      "relu2: torch.Size([64, 20, 4, 4])\n",
      "view: torch.Size([64, 320])\n"
     ]
    },
    {
     "name": "stderr",
     "output_type": "stream",
     "text": [
      "Epoch 1:  43%|█████████████████▋                       | 405/938 [00:17<00:31, 17.03batch/s, accuracy=95.3, loss=0.366]"
     ]
    },
    {
     "name": "stdout",
     "output_type": "stream",
     "text": [
      "relu2: torch.Size([64, 20, 4, 4])\n",
      "view: torch.Size([64, 320])\n",
      "relu2: torch.Size([64, 20, 4, 4])\n",
      "view: torch.Size([64, 320])\n",
      "relu2: torch.Size([64, 20, 4, 4])\n",
      "view: torch.Size([64, 320])\n",
      "relu2: torch.Size([64, 20, 4, 4])\n",
      "view: torch.Size([64, 320])\n"
     ]
    },
    {
     "name": "stderr",
     "output_type": "stream",
     "text": [
      "Epoch 1:  44%|█████████████████▉                       | 409/938 [00:18<00:30, 17.09batch/s, accuracy=95.3, loss=0.148]"
     ]
    },
    {
     "name": "stdout",
     "output_type": "stream",
     "text": [
      "relu2: torch.Size([64, 20, 4, 4])\n",
      "view: torch.Size([64, 320])\n",
      "relu2: torch.Size([64, 20, 4, 4])\n",
      "view: torch.Size([64, 320])\n",
      "relu2: torch.Size([64, 20, 4, 4])\n",
      "view: torch.Size([64, 320])\n",
      "relu2: torch.Size([64, 20, 4, 4])\n",
      "view: torch.Size([64, 320])\n"
     ]
    },
    {
     "name": "stderr",
     "output_type": "stream",
     "text": [
      "Epoch 1:  44%|██████████████████▏                      | 415/938 [00:18<00:29, 18.01batch/s, accuracy=90.6, loss=0.376]"
     ]
    },
    {
     "name": "stdout",
     "output_type": "stream",
     "text": [
      "relu2: torch.Size([64, 20, 4, 4])\n",
      "view: torch.Size([64, 320])\n",
      "relu2: torch.Size([64, 20, 4, 4])\n",
      "view: torch.Size([64, 320])\n",
      "relu2: torch.Size([64, 20, 4, 4])\n",
      "view: torch.Size([64, 320])\n",
      "relu2: torch.Size([64, 20, 4, 4])\n",
      "view: torch.Size([64, 320])\n",
      "relu2: torch.Size([64, 20, 4, 4])\n"
     ]
    },
    {
     "name": "stderr",
     "output_type": "stream",
     "text": [
      "Epoch 1:  45%|██████████████████▎                      | 419/938 [00:18<00:28, 18.52batch/s, accuracy=93.8, loss=0.441]"
     ]
    },
    {
     "name": "stdout",
     "output_type": "stream",
     "text": [
      "view: torch.Size([64, 320])\n",
      "relu2: torch.Size([64, 20, 4, 4])\n",
      "view: torch.Size([64, 320])\n",
      "relu2: torch.Size([64, 20, 4, 4])\n",
      "view: torch.Size([64, 320])\n",
      "relu2: torch.Size([64, 20, 4, 4])\n",
      "view: torch.Size([64, 320])\n"
     ]
    },
    {
     "name": "stderr",
     "output_type": "stream",
     "text": [
      "Epoch 1:  45%|██████████████████▍                      | 421/938 [00:18<00:28, 18.13batch/s, accuracy=95.3, loss=0.157]"
     ]
    },
    {
     "name": "stdout",
     "output_type": "stream",
     "text": [
      "relu2: torch.Size([64, 20, 4, 4])\n",
      "view: torch.Size([64, 320])\n",
      "relu2: torch.Size([64, 20, 4, 4])\n",
      "view: torch.Size([64, 320])\n",
      "relu2: torch.Size([64, 20, 4, 4])\n",
      "view: torch.Size([64, 320])\n",
      "relu2: torch.Size([64, 20, 4, 4])\n",
      "view: torch.Size([64, 320])\n"
     ]
    },
    {
     "name": "stderr",
     "output_type": "stream",
     "text": [
      "Epoch 1:  45%|██████████████████▌                      | 425/938 [00:18<00:30, 16.64batch/s, accuracy=93.8, loss=0.224]"
     ]
    },
    {
     "name": "stdout",
     "output_type": "stream",
     "text": [
      "relu2: torch.Size([64, 20, 4, 4])\n",
      "view: torch.Size([64, 320])\n",
      "relu2: torch.Size([64, 20, 4, 4])\n",
      "view: torch.Size([64, 320])\n",
      "relu2: torch.Size([64, 20, 4, 4])\n",
      "view: torch.Size([64, 320])\n",
      "relu2: torch.Size([64, 20, 4, 4])\n"
     ]
    },
    {
     "name": "stderr",
     "output_type": "stream",
     "text": [
      "Epoch 1:  46%|██████████████████▊                      | 429/938 [00:19<00:29, 17.31batch/s, accuracy=82.8, loss=0.463]"
     ]
    },
    {
     "name": "stdout",
     "output_type": "stream",
     "text": [
      "view: torch.Size([64, 320])\n",
      "relu2: torch.Size([64, 20, 4, 4])\n",
      "view: torch.Size([64, 320])\n",
      "relu2: torch.Size([64, 20, 4, 4])\n",
      "view: torch.Size([64, 320])\n",
      "relu2: torch.Size([64, 20, 4, 4])\n",
      "view: torch.Size([64, 320])\n"
     ]
    },
    {
     "name": "stderr",
     "output_type": "stream",
     "text": [
      "Epoch 1:  46%|██████████████████▉                      | 433/938 [00:19<00:32, 15.73batch/s, accuracy=85.9, loss=0.428]"
     ]
    },
    {
     "name": "stdout",
     "output_type": "stream",
     "text": [
      "relu2: torch.Size([64, 20, 4, 4])\n",
      "view: torch.Size([64, 320])\n",
      "relu2: torch.Size([64, 20, 4, 4])\n",
      "view: torch.Size([64, 320])\n",
      "relu2: torch.Size([64, 20, 4, 4])\n",
      "view: torch.Size([64, 320])\n"
     ]
    },
    {
     "name": "stderr",
     "output_type": "stream",
     "text": [
      "Epoch 1:  46%|███████████████████                      | 435/938 [00:19<00:31, 16.01batch/s, accuracy=87.5, loss=0.623]"
     ]
    },
    {
     "name": "stdout",
     "output_type": "stream",
     "text": [
      "relu2: torch.Size([64, 20, 4, 4])\n",
      "view: torch.Size([64, 320])\n",
      "relu2: torch.Size([64, 20, 4, 4])\n",
      "view: torch.Size([64, 320])\n",
      "relu2: torch.Size([64, 20, 4, 4])\n",
      "view: torch.Size([64, 320])\n",
      "relu2: torch.Size([64, 20, 4, 4])\n",
      "view: torch.Size([64, 320])\n"
     ]
    },
    {
     "name": "stderr",
     "output_type": "stream",
     "text": [
      "Epoch 1:  47%|██████████████████▋                     | 439/938 [00:19<00:30, 16.16batch/s, accuracy=98.4, loss=0.0555]"
     ]
    },
    {
     "name": "stdout",
     "output_type": "stream",
     "text": [
      "relu2: torch.Size([64, 20, 4, 4])\n",
      "view: torch.Size([64, 320])\n",
      "relu2: torch.Size([64, 20, 4, 4])\n",
      "view: torch.Size([64, 320])\n",
      "relu2: torch.Size([64, 20, 4, 4])\n",
      "view: torch.Size([64, 320])\n",
      "relu2: torch.Size([64, 20, 4, 4])\n",
      "view: torch.Size([64, 320])\n"
     ]
    },
    {
     "name": "stderr",
     "output_type": "stream",
     "text": [
      "Epoch 1:  47%|███████████████████▎                     | 443/938 [00:20<00:30, 16.33batch/s, accuracy=90.6, loss=0.281]"
     ]
    },
    {
     "name": "stdout",
     "output_type": "stream",
     "text": [
      "relu2: torch.Size([64, 20, 4, 4])\n",
      "view: torch.Size([64, 320])\n",
      "relu2: torch.Size([64, 20, 4, 4])\n",
      "view: torch.Size([64, 320])\n",
      "relu2: torch.Size([64, 20, 4, 4])\n",
      "view: torch.Size([64, 320])\n",
      "relu2: torch.Size([64, 20, 4, 4])\n"
     ]
    },
    {
     "name": "stderr",
     "output_type": "stream",
     "text": [
      "Epoch 1:  48%|███████████████████▌                     | 447/938 [00:20<00:29, 16.73batch/s, accuracy=89.1, loss=0.324]"
     ]
    },
    {
     "name": "stdout",
     "output_type": "stream",
     "text": [
      "view: torch.Size([64, 320])\n",
      "relu2: torch.Size([64, 20, 4, 4])\n",
      "view: torch.Size([64, 320])\n",
      "relu2: torch.Size([64, 20, 4, 4])\n",
      "view: torch.Size([64, 320])\n",
      "relu2: torch.Size([64, 20, 4, 4])\n",
      "view: torch.Size([64, 320])\n"
     ]
    },
    {
     "name": "stderr",
     "output_type": "stream",
     "text": [
      "Epoch 1:  48%|███████████████████▋                     | 451/938 [00:20<00:28, 17.25batch/s, accuracy=95.3, loss=0.108]"
     ]
    },
    {
     "name": "stdout",
     "output_type": "stream",
     "text": [
      "relu2: torch.Size([64, 20, 4, 4])\n",
      "view: torch.Size([64, 320])\n",
      "relu2: torch.Size([64, 20, 4, 4])\n",
      "view: torch.Size([64, 320])\n",
      "relu2: torch.Size([64, 20, 4, 4])\n",
      "view: torch.Size([64, 320])\n",
      "relu2: torch.Size([64, 20, 4, 4])\n",
      "view: torch.Size([64, 320])\n"
     ]
    },
    {
     "name": "stderr",
     "output_type": "stream",
     "text": [
      "Epoch 1:  49%|███████████████████▉                     | 455/938 [00:20<00:27, 17.46batch/s, accuracy=89.1, loss=0.304]"
     ]
    },
    {
     "name": "stdout",
     "output_type": "stream",
     "text": [
      "relu2: torch.Size([64, 20, 4, 4])\n",
      "view: torch.Size([64, 320])\n",
      "relu2: torch.Size([64, 20, 4, 4])\n",
      "view: torch.Size([64, 320])\n",
      "relu2: torch.Size([64, 20, 4, 4])\n",
      "view: torch.Size([64, 320])\n",
      "relu2: torch.Size([64, 20, 4, 4])\n",
      "view: torch.Size([64, 320])\n"
     ]
    },
    {
     "name": "stderr",
     "output_type": "stream",
     "text": [
      "Epoch 1:  49%|████████████████████                     | 459/938 [00:20<00:26, 18.28batch/s, accuracy=82.8, loss=0.586]"
     ]
    },
    {
     "name": "stdout",
     "output_type": "stream",
     "text": [
      "relu2: torch.Size([64, 20, 4, 4])\n",
      "view: torch.Size([64, 320])\n",
      "relu2: torch.Size([64, 20, 4, 4])\n",
      "view: torch.Size([64, 320])\n",
      "relu2: torch.Size([64, 20, 4, 4])\n",
      "view: torch.Size([64, 320])\n",
      "relu2: torch.Size([64, 20, 4, 4])\n",
      "view: torch.Size([64, 320])\n"
     ]
    },
    {
     "name": "stderr",
     "output_type": "stream",
     "text": [
      "Epoch 1:  49%|████████████████████▏                    | 463/938 [00:21<00:25, 18.42batch/s, accuracy=90.6, loss=0.353]"
     ]
    },
    {
     "name": "stdout",
     "output_type": "stream",
     "text": [
      "relu2: torch.Size([64, 20, 4, 4])\n",
      "view: torch.Size([64, 320])\n",
      "relu2: torch.Size([64, 20, 4, 4])\n",
      "view: torch.Size([64, 320])\n",
      "relu2: torch.Size([64, 20, 4, 4])\n",
      "view: torch.Size([64, 320])\n",
      "relu2: torch.Size([64, 20, 4, 4])\n",
      "view: torch.Size([64, 320])\n"
     ]
    },
    {
     "name": "stderr",
     "output_type": "stream",
     "text": [
      "Epoch 1:  50%|████████████████████▍                    | 467/938 [00:21<00:25, 18.54batch/s, accuracy=93.8, loss=0.204]"
     ]
    },
    {
     "name": "stdout",
     "output_type": "stream",
     "text": [
      "relu2: torch.Size([64, 20, 4, 4])\n",
      "view: torch.Size([64, 320])\n",
      "relu2: torch.Size([64, 20, 4, 4])\n",
      "view: torch.Size([64, 320])\n",
      "relu2: torch.Size([64, 20, 4, 4])\n",
      "view: torch.Size([64, 320])\n",
      "relu2: torch.Size([64, 20, 4, 4])\n",
      "view: torch.Size([64, 320])\n"
     ]
    },
    {
     "name": "stderr",
     "output_type": "stream",
     "text": [
      "Epoch 1:  50%|████████████████████▌                    | 471/938 [00:21<00:24, 18.85batch/s, accuracy=90.6, loss=0.378]"
     ]
    },
    {
     "name": "stdout",
     "output_type": "stream",
     "text": [
      "relu2: torch.Size([64, 20, 4, 4])\n",
      "view: torch.Size([64, 320])\n",
      "relu2: torch.Size([64, 20, 4, 4])\n",
      "view: torch.Size([64, 320])\n",
      "relu2: torch.Size([64, 20, 4, 4])\n",
      "view: torch.Size([64, 320])\n",
      "relu2: torch.Size([64, 20, 4, 4])\n",
      "view: torch.Size([64, 320])\n"
     ]
    },
    {
     "name": "stderr",
     "output_type": "stream",
     "text": [
      "Epoch 1:  51%|████████████████████▊                    | 475/938 [00:21<00:25, 18.42batch/s, accuracy=92.2, loss=0.408]"
     ]
    },
    {
     "name": "stdout",
     "output_type": "stream",
     "text": [
      "relu2: torch.Size([64, 20, 4, 4])\n",
      "view: torch.Size([64, 320])\n",
      "relu2: torch.Size([64, 20, 4, 4])\n",
      "view: torch.Size([64, 320])\n",
      "relu2: torch.Size([64, 20, 4, 4])\n",
      "view: torch.Size([64, 320])\n",
      "relu2: torch.Size([64, 20, 4, 4])\n",
      "view: torch.Size([64, 320])\n"
     ]
    },
    {
     "name": "stderr",
     "output_type": "stream",
     "text": [
      "Epoch 1:  51%|████████████████████▉                    | 479/938 [00:21<00:24, 18.64batch/s, accuracy=84.4, loss=0.366]"
     ]
    },
    {
     "name": "stdout",
     "output_type": "stream",
     "text": [
      "relu2: torch.Size([64, 20, 4, 4])\n",
      "view: torch.Size([64, 320])\n",
      "relu2: torch.Size([64, 20, 4, 4])\n",
      "view: torch.Size([64, 320])\n",
      "relu2: torch.Size([64, 20, 4, 4])\n",
      "view: torch.Size([64, 320])\n",
      "relu2: torch.Size([64, 20, 4, 4])\n",
      "view: torch.Size([64, 320])\n"
     ]
    },
    {
     "name": "stderr",
     "output_type": "stream",
     "text": [
      "Epoch 1:  51%|█████████████████████▋                    | 483/938 [00:22<00:24, 18.39batch/s, accuracy=90.6, loss=0.19]"
     ]
    },
    {
     "name": "stdout",
     "output_type": "stream",
     "text": [
      "relu2: torch.Size([64, 20, 4, 4])\n",
      "view: torch.Size([64, 320])\n",
      "relu2: torch.Size([64, 20, 4, 4])\n",
      "view: torch.Size([64, 320])\n",
      "relu2: torch.Size([64, 20, 4, 4])\n",
      "view: torch.Size([64, 320])\n",
      "relu2: torch.Size([64, 20, 4, 4])\n",
      "view: torch.Size([64, 320])\n"
     ]
    },
    {
     "name": "stderr",
     "output_type": "stream",
     "text": [
      "Epoch 1:  52%|█████████████████████▏                   | 485/938 [00:22<00:25, 17.81batch/s, accuracy=92.2, loss=0.267]"
     ]
    },
    {
     "name": "stdout",
     "output_type": "stream",
     "text": [
      "relu2: torch.Size([64, 20, 4, 4])\n",
      "view: torch.Size([64, 320])\n",
      "relu2: torch.Size([64, 20, 4, 4])\n",
      "view: torch.Size([64, 320])\n"
     ]
    },
    {
     "name": "stderr",
     "output_type": "stream",
     "text": [
      "Epoch 1:  52%|█████████████████████▎                   | 487/938 [00:22<00:34, 13.06batch/s, accuracy=100, loss=0.0336]"
     ]
    },
    {
     "name": "stdout",
     "output_type": "stream",
     "text": [
      "relu2: torch.Size([64, 20, 4, 4])\n",
      "view: torch.Size([64, 320])\n",
      "relu2: torch.Size([64, 20, 4, 4])\n",
      "view: torch.Size([64, 320])\n",
      "relu2: torch.Size([64, 20, 4, 4])\n",
      "view: torch.Size([64, 320])\n"
     ]
    },
    {
     "name": "stderr",
     "output_type": "stream",
     "text": [
      "Epoch 1:  52%|█████████████████████▍                   | 491/938 [00:22<00:32, 13.80batch/s, accuracy=95.3, loss=0.111]"
     ]
    },
    {
     "name": "stdout",
     "output_type": "stream",
     "text": [
      "relu2: torch.Size([64, 20, 4, 4])\n",
      "view: torch.Size([64, 320])\n",
      "relu2: torch.Size([64, 20, 4, 4])\n",
      "view: torch.Size([64, 320])\n",
      "relu2: torch.Size([64, 20, 4, 4])\n",
      "view: torch.Size([64, 320])\n",
      "relu2: torch.Size([64, 20, 4, 4])\n"
     ]
    },
    {
     "name": "stderr",
     "output_type": "stream",
     "text": [
      "Epoch 1:  53%|█████████████████████▋                   | 495/938 [00:23<00:31, 14.09batch/s, accuracy=93.8, loss=0.284]"
     ]
    },
    {
     "name": "stdout",
     "output_type": "stream",
     "text": [
      "view: torch.Size([64, 320])\n",
      "relu2: torch.Size([64, 20, 4, 4])\n",
      "view: torch.Size([64, 320])\n",
      "relu2: torch.Size([64, 20, 4, 4])\n",
      "view: torch.Size([64, 320])\n"
     ]
    },
    {
     "name": "stderr",
     "output_type": "stream",
     "text": [
      "Epoch 1:  53%|█████████████████████▋                   | 497/938 [00:23<00:30, 14.50batch/s, accuracy=84.4, loss=0.398]"
     ]
    },
    {
     "name": "stdout",
     "output_type": "stream",
     "text": [
      "relu2: torch.Size([64, 20, 4, 4])\n",
      "view: torch.Size([64, 320])\n",
      "relu2: torch.Size([64, 20, 4, 4])\n",
      "view: torch.Size([64, 320])\n",
      "relu2: torch.Size([64, 20, 4, 4])\n",
      "view: torch.Size([64, 320])\n",
      "relu2: torch.Size([64, 20, 4, 4])\n",
      "view: torch.Size([64, 320])\n"
     ]
    },
    {
     "name": "stderr",
     "output_type": "stream",
     "text": [
      "Epoch 1:  54%|█████████████████████▉                   | 503/938 [00:23<00:26, 16.68batch/s, accuracy=92.2, loss=0.309]"
     ]
    },
    {
     "name": "stdout",
     "output_type": "stream",
     "text": [
      "relu2: torch.Size([64, 20, 4, 4])\n",
      "view: torch.Size([64, 320])\n",
      "relu2: torch.Size([64, 20, 4, 4])\n",
      "view: torch.Size([64, 320])\n",
      "relu2: torch.Size([64, 20, 4, 4])\n",
      "view: torch.Size([64, 320])\n",
      "relu2: torch.Size([64, 20, 4, 4])\n",
      "view: torch.Size([64, 320])\n"
     ]
    },
    {
     "name": "stderr",
     "output_type": "stream",
     "text": [
      "Epoch 1:  54%|██████████████████████                   | 505/938 [00:23<00:25, 16.94batch/s, accuracy=95.3, loss=0.173]"
     ]
    },
    {
     "name": "stdout",
     "output_type": "stream",
     "text": [
      "relu2: torch.Size([64, 20, 4, 4])\n",
      "view: torch.Size([64, 320])\n",
      "relu2: torch.Size([64, 20, 4, 4])\n",
      "view: torch.Size([64, 320])\n",
      "relu2: torch.Size([64, 20, 4, 4])\n",
      "view: torch.Size([64, 320])\n",
      "relu2: torch.Size([64, 20, 4, 4])\n",
      "view: torch.Size([64, 320])\n"
     ]
    },
    {
     "name": "stderr",
     "output_type": "stream",
     "text": [
      "Epoch 1:  54%|██████████████████████▏                  | 509/938 [00:24<00:25, 17.09batch/s, accuracy=84.4, loss=0.425]"
     ]
    },
    {
     "name": "stdout",
     "output_type": "stream",
     "text": [
      "relu2: torch.Size([64, 20, 4, 4])\n",
      "view: torch.Size([64, 320])\n",
      "relu2: torch.Size([64, 20, 4, 4])\n",
      "view: torch.Size([64, 320])\n",
      "relu2: torch.Size([64, 20, 4, 4])\n",
      "view: torch.Size([64, 320])\n",
      "relu2: torch.Size([64, 20, 4, 4])\n",
      "view: torch.Size([64, 320])\n"
     ]
    },
    {
     "name": "stderr",
     "output_type": "stream",
     "text": [
      "Epoch 1:  55%|██████████████████████▌                  | 515/938 [00:24<00:22, 18.50batch/s, accuracy=93.8, loss=0.166]"
     ]
    },
    {
     "name": "stdout",
     "output_type": "stream",
     "text": [
      "relu2: torch.Size([64, 20, 4, 4])\n",
      "view: torch.Size([64, 320])\n",
      "relu2: torch.Size([64, 20, 4, 4])\n",
      "view: torch.Size([64, 320])\n",
      "relu2: torch.Size([64, 20, 4, 4])\n",
      "view: torch.Size([64, 320])\n",
      "relu2: torch.Size([64, 20, 4, 4])\n",
      "view: torch.Size([64, 320])\n"
     ]
    },
    {
     "name": "stderr",
     "output_type": "stream",
     "text": [
      "Epoch 1:  55%|██████████████████████▋                  | 519/938 [00:24<00:22, 18.52batch/s, accuracy=95.3, loss=0.226]"
     ]
    },
    {
     "name": "stdout",
     "output_type": "stream",
     "text": [
      "relu2: torch.Size([64, 20, 4, 4])\n",
      "view: torch.Size([64, 320])\n",
      "relu2: torch.Size([64, 20, 4, 4])\n",
      "view: torch.Size([64, 320])\n",
      "relu2: torch.Size([64, 20, 4, 4])\n",
      "view: torch.Size([64, 320])\n",
      "relu2: torch.Size([64, 20, 4, 4])\n",
      "view: torch.Size([64, 320])\n"
     ]
    },
    {
     "name": "stderr",
     "output_type": "stream",
     "text": [
      "Epoch 1:  56%|██████████████████████▊                  | 521/938 [00:24<00:24, 17.02batch/s, accuracy=92.2, loss=0.181]"
     ]
    },
    {
     "name": "stdout",
     "output_type": "stream",
     "text": [
      "relu2: torch.Size([64, 20, 4, 4])\n",
      "view: torch.Size([64, 320])\n",
      "relu2: torch.Size([64, 20, 4, 4])\n",
      "view: torch.Size([64, 320])\n",
      "relu2: torch.Size([64, 20, 4, 4])\n",
      "view: torch.Size([64, 320])\n",
      "relu2: torch.Size([64, 20, 4, 4])\n"
     ]
    },
    {
     "name": "stderr",
     "output_type": "stream",
     "text": [
      "Epoch 1:  56%|██████████████████████▉                  | 525/938 [00:24<00:24, 16.69batch/s, accuracy=90.6, loss=0.387]"
     ]
    },
    {
     "name": "stdout",
     "output_type": "stream",
     "text": [
      "view: torch.Size([64, 320])\n",
      "relu2: torch.Size([64, 20, 4, 4])\n",
      "view: torch.Size([64, 320])\n",
      "relu2: torch.Size([64, 20, 4, 4])\n",
      "view: torch.Size([64, 320])\n",
      "relu2: torch.Size([64, 20, 4, 4])\n"
     ]
    },
    {
     "name": "stderr",
     "output_type": "stream",
     "text": [
      "Epoch 1:  56%|███████████████████████                  | 527/938 [00:25<00:24, 16.74batch/s, accuracy=93.8, loss=0.237]"
     ]
    },
    {
     "name": "stdout",
     "output_type": "stream",
     "text": [
      "view: torch.Size([64, 320])\n",
      "relu2: torch.Size([64, 20, 4, 4])\n",
      "view: torch.Size([64, 320])\n",
      "relu2: torch.Size([64, 20, 4, 4])\n",
      "view: torch.Size([64, 320])\n",
      "relu2: torch.Size([64, 20, 4, 4])\n",
      "view: torch.Size([64, 320])\n"
     ]
    },
    {
     "name": "stderr",
     "output_type": "stream",
     "text": [
      "Epoch 1:  57%|███████████████████████▏                 | 531/938 [00:25<00:24, 16.49batch/s, accuracy=90.6, loss=0.685]"
     ]
    },
    {
     "name": "stdout",
     "output_type": "stream",
     "text": [
      "relu2: torch.Size([64, 20, 4, 4])\n",
      "view: torch.Size([64, 320])\n",
      "relu2: torch.Size([64, 20, 4, 4])\n",
      "view: torch.Size([64, 320])\n",
      "relu2: torch.Size([64, 20, 4, 4])\n",
      "view: torch.Size([64, 320])\n",
      "relu2:"
     ]
    },
    {
     "name": "stderr",
     "output_type": "stream",
     "text": [
      "Epoch 1:  57%|███████████████████████▍                 | 535/938 [00:25<00:24, 16.39batch/s, accuracy=87.5, loss=0.262]"
     ]
    },
    {
     "name": "stdout",
     "output_type": "stream",
     "text": [
      " torch.Size([64, 20, 4, 4])\n",
      "view: torch.Size([64, 320])\n",
      "relu2: torch.Size([64, 20, 4, 4])\n",
      "view: torch.Size([64, 320])\n",
      "relu2: torch.Size([64, 20, 4, 4])\n",
      "view: torch.Size([64, 320])\n",
      "relu2: torch.Size([64, 20, 4, 4])\n"
     ]
    },
    {
     "name": "stderr",
     "output_type": "stream",
     "text": [
      "Epoch 1:  57%|███████████████████████▍                 | 537/938 [00:25<00:24, 16.29batch/s, accuracy=82.8, loss=0.351]"
     ]
    },
    {
     "name": "stdout",
     "output_type": "stream",
     "text": [
      "view: torch.Size([64, 320])\n",
      "relu2: torch.Size([64, 20, 4, 4])\n",
      "view: torch.Size([64, 320])\n",
      "relu2: torch.Size([64, 20, 4, 4])\n",
      "view: torch.Size([64, 320])\n",
      "relu2: torch.Size([64, 20, 4, 4])\n"
     ]
    },
    {
     "name": "stderr",
     "output_type": "stream",
     "text": [
      "Epoch 1:  58%|███████████████████████▋                 | 541/938 [00:25<00:23, 16.67batch/s, accuracy=84.4, loss=0.504]"
     ]
    },
    {
     "name": "stdout",
     "output_type": "stream",
     "text": [
      "view: torch.Size([64, 320])\n",
      "relu2: torch.Size([64, 20, 4, 4])\n",
      "view: torch.Size([64, 320])\n",
      "relu2: torch.Size([64, 20, 4, 4])\n",
      "view: torch.Size([64, 320])\n",
      "relu2: torch.Size([64, 20, 4, 4])\n",
      "view: torch.Size([64, 320])\n"
     ]
    },
    {
     "name": "stderr",
     "output_type": "stream",
     "text": [
      "Epoch 1:  58%|████████████████████████▍                 | 545/938 [00:26<00:23, 16.97batch/s, accuracy=87.5, loss=0.37]"
     ]
    },
    {
     "name": "stdout",
     "output_type": "stream",
     "text": [
      "relu2: torch.Size([64, 20, 4, 4])\n",
      "view: torch.Size([64, 320])\n",
      "relu2: torch.Size([64, 20, 4, 4])\n",
      "view: torch.Size([64, 320])\n",
      "relu2: torch.Size([64, 20, 4, 4])\n",
      "view: torch.Size([64, 320])\n",
      "relu2: torch.Size([64, 20, 4, 4])\n",
      "view: torch.Size([64, 320])\n"
     ]
    },
    {
     "name": "stderr",
     "output_type": "stream",
     "text": [
      "Epoch 1:  59%|███████████████████████▍                | 549/938 [00:26<00:21, 17.85batch/s, accuracy=96.9, loss=0.0984]"
     ]
    },
    {
     "name": "stdout",
     "output_type": "stream",
     "text": [
      "relu2: torch.Size([64, 20, 4, 4])\n",
      "view: torch.Size([64, 320])\n",
      "relu2: torch.Size([64, 20, 4, 4])\n",
      "view: torch.Size([64, 320])\n",
      "relu2: torch.Size([64, 20, 4, 4])\n",
      "view: torch.Size([64, 320])\n",
      "relu2: torch.Size([64, 20, 4, 4])\n",
      "view: torch.Size([64, 320])\n"
     ]
    },
    {
     "name": "stderr",
     "output_type": "stream",
     "text": [
      "Epoch 1:  59%|████████████████████████▏                | 553/938 [00:26<00:21, 18.20batch/s, accuracy=95.3, loss=0.253]"
     ]
    },
    {
     "name": "stdout",
     "output_type": "stream",
     "text": [
      "relu2: torch.Size([64, 20, 4, 4])\n",
      "view: torch.Size([64, 320])\n",
      "relu2: torch.Size([64, 20, 4, 4])\n",
      "view: torch.Size([64, 320])\n",
      "relu2: torch.Size([64, 20, 4, 4])\n",
      "view: torch.Size([64, 320])\n",
      "relu2: torch.Size([64, 20, 4, 4])\n",
      "view: torch.Size([64, 320])\n"
     ]
    },
    {
     "name": "stderr",
     "output_type": "stream",
     "text": [
      "Epoch 1:  59%|████████████████████████▍                | 558/938 [00:26<00:20, 18.92batch/s, accuracy=90.6, loss=0.336]"
     ]
    },
    {
     "name": "stdout",
     "output_type": "stream",
     "text": [
      "relu2: torch.Size([64, 20, 4, 4])\n",
      "view: torch.Size([64, 320])\n",
      "relu2: torch.Size([64, 20, 4, 4])\n",
      "view: torch.Size([64, 320])\n",
      "relu2: torch.Size([64, 20, 4, 4])\n",
      "view: torch.Size([64, 320])\n",
      "relu2: torch.Size([64, 20, 4, 4])\n",
      "view: torch.Size([64, 320])\n"
     ]
    },
    {
     "name": "stderr",
     "output_type": "stream",
     "text": [
      "Epoch 1:  60%|█████████████████████████                 | 560/938 [00:26<00:20, 18.44batch/s, accuracy=93.8, loss=0.25]"
     ]
    },
    {
     "name": "stdout",
     "output_type": "stream",
     "text": [
      "relu2: torch.Size([64, 20, 4, 4])\n",
      "view: torch.Size([64, 320])\n",
      "relu2: torch.Size([64, 20, 4, 4])\n",
      "view: torch.Size([64, 320])\n",
      "relu2: torch.Size([64, 20, 4, 4])\n",
      "view: torch.Size([64, 320])\n",
      "relu2: torch.Size([64, 20, 4, 4])\n",
      "view: torch.Size([64, 320])\n"
     ]
    },
    {
     "name": "stderr",
     "output_type": "stream",
     "text": [
      "Epoch 1:  60%|████████████████████████▋                | 564/938 [00:27<00:23, 15.98batch/s, accuracy=93.8, loss=0.198]"
     ]
    },
    {
     "name": "stdout",
     "output_type": "stream",
     "text": [
      "relu2: torch.Size([64, 20, 4, 4])\n",
      "view: torch.Size([64, 320])\n",
      "relu2: torch.Size([64, 20, 4, 4])\n",
      "view: torch.Size([64, 320])\n",
      "relu2: torch.Size([64, 20, 4, 4])\n",
      "view: torch.Size([64, 320])\n",
      "relu2: torch.Size([64, 20, 4, 4])\n"
     ]
    },
    {
     "name": "stderr",
     "output_type": "stream",
     "text": [
      "Epoch 1:  61%|████████████████████████▊                | 568/938 [00:27<00:22, 16.61batch/s, accuracy=90.6, loss=0.288]"
     ]
    },
    {
     "name": "stdout",
     "output_type": "stream",
     "text": [
      "view: torch.Size([64, 320])\n",
      "relu2: torch.Size([64, 20, 4, 4])\n",
      "view: torch.Size([64, 320])\n",
      "relu2: torch.Size([64, 20, 4, 4])\n",
      "view: torch.Size([64, 320])\n",
      "relu2: torch.Size([64, 20, 4, 4])\n",
      "view: torch.Size([64, 320])\n"
     ]
    },
    {
     "name": "stderr",
     "output_type": "stream",
     "text": [
      "Epoch 1:  61%|█████████████████████████▌                | 572/938 [00:27<00:21, 16.95batch/s, accuracy=95.3, loss=0.27]"
     ]
    },
    {
     "name": "stdout",
     "output_type": "stream",
     "text": [
      "relu2: torch.Size([64, 20, 4, 4])\n",
      "view: torch.Size([64, 320])\n",
      "relu2: torch.Size([64, 20, 4, 4])\n",
      "view: torch.Size([64, 320])\n",
      "relu2: torch.Size([64, 20, 4, 4])\n",
      "view: torch.Size([64, 320])\n",
      "relu2: torch.Size([64, 20, 4, 4])\n",
      "view: torch.Size([64, 320])\n"
     ]
    },
    {
     "name": "stderr",
     "output_type": "stream",
     "text": [
      "Epoch 1:  61%|█████████████████████████▏               | 576/938 [00:27<00:20, 17.82batch/s, accuracy=90.6, loss=0.516]"
     ]
    },
    {
     "name": "stdout",
     "output_type": "stream",
     "text": [
      "relu2: torch.Size([64, 20, 4, 4])\n",
      "view: torch.Size([64, 320])\n",
      "relu2: torch.Size([64, 20, 4, 4])\n",
      "view: torch.Size([64, 320])\n",
      "relu2: torch.Size([64, 20, 4, 4])\n",
      "view: torch.Size([64, 320])\n",
      "relu2: torch.Size([64, 20, 4, 4])\n",
      "view: torch.Size([64, 320])\n"
     ]
    },
    {
     "name": "stderr",
     "output_type": "stream",
     "text": [
      "Epoch 1:  62%|█████████████████████████▎               | 580/938 [00:28<00:20, 17.79batch/s, accuracy=92.2, loss=0.316]"
     ]
    },
    {
     "name": "stdout",
     "output_type": "stream",
     "text": [
      "relu2: torch.Size([64, 20, 4, 4])\n",
      "view: torch.Size([64, 320])\n",
      "relu2: torch.Size([64, 20, 4, 4])\n",
      "view: torch.Size([64, 320])\n",
      "relu2: torch.Size([64, 20, 4, 4])\n",
      "view: torch.Size([64, 320])\n",
      "relu2: torch.Size([64, 20, 4, 4])\n",
      "view: torch.Size([64, 320])\n"
     ]
    },
    {
     "name": "stderr",
     "output_type": "stream",
     "text": [
      "Epoch 1:  62%|█████████████████████████▌               | 584/938 [00:28<00:19, 18.07batch/s, accuracy=90.6, loss=0.385]"
     ]
    },
    {
     "name": "stdout",
     "output_type": "stream",
     "text": [
      "relu2: torch.Size([64, 20, 4, 4])\n",
      "view: torch.Size([64, 320])\n",
      "relu2: torch.Size([64, 20, 4, 4])\n",
      "view: torch.Size([64, 320])\n",
      "relu2: torch.Size([64, 20, 4, 4])\n",
      "view: torch.Size([64, 320])\n",
      "relu2: torch.Size([64, 20, 4, 4])\n",
      "view: torch.Size([64, 320])\n"
     ]
    },
    {
     "name": "stderr",
     "output_type": "stream",
     "text": [
      "Epoch 1:  63%|█████████████████████████▋               | 588/938 [00:28<00:18, 18.70batch/s, accuracy=90.6, loss=0.283]"
     ]
    },
    {
     "name": "stdout",
     "output_type": "stream",
     "text": [
      "relu2: torch.Size([64, 20, 4, 4])\n",
      "view: torch.Size([64, 320])\n",
      "relu2: torch.Size([64, 20, 4, 4])\n",
      "view: torch.Size([64, 320])\n",
      "relu2: torch.Size([64, 20, 4, 4])\n",
      "view: torch.Size([64, 320])\n",
      "relu2: torch.Size([64, 20, 4, 4])\n",
      "view: torch.Size([64, 320])\n"
     ]
    },
    {
     "name": "stderr",
     "output_type": "stream",
     "text": [
      "Epoch 1:  63%|██████████████████████████▌               | 593/938 [00:28<00:17, 19.38batch/s, accuracy=98.4, loss=0.14]"
     ]
    },
    {
     "name": "stdout",
     "output_type": "stream",
     "text": [
      "relu2: torch.Size([64, 20, 4, 4])\n",
      "view: torch.Size([64, 320])\n",
      "relu2: torch.Size([64, 20, 4, 4])\n",
      "view: torch.Size([64, 320])\n",
      "relu2: torch.Size([64, 20, 4, 4])\n",
      "view: torch.Size([64, 320])\n",
      "relu2: torch.Size([64, 20, 4, 4])\n",
      "view: torch.Size([64, 320])\n"
     ]
    },
    {
     "name": "stderr",
     "output_type": "stream",
     "text": [
      "Epoch 1:  64%|██████████████████████████▋               | 597/938 [00:28<00:18, 18.87batch/s, accuracy=90.6, loss=0.38]"
     ]
    },
    {
     "name": "stdout",
     "output_type": "stream",
     "text": [
      "relu2: torch.Size([64, 20, 4, 4])\n",
      "view: torch.Size([64, 320])\n",
      "relu2: torch.Size([64, 20, 4, 4])\n",
      "view: torch.Size([64, 320])\n",
      "relu2: torch.Size([64, 20, 4, 4])\n",
      "view: torch.Size([64, 320])\n",
      "relu2: torch.Size([64, 20, 4, 4])\n",
      "view: torch.Size([64, 320])\n"
     ]
    },
    {
     "name": "stderr",
     "output_type": "stream",
     "text": [
      "Epoch 1:  64%|██████████████████████████▎              | 601/938 [00:29<00:18, 18.56batch/s, accuracy=92.2, loss=0.181]"
     ]
    },
    {
     "name": "stdout",
     "output_type": "stream",
     "text": [
      "relu2: torch.Size([64, 20, 4, 4])\n",
      "view: torch.Size([64, 320])\n",
      "relu2: torch.Size([64, 20, 4, 4])\n",
      "view: torch.Size([64, 320])\n",
      "relu2: torch.Size([64, 20, 4, 4])\n",
      "view: torch.Size([64, 320])\n",
      "relu2: torch.Size([64, 20, 4, 4])\n",
      "view: torch.Size([64, 320])\n"
     ]
    },
    {
     "name": "stderr",
     "output_type": "stream",
     "text": [
      "Epoch 1:  64%|██████████████████████████▍              | 605/938 [00:29<00:17, 18.73batch/s, accuracy=89.1, loss=0.448]"
     ]
    },
    {
     "name": "stdout",
     "output_type": "stream",
     "text": [
      "relu2: torch.Size([64, 20, 4, 4])\n",
      "view: torch.Size([64, 320])\n",
      "relu2: torch.Size([64, 20, 4, 4])\n",
      "view: torch.Size([64, 320])\n",
      "relu2: torch.Size([64, 20, 4, 4])\n",
      "view: torch.Size([64, 320])\n",
      "relu2: torch.Size([64, 20, 4, 4])\n",
      "view: torch.Size([64, 320])\n"
     ]
    },
    {
     "name": "stderr",
     "output_type": "stream",
     "text": [
      "Epoch 1:  65%|██████████████████████████▌              | 607/938 [00:29<00:18, 18.17batch/s, accuracy=92.2, loss=0.359]"
     ]
    },
    {
     "name": "stdout",
     "output_type": "stream",
     "text": [
      "relu2: torch.Size([64, 20, 4, 4])\n",
      "view: torch.Size([64, 320])\n",
      "relu2: torch.Size([64, 20, 4, 4])\n",
      "view: torch.Size([64, 320])\n",
      "relu2: torch.Size([64, 20, 4, 4])\n",
      "view: torch.Size([64, 320])\n",
      "relu2: torch.Size([64, 20, 4, 4])\n",
      "view: torch.Size([64, 320])\n"
     ]
    },
    {
     "name": "stderr",
     "output_type": "stream",
     "text": [
      "Epoch 1:  65%|██████████████████████████▊              | 612/938 [00:29<00:17, 19.07batch/s, accuracy=89.1, loss=0.363]"
     ]
    },
    {
     "name": "stdout",
     "output_type": "stream",
     "text": [
      "relu2: torch.Size([64, 20, 4, 4])\n",
      "view: torch.Size([64, 320])\n",
      "relu2: torch.Size([64, 20, 4, 4])\n",
      "view: torch.Size([64, 320])\n",
      "relu2: torch.Size([64, 20, 4, 4])\n",
      "view: torch.Size([64, 320])\n",
      "relu2: torch.Size([64, 20, 4, 4])\n",
      "view: torch.Size([64, 320])\n"
     ]
    },
    {
     "name": "stderr",
     "output_type": "stream",
     "text": [
      "Epoch 1:  66%|██████████████████████████▉              | 616/938 [00:29<00:16, 19.07batch/s, accuracy=93.8, loss=0.224]"
     ]
    },
    {
     "name": "stdout",
     "output_type": "stream",
     "text": [
      "relu2: torch.Size([64, 20, 4, 4])\n",
      "view: torch.Size([64, 320])\n",
      "relu2: torch.Size([64, 20, 4, 4])\n",
      "view: torch.Size([64, 320])\n",
      "relu2: torch.Size([64, 20, 4, 4])\n",
      "view: torch.Size([64, 320])\n",
      "relu2: torch.Size([64, 20, 4, 4])\n",
      "view: torch.Size([64, 320])\n"
     ]
    },
    {
     "name": "stderr",
     "output_type": "stream",
     "text": [
      "Epoch 1:  66%|███████████████████████████              | 620/938 [00:30<00:17, 17.83batch/s, accuracy=90.6, loss=0.269]"
     ]
    },
    {
     "name": "stdout",
     "output_type": "stream",
     "text": [
      "relu2: torch.Size([64, 20, 4, 4])\n",
      "view: torch.Size([64, 320])\n",
      "relu2: torch.Size([64, 20, 4, 4])\n",
      "view: torch.Size([64, 320])\n",
      "relu2: torch.Size([64, 20, 4, 4])\n",
      "view: torch.Size([64, 320])\n",
      "relu2: torch.Size([64, 20, 4, 4])\n",
      "view: torch.Size([64, 320])\n"
     ]
    },
    {
     "name": "stderr",
     "output_type": "stream",
     "text": [
      "Epoch 1:  67%|███████████████████████████▎             | 624/938 [00:30<00:17, 17.75batch/s, accuracy=92.2, loss=0.235]"
     ]
    },
    {
     "name": "stdout",
     "output_type": "stream",
     "text": [
      "relu2: torch.Size([64, 20, 4, 4])\n",
      "view: torch.Size([64, 320])\n",
      "relu2: torch.Size([64, 20, 4, 4])\n",
      "view: torch.Size([64, 320])\n",
      "relu2: torch.Size([64, 20, 4, 4])\n",
      "view: torch.Size([64, 320])\n",
      "relu2: torch.Size([64, 20, 4, 4])\n",
      "view: torch.Size([64, 320])\n"
     ]
    },
    {
     "name": "stderr",
     "output_type": "stream",
     "text": [
      "Epoch 1:  67%|███████████████████████████▍             | 628/938 [00:30<00:17, 17.37batch/s, accuracy=92.2, loss=0.215]"
     ]
    },
    {
     "name": "stdout",
     "output_type": "stream",
     "text": [
      "relu2: torch.Size([64, 20, 4, 4])\n",
      "view: torch.Size([64, 320])\n",
      "relu2: torch.Size([64, 20, 4, 4])\n",
      "view: torch.Size([64, 320])\n",
      "relu2: torch.Size([64, 20, 4, 4])\n",
      "view: torch.Size([64, 320])\n",
      "relu2: torch.Size([64, 20, 4, 4])\n"
     ]
    },
    {
     "name": "stderr",
     "output_type": "stream",
     "text": [
      "Epoch 1:  67%|███████████████████████████▌             | 630/938 [00:30<00:17, 17.12batch/s, accuracy=93.8, loss=0.201]"
     ]
    },
    {
     "name": "stdout",
     "output_type": "stream",
     "text": [
      "view: torch.Size([64, 320])\n",
      "relu2: torch.Size([64, 20, 4, 4])\n",
      "view: torch.Size([64, 320])\n",
      "relu2: torch.Size([64, 20, 4, 4])\n",
      "view: torch.Size([64, 320])\n",
      "relu2: torch.Size([64, 20, 4, 4])\n",
      "view: torch.Size([64, 320])\n"
     ]
    },
    {
     "name": "stderr",
     "output_type": "stream",
     "text": [
      "Epoch 1:  68%|███████████████████████████▋             | 634/938 [00:31<00:18, 16.81batch/s, accuracy=93.8, loss=0.155]"
     ]
    },
    {
     "name": "stdout",
     "output_type": "stream",
     "text": [
      "relu2: torch.Size([64, 20, 4, 4])\n",
      "view: torch.Size([64, 320])\n",
      "relu2: torch.Size([64, 20, 4, 4])\n",
      "view: torch.Size([64, 320])\n",
      "relu2: torch.Size([64, 20, 4, 4])\n",
      "view: torch.Size([64, 320])\n",
      "relu2: torch.Size([64, 20, 4, 4])\n",
      "view: torch.Size([64, 320])\n"
     ]
    },
    {
     "name": "stderr",
     "output_type": "stream",
     "text": [
      "Epoch 1:  68%|████████████████████████████▌             | 638/938 [00:31<00:17, 16.99batch/s, accuracy=90.6, loss=0.49]"
     ]
    },
    {
     "name": "stdout",
     "output_type": "stream",
     "text": [
      "relu2: torch.Size([64, 20, 4, 4])\n",
      "view: torch.Size([64, 320])\n",
      "relu2: torch.Size([64, 20, 4, 4])\n",
      "view: torch.Size([64, 320])\n",
      "relu2: torch.Size([64, 20, 4, 4])\n",
      "view: torch.Size([64, 320])\n",
      "relu2: torch.Size([64, 20, 4, 4])\n",
      "view: torch.Size([64, 320])\n"
     ]
    },
    {
     "name": "stderr",
     "output_type": "stream",
     "text": [
      "Epoch 1:  68%|████████████████████████████▋             | 642/938 [00:31<00:18, 16.12batch/s, accuracy=93.8, loss=0.13]"
     ]
    },
    {
     "name": "stdout",
     "output_type": "stream",
     "text": [
      "relu2: torch.Size([64, 20, 4, 4])\n",
      "view: torch.Size([64, 320])\n",
      "relu2: torch.Size([64, 20, 4, 4])\n",
      "view: torch.Size([64, 320])\n",
      "relu2: torch.Size([64, 20, 4, 4])\n",
      "view: torch.Size([64, 320])\n",
      "relu2: "
     ]
    },
    {
     "name": "stderr",
     "output_type": "stream",
     "text": [
      "Epoch 1:  69%|████████████████████████████▏            | 646/938 [00:31<00:18, 15.91batch/s, accuracy=92.2, loss=0.268]"
     ]
    },
    {
     "name": "stdout",
     "output_type": "stream",
     "text": [
      "torch.Size([64, 20, 4, 4])\n",
      "view: torch.Size([64, 320])\n",
      "relu2: torch.Size([64, 20, 4, 4])\n",
      "view: torch.Size([64, 320])\n",
      "relu2: torch.Size([64, 20, 4, 4])\n",
      "view: torch.Size([64, 320])\n",
      "relu2: torch.Size([64, 20, 4, 4])\n"
     ]
    },
    {
     "name": "stderr",
     "output_type": "stream",
     "text": [
      "Epoch 1:  69%|████████████████████████████▎            | 648/938 [00:31<00:18, 15.65batch/s, accuracy=96.9, loss=0.205]"
     ]
    },
    {
     "name": "stdout",
     "output_type": "stream",
     "text": [
      "view: torch.Size([64, 320])\n",
      "relu2: torch.Size([64, 20, 4, 4])\n",
      "view: torch.Size([64, 320])\n",
      "relu2: torch.Size([64, 20, 4, 4])\n",
      "view: torch.Size([64, 320])\n"
     ]
    },
    {
     "name": "stderr",
     "output_type": "stream",
     "text": [
      "Epoch 1:  70%|████████████████████████████▍            | 652/938 [00:32<00:18, 15.08batch/s, accuracy=93.8, loss=0.196]"
     ]
    },
    {
     "name": "stdout",
     "output_type": "stream",
     "text": [
      "relu2: torch.Size([64, 20, 4, 4])\n",
      "view: torch.Size([64, 320])\n",
      "relu2: torch.Size([64, 20, 4, 4])\n",
      "view: torch.Size([64, 320])\n",
      "relu2: torch.Size([64, 20, 4, 4])\n",
      "view: torch.Size([64, 320])\n",
      "relu2: torch.Size([64, 20, 4, 4])\n"
     ]
    },
    {
     "name": "stderr",
     "output_type": "stream",
     "text": [
      "Epoch 1:  70%|████████████████████████████▌            | 654/938 [00:32<00:18, 15.01batch/s, accuracy=93.8, loss=0.118]"
     ]
    },
    {
     "name": "stdout",
     "output_type": "stream",
     "text": [
      "view: torch.Size([64, 320])\n",
      "relu2: torch.Size([64, 20, 4, 4])\n",
      "view: torch.Size([64, 320])\n",
      "relu2: torch.Size([64, 20, 4, 4])\n",
      "view: torch.Size([64, 320])\n",
      "relu2: torch.Size([64, 20, 4, 4])\n"
     ]
    },
    {
     "name": "stderr",
     "output_type": "stream",
     "text": [
      "Epoch 1:  70%|████████████████████████████▋            | 656/938 [00:32<00:18, 15.13batch/s, accuracy=93.8, loss=0.243]"
     ]
    },
    {
     "name": "stdout",
     "output_type": "stream",
     "text": [
      "view: torch.Size([64, 320])\n",
      "relu2: torch.Size([64, 20, 4, 4])\n",
      "view: torch.Size([64, 320])\n"
     ]
    },
    {
     "name": "stderr",
     "output_type": "stream",
     "text": [
      "Epoch 1:  70%|████████████████████████████▊            | 658/938 [00:32<00:22, 12.61batch/s, accuracy=93.8, loss=0.333]"
     ]
    },
    {
     "name": "stdout",
     "output_type": "stream",
     "text": [
      "relu2: torch.Size([64, 20, 4, 4])\n",
      "view: torch.Size([64, 320])\n",
      "relu2: torch.Size([64, 20, 4, 4])\n",
      "view: torch.Size([64, 320])\n"
     ]
    },
    {
     "name": "stderr",
     "output_type": "stream",
     "text": [
      "Epoch 1:  70%|████████████████████████████▊            | 660/938 [00:32<00:24, 11.17batch/s, accuracy=89.1, loss=0.431]"
     ]
    },
    {
     "name": "stdout",
     "output_type": "stream",
     "text": [
      "relu2: torch.Size([64, 20, 4, 4])\n",
      "view: torch.Size([64, 320])\n",
      "relu2: torch.Size([64, 20, 4, 4])\n",
      "view: torch.Size([64, 320])\n",
      "relu2: torch.Size([64, 20, 4, 4])\n",
      "view: torch.Size([64, 320])\n"
     ]
    },
    {
     "name": "stderr",
     "output_type": "stream",
     "text": [
      "Epoch 1:  71%|█████████████████████████████            | 664/938 [00:33<00:23, 11.85batch/s, accuracy=96.9, loss=0.186]"
     ]
    },
    {
     "name": "stdout",
     "output_type": "stream",
     "text": [
      "relu2: torch.Size([64, 20, 4, 4])\n",
      "view: torch.Size([64, 320])\n",
      "relu2: torch.Size([64, 20, 4, 4])\n",
      "view: torch.Size([64, 320])\n",
      "relu2: torch.Size([64, 20, 4, 4])\n",
      "view: torch.Size([64, 320])\n"
     ]
    },
    {
     "name": "stderr",
     "output_type": "stream",
     "text": [
      "Epoch 1:  71%|█████████████████████████████▏           | 668/938 [00:33<00:21, 12.54batch/s, accuracy=95.3, loss=0.123]"
     ]
    },
    {
     "name": "stdout",
     "output_type": "stream",
     "text": [
      "relu2: torch.Size([64, 20, 4, 4])\n",
      "view: torch.Size([64, 320])\n",
      "relu2: torch.Size([64, 20, 4, 4])\n",
      "view: torch.Size([64, 320])\n",
      "relu2: torch.Size([64, 20, 4, 4])\n",
      "view: torch.Size([64, 320])\n"
     ]
    },
    {
     "name": "stderr",
     "output_type": "stream",
     "text": [
      "Epoch 1:  71%|█████████████████████████████▎           | 670/938 [00:33<00:20, 12.85batch/s, accuracy=87.5, loss=0.335]"
     ]
    },
    {
     "name": "stdout",
     "output_type": "stream",
     "text": [
      "relu2: torch.Size([64, 20, 4, 4])\n",
      "view: torch.Size([64, 320])\n",
      "relu2: torch.Size([64, 20, 4, 4])\n",
      "view: torch.Size([64, 320])\n",
      "relu2: torch.Size([64, 20, 4, 4])\n",
      "view: torch.Size([64, 320])\n"
     ]
    },
    {
     "name": "stderr",
     "output_type": "stream",
     "text": [
      "Epoch 1:  72%|█████████████████████████████▍           | 674/938 [00:33<00:19, 13.67batch/s, accuracy=93.8, loss=0.188]"
     ]
    },
    {
     "name": "stdout",
     "output_type": "stream",
     "text": [
      "relu2: torch.Size([64, 20, 4, 4])\n",
      "view: torch.Size([64, 320])\n",
      "relu2: torch.Size([64, 20, 4, 4])\n",
      "view: torch.Size([64, 320])\n",
      "relu2: torch.Size([64, 20, 4, 4])\n",
      "view: torch.Size([64, 320])\n",
      "relu2: torch.Size([64, 20, 4, 4])\n"
     ]
    },
    {
     "name": "stderr",
     "output_type": "stream",
     "text": [
      "Epoch 1:  72%|█████████████████████████████▌           | 676/938 [00:34<00:18, 13.89batch/s, accuracy=92.2, loss=0.214]"
     ]
    },
    {
     "name": "stdout",
     "output_type": "stream",
     "text": [
      "view: torch.Size([64, 320])\n",
      "relu2: torch.Size([64, 20, 4, 4])\n",
      "view: torch.Size([64, 320])\n",
      "relu2: torch.Size([64, 20, 4, 4])\n",
      "view: torch.Size([64, 320])\n"
     ]
    },
    {
     "name": "stderr",
     "output_type": "stream",
     "text": [
      "Epoch 1:  72%|█████████████████████████████▋           | 680/938 [00:34<00:17, 14.53batch/s, accuracy=95.3, loss=0.238]"
     ]
    },
    {
     "name": "stdout",
     "output_type": "stream",
     "text": [
      "relu2: torch.Size([64, 20, 4, 4])\n",
      "view: torch.Size([64, 320])\n",
      "relu2: torch.Size([64, 20, 4, 4])\n",
      "view: torch.Size([64, 320])\n",
      "relu2: torch.Size([64, 20, 4, 4])\n",
      "view: torch.Size([64, 320])\n",
      "relu2: torch.Size([64, 20, 4, 4])\n"
     ]
    },
    {
     "name": "stderr",
     "output_type": "stream",
     "text": [
      "Epoch 1:  73%|█████████████████████████████▊           | 682/938 [00:34<00:17, 14.40batch/s, accuracy=89.1, loss=0.337]"
     ]
    },
    {
     "name": "stdout",
     "output_type": "stream",
     "text": [
      "view: torch.Size([64, 320])\n",
      "relu2: torch.Size([64, 20, 4, 4])\n",
      "view: torch.Size([64, 320])\n",
      "relu2: torch.Size([64, 20, 4, 4])\n",
      "view: torch.Size([64, 320])\n"
     ]
    },
    {
     "name": "stderr",
     "output_type": "stream",
     "text": [
      "Epoch 1:  73%|█████████████████████████████▉           | 686/938 [00:34<00:17, 14.39batch/s, accuracy=93.8, loss=0.193]"
     ]
    },
    {
     "name": "stdout",
     "output_type": "stream",
     "text": [
      "relu2: torch.Size([64, 20, 4, 4])\n",
      "view: torch.Size([64, 320])\n",
      "relu2: torch.Size([64, 20, 4, 4])\n",
      "view: torch.Size([64, 320])\n",
      "relu2: torch.Size([64, 20, 4, 4])\n",
      "view: torch.Size([64, 320])\n"
     ]
    },
    {
     "name": "stderr",
     "output_type": "stream",
     "text": [
      "Epoch 1:  73%|██████████████████████████████           | 688/938 [00:34<00:17, 14.59batch/s, accuracy=81.2, loss=0.575]"
     ]
    },
    {
     "name": "stdout",
     "output_type": "stream",
     "text": [
      "relu2: torch.Size([64, 20, 4, 4])\n",
      "view: torch.Size([64, 320])\n",
      "relu2: torch.Size([64, 20, 4, 4])\n",
      "view: torch.Size([64, 320])\n",
      "relu2: torch.Size([64, 20, 4, 4])\n",
      "view: torch.Size([64, 320])\n"
     ]
    },
    {
     "name": "stderr",
     "output_type": "stream",
     "text": [
      "Epoch 1:  74%|██████████████████████████████▏          | 692/938 [00:35<00:16, 14.68batch/s, accuracy=96.9, loss=0.224]"
     ]
    },
    {
     "name": "stdout",
     "output_type": "stream",
     "text": [
      "relu2: torch.Size([64, 20, 4, 4])\n",
      "view: torch.Size([64, 320])\n",
      "relu2: torch.Size([64, 20, 4, 4])\n",
      "view: torch.Size([64, 320])\n",
      "relu2: torch.Size([64, 20, 4, 4])\n",
      "view: torch.Size([64, 320])\n",
      "relu2: torch.Size([64, 20, 4, 4])\n"
     ]
    },
    {
     "name": "stderr",
     "output_type": "stream",
     "text": [
      "Epoch 1:  74%|██████████████████████████████▎          | 694/938 [00:35<00:16, 14.76batch/s, accuracy=93.8, loss=0.189]"
     ]
    },
    {
     "name": "stdout",
     "output_type": "stream",
     "text": [
      "view: torch.Size([64, 320])\n",
      "relu2: torch.Size([64, 20, 4, 4])\n",
      "view: torch.Size([64, 320])\n",
      "relu2: torch.Size([64, 20, 4, 4])\n",
      "view: torch.Size([64, 320])\n"
     ]
    },
    {
     "name": "stderr",
     "output_type": "stream",
     "text": [
      "Epoch 1:  74%|██████████████████████████████▌          | 698/938 [00:35<00:16, 14.56batch/s, accuracy=93.8, loss=0.248]"
     ]
    },
    {
     "name": "stdout",
     "output_type": "stream",
     "text": [
      "relu2: torch.Size([64, 20, 4, 4])\n",
      "view: torch.Size([64, 320])\n",
      "relu2: torch.Size([64, 20, 4, 4])\n",
      "view: torch.Size([64, 320])\n",
      "relu2: torch.Size([64, 20, 4, 4])\n",
      "view: torch.Size([64, 320])\n"
     ]
    },
    {
     "name": "stderr",
     "output_type": "stream",
     "text": [
      "Epoch 1:  75%|██████████████████████████████▌          | 700/938 [00:35<00:16, 14.55batch/s, accuracy=93.8, loss=0.268]"
     ]
    },
    {
     "name": "stdout",
     "output_type": "stream",
     "text": [
      "relu2: torch.Size([64, 20, 4, 4])\n",
      "view: torch.Size([64, 320])\n",
      "relu2: torch.Size([64, 20, 4, 4])\n",
      "view: torch.Size([64, 320])\n",
      "relu2: torch.Size([64, 20, 4, 4])\n",
      "view: torch.Size([64, 320])\n",
      "relu2: torch.Size([64, 20, 4, 4])\n"
     ]
    },
    {
     "name": "stderr",
     "output_type": "stream",
     "text": [
      "Epoch 1:  75%|██████████████████████████████          | 704/938 [00:35<00:15, 14.83batch/s, accuracy=96.9, loss=0.0788]"
     ]
    },
    {
     "name": "stdout",
     "output_type": "stream",
     "text": [
      "view: torch.Size([64, 320])\n",
      "relu2: torch.Size([64, 20, 4, 4])\n",
      "view: torch.Size([64, 320])\n",
      "relu2: torch.Size([64, 20, 4, 4])\n",
      "view: torch.Size([64, 320])\n",
      "relu2: torch.Size([64, 20, 4, 4])\n"
     ]
    },
    {
     "name": "stderr",
     "output_type": "stream",
     "text": [
      "Epoch 1:  75%|██████████████████████████████▊          | 706/938 [00:36<00:15, 14.84batch/s, accuracy=85.9, loss=0.234]"
     ]
    },
    {
     "name": "stdout",
     "output_type": "stream",
     "text": [
      "view: torch.Size([64, 320])\n",
      "relu2: torch.Size([64, 20, 4, 4])\n",
      "view: torch.Size([64, 320])\n",
      "relu2: torch.Size([64, 20, 4, 4])\n",
      "view: torch.Size([64, 320])\n"
     ]
    },
    {
     "name": "stderr",
     "output_type": "stream",
     "text": [
      "Epoch 1:  76%|███████████████████████████████▊          | 710/938 [00:36<00:15, 14.70batch/s, accuracy=95.3, loss=0.23]"
     ]
    },
    {
     "name": "stdout",
     "output_type": "stream",
     "text": [
      "relu2: torch.Size([64, 20, 4, 4])\n",
      "view: torch.Size([64, 320])\n",
      "relu2: torch.Size([64, 20, 4, 4])\n",
      "view: torch.Size([64, 320])\n",
      "relu2: torch.Size([64, 20, 4, 4])\n",
      "view: torch.Size([64, 320])\n"
     ]
    },
    {
     "name": "stderr",
     "output_type": "stream",
     "text": [
      "Epoch 1:  76%|███████████████████████████████          | 712/938 [00:36<00:15, 14.81batch/s, accuracy=95.3, loss=0.169]"
     ]
    },
    {
     "name": "stdout",
     "output_type": "stream",
     "text": [
      "relu2: torch.Size([64, 20, 4, 4])\n",
      "view: torch.Size([64, 320])\n",
      "relu2: torch.Size([64, 20, 4, 4])\n",
      "view: torch.Size([64, 320])\n",
      "relu2: torch.Size([64, 20, 4, 4])\n",
      "view: torch.Size([64, 320])\n"
     ]
    },
    {
     "name": "stderr",
     "output_type": "stream",
     "text": [
      "Epoch 1:  76%|███████████████████████████████▎         | 716/938 [00:36<00:14, 14.81batch/s, accuracy=87.5, loss=0.372]"
     ]
    },
    {
     "name": "stdout",
     "output_type": "stream",
     "text": [
      "relu2: torch.Size([64, 20, 4, 4])\n",
      "view: torch.Size([64, 320])\n",
      "relu2: torch.Size([64, 20, 4, 4])\n",
      "view: torch.Size([64, 320])\n",
      "relu2: torch.Size([64, 20, 4, 4])\n",
      "view: torch.Size([64, 320])\n",
      "relu2: torch.Size([64, 20, 4, 4])\n"
     ]
    },
    {
     "name": "stderr",
     "output_type": "stream",
     "text": [
      "Epoch 1:  77%|███████████████████████████████▍         | 718/938 [00:36<00:14, 14.76batch/s, accuracy=90.6, loss=0.236]"
     ]
    },
    {
     "name": "stdout",
     "output_type": "stream",
     "text": [
      "view: torch.Size([64, 320])\n",
      "relu2: torch.Size([64, 20, 4, 4])\n",
      "view: torch.Size([64, 320])\n",
      "relu2: torch.Size([64, 20, 4, 4])\n",
      "view: torch.Size([64, 320])\n"
     ]
    },
    {
     "name": "stderr",
     "output_type": "stream",
     "text": [
      "Epoch 1:  77%|███████████████████████████████▌         | 722/938 [00:37<00:15, 14.10batch/s, accuracy=82.8, loss=0.665]"
     ]
    },
    {
     "name": "stdout",
     "output_type": "stream",
     "text": [
      "relu2: torch.Size([64, 20, 4, 4])\n",
      "view: torch.Size([64, 320])\n",
      "relu2: torch.Size([64, 20, 4, 4])\n",
      "view: torch.Size([64, 320])\n",
      "relu2: torch.Size([64, 20, 4, 4])\n",
      "view: torch.Size([64, 320])\n",
      "relu2: torch.Size([64, 20, 4, 4])\n"
     ]
    },
    {
     "name": "stderr",
     "output_type": "stream",
     "text": [
      "Epoch 1:  77%|███████████████████████████████▋         | 724/938 [00:37<00:14, 14.54batch/s, accuracy=90.6, loss=0.329]"
     ]
    },
    {
     "name": "stdout",
     "output_type": "stream",
     "text": [
      "view: torch.Size([64, 320])\n",
      "relu2: torch.Size([64, 20, 4, 4])\n",
      "view: torch.Size([64, 320])\n",
      "relu2: torch.Size([64, 20, 4, 4])\n",
      "view: torch.Size([64, 320])\n",
      "relu2: torch.Size([64, 20, 4, 4])\n",
      "view: torch.Size([64, 320])\n"
     ]
    },
    {
     "name": "stderr",
     "output_type": "stream",
     "text": [
      "Epoch 1:  78%|███████████████████████████████▊         | 728/938 [00:37<00:14, 14.98batch/s, accuracy=95.3, loss=0.154]"
     ]
    },
    {
     "name": "stdout",
     "output_type": "stream",
     "text": [
      "relu2: torch.Size([64, 20, 4, 4])\n",
      "view: torch.Size([64, 320])\n",
      "relu2: torch.Size([64, 20, 4, 4])\n",
      "view: torch.Size([64, 320])\n",
      "relu2: torch.Size([64, 20, 4, 4])\n",
      "view: torch.Size([64, 320])\n",
      "relu2: torch.Size([64, 20, 4, 4])\n"
     ]
    },
    {
     "name": "stderr",
     "output_type": "stream",
     "text": [
      "Epoch 1:  78%|███████████████████████████████▏        | 732/938 [00:37<00:13, 15.38batch/s, accuracy=98.4, loss=0.0385]"
     ]
    },
    {
     "name": "stdout",
     "output_type": "stream",
     "text": [
      "view: torch.Size([64, 320])\n",
      "relu2: torch.Size([64, 20, 4, 4])\n",
      "view: torch.Size([64, 320])\n",
      "relu2: torch.Size([64, 20, 4, 4])\n",
      "view: torch.Size([64, 320])\n",
      "relu2: torch.Size([64, 20, 4, 4])\n"
     ]
    },
    {
     "name": "stderr",
     "output_type": "stream",
     "text": [
      "Epoch 1:  78%|████████████████████████████████         | 734/938 [00:38<00:13, 15.08batch/s, accuracy=93.8, loss=0.184]"
     ]
    },
    {
     "name": "stdout",
     "output_type": "stream",
     "text": [
      "view: torch.Size([64, 320])\n",
      "relu2: torch.Size([64, 20, 4, 4])\n",
      "view: torch.Size([64, 320])\n",
      "relu2: torch.Size([64, 20, 4, 4])\n",
      "view: torch.Size([64, 320])\n"
     ]
    },
    {
     "name": "stderr",
     "output_type": "stream",
     "text": [
      "Epoch 1:  79%|████████████████████████████████▎        | 738/938 [00:38<00:13, 14.87batch/s, accuracy=95.3, loss=0.152]"
     ]
    },
    {
     "name": "stdout",
     "output_type": "stream",
     "text": [
      "relu2: torch.Size([64, 20, 4, 4])\n",
      "view: torch.Size([64, 320])\n",
      "relu2: torch.Size([64, 20, 4, 4])\n",
      "view: torch.Size([64, 320])\n",
      "relu2: torch.Size([64, 20, 4, 4])\n",
      "view: torch.Size([64, 320])\n",
      "relu2: torch.Size([64, 20, 4, 4])\n"
     ]
    },
    {
     "name": "stderr",
     "output_type": "stream",
     "text": [
      "Epoch 1:  79%|████████████████████████████████▎        | 740/938 [00:38<00:12, 15.35batch/s, accuracy=90.6, loss=0.467]"
     ]
    },
    {
     "name": "stdout",
     "output_type": "stream",
     "text": [
      "view: torch.Size([64, 320])\n",
      "relu2: torch.Size([64, 20, 4, 4])\n",
      "view: torch.Size([64, 320])\n",
      "relu2: torch.Size([64, 20, 4, 4])\n",
      "view: torch.Size([64, 320])\n",
      "relu2: torch.Size([64, 20, 4, 4])\n"
     ]
    },
    {
     "name": "stderr",
     "output_type": "stream",
     "text": [
      "Epoch 1:  79%|████████████████████████████████▌        | 744/938 [00:38<00:12, 15.03batch/s, accuracy=96.9, loss=0.177]"
     ]
    },
    {
     "name": "stdout",
     "output_type": "stream",
     "text": [
      "view: torch.Size([64, 320])\n",
      "relu2: torch.Size([64, 20, 4, 4])\n",
      "view: torch.Size([64, 320])\n",
      "relu2: torch.Size([64, 20, 4, 4])\n",
      "view: torch.Size([64, 320])\n",
      "relu2: torch.Size([64, 20, 4, 4])\n"
     ]
    },
    {
     "name": "stderr",
     "output_type": "stream",
     "text": [
      "Epoch 1:  80%|████████████████████████████████▌        | 746/938 [00:38<00:12, 15.18batch/s, accuracy=87.5, loss=0.383]"
     ]
    },
    {
     "name": "stdout",
     "output_type": "stream",
     "text": [
      "view: torch.Size([64, 320])\n",
      "relu2: torch.Size([64, 20, 4, 4])\n",
      "view: torch.Size([64, 320])\n",
      "relu2: torch.Size([64, 20, 4, 4])\n",
      "view: torch.Size([64, 320])\n",
      "relu2: torch.Size([64, 20, 4, 4])\n"
     ]
    },
    {
     "name": "stderr",
     "output_type": "stream",
     "text": [
      "Epoch 1:  80%|████████████████████████████████▊        | 750/938 [00:39<00:12, 15.00batch/s, accuracy=90.6, loss=0.231]"
     ]
    },
    {
     "name": "stdout",
     "output_type": "stream",
     "text": [
      "view: torch.Size([64, 320])\n",
      "relu2: torch.Size([64, 20, 4, 4])\n",
      "view: torch.Size([64, 320])\n",
      "relu2: torch.Size([64, 20, 4, 4])\n",
      "view: torch.Size([64, 320])\n"
     ]
    },
    {
     "name": "stderr",
     "output_type": "stream",
     "text": [
      "Epoch 1:  80%|████████████████████████████████▊        | 752/938 [00:39<00:12, 15.13batch/s, accuracy=92.2, loss=0.214]"
     ]
    },
    {
     "name": "stdout",
     "output_type": "stream",
     "text": [
      "relu2: torch.Size([64, 20, 4, 4])\n",
      "view: torch.Size([64, 320])\n",
      "relu2: torch.Size([64, 20, 4, 4])\n",
      "view: torch.Size([64, 320])\n",
      "relu2: torch.Size([64, 20, 4, 4])\n",
      "view: torch.Size([64, 320])\n",
      "relu2: torch.Size([64, 20, 4, 4])\n"
     ]
    },
    {
     "name": "stderr",
     "output_type": "stream",
     "text": [
      "Epoch 1:  81%|█████████████████████████████████▊        | 756/938 [00:39<00:12, 15.06batch/s, accuracy=87.5, loss=0.44]"
     ]
    },
    {
     "name": "stdout",
     "output_type": "stream",
     "text": [
      "view: torch.Size([64, 320])\n",
      "relu2: torch.Size([64, 20, 4, 4])\n",
      "view: torch.Size([64, 320])\n",
      "relu2: torch.Size([64, 20, 4, 4])\n",
      "view: torch.Size([64, 320])\n",
      "relu2: torch.Size([64, 20, 4, 4])\n"
     ]
    },
    {
     "name": "stderr",
     "output_type": "stream",
     "text": [
      "Epoch 1:  81%|█████████████████████████████████▏       | 758/938 [00:39<00:11, 15.71batch/s, accuracy=93.8, loss=0.321]"
     ]
    },
    {
     "name": "stdout",
     "output_type": "stream",
     "text": [
      "view: torch.Size([64, 320])\n",
      "relu2: torch.Size([64, 20, 4, 4])\n",
      "view: torch.Size([64, 320])\n",
      "relu2: torch.Size([64, 20, 4, 4])\n",
      "view: torch.Size([64, 320])\n",
      "relu2: torch.Size([64, 20, 4, 4])\n"
     ]
    },
    {
     "name": "stderr",
     "output_type": "stream",
     "text": [
      "Epoch 1:  81%|█████████████████████████████████▎       | 762/938 [00:39<00:11, 15.99batch/s, accuracy=95.3, loss=0.181]"
     ]
    },
    {
     "name": "stdout",
     "output_type": "stream",
     "text": [
      "view: torch.Size([64, 320])\n",
      "relu2: torch.Size([64, 20, 4, 4])\n",
      "view: torch.Size([64, 320])\n",
      "relu2: torch.Size([64, 20, 4, 4])\n",
      "view: torch.Size([64, 320])\n",
      "relu2: torch.Size([64, 20, 4, 4])\n"
     ]
    },
    {
     "name": "stderr",
     "output_type": "stream",
     "text": [
      "Epoch 1:  81%|████████████████████████████████▌       | 764/938 [00:39<00:10, 16.01batch/s, accuracy=98.4, loss=0.0553]"
     ]
    },
    {
     "name": "stdout",
     "output_type": "stream",
     "text": [
      "view: torch.Size([64, 320])\n",
      "relu2: torch.Size([64, 20, 4, 4])\n",
      "view: torch.Size([64, 320])\n",
      "relu2: torch.Size([64, 20, 4, 4])\n",
      "view: torch.Size([64, 320])\n",
      "relu2: torch.Size([64, 20, 4, 4])\n"
     ]
    },
    {
     "name": "stderr",
     "output_type": "stream",
     "text": [
      "Epoch 1:  82%|█████████████████████████████████▌       | 768/938 [00:40<00:10, 16.34batch/s, accuracy=96.9, loss=0.103]"
     ]
    },
    {
     "name": "stdout",
     "output_type": "stream",
     "text": [
      "view: torch.Size([64, 320])\n",
      "relu2: torch.Size([64, 20, 4, 4])\n",
      "view: torch.Size([64, 320])\n",
      "relu2: torch.Size([64, 20, 4, 4])\n",
      "view: torch.Size([64, 320])\n",
      "relu2: torch.Size([64, 20, 4, 4])\n"
     ]
    },
    {
     "name": "stderr",
     "output_type": "stream",
     "text": [
      "Epoch 1:  82%|█████████████████████████████████▋       | 770/938 [00:40<00:10, 15.90batch/s, accuracy=92.2, loss=0.219]"
     ]
    },
    {
     "name": "stdout",
     "output_type": "stream",
     "text": [
      "view: torch.Size([64, 320])\n",
      "relu2: torch.Size([64, 20, 4, 4])\n",
      "view: torch.Size([64, 320])\n",
      "relu2: torch.Size([64, 20, 4, 4])\n",
      "view: torch.Size([64, 320])\n",
      "relu2: torch.Size([64, 20, 4, 4])\n",
      "view: torch.Size([64, 320])\n"
     ]
    },
    {
     "name": "stderr",
     "output_type": "stream",
     "text": [
      "Epoch 1:  83%|██████████████████████████████████▋       | 774/938 [00:40<00:09, 16.54batch/s, accuracy=96.9, loss=0.14]"
     ]
    },
    {
     "name": "stdout",
     "output_type": "stream",
     "text": [
      "relu2: torch.Size([64, 20, 4, 4])\n",
      "view: torch.Size([64, 320])\n",
      "relu2: torch.Size([64, 20, 4, 4])\n",
      "view: torch.Size([64, 320])\n",
      "relu2: torch.Size([64, 20, 4, 4])\n",
      "view: torch.Size([64, 320])\n",
      "relu2: torch.Size([64, 20, 4, 4])\n",
      "view: torch.Size([64, 320])\n"
     ]
    },
    {
     "name": "stderr",
     "output_type": "stream",
     "text": [
      "Epoch 1:  83%|██████████████████████████████████       | 778/938 [00:40<00:09, 17.04batch/s, accuracy=95.3, loss=0.182]"
     ]
    },
    {
     "name": "stdout",
     "output_type": "stream",
     "text": [
      "relu2: torch.Size([64, 20, 4, 4])\n",
      "view: torch.Size([64, 320])\n",
      "relu2: torch.Size([64, 20, 4, 4])\n",
      "view: torch.Size([64, 320])\n",
      "relu2: torch.Size([64, 20, 4, 4])\n",
      "view: torch.Size([64, 320])\n",
      "relu2: torch.Size([64, 20, 4, 4])\n",
      "view: torch.Size([64, 320])\n"
     ]
    },
    {
     "name": "stderr",
     "output_type": "stream",
     "text": [
      "Epoch 1:  83%|██████████████████████████████████▏      | 782/938 [00:41<00:09, 15.95batch/s, accuracy=95.3, loss=0.235]"
     ]
    },
    {
     "name": "stdout",
     "output_type": "stream",
     "text": [
      "relu2: torch.Size([64, 20, 4, 4])\n",
      "view: torch.Size([64, 320])\n",
      "relu2: torch.Size([64, 20, 4, 4])\n",
      "view: torch.Size([64, 320])\n",
      "relu2: torch.Size([64, 20, 4, 4])\n",
      "view: torch.Size([64, 320])\n"
     ]
    },
    {
     "name": "stderr",
     "output_type": "stream",
     "text": [
      "Epoch 1:  84%|██████████████████████████████████▎      | 786/938 [00:41<00:09, 15.94batch/s, accuracy=93.8, loss=0.213]"
     ]
    },
    {
     "name": "stdout",
     "output_type": "stream",
     "text": [
      "relu2: torch.Size([64, 20, 4, 4])\n",
      "view: torch.Size([64, 320])\n",
      "relu2: torch.Size([64, 20, 4, 4])\n",
      "view: torch.Size([64, 320])\n",
      "relu2: torch.Size([64, 20, 4, 4])\n",
      "view: torch.Size([64, 320])\n",
      "relu2: torch.Size([64, 20, 4, 4])\n"
     ]
    },
    {
     "name": "stderr",
     "output_type": "stream",
     "text": [
      "Epoch 1:  84%|██████████████████████████████████▍      | 788/938 [00:41<00:09, 15.93batch/s, accuracy=98.4, loss=0.131]"
     ]
    },
    {
     "name": "stdout",
     "output_type": "stream",
     "text": [
      "view: torch.Size([64, 320])\n",
      "relu2: torch.Size([64, 20, 4, 4])\n",
      "view: torch.Size([64, 320])\n",
      "relu2: torch.Size([64, 20, 4, 4])\n",
      "view: torch.Size([64, 320])\n",
      "relu2: torch.Size([64, 20, 4, 4])\n"
     ]
    },
    {
     "name": "stderr",
     "output_type": "stream",
     "text": [
      "Epoch 1:  84%|██████████████████████████████████▌      | 792/938 [00:41<00:08, 16.54batch/s, accuracy=95.3, loss=0.143]"
     ]
    },
    {
     "name": "stdout",
     "output_type": "stream",
     "text": [
      "view: torch.Size([64, 320])\n",
      "relu2: torch.Size([64, 20, 4, 4])\n",
      "view: torch.Size([64, 320])\n",
      "relu2: torch.Size([64, 20, 4, 4])\n",
      "view: torch.Size([64, 320])\n",
      "relu2: torch.Size([64, 20, 4, 4])\n",
      "view: torch.Size([64, 320])\n"
     ]
    },
    {
     "name": "stderr",
     "output_type": "stream",
     "text": [
      "Epoch 1:  85%|██████████████████████████████████▊      | 796/938 [00:41<00:08, 16.47batch/s, accuracy=98.4, loss=0.145]"
     ]
    },
    {
     "name": "stdout",
     "output_type": "stream",
     "text": [
      "relu2: torch.Size([64, 20, 4, 4])\n",
      "view: torch.Size([64, 320])\n",
      "relu2: torch.Size([64, 20, 4, 4])\n",
      "view: torch.Size([64, 320])\n",
      "relu2: torch.Size([64, 20, 4, 4])\n",
      "view: torch.Size([64, 320])\n",
      "relu2: torch.Size([64, 20, 4, 4])\n",
      "view: torch.Size([64, 320])\n"
     ]
    },
    {
     "name": "stderr",
     "output_type": "stream",
     "text": [
      "Epoch 1:  85%|██████████████████████████████████▉      | 800/938 [00:42<00:08, 16.90batch/s, accuracy=96.9, loss=0.173]"
     ]
    },
    {
     "name": "stdout",
     "output_type": "stream",
     "text": [
      "relu2: torch.Size([64, 20, 4, 4])\n",
      "view: torch.Size([64, 320])\n",
      "relu2: torch.Size([64, 20, 4, 4])\n",
      "view: torch.Size([64, 320])\n",
      "relu2: torch.Size([64, 20, 4, 4])\n",
      "view: torch.Size([64, 320])\n",
      "relu2: torch.Size([64, 20, 4, 4])\n"
     ]
    },
    {
     "name": "stderr",
     "output_type": "stream",
     "text": [
      "Epoch 1:  86%|███████████████████████████████████      | 802/938 [00:42<00:08, 16.97batch/s, accuracy=90.6, loss=0.277]"
     ]
    },
    {
     "name": "stdout",
     "output_type": "stream",
     "text": [
      "view: torch.Size([64, 320])\n",
      "relu2: torch.Size([64, 20, 4, 4])\n",
      "view: torch.Size([64, 320])\n",
      "relu2: torch.Size([64, 20, 4, 4])\n",
      "view: torch.Size([64, 320])\n",
      "relu2: torch.Size([64, 20, 4, 4])\n",
      "view: torch.Size([64, 320])\n"
     ]
    },
    {
     "name": "stderr",
     "output_type": "stream",
     "text": [
      "Epoch 1:  86%|███████████████████████████████████▏     | 806/938 [00:42<00:07, 17.42batch/s, accuracy=92.2, loss=0.279]"
     ]
    },
    {
     "name": "stdout",
     "output_type": "stream",
     "text": [
      "relu2: torch.Size([64, 20, 4, 4])\n",
      "view: torch.Size([64, 320])\n",
      "relu2: torch.Size([64, 20, 4, 4])\n",
      "view: torch.Size([64, 320])\n",
      "relu2: torch.Size([64, 20, 4, 4])\n",
      "view: torch.Size([64, 320])\n",
      "relu2: torch.Size([64, 20, 4, 4])\n"
     ]
    },
    {
     "name": "stderr",
     "output_type": "stream",
     "text": [
      "Epoch 1:  86%|███████████████████████████████████▍     | 810/938 [00:42<00:07, 16.99batch/s, accuracy=84.4, loss=0.528]"
     ]
    },
    {
     "name": "stdout",
     "output_type": "stream",
     "text": [
      "view: torch.Size([64, 320])\n",
      "relu2: torch.Size([64, 20, 4, 4])\n",
      "view: torch.Size([64, 320])\n",
      "relu2: torch.Size([64, 20, 4, 4])\n",
      "view: torch.Size([64, 320])\n",
      "relu2: torch.Size([64, 20, 4, 4])\n",
      "view: torch.Size([64, 320])\n"
     ]
    },
    {
     "name": "stderr",
     "output_type": "stream",
     "text": [
      "Epoch 1:  87%|██████████████████████████████████▋     | 814/938 [00:42<00:07, 16.84batch/s, accuracy=98.4, loss=0.0686]"
     ]
    },
    {
     "name": "stdout",
     "output_type": "stream",
     "text": [
      "relu2: torch.Size([64, 20, 4, 4])\n",
      "view: torch.Size([64, 320])\n",
      "relu2: torch.Size([64, 20, 4, 4])\n",
      "view: torch.Size([64, 320])\n",
      "relu2: torch.Size([64, 20, 4, 4])\n",
      "view: torch.Size([64, 320])\n",
      "relu2: torch.Size([64, 20, 4, 4])\n"
     ]
    },
    {
     "name": "stderr",
     "output_type": "stream",
     "text": [
      "Epoch 1:  87%|██████████████████████████████████▊     | 816/938 [00:43<00:07, 16.19batch/s, accuracy=98.4, loss=0.0629]"
     ]
    },
    {
     "name": "stdout",
     "output_type": "stream",
     "text": [
      "view: torch.Size([64, 320])\n",
      "relu2: torch.Size([64, 20, 4, 4])\n",
      "view: torch.Size([64, 320])\n",
      "relu2: torch.Size([64, 20, 4, 4])\n",
      "view: torch.Size([64, 320])\n",
      "relu2: torch.Size([64, 20, 4, 4])\n"
     ]
    },
    {
     "name": "stderr",
     "output_type": "stream",
     "text": [
      "Epoch 1:  87%|███████████████████████████████████▊     | 820/938 [00:43<00:07, 15.57batch/s, accuracy=92.2, loss=0.256]"
     ]
    },
    {
     "name": "stdout",
     "output_type": "stream",
     "text": [
      "view: torch.Size([64, 320])\n",
      "relu2: torch.Size([64, 20, 4, 4])\n",
      "view: torch.Size([64, 320])\n",
      "relu2: torch.Size([64, 20, 4, 4])\n",
      "view: torch.Size([64, 320])\n"
     ]
    },
    {
     "name": "stderr",
     "output_type": "stream",
     "text": [
      "Epoch 1:  88%|███████████████████████████████████▉     | 822/938 [00:43<00:07, 15.32batch/s, accuracy=92.2, loss=0.411]"
     ]
    },
    {
     "name": "stdout",
     "output_type": "stream",
     "text": [
      "relu2: torch.Size([64, 20, 4, 4])\n",
      "view: torch.Size([64, 320])\n",
      "relu2: torch.Size([64, 20, 4, 4])\n",
      "view: torch.Size([64, 320])\n",
      "relu2: torch.Size([64, 20, 4, 4])\n",
      "view: torch.Size([64, 320])\n",
      "relu2: torch.Size([64, 20, 4, 4])\n"
     ]
    },
    {
     "name": "stderr",
     "output_type": "stream",
     "text": [
      "Epoch 1:  88%|████████████████████████████████████     | 826/938 [00:43<00:06, 16.02batch/s, accuracy=93.8, loss=0.263]"
     ]
    },
    {
     "name": "stdout",
     "output_type": "stream",
     "text": [
      "view: torch.Size([64, 320])\n",
      "relu2: torch.Size([64, 20, 4, 4])\n",
      "view: torch.Size([64, 320])\n",
      "relu2: torch.Size([64, 20, 4, 4])\n",
      "view: torch.Size([64, 320])\n",
      "relu2: torch.Size([64, 20, 4, 4])\n"
     ]
    },
    {
     "name": "stderr",
     "output_type": "stream",
     "text": [
      "Epoch 1:  88%|███████████████████████████████████▎    | 828/938 [00:43<00:06, 15.91batch/s, accuracy=98.4, loss=0.0609]"
     ]
    },
    {
     "name": "stdout",
     "output_type": "stream",
     "text": [
      "view: torch.Size([64, 320])\n",
      "relu2: torch.Size([64, 20, 4, 4])\n",
      "view: torch.Size([64, 320])\n",
      "relu2: torch.Size([64, 20, 4, 4])\n",
      "view: torch.Size([64, 320])\n",
      "relu2: torch.Size([64, 20, 4, 4])\n"
     ]
    },
    {
     "name": "stderr",
     "output_type": "stream",
     "text": [
      "Epoch 1:  89%|█████████████████████████████████████▎    | 832/938 [00:44<00:06, 15.39batch/s, accuracy=90.6, loss=0.34]"
     ]
    },
    {
     "name": "stdout",
     "output_type": "stream",
     "text": [
      "view: torch.Size([64, 320])\n",
      "relu2: torch.Size([64, 20, 4, 4])\n",
      "view: torch.Size([64, 320])\n",
      "relu2: torch.Size([64, 20, 4, 4])\n",
      "view: torch.Size([64, 320])\n"
     ]
    },
    {
     "name": "stderr",
     "output_type": "stream",
     "text": [
      "Epoch 1:  89%|████████████████████████████████████▍    | 834/938 [00:44<00:06, 15.33batch/s, accuracy=95.3, loss=0.409]"
     ]
    },
    {
     "name": "stdout",
     "output_type": "stream",
     "text": [
      "relu2: torch.Size([64, 20, 4, 4])\n",
      "view: torch.Size([64, 320])\n",
      "relu2: torch.Size([64, 20, 4, 4])\n",
      "view: torch.Size([64, 320])\n",
      "relu2: torch.Size([64, 20, 4, 4])\n",
      "view: torch.Size([64, 320])\n",
      "relu2: torch.Size([64, 20, 4, 4])\n",
      "view: torch.Size([64, 320])\n"
     ]
    },
    {
     "name": "stderr",
     "output_type": "stream",
     "text": [
      "Epoch 1:  89%|████████████████████████████████████▋    | 838/938 [00:44<00:06, 16.03batch/s, accuracy=89.1, loss=0.303]"
     ]
    },
    {
     "name": "stdout",
     "output_type": "stream",
     "text": [
      "relu2: torch.Size([64, 20, 4, 4])\n",
      "view: torch.Size([64, 320])\n",
      "relu2: torch.Size([64, 20, 4, 4])\n",
      "view: torch.Size([64, 320])\n",
      "relu2: torch.Size([64, 20, 4, 4])\n",
      "view: torch.Size([64, 320])\n",
      "relu2: torch.Size([64, 20, 4, 4])\n",
      "view: torch.Size([64, 320])\n"
     ]
    },
    {
     "name": "stderr",
     "output_type": "stream",
     "text": [
      "Epoch 1:  90%|████████████████████████████████████▊    | 842/938 [00:44<00:05, 17.05batch/s, accuracy=92.2, loss=0.336]"
     ]
    },
    {
     "name": "stdout",
     "output_type": "stream",
     "text": [
      "relu2: torch.Size([64, 20, 4, 4])\n",
      "view: torch.Size([64, 320])\n",
      "relu2: torch.Size([64, 20, 4, 4])\n",
      "view: torch.Size([64, 320])\n",
      "relu2: torch.Size([64, 20, 4, 4])\n",
      "view: torch.Size([64, 320])\n",
      "relu2: torch.Size([64, 20, 4, 4])\n",
      "view: torch.Size([64, 320])\n"
     ]
    },
    {
     "name": "stderr",
     "output_type": "stream",
     "text": [
      "Epoch 1:  90%|████████████████████████████████████▉    | 846/938 [00:44<00:05, 17.03batch/s, accuracy=92.2, loss=0.268]"
     ]
    },
    {
     "name": "stdout",
     "output_type": "stream",
     "text": [
      "relu2: torch.Size([64, 20, 4, 4])\n",
      "view: torch.Size([64, 320])\n",
      "relu2: torch.Size([64, 20, 4, 4])\n",
      "view: torch.Size([64, 320])\n",
      "relu2: torch.Size([64, 20, 4, 4])\n",
      "view: torch.Size([64, 320])\n",
      "relu2: torch.Size([64, 20, 4, 4])\n",
      "view: torch.Size([64, 320])\n"
     ]
    },
    {
     "name": "stderr",
     "output_type": "stream",
     "text": [
      "Epoch 1:  91%|█████████████████████████████████████▏   | 850/938 [00:45<00:05, 15.46batch/s, accuracy=90.6, loss=0.514]"
     ]
    },
    {
     "name": "stdout",
     "output_type": "stream",
     "text": [
      "relu2: torch.Size([64, 20, 4, 4])\n",
      "view: torch.Size([64, 320])\n",
      "relu2: torch.Size([64, 20, 4, 4])\n",
      "view: torch.Size([64, 320])\n",
      "relu2: torch.Size([64, 20, 4, 4])\n",
      "view: torch.Size([64, 320])\n",
      "relu2: torch.Size([64, 20, 4, 4])\n"
     ]
    },
    {
     "name": "stderr",
     "output_type": "stream",
     "text": [
      "Epoch 1:  91%|█████████████████████████████████████▏   | 852/938 [00:45<00:05, 15.48batch/s, accuracy=95.3, loss=0.178]"
     ]
    },
    {
     "name": "stdout",
     "output_type": "stream",
     "text": [
      "view: torch.Size([64, 320])\n",
      "relu2: torch.Size([64, 20, 4, 4])\n",
      "view: torch.Size([64, 320])\n",
      "relu2: torch.Size([64, 20, 4, 4])\n",
      "view: torch.Size([64, 320])\n"
     ]
    },
    {
     "name": "stderr",
     "output_type": "stream",
     "text": [
      "Epoch 1:  91%|█████████████████████████████████████▍   | 856/938 [00:45<00:05, 13.96batch/s, accuracy=92.2, loss=0.193]"
     ]
    },
    {
     "name": "stdout",
     "output_type": "stream",
     "text": [
      "relu2: torch.Size([64, 20, 4, 4])\n",
      "view: torch.Size([64, 320])\n",
      "relu2: torch.Size([64, 20, 4, 4])\n",
      "view: torch.Size([64, 320])\n",
      "relu2: torch.Size([64, 20, 4, 4])\n",
      "view: torch.Size([64, 320])\n"
     ]
    },
    {
     "name": "stderr",
     "output_type": "stream",
     "text": [
      "Epoch 1:  92%|█████████████████████████████████████▌   | 860/938 [00:45<00:05, 14.23batch/s, accuracy=96.9, loss=0.125]"
     ]
    },
    {
     "name": "stdout",
     "output_type": "stream",
     "text": [
      "relu2: torch.Size([64, 20, 4, 4])\n",
      "view: torch.Size([64, 320])\n",
      "relu2: torch.Size([64, 20, 4, 4])\n",
      "view: torch.Size([64, 320])\n",
      "relu2: torch.Size([64, 20, 4, 4])\n",
      "view: torch.Size([64, 320])\n"
     ]
    },
    {
     "name": "stderr",
     "output_type": "stream",
     "text": [
      "Epoch 1:  92%|█████████████████████████████████████▋   | 862/938 [00:46<00:05, 13.37batch/s, accuracy=93.8, loss=0.156]"
     ]
    },
    {
     "name": "stdout",
     "output_type": "stream",
     "text": [
      "relu2: torch.Size([64, 20, 4, 4])\n",
      "view: torch.Size([64, 320])\n",
      "relu2: torch.Size([64, 20, 4, 4])\n",
      "view: torch.Size([64, 320])\n",
      "relu2: torch.Size([64, 20, 4, 4])\n",
      "view: torch.Size([64, 320])\n"
     ]
    },
    {
     "name": "stderr",
     "output_type": "stream",
     "text": [
      "Epoch 1:  92%|█████████████████████████████████████▊   | 866/938 [00:46<00:05, 13.69batch/s, accuracy=92.2, loss=0.236]"
     ]
    },
    {
     "name": "stdout",
     "output_type": "stream",
     "text": [
      "relu2: torch.Size([64, 20, 4, 4])\n",
      "view: torch.Size([64, 320])\n",
      "relu2: torch.Size([64, 20, 4, 4])\n",
      "view: torch.Size([64, 320])\n",
      "relu2: torch.Size([64, 20, 4, 4])\n",
      "view: torch.Size([64, 320])\n",
      "relu2: "
     ]
    },
    {
     "name": "stderr",
     "output_type": "stream",
     "text": [
      "Epoch 1:  93%|█████████████████████████████████████▉   | 868/938 [00:46<00:05, 13.93batch/s, accuracy=82.8, loss=0.493]"
     ]
    },
    {
     "name": "stdout",
     "output_type": "stream",
     "text": [
      "torch.Size([64, 20, 4, 4])\n",
      "view: torch.Size([64, 320])\n",
      "relu2: torch.Size([64, 20, 4, 4])\n",
      "view: torch.Size([64, 320])\n",
      "relu2: torch.Size([64, 20, 4, 4])\n",
      "view: torch.Size([64, 320])\n"
     ]
    },
    {
     "name": "stderr",
     "output_type": "stream",
     "text": [
      "Epoch 1:  93%|██████████████████████████████████████   | 872/938 [00:46<00:04, 14.39batch/s, accuracy=93.8, loss=0.164]"
     ]
    },
    {
     "name": "stdout",
     "output_type": "stream",
     "text": [
      "relu2: torch.Size([64, 20, 4, 4])\n",
      "view: torch.Size([64, 320])\n",
      "relu2: torch.Size([64, 20, 4, 4])\n",
      "view: torch.Size([64, 320])\n",
      "relu2: torch.Size([64, 20, 4, 4])\n",
      "view: torch.Size([64, 320])\n",
      "relu2: torch.Size([64, 20, 4, 4])\n"
     ]
    },
    {
     "name": "stderr",
     "output_type": "stream",
     "text": [
      "Epoch 1:  93%|██████████████████████████████████████▏  | 874/938 [00:46<00:04, 14.75batch/s, accuracy=95.3, loss=0.211]"
     ]
    },
    {
     "name": "stdout",
     "output_type": "stream",
     "text": [
      "view: torch.Size([64, 320])\n",
      "relu2: torch.Size([64, 20, 4, 4])\n",
      "view: torch.Size([64, 320])\n",
      "relu2: torch.Size([64, 20, 4, 4])\n",
      "view: torch.Size([64, 320])\n"
     ]
    },
    {
     "name": "stderr",
     "output_type": "stream",
     "text": [
      "Epoch 1:  93%|█████████████████████████████████████▎  | 876/938 [00:47<00:04, 13.83batch/s, accuracy=95.3, loss=0.0914]"
     ]
    },
    {
     "name": "stdout",
     "output_type": "stream",
     "text": [
      "relu2: torch.Size([64, 20, 4, 4])\n",
      "view: torch.Size([64, 320])\n",
      "relu2: torch.Size([64, 20, 4, 4])\n",
      "view: torch.Size([64, 320])\n",
      "relu2: torch.Size([64, 20, 4, 4])\n",
      "view: torch.Size([64, 320])\n"
     ]
    },
    {
     "name": "stderr",
     "output_type": "stream",
     "text": [
      "Epoch 1:  94%|█████████████████████████████████████▌  | 880/938 [00:47<00:04, 12.99batch/s, accuracy=96.9, loss=0.0743]"
     ]
    },
    {
     "name": "stdout",
     "output_type": "stream",
     "text": [
      "relu2: torch.Size([64, 20, 4, 4])\n",
      "view: torch.Size([64, 320])\n",
      "relu2: torch.Size([64, 20, 4, 4])\n",
      "view: torch.Size([64, 320])\n",
      "relu2: torch.Size([64, 20, 4, 4])\n",
      "view: torch.Size([64, 320])\n"
     ]
    },
    {
     "name": "stderr",
     "output_type": "stream",
     "text": [
      "Epoch 1:  94%|███████████████████████████████████████▌  | 884/938 [00:47<00:04, 12.60batch/s, accuracy=90.6, loss=0.32]"
     ]
    },
    {
     "name": "stdout",
     "output_type": "stream",
     "text": [
      "relu2: torch.Size([64, 20, 4, 4])\n",
      "view: torch.Size([64, 320])\n",
      "relu2: torch.Size([64, 20, 4, 4])\n",
      "view: torch.Size([64, 320])\n",
      "relu2: torch.Size([64, 20, 4, 4])\n",
      "view: torch.Size([64, 320])\n"
     ]
    },
    {
     "name": "stderr",
     "output_type": "stream",
     "text": [
      "Epoch 1:  94%|██████████████████████████████████████▋  | 886/938 [00:47<00:04, 12.31batch/s, accuracy=89.1, loss=0.252]"
     ]
    },
    {
     "name": "stdout",
     "output_type": "stream",
     "text": [
      "relu2: torch.Size([64, 20, 4, 4])\n",
      "view: torch.Size([64, 320])\n",
      "relu2: torch.Size([64, 20, 4, 4])\n",
      "view: torch.Size([64, 320])\n",
      "relu2: torch.Size([64, 20, 4, 4])\n"
     ]
    },
    {
     "name": "stderr",
     "output_type": "stream",
     "text": [
      "Epoch 1:  95%|██████████████████████████████████████▊  | 888/938 [00:48<00:04, 11.87batch/s, accuracy=92.2, loss=0.199]"
     ]
    },
    {
     "name": "stdout",
     "output_type": "stream",
     "text": [
      "view: torch.Size([64, 320])\n",
      "relu2: torch.Size([64, 20, 4, 4])\n",
      "view: torch.Size([64, 320])\n",
      "relu2: torch.Size([64, 20, 4, 4])\n",
      "view: torch.Size([64, 320])\n"
     ]
    },
    {
     "name": "stderr",
     "output_type": "stream",
     "text": [
      "Epoch 1:  95%|██████████████████████████████████████▉  | 892/938 [00:48<00:03, 12.37batch/s, accuracy=95.3, loss=0.156]"
     ]
    },
    {
     "name": "stdout",
     "output_type": "stream",
     "text": [
      "relu2: torch.Size([64, 20, 4, 4])\n",
      "view: torch.Size([64, 320])\n",
      "relu2: torch.Size([64, 20, 4, 4])\n",
      "view: torch.Size([64, 320])\n",
      "relu2: torch.Size([64, 20, 4, 4])\n",
      "view: torch.Size([64, 320])\n"
     ]
    },
    {
     "name": "stderr",
     "output_type": "stream",
     "text": [
      "Epoch 1:  95%|████████████████████████████████████████  | 894/938 [00:48<00:03, 12.40batch/s, accuracy=95.3, loss=0.13]"
     ]
    },
    {
     "name": "stdout",
     "output_type": "stream",
     "text": [
      "relu2: torch.Size([64, 20, 4, 4])\n",
      "view: torch.Size([64, 320])\n",
      "relu2: torch.Size([64, 20, 4, 4])\n",
      "view: torch.Size([64, 320])\n",
      "relu2: torch.Size([64, 20, 4, 4])\n",
      "view: torch.Size([64, 320])\n"
     ]
    },
    {
     "name": "stderr",
     "output_type": "stream",
     "text": [
      "Epoch 1:  96%|███████████████████████████████████████▎ | 898/938 [00:48<00:03, 12.68batch/s, accuracy=95.3, loss=0.214]"
     ]
    },
    {
     "name": "stdout",
     "output_type": "stream",
     "text": [
      "relu2: torch.Size([64, 20, 4, 4])\n",
      "view: torch.Size([64, 320])\n",
      "relu2: torch.Size([64, 20, 4, 4])\n",
      "view: torch.Size([64, 320])\n",
      "relu2: torch.Size([64, 20, 4, 4])\n",
      "view: torch.Size([64, 320])\n"
     ]
    },
    {
     "name": "stderr",
     "output_type": "stream",
     "text": [
      "Epoch 1:  96%|███████████████████████████████████████▎ | 900/938 [00:49<00:02, 12.88batch/s, accuracy=96.9, loss=0.187]"
     ]
    },
    {
     "name": "stdout",
     "output_type": "stream",
     "text": [
      "relu2: torch.Size([64, 20, 4, 4])\n",
      "view: torch.Size([64, 320])\n",
      "relu2: torch.Size([64, 20, 4, 4])\n",
      "view: torch.Size([64, 320])\n",
      "relu2: torch.Size([64, 20, 4, 4])\n",
      "view: torch.Size([64, 320])\n"
     ]
    },
    {
     "name": "stderr",
     "output_type": "stream",
     "text": [
      "Epoch 1:  96%|████████████████████████████████████████▍ | 902/938 [00:49<00:02, 12.48batch/s, accuracy=90.6, loss=0.37]"
     ]
    },
    {
     "name": "stdout",
     "output_type": "stream",
     "text": [
      "relu2: torch.Size([64, 20, 4, 4])\n",
      "view: torch.Size([64, 320])\n"
     ]
    },
    {
     "name": "stderr",
     "output_type": "stream",
     "text": [
      "Epoch 1:  96%|███████████████████████████████████████▍ | 902/938 [00:49<00:02, 12.48batch/s, accuracy=96.9, loss=0.127]"
     ]
    },
    {
     "name": "stdout",
     "output_type": "stream",
     "text": [
      "relu2: torch.Size([64, 20, 4, 4])\n",
      "view: torch.Size([64, 320])\n",
      "relu2: torch.Size([64, 20, 4, 4])\n",
      "view: torch.Size([64, 320])\n"
     ]
    },
    {
     "name": "stderr",
     "output_type": "stream",
     "text": [
      "Epoch 1:  97%|███████████████████████████████████████▌ | 906/938 [00:49<00:03,  9.23batch/s, accuracy=93.8, loss=0.131]"
     ]
    },
    {
     "name": "stdout",
     "output_type": "stream",
     "text": [
      "relu2: torch.Size([64, 20, 4, 4])\n",
      "view: torch.Size([64, 320])\n",
      "relu2: torch.Size([64, 20, 4, 4])\n",
      "view: torch.Size([64, 320])\n",
      "relu2: torch.Size([64, 20, 4, 4])\n",
      "view: torch.Size([64, 320])\n"
     ]
    },
    {
     "name": "stderr",
     "output_type": "stream",
     "text": [
      "Epoch 1:  97%|███████████████████████████████████████▊ | 910/938 [00:50<00:02, 10.86batch/s, accuracy=95.3, loss=0.167]"
     ]
    },
    {
     "name": "stdout",
     "output_type": "stream",
     "text": [
      "relu2: torch.Size([64, 20, 4, 4])\n",
      "view: torch.Size([64, 320])\n",
      "relu2: torch.Size([64, 20, 4, 4])\n",
      "view: torch.Size([64, 320])\n",
      "relu2: torch.Size([64, 20, 4, 4])\n",
      "view: torch.Size([64, 320])\n"
     ]
    },
    {
     "name": "stderr",
     "output_type": "stream",
     "text": [
      "Epoch 1:  97%|███████████████████████████████████████▊ | 912/938 [00:50<00:02, 11.49batch/s, accuracy=95.3, loss=0.149]"
     ]
    },
    {
     "name": "stdout",
     "output_type": "stream",
     "text": [
      "relu2: torch.Size([64, 20, 4, 4])\n",
      "view: torch.Size([64, 320])\n",
      "relu2: torch.Size([64, 20, 4, 4])\n",
      "view: torch.Size([64, 320])\n",
      "relu2: torch.Size([64, 20, 4, 4])\n",
      "view: torch.Size([64, 320])\n",
      "relu2: torch.Size([64, 20, 4, 4])\n"
     ]
    },
    {
     "name": "stderr",
     "output_type": "stream",
     "text": [
      "Epoch 1:  98%|████████████████████████████████████████ | 916/938 [00:50<00:01, 12.75batch/s, accuracy=90.6, loss=0.242]"
     ]
    },
    {
     "name": "stdout",
     "output_type": "stream",
     "text": [
      "view: torch.Size([64, 320])\n",
      "relu2: torch.Size([64, 20, 4, 4])\n",
      "view: torch.Size([64, 320])\n",
      "relu2: torch.Size([64, 20, 4, 4])\n",
      "view: torch.Size([64, 320])\n"
     ]
    },
    {
     "name": "stderr",
     "output_type": "stream",
     "text": [
      "Epoch 1:  98%|█████████████████████████████████████████ | 918/938 [00:50<00:01, 13.13batch/s, accuracy=98.4, loss=0.06]"
     ]
    },
    {
     "name": "stdout",
     "output_type": "stream",
     "text": [
      "relu2: torch.Size([64, 20, 4, 4])\n",
      "view: torch.Size([64, 320])\n",
      "relu2: torch.Size([64, 20, 4, 4])\n",
      "view: torch.Size([64, 320])\n",
      "relu2: torch.Size([64, 20, 4, 4])\n",
      "view: torch.Size([64, 320])\n",
      "relu2: torch.Size([64, 20, 4, 4])\n"
     ]
    },
    {
     "name": "stderr",
     "output_type": "stream",
     "text": [
      "Epoch 1:  98%|██████████████████████████████████████████▎| 922/938 [00:50<00:01, 14.36batch/s, accuracy=90.6, loss=0.2]"
     ]
    },
    {
     "name": "stdout",
     "output_type": "stream",
     "text": [
      "view: torch.Size([64, 320])\n",
      "relu2: torch.Size([64, 20, 4, 4])\n",
      "view: torch.Size([64, 320])\n",
      "relu2: torch.Size([64, 20, 4, 4])\n",
      "view: torch.Size([64, 320])\n",
      "relu2: torch.Size([64, 20, 4, 4])\n"
     ]
    },
    {
     "name": "stderr",
     "output_type": "stream",
     "text": [
      "Epoch 1:  99%|████████████████████████████████████████▍| 924/938 [00:51<00:00, 14.32batch/s, accuracy=90.6, loss=0.314]"
     ]
    },
    {
     "name": "stdout",
     "output_type": "stream",
     "text": [
      "view: torch.Size([64, 320])\n",
      "relu2: torch.Size([64, 20, 4, 4])\n",
      "view: torch.Size([64, 320])\n",
      "relu2: torch.Size([64, 20, 4, 4])\n",
      "view: torch.Size([64, 320])\n"
     ]
    },
    {
     "name": "stderr",
     "output_type": "stream",
     "text": [
      "Epoch 1:  99%|███████████████████████████████████████▌| 928/938 [00:51<00:00, 14.86batch/s, accuracy=95.3, loss=0.0995]"
     ]
    },
    {
     "name": "stdout",
     "output_type": "stream",
     "text": [
      "relu2: torch.Size([64, 20, 4, 4])\n",
      "view: torch.Size([64, 320])\n",
      "relu2: torch.Size([64, 20, 4, 4])\n",
      "view: torch.Size([64, 320])\n",
      "relu2: torch.Size([64, 20, 4, 4])\n",
      "view: torch.Size([64, 320])\n",
      "relu2: torch.Size([64, 20, 4, 4])\n"
     ]
    },
    {
     "name": "stderr",
     "output_type": "stream",
     "text": [
      "Epoch 1:  99%|████████████████████████████████████████▋| 930/938 [00:51<00:00, 15.13batch/s, accuracy=92.2, loss=0.401]"
     ]
    },
    {
     "name": "stdout",
     "output_type": "stream",
     "text": [
      "view: torch.Size([64, 320])\n",
      "relu2: torch.Size([64, 20, 4, 4])\n",
      "view: torch.Size([64, 320])\n",
      "relu2: torch.Size([64, 20, 4, 4])\n",
      "view: torch.Size([64, 320])\n",
      "relu2: torch.Size([64, 20, 4, 4])\n"
     ]
    },
    {
     "name": "stderr",
     "output_type": "stream",
     "text": [
      "Epoch 1: 100%|████████████████████████████████████████▊| 934/938 [00:51<00:00, 15.18batch/s, accuracy=95.3, loss=0.114]"
     ]
    },
    {
     "name": "stdout",
     "output_type": "stream",
     "text": [
      "view: torch.Size([64, 320])\n",
      "relu2: torch.Size([64, 20, 4, 4])\n",
      "view: torch.Size([64, 320])\n",
      "relu2: torch.Size([64, 20, 4, 4])\n",
      "view: torch.Size([64, 320])\n",
      "relu2: torch.Size([64, 20, 4, 4])\n"
     ]
    },
    {
     "name": "stderr",
     "output_type": "stream",
     "text": [
      "Epoch 1: 100%|█████████████████████████████████████████| 938/938 [00:51<00:00, 16.35batch/s, accuracy=42.2, loss=0.409]"
     ]
    },
    {
     "name": "stdout",
     "output_type": "stream",
     "text": [
      "view: torch.Size([64, 320])\n",
      "relu2: torch.Size([64, 20, 4, 4])\n",
      "view: torch.Size([64, 320])\n",
      "relu2: torch.Size([64, 20, 4, 4])\n",
      "view: torch.Size([64, 320])\n",
      "relu2: torch.Size([32, 20, 4, 4])\n",
      "view: torch.Size([32, 320])\n"
     ]
    },
    {
     "name": "stderr",
     "output_type": "stream",
     "text": [
      "Epoch 1: 100%|█████████████████████████████████████████| 938/938 [00:51<00:00, 18.07batch/s, accuracy=42.2, loss=0.409]\n"
     ]
    },
    {
     "name": "stdout",
     "output_type": "stream",
     "text": [
      "relu2: torch.Size([64, 20, 4, 4])\n",
      "view: torch.Size([64, 320])\n",
      "relu2: torch.Size([64, 20, 4, 4])\n",
      "view: torch.Size([64, 320])\n",
      "relu2: torch.Size([64, 20, 4, 4])\n",
      "view: torch.Size([64, 320])\n",
      "relu2: torch.Size([64, 20, 4, 4])\n",
      "view: torch.Size([64, 320])\n",
      "relu2: torch.Size([64, 20, 4, 4])\n",
      "view: torch.Size([64, 320])\n",
      "relu2: torch.Size([64, 20, 4, 4])\n",
      "view: torch.Size([64, 320])\n",
      "relu2: torch.Size([64, 20, 4, 4])\n",
      "view: torch.Size([64, 320])\n",
      "relu2: torch.Size([64, 20, 4, 4])\n",
      "view: torch.Size([64, 320])\n",
      "relu2: torch.Size([64, 20, 4, 4])\n",
      "view: torch.Size([64, 320])\n",
      "relu2: torch.Size([64, 20, 4, 4])\n",
      "view: torch.Size([64, 320])\n",
      "relu2: torch.Size([64, 20, 4, 4])\n",
      "view: torch.Size([64, 320])\n",
      "relu2: torch.Size([64, 20, 4, 4])\n",
      "view: torch.Size([64, 320])\n",
      "relu2: torch.Size([64, 20, 4, 4])\n",
      "view: torch.Size([64, 320])\n",
      "relu2: torch.Size([64, 20, 4, 4])\n",
      "view: torch.Size([64, 320])\n",
      "relu2: torch.Size([64, 20, 4, 4])\n",
      "view: torch.Size([64, 320])\n",
      "relu2: torch.Size([64, 20, 4, 4])\n",
      "view: torch.Size([64, 320])\n",
      "relu2: torch.Size([64, 20, 4, 4])\n",
      "view: torch.Size([64, 320])\n",
      "relu2: torch.Size([64, 20, 4, 4])\n",
      "view: torch.Size([64, 320])\n",
      "relu2: torch.Size([64, 20, 4, 4])\n",
      "view: torch.Size([64, 320])\n",
      "relu2: torch.Size([64, 20, 4, 4])\n",
      "view: torch.Size([64, 320])\n",
      "relu2: torch.Size([64, 20, 4, 4])\n",
      "view: torch.Size([64, 320])\n",
      "relu2: torch.Size([64, 20, 4, 4])\n",
      "view: torch.Size([64, 320])\n",
      "relu2: torch.Size([64, 20, 4, 4])\n",
      "view: torch.Size([64, 320])\n",
      "relu2: torch.Size([64, 20, 4, 4])\n",
      "view: torch.Size([64, 320])\n",
      "relu2: torch.Size([64, 20, 4, 4])\n",
      "view: torch.Size([64, 320])\n",
      "relu2: torch.Size([64, 20, 4, 4])\n",
      "view: torch.Size([64, 320])\n",
      "relu2: torch.Size([64, 20, 4, 4])\n",
      "view: torch.Size([64, 320])\n",
      "relu2: torch.Size([64, 20, 4, 4])\n",
      "view: torch.Size([64, 320])\n",
      "relu2: torch.Size([64, 20, 4, 4])\n",
      "view: torch.Size([64, 320])\n",
      "relu2: torch.Size([64, 20, 4, 4])\n",
      "view: torch.Size([64, 320])\n",
      "relu2: torch.Size([64, 20, 4, 4])\n",
      "view: torch.Size([64, 320])\n",
      "relu2: torch.Size([64, 20, 4, 4])\n",
      "view: torch.Size([64, 320])\n",
      "relu2: torch.Size([64, 20, 4, 4])\n",
      "view: torch.Size([64, 320])\n",
      "relu2: torch.Size([64, 20, 4, 4])\n",
      "view: torch.Size([64, 320])\n",
      "relu2: torch.Size([64, 20, 4, 4])\n",
      "view: torch.Size([64, 320])\n",
      "relu2: torch.Size([64, 20, 4, 4])\n",
      "view: torch.Size([64, 320])\n",
      "relu2: torch.Size([64, 20, 4, 4])\n",
      "view: torch.Size([64, 320])\n",
      "relu2: torch.Size([64, 20, 4, 4])\n",
      "view: torch.Size([64, 320])\n",
      "relu2: torch.Size([64, 20, 4, 4])\n",
      "view: torch.Size([64, 320])\n",
      "relu2: torch.Size([64, 20, 4, 4])\n",
      "view: torch.Size([64, 320])\n",
      "relu2: torch.Size([64, 20, 4, 4])\n",
      "view: torch.Size([64, 320])\n",
      "relu2: torch.Size([64, 20, 4, 4])\n",
      "view: torch.Size([64, 320])\n",
      "relu2: torch.Size([64, 20, 4, 4])\n",
      "view: torch.Size([64, 320])\n",
      "relu2: torch.Size([64, 20, 4, 4])\n",
      "view: torch.Size([64, 320])\n",
      "relu2: torch.Size([64, 20, 4, 4])\n",
      "view: torch.Size([64, 320])\n",
      "relu2: torch.Size([64, 20, 4, 4])\n",
      "view: torch.Size([64, 320])\n",
      "relu2: torch.Size([64, 20, 4, 4])\n",
      "view: torch.Size([64, 320])\n",
      "relu2: torch.Size([64, 20, 4, 4])\n",
      "view: torch.Size([64, 320])\n",
      "relu2: torch.Size([64, 20, 4, 4])\n",
      "view: torch.Size([64, 320])\n",
      "relu2: torch.Size([64, 20, 4, 4])\n",
      "view: torch.Size([64, 320])\n",
      "relu2: torch.Size([64, 20, 4, 4])\n",
      "view: torch.Size([64, 320])\n",
      "relu2: torch.Size([64, 20, 4, 4])\n",
      "view: torch.Size([64, 320])\n",
      "relu2: torch.Size([64, 20, 4, 4])\n",
      "view: torch.Size([64, 320])\n",
      "relu2: torch.Size([64, 20, 4, 4])\n",
      "view: torch.Size([64, 320])\n",
      "relu2: torch.Size([64, 20, 4, 4])\n",
      "view: torch.Size([64, 320])\n",
      "relu2: torch.Size([64, 20, 4, 4])\n",
      "view: torch.Size([64, 320])\n",
      "relu2: torch.Size([64, 20, 4, 4])\n",
      "view: torch.Size([64, 320])\n",
      "relu2: torch.Size([64, 20, 4, 4])\n",
      "view: torch.Size([64, 320])\n",
      "relu2: torch.Size([64, 20, 4, 4])\n",
      "view: torch.Size([64, 320])\n",
      "relu2: torch.Size([64, 20, 4, 4])\n",
      "view: torch.Size([64, 320])\n",
      "relu2: torch.Size([64, 20, 4, 4])\n",
      "view: torch.Size([64, 320])\n",
      "relu2: torch.Size([64, 20, 4, 4])\n",
      "view: torch.Size([64, 320])\n",
      "relu2: torch.Size([64, 20, 4, 4])\n",
      "view: torch.Size([64, 320])\n",
      "relu2: torch.Size([64, 20, 4, 4])\n",
      "view: torch.Size([64, 320])\n",
      "relu2: torch.Size([64, 20, 4, 4])\n",
      "view: torch.Size([64, 320])\n",
      "relu2: torch.Size([64, 20, 4, 4])\n",
      "view: torch.Size([64, 320])\n",
      "relu2: torch.Size([64, 20, 4, 4])\n",
      "view: torch.Size([64, 320])\n",
      "relu2: torch.Size([64, 20, 4, 4])\n",
      "view: torch.Size([64, 320])\n",
      "relu2: torch.Size([64, 20, 4, 4])\n",
      "view: torch.Size([64, 320])\n",
      "relu2: torch.Size([64, 20, 4, 4])\n",
      "view: torch.Size([64, 320])\n",
      "relu2: torch.Size([64, 20, 4, 4])\n",
      "view: torch.Size([64, 320])\n",
      "relu2: torch.Size([64, 20, 4, 4])\n",
      "view: torch.Size([64, 320])\n",
      "relu2: torch.Size([64, 20, 4, 4])\n",
      "view: torch.Size([64, 320])\n",
      "relu2: torch.Size([64, 20, 4, 4])\n",
      "view: torch.Size([64, 320])\n",
      "relu2: torch.Size([64, 20, 4, 4])\n",
      "view: torch.Size([64, 320])\n",
      "relu2: torch.Size([64, 20, 4, 4])\n",
      "view: torch.Size([64, 320])\n",
      "relu2: torch.Size([64, 20, 4, 4])\n",
      "view: torch.Size([64, 320])\n",
      "relu2: torch.Size([64, 20, 4, 4])\n",
      "view: torch.Size([64, 320])\n",
      "relu2: torch.Size([64, 20, 4, 4])\n",
      "view: torch.Size([64, 320])\n",
      "relu2: torch.Size([64, 20, 4, 4])\n",
      "view: torch.Size([64, 320])\n",
      "relu2: torch.Size([64, 20, 4, 4])\n",
      "view: torch.Size([64, 320])\n",
      "relu2: torch.Size([64, 20, 4, 4])\n",
      "view: torch.Size([64, 320])\n",
      "relu2: torch.Size([64, 20, 4, 4])\n",
      "view: torch.Size([64, 320])\n",
      "relu2: torch.Size([64, 20, 4, 4])\n",
      "view: torch.Size([64, 320])\n",
      "relu2: torch.Size([64, 20, 4, 4])\n",
      "view: torch.Size([64, 320])\n",
      "relu2: torch.Size([64, 20, 4, 4])\n",
      "view: torch.Size([64, 320])\n",
      "relu2: torch.Size([64, 20, 4, 4])\n",
      "view: torch.Size([64, 320])\n",
      "relu2: torch.Size([64, 20, 4, 4])\n",
      "view: torch.Size([64, 320])\n",
      "relu2: torch.Size([64, 20, 4, 4])\n",
      "view: torch.Size([64, 320])\n",
      "relu2: torch.Size([64, 20, 4, 4])\n",
      "view: torch.Size([64, 320])\n",
      "relu2: torch.Size([64, 20, 4, 4])\n",
      "view: torch.Size([64, 320])\n",
      "relu2: torch.Size([64, 20, 4, 4])\n",
      "view: torch.Size([64, 320])\n",
      "relu2: torch.Size([64, 20, 4, 4])\n",
      "view: torch.Size([64, 320])\n",
      "relu2: torch.Size([64, 20, 4, 4])\n",
      "view: torch.Size([64, 320])\n",
      "relu2: torch.Size([64, 20, 4, 4])\n",
      "view: torch.Size([64, 320])\n",
      "relu2: torch.Size([64, 20, 4, 4])\n",
      "view: torch.Size([64, 320])\n",
      "relu2: torch.Size([64, 20, 4, 4])\n",
      "view: torch.Size([64, 320])\n",
      "relu2: torch.Size([64, 20, 4, 4])\n",
      "view: torch.Size([64, 320])\n",
      "relu2: torch.Size([64, 20, 4, 4])\n",
      "view: torch.Size([64, 320])\n",
      "relu2: torch.Size([64, 20, 4, 4])\n",
      "view: torch.Size([64, 320])\n",
      "relu2: torch.Size([64, 20, 4, 4])\n",
      "view: torch.Size([64, 320])\n",
      "relu2: torch.Size([64, 20, 4, 4])\n",
      "view: torch.Size([64, 320])\n",
      "relu2: torch.Size([64, 20, 4, 4])\n",
      "view: torch.Size([64, 320])\n",
      "relu2: torch.Size([64, 20, 4, 4])\n",
      "view: torch.Size([64, 320])\n",
      "relu2: torch.Size([64, 20, 4, 4])\n",
      "view: torch.Size([64, 320])\n",
      "relu2: torch.Size([64, 20, 4, 4])\n",
      "view: torch.Size([64, 320])\n",
      "relu2: torch.Size([64, 20, 4, 4])\n",
      "view: torch.Size([64, 320])\n",
      "relu2: torch.Size([64, 20, 4, 4])\n",
      "view: torch.Size([64, 320])\n",
      "relu2: torch.Size([64, 20, 4, 4])\n",
      "view: torch.Size([64, 320])\n",
      "relu2: torch.Size([64, 20, 4, 4])\n",
      "view: torch.Size([64, 320])\n",
      "relu2: torch.Size([64, 20, 4, 4])\n",
      "view: torch.Size([64, 320])\n",
      "relu2: torch.Size([64, 20, 4, 4])\n",
      "view: torch.Size([64, 320])\n",
      "relu2: torch.Size([64, 20, 4, 4])\n",
      "view: torch.Size([64, 320])\n",
      "relu2: torch.Size([64, 20, 4, 4])\n",
      "view: torch.Size([64, 320])\n",
      "relu2: torch.Size([64, 20, 4, 4])\n",
      "view: torch.Size([64, 320])\n",
      "relu2: torch.Size([64, 20, 4, 4])\n",
      "view: torch.Size([64, 320])\n",
      "relu2: torch.Size([64, 20, 4, 4])\n",
      "view: torch.Size([64, 320])\n",
      "relu2: torch.Size([64, 20, 4, 4])\n",
      "view: torch.Size([64, 320])\n",
      "relu2: torch.Size([64, 20, 4, 4])\n",
      "view: torch.Size([64, 320])\n",
      "relu2: torch.Size([64, 20, 4, 4])\n",
      "view: torch.Size([64, 320])\n",
      "relu2: torch.Size([64, 20, 4, 4])\n",
      "view: torch.Size([64, 320])\n",
      "relu2: torch.Size([64, 20, 4, 4])\n",
      "view: torch.Size([64, 320])\n",
      "relu2: torch.Size([64, 20, 4, 4])\n",
      "view: torch.Size([64, 320])\n",
      "relu2: torch.Size([64, 20, 4, 4])\n",
      "view: torch.Size([64, 320])\n",
      "relu2: torch.Size([64, 20, 4, 4])\n",
      "view: torch.Size([64, 320])\n",
      "relu2: torch.Size([64, 20, 4, 4])\n",
      "view: torch.Size([64, 320])\n",
      "relu2: torch.Size([64, 20, 4, 4])\n",
      "view: torch.Size([64, 320])\n",
      "relu2: torch.Size([64, 20, 4, 4])\n",
      "view: torch.Size([64, 320])\n",
      "relu2: torch.Size([64, 20, 4, 4])\n",
      "view: torch.Size([64, 320])\n",
      "relu2: torch.Size([64, 20, 4, 4])\n",
      "view: torch.Size([64, 320])\n",
      "relu2: torch.Size([64, 20, 4, 4])\n",
      "view: torch.Size([64, 320])\n",
      "relu2: torch.Size([64, 20, 4, 4])\n",
      "view: torch.Size([64, 320])\n",
      "relu2: torch.Size([64, 20, 4, 4])\n",
      "view: torch.Size([64, 320])\n",
      "relu2: torch.Size([64, 20, 4, 4])\n",
      "view: torch.Size([64, 320])\n"
     ]
    },
    {
     "name": "stdout",
     "output_type": "stream",
     "text": [
      "relu2: torch.Size([64, 20, 4, 4])\n",
      "view: torch.Size([64, 320])\n",
      "relu2: torch.Size([64, 20, 4, 4])\n",
      "view: torch.Size([64, 320])\n",
      "relu2: torch.Size([64, 20, 4, 4])\n",
      "view: torch.Size([64, 320])\n",
      "relu2: torch.Size([64, 20, 4, 4])\n",
      "view: torch.Size([64, 320])\n",
      "relu2: torch.Size([64, 20, 4, 4])\n",
      "view: torch.Size([64, 320])\n",
      "relu2: torch.Size([64, 20, 4, 4])\n",
      "view: torch.Size([64, 320])\n",
      "relu2: torch.Size([64, 20, 4, 4])\n",
      "view: torch.Size([64, 320])\n",
      "relu2: torch.Size([64, 20, 4, 4])\n",
      "view: torch.Size([64, 320])\n",
      "relu2: torch.Size([64, 20, 4, 4])\n",
      "view: torch.Size([64, 320])\n",
      "relu2: torch.Size([64, 20, 4, 4])\n",
      "view: torch.Size([64, 320])\n",
      "relu2: torch.Size([64, 20, 4, 4])\n",
      "view: torch.Size([64, 320])\n",
      "relu2: torch.Size([64, 20, 4, 4])\n",
      "view: torch.Size([64, 320])\n",
      "relu2: torch.Size([64, 20, 4, 4])\n",
      "view: torch.Size([64, 320])\n",
      "relu2: torch.Size([64, 20, 4, 4])\n",
      "view: torch.Size([64, 320])\n",
      "relu2: torch.Size([64, 20, 4, 4])\n",
      "view: torch.Size([64, 320])\n",
      "relu2: torch.Size([64, 20, 4, 4])\n",
      "view: torch.Size([64, 320])\n",
      "relu2: torch.Size([64, 20, 4, 4])\n",
      "view: torch.Size([64, 320])\n",
      "relu2: torch.Size([64, 20, 4, 4])\n",
      "view: torch.Size([64, 320])\n",
      "relu2: torch.Size([64, 20, 4, 4])\n",
      "view: torch.Size([64, 320])\n",
      "relu2: torch.Size([64, 20, 4, 4])\n",
      "view: torch.Size([64, 320])\n",
      "relu2: torch.Size([64, 20, 4, 4])\n",
      "view: torch.Size([64, 320])\n",
      "relu2: torch.Size([64, 20, 4, 4])\n",
      "view: torch.Size([64, 320])\n",
      "relu2: torch.Size([16, 20, 4, 4])\n",
      "view: torch.Size([16, 320])\n",
      "average loss:  0.13588448339700698\n",
      "accuracy:  95 %\n"
     ]
    },
    {
     "name": "stderr",
     "output_type": "stream",
     "text": [
      "Epoch 2:   0%|                                           | 2/938 [00:00<00:51, 18.07batch/s, accuracy=92.2, loss=0.197]"
     ]
    },
    {
     "name": "stdout",
     "output_type": "stream",
     "text": [
      "relu2: torch.Size([64, 20, 4, 4])\n",
      "view: torch.Size([64, 320])\n",
      "relu2: torch.Size([64, 20, 4, 4])\n",
      "view: torch.Size([64, 320])\n",
      "relu2: torch.Size([64, 20, 4, 4])\n",
      "view: torch.Size([64, 320])\n",
      "relu2: torch.Size([64, 20, 4, 4])\n",
      "view: torch.Size([64, 320])\n"
     ]
    },
    {
     "name": "stderr",
     "output_type": "stream",
     "text": [
      "Epoch 2:   1%|▎                                          | 8/938 [00:00<00:52, 17.63batch/s, accuracy=95.3, loss=0.213]"
     ]
    },
    {
     "name": "stdout",
     "output_type": "stream",
     "text": [
      "relu2: torch.Size([64, 20, 4, 4])\n",
      "view: torch.Size([64, 320])\n",
      "relu2: torch.Size([64, 20, 4, 4])\n",
      "view: torch.Size([64, 320])\n",
      "relu2: torch.Size([64, 20, 4, 4])\n",
      "view: torch.Size([64, 320])\n",
      "relu2: torch.Size([64, 20, 4, 4])\n",
      "view: torch.Size([64, 320])\n"
     ]
    },
    {
     "name": "stderr",
     "output_type": "stream",
     "text": [
      "Epoch 2:   1%|▍                                         | 10/938 [00:00<00:55, 16.82batch/s, accuracy=93.8, loss=0.121]"
     ]
    },
    {
     "name": "stdout",
     "output_type": "stream",
     "text": [
      "relu2: torch.Size([64, 20, 4, 4])\n",
      "view: torch.Size([64, 320])\n",
      "relu2: torch.Size([64, 20, 4, 4])\n",
      "view: torch.Size([64, 320])\n",
      "relu2: torch.Size([64, 20, 4, 4])\n",
      "view: torch.Size([64, 320])\n",
      "relu2: torch.Size([64, 20, 4, 4])\n"
     ]
    },
    {
     "name": "stderr",
     "output_type": "stream",
     "text": [
      "Epoch 2:   1%|▋                                         | 14/938 [00:00<00:58, 15.85batch/s, accuracy=96.9, loss=0.145]"
     ]
    },
    {
     "name": "stdout",
     "output_type": "stream",
     "text": [
      "view: torch.Size([64, 320])\n",
      "relu2: torch.Size([64, 20, 4, 4])\n",
      "view: torch.Size([64, 320])\n",
      "relu2: torch.Size([64, 20, 4, 4])\n",
      "view: torch.Size([64, 320])\n",
      "relu2: torch.Size([64, 20, 4, 4])\n"
     ]
    },
    {
     "name": "stderr",
     "output_type": "stream",
     "text": [
      "Epoch 2:   2%|▋                                         | 16/938 [00:01<00:58, 15.71batch/s, accuracy=89.1, loss=0.375]"
     ]
    },
    {
     "name": "stdout",
     "output_type": "stream",
     "text": [
      "view: torch.Size([64, 320])\n",
      "relu2: torch.Size([64, 20, 4, 4])\n",
      "view: torch.Size([64, 320])\n",
      "relu2: torch.Size([64, 20, 4, 4])\n",
      "view: torch.Size([64, 320])\n",
      "relu2: torch.Size([64, 20, 4, 4])\n"
     ]
    },
    {
     "name": "stderr",
     "output_type": "stream",
     "text": [
      "Epoch 2:   2%|▉                                          | 20/938 [00:01<00:58, 15.64batch/s, accuracy=89.1, loss=0.36]"
     ]
    },
    {
     "name": "stdout",
     "output_type": "stream",
     "text": [
      "view: torch.Size([64, 320])\n",
      "relu2: torch.Size([64, 20, 4, 4])\n",
      "view: torch.Size([64, 320])\n",
      "relu2: torch.Size([64, 20, 4, 4])\n",
      "view: torch.Size([64, 320])\n",
      "relu2: torch.Size([64, 20, 4, 4])\n"
     ]
    },
    {
     "name": "stderr",
     "output_type": "stream",
     "text": [
      "Epoch 2:   2%|▉                                         | 22/938 [00:01<00:57, 15.91batch/s, accuracy=85.9, loss=0.578]"
     ]
    },
    {
     "name": "stdout",
     "output_type": "stream",
     "text": [
      "view: torch.Size([64, 320])\n",
      "relu2: torch.Size([64, 20, 4, 4])\n",
      "view: torch.Size([64, 320])\n",
      "relu2: torch.Size([64, 20, 4, 4])\n",
      "view: torch.Size([64, 320])\n",
      "relu2: torch.Size([64, 20, 4, 4])\n",
      "view: torch.Size([64, 320])\n"
     ]
    },
    {
     "name": "stderr",
     "output_type": "stream",
     "text": [
      "Epoch 2:   3%|█▏                                        | 26/938 [00:01<00:55, 16.49batch/s, accuracy=82.8, loss=0.608]"
     ]
    },
    {
     "name": "stdout",
     "output_type": "stream",
     "text": [
      "relu2: torch.Size([64, 20, 4, 4])\n",
      "view: torch.Size([64, 320])\n",
      "relu2: torch.Size([64, 20, 4, 4])\n",
      "view: torch.Size([64, 320])\n",
      "relu2: torch.Size([64, 20, 4, 4])\n",
      "view: torch.Size([64, 320])\n",
      "relu2: torch.Size([64, 20, 4, 4])\n"
     ]
    },
    {
     "name": "stderr",
     "output_type": "stream",
     "text": [
      "Epoch 2:   3%|█▍                                         | 30/938 [00:01<00:57, 15.92batch/s, accuracy=87.5, loss=0.36]"
     ]
    },
    {
     "name": "stdout",
     "output_type": "stream",
     "text": [
      "view: torch.Size([64, 320])\n",
      "relu2: torch.Size([64, 20, 4, 4])\n",
      "view: torch.Size([64, 320])\n",
      "relu2: torch.Size([64, 20, 4, 4])\n",
      "view: torch.Size([64, 320])\n",
      "relu2: torch.Size([64, 20, 4, 4])\n"
     ]
    },
    {
     "name": "stderr",
     "output_type": "stream",
     "text": [
      "Epoch 2:   3%|█▍                                        | 32/938 [00:02<00:57, 15.73batch/s, accuracy=92.2, loss=0.254]"
     ]
    },
    {
     "name": "stdout",
     "output_type": "stream",
     "text": [
      "view: torch.Size([64, 320])\n",
      "relu2: torch.Size([64, 20, 4, 4])\n",
      "view: torch.Size([64, 320])\n",
      "relu2: torch.Size([64, 20, 4, 4])\n",
      "view: torch.Size([64, 320])\n"
     ]
    },
    {
     "name": "stderr",
     "output_type": "stream",
     "text": [
      "Epoch 2:   4%|█▌                                        | 36/938 [00:02<00:57, 15.69batch/s, accuracy=87.5, loss=0.597]"
     ]
    },
    {
     "name": "stdout",
     "output_type": "stream",
     "text": [
      "relu2: torch.Size([64, 20, 4, 4])\n",
      "view: torch.Size([64, 320])\n",
      "relu2: torch.Size([64, 20, 4, 4])\n",
      "view: torch.Size([64, 320])\n",
      "relu2: torch.Size([64, 20, 4, 4])\n",
      "view: torch.Size([64, 320])\n",
      "relu2: torch.Size([64, 20, 4, 4])\n"
     ]
    },
    {
     "name": "stderr",
     "output_type": "stream",
     "text": [
      "Epoch 2:   4%|█▋                                        | 38/938 [00:02<00:56, 15.98batch/s, accuracy=95.3, loss=0.244]"
     ]
    },
    {
     "name": "stdout",
     "output_type": "stream",
     "text": [
      "view: torch.Size([64, 320])\n",
      "relu2: torch.Size([64, 20, 4, 4])\n",
      "view: torch.Size([64, 320])\n",
      "relu2: torch.Size([64, 20, 4, 4])\n",
      "view: torch.Size([64, 320])\n",
      "relu2: torch.Size([64, 20, 4, 4])\n",
      "view: torch.Size([64, 320])\n"
     ]
    },
    {
     "name": "stderr",
     "output_type": "stream",
     "text": [
      "Epoch 2:   4%|█▉                                        | 42/938 [00:02<00:55, 16.25batch/s, accuracy=93.8, loss=0.225]"
     ]
    },
    {
     "name": "stdout",
     "output_type": "stream",
     "text": [
      "relu2: torch.Size([64, 20, 4, 4])\n",
      "view: torch.Size([64, 320])\n",
      "relu2: torch.Size([64, 20, 4, 4])\n",
      "view: torch.Size([64, 320])\n",
      "relu2: torch.Size([64, 20, 4, 4])\n",
      "view: torch.Size([64, 320])\n",
      "relu2: torch.Size([64, 20, 4, 4])\n",
      "view: torch.Size([64, 320])\n"
     ]
    },
    {
     "name": "stderr",
     "output_type": "stream",
     "text": [
      "Epoch 2:   5%|██                                        | 46/938 [00:02<00:55, 16.02batch/s, accuracy=87.5, loss=0.534]"
     ]
    },
    {
     "name": "stdout",
     "output_type": "stream",
     "text": [
      "relu2: torch.Size([64, 20, 4, 4])\n",
      "view: torch.Size([64, 320])\n",
      "relu2: torch.Size([64, 20, 4, 4])\n",
      "view: torch.Size([64, 320])\n",
      "relu2: torch.Size([64, 20, 4, 4])\n",
      "view: torch.Size([64, 320])\n",
      "relu2: torch.Size([64, 20, 4, 4])\n"
     ]
    },
    {
     "name": "stderr",
     "output_type": "stream",
     "text": [
      "Epoch 2:   5%|██▏                                       | 50/938 [00:03<00:55, 15.96batch/s, accuracy=93.8, loss=0.213]"
     ]
    },
    {
     "name": "stdout",
     "output_type": "stream",
     "text": [
      "view: torch.Size([64, 320])\n",
      "relu2: torch.Size([64, 20, 4, 4])\n",
      "view: torch.Size([64, 320])\n",
      "relu2: torch.Size([64, 20, 4, 4])\n",
      "view: torch.Size([64, 320])\n",
      "relu2: torch.Size([64, 20, 4, 4])\n",
      "view: torch.Size([64, 320])\n"
     ]
    },
    {
     "name": "stderr",
     "output_type": "stream",
     "text": [
      "Epoch 2:   6%|██▍                                       | 54/938 [00:03<00:54, 16.26batch/s, accuracy=93.8, loss=0.187]"
     ]
    },
    {
     "name": "stdout",
     "output_type": "stream",
     "text": [
      "relu2: torch.Size([64, 20, 4, 4])\n",
      "view: torch.Size([64, 320])\n",
      "relu2: torch.Size([64, 20, 4, 4])\n",
      "view: torch.Size([64, 320])\n",
      "relu2: torch.Size([64, 20, 4, 4])\n",
      "view: torch.Size([64, 320])\n",
      "relu2: torch.Size([64, 20, 4, 4])\n"
     ]
    },
    {
     "name": "stderr",
     "output_type": "stream",
     "text": [
      "Epoch 2:   6%|██▌                                       | 56/938 [00:03<00:55, 15.93batch/s, accuracy=90.6, loss=0.308]"
     ]
    },
    {
     "name": "stdout",
     "output_type": "stream",
     "text": [
      "view: torch.Size([64, 320])\n",
      "relu2: torch.Size([64, 20, 4, 4])\n",
      "view: torch.Size([64, 320])\n",
      "relu2: torch.Size([64, 20, 4, 4])\n",
      "view: torch.Size([64, 320])\n",
      "relu2: torch.Size([64, 20, 4, 4])\n",
      "view: torch.Size([64, 320])\n"
     ]
    },
    {
     "name": "stderr",
     "output_type": "stream",
     "text": [
      "Epoch 2:   6%|██▋                                       | 60/938 [00:03<00:55, 15.69batch/s, accuracy=92.2, loss=0.222]"
     ]
    },
    {
     "name": "stdout",
     "output_type": "stream",
     "text": [
      "relu2: torch.Size([64, 20, 4, 4])\n",
      "view: torch.Size([64, 320])\n",
      "relu2: torch.Size([64, 20, 4, 4])\n",
      "view: torch.Size([64, 320])\n",
      "relu2: torch.Size([64, 20, 4, 4])\n",
      "view: torch.Size([64, 320])\n"
     ]
    },
    {
     "name": "stderr",
     "output_type": "stream",
     "text": [
      "Epoch 2:   7%|██▊                                       | 64/938 [00:04<00:58, 15.02batch/s, accuracy=92.2, loss=0.362]"
     ]
    },
    {
     "name": "stdout",
     "output_type": "stream",
     "text": [
      "relu2: torch.Size([64, 20, 4, 4])\n",
      "view: torch.Size([64, 320])\n",
      "relu2: torch.Size([64, 20, 4, 4])\n",
      "view: torch.Size([64, 320])\n",
      "relu2: torch.Size([64, 20, 4, 4])\n",
      "view: torch.Size([64, 320])\n",
      "relu2: torch.Size([64, 20, 4, 4])\n"
     ]
    },
    {
     "name": "stderr",
     "output_type": "stream",
     "text": [
      "Epoch 2:   7%|██▉                                      | 66/938 [00:04<00:56, 15.56batch/s, accuracy=98.4, loss=0.0946]"
     ]
    },
    {
     "name": "stdout",
     "output_type": "stream",
     "text": [
      "view: torch.Size([64, 320])\n",
      "relu2: torch.Size([64, 20, 4, 4])\n",
      "view: torch.Size([64, 320])\n",
      "relu2: torch.Size([64, 20, 4, 4])\n",
      "view: torch.Size([64, 320])\n",
      "relu2: torch.Size([64, 20, 4, 4])\n",
      "view: torch.Size([64, 320])\n"
     ]
    },
    {
     "name": "stderr",
     "output_type": "stream",
     "text": [
      "Epoch 2:   7%|███                                      | 70/938 [00:04<00:54, 16.06batch/s, accuracy=95.3, loss=0.0923]"
     ]
    },
    {
     "name": "stdout",
     "output_type": "stream",
     "text": [
      "relu2: torch.Size([64, 20, 4, 4])\n",
      "view: torch.Size([64, 320])\n",
      "relu2: torch.Size([64, 20, 4, 4])\n",
      "view: torch.Size([64, 320])\n",
      "relu2: torch.Size([64, 20, 4, 4])\n",
      "view: torch.Size([64, 320])\n",
      "relu2: torch.Size([64, 20, 4, 4])\n"
     ]
    },
    {
     "name": "stderr",
     "output_type": "stream",
     "text": [
      "Epoch 2:   8%|███▎                                      | 74/938 [00:04<00:56, 15.29batch/s, accuracy=98.4, loss=0.113]"
     ]
    },
    {
     "name": "stdout",
     "output_type": "stream",
     "text": [
      "view: torch.Size([64, 320])\n",
      "relu2: torch.Size([64, 20, 4, 4])\n",
      "view: torch.Size([64, 320])\n",
      "relu2: torch.Size([64, 20, 4, 4])\n",
      "view: torch.Size([64, 320])\n"
     ]
    },
    {
     "name": "stderr",
     "output_type": "stream",
     "text": [
      "Epoch 2:   8%|███▍                                      | 76/938 [00:04<00:56, 15.12batch/s, accuracy=93.8, loss=0.177]"
     ]
    },
    {
     "name": "stdout",
     "output_type": "stream",
     "text": [
      "relu2: torch.Size([64, 20, 4, 4])\n",
      "view: torch.Size([64, 320])\n",
      "relu2: torch.Size([64, 20, 4, 4])\n",
      "view: torch.Size([64, 320])\n",
      "relu2: torch.Size([64, 20, 4, 4])\n",
      "view: torch.Size([64, 320])\n"
     ]
    },
    {
     "name": "stderr",
     "output_type": "stream",
     "text": [
      "Epoch 2:   8%|███▍                                     | 78/938 [00:05<00:57, 15.01batch/s, accuracy=98.4, loss=0.0792]"
     ]
    },
    {
     "name": "stdout",
     "output_type": "stream",
     "text": [
      "relu2: torch.Size([64, 20, 4, 4])\n",
      "view: torch.Size([64, 320])\n",
      "relu2: torch.Size([64, 20, 4, 4])\n",
      "view: torch.Size([64, 320])\n",
      "relu2: torch.Size([64, 20, 4, 4])\n"
     ]
    },
    {
     "name": "stderr",
     "output_type": "stream",
     "text": [
      "Epoch 2:   9%|███▋                                      | 82/938 [00:05<01:04, 13.31batch/s, accuracy=96.9, loss=0.131]"
     ]
    },
    {
     "name": "stdout",
     "output_type": "stream",
     "text": [
      "view: torch.Size([64, 320])\n",
      "relu2: torch.Size([64, 20, 4, 4])\n",
      "view: torch.Size([64, 320])\n",
      "relu2: torch.Size([64, 20, 4, 4])\n",
      "view: torch.Size([64, 320])\n"
     ]
    },
    {
     "name": "stderr",
     "output_type": "stream",
     "text": [
      "Epoch 2:   9%|███▊                                      | 84/938 [00:05<01:02, 13.66batch/s, accuracy=96.9, loss=0.159]"
     ]
    },
    {
     "name": "stdout",
     "output_type": "stream",
     "text": [
      "relu2: torch.Size([64, 20, 4, 4])\n",
      "view: torch.Size([64, 320])\n",
      "relu2: torch.Size([64, 20, 4, 4])\n",
      "view: torch.Size([64, 320])\n",
      "relu2: torch.Size([64, 20, 4, 4])\n",
      "view: torch.Size([64, 320])\n"
     ]
    },
    {
     "name": "stderr",
     "output_type": "stream",
     "text": [
      "Epoch 2:   9%|███▉                                      | 88/938 [00:05<00:59, 14.24batch/s, accuracy=92.2, loss=0.255]"
     ]
    },
    {
     "name": "stdout",
     "output_type": "stream",
     "text": [
      "relu2: torch.Size([64, 20, 4, 4])\n",
      "view: torch.Size([64, 320])\n",
      "relu2: torch.Size([64, 20, 4, 4])\n",
      "view: torch.Size([64, 320])\n",
      "relu2: torch.Size([64, 20, 4, 4])\n",
      "view: torch.Size([64, 320])\n",
      "relu2: torch.Size([64, 20, 4, 4])\n"
     ]
    },
    {
     "name": "stderr",
     "output_type": "stream",
     "text": [
      "Epoch 2:  10%|███▉                                     | 90/938 [00:05<00:58, 14.51batch/s, accuracy=98.4, loss=0.0528]"
     ]
    },
    {
     "name": "stdout",
     "output_type": "stream",
     "text": [
      "view: torch.Size([64, 320])\n",
      "relu2: torch.Size([64, 20, 4, 4])\n",
      "view: torch.Size([64, 320])\n",
      "relu2: torch.Size([64, 20, 4, 4])\n",
      "view: torch.Size([64, 320])\n"
     ]
    },
    {
     "name": "stderr",
     "output_type": "stream",
     "text": [
      "Epoch 2:  10%|████▏                                     | 94/938 [00:06<00:56, 14.84batch/s, accuracy=98.4, loss=0.158]"
     ]
    },
    {
     "name": "stdout",
     "output_type": "stream",
     "text": [
      "relu2: torch.Size([64, 20, 4, 4])\n",
      "view: torch.Size([64, 320])\n",
      "relu2: torch.Size([64, 20, 4, 4])\n",
      "view: torch.Size([64, 320])\n",
      "relu2: torch.Size([64, 20, 4, 4])\n",
      "view: torch.Size([64, 320])\n",
      "relu2: torch.Size([64, 20, 4, 4])\n"
     ]
    },
    {
     "name": "stderr",
     "output_type": "stream",
     "text": [
      "Epoch 2:  10%|████▎                                     | 96/938 [00:06<00:56, 14.91batch/s, accuracy=92.2, loss=0.232]"
     ]
    },
    {
     "name": "stdout",
     "output_type": "stream",
     "text": [
      "view: torch.Size([64, 320])\n",
      "relu2: torch.Size([64, 20, 4, 4])\n",
      "view: torch.Size([64, 320])\n",
      "relu2: torch.Size([64, 20, 4, 4])\n",
      "view: torch.Size([64, 320])\n"
     ]
    },
    {
     "name": "stderr",
     "output_type": "stream",
     "text": [
      "Epoch 2:  11%|████▍                                     | 100/938 [00:06<00:52, 15.88batch/s, accuracy=92.2, loss=0.22]"
     ]
    },
    {
     "name": "stdout",
     "output_type": "stream",
     "text": [
      "relu2: torch.Size([64, 20, 4, 4])\n",
      "view: torch.Size([64, 320])\n",
      "relu2: torch.Size([64, 20, 4, 4])\n",
      "view: torch.Size([64, 320])\n",
      "relu2: torch.Size([64, 20, 4, 4])\n",
      "view: torch.Size([64, 320])\n",
      "relu2: torch.Size([64, 20, 4, 4])\n",
      "view: torch.Size([64, 320])\n"
     ]
    },
    {
     "name": "stderr",
     "output_type": "stream",
     "text": [
      "Epoch 2:  11%|████▍                                   | 104/938 [00:06<00:50, 16.36batch/s, accuracy=96.9, loss=0.0959]"
     ]
    },
    {
     "name": "stdout",
     "output_type": "stream",
     "text": [
      "relu2: torch.Size([64, 20, 4, 4])\n",
      "view: torch.Size([64, 320])\n",
      "relu2: torch.Size([64, 20, 4, 4])\n",
      "view: torch.Size([64, 320])\n",
      "relu2: torch.Size([64, 20, 4, 4])\n",
      "view: torch.Size([64, 320])\n",
      "relu2: torch.Size([64, 20, 4, 4])\n",
      "view: torch.Size([64, 320])\n"
     ]
    },
    {
     "name": "stderr",
     "output_type": "stream",
     "text": [
      "Epoch 2:  12%|████▋                                    | 108/938 [00:06<00:50, 16.37batch/s, accuracy=93.8, loss=0.264]"
     ]
    },
    {
     "name": "stdout",
     "output_type": "stream",
     "text": [
      "relu2: torch.Size([64, 20, 4, 4])\n",
      "view: torch.Size([64, 320])\n",
      "relu2: torch.Size([64, 20, 4, 4])\n",
      "view: torch.Size([64, 320])\n",
      "relu2: torch.Size([64, 20, 4, 4])\n",
      "view: torch.Size([64, 320])\n",
      "relu2: torch.Size([64, 20, 4, 4])\n"
     ]
    },
    {
     "name": "stderr",
     "output_type": "stream",
     "text": [
      "Epoch 2:  12%|████▊                                    | 110/938 [00:07<00:51, 16.23batch/s, accuracy=93.8, loss=0.249]"
     ]
    },
    {
     "name": "stdout",
     "output_type": "stream",
     "text": [
      "view: torch.Size([64, 320])\n",
      "relu2: torch.Size([64, 20, 4, 4])\n",
      "view: torch.Size([64, 320])\n",
      "relu2: torch.Size([64, 20, 4, 4])\n",
      "view: torch.Size([64, 320])\n",
      "relu2: torch.Size([64, 20, 4, 4])\n",
      "view: torch.Size([64, 320])\n"
     ]
    },
    {
     "name": "stderr",
     "output_type": "stream",
     "text": [
      "Epoch 2:  12%|████▉                                    | 114/938 [00:07<00:50, 16.46batch/s, accuracy=89.1, loss=0.342]"
     ]
    },
    {
     "name": "stdout",
     "output_type": "stream",
     "text": [
      "relu2: torch.Size([64, 20, 4, 4])\n",
      "view: torch.Size([64, 320])\n",
      "relu2: torch.Size([64, 20, 4, 4])\n",
      "view: torch.Size([64, 320])\n",
      "relu2: torch.Size([64, 20, 4, 4])\n",
      "view: torch.Size([64, 320])\n",
      "relu2: torch.Size([64, 20, 4, 4])\n",
      "view: torch.Size([64, 320])\n"
     ]
    },
    {
     "name": "stderr",
     "output_type": "stream",
     "text": [
      "Epoch 2:  13%|█████▏                                   | 118/938 [00:07<00:48, 16.99batch/s, accuracy=90.6, loss=0.416]"
     ]
    },
    {
     "name": "stdout",
     "output_type": "stream",
     "text": [
      "relu2: torch.Size([64, 20, 4, 4])\n",
      "view: torch.Size([64, 320])\n",
      "relu2: torch.Size([64, 20, 4, 4])\n",
      "view: torch.Size([64, 320])\n",
      "relu2: torch.Size([64, 20, 4, 4])\n",
      "view: torch.Size([64, 320])\n",
      "relu2: torch.Size([64, 20, 4, 4])\n",
      "view: torch.Size([64, 320])\n"
     ]
    },
    {
     "name": "stderr",
     "output_type": "stream",
     "text": [
      "Epoch 2:  13%|█████▎                                   | 122/938 [00:07<00:51, 15.83batch/s, accuracy=95.3, loss=0.144]"
     ]
    },
    {
     "name": "stdout",
     "output_type": "stream",
     "text": [
      "relu2: torch.Size([64, 20, 4, 4])\n",
      "view: torch.Size([64, 320])\n",
      "relu2: torch.Size([64, 20, 4, 4])\n",
      "view: torch.Size([64, 320])\n",
      "relu2: torch.Size([64, 20, 4, 4])\n",
      "view: torch.Size([64, 320])\n"
     ]
    },
    {
     "name": "stderr",
     "output_type": "stream",
     "text": [
      "Epoch 2:  13%|█████▌                                   | 126/938 [00:08<00:52, 15.41batch/s, accuracy=95.3, loss=0.229]"
     ]
    },
    {
     "name": "stdout",
     "output_type": "stream",
     "text": [
      "relu2: torch.Size([64, 20, 4, 4])\n",
      "view: torch.Size([64, 320])\n",
      "relu2: torch.Size([64, 20, 4, 4])\n",
      "view: torch.Size([64, 320])\n",
      "relu2: torch.Size([64, 20, 4, 4])\n",
      "view: torch.Size([64, 320])\n",
      "relu2: torch.Size([64, 20, 4, 4])\n"
     ]
    },
    {
     "name": "stderr",
     "output_type": "stream",
     "text": [
      "Epoch 2:  14%|█████▌                                   | 128/938 [00:08<00:52, 15.38batch/s, accuracy=95.3, loss=0.267]"
     ]
    },
    {
     "name": "stdout",
     "output_type": "stream",
     "text": [
      "view: torch.Size([64, 320])\n",
      "relu2: torch.Size([64, 20, 4, 4])\n",
      "view: torch.Size([64, 320])\n",
      "relu2: torch.Size([64, 20, 4, 4])\n",
      "view: torch.Size([64, 320])\n",
      "relu2: torch.Size([64, 20, 4, 4])\n"
     ]
    },
    {
     "name": "stderr",
     "output_type": "stream",
     "text": [
      "Epoch 2:  14%|█████▊                                   | 132/938 [00:08<00:51, 15.79batch/s, accuracy=95.3, loss=0.174]"
     ]
    },
    {
     "name": "stdout",
     "output_type": "stream",
     "text": [
      "view: torch.Size([64, 320])\n",
      "relu2: torch.Size([64, 20, 4, 4])\n",
      "view: torch.Size([64, 320])\n",
      "relu2: torch.Size([64, 20, 4, 4])\n",
      "view: torch.Size([64, 320])\n",
      "relu2: torch.Size([64, 20, 4, 4])\n"
     ]
    },
    {
     "name": "stderr",
     "output_type": "stream",
     "text": [
      "Epoch 2:  14%|█████▊                                   | 134/938 [00:08<00:50, 15.98batch/s, accuracy=89.1, loss=0.357]"
     ]
    },
    {
     "name": "stdout",
     "output_type": "stream",
     "text": [
      "view: torch.Size([64, 320])\n",
      "relu2: torch.Size([64, 20, 4, 4])\n",
      "view: torch.Size([64, 320])\n",
      "relu2: torch.Size([64, 20, 4, 4])\n",
      "view: torch.Size([64, 320])\n",
      "relu2: torch.Size([64, 20, 4, 4])\n",
      "view: torch.Size([64, 320])\n"
     ]
    },
    {
     "name": "stderr",
     "output_type": "stream",
     "text": [
      "Epoch 2:  15%|██████                                   | 138/938 [00:08<00:47, 16.67batch/s, accuracy=93.8, loss=0.384]"
     ]
    },
    {
     "name": "stdout",
     "output_type": "stream",
     "text": [
      "relu2: torch.Size([64, 20, 4, 4])\n",
      "view: torch.Size([64, 320])\n",
      "relu2: torch.Size([64, 20, 4, 4])\n",
      "view: torch.Size([64, 320])\n",
      "relu2: torch.Size([64, 20, 4, 4])\n",
      "view: torch.Size([64, 320])\n",
      "relu2: torch.Size([64, 20, 4, 4])\n",
      "view: torch.Size([64, 320])\n"
     ]
    },
    {
     "name": "stderr",
     "output_type": "stream",
     "text": [
      "Epoch 2:  15%|██████▏                                  | 142/938 [00:09<00:47, 16.80batch/s, accuracy=89.1, loss=0.261]"
     ]
    },
    {
     "name": "stdout",
     "output_type": "stream",
     "text": [
      "relu2: torch.Size([64, 20, 4, 4])\n",
      "view: torch.Size([64, 320])\n",
      "relu2: torch.Size([64, 20, 4, 4])\n",
      "view: torch.Size([64, 320])\n",
      "relu2: torch.Size([64, 20, 4, 4])\n",
      "view: torch.Size([64, 320])\n",
      "relu2: torch.Size([64, 20, 4, 4])\n"
     ]
    },
    {
     "name": "stderr",
     "output_type": "stream",
     "text": [
      "Epoch 2:  16%|██████▍                                  | 146/938 [00:09<00:49, 15.93batch/s, accuracy=85.9, loss=0.499]"
     ]
    },
    {
     "name": "stdout",
     "output_type": "stream",
     "text": [
      "view: torch.Size([64, 320])\n",
      "relu2: torch.Size([64, 20, 4, 4])\n",
      "view: torch.Size([64, 320])\n",
      "relu2: torch.Size([64, 20, 4, 4])\n",
      "view: torch.Size([64, 320])\n",
      "relu2: torch.Size([64, 20, 4, 4])\n",
      "view: torch.Size([64, 320])\n"
     ]
    },
    {
     "name": "stderr",
     "output_type": "stream",
     "text": [
      "Epoch 2:  16%|██████▉                                    | 150/938 [00:09<00:48, 16.24batch/s, accuracy=93.8, loss=0.2]"
     ]
    },
    {
     "name": "stdout",
     "output_type": "stream",
     "text": [
      "relu2: torch.Size([64, 20, 4, 4])\n",
      "view: torch.Size([64, 320])\n",
      "relu2: torch.Size([64, 20, 4, 4])\n",
      "view: torch.Size([64, 320])\n",
      "relu2: torch.Size([64, 20, 4, 4])\n",
      "view: torch.Size([64, 320])\n",
      "relu2: torch.Size([64, 20, 4, 4])\n"
     ]
    },
    {
     "name": "stderr",
     "output_type": "stream",
     "text": [
      "Epoch 2:  16%|██████▋                                  | 152/938 [00:09<00:47, 16.38batch/s, accuracy=93.8, loss=0.294]"
     ]
    },
    {
     "name": "stdout",
     "output_type": "stream",
     "text": [
      "view: torch.Size([64, 320])\n",
      "relu2: torch.Size([64, 20, 4, 4])\n",
      "view: torch.Size([64, 320])\n",
      "relu2: torch.Size([64, 20, 4, 4])\n",
      "view: torch.Size([64, 320])\n",
      "relu2: torch.Size([64, 20, 4, 4])\n"
     ]
    },
    {
     "name": "stderr",
     "output_type": "stream",
     "text": [
      "Epoch 2:  17%|██████▊                                  | 156/938 [00:09<00:49, 15.89batch/s, accuracy=89.1, loss=0.413]"
     ]
    },
    {
     "name": "stdout",
     "output_type": "stream",
     "text": [
      "view: torch.Size([64, 320])\n",
      "relu2: torch.Size([64, 20, 4, 4])\n",
      "view: torch.Size([64, 320])\n",
      "relu2: torch.Size([64, 20, 4, 4])\n",
      "view: torch.Size([64, 320])\n",
      "relu2: torch.Size([64, 20, 4, 4])\n"
     ]
    },
    {
     "name": "stderr",
     "output_type": "stream",
     "text": [
      "Epoch 2:  17%|██████▋                                 | 158/938 [00:10<00:48, 16.24batch/s, accuracy=96.9, loss=0.0827]"
     ]
    },
    {
     "name": "stdout",
     "output_type": "stream",
     "text": [
      "view: torch.Size([64, 320])\n",
      "relu2: torch.Size([64, 20, 4, 4])\n",
      "view: torch.Size([64, 320])\n",
      "relu2: torch.Size([64, 20, 4, 4])\n",
      "view: torch.Size([64, 320])\n",
      "relu2: torch.Size([64, 20, 4, 4])\n"
     ]
    },
    {
     "name": "stderr",
     "output_type": "stream",
     "text": [
      "Epoch 2:  17%|███████                                  | 162/938 [00:10<00:47, 16.18batch/s, accuracy=96.9, loss=0.119]"
     ]
    },
    {
     "name": "stdout",
     "output_type": "stream",
     "text": [
      "view: torch.Size([64, 320])\n",
      "relu2: torch.Size([64, 20, 4, 4])\n",
      "view: torch.Size([64, 320])\n",
      "relu2: torch.Size([64, 20, 4, 4])\n",
      "view: torch.Size([64, 320])\n",
      "relu2: torch.Size([64, 20, 4, 4])\n"
     ]
    },
    {
     "name": "stderr",
     "output_type": "stream",
     "text": [
      "Epoch 2:  17%|███████▏                                 | 164/938 [00:10<00:48, 15.91batch/s, accuracy=98.4, loss=0.105]"
     ]
    },
    {
     "name": "stdout",
     "output_type": "stream",
     "text": [
      "view: torch.Size([64, 320])\n",
      "relu2: torch.Size([64, 20, 4, 4])\n",
      "view: torch.Size([64, 320])\n",
      "relu2: torch.Size([64, 20, 4, 4])\n",
      "view: torch.Size([64, 320])\n",
      "relu2: torch.Size([64, 20, 4, 4])\n"
     ]
    },
    {
     "name": "stderr",
     "output_type": "stream",
     "text": [
      "Epoch 2:  18%|███████▎                                 | 168/938 [00:10<00:46, 16.52batch/s, accuracy=92.2, loss=0.319]"
     ]
    },
    {
     "name": "stdout",
     "output_type": "stream",
     "text": [
      "view: torch.Size([64, 320])\n",
      "relu2: torch.Size([64, 20, 4, 4])\n",
      "view: torch.Size([64, 320])\n",
      "relu2: torch.Size([64, 20, 4, 4])\n",
      "view: torch.Size([64, 320])\n",
      "relu2: torch.Size([64, 20, 4, 4])\n",
      "view: torch.Size([64, 320])\n"
     ]
    },
    {
     "name": "stderr",
     "output_type": "stream",
     "text": [
      "Epoch 2:  18%|███████▌                                 | 172/938 [00:10<00:45, 16.90batch/s, accuracy=93.8, loss=0.251]"
     ]
    },
    {
     "name": "stdout",
     "output_type": "stream",
     "text": [
      "relu2: torch.Size([64, 20, 4, 4])\n",
      "view: torch.Size([64, 320])\n",
      "relu2: torch.Size([64, 20, 4, 4])\n",
      "view: torch.Size([64, 320])\n",
      "relu2: torch.Size([64, 20, 4, 4])\n",
      "view: torch.Size([64, 320])\n",
      "relu2: torch.Size([64, 20, 4, 4])\n",
      "view: torch.Size([64, 320])\n"
     ]
    },
    {
     "name": "stderr",
     "output_type": "stream",
     "text": [
      "Epoch 2:  19%|███████▋                                 | 176/938 [00:11<00:44, 17.05batch/s, accuracy=92.2, loss=0.231]"
     ]
    },
    {
     "name": "stdout",
     "output_type": "stream",
     "text": [
      "relu2: torch.Size([64, 20, 4, 4])\n",
      "view: torch.Size([64, 320])\n",
      "relu2: torch.Size([64, 20, 4, 4])\n",
      "view: torch.Size([64, 320])\n",
      "relu2: torch.Size([64, 20, 4, 4])\n",
      "view: torch.Size([64, 320])\n",
      "relu2: torch.Size([64, 20, 4, 4])\n"
     ]
    },
    {
     "name": "stderr",
     "output_type": "stream",
     "text": [
      "Epoch 2:  19%|███████▊                                 | 178/938 [00:11<00:45, 16.65batch/s, accuracy=95.3, loss=0.129]"
     ]
    },
    {
     "name": "stdout",
     "output_type": "stream",
     "text": [
      "view: torch.Size([64, 320])\n",
      "relu2: torch.Size([64, 20, 4, 4])\n",
      "view: torch.Size([64, 320])\n",
      "relu2: torch.Size([64, 20, 4, 4])\n",
      "view: torch.Size([64, 320])\n",
      "relu2: torch.Size([64, 20, 4, 4])\n"
     ]
    },
    {
     "name": "stderr",
     "output_type": "stream",
     "text": [
      "Epoch 2:  19%|███████▉                                 | 182/938 [00:11<00:48, 15.75batch/s, accuracy=92.2, loss=0.228]"
     ]
    },
    {
     "name": "stdout",
     "output_type": "stream",
     "text": [
      "view: torch.Size([64, 320])\n",
      "relu2: torch.Size([64, 20, 4, 4])\n",
      "view: torch.Size([64, 320])\n",
      "relu2: torch.Size([64, 20, 4, 4])\n",
      "view: torch.Size([64, 320])\n"
     ]
    },
    {
     "name": "stderr",
     "output_type": "stream",
     "text": [
      "Epoch 2:  20%|████████                                 | 184/938 [00:11<00:49, 15.19batch/s, accuracy=98.4, loss=0.149]"
     ]
    },
    {
     "name": "stdout",
     "output_type": "stream",
     "text": [
      "relu2: torch.Size([64, 20, 4, 4])\n",
      "view: torch.Size([64, 320])\n",
      "relu2: torch.Size([64, 20, 4, 4])\n",
      "view: torch.Size([64, 320])\n",
      "relu2: torch.Size([64, 20, 4, 4])\n",
      "view: torch.Size([64, 320])\n",
      "relu2: torch.Size([64, 20, 4, 4])\n"
     ]
    },
    {
     "name": "stderr",
     "output_type": "stream",
     "text": [
      "Epoch 2:  20%|████████                                | 188/938 [00:11<00:47, 15.68batch/s, accuracy=96.9, loss=0.0876]"
     ]
    },
    {
     "name": "stdout",
     "output_type": "stream",
     "text": [
      "view: torch.Size([64, 320])\n",
      "relu2: torch.Size([64, 20, 4, 4])\n",
      "view: torch.Size([64, 320])\n",
      "relu2: torch.Size([64, 20, 4, 4])\n",
      "view: torch.Size([64, 320])\n",
      "relu2: torch.Size([64, 20, 4, 4])\n"
     ]
    },
    {
     "name": "stderr",
     "output_type": "stream",
     "text": [
      "Epoch 2:  20%|████████▎                                | 190/938 [00:12<00:46, 16.13batch/s, accuracy=87.5, loss=0.419]"
     ]
    },
    {
     "name": "stdout",
     "output_type": "stream",
     "text": [
      "view: torch.Size([64, 320])\n",
      "relu2: torch.Size([64, 20, 4, 4])\n",
      "view: torch.Size([64, 320])\n",
      "relu2: torch.Size([64, 20, 4, 4])\n",
      "view: torch.Size([64, 320])\n",
      "relu2: torch.Size([64, 20, 4, 4])\n",
      "view: torch.Size([64, 320])\n"
     ]
    },
    {
     "name": "stderr",
     "output_type": "stream",
     "text": [
      "Epoch 2:  21%|████████▍                                | 194/938 [00:12<00:47, 15.80batch/s, accuracy=93.8, loss=0.286]"
     ]
    },
    {
     "name": "stdout",
     "output_type": "stream",
     "text": [
      "relu2: torch.Size([64, 20, 4, 4])\n",
      "view: torch.Size([64, 320])\n",
      "relu2: torch.Size([64, 20, 4, 4])\n",
      "view: torch.Size([64, 320])\n",
      "relu2: torch.Size([64, 20, 4, 4])\n",
      "view: torch.Size([64, 320])\n"
     ]
    },
    {
     "name": "stderr",
     "output_type": "stream",
     "text": [
      "Epoch 2:  21%|████████▊                                 | 198/938 [00:12<00:47, 15.43batch/s, accuracy=95.3, loss=0.16]"
     ]
    },
    {
     "name": "stdout",
     "output_type": "stream",
     "text": [
      "relu2: torch.Size([64, 20, 4, 4])\n",
      "view: torch.Size([64, 320])\n",
      "relu2: torch.Size([64, 20, 4, 4])\n",
      "view: torch.Size([64, 320])\n",
      "relu2: torch.Size([64, 20, 4, 4])\n",
      "view: torch.Size([64, 320])\n",
      "relu2: torch.Size([64, 20, 4, 4])\n"
     ]
    },
    {
     "name": "stderr",
     "output_type": "stream",
     "text": [
      "Epoch 2:  21%|████████▋                                | 200/938 [00:12<00:48, 15.22batch/s, accuracy=96.9, loss=0.132]"
     ]
    },
    {
     "name": "stdout",
     "output_type": "stream",
     "text": [
      "view: torch.Size([64, 320])\n",
      "relu2: torch.Size([64, 20, 4, 4])\n",
      "view: torch.Size([64, 320])\n",
      "relu2: torch.Size([64, 20, 4, 4])\n",
      "view: torch.Size([64, 320])\n",
      "relu2: torch.Size([64, 20, 4, 4])\n"
     ]
    },
    {
     "name": "stderr",
     "output_type": "stream",
     "text": [
      "Epoch 2:  22%|████████▉                                | 204/938 [00:12<00:47, 15.50batch/s, accuracy=90.6, loss=0.218]"
     ]
    },
    {
     "name": "stdout",
     "output_type": "stream",
     "text": [
      "view: torch.Size([64, 320])\n",
      "relu2: torch.Size([64, 20, 4, 4])\n",
      "view: torch.Size([64, 320])\n",
      "relu2: torch.Size([64, 20, 4, 4])\n",
      "view: torch.Size([64, 320])\n",
      "relu2: torch.Size([64, 20, 4, 4])\n"
     ]
    },
    {
     "name": "stderr",
     "output_type": "stream",
     "text": [
      "Epoch 2:  22%|█████████                                | 206/938 [00:13<00:47, 15.55batch/s, accuracy=92.2, loss=0.318]"
     ]
    },
    {
     "name": "stdout",
     "output_type": "stream",
     "text": [
      "view: torch.Size([64, 320])\n",
      "relu2: torch.Size([64, 20, 4, 4])\n",
      "view: torch.Size([64, 320])\n",
      "relu2: torch.Size([64, 20, 4, 4])\n",
      "view: torch.Size([64, 320])\n",
      "relu2: torch.Size([64, 20, 4, 4])\n"
     ]
    },
    {
     "name": "stderr",
     "output_type": "stream",
     "text": [
      "Epoch 2:  22%|█████████▏                               | 210/938 [00:13<00:49, 14.61batch/s, accuracy=93.8, loss=0.144]"
     ]
    },
    {
     "name": "stdout",
     "output_type": "stream",
     "text": [
      "view: torch.Size([64, 320])\n",
      "relu2: torch.Size([64, 20, 4, 4])\n",
      "view: torch.Size([64, 320])\n",
      "relu2: torch.Size([64, 20, 4, 4])\n",
      "view: torch.Size([64, 320])\n"
     ]
    },
    {
     "name": "stderr",
     "output_type": "stream",
     "text": [
      "Epoch 2:  23%|█████████▎                               | 212/938 [00:13<00:49, 14.68batch/s, accuracy=90.6, loss=0.361]"
     ]
    },
    {
     "name": "stdout",
     "output_type": "stream",
     "text": [
      "relu2: torch.Size([64, 20, 4, 4])\n",
      "view: torch.Size([64, 320])\n",
      "relu2: torch.Size([64, 20, 4, 4])\n",
      "view: torch.Size([64, 320])\n",
      "relu2: torch.Size([64, 20, 4, 4])\n",
      "view: torch.Size([64, 320])\n",
      "relu2: torch.Size([64, 20, 4, 4])\n"
     ]
    },
    {
     "name": "stderr",
     "output_type": "stream",
     "text": [
      "Epoch 2:  23%|█████████▍                               | 216/938 [00:13<00:47, 15.34batch/s, accuracy=90.6, loss=0.292]"
     ]
    },
    {
     "name": "stdout",
     "output_type": "stream",
     "text": [
      "view: torch.Size([64, 320])\n",
      "relu2: torch.Size([64, 20, 4, 4])\n",
      "view: torch.Size([64, 320])\n",
      "relu2: torch.Size([64, 20, 4, 4])\n",
      "view: torch.Size([64, 320])\n",
      "relu2: torch.Size([64, 20, 4, 4])\n"
     ]
    },
    {
     "name": "stderr",
     "output_type": "stream",
     "text": [
      "Epoch 2:  23%|█████████▌                               | 218/938 [00:13<00:47, 15.26batch/s, accuracy=93.8, loss=0.258]"
     ]
    },
    {
     "name": "stdout",
     "output_type": "stream",
     "text": [
      "view: torch.Size([64, 320])\n",
      "relu2: torch.Size([64, 20, 4, 4])\n",
      "view: torch.Size([64, 320])\n",
      "relu2: torch.Size([64, 20, 4, 4])\n",
      "view: torch.Size([64, 320])\n"
     ]
    },
    {
     "name": "stderr",
     "output_type": "stream",
     "text": [
      "Epoch 2:  24%|█████████▋                               | 222/938 [00:14<00:47, 15.01batch/s, accuracy=95.3, loss=0.265]"
     ]
    },
    {
     "name": "stdout",
     "output_type": "stream",
     "text": [
      "relu2: torch.Size([64, 20, 4, 4])\n",
      "view: torch.Size([64, 320])\n",
      "relu2: torch.Size([64, 20, 4, 4])\n",
      "view: torch.Size([64, 320])\n",
      "relu2: torch.Size([64, 20, 4, 4])\n",
      "view: torch.Size([64, 320])\n",
      "relu2: torch.Size([64, 20, 4, 4])\n",
      "view: torch.Size([64, 320])\n"
     ]
    },
    {
     "name": "stderr",
     "output_type": "stream",
     "text": [
      "Epoch 2:  24%|█████████▉                               | 226/938 [00:14<00:45, 15.58batch/s, accuracy=90.6, loss=0.242]"
     ]
    },
    {
     "name": "stdout",
     "output_type": "stream",
     "text": [
      "relu2: torch.Size([64, 20, 4, 4])\n",
      "view: torch.Size([64, 320])\n",
      "relu2: torch.Size([64, 20, 4, 4])\n",
      "view: torch.Size([64, 320])\n",
      "relu2: torch.Size([64, 20, 4, 4])\n",
      "view: torch.Size([64, 320])\n",
      "relu2: torch.Size([64, 20, 4, 4])\n"
     ]
    },
    {
     "name": "stderr",
     "output_type": "stream",
     "text": [
      "Epoch 2:  24%|█████████▉                               | 228/938 [00:14<00:45, 15.57batch/s, accuracy=95.3, loss=0.111]"
     ]
    },
    {
     "name": "stdout",
     "output_type": "stream",
     "text": [
      "view: torch.Size([64, 320])\n",
      "relu2: torch.Size([64, 20, 4, 4])\n",
      "view: torch.Size([64, 320])\n",
      "relu2: torch.Size([64, 20, 4, 4])\n",
      "view: torch.Size([64, 320])\n",
      "relu2: torch.Size([64, 20, 4, 4])\n"
     ]
    },
    {
     "name": "stderr",
     "output_type": "stream",
     "text": [
      "Epoch 2:  25%|██████████▏                              | 232/938 [00:14<00:47, 14.79batch/s, accuracy=93.8, loss=0.179]"
     ]
    },
    {
     "name": "stdout",
     "output_type": "stream",
     "text": [
      "view: torch.Size([64, 320])\n",
      "relu2: torch.Size([64, 20, 4, 4])\n",
      "view: torch.Size([64, 320])\n",
      "relu2: torch.Size([64, 20, 4, 4])\n",
      "view: torch.Size([64, 320])\n"
     ]
    },
    {
     "name": "stderr",
     "output_type": "stream",
     "text": [
      "Epoch 2:  25%|██████████▏                              | 234/938 [00:14<00:50, 13.95batch/s, accuracy=96.9, loss=0.125]"
     ]
    },
    {
     "name": "stdout",
     "output_type": "stream",
     "text": [
      "relu2: torch.Size([64, 20, 4, 4])\n",
      "view: torch.Size([64, 320])\n",
      "relu2: torch.Size([64, 20, 4, 4])\n",
      "view: torch.Size([64, 320])\n",
      "relu2: torch.Size([64, 20, 4, 4])\n",
      "view: torch.Size([64, 320])\n"
     ]
    },
    {
     "name": "stderr",
     "output_type": "stream",
     "text": [
      "Epoch 2:  25%|██████████▍                              | 238/938 [00:15<00:48, 14.35batch/s, accuracy=96.9, loss=0.105]"
     ]
    },
    {
     "name": "stdout",
     "output_type": "stream",
     "text": [
      "relu2: torch.Size([64, 20, 4, 4])\n",
      "view: torch.Size([64, 320])\n",
      "relu2: torch.Size([64, 20, 4, 4])\n",
      "view: torch.Size([64, 320])\n",
      "relu2: torch.Size([64, 20, 4, 4])\n",
      "view: torch.Size([64, 320])\n"
     ]
    },
    {
     "name": "stderr",
     "output_type": "stream",
     "text": [
      "Epoch 2:  26%|██████████▍                              | 240/938 [00:15<00:48, 14.50batch/s, accuracy=92.2, loss=0.247]"
     ]
    },
    {
     "name": "stdout",
     "output_type": "stream",
     "text": [
      "relu2: torch.Size([64, 20, 4, 4])\n",
      "view: torch.Size([64, 320])\n",
      "relu2: torch.Size([64, 20, 4, 4])\n",
      "view: torch.Size([64, 320])\n",
      "relu2: torch.Size([64, 20, 4, 4])\n",
      "view: torch.Size([64, 320])\n",
      "relu2: torch.Size([64, 20, 4, 4])\n"
     ]
    },
    {
     "name": "stderr",
     "output_type": "stream",
     "text": [
      "Epoch 2:  26%|██████████▉                               | 244/938 [00:15<00:46, 14.90batch/s, accuracy=93.8, loss=0.19]"
     ]
    },
    {
     "name": "stdout",
     "output_type": "stream",
     "text": [
      "view: torch.Size([64, 320])\n",
      "relu2: torch.Size([64, 20, 4, 4])\n",
      "view: torch.Size([64, 320])\n",
      "relu2: torch.Size([64, 20, 4, 4])\n",
      "view: torch.Size([64, 320])\n",
      "relu2: torch.Size([64, 20, 4, 4])\n"
     ]
    },
    {
     "name": "stderr",
     "output_type": "stream",
     "text": [
      "Epoch 2:  26%|██████████▊                              | 246/938 [00:15<00:46, 14.89batch/s, accuracy=95.3, loss=0.167]"
     ]
    },
    {
     "name": "stdout",
     "output_type": "stream",
     "text": [
      "view: torch.Size([64, 320])\n",
      "relu2: torch.Size([64, 20, 4, 4])\n",
      "view: torch.Size([64, 320])\n",
      "relu2: torch.Size([64, 20, 4, 4])\n",
      "view: torch.Size([64, 320])\n",
      "relu2: torch.Size([64, 20, 4, 4])\n"
     ]
    },
    {
     "name": "stderr",
     "output_type": "stream",
     "text": [
      "Epoch 2:  27%|██████████▉                              | 250/938 [00:16<00:48, 14.21batch/s, accuracy=100, loss=0.0389]"
     ]
    },
    {
     "name": "stdout",
     "output_type": "stream",
     "text": [
      "view: torch.Size([64, 320])\n",
      "relu2: torch.Size([64, 20, 4, 4])\n",
      "view: torch.Size([64, 320])\n",
      "relu2: torch.Size([64, 20, 4, 4])\n",
      "view: torch.Size([64, 320])\n"
     ]
    },
    {
     "name": "stderr",
     "output_type": "stream",
     "text": [
      "Epoch 2:  27%|███████████                              | 252/938 [00:16<00:47, 14.49batch/s, accuracy=93.8, loss=0.409]"
     ]
    },
    {
     "name": "stdout",
     "output_type": "stream",
     "text": [
      "relu2: torch.Size([64, 20, 4, 4])\n",
      "view: torch.Size([64, 320])\n",
      "relu2: torch.Size([64, 20, 4, 4])\n",
      "view: torch.Size([64, 320])\n",
      "relu2: torch.Size([64, 20, 4, 4])\n",
      "view: torch.Size([64, 320])\n",
      "relu2: torch.Size([64, 20, 4, 4])\n",
      "view: torch.Size([64, 320])\n"
     ]
    },
    {
     "name": "stderr",
     "output_type": "stream",
     "text": [
      "Epoch 2:  27%|██████████▉                             | 256/938 [00:16<00:45, 15.11batch/s, accuracy=96.9, loss=0.0761]"
     ]
    },
    {
     "name": "stdout",
     "output_type": "stream",
     "text": [
      "relu2: torch.Size([64, 20, 4, 4])\n",
      "view: torch.Size([64, 320])\n",
      "relu2: torch.Size([64, 20, 4, 4])\n",
      "view: torch.Size([64, 320])\n",
      "relu2: torch.Size([64, 20, 4, 4])\n",
      "view: torch.Size([64, 320])\n",
      "relu2: torch.Size([64, 20, 4, 4])\n",
      "view: torch.Size([64, 320])\n"
     ]
    },
    {
     "name": "stderr",
     "output_type": "stream",
     "text": [
      "Epoch 2:  28%|███████████▎                             | 260/938 [00:16<00:42, 16.05batch/s, accuracy=95.3, loss=0.147]"
     ]
    },
    {
     "name": "stdout",
     "output_type": "stream",
     "text": [
      "relu2: torch.Size([64, 20, 4, 4])\n",
      "view: torch.Size([64, 320])\n",
      "relu2: torch.Size([64, 20, 4, 4])\n",
      "view: torch.Size([64, 320])\n",
      "relu2: torch.Size([64, 20, 4, 4])\n",
      "view: torch.Size([64, 320])\n",
      "relu2: torch.Size([64, 20, 4, 4])\n",
      "view: torch.Size([64, 320])\n"
     ]
    },
    {
     "name": "stderr",
     "output_type": "stream",
     "text": [
      "Epoch 2:  28%|███████████▌                             | 264/938 [00:16<00:41, 16.43batch/s, accuracy=93.8, loss=0.246]"
     ]
    },
    {
     "name": "stdout",
     "output_type": "stream",
     "text": [
      "relu2: torch.Size([64, 20, 4, 4])\n",
      "view: torch.Size([64, 320])\n",
      "relu2: torch.Size([64, 20, 4, 4])\n",
      "view: torch.Size([64, 320])\n",
      "relu2: torch.Size([64, 20, 4, 4])\n",
      "view: torch.Size([64, 320])\n",
      "relu2: torch.Size([64, 20, 4, 4])\n"
     ]
    },
    {
     "name": "stderr",
     "output_type": "stream",
     "text": [
      "Epoch 2:  29%|███████████▋                             | 268/938 [00:17<00:41, 16.10batch/s, accuracy=92.2, loss=0.374]"
     ]
    },
    {
     "name": "stdout",
     "output_type": "stream",
     "text": [
      "view: torch.Size([64, 320])\n",
      "relu2: torch.Size([64, 20, 4, 4])\n",
      "view: torch.Size([64, 320])\n",
      "relu2: torch.Size([64, 20, 4, 4])\n",
      "view: torch.Size([64, 320])\n",
      "relu2: torch.Size([64, 20, 4, 4])\n"
     ]
    },
    {
     "name": "stderr",
     "output_type": "stream",
     "text": [
      "Epoch 2:  29%|███████████▌                            | 270/938 [00:17<00:41, 15.99batch/s, accuracy=96.9, loss=0.0807]"
     ]
    },
    {
     "name": "stdout",
     "output_type": "stream",
     "text": [
      "view: torch.Size([64, 320])\n",
      "relu2: torch.Size([64, 20, 4, 4])\n",
      "view: torch.Size([64, 320])\n",
      "relu2: torch.Size([64, 20, 4, 4])\n",
      "view: torch.Size([64, 320])\n",
      "relu2: torch.Size([64, 20, 4, 4])\n",
      "view: torch.Size([64, 320])\n"
     ]
    },
    {
     "name": "stderr",
     "output_type": "stream",
     "text": [
      "Epoch 2:  29%|███████████▉                             | 274/938 [00:17<00:40, 16.36batch/s, accuracy=95.3, loss=0.215]"
     ]
    },
    {
     "name": "stdout",
     "output_type": "stream",
     "text": [
      "relu2: torch.Size([64, 20, 4, 4])\n",
      "view: torch.Size([64, 320])\n",
      "relu2: torch.Size([64, 20, 4, 4])\n",
      "view: torch.Size([64, 320])\n",
      "relu2: torch.Size([64, 20, 4, 4])\n",
      "view: torch.Size([64, 320])\n",
      "relu2: torch.Size([64, 20, 4, 4])\n",
      "view: torch.Size([64, 320])\n"
     ]
    },
    {
     "name": "stderr",
     "output_type": "stream",
     "text": [
      "Epoch 2:  30%|████████████▏                            | 278/938 [00:17<00:40, 16.23batch/s, accuracy=90.6, loss=0.282]"
     ]
    },
    {
     "name": "stdout",
     "output_type": "stream",
     "text": [
      "relu2: torch.Size([64, 20, 4, 4])\n",
      "view: torch.Size([64, 320])\n",
      "relu2: torch.Size([64, 20, 4, 4])\n",
      "view: torch.Size([64, 320])\n",
      "relu2: torch.Size([64, 20, 4, 4])\n",
      "view: torch.Size([64, 320])\n",
      "relu2: torch.Size([64, 20, 4, 4])\n"
     ]
    },
    {
     "name": "stderr",
     "output_type": "stream",
     "text": [
      "Epoch 2:  30%|████████████▎                            | 282/938 [00:18<00:40, 16.10batch/s, accuracy=95.3, loss=0.189]"
     ]
    },
    {
     "name": "stdout",
     "output_type": "stream",
     "text": [
      "view: torch.Size([64, 320])\n",
      "relu2: torch.Size([64, 20, 4, 4])\n",
      "view: torch.Size([64, 320])\n",
      "relu2: torch.Size([64, 20, 4, 4])\n",
      "view: torch.Size([64, 320])\n",
      "relu2: torch.Size([64, 20, 4, 4])\n",
      "view: torch.Size([64, 320])\n"
     ]
    },
    {
     "name": "stderr",
     "output_type": "stream",
     "text": [
      "Epoch 2:  30%|████████████▌                            | 286/938 [00:18<00:38, 17.10batch/s, accuracy=92.2, loss=0.174]"
     ]
    },
    {
     "name": "stdout",
     "output_type": "stream",
     "text": [
      "relu2: torch.Size([64, 20, 4, 4])\n",
      "view: torch.Size([64, 320])\n",
      "relu2: torch.Size([64, 20, 4, 4])\n",
      "view: torch.Size([64, 320])\n",
      "relu2: torch.Size([64, 20, 4, 4])\n",
      "view: torch.Size([64, 320])\n",
      "relu2: torch.Size([64, 20, 4, 4])\n",
      "view: torch.Size([64, 320])\n"
     ]
    },
    {
     "name": "stderr",
     "output_type": "stream",
     "text": [
      "Epoch 2:  31%|████████████▎                           | 290/938 [00:18<00:41, 15.78batch/s, accuracy=98.4, loss=0.0805]"
     ]
    },
    {
     "name": "stdout",
     "output_type": "stream",
     "text": [
      "relu2: torch.Size([64, 20, 4, 4])\n",
      "view: torch.Size([64, 320])\n",
      "relu2: torch.Size([64, 20, 4, 4])\n",
      "view: torch.Size([64, 320])\n",
      "relu2: torch.Size([64, 20, 4, 4])\n",
      "view: torch.Size([64, 320])\n",
      "relu2: torch.Size([64, 20, 4, 4])\n"
     ]
    },
    {
     "name": "stderr",
     "output_type": "stream",
     "text": [
      "Epoch 2:  31%|████████████▊                            | 292/938 [00:18<00:41, 15.52batch/s, accuracy=92.2, loss=0.259]"
     ]
    },
    {
     "name": "stdout",
     "output_type": "stream",
     "text": [
      "view: torch.Size([64, 320])\n",
      "relu2: torch.Size([64, 20, 4, 4])\n",
      "view: torch.Size([64, 320])\n",
      "relu2: torch.Size([64, 20, 4, 4])\n",
      "view: torch.Size([64, 320])\n"
     ]
    },
    {
     "name": "stderr",
     "output_type": "stream",
     "text": [
      "Epoch 2:  31%|████████████▊                            | 294/938 [00:18<00:44, 14.52batch/s, accuracy=95.3, loss=0.161]"
     ]
    },
    {
     "name": "stdout",
     "output_type": "stream",
     "text": [
      "relu2: torch.Size([64, 20, 4, 4])\n",
      "view: torch.Size([64, 320])\n",
      "relu2: torch.Size([64, 20, 4, 4])\n",
      "view: torch.Size([64, 320])\n",
      "relu2: torch.Size([64, 20, 4, 4])\n",
      "view: torch.Size([64, 320])\n"
     ]
    },
    {
     "name": "stderr",
     "output_type": "stream",
     "text": [
      "Epoch 2:  32%|█████████████                            | 298/938 [00:19<00:45, 13.98batch/s, accuracy=90.6, loss=0.363]"
     ]
    },
    {
     "name": "stdout",
     "output_type": "stream",
     "text": [
      "relu2: torch.Size([64, 20, 4, 4])\n",
      "view: torch.Size([64, 320])\n",
      "relu2: torch.Size([64, 20, 4, 4])\n",
      "view: torch.Size([64, 320])\n",
      "relu2: torch.Size([64, 20, 4, 4])\n",
      "view: torch.Size([64, 320])\n"
     ]
    },
    {
     "name": "stderr",
     "output_type": "stream",
     "text": [
      "Epoch 2:  32%|█████████████▏                           | 302/938 [00:19<00:43, 14.57batch/s, accuracy=95.3, loss=0.225]"
     ]
    },
    {
     "name": "stdout",
     "output_type": "stream",
     "text": [
      "relu2: torch.Size([64, 20, 4, 4])\n",
      "view: torch.Size([64, 320])\n",
      "relu2: torch.Size([64, 20, 4, 4])\n",
      "view: torch.Size([64, 320])\n",
      "relu2: torch.Size([64, 20, 4, 4])\n",
      "view: torch.Size([64, 320])\n",
      "relu2: torch.Size([64, 20, 4, 4])\n"
     ]
    },
    {
     "name": "stderr",
     "output_type": "stream",
     "text": [
      "Epoch 2:  32%|████████████▉                           | 304/938 [00:19<00:42, 14.81batch/s, accuracy=96.9, loss=0.0708]"
     ]
    },
    {
     "name": "stdout",
     "output_type": "stream",
     "text": [
      "view: torch.Size([64, 320])\n",
      "relu2: torch.Size([64, 20, 4, 4])\n",
      "view: torch.Size([64, 320])\n",
      "relu2: torch.Size([64, 20, 4, 4])\n",
      "view: torch.Size([64, 320])\n",
      "relu2: torch.Size([64, 20, 4, 4])\n",
      "view: torch.Size([64, 320])\n"
     ]
    },
    {
     "name": "stderr",
     "output_type": "stream",
     "text": [
      "Epoch 2:  33%|█████████████▍                           | 308/938 [00:19<00:40, 15.51batch/s, accuracy=95.3, loss=0.195]"
     ]
    },
    {
     "name": "stdout",
     "output_type": "stream",
     "text": [
      "relu2: torch.Size([64, 20, 4, 4])\n",
      "view: torch.Size([64, 320])\n",
      "relu2: torch.Size([64, 20, 4, 4])\n",
      "view: torch.Size([64, 320])\n",
      "relu2: torch.Size([64, 20, 4, 4])\n",
      "view: torch.Size([64, 320])\n",
      "relu2: torch.Size([64, 20, 4, 4])\n"
     ]
    },
    {
     "name": "stderr",
     "output_type": "stream",
     "text": [
      "Epoch 2:  33%|█████████████▋                           | 312/938 [00:19<00:40, 15.33batch/s, accuracy=90.6, loss=0.526]"
     ]
    },
    {
     "name": "stdout",
     "output_type": "stream",
     "text": [
      "view: torch.Size([64, 320])\n",
      "relu2: torch.Size([64, 20, 4, 4])\n",
      "view: torch.Size([64, 320])\n",
      "relu2: torch.Size([64, 20, 4, 4])\n",
      "view: torch.Size([64, 320])\n"
     ]
    },
    {
     "name": "stderr",
     "output_type": "stream",
     "text": [
      "Epoch 2:  33%|█████████████▋                           | 314/938 [00:20<00:41, 14.98batch/s, accuracy=90.6, loss=0.281]"
     ]
    },
    {
     "name": "stdout",
     "output_type": "stream",
     "text": [
      "relu2: torch.Size([64, 20, 4, 4])\n",
      "view: torch.Size([64, 320])\n",
      "relu2: torch.Size([64, 20, 4, 4])\n",
      "view: torch.Size([64, 320])\n",
      "relu2: torch.Size([64, 20, 4, 4])\n",
      "view: torch.Size([64, 320])\n"
     ]
    },
    {
     "name": "stderr",
     "output_type": "stream",
     "text": [
      "Epoch 2:  34%|█████████████▉                           | 318/938 [00:20<00:41, 14.95batch/s, accuracy=93.8, loss=0.253]"
     ]
    },
    {
     "name": "stdout",
     "output_type": "stream",
     "text": [
      "relu2: torch.Size([64, 20, 4, 4])\n",
      "view: torch.Size([64, 320])\n",
      "relu2: torch.Size([64, 20, 4, 4])\n",
      "view: torch.Size([64, 320])\n",
      "relu2: torch.Size([64, 20, 4, 4])\n",
      "view: torch.Size([64, 320])\n"
     ]
    },
    {
     "name": "stderr",
     "output_type": "stream",
     "text": [
      "Epoch 2:  34%|█████████████▉                           | 320/938 [00:20<00:41, 14.75batch/s, accuracy=90.6, loss=0.245]"
     ]
    },
    {
     "name": "stdout",
     "output_type": "stream",
     "text": [
      "relu2: torch.Size([64, 20, 4, 4])\n",
      "view: torch.Size([64, 320])\n",
      "relu2: torch.Size([64, 20, 4, 4])\n",
      "view: torch.Size([64, 320])\n",
      "relu2: torch.Size([64, 20, 4, 4])\n",
      "view: torch.Size([64, 320])\n"
     ]
    },
    {
     "name": "stderr",
     "output_type": "stream",
     "text": [
      "Epoch 2:  35%|██████████████▏                          | 324/938 [00:20<00:40, 14.99batch/s, accuracy=90.6, loss=0.262]"
     ]
    },
    {
     "name": "stdout",
     "output_type": "stream",
     "text": [
      "relu2: torch.Size([64, 20, 4, 4])\n",
      "view: torch.Size([64, 320])\n",
      "relu2: torch.Size([64, 20, 4, 4])\n",
      "view: torch.Size([64, 320])\n",
      "relu2: torch.Size([64, 20, 4, 4])\n",
      "view: torch.Size([64, 320])\n",
      "relu2: torch.Size([64, 20, 4, 4])\n"
     ]
    },
    {
     "name": "stderr",
     "output_type": "stream",
     "text": [
      "Epoch 2:  35%|██████████████▏                          | 326/938 [00:20<00:41, 14.85batch/s, accuracy=89.1, loss=0.546]"
     ]
    },
    {
     "name": "stdout",
     "output_type": "stream",
     "text": [
      "view: torch.Size([64, 320])\n",
      "relu2: torch.Size([64, 20, 4, 4])\n",
      "view: torch.Size([64, 320])\n",
      "relu2: torch.Size([64, 20, 4, 4])\n",
      "view: torch.Size([64, 320])\n"
     ]
    },
    {
     "name": "stderr",
     "output_type": "stream",
     "text": [
      "Epoch 2:  35%|██████████████▎                          | 328/938 [00:21<00:42, 14.37batch/s, accuracy=89.1, loss=0.398]"
     ]
    },
    {
     "name": "stdout",
     "output_type": "stream",
     "text": [
      "relu2: torch.Size([64, 20, 4, 4])\n",
      "view: torch.Size([64, 320])\n",
      "relu2: torch.Size([64, 20, 4, 4])\n",
      "view: torch.Size([64, 320])\n",
      "relu2: torch.Size([64, 20, 4, 4])\n",
      "view: torch.Size([64, 320])\n"
     ]
    },
    {
     "name": "stderr",
     "output_type": "stream",
     "text": [
      "Epoch 2:  35%|██████████████▌                          | 332/938 [00:21<00:44, 13.50batch/s, accuracy=96.9, loss=0.145]"
     ]
    },
    {
     "name": "stdout",
     "output_type": "stream",
     "text": [
      "relu2: torch.Size([64, 20, 4, 4])\n",
      "view: torch.Size([64, 320])\n",
      "relu2: torch.Size([64, 20, 4, 4])\n",
      "view: torch.Size([64, 320])\n",
      "relu2: torch.Size([64, 20, 4, 4])\n",
      "view: torch.Size([64, 320])\n"
     ]
    },
    {
     "name": "stderr",
     "output_type": "stream",
     "text": [
      "Epoch 2:  36%|██████████████▋                          | 336/938 [00:21<00:44, 13.66batch/s, accuracy=93.8, loss=0.209]"
     ]
    },
    {
     "name": "stdout",
     "output_type": "stream",
     "text": [
      "relu2: torch.Size([64, 20, 4, 4])\n",
      "view: torch.Size([64, 320])\n",
      "relu2: torch.Size([64, 20, 4, 4])\n",
      "view: torch.Size([64, 320])\n",
      "relu2: torch.Size([64, 20, 4, 4])\n",
      "view: torch.Size([64, 320])\n"
     ]
    },
    {
     "name": "stderr",
     "output_type": "stream",
     "text": [
      "Epoch 2:  36%|██████████████▊                          | 338/938 [00:21<00:42, 14.14batch/s, accuracy=100, loss=0.0334]"
     ]
    },
    {
     "name": "stdout",
     "output_type": "stream",
     "text": [
      "relu2: torch.Size([64, 20, 4, 4])\n",
      "view: torch.Size([64, 320])\n",
      "relu2: torch.Size([64, 20, 4, 4])\n",
      "view: torch.Size([64, 320])\n",
      "relu2: torch.Size([64, 20, 4, 4])\n",
      "view: torch.Size([64, 320])\n",
      "relu2: torch.Size([64, 20, 4, 4])\n",
      "view: torch.Size([64, 320])\n"
     ]
    },
    {
     "name": "stderr",
     "output_type": "stream",
     "text": [
      "Epoch 2:  36%|██████████████▉                          | 342/938 [00:22<00:39, 15.01batch/s, accuracy=92.2, loss=0.182]"
     ]
    },
    {
     "name": "stdout",
     "output_type": "stream",
     "text": [
      "relu2: torch.Size([64, 20, 4, 4])\n",
      "view: torch.Size([64, 320])\n",
      "relu2: torch.Size([64, 20, 4, 4])\n",
      "view: torch.Size([64, 320])\n",
      "relu2: torch.Size([64, 20, 4, 4])\n",
      "view: torch.Size([64, 320])\n",
      "relu2: torch.Size([64, 20, 4, 4])\n"
     ]
    },
    {
     "name": "stderr",
     "output_type": "stream",
     "text": [
      "Epoch 2:  37%|███████████████                          | 346/938 [00:22<00:39, 15.11batch/s, accuracy=92.2, loss=0.293]"
     ]
    },
    {
     "name": "stdout",
     "output_type": "stream",
     "text": [
      "view: torch.Size([64, 320])\n",
      "relu2: torch.Size([64, 20, 4, 4])\n",
      "view: torch.Size([64, 320])\n",
      "relu2: torch.Size([64, 20, 4, 4])\n",
      "view: torch.Size([64, 320])\n",
      "relu2: torch.Size([64, 20, 4, 4])\n"
     ]
    },
    {
     "name": "stderr",
     "output_type": "stream",
     "text": [
      "Epoch 2:  37%|███████████████▏                         | 348/938 [00:22<00:39, 14.76batch/s, accuracy=93.8, loss=0.224]"
     ]
    },
    {
     "name": "stdout",
     "output_type": "stream",
     "text": [
      "view: torch.Size([64, 320])\n",
      "relu2: torch.Size([64, 20, 4, 4])\n",
      "view: torch.Size([64, 320])\n",
      "relu2: torch.Size([64, 20, 4, 4])\n",
      "view: torch.Size([64, 320])\n"
     ]
    },
    {
     "name": "stderr",
     "output_type": "stream",
     "text": [
      "Epoch 2:  38%|███████████████                         | 352/938 [00:22<00:39, 14.78batch/s, accuracy=95.3, loss=0.0805]"
     ]
    },
    {
     "name": "stdout",
     "output_type": "stream",
     "text": [
      "relu2: torch.Size([64, 20, 4, 4])\n",
      "view: torch.Size([64, 320])\n",
      "relu2: torch.Size([64, 20, 4, 4])\n",
      "view: torch.Size([64, 320])\n",
      "relu2: torch.Size([64, 20, 4, 4])\n",
      "view: torch.Size([64, 320])\n",
      "relu2: torch.Size([64, 20, 4, 4])\n"
     ]
    },
    {
     "name": "stderr",
     "output_type": "stream",
     "text": [
      "Epoch 2:  38%|███████████████▍                         | 354/938 [00:22<00:39, 14.80batch/s, accuracy=100, loss=0.0523]"
     ]
    },
    {
     "name": "stdout",
     "output_type": "stream",
     "text": [
      "view: torch.Size([64, 320])\n",
      "relu2: torch.Size([64, 20, 4, 4])\n",
      "view: torch.Size([64, 320])\n",
      "relu2: torch.Size([64, 20, 4, 4])\n",
      "view: torch.Size([64, 320])\n",
      "relu2: torch.Size([64, 20, 4, 4])"
     ]
    },
    {
     "name": "stderr",
     "output_type": "stream",
     "text": [
      "Epoch 2:  38%|███████████████▋                         | 358/938 [00:23<00:38, 15.15batch/s, accuracy=95.3, loss=0.244]"
     ]
    },
    {
     "name": "stdout",
     "output_type": "stream",
     "text": [
      "\n",
      "view: torch.Size([64, 320])\n",
      "relu2: torch.Size([64, 20, 4, 4])\n",
      "view: torch.Size([64, 320])\n",
      "relu2: torch.Size([64, 20, 4, 4])\n",
      "view: torch.Size([64, 320])\n",
      "relu2: torch.Size([64, 20, 4, 4])\n"
     ]
    },
    {
     "name": "stderr",
     "output_type": "stream",
     "text": [
      "Epoch 2:  38%|███████████████▋                         | 358/938 [00:23<00:38, 15.15batch/s, accuracy=95.3, loss=0.161]"
     ]
    },
    {
     "name": "stdout",
     "output_type": "stream",
     "text": [
      "view: torch.Size([64, 320])\n",
      "relu2: torch.Size([64, 20, 4, 4])\n",
      "view: torch.Size([64, 320])\n"
     ]
    },
    {
     "name": "stderr",
     "output_type": "stream",
     "text": [
      "Epoch 2:  38%|███████████████▋                         | 360/938 [00:23<00:46, 12.36batch/s, accuracy=95.3, loss=0.207]"
     ]
    },
    {
     "name": "stdout",
     "output_type": "stream",
     "text": [
      "relu2: torch.Size([64, 20, 4, 4])\n",
      "view: torch.Size([64, 320])\n"
     ]
    },
    {
     "name": "stderr",
     "output_type": "stream",
     "text": [
      "Epoch 2:  39%|███████████████▊                         | 362/938 [00:23<01:14,  7.70batch/s, accuracy=95.3, loss=0.103]"
     ]
    },
    {
     "name": "stdout",
     "output_type": "stream",
     "text": [
      "relu2: torch.Size([64, 20, 4, 4])\n",
      "view: torch.Size([64, 320])\n",
      "relu2: torch.Size([64, 20, 4, 4])\n",
      "view: torch.Size([64, 320])\n"
     ]
    },
    {
     "name": "stderr",
     "output_type": "stream",
     "text": [
      "Epoch 2:  39%|███████████████▉                         | 364/938 [00:24<01:23,  6.86batch/s, accuracy=95.3, loss=0.148]"
     ]
    },
    {
     "name": "stdout",
     "output_type": "stream",
     "text": [
      "relu2: torch.Size([64, 20, 4, 4])\n",
      "view: torch.Size([64, 320])\n"
     ]
    },
    {
     "name": "stderr",
     "output_type": "stream",
     "text": [
      "Epoch 2:  39%|███████████████▉                         | 366/938 [00:24<01:22,  6.92batch/s, accuracy=95.3, loss=0.194]"
     ]
    },
    {
     "name": "stdout",
     "output_type": "stream",
     "text": [
      "relu2: torch.Size([64, 20, 4, 4])\n",
      "view: torch.Size([64, 320])\n",
      "relu2: torch.Size([64, 20, 4, 4])\n",
      "view: torch.Size([64, 320])\n"
     ]
    },
    {
     "name": "stderr",
     "output_type": "stream",
     "text": [
      "Epoch 2:  39%|████████████████                         | 368/938 [00:24<01:19,  7.13batch/s, accuracy=90.6, loss=0.237]"
     ]
    },
    {
     "name": "stdout",
     "output_type": "stream",
     "text": [
      "relu2: torch.Size([64, 20, 4, 4])\n",
      "view: torch.Size([64, 320])\n",
      "relu2: torch.Size([64, 20, 4, 4])\n",
      "view: torch.Size([64, 320])\n"
     ]
    },
    {
     "name": "stderr",
     "output_type": "stream",
     "text": [
      "Epoch 2:  39%|████████████████▏                        | 369/938 [00:24<01:20,  7.09batch/s, accuracy=95.3, loss=0.127]"
     ]
    },
    {
     "name": "stdout",
     "output_type": "stream",
     "text": [
      "relu2: torch.Size([64, 20, 4, 4])\n",
      "view: torch.Size([64, 320])\n"
     ]
    },
    {
     "name": "stderr",
     "output_type": "stream",
     "text": [
      "Epoch 2:  39%|████████████████▏                        | 370/938 [00:25<01:36,  5.89batch/s, accuracy=95.3, loss=0.199]"
     ]
    },
    {
     "name": "stdout",
     "output_type": "stream",
     "text": [
      "relu2: torch.Size([64, 20, 4, 4])\n",
      "view: torch.Size([64, 320])\n"
     ]
    },
    {
     "name": "stderr",
     "output_type": "stream",
     "text": [
      "Epoch 2:  40%|████████████████▏                        | 371/938 [00:25<01:42,  5.51batch/s, accuracy=96.9, loss=0.176]"
     ]
    },
    {
     "name": "stdout",
     "output_type": "stream",
     "text": [
      "relu2: torch.Size([64, 20, 4, 4])\n",
      "view: torch.Size([64, 320])\n",
      "relu2:"
     ]
    },
    {
     "name": "stderr",
     "output_type": "stream",
     "text": [
      "Epoch 2:  40%|████████████████▎                        | 373/938 [00:25<01:27,  6.45batch/s, accuracy=93.8, loss=0.222]"
     ]
    },
    {
     "name": "stdout",
     "output_type": "stream",
     "text": [
      " torch.Size([64, 20, 4, 4])\n",
      "view: torch.Size([64, 320])\n",
      "relu2: torch.Size([64, 20, 4, 4])\n",
      "view: torch.Size([64, 320])\n"
     ]
    },
    {
     "name": "stderr",
     "output_type": "stream",
     "text": [
      "Epoch 2:  40%|████████████████▎                        | 374/938 [00:25<01:24,  6.65batch/s, accuracy=87.5, loss=0.416]"
     ]
    },
    {
     "name": "stdout",
     "output_type": "stream",
     "text": [
      "relu2: torch.Size([64, 20, 4, 4])\n",
      "view: torch.Size([64, 320])\n",
      "relu2: torch.Size([64, 20, 4, 4])\n",
      "view: torch.Size([64, 320])\n"
     ]
    },
    {
     "name": "stderr",
     "output_type": "stream",
     "text": [
      "Epoch 2:  40%|████████████████                        | 377/938 [00:26<01:21,  6.87batch/s, accuracy=98.4, loss=0.0896]"
     ]
    },
    {
     "name": "stdout",
     "output_type": "stream",
     "text": [
      "relu2: torch.Size([64, 20, 4, 4])\n",
      "view: torch.Size([64, 320])\n",
      "relu2: torch.Size([64, 20, 4, 4])\n",
      "view: torch.Size([64, 320])\n"
     ]
    },
    {
     "name": "stderr",
     "output_type": "stream",
     "text": [
      "Epoch 2:  40%|████████████████▌                        | 378/938 [00:26<01:20,  6.97batch/s, accuracy=98.4, loss=0.104]"
     ]
    },
    {
     "name": "stdout",
     "output_type": "stream",
     "text": [
      "relu2: torch.Size([64, 20, 4, 4])\n",
      "view: torch.Size([64, 320])\n",
      "relu2: torch.Size([64, 20, 4, 4])\n",
      "view: torch.Size([64, 320])\n"
     ]
    },
    {
     "name": "stderr",
     "output_type": "stream",
     "text": [
      "Epoch 2:  41%|████████████████▏                       | 381/938 [00:26<01:16,  7.29batch/s, accuracy=98.4, loss=0.0419]"
     ]
    },
    {
     "name": "stdout",
     "output_type": "stream",
     "text": [
      "relu2: torch.Size([64, 20, 4, 4])\n",
      "view: torch.Size([64, 320])\n",
      "relu2: torch.Size([64, 20, 4, 4])\n",
      "view: torch.Size([64, 320])\n"
     ]
    },
    {
     "name": "stderr",
     "output_type": "stream",
     "text": [
      "Epoch 2:  41%|████████████████▋                        | 383/938 [00:27<01:12,  7.63batch/s, accuracy=96.9, loss=0.111]"
     ]
    },
    {
     "name": "stdout",
     "output_type": "stream",
     "text": [
      "relu2: torch.Size([64, 20, 4, 4])\n",
      "view: torch.Size([64, 320])\n",
      "relu2: torch.Size([64, 20, 4, 4])\n",
      "view: torch.Size([64, 320])\n"
     ]
    },
    {
     "name": "stderr",
     "output_type": "stream",
     "text": [
      "Epoch 2:  41%|████████████████▊                        | 384/938 [00:27<01:10,  7.81batch/s, accuracy=89.1, loss=0.318]"
     ]
    },
    {
     "name": "stdout",
     "output_type": "stream",
     "text": [
      "relu2: torch.Size([64, 20, 4, 4])\n",
      "view: torch.Size([64, 320])\n",
      "relu2: torch.Size([64, 20, 4, 4])\n",
      "view: torch.Size([64, 320])\n"
     ]
    },
    {
     "name": "stderr",
     "output_type": "stream",
     "text": [
      "Epoch 2:  41%|████████████████▊                        | 386/938 [00:27<01:14,  7.39batch/s, accuracy=87.5, loss=0.339]"
     ]
    },
    {
     "name": "stdout",
     "output_type": "stream",
     "text": [
      "relu2: torch.Size([64, 20, 4, 4])\n",
      "view: torch.Size([64, 320])\n",
      "relu2: torch.Size([64, 20, 4, 4])\n",
      "view: torch.Size([64, 320])\n"
     ]
    },
    {
     "name": "stderr",
     "output_type": "stream",
     "text": [
      "Epoch 2:  41%|█████████████████                        | 389/938 [00:27<01:12,  7.62batch/s, accuracy=92.2, loss=0.215]"
     ]
    },
    {
     "name": "stdout",
     "output_type": "stream",
     "text": [
      "relu2: torch.Size([64, 20, 4, 4])\n",
      "view: torch.Size([64, 320])\n",
      "relu2: torch.Size([64, 20, 4, 4])\n",
      "view: torch.Size([64, 320])\n"
     ]
    },
    {
     "name": "stderr",
     "output_type": "stream",
     "text": [
      "Epoch 2:  42%|█████████████████                        | 391/938 [00:28<01:12,  7.54batch/s, accuracy=90.6, loss=0.297]"
     ]
    },
    {
     "name": "stdout",
     "output_type": "stream",
     "text": [
      "relu2: torch.Size([64, 20, 4, 4])\n",
      "view: torch.Size([64, 320])\n",
      "relu2: torch.Size([64, 20, 4, 4])\n",
      "view: torch.Size([64, 320])\n"
     ]
    },
    {
     "name": "stderr",
     "output_type": "stream",
     "text": [
      "Epoch 2:  42%|████████████████▊                       | 393/938 [00:28<01:11,  7.59batch/s, accuracy=95.3, loss=0.0934]"
     ]
    },
    {
     "name": "stdout",
     "output_type": "stream",
     "text": [
      "relu2: torch.Size([64, 20, 4, 4])\n",
      "view: torch.Size([64, 320])\n",
      "relu2: torch.Size([64, 20, 4, 4])\n",
      "view: torch.Size([64, 320])\n"
     ]
    },
    {
     "name": "stderr",
     "output_type": "stream",
     "text": [
      "Epoch 2:  42%|█████████████████▎                       | 395/938 [00:28<01:11,  7.57batch/s, accuracy=87.5, loss=0.315]"
     ]
    },
    {
     "name": "stdout",
     "output_type": "stream",
     "text": [
      "relu2: torch.Size([64, 20, 4, 4])\n",
      "view: torch.Size([64, 320])\n",
      "relu2: torch.Size([64, 20, 4, 4])\n",
      "view: torch.Size([64, 320])\n"
     ]
    },
    {
     "name": "stderr",
     "output_type": "stream",
     "text": [
      "Epoch 2:  42%|█████████████████▎                       | 397/938 [00:28<01:11,  7.62batch/s, accuracy=92.2, loss=0.417]"
     ]
    },
    {
     "name": "stdout",
     "output_type": "stream",
     "text": [
      "relu2: torch.Size([64, 20, 4, 4])\n",
      "view: torch.Size([64, 320])\n",
      "relu2: torch.Size([64, 20, 4, 4])\n",
      "view: torch.Size([64, 320])\n"
     ]
    },
    {
     "name": "stderr",
     "output_type": "stream",
     "text": [
      "Epoch 2:  43%|█████████████████▍                       | 399/938 [00:29<01:09,  7.81batch/s, accuracy=90.6, loss=0.473]"
     ]
    },
    {
     "name": "stdout",
     "output_type": "stream",
     "text": [
      "relu2: torch.Size([64, 20, 4, 4])\n",
      "view: torch.Size([64, 320])\n",
      "relu2: torch.Size([64, 20, 4, 4])\n",
      "view: torch.Size([64, 320])\n"
     ]
    },
    {
     "name": "stderr",
     "output_type": "stream",
     "text": [
      "Epoch 2:  43%|█████████████████▌                       | 401/938 [00:29<01:03,  8.47batch/s, accuracy=96.9, loss=0.131]"
     ]
    },
    {
     "name": "stdout",
     "output_type": "stream",
     "text": [
      "relu2: torch.Size([64, 20, 4, 4])\n",
      "view: torch.Size([64, 320])\n",
      "relu2: torch.Size([64, 20, 4, 4])\n",
      "view: torch.Size([64, 320])\n"
     ]
    },
    {
     "name": "stderr",
     "output_type": "stream",
     "text": [
      "Epoch 2:  43%|█████████████████▌                       | 402/938 [00:29<01:00,  8.86batch/s, accuracy=93.8, loss=0.198]"
     ]
    },
    {
     "name": "stdout",
     "output_type": "stream",
     "text": [
      "relu2: torch.Size([64, 20, 4, 4])\n",
      "view: torch.Size([64, 320])\n",
      "relu2: torch.Size([64, 20, 4, 4])\n",
      "view: torch.Size([64, 320])\n",
      "relu2: torch.Size([64, 20, 4, 4])\n",
      "view: torch.Size([64, 320])\n"
     ]
    },
    {
     "name": "stderr",
     "output_type": "stream",
     "text": [
      "Epoch 2:  43%|█████████████████▋                       | 406/938 [00:29<00:46, 11.43batch/s, accuracy=95.3, loss=0.142]"
     ]
    },
    {
     "name": "stdout",
     "output_type": "stream",
     "text": [
      "relu2: torch.Size([64, 20, 4, 4])\n",
      "view: torch.Size([64, 320])\n",
      "relu2: torch.Size([64, 20, 4, 4])\n",
      "view: torch.Size([64, 320])\n",
      "relu2: torch.Size([64, 20, 4, 4])\n",
      "view: torch.Size([64, 320])\n"
     ]
    },
    {
     "name": "stderr",
     "output_type": "stream",
     "text": [
      "Epoch 2:  43%|█████████████████▍                      | 408/938 [00:30<00:43, 12.17batch/s, accuracy=96.9, loss=0.0603]"
     ]
    },
    {
     "name": "stdout",
     "output_type": "stream",
     "text": [
      "relu2: torch.Size([64, 20, 4, 4])\n",
      "view: torch.Size([64, 320])\n",
      "relu2: torch.Size([64, 20, 4, 4])\n",
      "view: torch.Size([64, 320])\n",
      "relu2: torch.Size([64, 20, 4, 4])\n",
      "view: torch.Size([64, 320])\n"
     ]
    },
    {
     "name": "stderr",
     "output_type": "stream",
     "text": [
      "Epoch 2:  44%|██████████████████                       | 412/938 [00:30<00:39, 13.26batch/s, accuracy=96.9, loss=0.148]"
     ]
    },
    {
     "name": "stdout",
     "output_type": "stream",
     "text": [
      "relu2: torch.Size([64, 20, 4, 4])\n",
      "view: torch.Size([64, 320])\n",
      "relu2: torch.Size([64, 20, 4, 4])\n",
      "view: torch.Size([64, 320])\n",
      "relu2: torch.Size([64, 20, 4, 4])\n",
      "view: torch.Size([64, 320])\n"
     ]
    },
    {
     "name": "stderr",
     "output_type": "stream",
     "text": [
      "Epoch 2:  44%|██████████████████▏                      | 416/938 [00:30<00:36, 14.22batch/s, accuracy=92.2, loss=0.424]"
     ]
    },
    {
     "name": "stdout",
     "output_type": "stream",
     "text": [
      "relu2: torch.Size([64, 20, 4, 4])\n",
      "view: torch.Size([64, 320])\n",
      "relu2: torch.Size([64, 20, 4, 4])\n",
      "view: torch.Size([64, 320])\n",
      "relu2: torch.Size([64, 20, 4, 4])\n",
      "view: torch.Size([64, 320])\n",
      "relu2: torch.Size([64, 20, 4, 4])\n"
     ]
    },
    {
     "name": "stderr",
     "output_type": "stream",
     "text": [
      "Epoch 2:  45%|██████████████████▎                      | 418/938 [00:30<00:35, 14.56batch/s, accuracy=89.1, loss=0.303]"
     ]
    },
    {
     "name": "stdout",
     "output_type": "stream",
     "text": [
      "view: torch.Size([64, 320])\n",
      "relu2: torch.Size([64, 20, 4, 4])\n",
      "view: torch.Size([64, 320])\n",
      "relu2: torch.Size([64, 20, 4, 4])\n",
      "view: torch.Size([64, 320])\n",
      "relu2: torch.Size([64, 20, 4, 4])\n"
     ]
    },
    {
     "name": "stderr",
     "output_type": "stream",
     "text": [
      "Epoch 2:  45%|██████████████████▍                      | 422/938 [00:30<00:33, 15.29batch/s, accuracy=95.3, loss=0.111]"
     ]
    },
    {
     "name": "stdout",
     "output_type": "stream",
     "text": [
      "view: torch.Size([64, 320])\n",
      "relu2: torch.Size([64, 20, 4, 4])\n",
      "view: torch.Size([64, 320])\n",
      "relu2: torch.Size([64, 20, 4, 4])\n",
      "view: torch.Size([64, 320])\n",
      "relu2: torch.Size([64, 20, 4, 4])\n"
     ]
    },
    {
     "name": "stderr",
     "output_type": "stream",
     "text": [
      "Epoch 2:  45%|██████████████████▌                      | 424/938 [00:31<00:33, 15.40batch/s, accuracy=90.6, loss=0.276]"
     ]
    },
    {
     "name": "stdout",
     "output_type": "stream",
     "text": [
      "view: torch.Size([64, 320])\n",
      "relu2: torch.Size([64, 20, 4, 4])\n",
      "view: torch.Size([64, 320])\n",
      "relu2: torch.Size([64, 20, 4, 4])\n",
      "view: torch.Size([64, 320])\n",
      "relu2: torch.Size([64, 20, 4, 4])\n",
      "view: torch.Size([64, 320])\n"
     ]
    },
    {
     "name": "stderr",
     "output_type": "stream",
     "text": [
      "Epoch 2:  46%|██████████████████▋                      | 428/938 [00:31<00:30, 16.59batch/s, accuracy=89.1, loss=0.405]"
     ]
    },
    {
     "name": "stdout",
     "output_type": "stream",
     "text": [
      "relu2: torch.Size([64, 20, 4, 4])\n",
      "view: torch.Size([64, 320])\n",
      "relu2: torch.Size([64, 20, 4, 4])\n",
      "view: torch.Size([64, 320])\n",
      "relu2: torch.Size([64, 20, 4, 4])\n",
      "view: torch.Size([64, 320])\n",
      "relu2: torch.Size([64, 20, 4, 4])\n",
      "view: torch.Size([64, 320])\n"
     ]
    },
    {
     "name": "stderr",
     "output_type": "stream",
     "text": [
      "Epoch 2:  46%|███████████████████▍                      | 434/938 [00:31<00:28, 17.54batch/s, accuracy=92.2, loss=0.18]"
     ]
    },
    {
     "name": "stdout",
     "output_type": "stream",
     "text": [
      "relu2: torch.Size([64, 20, 4, 4])\n",
      "view: torch.Size([64, 320])\n",
      "relu2: torch.Size([64, 20, 4, 4])\n",
      "view: torch.Size([64, 320])\n",
      "relu2: torch.Size([64, 20, 4, 4])\n",
      "view: torch.Size([64, 320])\n",
      "relu2: torch.Size([64, 20, 4, 4])\n",
      "view: torch.Size([64, 320])\n"
     ]
    },
    {
     "name": "stderr",
     "output_type": "stream",
     "text": [
      "Epoch 2:  47%|███████████████████▏                     | 438/938 [00:31<00:27, 18.30batch/s, accuracy=89.1, loss=0.285]"
     ]
    },
    {
     "name": "stdout",
     "output_type": "stream",
     "text": [
      "relu2: torch.Size([64, 20, 4, 4])\n",
      "view: torch.Size([64, 320])\n",
      "relu2: torch.Size([64, 20, 4, 4])\n",
      "view: torch.Size([64, 320])\n",
      "relu2: torch.Size([64, 20, 4, 4])\n",
      "view: torch.Size([64, 320])\n",
      "relu2: torch.Size([64, 20, 4, 4])\n",
      "view: torch.Size([64, 320])\n"
     ]
    },
    {
     "name": "stderr",
     "output_type": "stream",
     "text": [
      "Epoch 2:  47%|████████████████████▏                      | 440/938 [00:31<00:27, 18.09batch/s, accuracy=96.9, loss=0.1]"
     ]
    },
    {
     "name": "stdout",
     "output_type": "stream",
     "text": [
      "relu2: torch.Size([64, 20, 4, 4])\n",
      "view: torch.Size([64, 320])\n",
      "relu2: torch.Size([64, 20, 4, 4])\n",
      "view: torch.Size([64, 320])\n",
      "relu2: torch.Size([64, 20, 4, 4])\n",
      "view: torch.Size([64, 320])\n",
      "relu2: torch.Size([64, 20, 4, 4])\n",
      "view: torch.Size([64, 320])\n"
     ]
    },
    {
     "name": "stderr",
     "output_type": "stream",
     "text": [
      "Epoch 2:  47%|███████████████████▍                     | 444/938 [00:32<00:27, 17.89batch/s, accuracy=92.2, loss=0.125]"
     ]
    },
    {
     "name": "stdout",
     "output_type": "stream",
     "text": [
      "relu2: torch.Size([64, 20, 4, 4])\n",
      "view: torch.Size([64, 320])\n",
      "relu2: torch.Size([64, 20, 4, 4])\n",
      "view: torch.Size([64, 320])\n",
      "relu2: torch.Size([64, 20, 4, 4])\n",
      "view: torch.Size([64, 320])\n",
      "relu2: torch.Size([64, 20, 4, 4])\n",
      "view: torch.Size([64, 320])\n"
     ]
    },
    {
     "name": "stderr",
     "output_type": "stream",
     "text": [
      "Epoch 2:  48%|███████████████████                     | 448/938 [00:32<00:28, 17.34batch/s, accuracy=98.4, loss=0.0642]"
     ]
    },
    {
     "name": "stdout",
     "output_type": "stream",
     "text": [
      "relu2: torch.Size([64, 20, 4, 4])\n",
      "view: torch.Size([64, 320])\n",
      "relu2: torch.Size([64, 20, 4, 4])\n",
      "view: torch.Size([64, 320])\n",
      "relu2: torch.Size([64, 20, 4, 4])\n",
      "view: torch.Size([64, 320])\n",
      "relu2: torch.Size([64, 20, 4, 4])\n",
      "view: torch.Size([64, 320])\n"
     ]
    },
    {
     "name": "stderr",
     "output_type": "stream",
     "text": [
      "Epoch 2:  48%|███████████████████▎                    | 452/938 [00:32<00:28, 16.80batch/s, accuracy=98.4, loss=0.0665]"
     ]
    },
    {
     "name": "stdout",
     "output_type": "stream",
     "text": [
      "relu2: torch.Size([64, 20, 4, 4])\n",
      "view: torch.Size([64, 320])\n",
      "relu2: torch.Size([64, 20, 4, 4])\n",
      "view: torch.Size([64, 320])\n",
      "relu2: torch.Size([64, 20, 4, 4])\n",
      "view: torch.Size([64, 320])\n",
      "relu2: torch.Size([64, 20, 4, 4])\n",
      "view: torch.Size([64, 320])\n"
     ]
    },
    {
     "name": "stderr",
     "output_type": "stream",
     "text": [
      "Epoch 2:  49%|████████████████████                     | 458/938 [00:32<00:27, 17.61batch/s, accuracy=92.2, loss=0.265]"
     ]
    },
    {
     "name": "stdout",
     "output_type": "stream",
     "text": [
      "relu2: torch.Size([64, 20, 4, 4])\n",
      "view: torch.Size([64, 320])\n",
      "relu2: torch.Size([64, 20, 4, 4])\n",
      "view: torch.Size([64, 320])\n",
      "relu2: torch.Size([64, 20, 4, 4])\n",
      "view: torch.Size([64, 320])\n",
      "relu2: torch.Size([64, 20, 4, 4])\n",
      "view: torch.Size([64, 320])\n"
     ]
    },
    {
     "name": "stderr",
     "output_type": "stream",
     "text": [
      "Epoch 2:  49%|███████████████████▌                    | 460/938 [00:33<00:27, 17.30batch/s, accuracy=98.4, loss=0.0625]"
     ]
    },
    {
     "name": "stdout",
     "output_type": "stream",
     "text": [
      "relu2: torch.Size([64, 20, 4, 4])\n",
      "view: torch.Size([64, 320])\n",
      "relu2: torch.Size([64, 20, 4, 4])\n",
      "view: torch.Size([64, 320])\n",
      "relu2: torch.Size([64, 20, 4, 4])\n",
      "view: torch.Size([64, 320])\n",
      "relu2: torch.Size([64, 20, 4, 4])\n",
      "view: torch.Size([64, 320])\n"
     ]
    },
    {
     "name": "stderr",
     "output_type": "stream",
     "text": [
      "Epoch 2:  50%|████████████████████▎                    | 466/938 [00:33<00:26, 17.80batch/s, accuracy=95.3, loss=0.289]"
     ]
    },
    {
     "name": "stdout",
     "output_type": "stream",
     "text": [
      "relu2: torch.Size([64, 20, 4, 4])\n",
      "view: torch.Size([64, 320])\n",
      "relu2: torch.Size([64, 20, 4, 4])\n",
      "view: torch.Size([64, 320])\n",
      "relu2: torch.Size([64, 20, 4, 4])\n",
      "view: torch.Size([64, 320])\n",
      "relu2: torch.Size([64, 20, 4, 4])\n",
      "view: torch.Size([64, 320])\n"
     ]
    },
    {
     "name": "stderr",
     "output_type": "stream",
     "text": [
      "Epoch 2:  50%|████████████████████▍                    | 468/938 [00:33<00:27, 17.37batch/s, accuracy=92.2, loss=0.219]"
     ]
    },
    {
     "name": "stdout",
     "output_type": "stream",
     "text": [
      "relu2: torch.Size([64, 20, 4, 4])\n",
      "view: torch.Size([64, 320])\n",
      "relu2: torch.Size([64, 20, 4, 4])\n",
      "view: torch.Size([64, 320])\n",
      "relu2: torch.Size([64, 20, 4, 4])\n",
      "view: torch.Size([64, 320])\n"
     ]
    },
    {
     "name": "stderr",
     "output_type": "stream",
     "text": [
      "Epoch 2:  50%|█████████████████████▏                    | 472/938 [00:33<00:29, 15.96batch/s, accuracy=95.3, loss=0.36]"
     ]
    },
    {
     "name": "stdout",
     "output_type": "stream",
     "text": [
      "relu2: torch.Size([64, 20, 4, 4])\n",
      "view: torch.Size([64, 320])\n",
      "relu2: torch.Size([64, 20, 4, 4])\n",
      "view: torch.Size([64, 320])\n",
      "relu2: torch.Size([64, 20, 4, 4])\n",
      "view: torch.Size([64, 320])\n",
      "relu2: torch.Size([64, 20, 4, 4])\n"
     ]
    },
    {
     "name": "stderr",
     "output_type": "stream",
     "text": [
      "Epoch 2:  51%|████████████████████▋                    | 474/938 [00:33<00:28, 16.18batch/s, accuracy=95.3, loss=0.105]"
     ]
    },
    {
     "name": "stdout",
     "output_type": "stream",
     "text": [
      "view: torch.Size([64, 320])\n",
      "relu2: torch.Size([64, 20, 4, 4])\n",
      "view: torch.Size([64, 320])\n",
      "relu2: torch.Size([64, 20, 4, 4])\n",
      "view: torch.Size([64, 320])\n",
      "relu2: torch.Size([64, 20, 4, 4])\n"
     ]
    },
    {
     "name": "stderr",
     "output_type": "stream",
     "text": [
      "Epoch 2:  51%|████████████████████▉                    | 478/938 [00:34<00:28, 16.28batch/s, accuracy=96.9, loss=0.209]"
     ]
    },
    {
     "name": "stdout",
     "output_type": "stream",
     "text": [
      "view: torch.Size([64, 320])\n",
      "relu2: torch.Size([64, 20, 4, 4])\n",
      "view: torch.Size([64, 320])\n",
      "relu2: torch.Size([64, 20, 4, 4])\n",
      "view: torch.Size([64, 320])\n",
      "relu2: torch.Size([64, 20, 4, 4])\n",
      "view: torch.Size([64, 320])\n"
     ]
    },
    {
     "name": "stderr",
     "output_type": "stream",
     "text": [
      "Epoch 2:  51%|█████████████████████                    | 482/938 [00:34<00:26, 17.40batch/s, accuracy=89.1, loss=0.552]"
     ]
    },
    {
     "name": "stdout",
     "output_type": "stream",
     "text": [
      "relu2: torch.Size([64, 20, 4, 4])\n",
      "view: torch.Size([64, 320])\n",
      "relu2: torch.Size([64, 20, 4, 4])\n",
      "view: torch.Size([64, 320])\n",
      "relu2: torch.Size([64, 20, 4, 4])\n",
      "view: torch.Size([64, 320])\n",
      "relu2: torch.Size([64, 20, 4, 4])\n",
      "view: torch.Size([64, 320])\n"
     ]
    },
    {
     "name": "stderr",
     "output_type": "stream",
     "text": [
      "Epoch 2:  52%|█████████████████████▏                   | 486/938 [00:34<00:25, 17.52batch/s, accuracy=95.3, loss=0.149]"
     ]
    },
    {
     "name": "stdout",
     "output_type": "stream",
     "text": [
      "relu2: torch.Size([64, 20, 4, 4])\n",
      "view: torch.Size([64, 320])\n",
      "relu2: torch.Size([64, 20, 4, 4])\n",
      "view: torch.Size([64, 320])\n",
      "relu2: torch.Size([64, 20, 4, 4])\n",
      "view: torch.Size([64, 320])\n",
      "relu2: torch.Size([64, 20, 4, 4])\n",
      "view: torch.Size([64, 320])\n"
     ]
    },
    {
     "name": "stderr",
     "output_type": "stream",
     "text": [
      "Epoch 2:  52%|█████████████████████▍                   | 490/938 [00:34<00:25, 17.77batch/s, accuracy=93.8, loss=0.202]"
     ]
    },
    {
     "name": "stdout",
     "output_type": "stream",
     "text": [
      "relu2: torch.Size([64, 20, 4, 4])\n",
      "view: torch.Size([64, 320])\n",
      "relu2: torch.Size([64, 20, 4, 4])\n",
      "view: torch.Size([64, 320])\n",
      "relu2: torch.Size([64, 20, 4, 4])\n",
      "view: torch.Size([64, 320])\n",
      "relu2: torch.Size([64, 20, 4, 4])\n",
      "view: torch.Size([64, 320])\n"
     ]
    },
    {
     "name": "stderr",
     "output_type": "stream",
     "text": [
      "Epoch 2:  53%|█████████████████████▌                   | 494/938 [00:35<00:25, 17.62batch/s, accuracy=93.8, loss=0.212]"
     ]
    },
    {
     "name": "stdout",
     "output_type": "stream",
     "text": [
      "relu2: torch.Size([64, 20, 4, 4])\n",
      "view: torch.Size([64, 320])\n",
      "relu2: torch.Size([64, 20, 4, 4])\n",
      "view: torch.Size([64, 320])\n",
      "relu2: torch.Size([64, 20, 4, 4])\n",
      "view: torch.Size([64, 320])\n",
      "relu2: torch.Size([64, 20, 4, 4])\n",
      "view: torch.Size([64, 320])\n"
     ]
    },
    {
     "name": "stderr",
     "output_type": "stream",
     "text": [
      "Epoch 2:  53%|█████████████████████▊                   | 498/938 [00:35<00:25, 17.59batch/s, accuracy=93.8, loss=0.241]"
     ]
    },
    {
     "name": "stdout",
     "output_type": "stream",
     "text": [
      "relu2: torch.Size([64, 20, 4, 4])\n",
      "view: torch.Size([64, 320])\n",
      "relu2: torch.Size([64, 20, 4, 4])\n",
      "view: torch.Size([64, 320])\n",
      "relu2: torch.Size([64, 20, 4, 4])\n",
      "view: torch.Size([64, 320])\n",
      "relu2: torch.Size([64, 20, 4, 4])\n"
     ]
    },
    {
     "name": "stderr",
     "output_type": "stream",
     "text": [
      "Epoch 2:  53%|█████████████████████▎                  | 500/938 [00:35<00:25, 17.27batch/s, accuracy=98.4, loss=0.0847]"
     ]
    },
    {
     "name": "stdout",
     "output_type": "stream",
     "text": [
      "view: torch.Size([64, 320])\n",
      "relu2: torch.Size([64, 20, 4, 4])\n",
      "view: torch.Size([64, 320])\n",
      "relu2: torch.Size([64, 20, 4, 4])\n",
      "view: torch.Size([64, 320])\n",
      "relu2: torch.Size([64, 20, 4, 4])\n",
      "view: torch.Size([64, 320])\n"
     ]
    },
    {
     "name": "stderr",
     "output_type": "stream",
     "text": [
      "Epoch 2:  54%|██████████████████████                   | 504/938 [00:35<00:25, 17.10batch/s, accuracy=100, loss=0.0469]"
     ]
    },
    {
     "name": "stdout",
     "output_type": "stream",
     "text": [
      "relu2: torch.Size([64, 20, 4, 4])\n",
      "view: torch.Size([64, 320])\n",
      "relu2: torch.Size([64, 20, 4, 4])\n",
      "view: torch.Size([64, 320])\n",
      "relu2: torch.Size([64, 20, 4, 4])\n",
      "view: torch.Size([64, 320])\n",
      "relu2: torch.Size([64, 20, 4, 4])\n",
      "view: torch.Size([64, 320])\n"
     ]
    },
    {
     "name": "stderr",
     "output_type": "stream",
     "text": [
      "Epoch 2:  54%|█████████████████████▋                  | 508/938 [00:35<00:24, 17.25batch/s, accuracy=96.9, loss=0.0871]"
     ]
    },
    {
     "name": "stdout",
     "output_type": "stream",
     "text": [
      "relu2: torch.Size([64, 20, 4, 4])\n",
      "view: torch.Size([64, 320])\n",
      "relu2: torch.Size([64, 20, 4, 4])\n",
      "view: torch.Size([64, 320])\n",
      "relu2: torch.Size([64, 20, 4, 4])\n",
      "view: torch.Size([64, 320])\n",
      "relu2: torch.Size([64, 20, 4, 4])\n",
      "view: torch.Size([64, 320])\n"
     ]
    },
    {
     "name": "stderr",
     "output_type": "stream",
     "text": [
      "Epoch 2:  55%|██████████████████████▍                  | 512/938 [00:36<00:25, 16.65batch/s, accuracy=93.8, loss=0.175]"
     ]
    },
    {
     "name": "stdout",
     "output_type": "stream",
     "text": [
      "relu2: torch.Size([64, 20, 4, 4])\n",
      "view: torch.Size([64, 320])\n",
      "relu2: torch.Size([64, 20, 4, 4])\n",
      "view: torch.Size([64, 320])\n",
      "relu2: torch.Size([64, 20, 4, 4])\n",
      "view: torch.Size([64, 320])\n",
      "relu2: torch.Size([64, 20, 4, 4])\n"
     ]
    },
    {
     "name": "stderr",
     "output_type": "stream",
     "text": [
      "Epoch 2:  55%|██████████████████████▌                  | 516/938 [00:36<00:24, 16.89batch/s, accuracy=95.3, loss=0.154]"
     ]
    },
    {
     "name": "stdout",
     "output_type": "stream",
     "text": [
      "view: torch.Size([64, 320])\n",
      "relu2: torch.Size([64, 20, 4, 4])\n",
      "view: torch.Size([64, 320])\n",
      "relu2: torch.Size([64, 20, 4, 4])\n",
      "view: torch.Size([64, 320])\n",
      "relu2: torch.Size([64, 20, 4, 4])\n",
      "view: torch.Size([64, 320])\n"
     ]
    },
    {
     "name": "stderr",
     "output_type": "stream",
     "text": [
      "Epoch 2:  55%|██████████████████████▋                  | 520/938 [00:36<00:23, 17.63batch/s, accuracy=93.8, loss=0.111]"
     ]
    },
    {
     "name": "stdout",
     "output_type": "stream",
     "text": [
      "relu2: torch.Size([64, 20, 4, 4])\n",
      "view: torch.Size([64, 320])\n",
      "relu2: torch.Size([64, 20, 4, 4])\n",
      "view: torch.Size([64, 320])\n",
      "relu2: torch.Size([64, 20, 4, 4])\n",
      "view: torch.Size([64, 320])\n",
      "relu2: torch.Size([64, 20, 4, 4])\n",
      "view: torch.Size([64, 320])\n"
     ]
    },
    {
     "name": "stderr",
     "output_type": "stream",
     "text": [
      "Epoch 2:  56%|██████████████████████▉                  | 524/938 [00:36<00:24, 17.02batch/s, accuracy=93.8, loss=0.259]"
     ]
    },
    {
     "name": "stdout",
     "output_type": "stream",
     "text": [
      "relu2: torch.Size([64, 20, 4, 4])\n",
      "view: torch.Size([64, 320])\n",
      "relu2: torch.Size([64, 20, 4, 4])\n",
      "view: torch.Size([64, 320])\n",
      "relu2: torch.Size([64, 20, 4, 4])\n",
      "view: torch.Size([64, 320])\n",
      "relu2: torch.Size([64, 20, 4, 4])\n",
      "view: torch.Size([64, 320])\n"
     ]
    },
    {
     "name": "stderr",
     "output_type": "stream",
     "text": [
      "Epoch 2:  56%|███████████████████████                  | 528/938 [00:37<00:23, 17.82batch/s, accuracy=95.3, loss=0.185]"
     ]
    },
    {
     "name": "stdout",
     "output_type": "stream",
     "text": [
      "relu2: torch.Size([64, 20, 4, 4])\n",
      "view: torch.Size([64, 320])\n",
      "relu2: torch.Size([64, 20, 4, 4])\n",
      "view: torch.Size([64, 320])\n",
      "relu2: torch.Size([64, 20, 4, 4])\n",
      "view: torch.Size([64, 320])\n",
      "relu2: torch.Size([64, 20, 4, 4])\n",
      "view: torch.Size([64, 320])\n"
     ]
    },
    {
     "name": "stderr",
     "output_type": "stream",
     "text": [
      "Epoch 2:  57%|███████████████████████▎                 | 532/938 [00:37<00:22, 18.21batch/s, accuracy=84.4, loss=0.536]"
     ]
    },
    {
     "name": "stdout",
     "output_type": "stream",
     "text": [
      "relu2: torch.Size([64, 20, 4, 4])\n",
      "view: torch.Size([64, 320])\n",
      "relu2: torch.Size([64, 20, 4, 4])\n",
      "view: torch.Size([64, 320])\n",
      "relu2: torch.Size([64, 20, 4, 4])\n",
      "view: torch.Size([64, 320])\n",
      "relu2: torch.Size([64, 20, 4, 4])\n",
      "view: torch.Size([64, 320])\n"
     ]
    },
    {
     "name": "stderr",
     "output_type": "stream",
     "text": [
      "Epoch 2:  57%|████████████████████████                  | 536/938 [00:37<00:22, 18.15batch/s, accuracy=92.2, loss=0.27]"
     ]
    },
    {
     "name": "stdout",
     "output_type": "stream",
     "text": [
      "relu2: torch.Size([64, 20, 4, 4])\n",
      "view: torch.Size([64, 320])\n",
      "relu2: torch.Size([64, 20, 4, 4])\n",
      "view: torch.Size([64, 320])\n",
      "relu2: torch.Size([64, 20, 4, 4])\n",
      "view: torch.Size([64, 320])\n",
      "relu2: torch.Size([64, 20, 4, 4])\n",
      "view: torch.Size([64, 320])\n"
     ]
    },
    {
     "name": "stderr",
     "output_type": "stream",
     "text": [
      "Epoch 2:  58%|████████████████████████▏                 | 541/938 [00:37<00:21, 18.24batch/s, accuracy=95.3, loss=0.24]"
     ]
    },
    {
     "name": "stdout",
     "output_type": "stream",
     "text": [
      "relu2: torch.Size([64, 20, 4, 4])\n",
      "view: torch.Size([64, 320])\n",
      "relu2: torch.Size([64, 20, 4, 4])\n",
      "view: torch.Size([64, 320])\n",
      "relu2: torch.Size([64, 20, 4, 4])\n",
      "view: torch.Size([64, 320])\n",
      "relu2: torch.Size([64, 20, 4, 4])\n",
      "view: torch.Size([64, 320])\n"
     ]
    },
    {
     "name": "stderr",
     "output_type": "stream",
     "text": [
      "Epoch 2:  58%|███████████████████████▋                 | 543/938 [00:37<00:22, 17.79batch/s, accuracy=90.6, loss=0.486]"
     ]
    },
    {
     "name": "stdout",
     "output_type": "stream",
     "text": [
      "relu2: torch.Size([64, 20, 4, 4])\n",
      "view: torch.Size([64, 320])\n",
      "relu2: torch.Size([64, 20, 4, 4])\n",
      "view: torch.Size([64, 320])\n",
      "relu2: torch.Size([64, 20, 4, 4])\n",
      "view: torch.Size([64, 320])\n",
      "relu2: torch.Size([64, 20, 4, 4])\n",
      "view: torch.Size([64, 320])\n"
     ]
    },
    {
     "name": "stderr",
     "output_type": "stream",
     "text": [
      "Epoch 2:  58%|███████████████████████▉                 | 548/938 [00:38<00:20, 18.66batch/s, accuracy=93.8, loss=0.165]"
     ]
    },
    {
     "name": "stdout",
     "output_type": "stream",
     "text": [
      "relu2: torch.Size([64, 20, 4, 4])\n",
      "view: torch.Size([64, 320])\n",
      "relu2: torch.Size([64, 20, 4, 4])\n",
      "view: torch.Size([64, 320])\n",
      "relu2: torch.Size([64, 20, 4, 4])\n",
      "view: torch.Size([64, 320])\n",
      "relu2: torch.Size([64, 20, 4, 4])\n",
      "view: torch.Size([64, 320])\n"
     ]
    },
    {
     "name": "stderr",
     "output_type": "stream",
     "text": [
      "Epoch 2:  59%|████████████████████████▏                | 552/938 [00:38<00:21, 17.75batch/s, accuracy=96.9, loss=0.127]"
     ]
    },
    {
     "name": "stdout",
     "output_type": "stream",
     "text": [
      "relu2: torch.Size([64, 20, 4, 4])\n",
      "view: torch.Size([64, 320])\n",
      "relu2: torch.Size([64, 20, 4, 4])\n",
      "view: torch.Size([64, 320])\n",
      "relu2: torch.Size([64, 20, 4, 4])\n",
      "view: torch.Size([64, 320])\n",
      "relu2: torch.Size([64, 20, 4, 4])\n"
     ]
    },
    {
     "name": "stderr",
     "output_type": "stream",
     "text": [
      "Epoch 2:  59%|████████████████████████▎                | 556/938 [00:38<00:21, 18.09batch/s, accuracy=93.8, loss=0.255]"
     ]
    },
    {
     "name": "stdout",
     "output_type": "stream",
     "text": [
      "view: torch.Size([64, 320])\n",
      "relu2: torch.Size([64, 20, 4, 4])\n",
      "view: torch.Size([64, 320])\n",
      "relu2: torch.Size([64, 20, 4, 4])\n",
      "view: torch.Size([64, 320])\n",
      "relu2: torch.Size([64, 20, 4, 4])\n",
      "view: torch.Size([64, 320])\n"
     ]
    },
    {
     "name": "stderr",
     "output_type": "stream",
     "text": [
      "Epoch 2:  60%|█████████████████████████▋                 | 559/938 [00:38<00:20, 18.49batch/s, accuracy=90.6, loss=0.4]"
     ]
    },
    {
     "name": "stdout",
     "output_type": "stream",
     "text": [
      "relu2: torch.Size([64, 20, 4, 4])\n",
      "view: torch.Size([64, 320])\n",
      "relu2: torch.Size([64, 20, 4, 4])\n",
      "view: torch.Size([64, 320])\n",
      "relu2: torch.Size([64, 20, 4, 4])\n",
      "view: torch.Size([64, 320])\n",
      "relu2: torch.Size([64, 20, 4, 4])\n",
      "view: torch.Size([64, 320])\n"
     ]
    },
    {
     "name": "stderr",
     "output_type": "stream",
     "text": [
      "Epoch 2:  60%|████████████████████████▋                | 564/938 [00:38<00:20, 18.62batch/s, accuracy=96.9, loss=0.111]"
     ]
    },
    {
     "name": "stdout",
     "output_type": "stream",
     "text": [
      "relu2: torch.Size([64, 20, 4, 4])\n",
      "view: torch.Size([64, 320])\n",
      "relu2: torch.Size([64, 20, 4, 4])\n",
      "view: torch.Size([64, 320])\n",
      "relu2: torch.Size([64, 20, 4, 4])\n",
      "view: torch.Size([64, 320])\n",
      "relu2: torch.Size([64, 20, 4, 4])\n",
      "view: torch.Size([64, 320])\n"
     ]
    },
    {
     "name": "stderr",
     "output_type": "stream",
     "text": [
      "Epoch 2:  60%|████████████████████████▋                | 566/938 [00:39<00:24, 15.41batch/s, accuracy=92.2, loss=0.155]"
     ]
    },
    {
     "name": "stdout",
     "output_type": "stream",
     "text": [
      "relu2: torch.Size([64, 20, 4, 4])\n",
      "view: torch.Size([64, 320])\n",
      "relu2: torch.Size([64, 20, 4, 4])\n",
      "view: torch.Size([64, 320])\n",
      "relu2: torch.Size([64, 20, 4, 4])\n"
     ]
    },
    {
     "name": "stderr",
     "output_type": "stream",
     "text": [
      "Epoch 2:  61%|█████████████████████████▍                | 568/938 [00:39<00:23, 15.54batch/s, accuracy=100, loss=0.024]"
     ]
    },
    {
     "name": "stdout",
     "output_type": "stream",
     "text": [
      "view: torch.Size([64, 320])\n",
      "relu2: torch.Size([64, 20, 4, 4])\n",
      "view: torch.Size([64, 320])\n",
      "relu2: torch.Size([64, 20, 4, 4])\n",
      "view: torch.Size([64, 320])\n",
      "relu2: torch.Size([64, 20, 4, 4])\n",
      "view: torch.Size([64, 320])\n"
     ]
    },
    {
     "name": "stderr",
     "output_type": "stream",
     "text": [
      "Epoch 2:  61%|█████████████████████████                | 572/938 [00:39<00:22, 16.58batch/s, accuracy=96.9, loss=0.205]"
     ]
    },
    {
     "name": "stdout",
     "output_type": "stream",
     "text": [
      "relu2: torch.Size([64, 20, 4, 4])\n",
      "view: torch.Size([64, 320])\n",
      "relu2: torch.Size([64, 20, 4, 4])\n",
      "view: torch.Size([64, 320])\n",
      "relu2: torch.Size([64, 20, 4, 4])\n",
      "view: torch.Size([64, 320])\n",
      "relu2: torch.Size([64, 20, 4, 4])\n"
     ]
    },
    {
     "name": "stderr",
     "output_type": "stream",
     "text": [
      "Epoch 2:  61%|█████████████████████████▏               | 576/938 [00:39<00:24, 15.00batch/s, accuracy=93.8, loss=0.342]"
     ]
    },
    {
     "name": "stdout",
     "output_type": "stream",
     "text": [
      "view: torch.Size([64, 320])\n",
      "relu2: torch.Size([64, 20, 4, 4])\n",
      "view: torch.Size([64, 320])\n",
      "relu2: torch.Size([64, 20, 4, 4])\n",
      "view: torch.Size([64, 320])\n"
     ]
    },
    {
     "name": "stderr",
     "output_type": "stream",
     "text": [
      "Epoch 2:  62%|█████████████████████████▉                | 578/938 [00:39<00:24, 14.80batch/s, accuracy=96.9, loss=0.21]"
     ]
    },
    {
     "name": "stdout",
     "output_type": "stream",
     "text": [
      "relu2: torch.Size([64, 20, 4, 4])\n",
      "view: torch.Size([64, 320])\n",
      "relu2: torch.Size([64, 20, 4, 4])\n",
      "view: torch.Size([64, 320])\n",
      "relu2: torch.Size([64, 20, 4, 4])\n",
      "view: torch.Size([64, 320])\n"
     ]
    },
    {
     "name": "stderr",
     "output_type": "stream",
     "text": [
      "Epoch 2:  62%|█████████████████████████▍               | 582/938 [00:40<00:24, 14.83batch/s, accuracy=95.3, loss=0.146]"
     ]
    },
    {
     "name": "stdout",
     "output_type": "stream",
     "text": [
      "relu2: torch.Size([64, 20, 4, 4])\n",
      "view: torch.Size([64, 320])\n",
      "relu2: torch.Size([64, 20, 4, 4])\n",
      "view: torch.Size([64, 320])\n",
      "relu2: torch.Size([64, 20, 4, 4])\n",
      "view: torch.Size([64, 320])\n",
      "relu2: torch.Size([64, 20, 4, 4])\n"
     ]
    },
    {
     "name": "stderr",
     "output_type": "stream",
     "text": [
      "Epoch 2:  62%|█████████████████████████▌               | 584/938 [00:40<00:23, 15.31batch/s, accuracy=92.2, loss=0.323]"
     ]
    },
    {
     "name": "stdout",
     "output_type": "stream",
     "text": [
      "view: torch.Size([64, 320])\n",
      "relu2: torch.Size([64, 20, 4, 4])\n",
      "view: torch.Size([64, 320])\n",
      "relu2: torch.Size([64, 20, 4, 4])\n",
      "view: torch.Size([64, 320])\n",
      "relu2: torch.Size([64, 20, 4, 4])\n",
      "view: torch.Size([64, 320])\n"
     ]
    },
    {
     "name": "stderr",
     "output_type": "stream",
     "text": [
      "Epoch 2:  63%|█████████████████████████▋               | 588/938 [00:40<00:21, 15.96batch/s, accuracy=92.2, loss=0.189]"
     ]
    },
    {
     "name": "stdout",
     "output_type": "stream",
     "text": [
      "relu2: torch.Size([64, 20, 4, 4])\n",
      "view: torch.Size([64, 320])\n",
      "relu2: torch.Size([64, 20, 4, 4])\n",
      "view: torch.Size([64, 320])\n",
      "relu2: torch.Size([64, 20, 4, 4])\n",
      "view: torch.Size([64, 320])\n",
      "relu2: torch.Size([64, 20, 4, 4])\n"
     ]
    },
    {
     "name": "stderr",
     "output_type": "stream",
     "text": [
      "Epoch 2:  63%|█████████████████████████▉               | 592/938 [00:40<00:22, 15.54batch/s, accuracy=92.2, loss=0.256]"
     ]
    },
    {
     "name": "stdout",
     "output_type": "stream",
     "text": [
      "view: torch.Size([64, 320])\n",
      "relu2: torch.Size([64, 20, 4, 4])\n",
      "view: torch.Size([64, 320])\n",
      "relu2: torch.Size([64, 20, 4, 4])\n",
      "view: torch.Size([64, 320])\n",
      "relu2: torch.Size([64, 20, 4, 4])\n"
     ]
    },
    {
     "name": "stderr",
     "output_type": "stream",
     "text": [
      "Epoch 2:  63%|██████████████████████████▌               | 594/938 [00:40<00:21, 15.87batch/s, accuracy=92.2, loss=0.33]"
     ]
    },
    {
     "name": "stdout",
     "output_type": "stream",
     "text": [
      "view: torch.Size([64, 320])\n",
      "relu2: torch.Size([64, 20, 4, 4])\n",
      "view: torch.Size([64, 320])\n",
      "relu2: torch.Size([64, 20, 4, 4])\n",
      "view: torch.Size([64, 320])\n",
      "relu2: torch.Size([64, 20, 4, 4])\n"
     ]
    },
    {
     "name": "stderr",
     "output_type": "stream",
     "text": [
      "Epoch 2:  64%|██████████████████████████▊               | 598/938 [00:41<00:21, 15.57batch/s, accuracy=92.2, loss=0.28]"
     ]
    },
    {
     "name": "stdout",
     "output_type": "stream",
     "text": [
      "view: torch.Size([64, 320])\n",
      "relu2: torch.Size([64, 20, 4, 4])\n",
      "view: torch.Size([64, 320])\n",
      "relu2: torch.Size([64, 20, 4, 4])\n",
      "view: torch.Size([64, 320])\n",
      "relu2: torch.Size([64, 20, 4, 4])\n"
     ]
    },
    {
     "name": "stderr",
     "output_type": "stream",
     "text": [
      "Epoch 2:  64%|██████████████████████████▏              | 600/938 [00:41<00:21, 15.46batch/s, accuracy=96.9, loss=0.117]"
     ]
    },
    {
     "name": "stdout",
     "output_type": "stream",
     "text": [
      "view: torch.Size([64, 320])\n",
      "relu2: torch.Size([64, 20, 4, 4])\n",
      "view: torch.Size([64, 320])\n",
      "relu2: torch.Size([64, 20, 4, 4])\n",
      "view: torch.Size([64, 320])\n",
      "relu2: torch.Size([64, 20, 4, 4])\n"
     ]
    },
    {
     "name": "stderr",
     "output_type": "stream",
     "text": [
      "Epoch 2:  64%|██████████████████████████▍              | 604/938 [00:41<00:21, 15.69batch/s, accuracy=96.9, loss=0.098]"
     ]
    },
    {
     "name": "stdout",
     "output_type": "stream",
     "text": [
      "view: torch.Size([64, 320])\n",
      "relu2: torch.Size([64, 20, 4, 4])\n",
      "view: torch.Size([64, 320])\n",
      "relu2: torch.Size([64, 20, 4, 4])\n",
      "view: torch.Size([64, 320])\n",
      "relu2: torch.Size([64, 20, 4, 4])\n"
     ]
    },
    {
     "name": "stderr",
     "output_type": "stream",
     "text": [
      "Epoch 2:  65%|██████████████████████████▍              | 606/938 [00:41<00:20, 16.06batch/s, accuracy=95.3, loss=0.215]"
     ]
    },
    {
     "name": "stdout",
     "output_type": "stream",
     "text": [
      "view: torch.Size([64, 320])\n",
      "relu2: torch.Size([64, 20, 4, 4])\n",
      "view: torch.Size([64, 320])\n",
      "relu2: torch.Size([64, 20, 4, 4])\n",
      "view: torch.Size([64, 320])\n",
      "relu2: torch.Size([64, 20, 4, 4])\n",
      "view: torch.Size([64, 320])\n"
     ]
    },
    {
     "name": "stderr",
     "output_type": "stream",
     "text": [
      "Epoch 2:  65%|██████████████████████████▋              | 610/938 [00:42<00:20, 15.87batch/s, accuracy=89.1, loss=0.276]"
     ]
    },
    {
     "name": "stdout",
     "output_type": "stream",
     "text": [
      "relu2: torch.Size([64, 20, 4, 4])\n",
      "view: torch.Size([64, 320])\n",
      "relu2: torch.Size([64, 20, 4, 4])\n",
      "view: torch.Size([64, 320])\n",
      "relu2: torch.Size([64, 20, 4, 4])\n",
      "view: torch.Size([64, 320])\n",
      "relu2: torch.Size([64, 20, 4, 4])\n"
     ]
    },
    {
     "name": "stderr",
     "output_type": "stream",
     "text": [
      "Epoch 2:  65%|██████████████████████████▊              | 614/938 [00:42<00:20, 15.73batch/s, accuracy=98.4, loss=0.123]"
     ]
    },
    {
     "name": "stdout",
     "output_type": "stream",
     "text": [
      "view: torch.Size([64, 320])\n",
      "relu2: torch.Size([64, 20, 4, 4])\n",
      "view: torch.Size([64, 320])\n",
      "relu2: torch.Size([64, 20, 4, 4])\n",
      "view: torch.Size([64, 320])\n",
      "relu2: torch.Size([64, 20, 4, 4])\n"
     ]
    },
    {
     "name": "stderr",
     "output_type": "stream",
     "text": [
      "Epoch 2:  66%|██████████████████████████▉              | 616/938 [00:42<00:20, 15.93batch/s, accuracy=93.8, loss=0.211]"
     ]
    },
    {
     "name": "stdout",
     "output_type": "stream",
     "text": [
      "view: torch.Size([64, 320])\n",
      "relu2: torch.Size([64, 20, 4, 4])\n",
      "view: torch.Size([64, 320])\n",
      "relu2: torch.Size([64, 20, 4, 4])\n",
      "view: torch.Size([64, 320])\n",
      "relu2: torch.Size([64, 20, 4, 4])\n"
     ]
    },
    {
     "name": "stderr",
     "output_type": "stream",
     "text": [
      "Epoch 2:  66%|███████████████████████████              | 620/938 [00:42<00:20, 15.41batch/s, accuracy=90.6, loss=0.395]"
     ]
    },
    {
     "name": "stdout",
     "output_type": "stream",
     "text": [
      "view: torch.Size([64, 320])\n",
      "relu2: torch.Size([64, 20, 4, 4])\n",
      "view: torch.Size([64, 320])\n",
      "relu2: torch.Size([64, 20, 4, 4])\n",
      "view: torch.Size([64, 320])\n"
     ]
    },
    {
     "name": "stderr",
     "output_type": "stream",
     "text": [
      "Epoch 2:  66%|███████████████████████████▊              | 622/938 [00:42<00:21, 14.87batch/s, accuracy=93.8, loss=0.38]"
     ]
    },
    {
     "name": "stdout",
     "output_type": "stream",
     "text": [
      "relu2: torch.Size([64, 20, 4, 4])\n",
      "view: torch.Size([64, 320])\n",
      "relu2: torch.Size([64, 20, 4, 4])\n",
      "view: torch.Size([64, 320])\n",
      "relu2: torch.Size([64, 20, 4, 4])\n",
      "view: torch.Size([64, 320])\n",
      "relu2: torch.Size([64, 20, 4, 4])\n"
     ]
    },
    {
     "name": "stderr",
     "output_type": "stream",
     "text": [
      "Epoch 2:  67%|███████████████████████████▎             | 626/938 [00:43<00:20, 15.11batch/s, accuracy=96.9, loss=0.143]"
     ]
    },
    {
     "name": "stdout",
     "output_type": "stream",
     "text": [
      "view: torch.Size([64, 320])\n",
      "relu2: torch.Size([64, 20, 4, 4])\n",
      "view: torch.Size([64, 320])\n",
      "relu2: torch.Size([64, 20, 4, 4])\n",
      "view: torch.Size([64, 320])\n"
     ]
    },
    {
     "name": "stderr",
     "output_type": "stream",
     "text": [
      "Epoch 2:  67%|███████████████████████████▍             | 628/938 [00:43<00:20, 14.87batch/s, accuracy=96.9, loss=0.153]"
     ]
    },
    {
     "name": "stdout",
     "output_type": "stream",
     "text": [
      "relu2: torch.Size([64, 20, 4, 4])\n",
      "view: torch.Size([64, 320])\n",
      "relu2: torch.Size([64, 20, 4, 4])\n",
      "view: torch.Size([64, 320])\n",
      "relu2: torch.Size([64, 20, 4, 4])\n",
      "view: torch.Size([64, 320])\n",
      "relu2: torch.Size([64, 20, 4, 4])\n"
     ]
    },
    {
     "name": "stderr",
     "output_type": "stream",
     "text": [
      "Epoch 2:  67%|███████████████████████████▌             | 632/938 [00:43<00:20, 15.06batch/s, accuracy=92.2, loss=0.263]"
     ]
    },
    {
     "name": "stdout",
     "output_type": "stream",
     "text": [
      "view: torch.Size([64, 320])\n",
      "relu2: torch.Size([64, 20, 4, 4])\n",
      "view: torch.Size([64, 320])\n",
      "relu2: torch.Size([64, 20, 4, 4])\n",
      "view: torch.Size([64, 320])\n"
     ]
    },
    {
     "name": "stderr",
     "output_type": "stream",
     "text": [
      "Epoch 2:  68%|███████████████████████████▋             | 634/938 [00:43<00:19, 15.23batch/s, accuracy=95.3, loss=0.231]"
     ]
    },
    {
     "name": "stdout",
     "output_type": "stream",
     "text": [
      "relu2: torch.Size([64, 20, 4, 4])\n",
      "view: torch.Size([64, 320])\n",
      "relu2: torch.Size([64, 20, 4, 4])\n",
      "view: torch.Size([64, 320])\n",
      "relu2: torch.Size([64, 20, 4, 4])\n",
      "view: torch.Size([64, 320])\n",
      "relu2: torch.Size([64, 20, 4, 4])\n"
     ]
    },
    {
     "name": "stderr",
     "output_type": "stream",
     "text": [
      "Epoch 2:  68%|███████████████████████████▉             | 638/938 [00:43<00:19, 15.70batch/s, accuracy=93.8, loss=0.335]"
     ]
    },
    {
     "name": "stdout",
     "output_type": "stream",
     "text": [
      "view: torch.Size([64, 320])\n",
      "relu2: torch.Size([64, 20, 4, 4])\n",
      "view: torch.Size([64, 320])\n",
      "relu2: torch.Size([64, 20, 4, 4])\n",
      "view: torch.Size([64, 320])\n",
      "relu2: torch.Size([64, 20, 4, 4])\n"
     ]
    },
    {
     "name": "stderr",
     "output_type": "stream",
     "text": [
      "Epoch 2:  68%|███████████████████████████▉             | 640/938 [00:43<00:18, 15.99batch/s, accuracy=92.2, loss=0.224]"
     ]
    },
    {
     "name": "stdout",
     "output_type": "stream",
     "text": [
      "view: torch.Size([64, 320])\n",
      "relu2: torch.Size([64, 20, 4, 4])\n",
      "view: torch.Size([64, 320])\n",
      "relu2: torch.Size([64, 20, 4, 4])\n",
      "view: torch.Size([64, 320])\n",
      "relu2: torch.Size([64, 20, 4, 4])\n"
     ]
    },
    {
     "name": "stderr",
     "output_type": "stream",
     "text": [
      "Epoch 2:  69%|████████████████████████████▊             | 644/938 [00:44<00:18, 16.06batch/s, accuracy=92.2, loss=0.19]"
     ]
    },
    {
     "name": "stdout",
     "output_type": "stream",
     "text": [
      "view: torch.Size([64, 320])\n",
      "relu2: torch.Size([64, 20, 4, 4])\n",
      "view: torch.Size([64, 320])\n",
      "relu2: torch.Size([64, 20, 4, 4])\n",
      "view: torch.Size([64, 320])\n",
      "relu2: torch.Size([64, 20, 4, 4])\n"
     ]
    },
    {
     "name": "stderr",
     "output_type": "stream",
     "text": [
      "Epoch 2:  69%|███████████████████████████▌            | 646/938 [00:44<00:18, 15.53batch/s, accuracy=98.4, loss=0.0701]"
     ]
    },
    {
     "name": "stdout",
     "output_type": "stream",
     "text": [
      "view: torch.Size([64, 320])\n",
      "relu2: torch.Size([64, 20, 4, 4])\n",
      "view: torch.Size([64, 320])\n",
      "relu2: torch.Size([64, 20, 4, 4])\n",
      "view: torch.Size([64, 320])\n",
      "relu2: torch.Size([64, 20, 4, 4])\n"
     ]
    },
    {
     "name": "stderr",
     "output_type": "stream",
     "text": [
      "Epoch 2:  69%|████████████████████████████▍            | 650/938 [00:44<00:18, 15.87batch/s, accuracy=95.3, loss=0.205]"
     ]
    },
    {
     "name": "stdout",
     "output_type": "stream",
     "text": [
      "view: torch.Size([64, 320])\n",
      "relu2: torch.Size([64, 20, 4, 4])\n",
      "view: torch.Size([64, 320])\n",
      "relu2: torch.Size([64, 20, 4, 4])\n",
      "view: torch.Size([64, 320])\n",
      "relu2: torch.Size([64, 20, 4, 4])\n"
     ]
    },
    {
     "name": "stderr",
     "output_type": "stream",
     "text": [
      "Epoch 2:  70%|████████████████████████████▍            | 652/938 [00:44<00:17, 16.11batch/s, accuracy=96.9, loss=0.119]"
     ]
    },
    {
     "name": "stdout",
     "output_type": "stream",
     "text": [
      "view: torch.Size([64, 320])\n",
      "relu2: torch.Size([64, 20, 4, 4])\n",
      "view: torch.Size([64, 320])\n",
      "relu2: torch.Size([64, 20, 4, 4])\n",
      "view: torch.Size([64, 320])\n",
      "relu2: torch.Size([64, 20, 4, 4])\n",
      "view: torch.Size([64, 320])\n"
     ]
    },
    {
     "name": "stderr",
     "output_type": "stream",
     "text": [
      "Epoch 2:  70%|████████████████████████████▋            | 656/938 [00:45<00:16, 16.77batch/s, accuracy=96.9, loss=0.143]"
     ]
    },
    {
     "name": "stdout",
     "output_type": "stream",
     "text": [
      "relu2: torch.Size([64, 20, 4, 4])\n",
      "view: torch.Size([64, 320])\n",
      "relu2: torch.Size([64, 20, 4, 4])\n",
      "view: torch.Size([64, 320])\n",
      "relu2: torch.Size([64, 20, 4, 4])\n",
      "view: torch.Size([64, 320])\n",
      "relu2: torch.Size([64, 20, 4, 4])\n",
      "view: torch.Size([64, 320])\n"
     ]
    },
    {
     "name": "stderr",
     "output_type": "stream",
     "text": [
      "Epoch 2:  70%|████████████████████████████▊            | 660/938 [00:45<00:16, 16.89batch/s, accuracy=93.8, loss=0.188]"
     ]
    },
    {
     "name": "stdout",
     "output_type": "stream",
     "text": [
      "relu2: torch.Size([64, 20, 4, 4])\n",
      "view: torch.Size([64, 320])\n",
      "relu2: torch.Size([64, 20, 4, 4])\n",
      "view: torch.Size([64, 320])\n",
      "relu2: torch.Size([64, 20, 4, 4])\n",
      "view: torch.Size([64, 320])\n",
      "relu2: torch.Size([64, 20, 4, 4])\n",
      "view: torch.Size([64, 320])\n"
     ]
    },
    {
     "name": "stderr",
     "output_type": "stream",
     "text": [
      "Epoch 2:  71%|█████████████████████████████            | 664/938 [00:45<00:16, 16.98batch/s, accuracy=95.3, loss=0.129]"
     ]
    },
    {
     "name": "stdout",
     "output_type": "stream",
     "text": [
      "relu2: torch.Size([64, 20, 4, 4])\n",
      "view: torch.Size([64, 320])\n",
      "relu2: torch.Size([64, 20, 4, 4])\n",
      "view: torch.Size([64, 320])\n",
      "relu2: torch.Size([64, 20, 4, 4])\n",
      "view: torch.Size([64, 320])\n",
      "relu2: torch.Size([64, 20, 4, 4])\n",
      "view: torch.Size([64, 320])\n"
     ]
    },
    {
     "name": "stderr",
     "output_type": "stream",
     "text": [
      "Epoch 2:  71%|█████████████████████████████▏           | 668/938 [00:45<00:15, 16.96batch/s, accuracy=85.9, loss=0.875]"
     ]
    },
    {
     "name": "stdout",
     "output_type": "stream",
     "text": [
      "relu2: torch.Size([64, 20, 4, 4])\n",
      "view: torch.Size([64, 320])\n",
      "relu2: torch.Size([64, 20, 4, 4])\n",
      "view: torch.Size([64, 320])\n",
      "relu2: torch.Size([64, 20, 4, 4])\n",
      "view: torch.Size([64, 320])\n",
      "relu2: torch.Size([64, 20, 4, 4])\n",
      "view: torch.Size([64, 320])\n"
     ]
    },
    {
     "name": "stderr",
     "output_type": "stream",
     "text": [
      "Epoch 2:  72%|█████████████████████████████▎           | 672/938 [00:45<00:15, 17.46batch/s, accuracy=95.3, loss=0.149]"
     ]
    },
    {
     "name": "stdout",
     "output_type": "stream",
     "text": [
      "relu2: torch.Size([64, 20, 4, 4])\n",
      "view: torch.Size([64, 320])\n",
      "relu2: torch.Size([64, 20, 4, 4])\n",
      "view: torch.Size([64, 320])\n",
      "relu2: torch.Size([64, 20, 4, 4])\n",
      "view: torch.Size([64, 320])\n",
      "relu2: torch.Size([64, 20, 4, 4])\n",
      "view: torch.Size([64, 320])\n",
      "relu2: torch.Size([64, 20, 4, 4])\n"
     ]
    },
    {
     "name": "stderr",
     "output_type": "stream",
     "text": [
      "Epoch 2:  72%|█████████████████████████████▌           | 677/938 [00:46<00:14, 18.28batch/s, accuracy=93.8, loss=0.168]"
     ]
    },
    {
     "name": "stdout",
     "output_type": "stream",
     "text": [
      "view: torch.Size([64, 320])\n",
      "relu2: torch.Size([64, 20, 4, 4])\n",
      "view: torch.Size([64, 320])\n",
      "relu2: torch.Size([64, 20, 4, 4])\n",
      "view: torch.Size([64, 320])\n",
      "relu2: torch.Size([64, 20, 4, 4])\n",
      "view: torch.Size([64, 320])\n"
     ]
    },
    {
     "name": "stderr",
     "output_type": "stream",
     "text": [
      "Epoch 2:  73%|█████████████████████████████▊           | 681/938 [00:46<00:14, 17.54batch/s, accuracy=90.6, loss=0.165]"
     ]
    },
    {
     "name": "stdout",
     "output_type": "stream",
     "text": [
      "relu2: torch.Size([64, 20, 4, 4])\n",
      "view: torch.Size([64, 320])\n",
      "relu2: torch.Size([64, 20, 4, 4])\n",
      "view: torch.Size([64, 320])\n",
      "relu2: torch.Size([64, 20, 4, 4])\n",
      "view: torch.Size([64, 320])\n",
      "relu2: torch.Size([64, 20, 4, 4])\n"
     ]
    },
    {
     "name": "stderr",
     "output_type": "stream",
     "text": [
      "Epoch 2:  73%|█████████████████████████████▉           | 685/938 [00:46<00:14, 17.74batch/s, accuracy=100, loss=0.0225]"
     ]
    },
    {
     "name": "stdout",
     "output_type": "stream",
     "text": [
      "view: torch.Size([64, 320])\n",
      "relu2: torch.Size([64, 20, 4, 4])\n",
      "view: torch.Size([64, 320])\n",
      "relu2: torch.Size([64, 20, 4, 4])\n",
      "view: torch.Size([64, 320])\n",
      "relu2: torch.Size([64, 20, 4, 4])\n",
      "view: torch.Size([64, 320])\n"
     ]
    },
    {
     "name": "stderr",
     "output_type": "stream",
     "text": [
      "Epoch 2:  73%|██████████████████████████████           | 689/938 [00:46<00:13, 18.13batch/s, accuracy=92.2, loss=0.216]"
     ]
    },
    {
     "name": "stdout",
     "output_type": "stream",
     "text": [
      "relu2: torch.Size([64, 20, 4, 4])\n",
      "view: torch.Size([64, 320])\n",
      "relu2: torch.Size([64, 20, 4, 4])\n",
      "view: torch.Size([64, 320])\n",
      "relu2: torch.Size([64, 20, 4, 4])\n",
      "view: torch.Size([64, 320])\n",
      "relu2: torch.Size([64, 20, 4, 4])\n",
      "view: torch.Size([64, 320])\n"
     ]
    },
    {
     "name": "stderr",
     "output_type": "stream",
     "text": [
      "Epoch 2:  74%|██████████████████████████████▉           | 691/938 [00:46<00:13, 17.73batch/s, accuracy=92.2, loss=0.18]"
     ]
    },
    {
     "name": "stdout",
     "output_type": "stream",
     "text": [
      "relu2: torch.Size([64, 20, 4, 4])\n",
      "view: torch.Size([64, 320])\n",
      "relu2: torch.Size([64, 20, 4, 4])\n",
      "view: torch.Size([64, 320])\n",
      "relu2: torch.Size([64, 20, 4, 4])\n",
      "view: torch.Size([64, 320])\n",
      "relu2: torch.Size([64, 20, 4, 4])\n",
      "view: torch.Size([64, 320])\n"
     ]
    },
    {
     "name": "stderr",
     "output_type": "stream",
     "text": [
      "Epoch 2:  74%|██████████████████████████████▍          | 697/938 [00:47<00:13, 17.92batch/s, accuracy=96.9, loss=0.268]"
     ]
    },
    {
     "name": "stdout",
     "output_type": "stream",
     "text": [
      "relu2: torch.Size([64, 20, 4, 4])\n",
      "view: torch.Size([64, 320])\n",
      "relu2: torch.Size([64, 20, 4, 4])\n",
      "view: torch.Size([64, 320])\n",
      "relu2: torch.Size([64, 20, 4, 4])\n",
      "view: torch.Size([64, 320])\n",
      "relu2: torch.Size([64, 20, 4, 4])\n",
      "view: torch.Size([64, 320])\n"
     ]
    },
    {
     "name": "stderr",
     "output_type": "stream",
     "text": [
      "Epoch 2:  75%|█████████████████████████████▉          | 701/938 [00:47<00:12, 18.27batch/s, accuracy=98.4, loss=0.0695]"
     ]
    },
    {
     "name": "stdout",
     "output_type": "stream",
     "text": [
      "relu2: torch.Size([64, 20, 4, 4])\n",
      "view: torch.Size([64, 320])\n",
      "relu2: torch.Size([64, 20, 4, 4])\n",
      "view: torch.Size([64, 320])\n",
      "relu2: torch.Size([64, 20, 4, 4])\n",
      "view: torch.Size([64, 320])\n",
      "relu2: torch.Size([64, 20, 4, 4])\n",
      "view: torch.Size([64, 320])\n"
     ]
    },
    {
     "name": "stderr",
     "output_type": "stream",
     "text": [
      "Epoch 2:  75%|██████████████████████████████▋          | 703/938 [00:47<00:13, 17.91batch/s, accuracy=95.3, loss=0.229]"
     ]
    },
    {
     "name": "stdout",
     "output_type": "stream",
     "text": [
      "relu2: torch.Size([64, 20, 4, 4])\n",
      "view: torch.Size([64, 320])\n",
      "relu2: torch.Size([64, 20, 4, 4])\n",
      "view: torch.Size([64, 320])\n",
      "relu2: torch.Size([64, 20, 4, 4])\n",
      "view: torch.Size([64, 320])\n",
      "relu2: torch.Size([64, 20, 4, 4])\n",
      "view: torch.Size([64, 320])\n"
     ]
    },
    {
     "name": "stderr",
     "output_type": "stream",
     "text": [
      "Epoch 2:  75%|██████████████████████████████▉          | 707/938 [00:47<00:12, 17.99batch/s, accuracy=100, loss=0.0626]"
     ]
    },
    {
     "name": "stdout",
     "output_type": "stream",
     "text": [
      "relu2: torch.Size([64, 20, 4, 4])\n",
      "view: torch.Size([64, 320])\n",
      "relu2: torch.Size([64, 20, 4, 4])\n",
      "view: torch.Size([64, 320])\n",
      "relu2: torch.Size([64, 20, 4, 4])\n",
      "view: torch.Size([64, 320])\n",
      "relu2: torch.Size([64, 20, 4, 4])\n",
      "view: torch.Size([64, 320])\n"
     ]
    },
    {
     "name": "stderr",
     "output_type": "stream",
     "text": [
      "Epoch 2:  76%|███████████████████████████████▊          | 711/938 [00:48<00:12, 18.13batch/s, accuracy=95.3, loss=0.27]"
     ]
    },
    {
     "name": "stdout",
     "output_type": "stream",
     "text": [
      "relu2: torch.Size([64, 20, 4, 4])\n",
      "view: torch.Size([64, 320])\n",
      "relu2: torch.Size([64, 20, 4, 4])\n",
      "view: torch.Size([64, 320])\n",
      "relu2: torch.Size([64, 20, 4, 4])\n",
      "view: torch.Size([64, 320])\n",
      "relu2: torch.Size([64, 20, 4, 4])\n",
      "view: torch.Size([64, 320])\n"
     ]
    },
    {
     "name": "stderr",
     "output_type": "stream",
     "text": [
      "Epoch 2:  76%|███████████████████████████████▎         | 715/938 [00:48<00:12, 18.20batch/s, accuracy=98.4, loss=0.071]"
     ]
    },
    {
     "name": "stdout",
     "output_type": "stream",
     "text": [
      "relu2: torch.Size([64, 20, 4, 4])\n",
      "view: torch.Size([64, 320])\n",
      "relu2: torch.Size([64, 20, 4, 4])\n",
      "view: torch.Size([64, 320])\n",
      "relu2: torch.Size([64, 20, 4, 4])\n",
      "view: torch.Size([64, 320])\n",
      "relu2: torch.Size([64, 20, 4, 4])\n",
      "view: torch.Size([64, 320])\n"
     ]
    },
    {
     "name": "stderr",
     "output_type": "stream",
     "text": [
      "Epoch 2:  77%|███████████████████████████████▍         | 719/938 [00:48<00:11, 18.30batch/s, accuracy=93.8, loss=0.212]"
     ]
    },
    {
     "name": "stdout",
     "output_type": "stream",
     "text": [
      "relu2: torch.Size([64, 20, 4, 4])\n",
      "view: torch.Size([64, 320])\n",
      "relu2: torch.Size([64, 20, 4, 4])\n",
      "view: torch.Size([64, 320])\n",
      "relu2: torch.Size([64, 20, 4, 4])\n",
      "view: torch.Size([64, 320])\n",
      "relu2: torch.Size([64, 20, 4, 4])\n",
      "view: torch.Size([64, 320])\n"
     ]
    },
    {
     "name": "stderr",
     "output_type": "stream",
     "text": [
      "Epoch 2:  77%|███████████████████████████████▋         | 725/938 [00:48<00:11, 18.85batch/s, accuracy=96.9, loss=0.134]"
     ]
    },
    {
     "name": "stdout",
     "output_type": "stream",
     "text": [
      "relu2: torch.Size([64, 20, 4, 4])\n",
      "view: torch.Size([64, 320])\n",
      "relu2: torch.Size([64, 20, 4, 4])\n",
      "view: torch.Size([64, 320])\n",
      "relu2: torch.Size([64, 20, 4, 4])\n",
      "view: torch.Size([64, 320])\n",
      "relu2: torch.Size([64, 20, 4, 4])\n",
      "view: torch.Size([64, 320])\n"
     ]
    },
    {
     "name": "stderr",
     "output_type": "stream",
     "text": [
      "Epoch 2:  78%|███████████████████████████████▊         | 727/938 [00:48<00:11, 18.00batch/s, accuracy=95.3, loss=0.135]"
     ]
    },
    {
     "name": "stdout",
     "output_type": "stream",
     "text": [
      "relu2: torch.Size([64, 20, 4, 4])\n",
      "view: torch.Size([64, 320])\n",
      "relu2: torch.Size([64, 20, 4, 4])\n",
      "view: torch.Size([64, 320])\n",
      "relu2: torch.Size([64, 20, 4, 4])\n",
      "view: torch.Size([64, 320])\n",
      "relu2: torch.Size([64, 20, 4, 4])\n",
      "view: torch.Size([64, 320])\n"
     ]
    },
    {
     "name": "stderr",
     "output_type": "stream",
     "text": [
      "Epoch 2:  78%|███████████████████████████████▉         | 731/938 [00:49<00:11, 17.98batch/s, accuracy=93.8, loss=0.158]"
     ]
    },
    {
     "name": "stdout",
     "output_type": "stream",
     "text": [
      "relu2: torch.Size([64, 20, 4, 4])\n",
      "view: torch.Size([64, 320])\n",
      "relu2: torch.Size([64, 20, 4, 4])\n",
      "view: torch.Size([64, 320])\n",
      "relu2: torch.Size([64, 20, 4, 4])\n",
      "view: torch.Size([64, 320])\n",
      "relu2: torch.Size([64, 20, 4, 4])\n",
      "view: torch.Size([64, 320])\n"
     ]
    },
    {
     "name": "stderr",
     "output_type": "stream",
     "text": [
      "Epoch 2:  78%|████████████████████████████████▏        | 735/938 [00:49<00:11, 17.71batch/s, accuracy=90.6, loss=0.201]"
     ]
    },
    {
     "name": "stdout",
     "output_type": "stream",
     "text": [
      "relu2: torch.Size([64, 20, 4, 4])\n",
      "view: torch.Size([64, 320])\n",
      "relu2: torch.Size([64, 20, 4, 4])\n",
      "view: torch.Size([64, 320])\n",
      "relu2: torch.Size([64, 20, 4, 4])\n",
      "view: torch.Size([64, 320])\n",
      "relu2: torch.Size([64, 20, 4, 4])\n",
      "view: torch.Size([64, 320])\n"
     ]
    },
    {
     "name": "stderr",
     "output_type": "stream",
     "text": [
      "Epoch 2:  79%|████████████████████████████████▍        | 741/938 [00:49<00:10, 18.28batch/s, accuracy=100, loss=0.0337]"
     ]
    },
    {
     "name": "stdout",
     "output_type": "stream",
     "text": [
      "relu2: torch.Size([64, 20, 4, 4])\n",
      "view: torch.Size([64, 320])\n",
      "relu2: torch.Size([64, 20, 4, 4])\n",
      "view: torch.Size([64, 320])\n",
      "relu2: torch.Size([64, 20, 4, 4])\n",
      "view: torch.Size([64, 320])\n",
      "relu2: torch.Size([64, 20, 4, 4])\n",
      "view: torch.Size([64, 320])\n"
     ]
    },
    {
     "name": "stderr",
     "output_type": "stream",
     "text": [
      "Epoch 2:  79%|████████████████████████████████▍        | 743/938 [00:49<00:10, 17.97batch/s, accuracy=87.5, loss=0.619]"
     ]
    },
    {
     "name": "stdout",
     "output_type": "stream",
     "text": [
      "relu2: torch.Size([64, 20, 4, 4])\n",
      "view: torch.Size([64, 320])\n",
      "relu2: torch.Size([64, 20, 4, 4])\n",
      "view: torch.Size([64, 320])\n",
      "relu2: torch.Size([64, 20, 4, 4])\n",
      "view: torch.Size([64, 320])\n",
      "relu2: torch.Size([64, 20, 4, 4])\n",
      "view: torch.Size([64, 320])\n"
     ]
    },
    {
     "name": "stderr",
     "output_type": "stream",
     "text": [
      "Epoch 2:  80%|████████████████████████████████▋        | 749/938 [00:50<00:10, 18.22batch/s, accuracy=92.2, loss=0.353]"
     ]
    },
    {
     "name": "stdout",
     "output_type": "stream",
     "text": [
      "relu2: torch.Size([64, 20, 4, 4])\n",
      "view: torch.Size([64, 320])\n",
      "relu2: torch.Size([64, 20, 4, 4])\n",
      "view: torch.Size([64, 320])\n",
      "relu2: torch.Size([64, 20, 4, 4])\n",
      "view: torch.Size([64, 320])\n",
      "relu2: torch.Size([64, 20, 4, 4])\n",
      "view: torch.Size([64, 320])\n",
      "relu2: torch.Size([64, 20, 4, 4])\n"
     ]
    },
    {
     "name": "stderr",
     "output_type": "stream",
     "text": [
      "Epoch 2:  80%|████████████████████████████████▊        | 751/938 [00:50<00:10, 18.43batch/s, accuracy=95.3, loss=0.289]"
     ]
    },
    {
     "name": "stdout",
     "output_type": "stream",
     "text": [
      "view: torch.Size([64, 320])\n",
      "relu2: torch.Size([64, 20, 4, 4])\n",
      "view: torch.Size([64, 320])\n",
      "relu2: torch.Size([64, 20, 4, 4])\n",
      "view: torch.Size([64, 320])\n",
      "relu2: torch.Size([64, 20, 4, 4])\n",
      "view: torch.Size([64, 320])\n"
     ]
    },
    {
     "name": "stderr",
     "output_type": "stream",
     "text": [
      "Epoch 2:  81%|█████████████████████████████████        | 756/938 [00:50<00:09, 18.82batch/s, accuracy=89.1, loss=0.319]"
     ]
    },
    {
     "name": "stdout",
     "output_type": "stream",
     "text": [
      "relu2: torch.Size([64, 20, 4, 4])\n",
      "view: torch.Size([64, 320])\n",
      "relu2: torch.Size([64, 20, 4, 4])\n",
      "view: torch.Size([64, 320])\n",
      "relu2: torch.Size([64, 20, 4, 4])\n",
      "view: torch.Size([64, 320])\n",
      "relu2: torch.Size([64, 20, 4, 4])\n",
      "view: torch.Size([64, 320])\n",
      "relu2: torch.Size([64, 20, 4, 4])\n"
     ]
    },
    {
     "name": "stderr",
     "output_type": "stream",
     "text": [
      "Epoch 2:  81%|█████████████████████████████████▏       | 760/938 [00:50<00:09, 18.94batch/s, accuracy=90.6, loss=0.219]"
     ]
    },
    {
     "name": "stdout",
     "output_type": "stream",
     "text": [
      "view: torch.Size([64, 320])\n",
      "relu2: torch.Size([64, 20, 4, 4])\n",
      "view: torch.Size([64, 320])\n",
      "relu2: torch.Size([64, 20, 4, 4])\n",
      "view: torch.Size([64, 320])\n",
      "relu2: torch.Size([64, 20, 4, 4])\n",
      "view: torch.Size([64, 320])\n"
     ]
    },
    {
     "name": "stderr",
     "output_type": "stream",
     "text": [
      "Epoch 2:  81%|█████████████████████████████████▍       | 764/938 [00:50<00:09, 18.63batch/s, accuracy=90.6, loss=0.334]"
     ]
    },
    {
     "name": "stdout",
     "output_type": "stream",
     "text": [
      "relu2: torch.Size([64, 20, 4, 4])\n",
      "view: torch.Size([64, 320])\n",
      "relu2: torch.Size([64, 20, 4, 4])\n",
      "view: torch.Size([64, 320])\n",
      "relu2: torch.Size([64, 20, 4, 4])\n",
      "view: torch.Size([64, 320])\n",
      "relu2: torch.Size([64, 20, 4, 4])\n",
      "view: torch.Size([64, 320])\n"
     ]
    },
    {
     "name": "stderr",
     "output_type": "stream",
     "text": [
      "Epoch 2:  82%|████████████████████████████████▊       | 768/938 [00:51<00:09, 18.56batch/s, accuracy=98.4, loss=0.0576]"
     ]
    },
    {
     "name": "stdout",
     "output_type": "stream",
     "text": [
      "relu2: torch.Size([64, 20, 4, 4])\n",
      "view: torch.Size([64, 320])\n",
      "relu2: torch.Size([64, 20, 4, 4])\n",
      "view: torch.Size([64, 320])\n",
      "relu2: torch.Size([64, 20, 4, 4])\n",
      "view: torch.Size([64, 320])\n",
      "relu2: torch.Size([64, 20, 4, 4])\n",
      "view: torch.Size([64, 320])\n"
     ]
    },
    {
     "name": "stderr",
     "output_type": "stream",
     "text": [
      "Epoch 2:  82%|█████████████████████████████████▊       | 773/938 [00:51<00:08, 19.45batch/s, accuracy=96.9, loss=0.103]"
     ]
    },
    {
     "name": "stdout",
     "output_type": "stream",
     "text": [
      "relu2: torch.Size([64, 20, 4, 4])\n",
      "view: torch.Size([64, 320])\n",
      "relu2: torch.Size([64, 20, 4, 4])\n",
      "view: torch.Size([64, 320])\n",
      "relu2: torch.Size([64, 20, 4, 4])\n",
      "view: torch.Size([64, 320])\n",
      "relu2: torch.Size([64, 20, 4, 4])\n",
      "view: torch.Size([64, 320])\n"
     ]
    },
    {
     "name": "stderr",
     "output_type": "stream",
     "text": [
      "Epoch 2:  83%|█████████████████████████████████▉       | 777/938 [00:51<00:08, 18.69batch/s, accuracy=95.3, loss=0.135]"
     ]
    },
    {
     "name": "stdout",
     "output_type": "stream",
     "text": [
      "relu2: torch.Size([64, 20, 4, 4])\n",
      "view: torch.Size([64, 320])\n",
      "relu2: torch.Size([64, 20, 4, 4])\n",
      "view: torch.Size([64, 320])\n",
      "relu2: torch.Size([64, 20, 4, 4])\n",
      "view: torch.Size([64, 320])\n",
      "relu2: torch.Size([64, 20, 4, 4])\n",
      "view: torch.Size([64, 320])\n"
     ]
    },
    {
     "name": "stderr",
     "output_type": "stream",
     "text": [
      "Epoch 2:  83%|██████████████████████████████████       | 779/938 [00:51<00:08, 18.75batch/s, accuracy=95.3, loss=0.186]"
     ]
    },
    {
     "name": "stdout",
     "output_type": "stream",
     "text": [
      "relu2: torch.Size([64, 20, 4, 4])\n",
      "view: torch.Size([64, 320])\n",
      "relu2: torch.Size([64, 20, 4, 4])\n",
      "view: torch.Size([64, 320])\n",
      "relu2: torch.Size([64, 20, 4, 4])\n",
      "view: torch.Size([64, 320])\n",
      "relu2: torch.Size([64, 20, 4, 4])\n",
      "view: torch.Size([64, 320])\n"
     ]
    },
    {
     "name": "stderr",
     "output_type": "stream",
     "text": [
      "Epoch 2:  84%|██████████████████████████████████▎      | 784/938 [00:51<00:07, 19.47batch/s, accuracy=89.1, loss=0.251]"
     ]
    },
    {
     "name": "stdout",
     "output_type": "stream",
     "text": [
      "relu2: torch.Size([64, 20, 4, 4])\n",
      "view: torch.Size([64, 320])\n",
      "relu2: torch.Size([64, 20, 4, 4])\n",
      "view: torch.Size([64, 320])\n",
      "relu2: torch.Size([64, 20, 4, 4])\n",
      "view: torch.Size([64, 320])\n",
      "relu2: torch.Size([64, 20, 4, 4])\n",
      "view: torch.Size([64, 320])\n",
      "relu2: torch.Size([64, 20, 4, 4])\n"
     ]
    },
    {
     "name": "stderr",
     "output_type": "stream",
     "text": [
      "Epoch 2:  84%|██████████████████████████████████▍      | 788/938 [00:52<00:07, 19.64batch/s, accuracy=98.4, loss=0.149]"
     ]
    },
    {
     "name": "stdout",
     "output_type": "stream",
     "text": [
      "view: torch.Size([64, 320])\n",
      "relu2: torch.Size([64, 20, 4, 4])\n",
      "view: torch.Size([64, 320])\n",
      "relu2: torch.Size([64, 20, 4, 4])\n",
      "view: torch.Size([64, 320])\n",
      "relu2: torch.Size([64, 20, 4, 4])\n",
      "view: torch.Size([64, 320])\n"
     ]
    },
    {
     "name": "stderr",
     "output_type": "stream",
     "text": [
      "Epoch 2:  84%|█████████████████████████████████▊      | 792/938 [00:52<00:07, 18.85batch/s, accuracy=96.9, loss=0.0793]"
     ]
    },
    {
     "name": "stdout",
     "output_type": "stream",
     "text": [
      "relu2: torch.Size([64, 20, 4, 4])\n",
      "view: torch.Size([64, 320])\n",
      "relu2: torch.Size([64, 20, 4, 4])\n",
      "view: torch.Size([64, 320])\n",
      "relu2: torch.Size([64, 20, 4, 4])\n",
      "view: torch.Size([64, 320])\n",
      "relu2: torch.Size([64, 20, 4, 4])\n",
      "view: torch.Size([64, 320])\n"
     ]
    },
    {
     "name": "stderr",
     "output_type": "stream",
     "text": [
      "Epoch 2:  85%|█████████████████████████████████▉      | 797/938 [00:52<00:07, 18.97batch/s, accuracy=96.9, loss=0.0879]"
     ]
    },
    {
     "name": "stdout",
     "output_type": "stream",
     "text": [
      "relu2: torch.Size([64, 20, 4, 4])\n",
      "view: torch.Size([64, 320])\n",
      "relu2: torch.Size([64, 20, 4, 4])\n",
      "view: torch.Size([64, 320])\n",
      "relu2: torch.Size([64, 20, 4, 4])\n",
      "view: torch.Size([64, 320])\n",
      "relu2: torch.Size([64, 20, 4, 4])\n",
      "view: torch.Size([64, 320])\n"
     ]
    },
    {
     "name": "stderr",
     "output_type": "stream",
     "text": [
      "Epoch 2:  85%|███████████████████████████████████      | 801/938 [00:52<00:07, 18.41batch/s, accuracy=96.9, loss=0.109]"
     ]
    },
    {
     "name": "stdout",
     "output_type": "stream",
     "text": [
      "relu2: torch.Size([64, 20, 4, 4])\n",
      "view: torch.Size([64, 320])\n",
      "relu2: torch.Size([64, 20, 4, 4])\n",
      "view: torch.Size([64, 320])\n",
      "relu2: torch.Size([64, 20, 4, 4])\n",
      "view: torch.Size([64, 320])\n",
      "relu2: torch.Size([64, 20, 4, 4])\n",
      "view: torch.Size([64, 320])\n"
     ]
    },
    {
     "name": "stderr",
     "output_type": "stream",
     "text": [
      "Epoch 2:  86%|██████████████████████████████████▏     | 803/938 [00:53<00:07, 17.85batch/s, accuracy=95.3, loss=0.0912]"
     ]
    },
    {
     "name": "stdout",
     "output_type": "stream",
     "text": [
      "relu2: torch.Size([64, 20, 4, 4])\n",
      "view: torch.Size([64, 320])\n",
      "relu2: torch.Size([64, 20, 4, 4])\n",
      "view: torch.Size([64, 320])\n",
      "relu2: torch.Size([64, 20, 4, 4])\n",
      "view: torch.Size([64, 320])\n",
      "relu2: torch.Size([64, 20, 4, 4])\n",
      "view: torch.Size([64, 320])\n"
     ]
    },
    {
     "name": "stderr",
     "output_type": "stream",
     "text": [
      "Epoch 2:  86%|███████████████████████████████████▎     | 807/938 [00:53<00:07, 18.50batch/s, accuracy=98.4, loss=0.115]"
     ]
    },
    {
     "name": "stdout",
     "output_type": "stream",
     "text": [
      "relu2: torch.Size([64, 20, 4, 4])\n",
      "view: torch.Size([64, 320])\n",
      "relu2: torch.Size([64, 20, 4, 4])\n",
      "view: torch.Size([64, 320])\n",
      "relu2: torch.Size([64, 20, 4, 4])\n",
      "view: torch.Size([64, 320])\n",
      "relu2: torch.Size([64, 20, 4, 4])\n",
      "view: torch.Size([64, 320])\n"
     ]
    },
    {
     "name": "stderr",
     "output_type": "stream",
     "text": [
      "Epoch 2:  87%|██████████████████████████████████▋     | 813/938 [00:53<00:06, 18.99batch/s, accuracy=96.9, loss=0.0991]"
     ]
    },
    {
     "name": "stdout",
     "output_type": "stream",
     "text": [
      "relu2: torch.Size([64, 20, 4, 4])\n",
      "view: torch.Size([64, 320])\n",
      "relu2: torch.Size([64, 20, 4, 4])\n",
      "view: torch.Size([64, 320])\n",
      "relu2: torch.Size([64, 20, 4, 4])\n",
      "view: torch.Size([64, 320])\n",
      "relu2: torch.Size([64, 20, 4, 4])\n",
      "view: torch.Size([64, 320])\n"
     ]
    },
    {
     "name": "stderr",
     "output_type": "stream",
     "text": [
      "Epoch 2:  87%|████████████████████████████████████▍     | 815/938 [00:53<00:06, 18.50batch/s, accuracy=93.8, loss=0.28]"
     ]
    },
    {
     "name": "stdout",
     "output_type": "stream",
     "text": [
      "relu2: torch.Size([64, 20, 4, 4])\n",
      "view: torch.Size([64, 320])\n",
      "relu2: torch.Size([64, 20, 4, 4])\n",
      "view: torch.Size([64, 320])\n",
      "relu2: torch.Size([64, 20, 4, 4])\n",
      "view: torch.Size([64, 320])\n",
      "relu2: torch.Size([64, 20, 4, 4])\n",
      "view: torch.Size([64, 320])\n"
     ]
    },
    {
     "name": "stderr",
     "output_type": "stream",
     "text": [
      "Epoch 2:  87%|███████████████████████████████████▊     | 819/938 [00:53<00:06, 18.48batch/s, accuracy=95.3, loss=0.381]"
     ]
    },
    {
     "name": "stdout",
     "output_type": "stream",
     "text": [
      "relu2: torch.Size([64, 20, 4, 4])\n",
      "view: torch.Size([64, 320])\n",
      "relu2: torch.Size([64, 20, 4, 4])\n",
      "view: torch.Size([64, 320])\n",
      "relu2: torch.Size([64, 20, 4, 4])\n",
      "view: torch.Size([64, 320])\n",
      "relu2: torch.Size([64, 20, 4, 4])\n",
      "view: torch.Size([64, 320])\n"
     ]
    },
    {
     "name": "stderr",
     "output_type": "stream",
     "text": [
      "Epoch 2:  88%|████████████████████████████████████     | 825/938 [00:54<00:05, 19.49batch/s, accuracy=92.2, loss=0.332]"
     ]
    },
    {
     "name": "stdout",
     "output_type": "stream",
     "text": [
      "relu2: torch.Size([64, 20, 4, 4])\n",
      "view: torch.Size([64, 320])\n",
      "relu2: torch.Size([64, 20, 4, 4])\n",
      "view: torch.Size([64, 320])\n",
      "relu2: torch.Size([64, 20, 4, 4])\n",
      "view: torch.Size([64, 320])\n",
      "relu2: torch.Size([64, 20, 4, 4])\n",
      "view: torch.Size([64, 320])\n"
     ]
    },
    {
     "name": "stderr",
     "output_type": "stream",
     "text": [
      "Epoch 2:  88%|███████████████████████████████████▎    | 827/938 [00:54<00:06, 18.43batch/s, accuracy=96.9, loss=0.0942]"
     ]
    },
    {
     "name": "stdout",
     "output_type": "stream",
     "text": [
      "relu2: torch.Size([64, 20, 4, 4])\n",
      "view: torch.Size([64, 320])\n",
      "relu2: torch.Size([64, 20, 4, 4])\n",
      "view: torch.Size([64, 320])\n",
      "relu2: torch.Size([64, 20, 4, 4])\n",
      "view: torch.Size([64, 320])\n",
      "relu2: torch.Size([64, 20, 4, 4])\n",
      "view: torch.Size([64, 320])\n"
     ]
    },
    {
     "name": "stderr",
     "output_type": "stream",
     "text": [
      "Epoch 2:  89%|████████████████████████████████████▎    | 831/938 [00:54<00:05, 18.05batch/s, accuracy=89.1, loss=0.341]"
     ]
    },
    {
     "name": "stdout",
     "output_type": "stream",
     "text": [
      "relu2: torch.Size([64, 20, 4, 4])\n",
      "view: torch.Size([64, 320])\n",
      "relu2: torch.Size([64, 20, 4, 4])\n",
      "view: torch.Size([64, 320])\n",
      "relu2: torch.Size([64, 20, 4, 4])\n",
      "view: torch.Size([64, 320])\n",
      "relu2: torch.Size([64, 20, 4, 4])\n",
      "view: torch.Size([64, 320])\n"
     ]
    },
    {
     "name": "stderr",
     "output_type": "stream",
     "text": [
      "Epoch 2:  89%|████████████████████████████████████▍    | 835/938 [00:54<00:05, 17.83batch/s, accuracy=96.9, loss=0.116]"
     ]
    },
    {
     "name": "stdout",
     "output_type": "stream",
     "text": [
      "relu2: torch.Size([64, 20, 4, 4])\n",
      "view: torch.Size([64, 320])\n",
      "relu2: torch.Size([64, 20, 4, 4])\n",
      "view: torch.Size([64, 320])\n",
      "relu2: torch.Size([64, 20, 4, 4])\n",
      "view: torch.Size([64, 320])\n",
      "relu2: torch.Size([64, 20, 4, 4])\n",
      "view: torch.Size([64, 320])\n"
     ]
    },
    {
     "name": "stderr",
     "output_type": "stream",
     "text": [
      "Epoch 2:  89%|████████████████████████████████████▋    | 839/938 [00:54<00:05, 16.65batch/s, accuracy=93.8, loss=0.197]"
     ]
    },
    {
     "name": "stdout",
     "output_type": "stream",
     "text": [
      "relu2: torch.Size([64, 20, 4, 4])\n",
      "view: torch.Size([64, 320])\n",
      "relu2: torch.Size([64, 20, 4, 4])\n",
      "view: torch.Size([64, 320])\n",
      "relu2: torch.Size([64, 20, 4, 4])\n",
      "view: torch.Size([64, 320])\n",
      "relu2: torch.Size([64, 20, 4, 4])\n"
     ]
    },
    {
     "name": "stderr",
     "output_type": "stream",
     "text": [
      "Epoch 2:  90%|████████████████████████████████████▊    | 843/938 [00:55<00:05, 15.98batch/s, accuracy=96.9, loss=0.151]"
     ]
    },
    {
     "name": "stdout",
     "output_type": "stream",
     "text": [
      "view: torch.Size([64, 320])\n",
      "relu2: torch.Size([64, 20, 4, 4])\n",
      "view: torch.Size([64, 320])\n",
      "relu2: torch.Size([64, 20, 4, 4])\n",
      "view: torch.Size([64, 320])\n",
      "relu2: torch.Size([64, 20, 4, 4])\n"
     ]
    },
    {
     "name": "stderr",
     "output_type": "stream",
     "text": [
      "Epoch 2:  90%|█████████████████████████████████████▊    | 845/938 [00:55<00:05, 15.62batch/s, accuracy=98.4, loss=0.24]"
     ]
    },
    {
     "name": "stdout",
     "output_type": "stream",
     "text": [
      "view: torch.Size([64, 320])\n",
      "relu2: torch.Size([64, 20, 4, 4])\n",
      "view: torch.Size([64, 320])\n",
      "relu2: torch.Size([64, 20, 4, 4])\n",
      "view: torch.Size([64, 320])\n",
      "relu2: torch.Size([64, 20, 4, 4])\n"
     ]
    },
    {
     "name": "stderr",
     "output_type": "stream",
     "text": [
      "Epoch 2:  91%|█████████████████████████████████████    | 849/938 [00:55<00:05, 16.24batch/s, accuracy=95.3, loss=0.109]"
     ]
    },
    {
     "name": "stdout",
     "output_type": "stream",
     "text": [
      "view: torch.Size([64, 320])\n",
      "relu2: torch.Size([64, 20, 4, 4])\n",
      "view: torch.Size([64, 320])\n",
      "relu2: torch.Size([64, 20, 4, 4])\n",
      "view: torch.Size([64, 320])\n",
      "relu2: torch.Size([64, 20, 4, 4])\n"
     ]
    },
    {
     "name": "stderr",
     "output_type": "stream",
     "text": [
      "Epoch 2:  91%|█████████████████████████████████████▏   | 851/938 [00:55<00:05, 16.38batch/s, accuracy=98.4, loss=0.116]"
     ]
    },
    {
     "name": "stdout",
     "output_type": "stream",
     "text": [
      "view: torch.Size([64, 320])\n",
      "relu2: torch.Size([64, 20, 4, 4])\n",
      "view: torch.Size([64, 320])\n",
      "relu2: torch.Size([64, 20, 4, 4])\n",
      "view: torch.Size([64, 320])\n",
      "relu2: torch.Size([64, 20, 4, 4])\n",
      "view: torch.Size([64, 320])\n"
     ]
    },
    {
     "name": "stderr",
     "output_type": "stream",
     "text": [
      "Epoch 2:  91%|█████████████████████████████████████▎   | 855/938 [00:56<00:04, 16.61batch/s, accuracy=98.4, loss=0.103]"
     ]
    },
    {
     "name": "stdout",
     "output_type": "stream",
     "text": [
      "relu2: torch.Size([64, 20, 4, 4])\n",
      "view: torch.Size([64, 320])\n",
      "relu2: torch.Size([64, 20, 4, 4])\n",
      "view: torch.Size([64, 320])\n",
      "relu2: torch.Size([64, 20, 4, 4])\n",
      "view: torch.Size([64, 320])\n",
      "relu2: torch.Size([64, 20, 4, 4])\n",
      "view: torch.Size([64, 320])\n"
     ]
    },
    {
     "name": "stderr",
     "output_type": "stream",
     "text": [
      "Epoch 2:  92%|█████████████████████████████████████▌   | 859/938 [00:56<00:04, 16.72batch/s, accuracy=98.4, loss=0.146]"
     ]
    },
    {
     "name": "stdout",
     "output_type": "stream",
     "text": [
      "relu2: torch.Size([64, 20, 4, 4])\n",
      "view: torch.Size([64, 320])\n",
      "relu2: torch.Size([64, 20, 4, 4])\n",
      "view: torch.Size([64, 320])\n",
      "relu2: torch.Size([64, 20, 4, 4])\n",
      "view: torch.Size([64, 320])\n",
      "relu2: torch.Size([64, 20, 4, 4])\n",
      "view: torch.Size([64, 320])\n"
     ]
    },
    {
     "name": "stderr",
     "output_type": "stream",
     "text": [
      "Epoch 2:  92%|█████████████████████████████████████▋   | 863/938 [00:56<00:04, 17.15batch/s, accuracy=96.9, loss=0.134]"
     ]
    },
    {
     "name": "stdout",
     "output_type": "stream",
     "text": [
      "relu2: torch.Size([64, 20, 4, 4])\n",
      "view: torch.Size([64, 320])\n",
      "relu2: torch.Size([64, 20, 4, 4])\n",
      "view: torch.Size([64, 320])\n",
      "relu2: torch.Size([64, 20, 4, 4])\n",
      "view: torch.Size([64, 320])\n",
      "relu2: torch.Size([64, 20, 4, 4])\n",
      "view: torch.Size([64, 320])\n"
     ]
    },
    {
     "name": "stderr",
     "output_type": "stream",
     "text": [
      "Epoch 2:  92%|████████████████████████████████████▉   | 867/938 [00:56<00:04, 16.72batch/s, accuracy=96.9, loss=0.0691]"
     ]
    },
    {
     "name": "stdout",
     "output_type": "stream",
     "text": [
      "relu2: torch.Size([64, 20, 4, 4])\n",
      "view: torch.Size([64, 320])\n",
      "relu2: torch.Size([64, 20, 4, 4])\n",
      "view: torch.Size([64, 320])\n",
      "relu2: torch.Size([64, 20, 4, 4])\n",
      "view: torch.Size([64, 320])\n",
      "relu2: torch.Size([64, 20, 4, 4])\n",
      "view: torch.Size([64, 320])\n"
     ]
    },
    {
     "name": "stderr",
     "output_type": "stream",
     "text": [
      "Epoch 2:  93%|██████████████████████████████████████   | 871/938 [00:56<00:03, 17.57batch/s, accuracy=96.9, loss=0.139]"
     ]
    },
    {
     "name": "stdout",
     "output_type": "stream",
     "text": [
      "relu2: torch.Size([64, 20, 4, 4])\n",
      "view: torch.Size([64, 320])\n",
      "relu2: torch.Size([64, 20, 4, 4])\n",
      "view: torch.Size([64, 320])\n",
      "relu2: torch.Size([64, 20, 4, 4])\n",
      "view: torch.Size([64, 320])\n",
      "relu2: torch.Size([64, 20, 4, 4])\n",
      "view: torch.Size([64, 320])\n"
     ]
    },
    {
     "name": "stderr",
     "output_type": "stream",
     "text": [
      "Epoch 2:  93%|██████████████████████████████████████▏  | 875/938 [00:57<00:03, 16.64batch/s, accuracy=95.3, loss=0.131]"
     ]
    },
    {
     "name": "stdout",
     "output_type": "stream",
     "text": [
      "relu2: torch.Size([64, 20, 4, 4])\n",
      "view: torch.Size([64, 320])\n",
      "relu2: torch.Size([64, 20, 4, 4])\n",
      "view: torch.Size([64, 320])\n",
      "relu2: torch.Size([64, 20, 4, 4])\n",
      "view: torch.Size([64, 320])\n",
      "relu2: torch.Size([64, 20, 4, 4])\n"
     ]
    },
    {
     "name": "stderr",
     "output_type": "stream",
     "text": [
      "Epoch 2:  94%|██████████████████████████████████████▍  | 879/938 [00:57<00:03, 16.02batch/s, accuracy=92.2, loss=0.178]"
     ]
    },
    {
     "name": "stdout",
     "output_type": "stream",
     "text": [
      "view: torch.Size([64, 320])\n",
      "relu2: torch.Size([64, 20, 4, 4])\n",
      "view: torch.Size([64, 320])\n",
      "relu2: torch.Size([64, 20, 4, 4])\n",
      "view: torch.Size([64, 320])\n"
     ]
    },
    {
     "name": "stderr",
     "output_type": "stream",
     "text": [
      "Epoch 2:  94%|██████████████████████████████████████▌  | 881/938 [00:57<00:03, 16.10batch/s, accuracy=93.8, loss=0.221]"
     ]
    },
    {
     "name": "stdout",
     "output_type": "stream",
     "text": [
      "relu2: torch.Size([64, 20, 4, 4])\n",
      "view: torch.Size([64, 320])\n",
      "relu2: torch.Size([64, 20, 4, 4])\n",
      "view: torch.Size([64, 320])\n",
      "relu2: torch.Size([64, 20, 4, 4])\n",
      "view: torch.Size([64, 320])\n",
      "relu2: torch.Size([64, 20, 4, 4])\n",
      "view: torch.Size([64, 320])\n"
     ]
    },
    {
     "name": "stderr",
     "output_type": "stream",
     "text": [
      "Epoch 2:  94%|█████████████████████████████████████▋  | 885/938 [00:57<00:03, 16.72batch/s, accuracy=98.4, loss=0.0574]"
     ]
    },
    {
     "name": "stdout",
     "output_type": "stream",
     "text": [
      "relu2: torch.Size([64, 20, 4, 4])\n",
      "view: torch.Size([64, 320])\n",
      "relu2: torch.Size([64, 20, 4, 4])\n",
      "view: torch.Size([64, 320])\n",
      "relu2: torch.Size([64, 20, 4, 4])\n",
      "view: torch.Size([64, 320])\n",
      "relu2: torch.Size([64, 20, 4, 4])\n",
      "view: torch.Size([64, 320])\n"
     ]
    },
    {
     "name": "stderr",
     "output_type": "stream",
     "text": [
      "Epoch 2:  95%|██████████████████████████████████████▊  | 889/938 [00:58<00:02, 17.02batch/s, accuracy=93.8, loss=0.362]"
     ]
    },
    {
     "name": "stdout",
     "output_type": "stream",
     "text": [
      "relu2: torch.Size([64, 20, 4, 4])\n",
      "view: torch.Size([64, 320])\n",
      "relu2: torch.Size([64, 20, 4, 4])\n",
      "view: torch.Size([64, 320])\n",
      "relu2: torch.Size([64, 20, 4, 4])\n",
      "view: torch.Size([64, 320])\n",
      "relu2: torch.Size([64, 20, 4, 4])\n",
      "view: torch.Size([64, 320])\n"
     ]
    },
    {
     "name": "stderr",
     "output_type": "stream",
     "text": [
      "Epoch 2:  95%|███████████████████████████████████████  | 893/938 [00:58<00:02, 16.44batch/s, accuracy=96.9, loss=0.142]"
     ]
    },
    {
     "name": "stdout",
     "output_type": "stream",
     "text": [
      "relu2: torch.Size([64, 20, 4, 4])\n",
      "view: torch.Size([64, 320])\n",
      "relu2: torch.Size([64, 20, 4, 4])\n",
      "view: torch.Size([64, 320])\n",
      "relu2: torch.Size([64, 20, 4, 4])\n",
      "view: torch.Size([64, 320])\n",
      "relu2: torch.Size([64, 20, 4, 4])\n"
     ]
    },
    {
     "name": "stderr",
     "output_type": "stream",
     "text": [
      "Epoch 2:  96%|███████████████████████████████████████▏ | 897/938 [00:58<00:02, 15.83batch/s, accuracy=95.3, loss=0.151]"
     ]
    },
    {
     "name": "stdout",
     "output_type": "stream",
     "text": [
      "view: torch.Size([64, 320])\n",
      "relu2: torch.Size([64, 20, 4, 4])\n",
      "view: torch.Size([64, 320])\n",
      "relu2: torch.Size([64, 20, 4, 4])\n",
      "view: torch.Size([64, 320])\n",
      "relu2: torch.Size([64, 20, 4, 4])\n"
     ]
    },
    {
     "name": "stderr",
     "output_type": "stream",
     "text": [
      "Epoch 2:  96%|███████████████████████████████████████▎ | 899/938 [00:58<00:02, 15.78batch/s, accuracy=93.8, loss=0.174]"
     ]
    },
    {
     "name": "stdout",
     "output_type": "stream",
     "text": [
      "view: torch.Size([64, 320])\n",
      "relu2: torch.Size([64, 20, 4, 4])\n",
      "view: torch.Size([64, 320])\n",
      "relu2: torch.Size([64, 20, 4, 4])\n",
      "view: torch.Size([64, 320])\n",
      "relu2: torch.Size([64, 20, 4, 4])\n",
      "view: torch.Size([64, 320])\n"
     ]
    },
    {
     "name": "stderr",
     "output_type": "stream",
     "text": [
      "Epoch 2:  96%|███████████████████████████████████████▍ | 903/938 [00:58<00:02, 16.62batch/s, accuracy=96.9, loss=0.123]"
     ]
    },
    {
     "name": "stdout",
     "output_type": "stream",
     "text": [
      "relu2: torch.Size([64, 20, 4, 4])\n",
      "view: torch.Size([64, 320])\n",
      "relu2: torch.Size([64, 20, 4, 4])\n",
      "view: torch.Size([64, 320])\n",
      "relu2: torch.Size([64, 20, 4, 4])\n",
      "view: torch.Size([64, 320])\n",
      "relu2: torch.Size([64, 20, 4, 4])\n",
      "view: torch.Size([64, 320])\n"
     ]
    },
    {
     "name": "stderr",
     "output_type": "stream",
     "text": [
      "Epoch 2:  97%|██████████████████████████████████████▋ | 907/938 [00:59<00:01, 16.43batch/s, accuracy=95.3, loss=0.0761]"
     ]
    },
    {
     "name": "stdout",
     "output_type": "stream",
     "text": [
      "relu2: torch.Size([64, 20, 4, 4])\n",
      "view: torch.Size([64, 320])\n",
      "relu2: torch.Size([64, 20, 4, 4])\n",
      "view: torch.Size([64, 320])\n",
      "relu2: torch.Size([64, 20, 4, 4])\n",
      "view: torch.Size([64, 320])\n",
      "relu2: torch.Size([64, 20, 4, 4])\n"
     ]
    },
    {
     "name": "stderr",
     "output_type": "stream",
     "text": [
      "Epoch 2:  97%|███████████████████████████████████████▊ | 911/938 [00:59<00:01, 16.86batch/s, accuracy=93.8, loss=0.172]"
     ]
    },
    {
     "name": "stdout",
     "output_type": "stream",
     "text": [
      "view: torch.Size([64, 320])\n",
      "relu2: torch.Size([64, 20, 4, 4])\n",
      "view: torch.Size([64, 320])\n",
      "relu2: torch.Size([64, 20, 4, 4])\n",
      "view: torch.Size([64, 320])\n",
      "relu2: torch.Size([64, 20, 4, 4])\n",
      "view: torch.Size([64, 320])\n"
     ]
    },
    {
     "name": "stderr",
     "output_type": "stream",
     "text": [
      "Epoch 2:  98%|███████████████████████████████████████▉ | 915/938 [00:59<00:01, 17.43batch/s, accuracy=92.2, loss=0.334]"
     ]
    },
    {
     "name": "stdout",
     "output_type": "stream",
     "text": [
      "relu2: torch.Size([64, 20, 4, 4])\n",
      "view: torch.Size([64, 320])\n",
      "relu2: torch.Size([64, 20, 4, 4])\n",
      "view: torch.Size([64, 320])\n",
      "relu2: torch.Size([64, 20, 4, 4])\n",
      "view: torch.Size([64, 320])\n",
      "relu2: torch.Size([64, 20, 4, 4])\n",
      "view: torch.Size([64, 320])\n"
     ]
    },
    {
     "name": "stderr",
     "output_type": "stream",
     "text": [
      "Epoch 2:  98%|████████████████████████████████████████▏| 919/938 [00:59<00:01, 17.92batch/s, accuracy=93.8, loss=0.325]"
     ]
    },
    {
     "name": "stdout",
     "output_type": "stream",
     "text": [
      "relu2: torch.Size([64, 20, 4, 4])\n",
      "view: torch.Size([64, 320])\n",
      "relu2: torch.Size([64, 20, 4, 4])\n",
      "view: torch.Size([64, 320])\n",
      "relu2: torch.Size([64, 20, 4, 4])\n",
      "view: torch.Size([64, 320])\n",
      "relu2: torch.Size([64, 20, 4, 4])\n",
      "view: torch.Size([64, 320])\n"
     ]
    },
    {
     "name": "stderr",
     "output_type": "stream",
     "text": [
      "Epoch 2:  98%|████████████████████████████████████████▎| 923/938 [01:00<00:00, 18.01batch/s, accuracy=96.9, loss=0.324]"
     ]
    },
    {
     "name": "stdout",
     "output_type": "stream",
     "text": [
      "relu2: torch.Size([64, 20, 4, 4])\n",
      "view: torch.Size([64, 320])\n",
      "relu2: torch.Size([64, 20, 4, 4])\n",
      "view: torch.Size([64, 320])\n",
      "relu2: torch.Size([64, 20, 4, 4])\n",
      "view: torch.Size([64, 320])\n",
      "relu2: torch.Size([64, 20, 4, 4])\n",
      "view: torch.Size([64, 320])\n"
     ]
    },
    {
     "name": "stderr",
     "output_type": "stream",
     "text": [
      "Epoch 2:  99%|████████████████████████████████████████▌| 927/938 [01:00<00:00, 18.71batch/s, accuracy=95.3, loss=0.277]"
     ]
    },
    {
     "name": "stdout",
     "output_type": "stream",
     "text": [
      "relu2: torch.Size([64, 20, 4, 4])\n",
      "view: torch.Size([64, 320])\n",
      "relu2: torch.Size([64, 20, 4, 4])\n",
      "view: torch.Size([64, 320])\n",
      "relu2: torch.Size([64, 20, 4, 4])\n",
      "view: torch.Size([64, 320])\n",
      "relu2: torch.Size([64, 20, 4, 4])\n",
      "view: torch.Size([64, 320])\n"
     ]
    },
    {
     "name": "stderr",
     "output_type": "stream",
     "text": [
      "Epoch 2:  99%|████████████████████████████████████████▋| 931/938 [01:00<00:00, 18.88batch/s, accuracy=92.2, loss=0.265]"
     ]
    },
    {
     "name": "stdout",
     "output_type": "stream",
     "text": [
      "relu2: torch.Size([64, 20, 4, 4])\n",
      "view: torch.Size([64, 320])\n",
      "relu2: torch.Size([64, 20, 4, 4])\n",
      "view: torch.Size([64, 320])\n",
      "relu2: torch.Size([64, 20, 4, 4])\n",
      "view: torch.Size([64, 320])\n",
      "relu2: torch.Size([64, 20, 4, 4])\n",
      "view: torch.Size([64, 320])\n"
     ]
    },
    {
     "name": "stderr",
     "output_type": "stream",
     "text": [
      "Epoch 2: 100%|████████████████████████████████████████▊| 935/938 [01:00<00:00, 18.97batch/s, accuracy=98.4, loss=0.107]"
     ]
    },
    {
     "name": "stdout",
     "output_type": "stream",
     "text": [
      "relu2: torch.Size([64, 20, 4, 4])\n",
      "view: torch.Size([64, 320])\n",
      "relu2: torch.Size([64, 20, 4, 4])\n",
      "view: torch.Size([64, 320])\n",
      "relu2: torch.Size([64, 20, 4, 4])\n",
      "view: torch.Size([64, 320])\n",
      "relu2: torch.Size([64, 20, 4, 4])\n",
      "view: torch.Size([64, 320])\n"
     ]
    },
    {
     "name": "stderr",
     "output_type": "stream",
     "text": [
      "Epoch 2: 100%|██████████████████████████████████████████| 938/938 [01:00<00:00, 15.44batch/s, accuracy=50, loss=0.0104]\n"
     ]
    },
    {
     "name": "stdout",
     "output_type": "stream",
     "text": [
      "relu2: torch.Size([64, 20, 4, 4])\n",
      "view: torch.Size([64, 320])\n",
      "relu2: torch.Size([32, 20, 4, 4])\n",
      "view: torch.Size([32, 320])\n",
      "relu2: torch.Size([64, 20, 4, 4])\n",
      "view: torch.Size([64, 320])\n",
      "relu2: torch.Size([64, 20, 4, 4])\n",
      "view: torch.Size([64, 320])\n",
      "relu2: torch.Size([64, 20, 4, 4])\n",
      "view: torch.Size([64, 320])\n",
      "relu2: torch.Size([64, 20, 4, 4])\n",
      "view: torch.Size([64, 320])\n",
      "relu2: torch.Size([64, 20, 4, 4])\n",
      "view: torch.Size([64, 320])\n",
      "relu2: torch.Size([64, 20, 4, 4])\n",
      "view: torch.Size([64, 320])\n",
      "relu2: torch.Size([64, 20, 4, 4])\n",
      "view: torch.Size([64, 320])\n",
      "relu2: torch.Size([64, 20, 4, 4])\n",
      "view: torch.Size([64, 320])\n",
      "relu2: torch.Size([64, 20, 4, 4])\n",
      "view: torch.Size([64, 320])\n",
      "relu2: torch.Size([64, 20, 4, 4])\n",
      "view: torch.Size([64, 320])\n",
      "relu2: torch.Size([64, 20, 4, 4])\n",
      "view: torch.Size([64, 320])\n",
      "relu2: torch.Size([64, 20, 4, 4])\n",
      "view: torch.Size([64, 320])\n",
      "relu2: torch.Size([64, 20, 4, 4])\n",
      "view: torch.Size([64, 320])\n",
      "relu2: torch.Size([64, 20, 4, 4])\n",
      "view: torch.Size([64, 320])\n",
      "relu2: torch.Size([64, 20, 4, 4])\n",
      "view: torch.Size([64, 320])\n",
      "relu2: torch.Size([64, 20, 4, 4])\n",
      "view: torch.Size([64, 320])\n",
      "relu2: torch.Size([64, 20, 4, 4])\n",
      "view: torch.Size([64, 320])\n",
      "relu2: torch.Size([64, 20, 4, 4])\n",
      "view: torch.Size([64, 320])\n",
      "relu2: torch.Size([64, 20, 4, 4])\n",
      "view: torch.Size([64, 320])\n",
      "relu2: torch.Size([64, 20, 4, 4])\n",
      "view: torch.Size([64, 320])\n",
      "relu2: torch.Size([64, 20, 4, 4])\n",
      "view: torch.Size([64, 320])\n",
      "relu2: torch.Size([64, 20, 4, 4])\n",
      "view: torch.Size([64, 320])\n",
      "relu2: torch.Size([64, 20, 4, 4])\n",
      "view: torch.Size([64, 320])\n",
      "relu2: torch.Size([64, 20, 4, 4])\n",
      "view: torch.Size([64, 320])\n",
      "relu2: torch.Size([64, 20, 4, 4])\n",
      "view: torch.Size([64, 320])\n",
      "relu2: torch.Size([64, 20, 4, 4])\n",
      "view: torch.Size([64, 320])\n",
      "relu2: torch.Size([64, 20, 4, 4])\n",
      "view: torch.Size([64, 320])\n",
      "relu2: torch.Size([64, 20, 4, 4])\n",
      "view: torch.Size([64, 320])\n",
      "relu2: torch.Size([64, 20, 4, 4])\n",
      "view: torch.Size([64, 320])\n",
      "relu2: torch.Size([64, 20, 4, 4])\n",
      "view: torch.Size([64, 320])\n",
      "relu2: torch.Size([64, 20, 4, 4])\n",
      "view: torch.Size([64, 320])\n",
      "relu2: torch.Size([64, 20, 4, 4])\n",
      "view: torch.Size([64, 320])\n",
      "relu2: torch.Size([64, 20, 4, 4])\n",
      "view: torch.Size([64, 320])\n",
      "relu2: torch.Size([64, 20, 4, 4])\n",
      "view: torch.Size([64, 320])\n",
      "relu2: torch.Size([64, 20, 4, 4])\n",
      "view: torch.Size([64, 320])\n",
      "relu2: torch.Size([64, 20, 4, 4])\n",
      "view: torch.Size([64, 320])\n",
      "relu2: torch.Size([64, 20, 4, 4])\n",
      "view: torch.Size([64, 320])\n",
      "relu2: torch.Size([64, 20, 4, 4])\n",
      "view: torch.Size([64, 320])\n",
      "relu2: torch.Size([64, 20, 4, 4])\n",
      "view: torch.Size([64, 320])\n",
      "relu2: torch.Size([64, 20, 4, 4])\n",
      "view: torch.Size([64, 320])\n",
      "relu2: torch.Size([64, 20, 4, 4])\n",
      "view: torch.Size([64, 320])\n",
      "relu2: torch.Size([64, 20, 4, 4])\n",
      "view: torch.Size([64, 320])\n",
      "relu2: torch.Size([64, 20, 4, 4])\n",
      "view: torch.Size([64, 320])\n",
      "relu2: torch.Size([64, 20, 4, 4])\n",
      "view: torch.Size([64, 320])\n",
      "relu2: torch.Size([64, 20, 4, 4])\n",
      "view: torch.Size([64, 320])\n",
      "relu2: torch.Size([64, 20, 4, 4])\n",
      "view: torch.Size([64, 320])\n",
      "relu2: torch.Size([64, 20, 4, 4])\n",
      "view: torch.Size([64, 320])\n",
      "relu2: torch.Size([64, 20, 4, 4])\n",
      "view: torch.Size([64, 320])\n",
      "relu2: torch.Size([64, 20, 4, 4])\n",
      "view: torch.Size([64, 320])\n",
      "relu2: torch.Size([64, 20, 4, 4])\n",
      "view: torch.Size([64, 320])\n",
      "relu2: torch.Size([64, 20, 4, 4])\n",
      "view: torch.Size([64, 320])\n",
      "relu2: torch.Size([64, 20, 4, 4])\n",
      "view: torch.Size([64, 320])\n",
      "relu2: torch.Size([64, 20, 4, 4])\n",
      "view: torch.Size([64, 320])\n",
      "relu2: torch.Size([64, 20, 4, 4])\n",
      "view: torch.Size([64, 320])\n",
      "relu2: torch.Size([64, 20, 4, 4])\n",
      "view: torch.Size([64, 320])\n",
      "relu2: torch.Size([64, 20, 4, 4])\n",
      "view: torch.Size([64, 320])\n",
      "relu2: torch.Size([64, 20, 4, 4])\n",
      "view: torch.Size([64, 320])\n",
      "relu2: torch.Size([64, 20, 4, 4])\n",
      "view: torch.Size([64, 320])\n",
      "relu2: torch.Size([64, 20, 4, 4])\n",
      "view: torch.Size([64, 320])\n",
      "relu2: torch.Size([64, 20, 4, 4])\n",
      "view: torch.Size([64, 320])\n",
      "relu2: torch.Size([64, 20, 4, 4])\n",
      "view: torch.Size([64, 320])\n",
      "relu2: torch.Size([64, 20, 4, 4])\n",
      "view: torch.Size([64, 320])\n",
      "relu2: torch.Size([64, 20, 4, 4])\n",
      "view: torch.Size([64, 320])\n",
      "relu2: torch.Size([64, 20, 4, 4])\n",
      "view: torch.Size([64, 320])\n",
      "relu2: torch.Size([64, 20, 4, 4])\n",
      "view: torch.Size([64, 320])\n",
      "relu2: torch.Size([64, 20, 4, 4])\n",
      "view: torch.Size([64, 320])\n",
      "relu2: torch.Size([64, 20, 4, 4])\n",
      "view: torch.Size([64, 320])\n",
      "relu2: torch.Size([64, 20, 4, 4])\n",
      "view: torch.Size([64, 320])\n",
      "relu2: torch.Size([64, 20, 4, 4])\n",
      "view: torch.Size([64, 320])\n",
      "relu2: torch.Size([64, 20, 4, 4])\n",
      "view: torch.Size([64, 320])\n",
      "relu2: torch.Size([64, 20, 4, 4])\n",
      "view: torch.Size([64, 320])\n",
      "relu2: torch.Size([64, 20, 4, 4])\n",
      "view: torch.Size([64, 320])\n",
      "relu2: torch.Size([64, 20, 4, 4])\n",
      "view: torch.Size([64, 320])\n",
      "relu2: torch.Size([64, 20, 4, 4])\n",
      "view: torch.Size([64, 320])\n",
      "relu2: torch.Size([64, 20, 4, 4])\n",
      "view: torch.Size([64, 320])\n",
      "relu2: torch.Size([64, 20, 4, 4])\n",
      "view: torch.Size([64, 320])\n",
      "relu2: torch.Size([64, 20, 4, 4])\n",
      "view: torch.Size([64, 320])\n",
      "relu2: torch.Size([64, 20, 4, 4])\n",
      "view: torch.Size([64, 320])\n",
      "relu2: torch.Size([64, 20, 4, 4])\n",
      "view: torch.Size([64, 320])\n",
      "relu2: torch.Size([64, 20, 4, 4])\n",
      "view: torch.Size([64, 320])\n",
      "relu2: torch.Size([64, 20, 4, 4])\n",
      "view: torch.Size([64, 320])\n",
      "relu2: torch.Size([64, 20, 4, 4])\n",
      "view: torch.Size([64, 320])\n",
      "relu2: torch.Size([64, 20, 4, 4])\n",
      "view: torch.Size([64, 320])\n",
      "relu2: torch.Size([64, 20, 4, 4])\n",
      "view: torch.Size([64, 320])\n",
      "relu2: torch.Size([64, 20, 4, 4])\n",
      "view: torch.Size([64, 320])\n",
      "relu2: torch.Size([64, 20, 4, 4])\n",
      "view: torch.Size([64, 320])\n",
      "relu2: torch.Size([64, 20, 4, 4])\n",
      "view: torch.Size([64, 320])\n",
      "relu2: torch.Size([64, 20, 4, 4])\n",
      "view: torch.Size([64, 320])\n",
      "relu2: torch.Size([64, 20, 4, 4])\n",
      "view: torch.Size([64, 320])\n",
      "relu2: torch.Size([64, 20, 4, 4])\n",
      "view: torch.Size([64, 320])\n",
      "relu2: torch.Size([64, 20, 4, 4])\n",
      "view: torch.Size([64, 320])\n",
      "relu2: torch.Size([64, 20, 4, 4])\n",
      "view: torch.Size([64, 320])\n",
      "relu2: torch.Size([64, 20, 4, 4])\n",
      "view: torch.Size([64, 320])\n",
      "relu2: torch.Size([64, 20, 4, 4])\n",
      "view: torch.Size([64, 320])\n",
      "relu2: torch.Size([64, 20, 4, 4])\n",
      "view: torch.Size([64, 320])\n",
      "relu2: torch.Size([64, 20, 4, 4])\n",
      "view: torch.Size([64, 320])\n",
      "relu2: torch.Size([64, 20, 4, 4])\n",
      "view: torch.Size([64, 320])\n",
      "relu2: torch.Size([64, 20, 4, 4])\n",
      "view: torch.Size([64, 320])\n",
      "relu2: torch.Size([64, 20, 4, 4])\n",
      "view: torch.Size([64, 320])\n",
      "relu2: torch.Size([64, 20, 4, 4])\n",
      "view: torch.Size([64, 320])\n",
      "relu2: torch.Size([64, 20, 4, 4])\n",
      "view: torch.Size([64, 320])\n",
      "relu2: torch.Size([64, 20, 4, 4])\n",
      "view: torch.Size([64, 320])\n",
      "relu2: torch.Size([64, 20, 4, 4])\n",
      "view: torch.Size([64, 320])\n",
      "relu2: torch.Size([64, 20, 4, 4])\n",
      "view: torch.Size([64, 320])\n",
      "relu2: torch.Size([64, 20, 4, 4])\n",
      "view: torch.Size([64, 320])\n",
      "relu2: torch.Size([64, 20, 4, 4])\n",
      "view: torch.Size([64, 320])\n",
      "relu2: torch.Size([64, 20, 4, 4])\n",
      "view: torch.Size([64, 320])\n",
      "relu2: torch.Size([64, 20, 4, 4])\n",
      "view: torch.Size([64, 320])\n",
      "relu2: torch.Size([64, 20, 4, 4])\n",
      "view: torch.Size([64, 320])\n",
      "relu2: torch.Size([64, 20, 4, 4])\n",
      "view: torch.Size([64, 320])\n",
      "relu2: torch.Size([64, 20, 4, 4])\n",
      "view: torch.Size([64, 320])\n",
      "relu2: torch.Size([64, 20, 4, 4])\n",
      "view: torch.Size([64, 320])\n",
      "relu2: torch.Size([64, 20, 4, 4])\n",
      "view: torch.Size([64, 320])\n",
      "relu2: torch.Size([64, 20, 4, 4])\n",
      "view: torch.Size([64, 320])\n",
      "relu2: torch.Size([64, 20, 4, 4])\n",
      "view: torch.Size([64, 320])\n",
      "relu2: torch.Size([64, 20, 4, 4])\n",
      "view: torch.Size([64, 320])\n",
      "relu2: torch.Size([64, 20, 4, 4])\n",
      "view: torch.Size([64, 320])\n",
      "relu2: torch.Size([64, 20, 4, 4])\n",
      "view: torch.Size([64, 320])\n",
      "relu2: torch.Size([64, 20, 4, 4])\n",
      "view: torch.Size([64, 320])\n",
      "relu2: torch.Size([64, 20, 4, 4])\n",
      "view: torch.Size([64, 320])\n",
      "relu2: torch.Size([64, 20, 4, 4])\n",
      "view: torch.Size([64, 320])\n",
      "relu2: torch.Size([64, 20, 4, 4])\n",
      "view: torch.Size([64, 320])\n",
      "relu2: torch.Size([64, 20, 4, 4])\n",
      "view: torch.Size([64, 320])\n",
      "relu2: torch.Size([64, 20, 4, 4])\n",
      "view: torch.Size([64, 320])\n",
      "relu2: torch.Size([64, 20, 4, 4])\n",
      "view: torch.Size([64, 320])\n",
      "relu2: torch.Size([64, 20, 4, 4])\n",
      "view: torch.Size([64, 320])\n",
      "relu2: torch.Size([64, 20, 4, 4])\n",
      "view: torch.Size([64, 320])\n",
      "relu2: torch.Size([64, 20, 4, 4])\n",
      "view: torch.Size([64, 320])\n",
      "relu2: torch.Size([64, 20, 4, 4])\n",
      "view: torch.Size([64, 320])\n",
      "relu2: torch.Size([64, 20, 4, 4])\n",
      "view: torch.Size([64, 320])\n",
      "relu2: torch.Size([64, 20, 4, 4])\n"
     ]
    },
    {
     "name": "stdout",
     "output_type": "stream",
     "text": [
      "view: torch.Size([64, 320])\n",
      "relu2: torch.Size([64, 20, 4, 4])\n",
      "view: torch.Size([64, 320])\n",
      "relu2: torch.Size([64, 20, 4, 4])\n",
      "view: torch.Size([64, 320])\n",
      "relu2: torch.Size([64, 20, 4, 4])\n",
      "view: torch.Size([64, 320])\n",
      "relu2: torch.Size([64, 20, 4, 4])\n",
      "view: torch.Size([64, 320])\n",
      "relu2: torch.Size([64, 20, 4, 4])\n",
      "view: torch.Size([64, 320])\n",
      "relu2: torch.Size([64, 20, 4, 4])\n",
      "view: torch.Size([64, 320])\n",
      "relu2: torch.Size([64, 20, 4, 4])\n",
      "view: torch.Size([64, 320])\n",
      "relu2: torch.Size([64, 20, 4, 4])\n",
      "view: torch.Size([64, 320])\n",
      "relu2: torch.Size([64, 20, 4, 4])\n",
      "view: torch.Size([64, 320])\n",
      "relu2: torch.Size([64, 20, 4, 4])\n",
      "view: torch.Size([64, 320])\n",
      "relu2: torch.Size([64, 20, 4, 4])\n",
      "view: torch.Size([64, 320])\n",
      "relu2: torch.Size([64, 20, 4, 4])\n",
      "view: torch.Size([64, 320])\n",
      "relu2: torch.Size([64, 20, 4, 4])\n",
      "view: torch.Size([64, 320])\n",
      "relu2: torch.Size([64, 20, 4, 4])\n",
      "view: torch.Size([64, 320])\n",
      "relu2: torch.Size([64, 20, 4, 4])\n",
      "view: torch.Size([64, 320])\n",
      "relu2: torch.Size([64, 20, 4, 4])\n",
      "view: torch.Size([64, 320])\n",
      "relu2: torch.Size([64, 20, 4, 4])\n",
      "view: torch.Size([64, 320])\n",
      "relu2: torch.Size([64, 20, 4, 4])\n",
      "view: torch.Size([64, 320])\n",
      "relu2: torch.Size([64, 20, 4, 4])\n",
      "view: torch.Size([64, 320])\n",
      "relu2: torch.Size([64, 20, 4, 4])\n",
      "view: torch.Size([64, 320])\n",
      "relu2: torch.Size([64, 20, 4, 4])\n",
      "view: torch.Size([64, 320])\n",
      "relu2: torch.Size([64, 20, 4, 4])\n",
      "view: torch.Size([64, 320])\n",
      "relu2: torch.Size([64, 20, 4, 4])\n",
      "view: torch.Size([64, 320])\n",
      "relu2: torch.Size([64, 20, 4, 4])\n",
      "view: torch.Size([64, 320])\n",
      "relu2: torch.Size([64, 20, 4, 4])\n",
      "view: torch.Size([64, 320])\n",
      "relu2: torch.Size([16, 20, 4, 4])\n",
      "view: torch.Size([16, 320])\n",
      "average loss:  0.0859455849736929\n",
      "accuracy:  97 %\n"
     ]
    }
   ],
   "source": [
    "import torch\n",
    "import torch.nn as nn\n",
    "import torch.nn.functional as F\n",
    "from torch.autograd import Variable\n",
    "import torch.optim as optim\n",
    "from torchvision import datasets, transforms\n",
    "from tqdm import tqdm\n",
    "import time\n",
    "import os\n",
    "\n",
    "kwargs = {}          # without GPU\n",
    "#kwargs = {'num_workers': 1, 'pin_memory': True}        # with GPU\n",
    "batch_size=64\n",
    "train_data = torch.utils.data.DataLoader(datasets.MNIST('data_figures_nn', train=True, download=True, \n",
    "                                                    transform=transforms.Compose([transforms.ToTensor(), transforms.Normalize((0.1307,),(0.3082,))])),\n",
    "                                    batch_size=64, shuffle=True, **kwargs)    # shuffle that network don't learns repetition, kwargs are arguments for the function (has to be written)  \n",
    "print(len(train_data.dataset))\n",
    "\n",
    "test_data = torch.utils.data.DataLoader(datasets.MNIST('data_figures_nn', train=False, download=True, \n",
    "                                                    transform=transforms.Compose([transforms.ToTensor(), transforms.Normalize((0.1307,),(0.3082,))])),\n",
    "                                    batch_size=64, shuffle=True, **kwargs)    # shuffle that network don't learns repetition, kwargs are arguments for the function (has to be written)  \n",
    "print(train_data.dataset)\n",
    "\n",
    "class net(nn.Module):\n",
    "    def __init__(self):\n",
    "        super(net, self).__init__()\n",
    "        # definition of object layers\n",
    "        self.conv1 = nn.Conv2d(1,10,kernel_size=5)    # (in_channels: Eingangsdimension, out_channels: Ausgangsdimension)\n",
    "        # (kernel_size: Faltungsfiltergrösse, stride: #Schritte der Faltung (reduziert Dimension), padding: Leerer Rand dass Dimension weniger abnimmt, dilation: adding zeros between kernel, groups: , bias: added to output, padding_mode='zeros')\n",
    "        self.conv2 = nn.Conv2d(10,20,kernel_size=5)\n",
    "        # (p=0.5: probability for dropout, inplace: if True input layer gets changed)\n",
    "        self.conv_dropout = nn.Dropout2d()            # damit das Netz nichts auswendig lernt\n",
    "        self.fc1 = nn.Linear(320, 60)\n",
    "        self.fc2 = nn.Linear(60, 10)\n",
    "    \n",
    "    def forward(self,x):\n",
    "        # actual layer composition\n",
    "        #print('start:',x.shape)\n",
    "        x = self.conv1(x)\n",
    "        #print('conv1:', x.shape)\n",
    "        # (kernel_size, stride, padding, dilation, return_indices: of max value if True, ceil_mode: ceil if True (aufrunden))\n",
    "        x = F.max_pool2d(x, 2)\n",
    "        #print('pool1:', x.shape)\n",
    "        x = F.relu(x)\n",
    "        #print('relu1:',x.shape)\n",
    "        x = self.conv2(x)\n",
    "        #print('conv2:',x.shape)\n",
    "        x = self.conv_dropout(x)\n",
    "        #print('dropout:',x.shape)\n",
    "        x = F.max_pool2d(x, 2)\n",
    "        #print('pool2:',x.shape)\n",
    "        x = F.relu(x)\n",
    "        print('relu2:', x.size())\n",
    "        x = x.view(-1,320)        # daten umformen\n",
    "        print('view:', x.size())\n",
    "        x = F.relu(self.fc1(x))\n",
    "        #print('relu3_fc1:', x.shape)\n",
    "        x = self.fc2(x)\n",
    "        #print('fc2:', x.shape)\n",
    "        \n",
    "        return F.log_softmax(x, dim=1)\n",
    "    \n",
    "if os.path.isfile('data_figures_nn/MyNet_MNIST.pt'):\n",
    "    net = torch.load('data_figures_nn/MyNet_MNIST.pt')       \n",
    "\n",
    "# model\n",
    "model = net()\n",
    "optimizer = optim.SGD(model.parameters(), lr=0.1, momentum=0.8)   # momentum [0,1]\n",
    "\n",
    "\n",
    "# training\n",
    "def train(epoch):\n",
    "    model.train()\n",
    "    #model.eval()\n",
    "    with tqdm(train_data, unit=\"batch\") as tepoch:\n",
    "        # in our train data we have the pictures (data), target number 1-9 and bates of size 64 in this case\n",
    "        for (data, target) in tepoch:\n",
    "            #data = data.cuda()\n",
    "            #target = target.cuda()\n",
    "            #data = Variable(data)\n",
    "            #target = Variable(target)\n",
    "            optimizer.zero_grad()\n",
    "            \n",
    "            # forward pass\n",
    "            out = model(data)\n",
    "            \n",
    "            #calculate loss\n",
    "            loss = F.nll_loss(out, target)          # criterion = nn.CrossEntropyLoss() + loss = criterion(out, target), F.nll_loss is better\n",
    "            predictions = out.argmax(dim=1, keepdim=True).squeeze()\n",
    "            correct = (predictions == target).sum().item()\n",
    "            accuracy = correct / batch_size\n",
    "            \n",
    "            loss.backward()\n",
    "            optimizer.step()\n",
    "            \n",
    "            # display training progress\n",
    "            #print_progress(epoch, batch_id, accuracy, loss)      # faster?\n",
    "            tepoch.set_description(f\"Epoch {epoch}\")\n",
    "            tepoch.set_postfix(loss=loss.item(), accuracy=100. * accuracy)\n",
    "            #time.sleep(0.1)\n",
    "            torch.save(net, 'data_figures_nn/MyNet_MNIST.pt')\n",
    "\n",
    "def test():\n",
    "    model.eval()\n",
    "    loss = 0\n",
    "    correct = 0\n",
    "    for data, target in test_data:\n",
    "        out = model(data)\n",
    "        loss += F.nll_loss(out, target, size_average=False).item()\n",
    "        prediction = out.data.max(1, keepdim=True)[1]\n",
    "        correct += prediction.eq(target.data.view_as(prediction)).sum()\n",
    "    \n",
    "    loss = loss / len(test_data.dataset)\n",
    "    print('average loss: ', loss)\n",
    "    print('accuracy: ', int(100.*correct/len(test_data.dataset)), '%')\n",
    "        \n",
    "    \n",
    "for epoch in range(1,3):\n",
    "        train(epoch)\n",
    "        test()\n",
    "        \n"
   ]
  },
  {
   "cell_type": "markdown",
   "id": "3114e170",
   "metadata": {},
   "source": [
    "### RNN example"
   ]
  },
  {
   "cell_type": "code",
   "execution_count": 13,
   "id": "428883f3",
   "metadata": {},
   "outputs": [
    {
     "ename": "TypeError",
     "evalue": "nameToTensor() takes 0 positional arguments but 1 was given",
     "output_type": "error",
     "traceback": [
      "\u001b[1;31m---------------------------------------------------------------------------\u001b[0m",
      "\u001b[1;31mTypeError\u001b[0m                                 Traceback (most recent call last)",
      "\u001b[1;32m~\\AppData\\Local\\Temp/ipykernel_5940/1906945738.py\u001b[0m in \u001b[0;36m<module>\u001b[1;34m\u001b[0m\n\u001b[0;32m     74\u001b[0m \u001b[0msum\u001b[0m \u001b[1;33m=\u001b[0m \u001b[1;36m0\u001b[0m\u001b[1;33m\u001b[0m\u001b[1;33m\u001b[0m\u001b[0m\n\u001b[0;32m     75\u001b[0m \u001b[1;32mfor\u001b[0m \u001b[0mi\u001b[0m \u001b[1;32min\u001b[0m \u001b[0mrange\u001b[0m\u001b[1;33m(\u001b[0m\u001b[1;36m1\u001b[0m\u001b[1;33m,\u001b[0m \u001b[1;36m100000\u001b[0m\u001b[1;33m)\u001b[0m\u001b[1;33m:\u001b[0m\u001b[1;33m\u001b[0m\u001b[1;33m\u001b[0m\u001b[0m\n\u001b[1;32m---> 76\u001b[1;33m     \u001b[0mlang\u001b[0m\u001b[1;33m,\u001b[0m \u001b[0mname\u001b[0m\u001b[1;33m,\u001b[0m \u001b[0mlang_tensor\u001b[0m\u001b[1;33m,\u001b[0m \u001b[0mname_tensor\u001b[0m \u001b[1;33m=\u001b[0m \u001b[0mgetTrainData\u001b[0m\u001b[1;33m(\u001b[0m\u001b[1;33m)\u001b[0m\u001b[1;33m\u001b[0m\u001b[1;33m\u001b[0m\u001b[0m\n\u001b[0m\u001b[0;32m     77\u001b[0m     \u001b[0moutput\u001b[0m\u001b[1;33m,\u001b[0m \u001b[0mloss\u001b[0m \u001b[1;33m=\u001b[0m \u001b[0mtrain\u001b[0m\u001b[1;33m(\u001b[0m\u001b[0mlang_tensor\u001b[0m\u001b[1;33m,\u001b[0m \u001b[0mname_tensor\u001b[0m\u001b[1;33m)\u001b[0m\u001b[1;33m\u001b[0m\u001b[1;33m\u001b[0m\u001b[0m\n\u001b[0;32m     78\u001b[0m     \u001b[0msum\u001b[0m \u001b[1;33m+=\u001b[0m \u001b[0mloss\u001b[0m\u001b[1;33m.\u001b[0m\u001b[0mdata\u001b[0m\u001b[1;33m[\u001b[0m\u001b[1;36m0\u001b[0m\u001b[1;33m]\u001b[0m\u001b[1;33m\u001b[0m\u001b[1;33m\u001b[0m\u001b[0m\n",
      "\u001b[1;32m~\\AppData\\Local\\Temp/ipykernel_5940/1906945738.py\u001b[0m in \u001b[0;36mgetTrainData\u001b[1;34m()\u001b[0m\n\u001b[0;32m     52\u001b[0m     \u001b[0mlang\u001b[0m \u001b[1;33m=\u001b[0m \u001b[0mrandom\u001b[0m\u001b[1;33m.\u001b[0m\u001b[0mchoice\u001b[0m\u001b[1;33m(\u001b[0m\u001b[0mlangs\u001b[0m\u001b[1;33m)\u001b[0m\u001b[1;33m\u001b[0m\u001b[1;33m\u001b[0m\u001b[0m\n\u001b[0;32m     53\u001b[0m     \u001b[0mname\u001b[0m \u001b[1;33m=\u001b[0m \u001b[0mrandom\u001b[0m\u001b[1;33m.\u001b[0m\u001b[0mchoice\u001b[0m\u001b[1;33m(\u001b[0m\u001b[0mdata\u001b[0m\u001b[1;33m[\u001b[0m\u001b[0mlang\u001b[0m\u001b[1;33m]\u001b[0m\u001b[1;33m)\u001b[0m\u001b[1;33m\u001b[0m\u001b[1;33m\u001b[0m\u001b[0m\n\u001b[1;32m---> 54\u001b[1;33m     \u001b[0mname_tensor\u001b[0m \u001b[1;33m=\u001b[0m \u001b[0mVariable\u001b[0m\u001b[1;33m(\u001b[0m\u001b[0mnameToTensor\u001b[0m\u001b[1;33m(\u001b[0m\u001b[0mname\u001b[0m\u001b[1;33m)\u001b[0m\u001b[1;33m)\u001b[0m\u001b[1;33m\u001b[0m\u001b[1;33m\u001b[0m\u001b[0m\n\u001b[0m\u001b[0;32m     55\u001b[0m     \u001b[0mlang_tensor\u001b[0m \u001b[1;33m=\u001b[0m \u001b[0mVariable\u001b[0m\u001b[1;33m(\u001b[0m\u001b[0mtorch\u001b[0m\u001b[1;33m.\u001b[0m\u001b[0mLongTensor\u001b[0m\u001b[1;33m(\u001b[0m\u001b[1;33m[\u001b[0m\u001b[0mlangs\u001b[0m\u001b[1;33m.\u001b[0m\u001b[0mindex\u001b[0m\u001b[1;33m(\u001b[0m\u001b[0mlang\u001b[0m\u001b[1;33m)\u001b[0m\u001b[1;33m]\u001b[0m\u001b[1;33m)\u001b[0m\u001b[1;33m)\u001b[0m\u001b[1;33m\u001b[0m\u001b[1;33m\u001b[0m\u001b[0m\n\u001b[0;32m     56\u001b[0m     \u001b[1;32mreturn\u001b[0m \u001b[0mname\u001b[0m\u001b[1;33m,\u001b[0m \u001b[0mlang\u001b[0m\u001b[1;33m,\u001b[0m \u001b[0mname_tensor\u001b[0m\u001b[1;33m,\u001b[0m \u001b[0mlang_tensor\u001b[0m\u001b[1;33m\u001b[0m\u001b[1;33m\u001b[0m\u001b[0m\n",
      "\u001b[1;31mTypeError\u001b[0m: nameToTensor() takes 0 positional arguments but 1 was given"
     ]
    }
   ],
   "source": [
    "import string\n",
    "import torch\n",
    "import unicodedata\n",
    "import torch.nn as nn\n",
    "from torch.autograd import Variable\n",
    "import random\n",
    "import matplotlib.pyplot as plt\n",
    "\n",
    "letters = string.ascii_letters + \".,:''\"\n",
    "let = letters.find('a')\n",
    "#print(let)\n",
    "\n",
    "name = 'hallo'\n",
    "tens = torch.zeros(len(name),1,len(letters))\n",
    "#print(tens)\n",
    "\n",
    "# just that it is defined\n",
    "data = {}\n",
    "lang = 'German'\n",
    "langs = []\n",
    "langs.append(lang)\n",
    "data[lang] = name\n",
    "\n",
    "def nameToTensor():\n",
    "    pass\n",
    "\n",
    "# RNN\n",
    "class netRNN(nn.Module):\n",
    "    def __init__(self, inpu, hiddens, output):             # Grösse des Input, output, hiddens\n",
    "        super(netRNN, self).__init__()\n",
    "        # RNN selber schreiben\n",
    "        self.hiddens = hiddens\n",
    "        self.hid = nn.Linear(inpu + hiddens, hiddens)      # produziert neue hiddens\n",
    "        self.out = nn.Linear(inpu + hiddens, output)        # produziert neue outputs\n",
    "        self.logsoftmax = nn.LogSoftmax(dim=1)\n",
    "        \n",
    "        \n",
    "    def forward(self, x, hidden):\n",
    "        x = torch.cat((x, hidden), dim=1)                      # dimension 1, concatenation (Verkettung)\n",
    "        new_hidden = self.hid(x) \n",
    "        output = self.logsoftmax(self.out(x))\n",
    "        return output, new_hidden\n",
    "    \n",
    "    def initHidden(self):\n",
    "        return Variable(torch.zeros(1,self.hiddens))\n",
    "    \n",
    "    \n",
    "rnnModel = netRNN(len(letters), 128, len(data))                # net initialisieren\n",
    "\n",
    "\n",
    "def getTrainData():\n",
    "    lang = random.choice(langs)\n",
    "    name = random.choice(data[lang])\n",
    "    name_tensor = Variable(nameToTensor(name))\n",
    "    lang_tensor = Variable(torch.LongTensor([langs.index(lang)]))\n",
    "    return name, lang, name_tensor, lang_tensor\n",
    "\n",
    "# train network with chars that you can put different lengths of words in it!!!!\n",
    "# this is probably also favoriable for video with different amount of frames\n",
    "criterion = nn.NLLLoss()\n",
    "def train(lang_tensor, name_tensor):\n",
    "    hidden = rnnModel.initHidden()\n",
    "    rnnModel.zero_grad()\n",
    "    for i in range(name_tensor.size()[0]):\n",
    "        output, hidden = rnnModel(Name_tensor[i], hidden)\n",
    "    loss = criterion(output, lang_tensor)\n",
    "    loss.backward()\n",
    "    for i in rnnModel.parameters():         # optimizer manuel\n",
    "        i.data.add_(-0.01, i.grad.data)     # gradient decent, darauf addieren\n",
    "        \n",
    "    #print(loss)\n",
    "    return output\n",
    "\n",
    "sum = 0\n",
    "for i in range(1, 100000):\n",
    "    lang, name, lang_tensor, name_tensor = getTrainData()\n",
    "    output, loss = train(lang_tensor, name_tensor)\n",
    "    sum += loss.data[0]\n",
    "    \n",
    "    if i % 1000 == 0:\n",
    "        avg.append(sum/1000)\n",
    "        sum = 0\n",
    "\n",
    "plt.figure()\n",
    "plt.plot(avg)\n",
    "plt.show()\n",
    "\n",
    "def sampleOut():\n",
    "    # input\n",
    "    hidden = model.initHidden()\n",
    "    output = 'a'\n",
    "    for i in range(15):\n",
    "        # nach training sample generieren\n",
    "        pass\n"
   ]
  },
  {
   "cell_type": "markdown",
   "id": "858eedd4",
   "metadata": {},
   "source": [
    "### Autoencoder example"
   ]
  },
  {
   "cell_type": "code",
   "execution_count": 2,
   "id": "1468f45b",
   "metadata": {},
   "outputs": [
    {
     "name": "stdout",
     "output_type": "stream",
     "text": [
      "tensor(0.) tensor(1.)\n",
      "Epoch:1, Loss:0.0086\n",
      "Epoch:2, Loss:0.0063\n",
      "Epoch:3, Loss:0.0044\n",
      "Epoch:4, Loss:0.0040\n",
      "Epoch:5, Loss:0.0031\n",
      "Epoch:6, Loss:0.0031\n",
      "Epoch:7, Loss:0.0028\n",
      "Epoch:8, Loss:0.0031\n",
      "Epoch:9, Loss:0.0030\n",
      "Epoch:10, Loss:0.0028\n"
     ]
    },
    {
     "data": {
      "image/png": "[encoded data removed]",
      "text/plain": [
       "<Figure size 648x144 with 18 Axes>"
      ]
     },
     "metadata": {
      "needs_background": "light"
     },
     "output_type": "display_data"
    },
    {
     "data": {
      "image/png": "[encoded data removed]",
      "text/plain": [
       "<Figure size 648x144 with 18 Axes>"
      ]
     },
     "metadata": {
      "needs_background": "light"
     },
     "output_type": "display_data"
    },
    {
     "data": {
      "image/png": "[encoded data removed]",
      "text/plain": [
       "<Figure size 648x144 with 18 Axes>"
      ]
     },
     "metadata": {
      "needs_background": "light"
     },
     "output_type": "display_data"
    }
   ],
   "source": [
    "import torch\n",
    "import torch.nn as nn\n",
    "import torch.nn.functional as F\n",
    "import torch.optim as optim\n",
    "from torchvision import datasets, transforms\n",
    "import matplotlib.pyplot as plt\n",
    "transform = transforms.Compose(\n",
    "    [transforms.ToTensor(),\n",
    "     transforms.Normalize((0.5), (0.5))\n",
    "    ])\n",
    "\n",
    "transform = transforms.ToTensor()\n",
    "\n",
    "mnist_data = datasets.MNIST(root='./data', train=True, download=True, transform=transform)\n",
    "\n",
    "data_loader = torch.utils.data.DataLoader(dataset=mnist_data,\n",
    "                                          batch_size=64,\n",
    "                                          shuffle=True)\n",
    "dataiter = iter(data_loader)\n",
    "images, labels = dataiter.next()\n",
    "print(torch.min(images), torch.max(images))\n",
    "\n",
    "# repeatedly reduce the size\n",
    "class Autoencoder_Linear(nn.Module):\n",
    "    def __init__(self):\n",
    "        super().__init__()        \n",
    "        self.encoder = nn.Sequential(\n",
    "            nn.Linear(28 * 28, 128), # (N, 784) -> (N, 128)\n",
    "            nn.ReLU(),\n",
    "            nn.Linear(128, 64),\n",
    "            nn.ReLU(),\n",
    "            nn.Linear(64, 12),\n",
    "            nn.ReLU(),\n",
    "            nn.Linear(12, 3) # -> N, 3\n",
    "        )\n",
    "        \n",
    "        self.decoder = nn.Sequential(\n",
    "            nn.Linear(3, 12),\n",
    "            nn.ReLU(),\n",
    "            nn.Linear(12, 64),\n",
    "            nn.ReLU(),\n",
    "            nn.Linear(64, 128),\n",
    "            nn.ReLU(),\n",
    "            nn.Linear(128, 28 * 28),\n",
    "            nn.Sigmoid()\n",
    "        )\n",
    "\n",
    "    def forward(self, x):\n",
    "        encoded = self.encoder(x)\n",
    "        decoded = self.decoder(encoded)\n",
    "        return decoded\n",
    "    \n",
    "# Input [-1, +1] -> use nn.Tanh\n",
    "\n",
    "class Autoencoder(nn.Module):\n",
    "    def __init__(self):\n",
    "        super().__init__()        \n",
    "        # N, 1, 28, 28\n",
    "        self.encoder = nn.Sequential(\n",
    "            nn.Conv2d(1, 16, 3, stride=2, padding=1), # -> N, 16, 14, 14\n",
    "            nn.ReLU(),\n",
    "            nn.Conv2d(16, 32, 3, stride=2, padding=1), # -> N, 32, 7, 7\n",
    "            nn.ReLU(),\n",
    "            nn.Conv2d(32, 64, 7) # -> N, 64, 1, 1\n",
    "        )\n",
    "        \n",
    "        # N , 64, 1, 1\n",
    "        self.decoder = nn.Sequential(\n",
    "            nn.ConvTranspose2d(64, 32, 7), # -> N, 32, 7, 7\n",
    "            nn.ReLU(),\n",
    "            nn.ConvTranspose2d(32, 16, 3, stride=2, padding=1, output_padding=1), # N, 16, 14, 14 (N,16,13,13 without output_padding)\n",
    "            nn.ReLU(),\n",
    "            nn.ConvTranspose2d(16, 1, 3, stride=2, padding=1, output_padding=1), # N, 1, 28, 28  (N,1,27,27)\n",
    "            nn.Sigmoid()\n",
    "        )\n",
    "\n",
    "    def forward(self, x):\n",
    "        encoded = self.encoder(x)\n",
    "        decoded = self.decoder(encoded)\n",
    "        return decoded\n",
    "    \n",
    "\n",
    "# Note: nn.MaxPool2d -> use nn.MaxUnpool2d, or use different kernelsize, stride etc to compensate...\n",
    "# Input [-1, +1] -> use nn.Tanh\n",
    "\n",
    "model = Autoencoder()\n",
    "\n",
    "criterion = nn.MSELoss()\n",
    "optimizer = torch.optim.Adam(model.parameters(), lr=1e-3, weight_decay=1e-5)\n",
    "\n",
    "# Point to training loop video\n",
    "num_epochs = 10\n",
    "outputs = []\n",
    "for epoch in range(num_epochs):\n",
    "    for (img, _) in data_loader:\n",
    "        # img = img.reshape(-1, 28*28) # -> use for Autoencoder_Linear\n",
    "        recon = model(img)\n",
    "        loss = criterion(recon, img)\n",
    "        \n",
    "        optimizer.zero_grad()\n",
    "        loss.backward()\n",
    "        optimizer.step()\n",
    "\n",
    "    print(f'Epoch:{epoch+1}, Loss:{loss.item():.4f}')\n",
    "    outputs.append((epoch, img, recon))\n",
    "\n",
    "# plotting\n",
    "for k in range(0, num_epochs, 4):\n",
    "    plt.figure(figsize=(9, 2))\n",
    "    plt.gray()\n",
    "    imgs = outputs[k][1].detach().numpy()\n",
    "    recon = outputs[k][2].detach().numpy()\n",
    "    for i, item in enumerate(imgs):\n",
    "        if i >= 9: break\n",
    "        plt.subplot(2, 9, i+1)\n",
    "        # item = item.reshape(-1, 28,28) # -> use for Autoencoder_Linear\n",
    "        # item: 1, 28, 28\n",
    "        plt.imshow(item[0])\n",
    "            \n",
    "    for i, item in enumerate(recon):\n",
    "        if i >= 9: break\n",
    "        plt.subplot(2, 9, 9+i+1) # row_length + i + 1\n",
    "        # item = item.reshape(-1, 28,28) # -> use for Autoencoder_Linear\n",
    "        # item: 1, 28, 28\n",
    "        plt.imshow(item[0])"
   ]
  },
  {
   "cell_type": "markdown",
   "id": "d7c24700",
   "metadata": {},
   "source": [
    "### Reinforcement learning example"
   ]
  },
  {
   "cell_type": "code",
   "execution_count": 3,
   "id": "e62d13ec",
   "metadata": {},
   "outputs": [
    {
     "name": "stdout",
     "output_type": "stream",
     "text": [
      "epoch: 0\n"
     ]
    },
    {
     "name": "stderr",
     "output_type": "stream",
     "text": [
      "Exception ignored in: <function Viewer.__del__ at 0x0000028803836670>\n",
      "Traceback (most recent call last):\n",
      "  File \"c:\\users\\timok\\documents\\git_bachelor\\flowmodeling\\chapter_book\\databook_python\\lib\\site-packages\\gym\\envs\\classic_control\\rendering.py\", line 185, in __del__\n",
      "    self.close()\n",
      "  File \"c:\\users\\timok\\documents\\git_bachelor\\flowmodeling\\chapter_book\\databook_python\\lib\\site-packages\\gym\\envs\\classic_control\\rendering.py\", line 101, in close\n",
      "    self.window.close()\n",
      "  File \"c:\\users\\timok\\documents\\git_bachelor\\flowmodeling\\chapter_book\\databook_python\\lib\\site-packages\\pyglet\\window\\win32\\__init__.py\", line 328, in close\n",
      "    super(Win32Window, self).close()\n",
      "  File \"c:\\users\\timok\\documents\\git_bachelor\\flowmodeling\\chapter_book\\databook_python\\lib\\site-packages\\pyglet\\window\\__init__.py\", line 857, in close\n",
      "    app.windows.remove(self)\n",
      "  File \"C:\\Users\\timok\\Python\\py390\\lib\\_weakrefset.py\", line 110, in remove\n",
      "    self.data.remove(ref(item))\n",
      "KeyError: <weakref at 0x000002887FDF5090; to 'Win32Window' at 0x000002887F9DBF40>\n",
      "C:\\Users\\timok\\AppData\\Local\\Temp/ipykernel_19244/632359181.py:123: UserWarning: volatile was removed and now has no effect. Use `with torch.no_grad():` instead.\n",
      "  return model(Variable(state, volatile=True).type(FloatTensor)).data.max(1)[1].view(1,1)\n"
     ]
    },
    {
     "name": "stdout",
     "output_type": "stream",
     "text": [
      "epoch: 5\n"
     ]
    },
    {
     "name": "stderr",
     "output_type": "stream",
     "text": [
      "C:\\Users\\timok\\AppData\\Local\\Temp/ipykernel_19244/632359181.py:134: UserWarning: volatile was removed and now has no effect. Use `with torch.no_grad():` instead.\n",
      "  non_final_next = Variable(torch.cat([s for s in batch[2] if s is not None]), volatile=True)\n",
      "C:\\Users\\timok\\AppData\\Local\\Temp/ipykernel_19244/632359181.py:141: UserWarning: indexing with dtype torch.uint8 is now deprecated, please use a dtype torch.bool instead. (Triggered internally at  ..\\aten\\src\\ATen/native/IndexingUtils.h:30.)\n",
      "  next_value[non_final] = model(non_final_next).max(1)[0]\n",
      "C:\\Users\\timok\\AppData\\Local\\Temp/ipykernel_19244/632359181.py:142: UserWarning: volatile was removed and now has no effect. Use `with torch.no_grad():` instead.\n",
      "  next_value.volatile = False\n",
      "C:\\Users\\timok\\AppData\\Local\\Temp/ipykernel_19244/632359181.py:144: UserWarning: Using a target size (torch.Size([128])) that is different to the input size (torch.Size([128, 1])). This will likely lead to incorrect results due to broadcasting. Please ensure they have the same size.\n",
      "  loss = F.smooth_l1_loss(action_value, target_action_value)\n"
     ]
    },
    {
     "name": "stdout",
     "output_type": "stream",
     "text": [
      "epoch: 10\n",
      "epoch: 15\n",
      "epoch: 20\n",
      "epoch: 25\n",
      "epoch: 30\n",
      "epoch: 35\n",
      "epoch: 40\n",
      "epoch: 45\n"
     ]
    },
    {
     "data": {
      "image/png": "[encoded data removed]",
      "text/plain": [
       "<Figure size 432x288 with 1 Axes>"
      ]
     },
     "metadata": {
      "needs_background": "light"
     },
     "output_type": "display_data"
    }
   ],
   "source": [
    "import torch\n",
    "import torch.nn as nn\n",
    "import torch.optim as optim\n",
    "from torch.autograd import Variable\n",
    "import torchvision.transforms as T\n",
    "import torch.nn.functional as F\n",
    "import matplotlib\n",
    "import matplotlib.pyplot as plt\n",
    "import gym\n",
    "import random\n",
    "import numpy as np\n",
    "from PIL import Image\n",
    "import math\n",
    "from itertools import count\n",
    "\n",
    "# environment\n",
    "env = gym.make('CartPole-v0').unwrapped\n",
    "# dass es überall läuft\n",
    "if 'inline' in matplotlib.get_backend():\n",
    "    from IPython import display\n",
    "    \n",
    "# interactive plotting\n",
    "plt.ion()\n",
    "\n",
    "# all tensors on the GPU\n",
    "FloatTensor = torch.FloatTensor\n",
    "LongTensor = torch.LongTensor\n",
    "ByteTensor = torch.ByteTensor\n",
    "Tensor = FloatTensor\n",
    "\n",
    "class Memory:\n",
    "    def __init__(self, capacity):\n",
    "        self.capacity = capacity\n",
    "        self.memory = []\n",
    "        # cyclic list\n",
    "        self.pos = 0\n",
    "        \n",
    "    def push(self, state, action, next_state, reward):\n",
    "        if len(self.memory) < self.capacity:\n",
    "            self.memory.append(None)\n",
    "        self.memory[self.pos] = (state, action, next_state, reward)\n",
    "        self.pos = (self.pos + 1) % self.capacity\n",
    "        \n",
    "    def sample(self, batch_size):\n",
    "        return random.sample(self.memory, batch_size)\n",
    "    \n",
    "    def __len__(self):\n",
    "        return len(self.memory)\n",
    "    \n",
    "\n",
    "class net(nn.Module):\n",
    "    def __init__(self):\n",
    "        super(net, self).__init__()\n",
    "        self.conv1 = nn.Conv2d(3,16, kernel_size=5, stride=2)\n",
    "        self.norm1 = nn.BatchNorm2d(16)\n",
    "        self.conv2 = nn.Conv2d(16, 32, kernel_size=5, stride=2)\n",
    "        self.norm2 = nn.BatchNorm2d(32)\n",
    "        self.conv3 = nn.Conv2d(32, 32, kernel_size=5, stride=2)    \n",
    "        self.norm3 = nn.BatchNorm2d(32)\n",
    "        self.fc = nn.Linear(448,2)\n",
    "        \n",
    "    def forward(self, x):\n",
    "        x = F.relu(self.norm1(self.conv1(x)))\n",
    "        x = F.relu(self.norm2(self.conv2(x)))\n",
    "        x = F.relu(self.norm3(self.conv3(x)))\n",
    "        return self.fc(x.view(x.size(0), -1))\n",
    "\n",
    "    \n",
    "resize = T.Compose([\n",
    "    T.ToPILImage(), T.Resize(40, interpolation=Image.CUBIC), T.ToTensor()\n",
    "])\n",
    "    \n",
    "width = 600\n",
    "\n",
    "def cart_pos():\n",
    "    env_width = env.x_threshold * 2\n",
    "    return int(env.state[0] * width/env_width + width / 2.0)\n",
    "\n",
    "def get_image():\n",
    "    # wir brauchen CHW (channel width, height), wir bekommen ein anderes Format \n",
    "    screen = env.render(mode='rgb_array').transpose(\n",
    "        (2,0,1)\n",
    "    )\n",
    "    screen = screen[:, 160:320]\n",
    "    view = 320\n",
    "    cart = cart_pos()\n",
    "    # center the cart\n",
    "    if cart < view // 2:            # floor division --> abgerundet\n",
    "        sliced = slice(view)\n",
    "    elif cart > width - view // 2:\n",
    "        sliced = slice(-1*view, None)\n",
    "    else:\n",
    "        sliced = slice(cart - view // 2, cart + view // 2)\n",
    "    screen = screen[:,:,sliced]\n",
    "    screen = np.ascontiguousarray(screen, dtype=np.float32) / 255\n",
    "    screen = torch.from_numpy(screen)\n",
    "    return resize(screen).unsqueeze(0).type(Tensor)\n",
    "        \n",
    "#env.reset()\n",
    "#plt.figure()\n",
    "#plt.imshow(get_image().cpu().squeeze(0).permute(1,2,0).numpy(), interpolation='none')\n",
    "#plt.show()\n",
    "\n",
    "# model\n",
    "model = net()\n",
    "#model = model.cuda()\n",
    "optimizer = optim.RMSprop(model.parameters())\n",
    "mem = Memory(16300)\n",
    "done = 0\n",
    "\n",
    "eps_end = 0.95\n",
    "eps_start = 0.95\n",
    "eps_steps = 150\n",
    "batch_size = 128\n",
    "# for reward\n",
    "gamma = 0.99\n",
    "def get_action(state):\n",
    "    global done\n",
    "    epsilon = random.random()\n",
    "    threshold = (eps_end + eps_start - eps_end) * math.exp(-1. * done / eps_steps)\n",
    "    done = done + 1\n",
    "    if epsilon > threshold:\n",
    "        return model(Variable(state, volatile=True).type(FloatTensor)).data.max(1)[1].view(1,1)\n",
    "    else:\n",
    "        return LongTensor([[random.randint(0,1)]])\n",
    "\n",
    "# q - learning\n",
    "def train():\n",
    "    if len(mem) < batch_size:\n",
    "        return\n",
    "    x = mem.sample(batch_size)         # (state, action, next_state, reward)\n",
    "    batch = tuple(zip(*x))                 # ((s1,s2, ...), (a1,a2,...), (n1, n2, ...), (r1,r2,...))\n",
    "    non_final = ByteTensor(tuple(map(lambda s: s is not None, batch[2])))\n",
    "    non_final_next = Variable(torch.cat([s for s in batch[2] if s is not None]), volatile=True)\n",
    "    state = Variable(torch.cat(batch[0]))\n",
    "    action = Variable(torch.cat(batch[1]))\n",
    "    reward = Variable(torch.cat(batch[3]))\n",
    "    action_value = model(state).gather(1, action)\n",
    "    # v - value\n",
    "    next_value = Variable(torch.zeros(batch_size).type(FloatTensor))\n",
    "    next_value[non_final] = model(non_final_next).max(1)[0]\n",
    "    next_value.volatile = False\n",
    "    target_action_value = (next_value * gamma) + reward\n",
    "    loss = F.smooth_l1_loss(action_value, target_action_value)\n",
    "    optimizer.zero_grad()\n",
    "    loss.backward()\n",
    "    \n",
    "    for p in model.parameters():\n",
    "        p.grad.data.clamp_(-1,1)\n",
    "    optimizer.step()\n",
    "    \n",
    "\n",
    "    \n",
    "made_it = []\n",
    "train_duration = 50\n",
    "for i in range(train_duration):\n",
    "    if i % (train_duration / 10) == 0:\n",
    "        print('epoch:', i)\n",
    "    env.reset()\n",
    "    last = get_image()\n",
    "    current = get_image()\n",
    "    state = current - last\n",
    "    for j in count():\n",
    "        action = get_action(state)\n",
    "        _,reward, lost, _ = env.step(int(action[0,0]))\n",
    "        reward = Tensor([reward])\n",
    "        \n",
    "        last = current\n",
    "        current = get_image()\n",
    "        if lost:\n",
    "            next_state = None\n",
    "        else:\n",
    "            next_state = current - last\n",
    "        \n",
    "        mem.push(state, action, next_state, reward)\n",
    "        state = next_state\n",
    "        train()\n",
    "        if lost:\n",
    "            made_it.append(j)\n",
    "            #show()\n",
    "            break\n",
    "        \n",
    "        \n",
    "#env.render(close= True)\n",
    "env.close()\n",
    "plt.ioff()\n",
    "plt.figure()\n",
    "plt.plot(made_it)\n",
    "plt.show()"
   ]
  },
  {
   "cell_type": "code",
   "execution_count": null,
   "id": "b351a2d5",
   "metadata": {},
   "outputs": [],
   "source": []
  }
 ],
 "metadata": {
  "kernelspec": {
   "display_name": "Python 3 (ipykernel)",
   "language": "python",
   "name": "python3"
  },
  "language_info": {
   "codemirror_mode": {
    "name": "ipython",
    "version": 3
   },
   "file_extension": ".py",
   "mimetype": "text/x-python",
   "name": "python",
   "nbconvert_exporter": "python",
   "pygments_lexer": "ipython3",
   "version": "3.9.1"
  }
 },
 "nbformat": 4,
 "nbformat_minor": 5
}
