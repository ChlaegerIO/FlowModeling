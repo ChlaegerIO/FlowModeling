{
 "cells": [
  {
   "cell_type": "markdown",
   "id": "4f8f0b7e",
   "metadata": {},
   "source": [
    "PyTorch Tutorial"
   ]
  },
  {
   "cell_type": "code",
   "execution_count": 1,
   "id": "36b0ac38",
   "metadata": {},
   "outputs": [],
   "source": [
    "# print progress, possibly faster than progress bar\n",
    "def print_progress(epoch, batch_id, accuracy, loss):\n",
    "    progress = '='* int((10. * batch_id / len(train_data)))\n",
    "    progress += '>'\n",
    "    if batch_id == 1:\n",
    "        print('Train Epoche {}: {}% [{}]\\t accuracy: {:.6f}, loss: {:.6f}'.format(\n",
    "            epoch, 100. * batch_id / len(train_data),progress, accuracy, loss.item()), end='')\n",
    "    else:\n",
    "        print('\\rTrain Epoche {}: {}% [{}]\\t accuracy: {:.6f}, loss: {:.6f}'.format(\n",
    "            epoch, 100. * batch_id / len(train_data),progress, accuracy, loss.item()), end='', flush = True)"
   ]
  },
  {
   "cell_type": "markdown",
   "id": "7f332b95",
   "metadata": {},
   "source": [
    "Progress bar"
   ]
  },
  {
   "cell_type": "code",
   "execution_count": 2,
   "id": "c83753ba",
   "metadata": {},
   "outputs": [
    {
     "name": "stderr",
     "output_type": "stream",
     "text": [
      "Testing odd number 9: 100%|███████████████████████████████████| 10/10 [00:05<00:00,  1.97carrots/s, divisors=[1, 3, 9]]\n"
     ]
    }
   ],
   "source": [
    "from tqdm import trange\n",
    "from time import sleep\n",
    "\n",
    "def get_divisors(n):\n",
    "    divisors = []\n",
    "    for m in range(1, n+1):\n",
    "        if n % m == 0:\n",
    "            divisors.append(m)\n",
    "    return divisors\n",
    "\n",
    "iterations = 10\n",
    "with trange(iterations, unit=\"carrots\") as pbar:\n",
    "    for i in pbar:\n",
    "        sleep(0.5)\n",
    "        if i % 2:\n",
    "            pbar.set_description(f\"Testing odd number {i}\")\n",
    "        else:\n",
    "            pbar.set_description(f\"Testing even number {i}\")\n",
    "        pbar.set_postfix(divisors=get_divisors(i))"
   ]
  },
  {
   "cell_type": "code",
   "execution_count": 3,
   "id": "8163b958",
   "metadata": {},
   "outputs": [
    {
     "name": "stdout",
     "output_type": "stream",
     "text": [
      "tensor([[ 0.0728,  1.8949, -0.6067],\n",
      "        [ 3.9697, -0.7631,  1.1983],\n",
      "        [ 0.8506,  0.9362,  0.3802],\n",
      "        [ 0.0469,  0.2083, -0.1294],\n",
      "        [ 0.2626,  0.8436,  0.6136]])\n"
     ]
    },
    {
     "ename": "NameError",
     "evalue": "name 'datasets' is not defined",
     "output_type": "error",
     "traceback": [
      "\u001b[1;31m---------------------------------------------------------------------------\u001b[0m",
      "\u001b[1;31mNameError\u001b[0m                                 Traceback (most recent call last)",
      "\u001b[1;32m~\\AppData\\Local\\Temp/ipykernel_13712/380261065.py\u001b[0m in \u001b[0;36m<module>\u001b[1;34m\u001b[0m\n\u001b[0;32m     24\u001b[0m \u001b[1;33m\u001b[0m\u001b[0m\n\u001b[0;32m     25\u001b[0m \u001b[1;31m# 3. Daten laden\u001b[0m\u001b[1;33m\u001b[0m\u001b[1;33m\u001b[0m\u001b[1;33m\u001b[0m\u001b[0m\n\u001b[1;32m---> 26\u001b[1;33m train_data = torch.utils.data.DataLoader(datasets.MNIST('data_figures_nn', train=True, download=True, \n\u001b[0m\u001b[0;32m     27\u001b[0m                                                     transform=transforms.Compose([transforms.ToTensor(), transforms.Normalize((0.1307,),(0.3082,))])),\n\u001b[0;32m     28\u001b[0m                                     batch_size=64, shuffle=True, **kwargs)\n",
      "\u001b[1;31mNameError\u001b[0m: name 'datasets' is not defined"
     ]
    }
   ],
   "source": [
    "import torch\n",
    "import torch.nn as nn\n",
    "import torch.nn.functional as F\n",
    "from torch.autograd import Variable\n",
    "import torch.optim as optim\n",
    "import numpy as np\n",
    "from scipy import io\n",
    "import os\n",
    "\n",
    "# Tutorial: https://www.youtube.com/watch?v=GBzojftwfGQ&list=PLNmsVeXQZj7rx55Mai21reZtd_8m-qe27&index=5&ab_channel=TheMorpheusTutorials\n",
    "# 1. Tensor\n",
    "x = torch.Tensor(5,3)   # numpy arrays werden durch Tensoren ersetzt\n",
    "x[:,:] = 1\n",
    "y = torch.randn(5,3)    # random tenseor\n",
    "#print(y)\n",
    "xy = torch.add(x,y)\n",
    "print(xy)\n",
    "\n",
    "# 2. Für Grafik Karte\n",
    "#if torch.cuda.is_available():\n",
    "#    x = x.cuda()       # RuntimeError: CUDA error: all CUDA-capable devices are busy or unavailable \n",
    "#    y = y.cude()\n",
    "#print(x+y)\n",
    "\n",
    "# 3. Daten laden \n",
    "train_data = torch.utils.data.DataLoader(datasets.MNIST('data_figures_nn', train=True, download=True, \n",
    "                                                    transform=transforms.Compose([transforms.ToTensor(), transforms.Normalize((0.1307,),(0.3082,))])),\n",
    "                                    batch_size=64, shuffle=True, **kwargs)\n",
    "# Bilder laden und verarbeiten\n",
    "from PIL import Image\n",
    "from torchvision import transforms\n",
    "from os import listdir\n",
    "normalize = transforms.Normalize(mean=[0.485,0.456,0.406], std=[0.229,0.224,0.225])    # normalize around mean with sigma (std)\n",
    "transform = transforms.Compose([transforms.Resize(256), transforms.CenterCrop(256), transforms.ToTensor(), normalize])\n",
    "train_data_list = []\n",
    "train_data = []\n",
    "target_label = []\n",
    "for f in listdir('catdog/train/'):\n",
    "    img = Image.open('catdog/train/' + f)\n",
    "    img_tensor = transforms(img)\n",
    "    img_tensor.unsqueeze_(0)   # save directly in img_tensor with _ at the end (1,3,256,256)\n",
    "    # label\n",
    "    isCat = 1 if 'cat' in f else 0\n",
    "    isDog = 1 if 'dog' in f else 0\n",
    "    target = [isCat, isDog]\n",
    "    target_label.append(target)\n",
    "    if len(train_data_list) >= 64:\n",
    "        train_data.append(torch.stack(train_data_list), target_label)\n",
    "        train_data_list = []\n",
    "        break\n",
    "\n",
    "\n"
   ]
  },
  {
   "cell_type": "code",
   "execution_count": null,
   "id": "591cf2d9",
   "metadata": {},
   "outputs": [],
   "source": [
    "# 4. Erste eigene Neuronale Netzwerk\n",
    "class MyNet(nn.Module): # Vererbungslehre\n",
    "    def __init__(self):              # initialize network\n",
    "        super(MyNet,self).__init__()\n",
    "        self.lin1 = nn.Linear(10,10)\n",
    "        self.lin2 = nn.Linear(10,10)\n",
    "    \n",
    "    def forward(self, x):            # forward pass function\n",
    "        x = F.relu(self.lin1(x))\n",
    "        x = self.lin2(x)\n",
    "        return x\n",
    "\n",
    "    def num_flat_features(self,x):\n",
    "        size = x.size() [1:]         # ohne batch dimension\n",
    "        num = 1\n",
    "        for i in size:\n",
    "            num *= i\n",
    "        return num\n",
    "    \n",
    "net = MyNet()\n",
    "#net = net.cuda()\n",
    "print(net)"
   ]
  },
  {
   "cell_type": "code",
   "execution_count": null,
   "id": "e629a5ac",
   "metadata": {},
   "outputs": [],
   "source": [
    "# 5. main training loop with input\n",
    "for i in range(100):\n",
    "    x = [0,1,1,1,0,1,1,1,0,0]\n",
    "    input = Variable(torch.Tensor([x for _ in range(10)]))    # 10x10 input variable, weil man ein batch von 10 daraus erstellt\n",
    "    out = net(input)                      # input durch Netz durchlaufen lassen\n",
    "\n",
    "    # labels what to expect\n",
    "    x = [1,0,0,0,1,0,0,0,1,1]\n",
    "    target = Variable(torch.Tensor([x for _ in range(10)]))\n",
    "    # loss\n",
    "    criterion = nn.MSELoss()              # Fehlerfunktionen: optimieren (softwmax, MSE, ...)\n",
    "    loss = criterion(out, target)\n",
    "    print(loss)\n",
    "\n",
    "    net.zero_grad()\n",
    "    loss.backward()\n",
    "    optimizer = optim.SGD(net.parameters(), lr=0.1,)            # optimizer ausprobieren SGD, Adam, ...\n",
    "    optimizer.step()\n",
    "    y\n",
    "    \n",
    "test_input = Variable(torch.Tensor([1,1,1,1,0,0,0,1,1,1]))\n",
    "test_out = net(test_input)\n",
    "print(test_out)  \n",
    "\n",
    "print(out)\n",
    "\n",
    "# 6. Speichern und Laden des Trainierten Netzes (pro Zyklus speichern, falls das Programm abstürtzt während dem trainieren)\n",
    "torch.save(net, 'data_figures_nn/MyNet.pt')\n",
    "if os.path.isfile('data_figures_nn/MyNet.pt'):\n",
    "    net_load = torch.load('data_figures_nn/MyNet.pt')\n",
    "\n",
    "print(net_load)\n"
   ]
  },
  {
   "cell_type": "markdown",
   "id": "94b82887",
   "metadata": {},
   "source": [
    "MNIST example"
   ]
  },
  {
   "cell_type": "code",
   "execution_count": 5,
   "id": "47f6c10a",
   "metadata": {},
   "outputs": [
    {
     "name": "stdout",
     "output_type": "stream",
     "text": [
      "60000\n"
     ]
    },
    {
     "name": "stderr",
     "output_type": "stream",
     "text": [
      "\r",
      "  0%|                                                                                       | 0/938 [00:00<?, ?batch/s]"
     ]
    },
    {
     "name": "stdout",
     "output_type": "stream",
     "text": [
      "start: torch.Size([64, 1, 28, 28])\n",
      "conv1: torch.Size([64, 10, 24, 24])\n",
      "pool1: torch.Size([64, 10, 12, 12])\n"
     ]
    },
    {
     "name": "stderr",
     "output_type": "stream",
     "text": [
      "Epoch 1:   0%|▏                                           | 4/938 [00:00<02:42,  5.74batch/s, accuracy=15.6, loss=2.27]"
     ]
    },
    {
     "name": "stdout",
     "output_type": "stream",
     "text": [
      "start: torch.Size([64, 1, 28, 28])\n",
      "conv1: torch.Size([64, 10, 24, 24])\n",
      "pool1: torch.Size([64, 10, 12, 12])\n",
      "start: torch.Size([64, 1, 28, 28])\n",
      "conv1: torch.Size([64, 10, 24, 24])\n",
      "pool1: torch.Size([64, 10, 12, 12])\n",
      "start: torch.Size([64, 1, 28, 28])\n",
      "conv1: torch.Size([64, 10, 24, 24])\n",
      "pool1: torch.Size([64, 10, 12, 12])\n",
      "start: torch.Size([64, 1, 28, 28])\n",
      "conv1: torch.Size([64, 10, 24, 24])\n",
      "pool1: torch.Size([64, 10, 12, 12])\n",
      "start: torch.Size([64, 1, 28, 28])\n",
      "conv1: torch.Size([64, 10, 24, 24])\n",
      "pool1: torch.Size([64, 10, 12, 12])\n",
      "start: torch.Size([64, 1, 28, 28])\n",
      "conv1: torch.Size([64, 10, 24, 24])\n"
     ]
    },
    {
     "name": "stderr",
     "output_type": "stream",
     "text": [
      "Epoch 1:   1%|▍                                          | 10/938 [00:01<01:07, 13.67batch/s, accuracy=34.4, loss=1.84]"
     ]
    },
    {
     "name": "stdout",
     "output_type": "stream",
     "text": [
      "pool1: torch.Size([64, 10, 12, 12])\n",
      "start: torch.Size([64, 1, 28, 28])\n",
      "conv1: torch.Size([64, 10, 24, 24])\n",
      "pool1: torch.Size([64, 10, 12, 12])\n",
      "start: torch.Size([64, 1, 28, 28])\n",
      "conv1: torch.Size([64, 10, 24, 24])\n",
      "pool1: torch.Size([64, 10, 12, 12])\n",
      "start: torch.Size([64, 1, 28, 28])\n",
      "conv1: torch.Size([64, 10, 24, 24])\n",
      "pool1: torch.Size([64, 10, 12, 12])\n",
      "start: torch.Size([64, 1, 28, 28])\n",
      "conv1: torch.Size([64, 10, 24, 24])\n",
      "pool1: torch.Size([64, 10, 12, 12])\n",
      "start: torch.Size([64, 1, 28, 28])\n"
     ]
    },
    {
     "name": "stderr",
     "output_type": "stream",
     "text": [
      "Epoch 1:   2%|▊                                           | 16/938 [00:01<00:47, 19.59batch/s, accuracy=56.2, loss=1.2]"
     ]
    },
    {
     "name": "stdout",
     "output_type": "stream",
     "text": [
      "conv1: torch.Size([64, 10, 24, 24])\n",
      "pool1: torch.Size([64, 10, 12, 12])\n",
      "start: torch.Size([64, 1, 28, 28])\n",
      "conv1: torch.Size([64, 10, 24, 24])\n",
      "pool1: torch.Size([64, 10, 12, 12])\n",
      "start: torch.Size([64, 1, 28, 28])\n",
      "conv1: torch.Size([64, 10, 24, 24])\n",
      "pool1: torch.Size([64, 10, 12, 12])\n",
      "start: torch.Size([64, 1, 28, 28])\n",
      "conv1: torch.Size([64, 10, 24, 24])\n",
      "pool1: torch.Size([64, 10, 12, 12])\n",
      "start: torch.Size([64, 1, 28, 28])\n",
      "conv1: torch.Size([64, 10, 24, 24])\n",
      "pool1: torch.Size([64, 10, 12, 12])\n",
      "start: torch.Size([64, 1, 28, 28])\n",
      "conv1: torch.Size([64, 10, 24, 24])\n",
      "pool1: torch.Size([64, 10, 12, 12])\n"
     ]
    },
    {
     "name": "stderr",
     "output_type": "stream",
     "text": [
      "Epoch 1:   2%|▊                                          | 19/938 [00:01<00:41, 22.07batch/s, accuracy=64.1, loss=1.25]"
     ]
    },
    {
     "name": "stdout",
     "output_type": "stream",
     "text": [
      "start: torch.Size([64, 1, 28, 28])\n",
      "conv1: torch.Size([64, 10, 24, 24])\n",
      "pool1: torch.Size([64, 10, 12, 12])\n",
      "start: torch.Size([64, 1, 28, 28])\n",
      "conv1: torch.Size([64, 10, 24, 24])\n",
      "pool1: torch.Size([64, 10, 12, 12])\n",
      "start: torch.Size([64, 1, 28, 28])\n",
      "conv1: torch.Size([64, 10, 24, 24])\n",
      "pool1: torch.Size([64, 10, 12, 12])\n",
      "start: torch.Size([64, 1, 28, 28])\n",
      "conv1: torch.Size([64, 10, 24, 24])\n",
      "pool1: torch.Size([64, 10, 12, 12])\n",
      "start: torch.Size([64, 1, 28, 28])\n",
      "conv1: torch.Size([64, 10, 24, 24])\n",
      "pool1: torch.Size([64, 10, 12, 12])\n",
      "start: torch.Size([64, 1, 28, 28])\n",
      "conv1: torch.Size([64, 10, 24, 24])\n",
      "pool1: torch.Size([64, 10, 12, 12])\n"
     ]
    },
    {
     "name": "stderr",
     "output_type": "stream",
     "text": [
      "Epoch 1:   3%|█▏                                        | 26/938 [00:01<00:35, 26.02batch/s, accuracy=67.2, loss=0.962]"
     ]
    },
    {
     "name": "stdout",
     "output_type": "stream",
     "text": [
      "start: torch.Size([64, 1, 28, 28])\n",
      "conv1: torch.Size([64, 10, 24, 24])\n",
      "pool1: torch.Size([64, 10, 12, 12])\n",
      "start: torch.Size([64, 1, 28, 28])\n",
      "conv1: torch.Size([64, 10, 24, 24])\n",
      "pool1: torch.Size([64, 10, 12, 12])\n",
      "start: torch.Size([64, 1, 28, 28])\n",
      "conv1: torch.Size([64, 10, 24, 24])\n",
      "pool1: torch.Size([64, 10, 12, 12])\n",
      "start: torch.Size([64, 1, 28, 28])\n",
      "conv1: torch.Size([64, 10, 24, 24])\n",
      "pool1: torch.Size([64, 10, 12, 12])\n",
      "start: torch.Size([64, 1, 28, 28])\n",
      "conv1: torch.Size([64, 10, 24, 24])\n",
      "pool1: torch.Size([64, 10, 12, 12])\n",
      "start: torch.Size([64, 1, 28, 28])\n",
      "conv1: torch.Size([64, 10, 24, 24])\n",
      "pool1: torch.Size([64, 10, 12, 12])\n",
      "start: torch.Size([64, 1, 28, 28])\n"
     ]
    },
    {
     "name": "stderr",
     "output_type": "stream",
     "text": [
      "Epoch 1:   4%|█▍                                        | 33/938 [00:01<00:32, 27.95batch/s, accuracy=70.3, loss=0.849]"
     ]
    },
    {
     "name": "stdout",
     "output_type": "stream",
     "text": [
      "conv1: torch.Size([64, 10, 24, 24])\n",
      "pool1: torch.Size([64, 10, 12, 12])\n",
      "start: torch.Size([64, 1, 28, 28])\n",
      "conv1: torch.Size([64, 10, 24, 24])\n",
      "pool1: torch.Size([64, 10, 12, 12])\n",
      "start: torch.Size([64, 1, 28, 28])\n",
      "conv1: torch.Size([64, 10, 24, 24])\n",
      "pool1: torch.Size([64, 10, 12, 12])\n",
      "start: torch.Size([64, 1, 28, 28])\n",
      "conv1: torch.Size([64, 10, 24, 24])\n",
      "pool1: torch.Size([64, 10, 12, 12])\n",
      "start: torch.Size([64, 1, 28, 28])\n",
      "conv1: torch.Size([64, 10, 24, 24])\n",
      "pool1: torch.Size([64, 10, 12, 12])\n",
      "start: torch.Size([64, 1, 28, 28])\n",
      "conv1: torch.Size([64, 10, 24, 24])\n",
      "pool1: torch.Size([64, 10, 12, 12])\n",
      "start: torch.Size([64, 1, 28, 28])\n"
     ]
    },
    {
     "name": "stderr",
     "output_type": "stream",
     "text": [
      "Epoch 1:   4%|█▋                                         | 37/938 [00:02<00:30, 29.18batch/s, accuracy=71.9, loss=1.07]"
     ]
    },
    {
     "name": "stdout",
     "output_type": "stream",
     "text": [
      "conv1: torch.Size([64, 10, 24, 24])\n",
      "pool1: torch.Size([64, 10, 12, 12])\n",
      "start: torch.Size([64, 1, 28, 28])\n",
      "conv1: torch.Size([64, 10, 24, 24])\n",
      "pool1: torch.Size([64, 10, 12, 12])\n",
      "start: torch.Size([64, 1, 28, 28])\n",
      "conv1: torch.Size([64, 10, 24, 24])\n",
      "pool1: torch.Size([64, 10, 12, 12])\n",
      "start: torch.Size([64, 1, 28, 28])\n",
      "conv1: torch.Size([64, 10, 24, 24])\n",
      "pool1: torch.Size([64, 10, 12, 12])\n",
      "start: torch.Size([64, 1, 28, 28])\n",
      "conv1: torch.Size([64, 10, 24, 24])\n",
      "pool1: torch.Size([64, 10, 12, 12])\n",
      "start: torch.Size([64, 1, 28, 28])\n",
      "conv1: torch.Size([64, 10, 24, 24])\n"
     ]
    },
    {
     "name": "stderr",
     "output_type": "stream",
     "text": [
      "Epoch 1:   5%|█▉                                        | 44/938 [00:02<00:31, 28.38batch/s, accuracy=81.2, loss=0.613]"
     ]
    },
    {
     "name": "stdout",
     "output_type": "stream",
     "text": [
      "pool1: torch.Size([64, 10, 12, 12])\n",
      "start: torch.Size([64, 1, 28, 28])\n",
      "conv1: torch.Size([64, 10, 24, 24])\n",
      "pool1: torch.Size([64, 10, 12, 12])\n",
      "start: torch.Size([64, 1, 28, 28])\n",
      "conv1: torch.Size([64, 10, 24, 24])\n",
      "pool1: torch.Size([64, 10, 12, 12])\n",
      "start: torch.Size([64, 1, 28, 28])\n",
      "conv1: torch.Size([64, 10, 24, 24])\n",
      "pool1: torch.Size([64, 10, 12, 12])\n",
      "start: torch.Size([64, 1, 28, 28])\n",
      "conv1: torch.Size([64, 10, 24, 24])\n",
      "pool1: torch.Size([64, 10, 12, 12])\n",
      "start: torch.Size([64, 1, 28, 28])\n",
      "conv1: torch.Size([64, 10, 24, 24])\n",
      "pool1: torch.Size([64, 10, 12, 12])\n"
     ]
    },
    {
     "name": "stderr",
     "output_type": "stream",
     "text": [
      "Epoch 1:   5%|██▏                                       | 50/938 [00:02<00:31, 28.49batch/s, accuracy=89.1, loss=0.438]"
     ]
    },
    {
     "name": "stdout",
     "output_type": "stream",
     "text": [
      "start: torch.Size([64, 1, 28, 28])\n",
      "conv1: torch.Size([64, 10, 24, 24])\n",
      "pool1: torch.Size([64, 10, 12, 12])\n",
      "start: torch.Size([64, 1, 28, 28])\n",
      "conv1: torch.Size([64, 10, 24, 24])\n",
      "pool1: torch.Size([64, 10, 12, 12])\n",
      "start: torch.Size([64, 1, 28, 28])\n",
      "conv1: torch.Size([64, 10, 24, 24])\n",
      "pool1: torch.Size([64, 10, 12, 12])\n",
      "start: torch.Size([64, 1, 28, 28])\n",
      "conv1: torch.Size([64, 10, 24, 24])\n",
      "pool1: torch.Size([64, 10, 12, 12])\n",
      "start: torch.Size([64, 1, 28, 28])\n",
      "conv1: torch.Size([64, 10, 24, 24])\n",
      "pool1: torch.Size([64, 10, 12, 12])\n",
      "start: torch.Size([64, 1, 28, 28])\n",
      "conv1: torch.Size([64, 10, 24, 24])\n",
      "pool1: torch.Size([64, 10, 12, 12])\n",
      "start: torch.Size([64, 1, 28, 28])\n"
     ]
    },
    {
     "name": "stderr",
     "output_type": "stream",
     "text": [
      "Epoch 1:   6%|██▌                                       | 56/938 [00:02<00:34, 25.79batch/s, accuracy=82.8, loss=0.615]"
     ]
    },
    {
     "name": "stdout",
     "output_type": "stream",
     "text": [
      "conv1: torch.Size([64, 10, 24, 24])\n",
      "pool1: torch.Size([64, 10, 12, 12])\n",
      "start: torch.Size([64, 1, 28, 28])\n",
      "conv1: torch.Size([64, 10, 24, 24])\n",
      "pool1: torch.Size([64, 10, 12, 12])\n",
      "start: torch.Size([64, 1, 28, 28])\n",
      "conv1: torch.Size([64, 10, 24, 24])\n",
      "pool1: torch.Size([64, 10, 12, 12])\n",
      "start: torch.Size([64, 1, 28, 28])\n",
      "conv1: torch.Size([64, 10, 24, 24])\n",
      "pool1: torch.Size([64, 10, 12, 12])\n",
      "start: torch.Size([64, 1, 28, 28])\n",
      "conv1: torch.Size([64, 10, 24, 24])\n",
      "pool1: torch.Size([64, 10, 12, 12])\n"
     ]
    },
    {
     "name": "stderr",
     "output_type": "stream",
     "text": [
      "Epoch 1:   7%|██▊                                       | 63/938 [00:02<00:31, 27.99batch/s, accuracy=85.9, loss=0.577]"
     ]
    },
    {
     "name": "stdout",
     "output_type": "stream",
     "text": [
      "start: torch.Size([64, 1, 28, 28])\n",
      "conv1: torch.Size([64, 10, 24, 24])\n",
      "pool1: torch.Size([64, 10, 12, 12])\n",
      "start: torch.Size([64, 1, 28, 28])\n",
      "conv1: torch.Size([64, 10, 24, 24])\n",
      "pool1: torch.Size([64, 10, 12, 12])\n",
      "start: torch.Size([64, 1, 28, 28])\n",
      "conv1: torch.Size([64, 10, 24, 24])\n",
      "pool1: torch.Size([64, 10, 12, 12])\n",
      "start: torch.Size([64, 1, 28, 28])\n",
      "conv1: torch.Size([64, 10, 24, 24])\n",
      "pool1: torch.Size([64, 10, 12, 12])\n",
      "start: torch.Size([64, 1, 28, 28])\n",
      "conv1: torch.Size([64, 10, 24, 24])\n",
      "pool1: torch.Size([64, 10, 12, 12])\n",
      "start: torch.Size([64, 1, 28, 28])\n",
      "conv1: torch.Size([64, 10, 24, 24])\n",
      "pool1: torch.Size([64, 10, 12, 12])\n"
     ]
    },
    {
     "name": "stderr",
     "output_type": "stream",
     "text": [
      "Epoch 1:   7%|███                                       | 67/938 [00:03<00:29, 29.58batch/s, accuracy=84.4, loss=0.512]"
     ]
    },
    {
     "name": "stdout",
     "output_type": "stream",
     "text": [
      "start: torch.Size([64, 1, 28, 28])\n",
      "conv1: torch.Size([64, 10, 24, 24])\n",
      "pool1: torch.Size([64, 10, 12, 12])\n",
      "start: torch.Size([64, 1, 28, 28])\n",
      "conv1: torch.Size([64, 10, 24, 24])\n",
      "pool1: torch.Size([64, 10, 12, 12])\n",
      "start: torch.Size([64, 1, 28, 28])\n",
      "conv1: torch.Size([64, 10, 24, 24])\n",
      "pool1: torch.Size([64, 10, 12, 12])\n",
      "start: torch.Size([64, 1, 28, 28])\n",
      "conv1: torch.Size([64, 10, 24, 24])\n",
      "pool1: torch.Size([64, 10, 12, 12])\n",
      "start: torch.Size([64, 1, 28, 28])\n",
      "conv1: torch.Size([64, 10, 24, 24])\n",
      "pool1: torch.Size([64, 10, 12, 12])\n",
      "start: torch.Size([64, 1, 28, 28])\n",
      "conv1: torch.Size([64, 10, 24, 24])\n",
      "pool1: torch.Size([64, 10, 12, 12])\n",
      "start: torch.Size([64, 1, 28, 28])\n",
      "conv1: torch.Size([64, 10, 24, 24])\n",
      "pool1: torch.Size([64, 10, 12, 12])\n"
     ]
    },
    {
     "name": "stderr",
     "output_type": "stream",
     "text": [
      "Epoch 1:   8%|███▎                                      | 75/938 [00:03<00:28, 30.51batch/s, accuracy=90.6, loss=0.321]"
     ]
    },
    {
     "name": "stdout",
     "output_type": "stream",
     "text": [
      "start: torch.Size([64, 1, 28, 28])\n",
      "conv1: torch.Size([64, 10, 24, 24])\n",
      "pool1: torch.Size([64, 10, 12, 12])\n",
      "start: torch.Size([64, 1, 28, 28])\n",
      "conv1: torch.Size([64, 10, 24, 24])\n",
      "pool1: torch.Size([64, 10, 12, 12])\n",
      "start: torch.Size([64, 1, 28, 28])\n",
      "conv1: torch.Size([64, 10, 24, 24])\n",
      "pool1: torch.Size([64, 10, 12, 12])\n",
      "start: torch.Size([64, 1, 28, 28])\n",
      "conv1: torch.Size([64, 10, 24, 24])\n",
      "pool1: torch.Size([64, 10, 12, 12])\n",
      "start: torch.Size([64, 1, 28, 28])\n",
      "conv1: torch.Size([64, 10, 24, 24])\n",
      "pool1: torch.Size([64, 10, 12, 12])\n",
      "start: torch.Size([64, 1, 28, 28])\n",
      "conv1: torch.Size([64, 10, 24, 24])\n",
      "pool1: torch.Size([64, 10, 12, 12])\n",
      "start: torch.Size([64, 1, 28, 28])\n",
      "conv1: torch.Size([64, 10, 24, 24])\n",
      "pool1: torch.Size([64, 10, 12, 12])\n",
      "start: torch.Size([64, 1, 28, 28])\n",
      "conv1: torch.Size([64, 10, 24, 24])\n",
      "pool1: torch.Size([64, 10, 12, 12])\n"
     ]
    },
    {
     "name": "stderr",
     "output_type": "stream",
     "text": [
      "Epoch 1:   9%|███▋                                      | 83/938 [00:03<00:25, 33.53batch/s, accuracy=84.4, loss=0.399]"
     ]
    },
    {
     "name": "stdout",
     "output_type": "stream",
     "text": [
      "start: torch.Size([64, 1, 28, 28])\n",
      "conv1: torch.Size([64, 10, 24, 24])\n",
      "pool1: torch.Size([64, 10, 12, 12])\n",
      "start: torch.Size([64, 1, 28, 28])\n",
      "conv1: torch.Size([64, 10, 24, 24])\n",
      "pool1: torch.Size([64, 10, 12, 12])\n",
      "start: torch.Size([64, 1, 28, 28])\n",
      "conv1: torch.Size([64, 10, 24, 24])\n",
      "pool1: torch.Size([64, 10, 12, 12])\n",
      "start: torch.Size([64, 1, 28, 28])\n",
      "conv1: torch.Size([64, 10, 24, 24])\n",
      "pool1: torch.Size([64, 10, 12, 12])\n",
      "start: torch.Size([64, 1, 28, 28])\n",
      "conv1: torch.Size([64, 10, 24, 24])\n",
      "pool1: torch.Size([64, 10, 12, 12])\n",
      "start: torch.Size([64, 1, 28, 28])\n",
      "conv1: torch.Size([64, 10, 24, 24])\n",
      "pool1: torch.Size([64, 10, 12, 12])\n",
      "start: torch.Size([64, 1, 28, 28])\n",
      "conv1: torch.Size([64, 10, 24, 24])\n",
      "pool1: torch.Size([64, 10, 12, 12])\n"
     ]
    },
    {
     "name": "stderr",
     "output_type": "stream",
     "text": [
      "Epoch 1:  10%|████                                      | 91/938 [00:03<00:26, 32.48batch/s, accuracy=84.4, loss=0.419]"
     ]
    },
    {
     "name": "stdout",
     "output_type": "stream",
     "text": [
      "start: torch.Size([64, 1, 28, 28])\n",
      "conv1: torch.Size([64, 10, 24, 24])\n",
      "pool1: torch.Size([64, 10, 12, 12])\n",
      "start: torch.Size([64, 1, 28, 28])\n",
      "conv1: torch.Size([64, 10, 24, 24])\n",
      "pool1: torch.Size([64, 10, 12, 12])\n",
      "start: torch.Size([64, 1, 28, 28])\n",
      "conv1: torch.Size([64, 10, 24, 24])\n",
      "pool1: torch.Size([64, 10, 12, 12])\n",
      "start: torch.Size([64, 1, 28, 28])\n",
      "conv1: torch.Size([64, 10, 24, 24])\n",
      "pool1: torch.Size([64, 10, 12, 12])\n",
      "start: torch.Size([64, 1, 28, 28])\n",
      "conv1: torch.Size([64, 10, 24, 24])\n",
      "pool1: torch.Size([64, 10, 12, 12])\n",
      "start: torch.Size([64, 1, 28, 28])\n",
      "conv1: torch.Size([64, 10, 24, 24])\n",
      "pool1: torch.Size([64, 10, 12, 12])\n",
      "start: torch.Size([64, 1, 28, 28])\n"
     ]
    },
    {
     "name": "stderr",
     "output_type": "stream",
     "text": [
      "Epoch 1:  10%|████▎                                     | 95/938 [00:03<00:25, 33.68batch/s, accuracy=90.6, loss=0.434]"
     ]
    },
    {
     "name": "stdout",
     "output_type": "stream",
     "text": [
      "conv1: torch.Size([64, 10, 24, 24])\n",
      "pool1: torch.Size([64, 10, 12, 12])\n",
      "start: torch.Size([64, 1, 28, 28])\n",
      "conv1: torch.Size([64, 10, 24, 24])\n",
      "pool1: torch.Size([64, 10, 12, 12])\n",
      "start: torch.Size([64, 1, 28, 28])\n",
      "conv1: torch.Size([64, 10, 24, 24])\n",
      "pool1: torch.Size([64, 10, 12, 12])\n",
      "start: torch.Size([64, 1, 28, 28])\n",
      "conv1: torch.Size([64, 10, 24, 24])\n",
      "pool1: torch.Size([64, 10, 12, 12])\n",
      "start: torch.Size([64, 1, 28, 28])\n",
      "conv1: torch.Size([64, 10, 24, 24])\n",
      "pool1: torch.Size([64, 10, 12, 12])\n",
      "start: torch.Size([64, 1, 28, 28])\n",
      "conv1: torch.Size([64, 10, 24, 24])\n",
      "pool1: torch.Size([64, 10, 12, 12])\n",
      "start: torch.Size([64, 1, 28, 28])\n",
      "conv1: torch.Size([64, 10, 24, 24])\n",
      "pool1: torch.Size([64, 10, 12, 12])\n",
      "start: "
     ]
    },
    {
     "name": "stderr",
     "output_type": "stream",
     "text": [
      "Epoch 1:  11%|████▌                                    | 103/938 [00:04<00:24, 34.68batch/s, accuracy=81.2, loss=0.479]"
     ]
    },
    {
     "name": "stdout",
     "output_type": "stream",
     "text": [
      "torch.Size([64, 1, 28, 28])\n",
      "conv1: torch.Size([64, 10, 24, 24])\n",
      "pool1: torch.Size([64, 10, 12, 12])\n",
      "start: torch.Size([64, 1, 28, 28])\n",
      "conv1: torch.Size([64, 10, 24, 24])\n",
      "pool1: torch.Size([64, 10, 12, 12])\n",
      "start: torch.Size([64, 1, 28, 28])\n",
      "conv1: torch.Size([64, 10, 24, 24])\n",
      "pool1: torch.Size([64, 10, 12, 12])\n",
      "start: torch.Size([64, 1, 28, 28])\n",
      "conv1: torch.Size([64, 10, 24, 24])\n",
      "pool1: torch.Size([64, 10, 12, 12])\n",
      "start: torch.Size([64, 1, 28, 28])\n",
      "conv1: torch.Size([64, 10, 24, 24])\n",
      "pool1: torch.Size([64, 10, 12, 12])\n",
      "start: torch.Size([64, 1, 28, 28])\n",
      "conv1: torch.Size([64, 10, 24, 24])\n",
      "pool1: torch.Size([64, 10, 12, 12])\n",
      "start: torch.Size([64, 1, 28, 28])\n",
      "conv1: torch.Size([64, 10, 24, 24])\n",
      "pool1: torch.Size([64, 10, 12, 12])\n"
     ]
    },
    {
     "name": "stderr",
     "output_type": "stream",
     "text": [
      "Epoch 1:  12%|████▊                                    | 111/938 [00:04<00:24, 34.09batch/s, accuracy=84.4, loss=0.435]"
     ]
    },
    {
     "name": "stdout",
     "output_type": "stream",
     "text": [
      "start: torch.Size([64, 1, 28, 28])\n",
      "conv1: torch.Size([64, 10, 24, 24])\n",
      "pool1: torch.Size([64, 10, 12, 12])\n",
      "start: torch.Size([64, 1, 28, 28])\n",
      "conv1: torch.Size([64, 10, 24, 24])\n",
      "pool1: torch.Size([64, 10, 12, 12])\n",
      "start: torch.Size([64, 1, 28, 28])\n",
      "conv1: torch.Size([64, 10, 24, 24])\n",
      "pool1: torch.Size([64, 10, 12, 12])\n",
      "start: torch.Size([64, 1, 28, 28])\n",
      "conv1: torch.Size([64, 10, 24, 24])\n",
      "pool1: torch.Size([64, 10, 12, 12])\n",
      "start: torch.Size([64, 1, 28, 28])\n",
      "conv1: torch.Size([64, 10, 24, 24])\n",
      "pool1: torch.Size([64, 10, 12, 12])\n",
      "start: torch.Size([64, 1, 28, 28])\n",
      "conv1: torch.Size([64, 10, 24, 24])\n",
      "pool1: torch.Size([64, 10, 12, 12])\n",
      "start: torch.Size([64, 1, 28, 28])\n",
      "conv1: torch.Size([64, 10, 24, 24])\n",
      "pool1: torch.Size([64, 10, 12, 12])\n"
     ]
    },
    {
     "name": "stderr",
     "output_type": "stream",
     "text": [
      "Epoch 1:  12%|█████                                    | 115/938 [00:04<00:24, 33.21batch/s, accuracy=81.2, loss=0.482]"
     ]
    },
    {
     "name": "stdout",
     "output_type": "stream",
     "text": [
      "start: torch.Size([64, 1, 28, 28])\n",
      "conv1: torch.Size([64, 10, 24, 24])\n",
      "pool1: torch.Size([64, 10, 12, 12])\n",
      "start: torch.Size([64, 1, 28, 28])\n",
      "conv1: torch.Size([64, 10, 24, 24])\n",
      "pool1: torch.Size([64, 10, 12, 12])\n",
      "start: torch.Size([64, 1, 28, 28])\n",
      "conv1: torch.Size([64, 10, 24, 24])\n",
      "pool1: torch.Size([64, 10, 12, 12])\n",
      "start: torch.Size([64, 1, 28, 28])\n",
      "conv1: torch.Size([64, 10, 24, 24])\n",
      "pool1: torch.Size([64, 10, 12, 12])\n",
      "start: torch.Size([64, 1, 28, 28])\n",
      "conv1: torch.Size([64, 10, 24, 24])\n",
      "pool1: torch.Size([64, 10, 12, 12])\n",
      "start: torch.Size([64, 1, 28, 28])\n",
      "conv1: torch.Size([64, 10, 24, 24])\n",
      "pool1: torch.Size([64, 10, 12, 12])\n",
      "start: torch.Size([64, 1, 28, 28])\n",
      "conv1: torch.Size([64, 10, 24, 24])\n",
      "pool1: torch.Size([64, 10, 12, 12])\n"
     ]
    },
    {
     "name": "stderr",
     "output_type": "stream",
     "text": [
      "Epoch 1:  13%|█████▍                                   | 124/938 [00:04<00:22, 35.50batch/s, accuracy=90.6, loss=0.379]"
     ]
    },
    {
     "name": "stdout",
     "output_type": "stream",
     "text": [
      "start: torch.Size([64, 1, 28, 28])\n",
      "conv1: torch.Size([64, 10, 24, 24])\n",
      "pool1: torch.Size([64, 10, 12, 12])\n",
      "start: torch.Size([64, 1, 28, 28])\n",
      "conv1: torch.Size([64, 10, 24, 24])\n",
      "pool1: torch.Size([64, 10, 12, 12])\n",
      "start: torch.Size([64, 1, 28, 28])\n",
      "conv1: torch.Size([64, 10, 24, 24])\n",
      "pool1: torch.Size([64, 10, 12, 12])\n",
      "start: torch.Size([64, 1, 28, 28])\n",
      "conv1: torch.Size([64, 10, 24, 24])\n",
      "pool1: torch.Size([64, 10, 12, 12])\n",
      "start: torch.Size([64, 1, 28, 28])\n",
      "conv1: torch.Size([64, 10, 24, 24])\n",
      "pool1: torch.Size([64, 10, 12, 12])\n",
      "start: torch.Size([64, 1, 28, 28])\n",
      "conv1: torch.Size([64, 10, 24, 24])\n",
      "pool1: torch.Size([64, 10, 12, 12])\n",
      "start: torch.Size([64, 1, 28, 28])\n",
      "conv1: torch.Size([64, 10, 24, 24])\n",
      "pool1: torch.Size([64, 10, 12, 12])\n",
      "start: torch.Size([64, 1, 28, 28])\n"
     ]
    },
    {
     "name": "stderr",
     "output_type": "stream",
     "text": [
      "Epoch 1:  14%|█████▊                                   | 132/938 [00:04<00:22, 36.41batch/s, accuracy=89.1, loss=0.315]"
     ]
    },
    {
     "name": "stdout",
     "output_type": "stream",
     "text": [
      "conv1: torch.Size([64, 10, 24, 24])\n",
      "pool1: torch.Size([64, 10, 12, 12])\n",
      "start: torch.Size([64, 1, 28, 28])\n",
      "conv1: torch.Size([64, 10, 24, 24])\n",
      "pool1: torch.Size([64, 10, 12, 12])\n",
      "start: torch.Size([64, 1, 28, 28])\n",
      "conv1: torch.Size([64, 10, 24, 24])\n",
      "pool1: torch.Size([64, 10, 12, 12])\n",
      "start: torch.Size([64, 1, 28, 28])\n",
      "conv1: torch.Size([64, 10, 24, 24])\n",
      "pool1: torch.Size([64, 10, 12, 12])\n",
      "start: torch.Size([64, 1, 28, 28])\n",
      "conv1: torch.Size([64, 10, 24, 24])\n",
      "pool1: torch.Size([64, 10, 12, 12])\n",
      "start: torch.Size([64, 1, 28, 28])\n",
      "conv1: torch.Size([64, 10, 24, 24])\n",
      "pool1: torch.Size([64, 10, 12, 12])\n",
      "start: torch.Size([64, 1, 28, 28])\n",
      "conv1: torch.Size([64, 10, 24, 24])\n",
      "pool1: torch.Size([64, 10, 12, 12])\n",
      "start: torch.Size([64, 1, 28, 28])\n"
     ]
    },
    {
     "name": "stderr",
     "output_type": "stream",
     "text": [
      "Epoch 1:  14%|█████▉                                   | 136/938 [00:05<00:22, 35.66batch/s, accuracy=85.9, loss=0.489]"
     ]
    },
    {
     "name": "stdout",
     "output_type": "stream",
     "text": [
      "conv1: torch.Size([64, 10, 24, 24])\n",
      "pool1: torch.Size([64, 10, 12, 12])\n",
      "start: torch.Size([64, 1, 28, 28])\n",
      "conv1: torch.Size([64, 10, 24, 24])\n",
      "pool1: torch.Size([64, 10, 12, 12])\n",
      "start: torch.Size([64, 1, 28, 28])\n",
      "conv1: torch.Size([64, 10, 24, 24])\n",
      "pool1: torch.Size([64, 10, 12, 12])\n",
      "start: torch.Size([64, 1, 28, 28])\n",
      "conv1: torch.Size([64, 10, 24, 24])\n",
      "pool1: torch.Size([64, 10, 12, 12])\n",
      "start: torch.Size([64, 1, 28, 28])\n",
      "conv1: torch.Size([64, 10, 24, 24])\n",
      "pool1: torch.Size([64, 10, 12, 12])\n",
      "start: torch.Size([64, 1, 28, 28])\n",
      "conv1: torch.Size([64, 10, 24, 24])\n",
      "pool1: torch.Size([64, 10, 12, 12])\n",
      "start: torch.Size([64, 1, 28, 28])\n",
      "conv1: torch.Size([64, 10, 24, 24])\n",
      "pool1: torch.Size([64, 10, 12, 12])\n"
     ]
    },
    {
     "name": "stderr",
     "output_type": "stream",
     "text": [
      "Epoch 1:  15%|██████▎                                  | 144/938 [00:05<00:21, 36.85batch/s, accuracy=89.1, loss=0.553]"
     ]
    },
    {
     "name": "stdout",
     "output_type": "stream",
     "text": [
      "start: torch.Size([64, 1, 28, 28])\n",
      "conv1: torch.Size([64, 10, 24, 24])\n",
      "pool1: torch.Size([64, 10, 12, 12])\n",
      "start: torch.Size([64, 1, 28, 28])\n",
      "conv1: torch.Size([64, 10, 24, 24])\n",
      "pool1: torch.Size([64, 10, 12, 12])\n",
      "start: torch.Size([64, 1, 28, 28])\n",
      "conv1: torch.Size([64, 10, 24, 24])\n",
      "pool1: torch.Size([64, 10, 12, 12])\n",
      "start: torch.Size([64, 1, 28, 28])\n",
      "conv1: torch.Size([64, 10, 24, 24])\n",
      "pool1: torch.Size([64, 10, 12, 12])\n",
      "start: torch.Size([64, 1, 28, 28])\n",
      "conv1: torch.Size([64, 10, 24, 24])\n",
      "pool1: torch.Size([64, 10, 12, 12])\n",
      "start: torch.Size([64, 1, 28, 28])\n",
      "conv1: torch.Size([64, 10, 24, 24])\n",
      "pool1: torch.Size([64, 10, 12, 12])\n",
      "start: torch.Size([64, 1, 28, 28])\n",
      "conv1: torch.Size([64, 10, 24, 24])\n",
      "pool1: torch.Size([64, 10, 12, 12])\n",
      "start: torch.Size([64, 1, 28, 28])\n",
      "conv1: torch.Size([64, 10, 24, 24])\n"
     ]
    },
    {
     "name": "stderr",
     "output_type": "stream",
     "text": [
      "Epoch 1:  16%|██████▋                                  | 152/938 [00:05<00:21, 37.03batch/s, accuracy=96.9, loss=0.147]"
     ]
    },
    {
     "name": "stdout",
     "output_type": "stream",
     "text": [
      "pool1: torch.Size([64, 10, 12, 12])\n",
      "start: torch.Size([64, 1, 28, 28])\n",
      "conv1: torch.Size([64, 10, 24, 24])\n",
      "pool1: torch.Size([64, 10, 12, 12])\n",
      "start: torch.Size([64, 1, 28, 28])\n",
      "conv1: torch.Size([64, 10, 24, 24])\n",
      "pool1: torch.Size([64, 10, 12, 12])\n",
      "start: torch.Size([64, 1, 28, 28])\n",
      "conv1: torch.Size([64, 10, 24, 24])\n",
      "pool1: torch.Size([64, 10, 12, 12])\n",
      "start: torch.Size([64, 1, 28, 28])\n",
      "conv1: torch.Size([64, 10, 24, 24])\n",
      "pool1: torch.Size([64, 10, 12, 12])\n",
      "start: torch.Size([64, 1, 28, 28])\n",
      "conv1: torch.Size([64, 10, 24, 24])\n",
      "pool1: torch.Size([64, 10, 12, 12])\n",
      "start: torch.Size([64, 1, 28, 28])\n",
      "conv1: torch.Size([64, 10, 24, 24])\n",
      "pool1: torch.Size([64, 10, 12, 12])\n",
      "start: torch.Size([64, 1, 28, 28])\n",
      "conv1: torch.Size([64, 10, 24, 24])\n"
     ]
    },
    {
     "name": "stderr",
     "output_type": "stream",
     "text": [
      "Epoch 1:  17%|██████▉                                  | 160/938 [00:05<00:21, 36.25batch/s, accuracy=84.4, loss=0.353]"
     ]
    },
    {
     "name": "stdout",
     "output_type": "stream",
     "text": [
      "pool1: torch.Size([64, 10, 12, 12])\n",
      "start: torch.Size([64, 1, 28, 28])\n",
      "conv1: torch.Size([64, 10, 24, 24])\n",
      "pool1: torch.Size([64, 10, 12, 12])\n",
      "start: torch.Size([64, 1, 28, 28])\n",
      "conv1: torch.Size([64, 10, 24, 24])\n",
      "pool1: torch.Size([64, 10, 12, 12])\n",
      "start: torch.Size([64, 1, 28, 28])\n",
      "conv1: torch.Size([64, 10, 24, 24])\n",
      "pool1: torch.Size([64, 10, 12, 12])\n",
      "start: torch.Size([64, 1, 28, 28])\n",
      "conv1: torch.Size([64, 10, 24, 24])\n",
      "pool1: torch.Size([64, 10, 12, 12])\n",
      "start: torch.Size([64, 1, 28, 28])\n",
      "conv1: torch.Size([64, 10, 24, 24])\n",
      "pool1: torch.Size([64, 10, 12, 12])\n",
      "start: torch.Size([64, 1, 28, 28])\n",
      "conv1: torch.Size([64, 10, 24, 24])\n",
      "pool1: torch.Size([64, 10, 12, 12])\n",
      "start: torch.Size([64, 1, 28, 28])\n"
     ]
    },
    {
     "name": "stderr",
     "output_type": "stream",
     "text": [
      "Epoch 1:  18%|███████▏                                 | 165/938 [00:05<00:20, 38.20batch/s, accuracy=82.8, loss=0.528]"
     ]
    },
    {
     "name": "stdout",
     "output_type": "stream",
     "text": [
      "conv1: torch.Size([64, 10, 24, 24])\n",
      "pool1: torch.Size([64, 10, 12, 12])\n",
      "start: torch.Size([64, 1, 28, 28])\n",
      "conv1: torch.Size([64, 10, 24, 24])\n",
      "pool1: torch.Size([64, 10, 12, 12])\n",
      "start: torch.Size([64, 1, 28, 28])\n",
      "conv1: torch.Size([64, 10, 24, 24])\n",
      "pool1: torch.Size([64, 10, 12, 12])\n",
      "start: torch.Size([64, 1, 28, 28])\n",
      "conv1: torch.Size([64, 10, 24, 24])\n",
      "pool1: torch.Size([64, 10, 12, 12])\n",
      "start: torch.Size([64, 1, 28, 28])\n",
      "conv1: torch.Size([64, 10, 24, 24])\n",
      "pool1: torch.Size([64, 10, 12, 12])\n",
      "start: torch.Size([64, 1, 28, 28])\n",
      "conv1: torch.Size([64, 10, 24, 24])\n",
      "pool1: torch.Size([64, 10, 12, 12])\n",
      "start: torch.Size([64, 1, 28, 28])\n",
      "conv1: torch.Size([64, 10, 24, 24])\n",
      "pool1: torch.Size([64, 10, 12, 12])\n",
      "start: torch.Size([64, 1, 28, 28])\n",
      "conv1: torch.Size([64, 10, 24, 24])\n",
      "pool1: torch.Size([64, 10, 12, 12])\n"
     ]
    },
    {
     "name": "stderr",
     "output_type": "stream",
     "text": [
      "Epoch 1:  18%|███████▌                                 | 173/938 [00:06<00:20, 37.88batch/s, accuracy=93.8, loss=0.192]"
     ]
    },
    {
     "name": "stdout",
     "output_type": "stream",
     "text": [
      "start: torch.Size([64, 1, 28, 28])\n",
      "conv1: torch.Size([64, 10, 24, 24])\n",
      "pool1: torch.Size([64, 10, 12, 12])\n",
      "start: torch.Size([64, 1, 28, 28])\n",
      "conv1: torch.Size([64, 10, 24, 24])\n",
      "pool1: torch.Size([64, 10, 12, 12])\n",
      "start: torch.Size([64, 1, 28, 28])\n",
      "conv1: torch.Size([64, 10, 24, 24])\n",
      "pool1: torch.Size([64, 10, 12, 12])\n",
      "start: torch.Size([64, 1, 28, 28])\n",
      "conv1: torch.Size([64, 10, 24, 24])\n",
      "pool1: torch.Size([64, 10, 12, 12])\n",
      "start: torch.Size([64, 1, 28, 28])\n",
      "conv1: torch.Size([64, 10, 24, 24])\n",
      "pool1: torch.Size([64, 10, 12, 12])\n",
      "start: torch.Size([64, 1, 28, 28])\n",
      "conv1: torch.Size([64, 10, 24, 24])\n",
      "pool1: torch.Size([64, 10, 12, 12])\n",
      "start: torch.Size([64, 1, 28, 28])\n",
      "conv1: torch.Size([64, 10, 24, 24])\n",
      "pool1: torch.Size([64, 10, 12, 12])\n",
      "start: torch.Size([64, 1, 28, 28])\n"
     ]
    },
    {
     "name": "stderr",
     "output_type": "stream",
     "text": [
      "Epoch 1:  19%|███████▉                                 | 182/938 [00:06<00:19, 38.43batch/s, accuracy=89.1, loss=0.423]"
     ]
    },
    {
     "name": "stdout",
     "output_type": "stream",
     "text": [
      "conv1: torch.Size([64, 10, 24, 24])\n",
      "pool1: torch.Size([64, 10, 12, 12])\n",
      "start: torch.Size([64, 1, 28, 28])\n",
      "conv1: torch.Size([64, 10, 24, 24])\n",
      "pool1: torch.Size([64, 10, 12, 12])\n",
      "start: torch.Size([64, 1, 28, 28])\n",
      "conv1: torch.Size([64, 10, 24, 24])\n",
      "pool1: torch.Size([64, 10, 12, 12])\n",
      "start: torch.Size([64, 1, 28, 28])\n",
      "conv1: torch.Size([64, 10, 24, 24])\n",
      "pool1: torch.Size([64, 10, 12, 12])\n",
      "start: torch.Size([64, 1, 28, 28])\n",
      "conv1: torch.Size([64, 10, 24, 24])\n",
      "pool1: torch.Size([64, 10, 12, 12])\n",
      "start: torch.Size([64, 1, 28, 28])\n",
      "conv1: torch.Size([64, 10, 24, 24])\n",
      "pool1: torch.Size([64, 10, 12, 12])\n",
      "start: torch.Size([64, 1, 28, 28])\n",
      "conv1: torch.Size([64, 10, 24, 24])\n",
      "pool1: torch.Size([64, 10, 12, 12])\n",
      "start: torch.Size([64, 1, 28, 28])\n",
      "conv1: torch.Size([64, 10, 24, 24])\n",
      "pool1: torch.Size([64, 10, 12, 12])\n"
     ]
    },
    {
     "name": "stderr",
     "output_type": "stream",
     "text": [
      "Epoch 1:  20%|████████▎                                | 190/938 [00:06<00:19, 37.43batch/s, accuracy=85.9, loss=0.408]"
     ]
    },
    {
     "name": "stdout",
     "output_type": "stream",
     "text": [
      "start: torch.Size([64, 1, 28, 28])\n",
      "conv1: torch.Size([64, 10, 24, 24])\n",
      "pool1: torch.Size([64, 10, 12, 12])\n",
      "start: torch.Size([64, 1, 28, 28])\n",
      "conv1: torch.Size([64, 10, 24, 24])\n",
      "pool1: torch.Size([64, 10, 12, 12])\n",
      "start: torch.Size([64, 1, 28, 28])\n",
      "conv1: torch.Size([64, 10, 24, 24])\n",
      "pool1: torch.Size([64, 10, 12, 12])\n",
      "start: torch.Size([64, 1, 28, 28])\n",
      "conv1: torch.Size([64, 10, 24, 24])\n",
      "pool1: torch.Size([64, 10, 12, 12])\n",
      "start: torch.Size([64, 1, 28, 28])\n",
      "conv1: torch.Size([64, 10, 24, 24])\n",
      "pool1: torch.Size([64, 10, 12, 12])\n",
      "start: torch.Size([64, 1, 28, 28])\n",
      "conv1: torch.Size([64, 10, 24, 24])\n",
      "pool1: torch.Size([64, 10, 12, 12])\n",
      "start: torch.Size([64, 1, 28, 28])\n",
      "conv1: torch.Size([64, 10, 24, 24])\n",
      "pool1: torch.Size([64, 10, 12, 12])\n",
      "start: torch.Size([64, 1, 28, 28])"
     ]
    },
    {
     "name": "stderr",
     "output_type": "stream",
     "text": [
      "Epoch 1:  21%|████████▋                                | 198/938 [00:06<00:19, 37.27batch/s, accuracy=87.5, loss=0.415]"
     ]
    },
    {
     "name": "stdout",
     "output_type": "stream",
     "text": [
      "\n",
      "conv1: torch.Size([64, 10, 24, 24])\n",
      "pool1: torch.Size([64, 10, 12, 12])\n",
      "start: torch.Size([64, 1, 28, 28])\n",
      "conv1: torch.Size([64, 10, 24, 24])\n",
      "pool1: torch.Size([64, 10, 12, 12])\n",
      "start: torch.Size([64, 1, 28, 28])\n",
      "conv1: torch.Size([64, 10, 24, 24])\n",
      "pool1: torch.Size([64, 10, 12, 12])\n",
      "start: torch.Size([64, 1, 28, 28])\n",
      "conv1: torch.Size([64, 10, 24, 24])\n",
      "pool1: torch.Size([64, 10, 12, 12])\n",
      "start: torch.Size([64, 1, 28, 28])\n",
      "conv1: torch.Size([64, 10, 24, 24])\n",
      "pool1: torch.Size([64, 10, 12, 12])\n",
      "start: torch.Size([64, 1, 28, 28])\n",
      "conv1: torch.Size([64, 10, 24, 24])\n",
      "pool1: torch.Size([64, 10, 12, 12])\n",
      "start: torch.Size([64, 1, 28, 28])\n",
      "conv1: torch.Size([64, 10, 24, 24])\n",
      "pool1: torch.Size([64, 10, 12, 12])\n",
      "start: torch.Size([64, 1, 28, 28])\n"
     ]
    },
    {
     "name": "stderr",
     "output_type": "stream",
     "text": [
      "Epoch 1:  22%|████████▊                                | 202/938 [00:06<00:19, 37.44batch/s, accuracy=92.2, loss=0.267]"
     ]
    },
    {
     "name": "stdout",
     "output_type": "stream",
     "text": [
      "conv1: torch.Size([64, 10, 24, 24])\n",
      "pool1: torch.Size([64, 10, 12, 12])\n",
      "start: torch.Size([64, 1, 28, 28])\n",
      "conv1: torch.Size([64, 10, 24, 24])\n",
      "pool1: torch.Size([64, 10, 12, 12])\n",
      "start: torch.Size([64, 1, 28, 28])\n",
      "conv1: torch.Size([64, 10, 24, 24])\n",
      "pool1: torch.Size([64, 10, 12, 12])\n",
      "start: torch.Size([64, 1, 28, 28])\n",
      "conv1: torch.Size([64, 10, 24, 24])\n",
      "pool1: torch.Size([64, 10, 12, 12])\n",
      "start: torch.Size([64, 1, 28, 28])\n",
      "conv1: torch.Size([64, 10, 24, 24])\n",
      "pool1: torch.Size([64, 10, 12, 12])\n",
      "start: torch.Size([64, 1, 28, 28])\n",
      "conv1: torch.Size([64, 10, 24, 24])\n",
      "pool1: torch.Size([64, 10, 12, 12])\n",
      "start: torch.Size([64, 1, 28, 28])\n",
      "conv1: torch.Size([64, 10, 24, 24])\n",
      "pool1: torch.Size([64, 10, 12, 12])\n",
      "start: torch.Size([64, 1, 28, 28])\n"
     ]
    },
    {
     "name": "stderr",
     "output_type": "stream",
     "text": [
      "Epoch 1:  22%|█████████▏                               | 211/938 [00:07<00:19, 37.39batch/s, accuracy=90.6, loss=0.394]"
     ]
    },
    {
     "name": "stdout",
     "output_type": "stream",
     "text": [
      "conv1: torch.Size([64, 10, 24, 24])\n",
      "pool1: torch.Size([64, 10, 12, 12])\n",
      "start: torch.Size([64, 1, 28, 28])\n",
      "conv1: torch.Size([64, 10, 24, 24])\n",
      "pool1: torch.Size([64, 10, 12, 12])\n",
      "start: torch.Size([64, 1, 28, 28])\n",
      "conv1: torch.Size([64, 10, 24, 24])\n",
      "pool1: torch.Size([64, 10, 12, 12])\n",
      "start: torch.Size([64, 1, 28, 28])\n",
      "conv1: torch.Size([64, 10, 24, 24])\n",
      "pool1: torch.Size([64, 10, 12, 12])\n",
      "start: torch.Size([64, 1, 28, 28])\n",
      "conv1: torch.Size([64, 10, 24, 24])\n",
      "pool1: torch.Size([64, 10, 12, 12])\n",
      "start: torch.Size([64, 1, 28, 28])\n",
      "conv1: torch.Size([64, 10, 24, 24])\n",
      "pool1: torch.Size([64, 10, 12, 12])\n",
      "start: torch.Size([64, 1, 28, 28])\n",
      "conv1: torch.Size([64, 10, 24, 24])\n",
      "pool1: torch.Size([64, 10, 12, 12])\n",
      "start: torch.Size([64, 1, 28, 28])\n",
      "conv1: torch.Size([64, 10, 24, 24])\n",
      "pool1: torch.Size([64, 10, 12, 12])\n"
     ]
    },
    {
     "name": "stderr",
     "output_type": "stream",
     "text": [
      "Epoch 1:  23%|█████████▌                               | 220/938 [00:07<00:18, 38.55batch/s, accuracy=90.6, loss=0.333]"
     ]
    },
    {
     "name": "stdout",
     "output_type": "stream",
     "text": [
      "start: torch.Size([64, 1, 28, 28])\n",
      "conv1: torch.Size([64, 10, 24, 24])\n",
      "pool1: torch.Size([64, 10, 12, 12])\n",
      "start: torch.Size([64, 1, 28, 28])\n",
      "conv1: torch.Size([64, 10, 24, 24])\n",
      "pool1: torch.Size([64, 10, 12, 12])\n",
      "start: torch.Size([64, 1, 28, 28])\n",
      "conv1: torch.Size([64, 10, 24, 24])\n",
      "pool1: torch.Size([64, 10, 12, 12])\n",
      "start: torch.Size([64, 1, 28, 28])\n",
      "conv1: torch.Size([64, 10, 24, 24])\n",
      "pool1: torch.Size([64, 10, 12, 12])\n",
      "start: torch.Size([64, 1, 28, 28])\n",
      "conv1: torch.Size([64, 10, 24, 24])\n",
      "pool1: torch.Size([64, 10, 12, 12])\n",
      "start: torch.Size([64, 1, 28, 28])\n",
      "conv1: torch.Size([64, 10, 24, 24])\n",
      "pool1: torch.Size([64, 10, 12, 12])\n",
      "start: torch.Size([64, 1, 28, 28])\n",
      "conv1: torch.Size([64, 10, 24, 24])\n",
      "pool1: torch.Size([64, 10, 12, 12])\n",
      "start: torch.Size([64, 1, 28, 28])\n",
      "conv1: torch.Size([64, 10, 24, 24])\n",
      "pool1: torch.Size([64, 10, 12, 12])\n"
     ]
    },
    {
     "name": "stderr",
     "output_type": "stream",
     "text": [
      "Epoch 1:  24%|█████████▊                               | 224/938 [00:07<00:18, 38.14batch/s, accuracy=92.2, loss=0.193]"
     ]
    },
    {
     "name": "stdout",
     "output_type": "stream",
     "text": [
      "start: torch.Size([64, 1, 28, 28])\n",
      "conv1: torch.Size([64, 10, 24, 24])\n",
      "pool1: torch.Size([64, 10, 12, 12])\n",
      "start: torch.Size([64, 1, 28, 28])\n",
      "conv1: torch.Size([64, 10, 24, 24])\n",
      "pool1: torch.Size([64, 10, 12, 12])\n",
      "start: torch.Size([64, 1, 28, 28])\n",
      "conv1: torch.Size([64, 10, 24, 24])\n",
      "pool1: torch.Size([64, 10, 12, 12])\n",
      "start: torch.Size([64, 1, 28, 28])\n",
      "conv1: torch.Size([64, 10, 24, 24])\n",
      "pool1: torch.Size([64, 10, 12, 12])\n",
      "start: torch.Size([64, 1, 28, 28])\n",
      "conv1: torch.Size([64, 10, 24, 24])\n",
      "pool1: torch.Size([64, 10, 12, 12])\n",
      "start: torch.Size([64, 1, 28, 28])\n",
      "conv1: torch.Size([64, 10, 24, 24])\n",
      "pool1: torch.Size([64, 10, 12, 12])\n",
      "start: torch.Size([64, 1, 28, 28])\n",
      "conv1: torch.Size([64, 10, 24, 24])\n",
      "pool1: torch.Size([64, 10, 12, 12])\n"
     ]
    },
    {
     "name": "stderr",
     "output_type": "stream",
     "text": [
      "Epoch 1:  25%|██████████▏                              | 232/938 [00:07<00:19, 37.11batch/s, accuracy=89.1, loss=0.387]"
     ]
    },
    {
     "name": "stdout",
     "output_type": "stream",
     "text": [
      "start: torch.Size([64, 1, 28, 28])\n",
      "conv1: torch.Size([64, 10, 24, 24])\n",
      "pool1: torch.Size([64, 10, 12, 12])\n",
      "start: torch.Size([64, 1, 28, 28])\n",
      "conv1: torch.Size([64, 10, 24, 24])\n",
      "pool1: torch.Size([64, 10, 12, 12])\n",
      "start: torch.Size([64, 1, 28, 28])\n",
      "conv1: torch.Size([64, 10, 24, 24])\n",
      "pool1: torch.Size([64, 10, 12, 12])\n",
      "start: torch.Size([64, 1, 28, 28])\n",
      "conv1: torch.Size([64, 10, 24, 24])\n",
      "pool1: torch.Size([64, 10, 12, 12])\n",
      "start: torch.Size([64, 1, 28, 28])\n",
      "conv1: torch.Size([64, 10, 24, 24])\n",
      "pool1: torch.Size([64, 10, 12, 12])\n",
      "start: torch.Size([64, 1, 28, 28])\n",
      "conv1: torch.Size([64, 10, 24, 24])\n",
      "pool1: torch.Size([64, 10, 12, 12])\n",
      "start: torch.Size([64, 1, 28, 28])\n",
      "conv1: torch.Size([64, 10, 24, 24])\n",
      "pool1: torch.Size([64, 10, 12, 12])\n",
      "start: torch.Size([64, 1, 28, 28])\n"
     ]
    },
    {
     "name": "stderr",
     "output_type": "stream",
     "text": [
      "Epoch 1:  26%|██████████▍                              | 240/938 [00:07<00:19, 36.19batch/s, accuracy=92.2, loss=0.314]"
     ]
    },
    {
     "name": "stdout",
     "output_type": "stream",
     "text": [
      "conv1: torch.Size([64, 10, 24, 24])\n",
      "pool1: torch.Size([64, 10, 12, 12])\n",
      "start: torch.Size([64, 1, 28, 28])\n",
      "conv1: torch.Size([64, 10, 24, 24])\n",
      "pool1: torch.Size([64, 10, 12, 12])\n",
      "start: torch.Size([64, 1, 28, 28])\n",
      "conv1: torch.Size([64, 10, 24, 24])\n",
      "pool1: torch.Size([64, 10, 12, 12])\n",
      "start: torch.Size([64, 1, 28, 28])\n",
      "conv1: torch.Size([64, 10, 24, 24])\n",
      "pool1: torch.Size([64, 10, 12, 12])\n",
      "start: torch.Size([64, 1, 28, 28])\n",
      "conv1: torch.Size([64, 10, 24, 24])\n",
      "pool1: torch.Size([64, 10, 12, 12])\n",
      "start: torch.Size([64, 1, 28, 28])\n",
      "conv1: torch.Size([64, 10, 24, 24])\n",
      "pool1: torch.Size([64, 10, 12, 12])\n",
      "start: torch.Size([64, 1, 28, 28])\n",
      "conv1: torch.Size([64, 10, 24, 24])\n",
      "pool1: torch.Size([64, 10, 12, 12])\n"
     ]
    },
    {
     "name": "stderr",
     "output_type": "stream",
     "text": [
      "Epoch 1:  26%|██████████▊                              | 248/938 [00:08<00:18, 36.66batch/s, accuracy=82.8, loss=0.483]"
     ]
    },
    {
     "name": "stdout",
     "output_type": "stream",
     "text": [
      "start: torch.Size([64, 1, 28, 28])\n",
      "conv1: torch.Size([64, 10, 24, 24])\n",
      "pool1: torch.Size([64, 10, 12, 12])\n",
      "start: torch.Size([64, 1, 28, 28])\n",
      "conv1: torch.Size([64, 10, 24, 24])\n",
      "pool1: torch.Size([64, 10, 12, 12])\n",
      "start: torch.Size([64, 1, 28, 28])\n",
      "conv1: torch.Size([64, 10, 24, 24])\n",
      "pool1: torch.Size([64, 10, 12, 12])\n",
      "start: torch.Size([64, 1, 28, 28])\n",
      "conv1: torch.Size([64, 10, 24, 24])\n",
      "pool1: torch.Size([64, 10, 12, 12])\n",
      "start: torch.Size([64, 1, 28, 28])\n",
      "conv1: torch.Size([64, 10, 24, 24])\n",
      "pool1: torch.Size([64, 10, 12, 12])\n",
      "start: torch.Size([64, 1, 28, 28])\n",
      "conv1: torch.Size([64, 10, 24, 24])\n",
      "pool1: torch.Size([64, 10, 12, 12])\n",
      "start: torch.Size([64, 1, 28, 28])\n",
      "conv1: torch.Size([64, 10, 24, 24])\n",
      "pool1: torch.Size([64, 10, 12, 12])\n"
     ]
    },
    {
     "name": "stderr",
     "output_type": "stream",
     "text": [
      "Epoch 1:  27%|███████████▏                             | 256/938 [00:08<00:18, 36.67batch/s, accuracy=90.6, loss=0.463]"
     ]
    },
    {
     "name": "stdout",
     "output_type": "stream",
     "text": [
      "start: torch.Size([64, 1, 28, 28])\n",
      "conv1: torch.Size([64, 10, 24, 24])\n",
      "pool1: torch.Size([64, 10, 12, 12])\n",
      "start: torch.Size([64, 1, 28, 28])\n",
      "conv1: torch.Size([64, 10, 24, 24])\n",
      "pool1: torch.Size([64, 10, 12, 12])\n",
      "start: torch.Size([64, 1, 28, 28])\n",
      "conv1: torch.Size([64, 10, 24, 24])\n",
      "pool1: torch.Size([64, 10, 12, 12])\n",
      "start: torch.Size([64, 1, 28, 28])\n",
      "conv1: torch.Size([64, 10, 24, 24])\n",
      "pool1: torch.Size([64, 10, 12, 12])\n",
      "start: torch.Size([64, 1, 28, 28])\n",
      "conv1: torch.Size([64, 10, 24, 24])\n",
      "pool1: torch.Size([64, 10, 12, 12])\n",
      "start: torch.Size([64, 1, 28, 28])\n",
      "conv1: torch.Size([64, 10, 24, 24])\n",
      "pool1: torch.Size([64, 10, 12, 12])\n",
      "start: torch.Size([64, 1, 28, 28])\n",
      "conv1: torch.Size([64, 10, 24, 24])\n",
      "pool1: torch.Size([64, 10, 12, 12])\n",
      "start: torch.Size([64, 1, 28, 28])\n"
     ]
    },
    {
     "name": "stderr",
     "output_type": "stream",
     "text": [
      "Epoch 1:  28%|███████████▎                             | 260/938 [00:08<00:18, 36.91batch/s, accuracy=89.1, loss=0.398]"
     ]
    },
    {
     "name": "stdout",
     "output_type": "stream",
     "text": [
      "conv1: torch.Size([64, 10, 24, 24])\n",
      "pool1: torch.Size([64, 10, 12, 12])\n",
      "start: torch.Size([64, 1, 28, 28])\n",
      "conv1: torch.Size([64, 10, 24, 24])\n",
      "pool1: torch.Size([64, 10, 12, 12])\n",
      "start: torch.Size([64, 1, 28, 28])\n",
      "conv1: torch.Size([64, 10, 24, 24])\n",
      "pool1: torch.Size([64, 10, 12, 12])\n",
      "start: torch.Size([64, 1, 28, 28])\n",
      "conv1: torch.Size([64, 10, 24, 24])\n",
      "pool1: torch.Size([64, 10, 12, 12])\n",
      "start: torch.Size([64, 1, 28, 28])\n",
      "conv1: torch.Size([64, 10, 24, 24])\n",
      "pool1: torch.Size([64, 10, 12, 12])\n",
      "start: torch.Size([64, 1, 28, 28])\n",
      "conv1: torch.Size([64, 10, 24, 24])\n",
      "pool1: torch.Size([64, 10, 12, 12])\n",
      "start: torch.Size([64, 1, 28, 28])\n",
      "conv1: torch.Size([64, 10, 24, 24])\n",
      "pool1: torch.Size([64, 10, 12, 12])\n",
      "start: torch.Size([64, 1, 28, 28])\n"
     ]
    },
    {
     "name": "stderr",
     "output_type": "stream",
     "text": [
      "Epoch 1:  29%|███████████▋                             | 268/938 [00:08<00:18, 36.92batch/s, accuracy=93.8, loss=0.244]"
     ]
    },
    {
     "name": "stdout",
     "output_type": "stream",
     "text": [
      "conv1: torch.Size([64, 10, 24, 24])\n",
      "pool1: torch.Size([64, 10, 12, 12])\n",
      "start: torch.Size([64, 1, 28, 28])\n",
      "conv1: torch.Size([64, 10, 24, 24])\n",
      "pool1: torch.Size([64, 10, 12, 12])\n",
      "start: torch.Size([64, 1, 28, 28])\n",
      "conv1: torch.Size([64, 10, 24, 24])\n",
      "pool1: torch.Size([64, 10, 12, 12])\n",
      "start: torch.Size([64, 1, 28, 28])\n",
      "conv1: torch.Size([64, 10, 24, 24])\n",
      "pool1: torch.Size([64, 10, 12, 12])\n",
      "start: torch.Size([64, 1, 28, 28])\n",
      "conv1: torch.Size([64, 10, 24, 24])\n",
      "pool1: torch.Size([64, 10, 12, 12])\n",
      "start: torch.Size([64, 1, 28, 28])\n",
      "conv1: torch.Size([64, 10, 24, 24])\n",
      "pool1: torch.Size([64, 10, 12, 12])\n",
      "start: torch.Size([64, 1, 28, 28])\n",
      "conv1: torch.Size([64, 10, 24, 24])\n",
      "pool1: torch.Size([64, 10, 12, 12])\n",
      "start: torch.Size([64, 1, 28, 28])\n"
     ]
    },
    {
     "name": "stderr",
     "output_type": "stream",
     "text": [
      "Epoch 1:  29%|████████████                             | 276/938 [00:08<00:17, 37.14batch/s, accuracy=90.6, loss=0.404]"
     ]
    },
    {
     "name": "stdout",
     "output_type": "stream",
     "text": [
      "conv1: torch.Size([64, 10, 24, 24])\n",
      "pool1: torch.Size([64, 10, 12, 12])\n",
      "start: torch.Size([64, 1, 28, 28])\n",
      "conv1: torch.Size([64, 10, 24, 24])\n",
      "pool1: torch.Size([64, 10, 12, 12])\n",
      "start: torch.Size([64, 1, 28, 28])\n",
      "conv1: torch.Size([64, 10, 24, 24])\n",
      "pool1: torch.Size([64, 10, 12, 12])\n",
      "start: torch.Size([64, 1, 28, 28])\n",
      "conv1: torch.Size([64, 10, 24, 24])\n",
      "pool1: torch.Size([64, 10, 12, 12])\n",
      "start: torch.Size([64, 1, 28, 28])\n",
      "conv1: torch.Size([64, 10, 24, 24])\n",
      "pool1: torch.Size([64, 10, 12, 12])\n",
      "start: torch.Size([64, 1, 28, 28])\n",
      "conv1: torch.Size([64, 10, 24, 24])\n",
      "pool1: torch.Size([64, 10, 12, 12])\n",
      "start: torch.Size([64, 1, 28, 28])\n",
      "conv1: torch.Size([64, 10, 24, 24])\n",
      "pool1: torch.Size([64, 10, 12, 12])\n",
      "start: torch.Size([64, 1, 28, 28])\n",
      "conv1: torch.Size([64, 10, 24, 24])\n"
     ]
    },
    {
     "name": "stderr",
     "output_type": "stream",
     "text": [
      "Epoch 1:  30%|████████████▍                            | 284/938 [00:09<00:17, 37.18batch/s, accuracy=84.4, loss=0.609]"
     ]
    },
    {
     "name": "stdout",
     "output_type": "stream",
     "text": [
      "pool1: torch.Size([64, 10, 12, 12])\n",
      "start: torch.Size([64, 1, 28, 28])\n",
      "conv1: torch.Size([64, 10, 24, 24])\n",
      "pool1: torch.Size([64, 10, 12, 12])\n",
      "start: torch.Size([64, 1, 28, 28])\n",
      "conv1: torch.Size([64, 10, 24, 24])\n",
      "pool1: torch.Size([64, 10, 12, 12])\n",
      "start: torch.Size([64, 1, 28, 28])\n",
      "conv1: torch.Size([64, 10, 24, 24])\n",
      "pool1: torch.Size([64, 10, 12, 12])\n",
      "start: torch.Size([64, 1, 28, 28])\n",
      "conv1: torch.Size([64, 10, 24, 24])\n",
      "pool1: torch.Size([64, 10, 12, 12])\n",
      "start: torch.Size([64, 1, 28, 28])\n",
      "conv1: torch.Size([64, 10, 24, 24])\n",
      "pool1: torch.Size([64, 10, 12, 12])\n",
      "start: torch.Size([64, 1, 28, 28])\n",
      "conv1: torch.Size([64, 10, 24, 24])\n",
      "pool1: torch.Size([64, 10, 12, 12])\n",
      "start: torch.Size([64, 1, 28, 28])\n",
      "conv1: torch.Size([64, 10, 24, 24])\n",
      "pool1: torch.Size([64, 10, 12, 12])\n"
     ]
    },
    {
     "name": "stderr",
     "output_type": "stream",
     "text": [
      "Epoch 1:  31%|████████████▊                            | 292/938 [00:09<00:17, 37.20batch/s, accuracy=93.8, loss=0.148]"
     ]
    },
    {
     "name": "stdout",
     "output_type": "stream",
     "text": [
      "start: torch.Size([64, 1, 28, 28])\n",
      "conv1: torch.Size([64, 10, 24, 24])\n",
      "pool1: torch.Size([64, 10, 12, 12])\n",
      "start: torch.Size([64, 1, 28, 28])\n",
      "conv1: torch.Size([64, 10, 24, 24])\n",
      "pool1: torch.Size([64, 10, 12, 12])\n",
      "start: torch.Size([64, 1, 28, 28])\n",
      "conv1: torch.Size([64, 10, 24, 24])\n",
      "pool1: torch.Size([64, 10, 12, 12])\n",
      "start: torch.Size([64, 1, 28, 28])\n",
      "conv1: torch.Size([64, 10, 24, 24])\n",
      "pool1: torch.Size([64, 10, 12, 12])\n",
      "start: torch.Size([64, 1, 28, 28])\n",
      "conv1: torch.Size([64, 10, 24, 24])\n",
      "pool1: torch.Size([64, 10, 12, 12])\n",
      "start: torch.Size([64, 1, 28, 28])\n",
      "conv1: torch.Size([64, 10, 24, 24])\n",
      "pool1: torch.Size([64, 10, 12, 12])\n",
      "start: torch.Size([64, 1, 28, 28])\n",
      "conv1: torch.Size([64, 10, 24, 24])\n",
      "pool1: torch.Size([64, 10, 12, 12])\n",
      "start: torch.Size([64, 1, 28, 28])\n"
     ]
    },
    {
     "name": "stderr",
     "output_type": "stream",
     "text": [
      "Epoch 1:  32%|████████████▉                            | 296/938 [00:09<00:17, 37.71batch/s, accuracy=92.2, loss=0.345]"
     ]
    },
    {
     "name": "stdout",
     "output_type": "stream",
     "text": [
      "conv1: torch.Size([64, 10, 24, 24])\n",
      "pool1: torch.Size([64, 10, 12, 12])\n",
      "start: torch.Size([64, 1, 28, 28])\n",
      "conv1: torch.Size([64, 10, 24, 24])\n",
      "pool1: torch.Size([64, 10, 12, 12])\n",
      "start: torch.Size([64, 1, 28, 28])\n",
      "conv1: torch.Size([64, 10, 24, 24])\n",
      "pool1: torch.Size([64, 10, 12, 12])\n",
      "start: torch.Size([64, 1, 28, 28])\n",
      "conv1: torch.Size([64, 10, 24, 24])\n",
      "pool1: torch.Size([64, 10, 12, 12])\n",
      "start: torch.Size([64, 1, 28, 28])\n",
      "conv1: torch.Size([64, 10, 24, 24])\n",
      "pool1: torch.Size([64, 10, 12, 12])\n",
      "start: torch.Size([64, 1, 28, 28])\n",
      "conv1: torch.Size([64, 10, 24, 24])\n",
      "pool1: torch.Size([64, 10, 12, 12])\n",
      "start: torch.Size([64, 1, 28, 28])\n",
      "conv1: torch.Size([64, 10, 24, 24])\n",
      "pool1: torch.Size([64, 10, 12, 12])\n",
      "start: torch.Size([64, 1, 28, 28])\n"
     ]
    },
    {
     "name": "stderr",
     "output_type": "stream",
     "text": [
      "Epoch 1:  33%|█████████████▎                           | 305/938 [00:09<00:16, 38.09batch/s, accuracy=85.9, loss=0.345]"
     ]
    },
    {
     "name": "stdout",
     "output_type": "stream",
     "text": [
      "conv1: torch.Size([64, 10, 24, 24])\n",
      "pool1: torch.Size([64, 10, 12, 12])\n",
      "start: torch.Size([64, 1, 28, 28])\n",
      "conv1: torch.Size([64, 10, 24, 24])\n",
      "pool1: torch.Size([64, 10, 12, 12])\n",
      "start: torch.Size([64, 1, 28, 28])\n",
      "conv1: torch.Size([64, 10, 24, 24])\n",
      "pool1: torch.Size([64, 10, 12, 12])\n",
      "start: torch.Size([64, 1, 28, 28])\n",
      "conv1: torch.Size([64, 10, 24, 24])\n",
      "pool1: torch.Size([64, 10, 12, 12])\n",
      "start: torch.Size([64, 1, 28, 28])\n",
      "conv1: torch.Size([64, 10, 24, 24])\n",
      "pool1: torch.Size([64, 10, 12, 12])\n",
      "start: torch.Size([64, 1, 28, 28])\n",
      "conv1: torch.Size([64, 10, 24, 24])\n",
      "pool1: torch.Size([64, 10, 12, 12])\n",
      "start: torch.Size([64, 1, 28, 28])\n",
      "conv1: torch.Size([64, 10, 24, 24])\n",
      "pool1: torch.Size([64, 10, 12, 12])\n",
      "start: torch.Size([64, 1, 28, 28])\n",
      "conv1: torch.Size([64, 10, 24, 24])\n",
      "pool1: torch.Size([64, 10, 12, 12])\n"
     ]
    },
    {
     "name": "stderr",
     "output_type": "stream",
     "text": [
      "Epoch 1:  33%|█████████████▋                           | 314/938 [00:09<00:16, 38.39batch/s, accuracy=87.5, loss=0.374]"
     ]
    },
    {
     "name": "stdout",
     "output_type": "stream",
     "text": [
      "start: torch.Size([64, 1, 28, 28])\n",
      "conv1: torch.Size([64, 10, 24, 24])\n",
      "pool1: torch.Size([64, 10, 12, 12])\n",
      "start: torch.Size([64, 1, 28, 28])\n",
      "conv1: torch.Size([64, 10, 24, 24])\n",
      "pool1: torch.Size([64, 10, 12, 12])\n",
      "start: torch.Size([64, 1, 28, 28])\n",
      "conv1: torch.Size([64, 10, 24, 24])\n",
      "pool1: torch.Size([64, 10, 12, 12])\n",
      "start: torch.Size([64, 1, 28, 28])\n",
      "conv1: torch.Size([64, 10, 24, 24])\n",
      "pool1: torch.Size([64, 10, 12, 12])\n",
      "start: torch.Size([64, 1, 28, 28])\n",
      "conv1: torch.Size([64, 10, 24, 24])\n",
      "pool1: torch.Size([64, 10, 12, 12])\n",
      "start: torch.Size([64, 1, 28, 28])\n",
      "conv1: torch.Size([64, 10, 24, 24])\n",
      "pool1: torch.Size([64, 10, 12, 12])\n",
      "start: torch.Size([64, 1, 28, 28])\n",
      "conv1: torch.Size([64, 10, 24, 24])\n",
      "pool1: torch.Size([64, 10, 12, 12])\n",
      "start: torch.Size([64, 1, 28, 28])\n",
      "conv1: torch.Size([64, 10, 24, 24])\n",
      "pool1: torch.Size([64, 10, 12, 12])\n"
     ]
    },
    {
     "name": "stderr",
     "output_type": "stream",
     "text": [
      "Epoch 1:  34%|█████████████▉                           | 318/938 [00:10<00:16, 37.13batch/s, accuracy=85.9, loss=0.529]"
     ]
    },
    {
     "name": "stdout",
     "output_type": "stream",
     "text": [
      "start: torch.Size([64, 1, 28, 28])\n",
      "conv1: torch.Size([64, 10, 24, 24])\n",
      "pool1: torch.Size([64, 10, 12, 12])\n",
      "start: torch.Size([64, 1, 28, 28])\n",
      "conv1: torch.Size([64, 10, 24, 24])\n",
      "pool1: torch.Size([64, 10, 12, 12])\n",
      "start: torch.Size([64, 1, 28, 28])\n",
      "conv1: torch.Size([64, 10, 24, 24])\n",
      "pool1: torch.Size([64, 10, 12, 12])\n",
      "start: torch.Size([64, 1, 28, 28])\n",
      "conv1: torch.Size([64, 10, 24, 24])\n",
      "pool1: torch.Size([64, 10, 12, 12])\n",
      "start: torch.Size([64, 1, 28, 28])\n",
      "conv1: torch.Size([64, 10, 24, 24])\n",
      "pool1: torch.Size([64, 10, 12, 12])\n",
      "start: torch.Size([64, 1, 28, 28])\n",
      "conv1: torch.Size([64, 10, 24, 24])\n",
      "pool1: torch.Size([64, 10, 12, 12])\n",
      "start: torch.Size([64, 1, 28, 28])\n"
     ]
    },
    {
     "name": "stderr",
     "output_type": "stream",
     "text": [
      "Epoch 1:  35%|██████████████▌                           | 326/938 [00:10<00:16, 36.09batch/s, accuracy=90.6, loss=0.28]"
     ]
    },
    {
     "name": "stdout",
     "output_type": "stream",
     "text": [
      "conv1: torch.Size([64, 10, 24, 24])\n",
      "pool1: torch.Size([64, 10, 12, 12])\n",
      "start: torch.Size([64, 1, 28, 28])\n",
      "conv1: torch.Size([64, 10, 24, 24])\n",
      "pool1: torch.Size([64, 10, 12, 12])\n",
      "start: torch.Size([64, 1, 28, 28])\n",
      "conv1: torch.Size([64, 10, 24, 24])\n",
      "pool1: torch.Size([64, 10, 12, 12])\n",
      "start: torch.Size([64, 1, 28, 28])\n",
      "conv1: torch.Size([64, 10, 24, 24])\n",
      "pool1: torch.Size([64, 10, 12, 12])\n",
      "start: torch.Size([64, 1, 28, 28])\n",
      "conv1: torch.Size([64, 10, 24, 24])\n",
      "pool1: torch.Size([64, 10, 12, 12])\n",
      "start: torch.Size([64, 1, 28, 28])\n",
      "conv1: torch.Size([64, 10, 24, 24])\n",
      "pool1: torch.Size([64, 10, 12, 12])\n",
      "start: torch.Size([64, 1, 28, 28])\n",
      "conv1: torch.Size([64, 10, 24, 24])\n",
      "pool1: torch.Size([64, 10, 12, 12])\n",
      "start: torch.Size([64, 1, 28, 28])\n"
     ]
    },
    {
     "name": "stderr",
     "output_type": "stream",
     "text": [
      "Epoch 1:  36%|██████████████▌                          | 334/938 [00:10<00:17, 35.42batch/s, accuracy=85.9, loss=0.572]"
     ]
    },
    {
     "name": "stdout",
     "output_type": "stream",
     "text": [
      "conv1: torch.Size([64, 10, 24, 24])\n",
      "pool1: torch.Size([64, 10, 12, 12])\n",
      "start: torch.Size([64, 1, 28, 28])\n",
      "conv1: torch.Size([64, 10, 24, 24])\n",
      "pool1: torch.Size([64, 10, 12, 12])\n",
      "start: torch.Size([64, 1, 28, 28])\n",
      "conv1: torch.Size([64, 10, 24, 24])\n",
      "pool1: torch.Size([64, 10, 12, 12])\n",
      "start: torch.Size([64, 1, 28, 28])\n",
      "conv1: torch.Size([64, 10, 24, 24])\n",
      "pool1: torch.Size([64, 10, 12, 12])\n",
      "start: torch.Size([64, 1, 28, 28])\n",
      "conv1: torch.Size([64, 10, 24, 24])\n",
      "pool1: torch.Size([64, 10, 12, 12])\n",
      "start: torch.Size([64, 1, 28, 28])\n",
      "conv1: torch.Size([64, 10, 24, 24])\n",
      "pool1: torch.Size([64, 10, 12, 12])\n",
      "start: torch.Size([64, 1, 28, 28])\n",
      "conv1: torch.Size([64, 10, 24, 24])\n",
      "pool1: torch.Size([64, 10, 12, 12])\n"
     ]
    },
    {
     "name": "stderr",
     "output_type": "stream",
     "text": [
      "Epoch 1:  36%|██████████████▉                          | 342/938 [00:10<00:16, 36.16batch/s, accuracy=93.8, loss=0.238]"
     ]
    },
    {
     "name": "stdout",
     "output_type": "stream",
     "text": [
      "start: torch.Size([64, 1, 28, 28])\n",
      "conv1: torch.Size([64, 10, 24, 24])\n",
      "pool1: torch.Size([64, 10, 12, 12])\n",
      "start: torch.Size([64, 1, 28, 28])\n",
      "conv1: torch.Size([64, 10, 24, 24])\n",
      "pool1: torch.Size([64, 10, 12, 12])\n",
      "start: torch.Size([64, 1, 28, 28])\n",
      "conv1: torch.Size([64, 10, 24, 24])\n",
      "pool1: torch.Size([64, 10, 12, 12])\n",
      "start: torch.Size([64, 1, 28, 28])\n",
      "conv1: torch.Size([64, 10, 24, 24])\n",
      "pool1: torch.Size([64, 10, 12, 12])\n",
      "start: torch.Size([64, 1, 28, 28])\n",
      "conv1: torch.Size([64, 10, 24, 24])\n",
      "pool1: torch.Size([64, 10, 12, 12])\n",
      "start: torch.Size([64, 1, 28, 28])\n",
      "conv1: torch.Size([64, 10, 24, 24])\n",
      "pool1: torch.Size([64, 10, 12, 12])\n",
      "start: torch.Size([64, 1, 28, 28])\n",
      "conv1: torch.Size([64, 10, 24, 24])\n",
      "pool1: torch.Size([64, 10, 12, 12])\n",
      "start: torch.Size([64, 1, 28, 28])\n"
     ]
    },
    {
     "name": "stderr",
     "output_type": "stream",
     "text": [
      "Epoch 1:  37%|███████████████                          | 346/938 [00:10<00:16, 36.15batch/s, accuracy=90.6, loss=0.277]"
     ]
    },
    {
     "name": "stdout",
     "output_type": "stream",
     "text": [
      "conv1: torch.Size([64, 10, 24, 24])\n",
      "pool1: torch.Size([64, 10, 12, 12])\n",
      "start: torch.Size([64, 1, 28, 28])\n",
      "conv1: torch.Size([64, 10, 24, 24])\n",
      "pool1: torch.Size([64, 10, 12, 12])\n",
      "start: torch.Size([64, 1, 28, 28])\n",
      "conv1: torch.Size([64, 10, 24, 24])\n",
      "pool1: torch.Size([64, 10, 12, 12])\n",
      "start: torch.Size([64, 1, 28, 28])\n",
      "conv1: torch.Size([64, 10, 24, 24])\n",
      "pool1: torch.Size([64, 10, 12, 12])\n",
      "start: torch.Size([64, 1, 28, 28])\n",
      "conv1: torch.Size([64, 10, 24, 24])\n",
      "pool1: torch.Size([64, 10, 12, 12])\n",
      "start: torch.Size([64, 1, 28, 28])\n",
      "conv1: torch.Size([64, 10, 24, 24])\n",
      "pool1: torch.Size([64, 10, 12, 12])\n",
      "start: torch.Size([64, 1, 28, 28])\n",
      "conv1: torch.Size([64, 10, 24, 24])\n",
      "pool1: torch.Size([64, 10, 12, 12])\n"
     ]
    },
    {
     "name": "stderr",
     "output_type": "stream",
     "text": [
      "Epoch 1:  38%|███████████████▍                         | 354/938 [00:11<00:16, 35.42batch/s, accuracy=92.2, loss=0.213]"
     ]
    },
    {
     "name": "stdout",
     "output_type": "stream",
     "text": [
      "start: torch.Size([64, 1, 28, 28])\n",
      "conv1: torch.Size([64, 10, 24, 24])\n",
      "pool1: torch.Size([64, 10, 12, 12])\n",
      "start: torch.Size([64, 1, 28, 28])\n",
      "conv1: torch.Size([64, 10, 24, 24])\n",
      "pool1: torch.Size([64, 10, 12, 12])\n",
      "start: torch.Size([64, 1, 28, 28])\n",
      "conv1: torch.Size([64, 10, 24, 24])\n",
      "pool1: torch.Size([64, 10, 12, 12])\n",
      "start: torch.Size([64, 1, 28, 28])\n",
      "conv1: torch.Size([64, 10, 24, 24])\n",
      "pool1: torch.Size([64, 10, 12, 12])\n",
      "start: torch.Size([64, 1, 28, 28])\n",
      "conv1: torch.Size([64, 10, 24, 24])\n",
      "pool1: torch.Size([64, 10, 12, 12])\n",
      "start: torch.Size([64, 1, 28, 28])\n",
      "conv1: torch.Size([64, 10, 24, 24])\n",
      "pool1: torch.Size([64, 10, 12, 12])\n",
      "start: torch.Size([64, 1, 28, 28])\n",
      "conv1: torch.Size([64, 10, 24, 24])\n",
      "pool1: torch.Size([64, 10, 12, 12])\n",
      "start: torch.Size([64, 1, 28, 28])\n"
     ]
    },
    {
     "name": "stderr",
     "output_type": "stream",
     "text": [
      "Epoch 1:  39%|███████████████▊                         | 362/938 [00:11<00:15, 36.06batch/s, accuracy=90.6, loss=0.232]"
     ]
    },
    {
     "name": "stdout",
     "output_type": "stream",
     "text": [
      "conv1: torch.Size([64, 10, 24, 24])\n",
      "pool1: torch.Size([64, 10, 12, 12])\n",
      "start: torch.Size([64, 1, 28, 28])\n",
      "conv1: torch.Size([64, 10, 24, 24])\n",
      "pool1: torch.Size([64, 10, 12, 12])\n",
      "start: torch.Size([64, 1, 28, 28])\n",
      "conv1: torch.Size([64, 10, 24, 24])\n",
      "pool1: torch.Size([64, 10, 12, 12])\n",
      "start: torch.Size([64, 1, 28, 28])\n",
      "conv1: torch.Size([64, 10, 24, 24])\n",
      "pool1: torch.Size([64, 10, 12, 12])\n",
      "start: torch.Size([64, 1, 28, 28])\n",
      "conv1: torch.Size([64, 10, 24, 24])\n",
      "pool1: torch.Size([64, 10, 12, 12])\n",
      "start: torch.Size([64, 1, 28, 28])\n",
      "conv1: torch.Size([64, 10, 24, 24])\n",
      "pool1: torch.Size([64, 10, 12, 12])\n",
      "start: torch.Size([64, 1, 28, 28])\n",
      "conv1: torch.Size([64, 10, 24, 24])\n",
      "pool1: torch.Size([64, 10, 12, 12])\n",
      "start: torch.Size([64, 1, 28, 28])\n"
     ]
    },
    {
     "name": "stderr",
     "output_type": "stream",
     "text": [
      "Epoch 1:  39%|████████████████▏                        | 370/938 [00:11<00:15, 37.50batch/s, accuracy=96.9, loss=0.114]"
     ]
    },
    {
     "name": "stdout",
     "output_type": "stream",
     "text": [
      "conv1: torch.Size([64, 10, 24, 24])\n",
      "pool1: torch.Size([64, 10, 12, 12])\n",
      "start: torch.Size([64, 1, 28, 28])\n",
      "conv1: torch.Size([64, 10, 24, 24])\n",
      "pool1: torch.Size([64, 10, 12, 12])\n",
      "start: torch.Size([64, 1, 28, 28])\n",
      "conv1: torch.Size([64, 10, 24, 24])\n",
      "pool1: torch.Size([64, 10, 12, 12])\n",
      "start: torch.Size([64, 1, 28, 28])\n",
      "conv1: torch.Size([64, 10, 24, 24])\n",
      "pool1: torch.Size([64, 10, 12, 12])\n",
      "start: torch.Size([64, 1, 28, 28])\n",
      "conv1: torch.Size([64, 10, 24, 24])\n",
      "pool1: torch.Size([64, 10, 12, 12])\n",
      "start: torch.Size([64, 1, 28, 28])\n",
      "conv1: torch.Size([64, 10, 24, 24])\n",
      "pool1: torch.Size([64, 10, 12, 12])\n",
      "start: torch.Size([64, 1, 28, 28])\n",
      "conv1: torch.Size([64, 10, 24, 24])\n",
      "pool1: torch.Size([64, 10, 12, 12])\n",
      "start: torch.Size([64, 1, 28, 28])\n"
     ]
    },
    {
     "name": "stderr",
     "output_type": "stream",
     "text": [
      "Epoch 1:  40%|████████████████▎                        | 374/938 [00:11<00:15, 37.18batch/s, accuracy=93.8, loss=0.351]"
     ]
    },
    {
     "name": "stdout",
     "output_type": "stream",
     "text": [
      "conv1: torch.Size([64, 10, 24, 24])\n",
      "pool1: torch.Size([64, 10, 12, 12])\n",
      "start: torch.Size([64, 1, 28, 28])\n",
      "conv1: torch.Size([64, 10, 24, 24])\n",
      "pool1: torch.Size([64, 10, 12, 12])\n",
      "start: torch.Size([64, 1, 28, 28])\n",
      "conv1: torch.Size([64, 10, 24, 24])\n",
      "pool1: torch.Size([64, 10, 12, 12])\n",
      "start: torch.Size([64, 1, 28, 28])\n",
      "conv1: torch.Size([64, 10, 24, 24])\n",
      "pool1: torch.Size([64, 10, 12, 12])\n",
      "start: torch.Size([64, 1, 28, 28])\n",
      "conv1: torch.Size([64, 10, 24, 24])\n",
      "pool1: torch.Size([64, 10, 12, 12])\n",
      "start: torch.Size([64, 1, 28, 28])\n",
      "conv1: torch.Size([64, 10, 24, 24])\n",
      "pool1: torch.Size([64, 10, 12, 12])\n",
      "start: torch.Size([64, 1, 28, 28])\n",
      "conv1: torch.Size([64, 10, 24, 24])\n",
      "pool1: torch.Size([64, 10, 12, 12])\n",
      "start: torch.Size([64, 1, 28, 28])\n",
      "conv1: torch.Size([64, 10, 24, 24])\n",
      "pool1: torch.Size([64, 10, 12, 12])\n"
     ]
    },
    {
     "name": "stderr",
     "output_type": "stream",
     "text": [
      "Epoch 1:  41%|████████████████▋                        | 383/938 [00:11<00:14, 37.77batch/s, accuracy=89.1, loss=0.461]"
     ]
    },
    {
     "name": "stdout",
     "output_type": "stream",
     "text": [
      "start: torch.Size([64, 1, 28, 28])\n",
      "conv1: torch.Size([64, 10, 24, 24])\n",
      "pool1: torch.Size([64, 10, 12, 12])\n",
      "start: torch.Size([64, 1, 28, 28])\n",
      "conv1: torch.Size([64, 10, 24, 24])\n",
      "pool1: torch.Size([64, 10, 12, 12])\n",
      "start: torch.Size([64, 1, 28, 28])\n",
      "conv1: torch.Size([64, 10, 24, 24])\n",
      "pool1: torch.Size([64, 10, 12, 12])\n",
      "start: torch.Size([64, 1, 28, 28])\n",
      "conv1: torch.Size([64, 10, 24, 24])\n",
      "pool1: torch.Size([64, 10, 12, 12])\n",
      "start: torch.Size([64, 1, 28, 28])\n",
      "conv1: torch.Size([64, 10, 24, 24])\n",
      "pool1: torch.Size([64, 10, 12, 12])\n",
      "start: torch.Size([64, 1, 28, 28])\n",
      "conv1: torch.Size([64, 10, 24, 24])\n",
      "pool1: torch.Size([64, 10, 12, 12])\n",
      "start: torch.Size([64, 1, 28, 28])\n"
     ]
    },
    {
     "name": "stderr",
     "output_type": "stream",
     "text": [
      "Epoch 1:  41%|████████████████▉                        | 387/938 [00:11<00:16, 33.58batch/s, accuracy=93.8, loss=0.124]"
     ]
    },
    {
     "name": "stdout",
     "output_type": "stream",
     "text": [
      "conv1: torch.Size([64, 10, 24, 24])\n",
      "pool1: torch.Size([64, 10, 12, 12])\n",
      "start: torch.Size([64, 1, 28, 28])\n",
      "conv1: torch.Size([64, 10, 24, 24])\n",
      "pool1: torch.Size([64, 10, 12, 12])\n",
      "start: torch.Size([64, 1, 28, 28])\n",
      "conv1: torch.Size([64, 10, 24, 24])\n",
      "pool1: torch.Size([64, 10, 12, 12])\n",
      "start: torch.Size([64, 1, 28, 28])\n",
      "conv1: torch.Size([64, 10, 24, 24])\n",
      "pool1: torch.Size([64, 10, 12, 12])\n",
      "start: torch.Size([64, 1, 28, 28])\n",
      "conv1: torch.Size([64, 10, 24, 24])\n",
      "pool1: torch.Size([64, 10, 12, 12])\n",
      "start: torch.Size([64, 1, 28, 28])\n",
      "conv1: torch.Size([64, 10, 24, 24])\n",
      "pool1: torch.Size([64, 10, 12, 12])\n"
     ]
    },
    {
     "name": "stderr",
     "output_type": "stream",
     "text": [
      "Epoch 1:  42%|█████████████████▋                        | 395/938 [00:12<00:16, 32.98batch/s, accuracy=92.2, loss=0.22]"
     ]
    },
    {
     "name": "stdout",
     "output_type": "stream",
     "text": [
      "start: torch.Size([64, 1, 28, 28])\n",
      "conv1: torch.Size([64, 10, 24, 24])\n",
      "pool1: torch.Size([64, 10, 12, 12])\n",
      "start: torch.Size([64, 1, 28, 28])\n",
      "conv1: torch.Size([64, 10, 24, 24])\n",
      "pool1: torch.Size([64, 10, 12, 12])\n",
      "start: torch.Size([64, 1, 28, 28])\n",
      "conv1: torch.Size([64, 10, 24, 24])\n",
      "pool1: torch.Size([64, 10, 12, 12])\n",
      "start: torch.Size([64, 1, 28, 28])\n",
      "conv1: torch.Size([64, 10, 24, 24])\n",
      "pool1: torch.Size([64, 10, 12, 12])\n",
      "start: torch.Size([64, 1, 28, 28])\n",
      "conv1: torch.Size([64, 10, 24, 24])\n",
      "pool1: torch.Size([64, 10, 12, 12])\n",
      "start: torch.Size([64, 1, 28, 28])\n",
      "conv1: torch.Size([64, 10, 24, 24])\n",
      "pool1: torch.Size([64, 10, 12, 12])\n",
      "start: torch.Size([64, 1, 28, 28])\n"
     ]
    },
    {
     "name": "stderr",
     "output_type": "stream",
     "text": [
      "Epoch 1:  43%|█████████████████▍                       | 399/938 [00:12<00:16, 33.19batch/s, accuracy=92.2, loss=0.158]"
     ]
    },
    {
     "name": "stdout",
     "output_type": "stream",
     "text": [
      "conv1: torch.Size([64, 10, 24, 24])\n",
      "pool1: torch.Size([64, 10, 12, 12])\n",
      "start: torch.Size([64, 1, 28, 28])\n",
      "conv1: torch.Size([64, 10, 24, 24])\n",
      "pool1: torch.Size([64, 10, 12, 12])\n",
      "start: torch.Size([64, 1, 28, 28])\n",
      "conv1: torch.Size([64, 10, 24, 24])\n",
      "pool1: torch.Size([64, 10, 12, 12])\n",
      "start: torch.Size([64, 1, 28, 28])\n",
      "conv1: torch.Size([64, 10, 24, 24])\n",
      "pool1: torch.Size([64, 10, 12, 12])\n",
      "start: torch.Size([64, 1, 28, 28])\n",
      "conv1: torch.Size([64, 10, 24, 24])\n",
      "pool1: torch.Size([64, 10, 12, 12])\n",
      "start: torch.Size([64, 1, 28, 28])\n",
      "conv1: torch.Size([64, 10, 24, 24])\n",
      "pool1: torch.Size([64, 10, 12, 12])\n",
      "start: torch.Size([64, 1, 28, 28])\n",
      "conv1: torch.Size([64, 10, 24, 24])\n",
      "pool1: torch.Size([64, 10, 12, 12])\n"
     ]
    },
    {
     "name": "stderr",
     "output_type": "stream",
     "text": [
      "Epoch 1:  43%|█████████████████▊                       | 407/938 [00:12<00:15, 33.90batch/s, accuracy=96.9, loss=0.235]"
     ]
    },
    {
     "name": "stdout",
     "output_type": "stream",
     "text": [
      "start: torch.Size([64, 1, 28, 28])\n",
      "conv1: torch.Size([64, 10, 24, 24])\n",
      "pool1: torch.Size([64, 10, 12, 12])\n",
      "start: torch.Size([64, 1, 28, 28])\n",
      "conv1: torch.Size([64, 10, 24, 24])\n",
      "pool1: torch.Size([64, 10, 12, 12])\n",
      "start: torch.Size([64, 1, 28, 28])\n",
      "conv1: torch.Size([64, 10, 24, 24])\n",
      "pool1: torch.Size([64, 10, 12, 12])\n",
      "start: torch.Size([64, 1, 28, 28])\n",
      "conv1: torch.Size([64, 10, 24, 24])\n",
      "pool1: torch.Size([64, 10, 12, 12])\n",
      "start: torch.Size([64, 1, 28, 28])\n",
      "conv1: torch.Size([64, 10, 24, 24])\n",
      "pool1: torch.Size([64, 10, 12, 12])\n",
      "start: torch.Size([64, 1, 28, 28])\n",
      "conv1: torch.Size([64, 10, 24, 24])\n",
      "pool1: torch.Size([64, 10, 12, 12])\n",
      "start: torch.Size([64, 1, 28, 28])\n",
      "conv1: torch.Size([64, 10, 24, 24])\n",
      "pool1: torch.Size([64, 10, 12, 12])\n",
      "start: torch.Size([64, 1, 28, 28])\n"
     ]
    },
    {
     "name": "stderr",
     "output_type": "stream",
     "text": [
      "Epoch 1:  44%|██████████████████▏                      | 416/938 [00:12<00:14, 36.10batch/s, accuracy=90.6, loss=0.165]"
     ]
    },
    {
     "name": "stdout",
     "output_type": "stream",
     "text": [
      "conv1: torch.Size([64, 10, 24, 24])\n",
      "pool1: torch.Size([64, 10, 12, 12])\n",
      "start: torch.Size([64, 1, 28, 28])\n",
      "conv1: torch.Size([64, 10, 24, 24])\n",
      "pool1: torch.Size([64, 10, 12, 12])\n",
      "start: torch.Size([64, 1, 28, 28])\n",
      "conv1: torch.Size([64, 10, 24, 24])\n",
      "pool1: torch.Size([64, 10, 12, 12])\n",
      "start: torch.Size([64, 1, 28, 28])\n",
      "conv1: torch.Size([64, 10, 24, 24])\n",
      "pool1: torch.Size([64, 10, 12, 12])\n",
      "start: torch.Size([64, 1, 28, 28])\n",
      "conv1: torch.Size([64, 10, 24, 24])\n",
      "pool1: torch.Size([64, 10, 12, 12])\n",
      "start: torch.Size([64, 1, 28, 28])\n",
      "conv1: torch.Size([64, 10, 24, 24])\n",
      "pool1: torch.Size([64, 10, 12, 12])\n",
      "start: torch.Size([64, 1, 28, 28])\n",
      "conv1: torch.Size([64, 10, 24, 24])\n",
      "pool1: torch.Size([64, 10, 12, 12])\n",
      "start: torch.Size([64, 1, 28, 28])\n"
     ]
    },
    {
     "name": "stderr",
     "output_type": "stream",
     "text": [
      "Epoch 1:  45%|██████████████████▉                       | 424/938 [00:12<00:13, 37.44batch/s, accuracy=92.2, loss=0.36]"
     ]
    },
    {
     "name": "stdout",
     "output_type": "stream",
     "text": [
      "conv1: torch.Size([64, 10, 24, 24])\n",
      "pool1: torch.Size([64, 10, 12, 12])\n",
      "start: torch.Size([64, 1, 28, 28])\n",
      "conv1: torch.Size([64, 10, 24, 24])\n",
      "pool1: torch.Size([64, 10, 12, 12])\n",
      "start: torch.Size([64, 1, 28, 28])\n",
      "conv1: torch.Size([64, 10, 24, 24])\n",
      "pool1: torch.Size([64, 10, 12, 12])\n",
      "start: torch.Size([64, 1, 28, 28])\n",
      "conv1: torch.Size([64, 10, 24, 24])\n",
      "pool1: torch.Size([64, 10, 12, 12])\n",
      "start: torch.Size([64, 1, 28, 28])\n",
      "conv1: torch.Size([64, 10, 24, 24])\n",
      "pool1: torch.Size([64, 10, 12, 12])\n",
      "start: torch.Size([64, 1, 28, 28])\n",
      "conv1: torch.Size([64, 10, 24, 24])\n",
      "pool1: torch.Size([64, 10, 12, 12])\n",
      "start: torch.Size([64, 1, 28, 28])\n",
      "conv1: torch.Size([64, 10, 24, 24])\n",
      "pool1: torch.Size([64, 10, 12, 12])\n",
      "start: torch.Size([64, 1, 28, 28])\n",
      "conv1: torch.Size([64, 10, 24, 24])\n",
      "pool1: torch.Size([64, 10, 12, 12])\n"
     ]
    },
    {
     "name": "stderr",
     "output_type": "stream",
     "text": [
      "Epoch 1:  46%|██████████████████▋                      | 428/938 [00:13<00:13, 37.25batch/s, accuracy=92.2, loss=0.203]"
     ]
    },
    {
     "name": "stdout",
     "output_type": "stream",
     "text": [
      "start: torch.Size([64, 1, 28, 28])\n",
      "conv1: torch.Size([64, 10, 24, 24])\n",
      "pool1: torch.Size([64, 10, 12, 12])\n",
      "start: torch.Size([64, 1, 28, 28])\n",
      "conv1: torch.Size([64, 10, 24, 24])\n",
      "pool1: torch.Size([64, 10, 12, 12])\n",
      "start: torch.Size([64, 1, 28, 28])\n",
      "conv1: torch.Size([64, 10, 24, 24])\n",
      "pool1: torch.Size([64, 10, 12, 12])\n",
      "start: torch.Size([64, 1, 28, 28])\n",
      "conv1: torch.Size([64, 10, 24, 24])\n",
      "pool1: torch.Size([64, 10, 12, 12])\n",
      "start: torch.Size([64, 1, 28, 28])\n",
      "conv1: torch.Size([64, 10, 24, 24])\n",
      "pool1: torch.Size([64, 10, 12, 12])\n",
      "start: torch.Size([64, 1, 28, 28])\n",
      "conv1: torch.Size([64, 10, 24, 24])\n",
      "pool1: torch.Size([64, 10, 12, 12])\n",
      "start: torch.Size([64, 1, 28, 28])\n",
      "conv1: torch.Size([64, 10, 24, 24])\n",
      "pool1: torch.Size([64, 10, 12, 12])\n",
      "start: torch.Size([64, 1, 28, 28])\n"
     ]
    },
    {
     "name": "stderr",
     "output_type": "stream",
     "text": [
      "Epoch 1:  47%|███████████████████                      | 437/938 [00:13<00:13, 37.68batch/s, accuracy=89.1, loss=0.373]"
     ]
    },
    {
     "name": "stdout",
     "output_type": "stream",
     "text": [
      "conv1: torch.Size([64, 10, 24, 24])\n",
      "pool1: torch.Size([64, 10, 12, 12])\n",
      "start: torch.Size([64, 1, 28, 28])\n",
      "conv1: torch.Size([64, 10, 24, 24])\n",
      "pool1: torch.Size([64, 10, 12, 12])\n",
      "start: torch.Size([64, 1, 28, 28])\n",
      "conv1: torch.Size([64, 10, 24, 24])\n",
      "pool1: torch.Size([64, 10, 12, 12])\n",
      "start: torch.Size([64, 1, 28, 28])\n",
      "conv1: torch.Size([64, 10, 24, 24])\n",
      "pool1: torch.Size([64, 10, 12, 12])\n",
      "start: torch.Size([64, 1, 28, 28])\n",
      "conv1: torch.Size([64, 10, 24, 24])\n",
      "pool1: torch.Size([64, 10, 12, 12])\n",
      "start: torch.Size([64, 1, 28, 28])\n",
      "conv1: torch.Size([64, 10, 24, 24])\n",
      "pool1: torch.Size([64, 10, 12, 12])\n",
      "start: torch.Size([64, 1, 28, 28])\n",
      "conv1: torch.Size([64, 10, 24, 24])\n",
      "pool1: torch.Size([64, 10, 12, 12])\n",
      "start: torch.Size([64, 1, 28, 28])\n",
      "conv1: torch.Size([64, 10, 24, 24])\n",
      "pool1: torch.Size([64, 10, 12, 12])\n"
     ]
    },
    {
     "name": "stderr",
     "output_type": "stream",
     "text": [
      "Epoch 1:  47%|███████████████████▍                     | 445/938 [00:13<00:13, 37.35batch/s, accuracy=89.1, loss=0.377]"
     ]
    },
    {
     "name": "stdout",
     "output_type": "stream",
     "text": [
      "start: torch.Size([64, 1, 28, 28])\n",
      "conv1: torch.Size([64, 10, 24, 24])\n",
      "pool1: torch.Size([64, 10, 12, 12])\n",
      "start: torch.Size([64, 1, 28, 28])\n",
      "conv1: torch.Size([64, 10, 24, 24])\n",
      "pool1: torch.Size([64, 10, 12, 12])\n",
      "start: torch.Size([64, 1, 28, 28])\n",
      "conv1: torch.Size([64, 10, 24, 24])\n",
      "pool1: torch.Size([64, 10, 12, 12])\n",
      "start: torch.Size([64, 1, 28, 28])\n",
      "conv1: torch.Size([64, 10, 24, 24])\n",
      "pool1: torch.Size([64, 10, 12, 12])\n",
      "start: torch.Size([64, 1, 28, 28])\n",
      "conv1: torch.Size([64, 10, 24, 24])\n",
      "pool1: torch.Size([64, 10, 12, 12])\n",
      "start: torch.Size([64, 1, 28, 28])\n",
      "conv1: torch.Size([64, 10, 24, 24])\n",
      "pool1: torch.Size([64, 10, 12, 12])\n",
      "start: torch.Size([64, 1, 28, 28])\n",
      "conv1: torch.Size([64, 10, 24, 24])\n",
      "pool1: torch.Size([64, 10, 12, 12])\n",
      "start: torch.Size([64, 1, 28, 28])\n"
     ]
    },
    {
     "name": "stderr",
     "output_type": "stream",
     "text": [
      "Epoch 1:  48%|███████████████████▊                     | 453/938 [00:13<00:12, 37.45batch/s, accuracy=84.4, loss=0.362]"
     ]
    },
    {
     "name": "stdout",
     "output_type": "stream",
     "text": [
      "conv1: torch.Size([64, 10, 24, 24])\n",
      "pool1: torch.Size([64, 10, 12, 12])\n",
      "start: torch.Size([64, 1, 28, 28])\n",
      "conv1: torch.Size([64, 10, 24, 24])\n",
      "pool1: torch.Size([64, 10, 12, 12])\n",
      "start: torch.Size([64, 1, 28, 28])\n",
      "conv1: torch.Size([64, 10, 24, 24])\n",
      "pool1: torch.Size([64, 10, 12, 12])\n",
      "start: torch.Size([64, 1, 28, 28])\n",
      "conv1: torch.Size([64, 10, 24, 24])\n",
      "pool1: torch.Size([64, 10, 12, 12])\n",
      "start: torch.Size([64, 1, 28, 28])\n",
      "conv1: torch.Size([64, 10, 24, 24])\n",
      "pool1: torch.Size([64, 10, 12, 12])\n",
      "start: torch.Size([64, 1, 28, 28])\n",
      "conv1: torch.Size([64, 10, 24, 24])\n",
      "pool1: torch.Size([64, 10, 12, 12])\n",
      "start: torch.Size([64, 1, 28, 28])\n",
      "conv1: torch.Size([64, 10, 24, 24])\n",
      "pool1: torch.Size([64, 10, 12, 12])\n",
      "start: torch.Size([64, 1, 28, 28])\n"
     ]
    },
    {
     "name": "stderr",
     "output_type": "stream",
     "text": [
      "Epoch 1:  49%|███████████████████▉                     | 457/938 [00:13<00:12, 37.25batch/s, accuracy=90.6, loss=0.287]"
     ]
    },
    {
     "name": "stdout",
     "output_type": "stream",
     "text": [
      "conv1: torch.Size([64, 10, 24, 24])\n",
      "pool1: torch.Size([64, 10, 12, 12])\n",
      "start: torch.Size([64, 1, 28, 28])\n",
      "conv1: torch.Size([64, 10, 24, 24])\n",
      "pool1: torch.Size([64, 10, 12, 12])\n",
      "start: torch.Size([64, 1, 28, 28])\n",
      "conv1: torch.Size([64, 10, 24, 24])\n",
      "pool1: torch.Size([64, 10, 12, 12])\n",
      "start: torch.Size([64, 1, 28, 28])\n",
      "conv1: torch.Size([64, 10, 24, 24])\n",
      "pool1: torch.Size([64, 10, 12, 12])\n",
      "start: torch.Size([64, 1, 28, 28])\n",
      "conv1: torch.Size([64, 10, 24, 24])\n",
      "pool1: torch.Size([64, 10, 12, 12])\n",
      "start: torch.Size([64, 1, 28, 28])\n",
      "conv1: torch.Size([64, 10, 24, 24])\n",
      "pool1: torch.Size([64, 10, 12, 12])\n",
      "start: torch.Size([64, 1, 28, 28])\n",
      "conv1: torch.Size([64, 10, 24, 24])\n",
      "pool1: torch.Size([64, 10, 12, 12])\n",
      "start: torch.Size([64, 1, 28, 28])\n"
     ]
    },
    {
     "name": "stderr",
     "output_type": "stream",
     "text": [
      "Epoch 1:  50%|███████████████████▊                    | 466/938 [00:14<00:12, 37.74batch/s, accuracy=98.4, loss=0.0942]"
     ]
    },
    {
     "name": "stdout",
     "output_type": "stream",
     "text": [
      "conv1: torch.Size([64, 10, 24, 24])\n",
      "pool1: torch.Size([64, 10, 12, 12])\n",
      "start: torch.Size([64, 1, 28, 28])\n",
      "conv1: torch.Size([64, 10, 24, 24])\n",
      "pool1: torch.Size([64, 10, 12, 12])\n",
      "start: torch.Size([64, 1, 28, 28])\n",
      "conv1: torch.Size([64, 10, 24, 24])\n",
      "pool1: torch.Size([64, 10, 12, 12])\n",
      "start: torch.Size([64, 1, 28, 28])\n",
      "conv1: torch.Size([64, 10, 24, 24])\n",
      "pool1: torch.Size([64, 10, 12, 12])\n",
      "start: torch.Size([64, 1, 28, 28])\n",
      "conv1: torch.Size([64, 10, 24, 24])\n",
      "pool1: torch.Size([64, 10, 12, 12])\n",
      "start: torch.Size([64, 1, 28, 28])\n",
      "conv1: torch.Size([64, 10, 24, 24])\n",
      "pool1: torch.Size([64, 10, 12, 12])\n",
      "start: torch.Size([64, 1, 28, 28])\n",
      "conv1: torch.Size([64, 10, 24, 24])\n",
      "pool1: torch.Size([64, 10, 12, 12])\n",
      "start: torch.Size([64, 1, 28, 28])\n"
     ]
    },
    {
     "name": "stderr",
     "output_type": "stream",
     "text": [
      "Epoch 1:  51%|████████████████████▊                    | 475/938 [00:14<00:12, 37.26batch/s, accuracy=96.9, loss=0.132]"
     ]
    },
    {
     "name": "stdout",
     "output_type": "stream",
     "text": [
      "conv1: torch.Size([64, 10, 24, 24])\n",
      "pool1: torch.Size([64, 10, 12, 12])\n",
      "start: torch.Size([64, 1, 28, 28])\n",
      "conv1: torch.Size([64, 10, 24, 24])\n",
      "pool1: torch.Size([64, 10, 12, 12])\n",
      "start: torch.Size([64, 1, 28, 28])\n",
      "conv1: torch.Size([64, 10, 24, 24])\n",
      "pool1: torch.Size([64, 10, 12, 12])\n",
      "start: torch.Size([64, 1, 28, 28])\n",
      "conv1: torch.Size([64, 10, 24, 24])\n",
      "pool1: torch.Size([64, 10, 12, 12])\n",
      "start: torch.Size([64, 1, 28, 28])\n",
      "conv1: torch.Size([64, 10, 24, 24])\n",
      "pool1: torch.Size([64, 10, 12, 12])\n",
      "start: torch.Size([64, 1, 28, 28])\n",
      "conv1: torch.Size([64, 10, 24, 24])\n",
      "pool1: torch.Size([64, 10, 12, 12])\n",
      "start: torch.Size([64, 1, 28, 28])\n",
      "conv1: torch.Size([64, 10, 24, 24])\n",
      "pool1: torch.Size([64, 10, 12, 12])\n",
      "start: torch.Size([64, 1, 28, 28])\n",
      "conv1: torch.Size([64, 10, 24, 24])\n",
      "pool1: torch.Size([64, 10, 12, 12])\n"
     ]
    },
    {
     "name": "stderr",
     "output_type": "stream",
     "text": [
      "Epoch 1:  51%|█████████████████████                    | 483/938 [00:14<00:12, 36.94batch/s, accuracy=92.2, loss=0.213]"
     ]
    },
    {
     "name": "stdout",
     "output_type": "stream",
     "text": [
      "start: torch.Size([64, 1, 28, 28])\n",
      "conv1: torch.Size([64, 10, 24, 24])\n",
      "pool1: torch.Size([64, 10, 12, 12])\n",
      "start: torch.Size([64, 1, 28, 28])\n",
      "conv1: torch.Size([64, 10, 24, 24])\n",
      "pool1: torch.Size([64, 10, 12, 12])\n",
      "start: torch.Size([64, 1, 28, 28])\n",
      "conv1: torch.Size([64, 10, 24, 24])\n",
      "pool1: torch.Size([64, 10, 12, 12])\n",
      "start: torch.Size([64, 1, 28, 28])\n",
      "conv1: torch.Size([64, 10, 24, 24])\n",
      "pool1: torch.Size([64, 10, 12, 12])\n",
      "start: torch.Size([64, 1, 28, 28])\n",
      "conv1: torch.Size([64, 10, 24, 24])\n",
      "pool1: torch.Size([64, 10, 12, 12])\n",
      "start: torch.Size([64, 1, 28, 28])\n",
      "conv1: torch.Size([64, 10, 24, 24])\n",
      "pool1: torch.Size([64, 10, 12, 12])\n",
      "start: torch.Size([64, 1, 28, 28])\n",
      "conv1: torch.Size([64, 10, 24, 24])\n",
      "pool1: torch.Size([64, 10, 12, 12])\n",
      "start: torch.Size([64, 1, 28, 28])\n"
     ]
    },
    {
     "name": "stderr",
     "output_type": "stream",
     "text": [
      "Epoch 1:  52%|████████████████████▊                   | 487/938 [00:14<00:12, 36.90batch/s, accuracy=96.9, loss=0.0634]"
     ]
    },
    {
     "name": "stdout",
     "output_type": "stream",
     "text": [
      "conv1: torch.Size([64, 10, 24, 24])\n",
      "pool1: torch.Size([64, 10, 12, 12])\n",
      "start: torch.Size([64, 1, 28, 28])\n",
      "conv1: torch.Size([64, 10, 24, 24])\n",
      "pool1: torch.Size([64, 10, 12, 12])\n",
      "start: torch.Size([64, 1, 28, 28])\n",
      "conv1: torch.Size([64, 10, 24, 24])\n",
      "pool1: torch.Size([64, 10, 12, 12])\n",
      "start: torch.Size([64, 1, 28, 28])\n",
      "conv1: torch.Size([64, 10, 24, 24])\n",
      "pool1: torch.Size([64, 10, 12, 12])\n",
      "start: torch.Size([64, 1, 28, 28])\n",
      "conv1: torch.Size([64, 10, 24, 24])\n",
      "pool1: torch.Size([64, 10, 12, 12])\n",
      "start: torch.Size([64, 1, 28, 28])\n",
      "conv1: torch.Size([64, 10, 24, 24])\n",
      "pool1: torch.Size([64, 10, 12, 12])\n",
      "start: torch.Size([64, 1, 28, 28])\n"
     ]
    },
    {
     "name": "stderr",
     "output_type": "stream",
     "text": [
      "Epoch 1:  53%|█████████████████████▋                   | 495/938 [00:14<00:12, 35.70batch/s, accuracy=96.9, loss=0.133]"
     ]
    },
    {
     "name": "stdout",
     "output_type": "stream",
     "text": [
      "conv1: torch.Size([64, 10, 24, 24])\n",
      "pool1: torch.Size([64, 10, 12, 12])\n",
      "start: torch.Size([64, 1, 28, 28])\n",
      "conv1: torch.Size([64, 10, 24, 24])\n",
      "pool1: torch.Size([64, 10, 12, 12])\n",
      "start: torch.Size([64, 1, 28, 28])\n",
      "conv1: torch.Size([64, 10, 24, 24])\n",
      "pool1: torch.Size([64, 10, 12, 12])\n",
      "start: torch.Size([64, 1, 28, 28])\n",
      "conv1: torch.Size([64, 10, 24, 24])\n",
      "pool1: torch.Size([64, 10, 12, 12])\n",
      "start: torch.Size([64, 1, 28, 28])\n",
      "conv1: torch.Size([64, 10, 24, 24])\n",
      "pool1: torch.Size([64, 10, 12, 12])\n",
      "start: torch.Size([64, 1, 28, 28])\n",
      "conv1: torch.Size([64, 10, 24, 24])\n",
      "pool1: torch.Size([64, 10, 12, 12])\n",
      "start: torch.Size([64, 1, 28, 28])\n",
      "conv1: torch.Size([64, 10, 24, 24])\n",
      "pool1: torch.Size([64, 10, 12, 12])\n",
      "start: torch.Size([64, 1, 28, 28])\n"
     ]
    },
    {
     "name": "stderr",
     "output_type": "stream",
     "text": [
      "Epoch 1:  54%|█████████████████████▉                   | 503/938 [00:15<00:11, 36.28batch/s, accuracy=89.1, loss=0.455]"
     ]
    },
    {
     "name": "stdout",
     "output_type": "stream",
     "text": [
      "conv1: torch.Size([64, 10, 24, 24])\n",
      "pool1: torch.Size([64, 10, 12, 12])\n",
      "start: torch.Size([64, 1, 28, 28])\n",
      "conv1: torch.Size([64, 10, 24, 24])\n",
      "pool1: torch.Size([64, 10, 12, 12])\n",
      "start: torch.Size([64, 1, 28, 28])\n",
      "conv1: torch.Size([64, 10, 24, 24])\n",
      "pool1: torch.Size([64, 10, 12, 12])\n",
      "start: torch.Size([64, 1, 28, 28])\n",
      "conv1: torch.Size([64, 10, 24, 24])\n",
      "pool1: torch.Size([64, 10, 12, 12])\n",
      "start: torch.Size([64, 1, 28, 28])\n",
      "conv1: torch.Size([64, 10, 24, 24])\n",
      "pool1: torch.Size([64, 10, 12, 12])\n",
      "start: torch.Size([64, 1, 28, 28])\n",
      "conv1: torch.Size([64, 10, 24, 24])\n",
      "pool1: torch.Size([64, 10, 12, 12])\n",
      "start: torch.Size([64, 1, 28, 28])\n",
      "conv1: torch.Size([64, 10, 24, 24])\n",
      "pool1: torch.Size([64, 10, 12, 12])\n",
      "start: torch.Size([64, 1, 28, 28])\n"
     ]
    },
    {
     "name": "stderr",
     "output_type": "stream",
     "text": [
      "Epoch 1:  54%|██████████████████████▏                  | 507/938 [00:15<00:11, 37.04batch/s, accuracy=96.9, loss=0.154]"
     ]
    },
    {
     "name": "stdout",
     "output_type": "stream",
     "text": [
      "conv1: torch.Size([64, 10, 24, 24])\n",
      "pool1: torch.Size([64, 10, 12, 12])\n",
      "start: torch.Size([64, 1, 28, 28])\n",
      "conv1: torch.Size([64, 10, 24, 24])\n",
      "pool1: torch.Size([64, 10, 12, 12])\n",
      "start: torch.Size([64, 1, 28, 28])\n",
      "conv1: torch.Size([64, 10, 24, 24])\n",
      "pool1: torch.Size([64, 10, 12, 12])\n",
      "start: torch.Size([64, 1, 28, 28])\n",
      "conv1: torch.Size([64, 10, 24, 24])\n",
      "pool1: torch.Size([64, 10, 12, 12])\n",
      "start: torch.Size([64, 1, 28, 28])\n",
      "conv1: torch.Size([64, 10, 24, 24])\n",
      "pool1: torch.Size([64, 10, 12, 12])\n",
      "start: torch.Size([64, 1, 28, 28])\n",
      "conv1: torch.Size([64, 10, 24, 24])\n",
      "pool1: torch.Size([64, 10, 12, 12])\n",
      "start: torch.Size([64, 1, 28, 28])\n",
      "conv1: torch.Size([64, 10, 24, 24])\n",
      "pool1: torch.Size([64, 10, 12, 12])\n",
      "start: torch.Size([64, 1, 28, 28])\n",
      "conv1: torch.Size([64, 10, 24, 24])\n",
      "pool1: torch.Size([64, 10, 12, 12])\n"
     ]
    },
    {
     "name": "stderr",
     "output_type": "stream",
     "text": [
      "Epoch 1:  55%|██████████████████████▌                  | 515/938 [00:15<00:11, 36.97batch/s, accuracy=93.8, loss=0.177]"
     ]
    },
    {
     "name": "stdout",
     "output_type": "stream",
     "text": [
      "start: torch.Size([64, 1, 28, 28])\n",
      "conv1: torch.Size([64, 10, 24, 24])\n",
      "pool1: torch.Size([64, 10, 12, 12])\n",
      "start: torch.Size([64, 1, 28, 28])\n",
      "conv1: torch.Size([64, 10, 24, 24])\n",
      "pool1: torch.Size([64, 10, 12, 12])\n",
      "start: torch.Size([64, 1, 28, 28])\n",
      "conv1: torch.Size([64, 10, 24, 24])\n",
      "pool1: torch.Size([64, 10, 12, 12])\n",
      "start: torch.Size([64, 1, 28, 28])\n",
      "conv1: torch.Size([64, 10, 24, 24])\n",
      "pool1: torch.Size([64, 10, 12, 12])\n",
      "start: torch.Size([64, 1, 28, 28])\n",
      "conv1: torch.Size([64, 10, 24, 24])\n",
      "pool1: torch.Size([64, 10, 12, 12])\n",
      "start: torch.Size([64, 1, 28, 28])\n",
      "conv1: torch.Size([64, 10, 24, 24])\n",
      "pool1: torch.Size([64, 10, 12, 12])\n",
      "start: torch.Size([64, 1, 28, 28])\n",
      "conv1: torch.Size([64, 10, 24, 24])\n",
      "pool1: torch.Size([64, 10, 12, 12])\n",
      "start: torch.Size([64, 1, 28, 28])\n"
     ]
    },
    {
     "name": "stderr",
     "output_type": "stream",
     "text": [
      "Epoch 1:  56%|██████████████████████▊                  | 523/938 [00:15<00:11, 37.52batch/s, accuracy=95.3, loss=0.118]"
     ]
    },
    {
     "name": "stdout",
     "output_type": "stream",
     "text": [
      "conv1: torch.Size([64, 10, 24, 24])\n",
      "pool1: torch.Size([64, 10, 12, 12])\n",
      "start: torch.Size([64, 1, 28, 28])\n",
      "conv1: torch.Size([64, 10, 24, 24])\n",
      "pool1: torch.Size([64, 10, 12, 12])\n",
      "start: torch.Size([64, 1, 28, 28])\n",
      "conv1: torch.Size([64, 10, 24, 24])\n",
      "pool1: torch.Size([64, 10, 12, 12])\n",
      "start: torch.Size([64, 1, 28, 28])\n",
      "conv1: torch.Size([64, 10, 24, 24])\n",
      "pool1: torch.Size([64, 10, 12, 12])\n",
      "start: torch.Size([64, 1, 28, 28])\n",
      "conv1: torch.Size([64, 10, 24, 24])\n",
      "pool1: torch.Size([64, 10, 12, 12])\n",
      "start: torch.Size([64, 1, 28, 28])\n",
      "conv1: torch.Size([64, 10, 24, 24])\n",
      "pool1: torch.Size([64, 10, 12, 12])\n",
      "start: torch.Size([64, 1, 28, 28])\n",
      "conv1: torch.Size([64, 10, 24, 24])\n",
      "pool1: torch.Size([64, 10, 12, 12])\n",
      "start: torch.Size([64, 1, 28, 28])\n"
     ]
    },
    {
     "name": "stderr",
     "output_type": "stream",
     "text": [
      "Epoch 1:  57%|███████████████████████▏                 | 531/938 [00:15<00:10, 37.85batch/s, accuracy=92.2, loss=0.549]"
     ]
    },
    {
     "name": "stdout",
     "output_type": "stream",
     "text": [
      "conv1: torch.Size([64, 10, 24, 24])\n",
      "pool1: torch.Size([64, 10, 12, 12])\n",
      "start: torch.Size([64, 1, 28, 28])\n",
      "conv1: torch.Size([64, 10, 24, 24])\n",
      "pool1: torch.Size([64, 10, 12, 12])\n",
      "start: torch.Size([64, 1, 28, 28])\n",
      "conv1: torch.Size([64, 10, 24, 24])\n",
      "pool1: torch.Size([64, 10, 12, 12])\n",
      "start: torch.Size([64, 1, 28, 28])\n",
      "conv1: torch.Size([64, 10, 24, 24])\n",
      "pool1: torch.Size([64, 10, 12, 12])\n",
      "start: torch.Size([64, 1, 28, 28])\n",
      "conv1: torch.Size([64, 10, 24, 24])\n",
      "pool1: torch.Size([64, 10, 12, 12])\n",
      "start: torch.Size([64, 1, 28, 28])\n",
      "conv1: torch.Size([64, 10, 24, 24])\n",
      "pool1: torch.Size([64, 10, 12, 12])\n",
      "start: torch.Size([64, 1, 28, 28])\n",
      "conv1: torch.Size([64, 10, 24, 24])\n",
      "pool1: torch.Size([64, 10, 12, 12])\n",
      "start: torch.Size([64, 1, 28, 28])\n"
     ]
    },
    {
     "name": "stderr",
     "output_type": "stream",
     "text": [
      "Epoch 1:  57%|███████████████████████▍                 | 536/938 [00:16<00:10, 38.92batch/s, accuracy=92.2, loss=0.393]"
     ]
    },
    {
     "name": "stdout",
     "output_type": "stream",
     "text": [
      "conv1: torch.Size([64, 10, 24, 24])\n",
      "pool1: torch.Size([64, 10, 12, 12])\n",
      "start: torch.Size([64, 1, 28, 28])\n",
      "conv1: torch.Size([64, 10, 24, 24])\n",
      "pool1: torch.Size([64, 10, 12, 12])\n",
      "start: torch.Size([64, 1, 28, 28])\n",
      "conv1: torch.Size([64, 10, 24, 24])\n",
      "pool1: torch.Size([64, 10, 12, 12])\n",
      "start: torch.Size([64, 1, 28, 28])\n",
      "conv1: torch.Size([64, 10, 24, 24])\n",
      "pool1: torch.Size([64, 10, 12, 12])\n",
      "start: torch.Size([64, 1, 28, 28])\n",
      "conv1: torch.Size([64, 10, 24, 24])\n",
      "pool1: torch.Size([64, 10, 12, 12])\n",
      "start: torch.Size([64, 1, 28, 28])\n",
      "conv1: torch.Size([64, 10, 24, 24])\n",
      "pool1: torch.Size([64, 10, 12, 12])\n",
      "start: torch.Size([64, 1, 28, 28])\n",
      "conv1: torch.Size([64, 10, 24, 24])\n",
      "pool1: torch.Size([64, 10, 12, 12])\n",
      "start: torch.Size([64, 1, 28, 28])\n",
      "conv1: torch.Size([64, 10, 24, 24])\n",
      "pool1: torch.Size([64, 10, 12, 12])\n",
      "start: torch.Size([64, 1, 28, 28])\n"
     ]
    },
    {
     "name": "stderr",
     "output_type": "stream",
     "text": [
      "Epoch 1:  58%|███████████████████████▊                 | 545/938 [00:16<00:10, 39.01batch/s, accuracy=90.6, loss=0.321]"
     ]
    },
    {
     "name": "stdout",
     "output_type": "stream",
     "text": [
      "conv1: torch.Size([64, 10, 24, 24])\n",
      "pool1: torch.Size([64, 10, 12, 12])\n",
      "start: torch.Size([64, 1, 28, 28])\n",
      "conv1: torch.Size([64, 10, 24, 24])\n",
      "pool1: torch.Size([64, 10, 12, 12])\n",
      "start: torch.Size([64, 1, 28, 28])\n",
      "conv1: torch.Size([64, 10, 24, 24])\n",
      "pool1: torch.Size([64, 10, 12, 12])\n",
      "start: torch.Size([64, 1, 28, 28])\n",
      "conv1: torch.Size([64, 10, 24, 24])\n",
      "pool1: torch.Size([64, 10, 12, 12])\n",
      "start: torch.Size([64, 1, 28, 28])\n",
      "conv1: torch.Size([64, 10, 24, 24])\n",
      "pool1: torch.Size([64, 10, 12, 12])\n",
      "start: torch.Size([64, 1, 28, 28])\n",
      "conv1: torch.Size([64, 10, 24, 24])\n",
      "pool1: torch.Size([64, 10, 12, 12])\n",
      "start: torch.Size([64, 1, 28, 28])\n",
      "conv1: torch.Size([64, 10, 24, 24])\n",
      "pool1: torch.Size([64, 10, 12, 12])\n",
      "start: torch.Size([64, 1, 28, 28])\n"
     ]
    },
    {
     "name": "stderr",
     "output_type": "stream",
     "text": [
      "Epoch 1:  59%|████████████████████████▏                | 553/938 [00:16<00:09, 38.59batch/s, accuracy=90.6, loss=0.341]"
     ]
    },
    {
     "name": "stdout",
     "output_type": "stream",
     "text": [
      "conv1: torch.Size([64, 10, 24, 24])\n",
      "pool1: torch.Size([64, 10, 12, 12])\n",
      "start: torch.Size([64, 1, 28, 28])\n",
      "conv1: torch.Size([64, 10, 24, 24])\n",
      "pool1: torch.Size([64, 10, 12, 12])\n",
      "start: torch.Size([64, 1, 28, 28])\n",
      "conv1: torch.Size([64, 10, 24, 24])\n",
      "pool1: torch.Size([64, 10, 12, 12])\n",
      "start: torch.Size([64, 1, 28, 28])\n",
      "conv1: torch.Size([64, 10, 24, 24])\n",
      "pool1: torch.Size([64, 10, 12, 12])\n",
      "start: torch.Size([64, 1, 28, 28])\n",
      "conv1: torch.Size([64, 10, 24, 24])\n",
      "pool1: torch.Size([64, 10, 12, 12])\n",
      "start: torch.Size([64, 1, 28, 28])\n",
      "conv1: torch.Size([64, 10, 24, 24])\n",
      "pool1: torch.Size([64, 10, 12, 12])\n",
      "start: torch.Size([64, 1, 28, 28])\n",
      "conv1: torch.Size([64, 10, 24, 24])\n",
      "pool1: torch.Size([64, 10, 12, 12])\n",
      "start: torch.Size([64, 1, 28, 28])\n",
      "conv1: torch.Size([64, 10, 24, 24])"
     ]
    },
    {
     "name": "stderr",
     "output_type": "stream",
     "text": [
      "Epoch 1:  60%|████████████████████████▌                | 562/938 [00:16<00:09, 39.20batch/s, accuracy=90.6, loss=0.222]"
     ]
    },
    {
     "name": "stdout",
     "output_type": "stream",
     "text": [
      "\n",
      "pool1: torch.Size([64, 10, 12, 12])\n",
      "start: torch.Size([64, 1, 28, 28])\n",
      "conv1: torch.Size([64, 10, 24, 24])\n",
      "pool1: torch.Size([64, 10, 12, 12])\n",
      "start: torch.Size([64, 1, 28, 28])\n",
      "conv1: torch.Size([64, 10, 24, 24])\n",
      "pool1: torch.Size([64, 10, 12, 12])\n",
      "start: torch.Size([64, 1, 28, 28])\n",
      "conv1: torch.Size([64, 10, 24, 24])\n",
      "pool1: torch.Size([64, 10, 12, 12])\n",
      "start: torch.Size([64, 1, 28, 28])\n",
      "conv1: torch.Size([64, 10, 24, 24])\n",
      "pool1: torch.Size([64, 10, 12, 12])\n",
      "start: torch.Size([64, 1, 28, 28])\n",
      "conv1: torch.Size([64, 10, 24, 24])\n",
      "pool1: torch.Size([64, 10, 12, 12])\n",
      "start: torch.Size([64, 1, 28, 28])\n",
      "conv1: torch.Size([64, 10, 24, 24])\n",
      "pool1: torch.Size([64, 10, 12, 12])\n",
      "start: torch.Size([64, 1, 28, 28])\n",
      "conv1: torch.Size([64, 10, 24, 24])\n",
      "pool1: torch.Size([64, 10, 12, 12])\n"
     ]
    },
    {
     "name": "stderr",
     "output_type": "stream",
     "text": [
      "Epoch 1:  60%|████████████████████████▋                | 566/938 [00:16<00:09, 38.06batch/s, accuracy=93.8, loss=0.179]"
     ]
    },
    {
     "name": "stdout",
     "output_type": "stream",
     "text": [
      "start: torch.Size([64, 1, 28, 28])\n",
      "conv1: torch.Size([64, 10, 24, 24])\n",
      "pool1: torch.Size([64, 10, 12, 12])\n",
      "start: torch.Size([64, 1, 28, 28])\n",
      "conv1: torch.Size([64, 10, 24, 24])\n",
      "pool1: torch.Size([64, 10, 12, 12])\n",
      "start: torch.Size([64, 1, 28, 28])\n",
      "conv1: torch.Size([64, 10, 24, 24])\n",
      "pool1: torch.Size([64, 10, 12, 12])\n",
      "start: torch.Size([64, 1, 28, 28])\n",
      "conv1: torch.Size([64, 10, 24, 24])\n",
      "pool1: torch.Size([64, 10, 12, 12])\n",
      "start: torch.Size([64, 1, 28, 28])\n",
      "conv1: torch.Size([64, 10, 24, 24])\n",
      "pool1: torch.Size([64, 10, 12, 12])\n",
      "start: torch.Size([64, 1, 28, 28])\n",
      "conv1: torch.Size([64, 10, 24, 24])\n",
      "pool1: torch.Size([64, 10, 12, 12])\n",
      "start: torch.Size([64, 1, 28, 28])\n",
      "conv1: torch.Size([64, 10, 24, 24])\n",
      "pool1: torch.Size([64, 10, 12, 12])\n",
      "start: torch.Size([64, 1, 28, 28])\n"
     ]
    },
    {
     "name": "stderr",
     "output_type": "stream",
     "text": [
      "Epoch 1:  61%|█████████████████████████▏               | 575/938 [00:16<00:09, 38.62batch/s, accuracy=93.8, loss=0.478]"
     ]
    },
    {
     "name": "stdout",
     "output_type": "stream",
     "text": [
      "conv1: torch.Size([64, 10, 24, 24])\n",
      "pool1: torch.Size([64, 10, 12, 12])\n",
      "start: torch.Size([64, 1, 28, 28])\n",
      "conv1: torch.Size([64, 10, 24, 24])\n",
      "pool1: torch.Size([64, 10, 12, 12])\n",
      "start: torch.Size([64, 1, 28, 28])\n",
      "conv1: torch.Size([64, 10, 24, 24])\n",
      "pool1: torch.Size([64, 10, 12, 12])\n",
      "start: torch.Size([64, 1, 28, 28])\n",
      "conv1: torch.Size([64, 10, 24, 24])\n",
      "pool1: torch.Size([64, 10, 12, 12])\n",
      "start: torch.Size([64, 1, 28, 28])\n",
      "conv1: torch.Size([64, 10, 24, 24])\n",
      "pool1: torch.Size([64, 10, 12, 12])\n",
      "start: torch.Size([64, 1, 28, 28])\n",
      "conv1: torch.Size([64, 10, 24, 24])\n",
      "pool1: torch.Size([64, 10, 12, 12])\n",
      "start: torch.Size([64, 1, 28, 28])\n",
      "conv1: torch.Size([64, 10, 24, 24])\n",
      "pool1: torch.Size([64, 10, 12, 12])\n",
      "start: torch.Size([64, 1, 28, 28])\n",
      "conv1: torch.Size([64, 10, 24, 24])\n",
      "pool1: torch.Size([64, 10, 12, 12])\n"
     ]
    },
    {
     "name": "stderr",
     "output_type": "stream",
     "text": [
      "Epoch 1:  62%|█████████████████████████▌               | 584/938 [00:17<00:09, 39.30batch/s, accuracy=96.9, loss=0.134]"
     ]
    },
    {
     "name": "stdout",
     "output_type": "stream",
     "text": [
      "start: torch.Size([64, 1, 28, 28])\n",
      "conv1: torch.Size([64, 10, 24, 24])\n",
      "pool1: torch.Size([64, 10, 12, 12])\n",
      "start: torch.Size([64, 1, 28, 28])\n",
      "conv1: torch.Size([64, 10, 24, 24])\n",
      "pool1: torch.Size([64, 10, 12, 12])\n",
      "start: torch.Size([64, 1, 28, 28])\n",
      "conv1: torch.Size([64, 10, 24, 24])\n",
      "pool1: torch.Size([64, 10, 12, 12])\n",
      "start: torch.Size([64, 1, 28, 28])\n",
      "conv1: torch.Size([64, 10, 24, 24])\n",
      "pool1: torch.Size([64, 10, 12, 12])\n",
      "start: torch.Size([64, 1, 28, 28])\n",
      "conv1: torch.Size([64, 10, 24, 24])\n",
      "pool1: torch.Size([64, 10, 12, 12])\n",
      "start: torch.Size([64, 1, 28, 28])\n",
      "conv1: torch.Size([64, 10, 24, 24])\n",
      "pool1: torch.Size([64, 10, 12, 12])\n",
      "start: torch.Size([64, 1, 28, 28])\n",
      "conv1: torch.Size([64, 10, 24, 24])\n",
      "pool1: torch.Size([64, 10, 12, 12])\n",
      "start: torch.Size([64, 1, 28, 28])\n"
     ]
    },
    {
     "name": "stderr",
     "output_type": "stream",
     "text": [
      "Epoch 1:  63%|█████████████████████████▋               | 588/938 [00:17<00:08, 38.99batch/s, accuracy=96.9, loss=0.116]"
     ]
    },
    {
     "name": "stdout",
     "output_type": "stream",
     "text": [
      "conv1: torch.Size([64, 10, 24, 24])\n",
      "pool1: torch.Size([64, 10, 12, 12])\n",
      "start: torch.Size([64, 1, 28, 28])\n",
      "conv1: torch.Size([64, 10, 24, 24])\n",
      "pool1: torch.Size([64, 10, 12, 12])\n",
      "start: torch.Size([64, 1, 28, 28])\n",
      "conv1: torch.Size([64, 10, 24, 24])\n",
      "pool1: torch.Size([64, 10, 12, 12])\n",
      "start: torch.Size([64, 1, 28, 28])\n",
      "conv1: torch.Size([64, 10, 24, 24])\n",
      "pool1: torch.Size([64, 10, 12, 12])\n",
      "start: torch.Size([64, 1, 28, 28])\n",
      "conv1: torch.Size([64, 10, 24, 24])\n",
      "pool1: torch.Size([64, 10, 12, 12])\n",
      "start: torch.Size([64, 1, 28, 28])\n",
      "conv1: torch.Size([64, 10, 24, 24])\n",
      "pool1: torch.Size([64, 10, 12, 12])\n",
      "start: torch.Size([64, 1, 28, 28])\n",
      "conv1: torch.Size([64, 10, 24, 24])\n",
      "pool1: torch.Size([64, 10, 12, 12])\n",
      "start: torch.Size([64, 1, 28, 28])\n"
     ]
    },
    {
     "name": "stderr",
     "output_type": "stream",
     "text": [
      "Epoch 1:  64%|██████████████████████████               | 596/938 [00:17<00:09, 37.12batch/s, accuracy=93.8, loss=0.367]"
     ]
    },
    {
     "name": "stdout",
     "output_type": "stream",
     "text": [
      "conv1: torch.Size([64, 10, 24, 24])\n",
      "pool1: torch.Size([64, 10, 12, 12])\n",
      "start: torch.Size([64, 1, 28, 28])\n",
      "conv1: torch.Size([64, 10, 24, 24])\n",
      "pool1: torch.Size([64, 10, 12, 12])\n",
      "start: torch.Size([64, 1, 28, 28])\n",
      "conv1: torch.Size([64, 10, 24, 24])\n",
      "pool1: torch.Size([64, 10, 12, 12])\n",
      "start: torch.Size([64, 1, 28, 28])\n",
      "conv1: torch.Size([64, 10, 24, 24])\n",
      "pool1: torch.Size([64, 10, 12, 12])\n",
      "start: torch.Size([64, 1, 28, 28])\n",
      "conv1: torch.Size([64, 10, 24, 24])\n",
      "pool1: torch.Size([64, 10, 12, 12])\n",
      "start: torch.Size([64, 1, 28, 28])\n",
      "conv1: torch.Size([64, 10, 24, 24])\n",
      "pool1: torch.Size([64, 10, 12, 12])\n",
      "start: torch.Size([64, 1, 28, 28])\n",
      "conv1: torch.Size([64, 10, 24, 24])\n",
      "pool1: torch.Size([64, 10, 12, 12])\n"
     ]
    },
    {
     "name": "stderr",
     "output_type": "stream",
     "text": [
      "Epoch 1:  64%|██████████████████████████▍              | 604/938 [00:17<00:08, 37.86batch/s, accuracy=95.3, loss=0.145]"
     ]
    },
    {
     "name": "stdout",
     "output_type": "stream",
     "text": [
      "start: torch.Size([64, 1, 28, 28])\n",
      "conv1: torch.Size([64, 10, 24, 24])\n",
      "pool1: torch.Size([64, 10, 12, 12])\n",
      "start: torch.Size([64, 1, 28, 28])\n",
      "conv1: torch.Size([64, 10, 24, 24])\n",
      "pool1: torch.Size([64, 10, 12, 12])\n",
      "start: torch.Size([64, 1, 28, 28])\n",
      "conv1: torch.Size([64, 10, 24, 24])\n",
      "pool1: torch.Size([64, 10, 12, 12])\n",
      "start: torch.Size([64, 1, 28, 28])\n",
      "conv1: torch.Size([64, 10, 24, 24])\n",
      "pool1: torch.Size([64, 10, 12, 12])\n",
      "start: torch.Size([64, 1, 28, 28])\n",
      "conv1: torch.Size([64, 10, 24, 24])\n",
      "pool1: torch.Size([64, 10, 12, 12])\n",
      "start: torch.Size([64, 1, 28, 28])\n",
      "conv1: torch.Size([64, 10, 24, 24])\n",
      "pool1: torch.Size([64, 10, 12, 12])\n",
      "start: torch.Size([64, 1, 28, 28])\n",
      "conv1: torch.Size([64, 10, 24, 24])\n",
      "pool1: torch.Size([64, 10, 12, 12])\n",
      "start: torch.Size([64, 1, 28, 28])\n"
     ]
    },
    {
     "name": "stderr",
     "output_type": "stream",
     "text": [
      "Epoch 1:  65%|██████████████████████████▊              | 612/938 [00:17<00:08, 38.40batch/s, accuracy=92.2, loss=0.244]"
     ]
    },
    {
     "name": "stdout",
     "output_type": "stream",
     "text": [
      "conv1: torch.Size([64, 10, 24, 24])\n",
      "pool1: torch.Size([64, 10, 12, 12])\n",
      "start: torch.Size([64, 1, 28, 28])\n",
      "conv1: torch.Size([64, 10, 24, 24])\n",
      "pool1: torch.Size([64, 10, 12, 12])\n",
      "start: torch.Size([64, 1, 28, 28])\n",
      "conv1: torch.Size([64, 10, 24, 24])\n",
      "pool1: torch.Size([64, 10, 12, 12])\n",
      "start: torch.Size([64, 1, 28, 28])\n",
      "conv1: torch.Size([64, 10, 24, 24])\n",
      "pool1: torch.Size([64, 10, 12, 12])\n",
      "start: torch.Size([64, 1, 28, 28])\n",
      "conv1: torch.Size([64, 10, 24, 24])\n",
      "pool1: torch.Size([64, 10, 12, 12])\n",
      "start: torch.Size([64, 1, 28, 28])\n",
      "conv1: torch.Size([64, 10, 24, 24])\n",
      "pool1: torch.Size([64, 10, 12, 12])\n",
      "start: torch.Size([64, 1, 28, 28])\n",
      "conv1: torch.Size([64, 10, 24, 24])\n",
      "pool1: torch.Size([64, 10, 12, 12])\n",
      "start: torch.Size([64, 1, 28, 28])\n",
      "conv1: torch.Size([64, 10, 24, 24])\n",
      "pool1: torch.Size([64, 10, 12, 12])\n"
     ]
    },
    {
     "name": "stderr",
     "output_type": "stream",
     "text": [
      "Epoch 1:  66%|███████████████████████████▊              | 620/938 [00:18<00:08, 37.52batch/s, accuracy=93.8, loss=0.14]"
     ]
    },
    {
     "name": "stdout",
     "output_type": "stream",
     "text": [
      "start: torch.Size([64, 1, 28, 28])\n",
      "conv1: torch.Size([64, 10, 24, 24])\n",
      "pool1: torch.Size([64, 10, 12, 12])\n",
      "start: torch.Size([64, 1, 28, 28])\n",
      "conv1: torch.Size([64, 10, 24, 24])\n",
      "pool1: torch.Size([64, 10, 12, 12])\n",
      "start: torch.Size([64, 1, 28, 28])\n",
      "conv1: torch.Size([64, 10, 24, 24])\n",
      "pool1: torch.Size([64, 10, 12, 12])\n",
      "start: torch.Size([64, 1, 28, 28])\n",
      "conv1: torch.Size([64, 10, 24, 24])\n",
      "pool1: torch.Size([64, 10, 12, 12])\n",
      "start: torch.Size([64, 1, 28, 28])\n",
      "conv1: torch.Size([64, 10, 24, 24])\n",
      "pool1: torch.Size([64, 10, 12, 12])\n",
      "start: torch.Size([64, 1, 28, 28])\n",
      "conv1: torch.Size([64, 10, 24, 24])\n",
      "pool1: torch.Size([64, 10, 12, 12])\n",
      "start: torch.Size([64, 1, 28, 28])\n",
      "conv1: torch.Size([64, 10, 24, 24])\n",
      "pool1: torch.Size([64, 10, 12, 12])\n",
      "start: torch.Size([64, 1, 28, 28])\n"
     ]
    },
    {
     "name": "stderr",
     "output_type": "stream",
     "text": [
      "Epoch 1:  67%|███████████████████████████▎             | 624/938 [00:18<00:08, 37.72batch/s, accuracy=95.3, loss=0.123]"
     ]
    },
    {
     "name": "stdout",
     "output_type": "stream",
     "text": [
      "conv1: torch.Size([64, 10, 24, 24])\n",
      "pool1: torch.Size([64, 10, 12, 12])\n",
      "start: torch.Size([64, 1, 28, 28])\n",
      "conv1: torch.Size([64, 10, 24, 24])\n",
      "pool1: torch.Size([64, 10, 12, 12])\n",
      "start: torch.Size([64, 1, 28, 28])\n",
      "conv1: torch.Size([64, 10, 24, 24])\n",
      "pool1: torch.Size([64, 10, 12, 12])\n",
      "start: torch.Size([64, 1, 28, 28])\n",
      "conv1: torch.Size([64, 10, 24, 24])\n",
      "pool1: torch.Size([64, 10, 12, 12])\n",
      "start: torch.Size([64, 1, 28, 28])\n",
      "conv1: torch.Size([64, 10, 24, 24])\n",
      "pool1: torch.Size([64, 10, 12, 12])\n",
      "start: torch.Size([64, 1, 28, 28])\n",
      "conv1: torch.Size([64, 10, 24, 24])\n",
      "pool1: torch.Size([64, 10, 12, 12])\n",
      "start: torch.Size([64, 1, 28, 28])\n",
      "conv1: torch.Size([64, 10, 24, 24])\n",
      "pool1: torch.Size([64, 10, 12, 12])\n",
      "start: torch.Size([64, 1, 28, 28])\n",
      "conv1: torch.Size([64, 10, 24, 24])\n"
     ]
    },
    {
     "name": "stderr",
     "output_type": "stream",
     "text": [
      "Epoch 1:  67%|███████████████████████████▋             | 633/938 [00:18<00:07, 38.67batch/s, accuracy=96.9, loss=0.203]"
     ]
    },
    {
     "name": "stdout",
     "output_type": "stream",
     "text": [
      "pool1: torch.Size([64, 10, 12, 12])\n",
      "start: torch.Size([64, 1, 28, 28])\n",
      "conv1: torch.Size([64, 10, 24, 24])\n",
      "pool1: torch.Size([64, 10, 12, 12])\n",
      "start: torch.Size([64, 1, 28, 28])\n",
      "conv1: torch.Size([64, 10, 24, 24])\n",
      "pool1: torch.Size([64, 10, 12, 12])\n",
      "start: torch.Size([64, 1, 28, 28])\n",
      "conv1: torch.Size([64, 10, 24, 24])\n",
      "pool1: torch.Size([64, 10, 12, 12])\n",
      "start: torch.Size([64, 1, 28, 28])\n",
      "conv1: torch.Size([64, 10, 24, 24])\n",
      "pool1: torch.Size([64, 10, 12, 12])\n",
      "start: torch.Size([64, 1, 28, 28])\n",
      "conv1: torch.Size([64, 10, 24, 24])\n",
      "pool1: torch.Size([64, 10, 12, 12])\n",
      "start: torch.Size([64, 1, 28, 28])\n",
      "conv1: torch.Size([64, 10, 24, 24])\n",
      "pool1: torch.Size([64, 10, 12, 12])\n",
      "start: torch.Size([64, 1, 28, 28])\n"
     ]
    },
    {
     "name": "stderr",
     "output_type": "stream",
     "text": [
      "Epoch 1:  68%|███████████████████████████▎            | 641/938 [00:18<00:07, 37.43batch/s, accuracy=96.9, loss=0.0956]"
     ]
    },
    {
     "name": "stdout",
     "output_type": "stream",
     "text": [
      "conv1: torch.Size([64, 10, 24, 24])\n",
      "pool1: torch.Size([64, 10, 12, 12])\n",
      "start: torch.Size([64, 1, 28, 28])\n",
      "conv1: torch.Size([64, 10, 24, 24])\n",
      "pool1: torch.Size([64, 10, 12, 12])\n",
      "start: torch.Size([64, 1, 28, 28])\n",
      "conv1: torch.Size([64, 10, 24, 24])\n",
      "pool1: torch.Size([64, 10, 12, 12])\n",
      "start: torch.Size([64, 1, 28, 28])\n",
      "conv1: torch.Size([64, 10, 24, 24])\n",
      "pool1: torch.Size([64, 10, 12, 12])\n",
      "start: torch.Size([64, 1, 28, 28])\n",
      "conv1: torch.Size([64, 10, 24, 24])\n",
      "pool1: torch.Size([64, 10, 12, 12])\n",
      "start: torch.Size([64, 1, 28, 28])\n",
      "conv1: torch.Size([64, 10, 24, 24])\n",
      "pool1: torch.Size([64, 10, 12, 12])\n",
      "start: torch.Size([64, 1, 28, 28])\n",
      "conv1: torch.Size([64, 10, 24, 24])\n",
      "pool1: torch.Size([64, 10, 12, 12])\n",
      "start: torch.Size([64, 1, 28, 28])\n"
     ]
    },
    {
     "name": "stderr",
     "output_type": "stream",
     "text": [
      "Epoch 1:  69%|████████████████████████████▏            | 645/938 [00:18<00:08, 36.44batch/s, accuracy=90.6, loss=0.473]"
     ]
    },
    {
     "name": "stdout",
     "output_type": "stream",
     "text": [
      "conv1: torch.Size([64, 10, 24, 24])\n",
      "pool1: torch.Size([64, 10, 12, 12])\n",
      "start: torch.Size([64, 1, 28, 28])\n",
      "conv1: torch.Size([64, 10, 24, 24])\n",
      "pool1: torch.Size([64, 10, 12, 12])\n",
      "start: torch.Size([64, 1, 28, 28])\n",
      "conv1: torch.Size([64, 10, 24, 24])\n",
      "pool1: torch.Size([64, 10, 12, 12])\n",
      "start: torch.Size([64, 1, 28, 28])\n",
      "conv1: torch.Size([64, 10, 24, 24])\n",
      "pool1: torch.Size([64, 10, 12, 12])\n",
      "start: torch.Size([64, 1, 28, 28])\n",
      "conv1: torch.Size([64, 10, 24, 24])\n",
      "pool1: torch.Size([64, 10, 12, 12])\n",
      "start: torch.Size([64, 1, 28, 28])\n",
      "conv1: torch.Size([64, 10, 24, 24])\n",
      "pool1: torch.Size([64, 10, 12, 12])\n",
      "start: torch.Size([64, 1, 28, 28])\n",
      "conv1: torch.Size([64, 10, 24, 24])\n",
      "pool1: torch.Size([64, 10, 12, 12])\n",
      "start: torch.Size([64, 1, 28, 28])\n"
     ]
    },
    {
     "name": "stderr",
     "output_type": "stream",
     "text": [
      "Epoch 1:  70%|████████████████████████████▌            | 654/938 [00:19<00:07, 37.74batch/s, accuracy=90.6, loss=0.239]"
     ]
    },
    {
     "name": "stdout",
     "output_type": "stream",
     "text": [
      "conv1: torch.Size([64, 10, 24, 24])\n",
      "pool1: torch.Size([64, 10, 12, 12])\n",
      "start: torch.Size([64, 1, 28, 28])\n",
      "conv1: torch.Size([64, 10, 24, 24])\n",
      "pool1: torch.Size([64, 10, 12, 12])\n",
      "start: torch.Size([64, 1, 28, 28])\n",
      "conv1: torch.Size([64, 10, 24, 24])\n",
      "pool1: torch.Size([64, 10, 12, 12])\n",
      "start: torch.Size([64, 1, 28, 28])\n",
      "conv1: torch.Size([64, 10, 24, 24])\n",
      "pool1: torch.Size([64, 10, 12, 12])\n",
      "start: torch.Size([64, 1, 28, 28])\n",
      "conv1: torch.Size([64, 10, 24, 24])\n",
      "pool1: torch.Size([64, 10, 12, 12])\n",
      "start: torch.Size([64, 1, 28, 28])\n",
      "conv1: torch.Size([64, 10, 24, 24])\n",
      "pool1: torch.Size([64, 10, 12, 12])\n",
      "start: torch.Size([64, 1, 28, 28])\n",
      "conv1: torch.Size([64, 10, 24, 24])\n",
      "pool1: torch.Size([64, 10, 12, 12])\n",
      "start: torch.Size([64, 1, 28, 28])\n"
     ]
    },
    {
     "name": "stderr",
     "output_type": "stream",
     "text": [
      "Epoch 1:  70%|████████████████████████████▊            | 659/938 [00:19<00:07, 38.30batch/s, accuracy=96.9, loss=0.111]"
     ]
    },
    {
     "name": "stdout",
     "output_type": "stream",
     "text": [
      "conv1: torch.Size([64, 10, 24, 24])\n",
      "pool1: torch.Size([64, 10, 12, 12])\n",
      "start: torch.Size([64, 1, 28, 28])\n",
      "conv1: torch.Size([64, 10, 24, 24])\n",
      "pool1: torch.Size([64, 10, 12, 12])\n",
      "start: torch.Size([64, 1, 28, 28])\n",
      "conv1: torch.Size([64, 10, 24, 24])\n",
      "pool1: torch.Size([64, 10, 12, 12])\n",
      "start: torch.Size([64, 1, 28, 28])\n",
      "conv1: torch.Size([64, 10, 24, 24])\n",
      "pool1: torch.Size([64, 10, 12, 12])\n",
      "start: torch.Size([64, 1, 28, 28])\n",
      "conv1: torch.Size([64, 10, 24, 24])\n",
      "pool1: torch.Size([64, 10, 12, 12])\n",
      "start: torch.Size([64, 1, 28, 28])\n",
      "conv1: torch.Size([64, 10, 24, 24])\n",
      "pool1: torch.Size([64, 10, 12, 12])\n",
      "start: torch.Size([64, 1, 28, 28])\n",
      "conv1: torch.Size([64, 10, 24, 24])\n",
      "pool1: torch.Size([64, 10, 12, 12])\n",
      "start: torch.Size([64, 1, 28, 28])\n",
      "conv1: torch.Size([64, 10, 24, 24])\n"
     ]
    },
    {
     "name": "stderr",
     "output_type": "stream",
     "text": [
      "Epoch 1:  71%|█████████████████████████████▏           | 667/938 [00:19<00:07, 37.69batch/s, accuracy=96.9, loss=0.175]"
     ]
    },
    {
     "name": "stdout",
     "output_type": "stream",
     "text": [
      "pool1: torch.Size([64, 10, 12, 12])\n",
      "start: torch.Size([64, 1, 28, 28])\n",
      "conv1: torch.Size([64, 10, 24, 24])\n",
      "pool1: torch.Size([64, 10, 12, 12])\n",
      "start: torch.Size([64, 1, 28, 28])\n",
      "conv1: torch.Size([64, 10, 24, 24])\n",
      "pool1: torch.Size([64, 10, 12, 12])\n",
      "start: torch.Size([64, 1, 28, 28])\n",
      "conv1: torch.Size([64, 10, 24, 24])\n",
      "pool1: torch.Size([64, 10, 12, 12])\n",
      "start: torch.Size([64, 1, 28, 28])\n",
      "conv1: torch.Size([64, 10, 24, 24])\n",
      "pool1: torch.Size([64, 10, 12, 12])\n",
      "start: torch.Size([64, 1, 28, 28])\n",
      "conv1: torch.Size([64, 10, 24, 24])\n",
      "pool1: torch.Size([64, 10, 12, 12])\n",
      "start: torch.Size([64, 1, 28, 28])\n",
      "conv1: torch.Size([64, 10, 24, 24])\n",
      "pool1: torch.Size([64, 10, 12, 12])\n",
      "start: torch.Size([64, 1, 28, 28])\n"
     ]
    },
    {
     "name": "stderr",
     "output_type": "stream",
     "text": [
      "Epoch 1:  72%|█████████████████████████████▌           | 675/938 [00:19<00:07, 35.87batch/s, accuracy=93.8, loss=0.198]"
     ]
    },
    {
     "name": "stdout",
     "output_type": "stream",
     "text": [
      "conv1: torch.Size([64, 10, 24, 24])\n",
      "pool1: torch.Size([64, 10, 12, 12])\n",
      "start: torch.Size([64, 1, 28, 28])\n",
      "conv1: torch.Size([64, 10, 24, 24])\n",
      "pool1: torch.Size([64, 10, 12, 12])\n",
      "start: torch.Size([64, 1, 28, 28])\n",
      "conv1: torch.Size([64, 10, 24, 24])\n",
      "pool1: torch.Size([64, 10, 12, 12])\n",
      "start: torch.Size([64, 1, 28, 28])\n",
      "conv1: torch.Size([64, 10, 24, 24])\n",
      "pool1: torch.Size([64, 10, 12, 12])\n",
      "start: torch.Size([64, 1, 28, 28])\n",
      "conv1: torch.Size([64, 10, 24, 24])\n",
      "pool1: torch.Size([64, 10, 12, 12])\n",
      "start: torch.Size([64, 1, 28, 28])\n",
      "conv1: torch.Size([64, 10, 24, 24])\n",
      "pool1: torch.Size([64, 10, 12, 12])\n",
      "start: torch.Size([64, 1, 28, 28])\n",
      "conv1: torch.Size([64, 10, 24, 24])\n",
      "pool1: torch.Size([64, 10, 12, 12])\n"
     ]
    },
    {
     "name": "stderr",
     "output_type": "stream",
     "text": [
      "Epoch 1:  72%|█████████████████████████████▋           | 679/938 [00:19<00:07, 36.14batch/s, accuracy=95.3, loss=0.316]"
     ]
    },
    {
     "name": "stdout",
     "output_type": "stream",
     "text": [
      "start: torch.Size([64, 1, 28, 28])\n",
      "conv1: torch.Size([64, 10, 24, 24])\n",
      "pool1: torch.Size([64, 10, 12, 12])\n",
      "start: torch.Size([64, 1, 28, 28])\n",
      "conv1: torch.Size([64, 10, 24, 24])\n",
      "pool1: torch.Size([64, 10, 12, 12])\n",
      "start: torch.Size([64, 1, 28, 28])\n",
      "conv1: torch.Size([64, 10, 24, 24])\n",
      "pool1: torch.Size([64, 10, 12, 12])\n",
      "start: torch.Size([64, 1, 28, 28])\n",
      "conv1: torch.Size([64, 10, 24, 24])\n",
      "pool1: torch.Size([64, 10, 12, 12])\n",
      "start: torch.Size([64, 1, 28, 28])\n",
      "conv1: torch.Size([64, 10, 24, 24])\n",
      "pool1: torch.Size([64, 10, 12, 12])\n",
      "start: torch.Size([64, 1, 28, 28])\n",
      "conv1: torch.Size([64, 10, 24, 24])\n",
      "pool1: torch.Size([64, 10, 12, 12])\n",
      "start: torch.Size([64, 1, 28, 28])\n",
      "conv1: torch.Size([64, 10, 24, 24])\n",
      "pool1: torch.Size([64, 10, 12, 12])\n"
     ]
    },
    {
     "name": "stderr",
     "output_type": "stream",
     "text": [
      "Epoch 1:  73%|██████████████████████████████           | 687/938 [00:20<00:06, 36.08batch/s, accuracy=92.2, loss=0.231]"
     ]
    },
    {
     "name": "stdout",
     "output_type": "stream",
     "text": [
      "start: torch.Size([64, 1, 28, 28])\n",
      "conv1: torch.Size([64, 10, 24, 24])\n",
      "pool1: torch.Size([64, 10, 12, 12])\n",
      "start: torch.Size([64, 1, 28, 28])\n",
      "conv1: torch.Size([64, 10, 24, 24])\n",
      "pool1: torch.Size([64, 10, 12, 12])\n",
      "start: torch.Size([64, 1, 28, 28])\n",
      "conv1: torch.Size([64, 10, 24, 24])\n",
      "pool1: torch.Size([64, 10, 12, 12])\n",
      "start: torch.Size([64, 1, 28, 28])\n",
      "conv1: torch.Size([64, 10, 24, 24])\n",
      "pool1: torch.Size([64, 10, 12, 12])\n",
      "start: torch.Size([64, 1, 28, 28])\n",
      "conv1: torch.Size([64, 10, 24, 24])\n",
      "pool1: torch.Size([64, 10, 12, 12])\n",
      "start: torch.Size([64, 1, 28, 28])\n",
      "conv1: torch.Size([64, 10, 24, 24])\n",
      "pool1: torch.Size([64, 10, 12, 12])\n",
      "start: torch.Size([64, 1, 28, 28])\n",
      "conv1: torch.Size([64, 10, 24, 24])\n",
      "pool1: torch.Size([64, 10, 12, 12])\n",
      "start: torch.Size([64, 1, 28, 28])\n"
     ]
    },
    {
     "name": "stderr",
     "output_type": "stream",
     "text": [
      "Epoch 1:  74%|██████████████████████████████▍          | 695/938 [00:20<00:06, 36.36batch/s, accuracy=93.8, loss=0.244]"
     ]
    },
    {
     "name": "stdout",
     "output_type": "stream",
     "text": [
      "conv1: torch.Size([64, 10, 24, 24])\n",
      "pool1: torch.Size([64, 10, 12, 12])\n",
      "start: torch.Size([64, 1, 28, 28])\n",
      "conv1: torch.Size([64, 10, 24, 24])\n",
      "pool1: torch.Size([64, 10, 12, 12])\n",
      "start: torch.Size([64, 1, 28, 28])\n",
      "conv1: torch.Size([64, 10, 24, 24])\n",
      "pool1: torch.Size([64, 10, 12, 12])\n",
      "start: torch.Size([64, 1, 28, 28])\n",
      "conv1: torch.Size([64, 10, 24, 24])\n",
      "pool1: torch.Size([64, 10, 12, 12])\n",
      "start: torch.Size([64, 1, 28, 28])\n",
      "conv1: torch.Size([64, 10, 24, 24])\n",
      "pool1: torch.Size([64, 10, 12, 12])\n",
      "start: torch.Size([64, 1, 28, 28])\n",
      "conv1: torch.Size([64, 10, 24, 24])\n",
      "pool1: torch.Size([64, 10, 12, 12])\n",
      "start: torch.Size([64, 1, 28, 28])\n",
      "conv1: torch.Size([64, 10, 24, 24])\n",
      "pool1: torch.Size([64, 10, 12, 12])\n",
      "start: torch.Size([64, 1, 28, 28])\n"
     ]
    },
    {
     "name": "stderr",
     "output_type": "stream",
     "text": [
      "Epoch 1:  75%|█████████████████████████████▉          | 703/938 [00:20<00:06, 35.79batch/s, accuracy=96.9, loss=0.0946]"
     ]
    },
    {
     "name": "stdout",
     "output_type": "stream",
     "text": [
      "conv1: torch.Size([64, 10, 24, 24])\n",
      "pool1: torch.Size([64, 10, 12, 12])\n",
      "start: torch.Size([64, 1, 28, 28])\n",
      "conv1: torch.Size([64, 10, 24, 24])\n",
      "pool1: torch.Size([64, 10, 12, 12])\n",
      "start: torch.Size([64, 1, 28, 28])\n",
      "conv1: torch.Size([64, 10, 24, 24])\n",
      "pool1: torch.Size([64, 10, 12, 12])\n",
      "start: torch.Size([64, 1, 28, 28])\n",
      "conv1: torch.Size([64, 10, 24, 24])\n",
      "pool1: torch.Size([64, 10, 12, 12])\n",
      "start: torch.Size([64, 1, 28, 28])\n",
      "conv1: torch.Size([64, 10, 24, 24])\n",
      "pool1: torch.Size([64, 10, 12, 12])\n",
      "start: torch.Size([64, 1, 28, 28])\n",
      "conv1: torch.Size([64, 10, 24, 24])\n",
      "pool1: torch.Size([64, 10, 12, 12])\n",
      "start: torch.Size([64, 1, 28, 28])\n",
      "conv1: torch.Size([64, 10, 24, 24])\n",
      "pool1: torch.Size([64, 10, 12, 12])\n"
     ]
    },
    {
     "name": "stderr",
     "output_type": "stream",
     "text": [
      "Epoch 1:  76%|███████████████████████████████          | 711/938 [00:20<00:06, 36.57batch/s, accuracy=93.8, loss=0.234]"
     ]
    },
    {
     "name": "stdout",
     "output_type": "stream",
     "text": [
      "start: torch.Size([64, 1, 28, 28])\n",
      "conv1: torch.Size([64, 10, 24, 24])\n",
      "pool1: torch.Size([64, 10, 12, 12])\n",
      "start: torch.Size([64, 1, 28, 28])\n",
      "conv1: torch.Size([64, 10, 24, 24])\n",
      "pool1: torch.Size([64, 10, 12, 12])\n",
      "start: torch.Size([64, 1, 28, 28])\n",
      "conv1: torch.Size([64, 10, 24, 24])\n",
      "pool1: torch.Size([64, 10, 12, 12])\n",
      "start: torch.Size([64, 1, 28, 28])\n",
      "conv1: torch.Size([64, 10, 24, 24])\n",
      "pool1: torch.Size([64, 10, 12, 12])\n",
      "start: torch.Size([64, 1, 28, 28])\n",
      "conv1: torch.Size([64, 10, 24, 24])\n",
      "pool1: torch.Size([64, 10, 12, 12])\n",
      "start: torch.Size([64, 1, 28, 28])\n",
      "conv1: torch.Size([64, 10, 24, 24])\n",
      "pool1: torch.Size([64, 10, 12, 12])\n",
      "start: torch.Size([64, 1, 28, 28])\n",
      "conv1: torch.Size([64, 10, 24, 24])\n",
      "pool1: torch.Size([64, 10, 12, 12])\n",
      "start: torch.Size([64, 1, 28, 28])\n",
      "conv1: torch.Size([64, 10, 24, 24])\n",
      "pool1: torch.Size([64, 10, 12, 12])\n"
     ]
    },
    {
     "name": "stderr",
     "output_type": "stream",
     "text": [
      "Epoch 1:  77%|███████████████████████████████▍         | 719/938 [00:20<00:05, 37.25batch/s, accuracy=90.6, loss=0.263]"
     ]
    },
    {
     "name": "stdout",
     "output_type": "stream",
     "text": [
      "start: torch.Size([64, 1, 28, 28])\n",
      "conv1: torch.Size([64, 10, 24, 24])\n",
      "pool1: torch.Size([64, 10, 12, 12])\n",
      "start: torch.Size([64, 1, 28, 28])\n",
      "conv1: torch.Size([64, 10, 24, 24])\n",
      "pool1: torch.Size([64, 10, 12, 12])\n",
      "start: torch.Size([64, 1, 28, 28])\n",
      "conv1: torch.Size([64, 10, 24, 24])\n",
      "pool1: torch.Size([64, 10, 12, 12])\n",
      "start: torch.Size([64, 1, 28, 28])\n",
      "conv1: torch.Size([64, 10, 24, 24])\n",
      "pool1: torch.Size([64, 10, 12, 12])\n",
      "start: torch.Size([64, 1, 28, 28])\n",
      "conv1: torch.Size([64, 10, 24, 24])\n",
      "pool1: torch.Size([64, 10, 12, 12])\n",
      "start: torch.Size([64, 1, 28, 28])\n",
      "conv1: torch.Size([64, 10, 24, 24])\n",
      "pool1: torch.Size([64, 10, 12, 12])\n",
      "start: torch.Size([64, 1, 28, 28])\n",
      "conv1: torch.Size([64, 10, 24, 24])\n",
      "pool1: torch.Size([64, 10, 12, 12])\n",
      "start: torch.Size([64, 1, 28, 28])\n"
     ]
    },
    {
     "name": "stderr",
     "output_type": "stream",
     "text": [
      "Epoch 1:  77%|██████████████████████████████▊         | 723/938 [00:20<00:05, 36.60batch/s, accuracy=96.9, loss=0.0637]"
     ]
    },
    {
     "name": "stdout",
     "output_type": "stream",
     "text": [
      "conv1: torch.Size([64, 10, 24, 24])\n",
      "pool1: torch.Size([64, 10, 12, 12])\n",
      "start: torch.Size([64, 1, 28, 28])\n",
      "conv1: torch.Size([64, 10, 24, 24])\n",
      "pool1: torch.Size([64, 10, 12, 12])\n",
      "start: torch.Size([64, 1, 28, 28])\n",
      "conv1: torch.Size([64, 10, 24, 24])\n",
      "pool1: torch.Size([64, 10, 12, 12])\n",
      "start: torch.Size([64, 1, 28, 28])\n",
      "conv1: torch.Size([64, 10, 24, 24])\n",
      "pool1: torch.Size([64, 10, 12, 12])\n",
      "start: torch.Size([64, 1, 28, 28])\n",
      "conv1: torch.Size([64, 10, 24, 24])\n",
      "pool1: torch.Size([64, 10, 12, 12])\n",
      "start: torch.Size([64, 1, 28, 28])\n",
      "conv1: torch.Size([64, 10, 24, 24])\n",
      "pool1: torch.Size([64, 10, 12, 12])\n",
      "start: torch.Size([64, 1, 28, 28])\n",
      "conv1: torch.Size([64, 10, 24, 24])\n",
      "pool1: torch.Size([64, 10, 12, 12])\n"
     ]
    },
    {
     "name": "stderr",
     "output_type": "stream",
     "text": [
      "Epoch 1:  78%|███████████████████████████████▉         | 732/938 [00:21<00:05, 37.24batch/s, accuracy=92.2, loss=0.337]"
     ]
    },
    {
     "name": "stdout",
     "output_type": "stream",
     "text": [
      "start: torch.Size([64, 1, 28, 28])\n",
      "conv1: torch.Size([64, 10, 24, 24])\n",
      "pool1: torch.Size([64, 10, 12, 12])\n",
      "start: torch.Size([64, 1, 28, 28])\n",
      "conv1: torch.Size([64, 10, 24, 24])\n",
      "pool1: torch.Size([64, 10, 12, 12])\n",
      "start: torch.Size([64, 1, 28, 28])\n",
      "conv1: torch.Size([64, 10, 24, 24])\n",
      "pool1: torch.Size([64, 10, 12, 12])\n",
      "start: torch.Size([64, 1, 28, 28])\n",
      "conv1: torch.Size([64, 10, 24, 24])\n",
      "pool1: torch.Size([64, 10, 12, 12])\n",
      "start: torch.Size([64, 1, 28, 28])\n",
      "conv1: torch.Size([64, 10, 24, 24])\n",
      "pool1: torch.Size([64, 10, 12, 12])\n",
      "start: torch.Size([64, 1, 28, 28])\n",
      "conv1: torch.Size([64, 10, 24, 24])\n",
      "pool1: torch.Size([64, 10, 12, 12])\n",
      "start: torch.Size([64, 1, 28, 28])\n",
      "conv1: torch.Size([64, 10, 24, 24])\n",
      "pool1: torch.Size([64, 10, 12, 12])\n",
      "start: torch.Size([64, 1, 28, 28])\n"
     ]
    },
    {
     "name": "stderr",
     "output_type": "stream",
     "text": [
      "Epoch 1:  78%|████████████████████████████████▏        | 736/938 [00:21<00:05, 35.79batch/s, accuracy=93.8, loss=0.246]"
     ]
    },
    {
     "name": "stdout",
     "output_type": "stream",
     "text": [
      "conv1: torch.Size([64, 10, 24, 24])\n",
      "pool1: torch.Size([64, 10, 12, 12])\n",
      "start: torch.Size([64, 1, 28, 28])\n",
      "conv1: torch.Size([64, 10, 24, 24])\n",
      "pool1: torch.Size([64, 10, 12, 12])\n",
      "start: torch.Size([64, 1, 28, 28])\n",
      "conv1: torch.Size([64, 10, 24, 24])\n",
      "pool1: torch.Size([64, 10, 12, 12])\n",
      "start: torch.Size([64, 1, 28, 28])\n",
      "conv1: torch.Size([64, 10, 24, 24])\n",
      "pool1: torch.Size([64, 10, 12, 12])\n",
      "start: torch.Size([64, 1, 28, 28])\n",
      "conv1: torch.Size([64, 10, 24, 24])\n",
      "pool1: torch.Size([64, 10, 12, 12])\n",
      "start: torch.Size([64, 1, 28, 28])\n",
      "conv1: torch.Size([64, 10, 24, 24])\n",
      "pool1: torch.Size([64, 10, 12, 12])\n",
      "start: torch.Size([64, 1, 28, 28])\n"
     ]
    },
    {
     "name": "stderr",
     "output_type": "stream",
     "text": [
      "Epoch 1:  79%|████████████████████████████████▌        | 744/938 [00:21<00:05, 34.79batch/s, accuracy=95.3, loss=0.174]"
     ]
    },
    {
     "name": "stdout",
     "output_type": "stream",
     "text": [
      "conv1: torch.Size([64, 10, 24, 24])\n",
      "pool1: torch.Size([64, 10, 12, 12])\n",
      "start: torch.Size([64, 1, 28, 28])\n",
      "conv1: torch.Size([64, 10, 24, 24])\n",
      "pool1: torch.Size([64, 10, 12, 12])\n",
      "start: torch.Size([64, 1, 28, 28])\n",
      "conv1: torch.Size([64, 10, 24, 24])\n",
      "pool1: torch.Size([64, 10, 12, 12])\n",
      "start: torch.Size([64, 1, 28, 28])\n",
      "conv1: torch.Size([64, 10, 24, 24])\n",
      "pool1: torch.Size([64, 10, 12, 12])\n",
      "start: torch.Size([64, 1, 28, 28])\n",
      "conv1: torch.Size([64, 10, 24, 24])\n",
      "pool1: torch.Size([64, 10, 12, 12])\n",
      "start: torch.Size([64, 1, 28, 28])\n",
      "conv1: torch.Size([64, 10, 24, 24])\n",
      "pool1: torch.Size([64, 10, 12, 12])\n",
      "start: torch.Size([64, 1, 28, 28])\n",
      "conv1: torch.Size([64, 10, 24, 24])\n",
      "pool1: torch.Size([64, 10, 12, 12])\n",
      "start: torch.Size([64, 1, 28, 28])\n"
     ]
    },
    {
     "name": "stderr",
     "output_type": "stream",
     "text": [
      "Epoch 1:  80%|████████████████████████████████▊        | 752/938 [00:21<00:05, 36.04batch/s, accuracy=93.8, loss=0.172]"
     ]
    },
    {
     "name": "stdout",
     "output_type": "stream",
     "text": [
      "conv1: torch.Size([64, 10, 24, 24])\n",
      "pool1: torch.Size([64, 10, 12, 12])\n",
      "start: torch.Size([64, 1, 28, 28])\n",
      "conv1: torch.Size([64, 10, 24, 24])\n",
      "pool1: torch.Size([64, 10, 12, 12])\n",
      "start: torch.Size([64, 1, 28, 28])\n",
      "conv1: torch.Size([64, 10, 24, 24])\n",
      "pool1: torch.Size([64, 10, 12, 12])\n",
      "start: torch.Size([64, 1, 28, 28])\n",
      "conv1: torch.Size([64, 10, 24, 24])\n",
      "pool1: torch.Size([64, 10, 12, 12])\n",
      "start: torch.Size([64, 1, 28, 28])\n",
      "conv1: torch.Size([64, 10, 24, 24])\n",
      "pool1: torch.Size([64, 10, 12, 12])\n",
      "start: torch.Size([64, 1, 28, 28])\n",
      "conv1: torch.Size([64, 10, 24, 24])\n",
      "pool1: torch.Size([64, 10, 12, 12])\n",
      "start: torch.Size([64, 1, 28, 28])\n",
      "conv1: torch.Size([64, 10, 24, 24])\n",
      "pool1: torch.Size([64, 10, 12, 12])\n",
      "start: torch.Size([64, 1, 28, 28])\n"
     ]
    },
    {
     "name": "stderr",
     "output_type": "stream",
     "text": [
      "Epoch 1:  81%|█████████████████████████████████▊        | 756/938 [00:21<00:05, 35.25batch/s, accuracy=96.9, loss=0.12]"
     ]
    },
    {
     "name": "stdout",
     "output_type": "stream",
     "text": [
      "conv1: torch.Size([64, 10, 24, 24])\n",
      "pool1: torch.Size([64, 10, 12, 12])\n",
      "start: torch.Size([64, 1, 28, 28])\n",
      "conv1: torch.Size([64, 10, 24, 24])\n",
      "pool1: torch.Size([64, 10, 12, 12])\n",
      "start: torch.Size([64, 1, 28, 28])\n",
      "conv1: torch.Size([64, 10, 24, 24])\n",
      "pool1: torch.Size([64, 10, 12, 12])\n",
      "start: torch.Size([64, 1, 28, 28])\n",
      "conv1: torch.Size([64, 10, 24, 24])\n",
      "pool1: torch.Size([64, 10, 12, 12])\n",
      "start: torch.Size([64, 1, 28, 28])\n",
      "conv1: torch.Size([64, 10, 24, 24])\n",
      "pool1: torch.Size([64, 10, 12, 12])\n",
      "start: torch.Size([64, 1, 28, 28])\n",
      "conv1: torch.Size([64, 10, 24, 24])\n",
      "pool1: torch.Size([64, 10, 12, 12])\n",
      "start: torch.Size([64, 1, 28, 28])\n",
      "conv1: torch.Size([64, 10, 24, 24])\n",
      "pool1: torch.Size([64, 10, 12, 12])\n"
     ]
    },
    {
     "name": "stderr",
     "output_type": "stream",
     "text": [
      "Epoch 1:  81%|█████████████████████████████████▍       | 764/938 [00:22<00:04, 35.89batch/s, accuracy=93.8, loss=0.118]"
     ]
    },
    {
     "name": "stdout",
     "output_type": "stream",
     "text": [
      "start: torch.Size([64, 1, 28, 28])\n",
      "conv1: torch.Size([64, 10, 24, 24])\n",
      "pool1: torch.Size([64, 10, 12, 12])\n",
      "start: torch.Size([64, 1, 28, 28])\n",
      "conv1: torch.Size([64, 10, 24, 24])\n",
      "pool1: torch.Size([64, 10, 12, 12])\n",
      "start: torch.Size([64, 1, 28, 28])\n",
      "conv1: torch.Size([64, 10, 24, 24])\n",
      "pool1: torch.Size([64, 10, 12, 12])\n",
      "start: torch.Size([64, 1, 28, 28])\n",
      "conv1: torch.Size([64, 10, 24, 24])\n",
      "pool1: torch.Size([64, 10, 12, 12])\n",
      "start: torch.Size([64, 1, 28, 28])\n",
      "conv1: torch.Size([64, 10, 24, 24])\n",
      "pool1: torch.Size([64, 10, 12, 12])\n",
      "start: torch.Size([64, 1, 28, 28])\n",
      "conv1: torch.Size([64, 10, 24, 24])\n",
      "pool1: torch.Size([64, 10, 12, 12])\n",
      "start: torch.Size([64, 1, 28, 28])\n",
      "conv1: torch.Size([64, 10, 24, 24])\n",
      "pool1: torch.Size([64, 10, 12, 12])\n",
      "start: torch.Size([64, 1, 28, 28])\n"
     ]
    },
    {
     "name": "stderr",
     "output_type": "stream",
     "text": [
      "Epoch 1:  82%|█████████████████████████████████▋       | 772/938 [00:22<00:04, 35.66batch/s, accuracy=96.9, loss=0.114]"
     ]
    },
    {
     "name": "stdout",
     "output_type": "stream",
     "text": [
      "conv1: torch.Size([64, 10, 24, 24])\n",
      "pool1: torch.Size([64, 10, 12, 12])\n",
      "start: torch.Size([64, 1, 28, 28])\n",
      "conv1: torch.Size([64, 10, 24, 24])\n",
      "pool1: torch.Size([64, 10, 12, 12])\n",
      "start: torch.Size([64, 1, 28, 28])\n",
      "conv1: torch.Size([64, 10, 24, 24])\n",
      "pool1: torch.Size([64, 10, 12, 12])\n",
      "start: torch.Size([64, 1, 28, 28])\n",
      "conv1: torch.Size([64, 10, 24, 24])\n",
      "pool1: torch.Size([64, 10, 12, 12])\n",
      "start: torch.Size([64, 1, 28, 28])\n",
      "conv1: torch.Size([64, 10, 24, 24])\n",
      "pool1: torch.Size([64, 10, 12, 12])\n",
      "start: torch.Size([64, 1, 28, 28])\n",
      "conv1: torch.Size([64, 10, 24, 24])\n",
      "pool1: torch.Size([64, 10, 12, 12])\n",
      "start: torch.Size([64, 1, 28, 28])\n",
      "conv1: torch.Size([64, 10, 24, 24])\n",
      "pool1: torch.Size([64, 10, 12, 12])\n"
     ]
    },
    {
     "name": "stderr",
     "output_type": "stream",
     "text": [
      "Epoch 1:  83%|██████████████████████████████████▏      | 781/938 [00:22<00:04, 38.07batch/s, accuracy=90.6, loss=0.374]"
     ]
    },
    {
     "name": "stdout",
     "output_type": "stream",
     "text": [
      "start: torch.Size([64, 1, 28, 28])\n",
      "conv1: torch.Size([64, 10, 24, 24])\n",
      "pool1: torch.Size([64, 10, 12, 12])\n",
      "start: torch.Size([64, 1, 28, 28])\n",
      "conv1: torch.Size([64, 10, 24, 24])\n",
      "pool1: torch.Size([64, 10, 12, 12])\n",
      "start: torch.Size([64, 1, 28, 28])\n",
      "conv1: torch.Size([64, 10, 24, 24])\n",
      "pool1: torch.Size([64, 10, 12, 12])\n",
      "start: torch.Size([64, 1, 28, 28])\n",
      "conv1: torch.Size([64, 10, 24, 24])\n",
      "pool1: torch.Size([64, 10, 12, 12])\n",
      "start: torch.Size([64, 1, 28, 28])\n",
      "conv1: torch.Size([64, 10, 24, 24])\n",
      "pool1: torch.Size([64, 10, 12, 12])\n",
      "start: torch.Size([64, 1, 28, 28])\n",
      "conv1: torch.Size([64, 10, 24, 24])\n",
      "pool1: torch.Size([64, 10, 12, 12])\n",
      "start: torch.Size([64, 1, 28, 28])\n",
      "conv1: torch.Size([64, 10, 24, 24])\n",
      "pool1: torch.Size([64, 10, 12, 12])\n",
      "start: torch.Size([64, 1, 28, 28])\n",
      "conv1: torch.Size([64, 10, 24, 24])\n",
      "pool1: torch.Size([64, 10, 12, 12])\n",
      "start: torch.Size([64, 1, 28, 28])\n"
     ]
    },
    {
     "name": "stderr",
     "output_type": "stream",
     "text": [
      "Epoch 1:  84%|██████████████████████████████████▍      | 789/938 [00:22<00:03, 38.07batch/s, accuracy=87.5, loss=0.366]"
     ]
    },
    {
     "name": "stdout",
     "output_type": "stream",
     "text": [
      "conv1: torch.Size([64, 10, 24, 24])\n",
      "pool1: torch.Size([64, 10, 12, 12])\n",
      "start: torch.Size([64, 1, 28, 28])\n",
      "conv1: torch.Size([64, 10, 24, 24])\n",
      "pool1: torch.Size([64, 10, 12, 12])\n",
      "start: torch.Size([64, 1, 28, 28])\n",
      "conv1: torch.Size([64, 10, 24, 24])\n",
      "pool1: torch.Size([64, 10, 12, 12])\n",
      "start: torch.Size([64, 1, 28, 28])\n",
      "conv1: torch.Size([64, 10, 24, 24])\n",
      "pool1: torch.Size([64, 10, 12, 12])\n",
      "start: torch.Size([64, 1, 28, 28])\n",
      "conv1: torch.Size([64, 10, 24, 24])\n",
      "pool1: torch.Size([64, 10, 12, 12])\n",
      "start: torch.Size([64, 1, 28, 28])\n",
      "conv1: torch.Size([64, 10, 24, 24])\n",
      "pool1: torch.Size([64, 10, 12, 12])\n",
      "start: torch.Size([64, 1, 28, 28])\n",
      "conv1: torch.Size([64, 10, 24, 24])\n",
      "pool1: torch.Size([64, 10, 12, 12])\n",
      "start: torch.Size([64, 1, 28, 28])\n"
     ]
    },
    {
     "name": "stderr",
     "output_type": "stream",
     "text": [
      "Epoch 1:  85%|██████████████████████████████████▋      | 793/938 [00:22<00:03, 38.21batch/s, accuracy=96.9, loss=0.135]"
     ]
    },
    {
     "name": "stdout",
     "output_type": "stream",
     "text": [
      "conv1: torch.Size([64, 10, 24, 24])\n",
      "pool1: torch.Size([64, 10, 12, 12])\n",
      "start: torch.Size([64, 1, 28, 28])\n",
      "conv1: torch.Size([64, 10, 24, 24])\n",
      "pool1: torch.Size([64, 10, 12, 12])\n",
      "start: torch.Size([64, 1, 28, 28])\n",
      "conv1: torch.Size([64, 10, 24, 24])\n",
      "pool1: torch.Size([64, 10, 12, 12])\n",
      "start: torch.Size([64, 1, 28, 28])\n",
      "conv1: torch.Size([64, 10, 24, 24])\n",
      "pool1: torch.Size([64, 10, 12, 12])\n",
      "start: torch.Size([64, 1, 28, 28])\n",
      "conv1: torch.Size([64, 10, 24, 24])\n",
      "pool1: torch.Size([64, 10, 12, 12])\n",
      "start: torch.Size([64, 1, 28, 28])\n",
      "conv1: torch.Size([64, 10, 24, 24])\n",
      "pool1: torch.Size([64, 10, 12, 12])\n",
      "start: torch.Size([64, 1, 28, 28])\n",
      "conv1: torch.Size([64, 10, 24, 24])\n",
      "pool1: torch.Size([64, 10, 12, 12])\n",
      "start: torch.Size([64, 1, 28, 28])\n"
     ]
    },
    {
     "name": "stderr",
     "output_type": "stream",
     "text": [
      "Epoch 1:  85%|███████████████████████████████████      | 801/938 [00:23<00:03, 38.64batch/s, accuracy=95.3, loss=0.143]"
     ]
    },
    {
     "name": "stdout",
     "output_type": "stream",
     "text": [
      "conv1: torch.Size([64, 10, 24, 24])\n",
      "pool1: torch.Size([64, 10, 12, 12])\n",
      "start: torch.Size([64, 1, 28, 28])\n",
      "conv1: torch.Size([64, 10, 24, 24])\n",
      "pool1: torch.Size([64, 10, 12, 12])\n",
      "start: torch.Size([64, 1, 28, 28])\n",
      "conv1: torch.Size([64, 10, 24, 24])\n",
      "pool1: torch.Size([64, 10, 12, 12])\n",
      "start: torch.Size([64, 1, 28, 28])\n",
      "conv1: torch.Size([64, 10, 24, 24])\n",
      "pool1: torch.Size([64, 10, 12, 12])\n",
      "start: torch.Size([64, 1, 28, 28])\n",
      "conv1: torch.Size([64, 10, 24, 24])\n",
      "pool1: torch.Size([64, 10, 12, 12])\n",
      "start: torch.Size([64, 1, 28, 28])\n",
      "conv1: torch.Size([64, 10, 24, 24])\n",
      "pool1: torch.Size([64, 10, 12, 12])\n",
      "start: torch.Size([64, 1, 28, 28])\n",
      "conv1: torch.Size([64, 10, 24, 24])\n",
      "pool1: torch.Size([64, 10, 12, 12])\n",
      "start: torch.Size([64, 1, 28, 28])\n",
      "conv1: torch.Size([64, 10, 24, 24])\n",
      "pool1: torch.Size([64, 10, 12, 12])\n"
     ]
    },
    {
     "name": "stderr",
     "output_type": "stream",
     "text": [
      "Epoch 1:  86%|███████████████████████████████████▎     | 809/938 [00:23<00:03, 37.28batch/s, accuracy=98.4, loss=0.197]"
     ]
    },
    {
     "name": "stdout",
     "output_type": "stream",
     "text": [
      "start: torch.Size([64, 1, 28, 28])\n",
      "conv1: torch.Size([64, 10, 24, 24])\n",
      "pool1: torch.Size([64, 10, 12, 12])\n",
      "start: torch.Size([64, 1, 28, 28])\n",
      "conv1: torch.Size([64, 10, 24, 24])\n",
      "pool1: torch.Size([64, 10, 12, 12])\n",
      "start: torch.Size([64, 1, 28, 28])\n",
      "conv1: torch.Size([64, 10, 24, 24])\n",
      "pool1: torch.Size([64, 10, 12, 12])\n",
      "start: torch.Size([64, 1, 28, 28])\n",
      "conv1: torch.Size([64, 10, 24, 24])\n",
      "pool1: torch.Size([64, 10, 12, 12])\n",
      "start: torch.Size([64, 1, 28, 28])\n",
      "conv1: torch.Size([64, 10, 24, 24])\n",
      "pool1: torch.Size([64, 10, 12, 12])\n",
      "start: torch.Size([64, 1, 28, 28])\n",
      "conv1: torch.Size([64, 10, 24, 24])\n",
      "pool1: torch.Size([64, 10, 12, 12])\n",
      "start: torch.Size([64, 1, 28, 28])\n",
      "conv1: torch.Size([64, 10, 24, 24])\n",
      "pool1: torch.Size([64, 10, 12, 12])\n",
      "start: torch.Size([64, 1, 28, 28])\n"
     ]
    },
    {
     "name": "stderr",
     "output_type": "stream",
     "text": [
      "Epoch 1:  87%|███████████████████████████████████▋     | 817/938 [00:23<00:03, 37.23batch/s, accuracy=95.3, loss=0.141]"
     ]
    },
    {
     "name": "stdout",
     "output_type": "stream",
     "text": [
      "conv1: torch.Size([64, 10, 24, 24])\n",
      "pool1: torch.Size([64, 10, 12, 12])\n",
      "start: torch.Size([64, 1, 28, 28])\n",
      "conv1: torch.Size([64, 10, 24, 24])\n",
      "pool1: torch.Size([64, 10, 12, 12])\n",
      "start: torch.Size([64, 1, 28, 28])\n",
      "conv1: torch.Size([64, 10, 24, 24])\n",
      "pool1: torch.Size([64, 10, 12, 12])\n",
      "start: torch.Size([64, 1, 28, 28])\n",
      "conv1: torch.Size([64, 10, 24, 24])\n",
      "pool1: torch.Size([64, 10, 12, 12])\n",
      "start: torch.Size([64, 1, 28, 28])\n",
      "conv1: torch.Size([64, 10, 24, 24])\n",
      "pool1: torch.Size([64, 10, 12, 12])\n",
      "start: torch.Size([64, 1, 28, 28])\n",
      "conv1: torch.Size([64, 10, 24, 24])\n",
      "pool1: torch.Size([64, 10, 12, 12])\n",
      "start: torch.Size([64, 1, 28, 28])\n",
      "conv1: torch.Size([64, 10, 24, 24])\n",
      "pool1: torch.Size([64, 10, 12, 12])\n",
      "start: torch.Size([64, 1, 28, 28])\n"
     ]
    },
    {
     "name": "stderr",
     "output_type": "stream",
     "text": [
      "Epoch 1:  88%|████████████████████████████████████▊     | 821/938 [00:23<00:03, 35.24batch/s, accuracy=90.6, loss=0.22]"
     ]
    },
    {
     "name": "stdout",
     "output_type": "stream",
     "text": [
      "conv1: torch.Size([64, 10, 24, 24])\n",
      "pool1: torch.Size([64, 10, 12, 12])\n",
      "start: torch.Size([64, 1, 28, 28])\n",
      "conv1: torch.Size([64, 10, 24, 24])\n",
      "pool1: torch.Size([64, 10, 12, 12])\n",
      "start: torch.Size([64, 1, 28, 28])\n",
      "conv1: torch.Size([64, 10, 24, 24])\n",
      "pool1: torch.Size([64, 10, 12, 12])\n",
      "start: torch.Size([64, 1, 28, 28])\n",
      "conv1: torch.Size([64, 10, 24, 24])\n",
      "pool1: torch.Size([64, 10, 12, 12])\n",
      "start: torch.Size([64, 1, 28, 28])\n",
      "conv1: torch.Size([64, 10, 24, 24])\n",
      "pool1: torch.Size([64, 10, 12, 12])\n",
      "start: torch.Size([64, 1, 28, 28])\n",
      "conv1: torch.Size([64, 10, 24, 24])\n",
      "pool1: torch.Size([64, 10, 12, 12])\n",
      "start: torch.Size([64, 1, 28, 28])\n"
     ]
    },
    {
     "name": "stderr",
     "output_type": "stream",
     "text": [
      "Epoch 1:  88%|████████████████████████████████████▏    | 829/938 [00:23<00:03, 35.02batch/s, accuracy=92.2, loss=0.316]"
     ]
    },
    {
     "name": "stdout",
     "output_type": "stream",
     "text": [
      "conv1: torch.Size([64, 10, 24, 24])\n",
      "pool1: torch.Size([64, 10, 12, 12])\n",
      "start: torch.Size([64, 1, 28, 28])\n",
      "conv1: torch.Size([64, 10, 24, 24])\n",
      "pool1: torch.Size([64, 10, 12, 12])\n",
      "start: torch.Size([64, 1, 28, 28])\n",
      "conv1: torch.Size([64, 10, 24, 24])\n",
      "pool1: torch.Size([64, 10, 12, 12])\n",
      "start: torch.Size([64, 1, 28, 28])\n",
      "conv1: torch.Size([64, 10, 24, 24])\n",
      "pool1: torch.Size([64, 10, 12, 12])\n",
      "start: torch.Size([64, 1, 28, 28])\n",
      "conv1: torch.Size([64, 10, 24, 24])\n",
      "pool1: torch.Size([64, 10, 12, 12])\n",
      "start: torch.Size([64, 1, 28, 28])\n",
      "conv1: torch.Size([64, 10, 24, 24])\n",
      "pool1: torch.Size([64, 10, 12, 12])\n",
      "start: torch.Size([64, 1, 28, 28])\n"
     ]
    },
    {
     "name": "stderr",
     "output_type": "stream",
     "text": [
      "Epoch 1:  89%|████████████████████████████████████▌    | 837/938 [00:24<00:02, 35.50batch/s, accuracy=95.3, loss=0.199]"
     ]
    },
    {
     "name": "stdout",
     "output_type": "stream",
     "text": [
      "conv1: torch.Size([64, 10, 24, 24])\n",
      "pool1: torch.Size([64, 10, 12, 12])\n",
      "start: torch.Size([64, 1, 28, 28])\n",
      "conv1: torch.Size([64, 10, 24, 24])\n",
      "pool1: torch.Size([64, 10, 12, 12])\n",
      "start: torch.Size([64, 1, 28, 28])\n",
      "conv1: torch.Size([64, 10, 24, 24])\n",
      "pool1: torch.Size([64, 10, 12, 12])\n",
      "start: torch.Size([64, 1, 28, 28])\n",
      "conv1: torch.Size([64, 10, 24, 24])\n",
      "pool1: torch.Size([64, 10, 12, 12])\n",
      "start: torch.Size([64, 1, 28, 28])\n",
      "conv1: torch.Size([64, 10, 24, 24])\n",
      "pool1: torch.Size([64, 10, 12, 12])\n",
      "start: torch.Size([64, 1, 28, 28])\n",
      "conv1: torch.Size([64, 10, 24, 24])\n",
      "pool1: torch.Size([64, 10, 12, 12])\n",
      "start: torch.Size([64, 1, 28, 28])\n",
      "conv1: torch.Size([64, 10, 24, 24])\n",
      "pool1: torch.Size([64, 10, 12, 12])\n",
      "start: torch.Size([64, 1, 28, 28])\n",
      "conv1: torch.Size([64, 10, 24, 24])\n"
     ]
    },
    {
     "name": "stderr",
     "output_type": "stream",
     "text": [
      "Epoch 1:  90%|████████████████████████████████████▊    | 841/938 [00:24<00:02, 36.67batch/s, accuracy=90.6, loss=0.537]"
     ]
    },
    {
     "name": "stdout",
     "output_type": "stream",
     "text": [
      "pool1: torch.Size([64, 10, 12, 12])\n",
      "start: torch.Size([64, 1, 28, 28])\n",
      "conv1: torch.Size([64, 10, 24, 24])\n",
      "pool1: torch.Size([64, 10, 12, 12])\n",
      "start: torch.Size([64, 1, 28, 28])\n",
      "conv1: torch.Size([64, 10, 24, 24])\n",
      "pool1: torch.Size([64, 10, 12, 12])\n",
      "start: torch.Size([64, 1, 28, 28])\n",
      "conv1: torch.Size([64, 10, 24, 24])\n",
      "pool1: torch.Size([64, 10, 12, 12])\n",
      "start: torch.Size([64, 1, 28, 28])\n",
      "conv1: torch.Size([64, 10, 24, 24])\n",
      "pool1: torch.Size([64, 10, 12, 12])\n",
      "start: torch.Size([64, 1, 28, 28])\n",
      "conv1: torch.Size([64, 10, 24, 24])\n",
      "pool1: torch.Size([64, 10, 12, 12])\n",
      "start: torch.Size([64, 1, 28, 28])\n",
      "conv1: torch.Size([64, 10, 24, 24])\n",
      "pool1: torch.Size([64, 10, 12, 12])\n",
      "start: torch.Size([64, 1, 28, 28])\n"
     ]
    },
    {
     "name": "stderr",
     "output_type": "stream",
     "text": [
      "Epoch 1:  91%|█████████████████████████████████████    | 849/938 [00:24<00:02, 36.30batch/s, accuracy=85.9, loss=0.406]"
     ]
    },
    {
     "name": "stdout",
     "output_type": "stream",
     "text": [
      "conv1: torch.Size([64, 10, 24, 24])\n",
      "pool1: torch.Size([64, 10, 12, 12])\n",
      "start: torch.Size([64, 1, 28, 28])\n",
      "conv1: torch.Size([64, 10, 24, 24])\n",
      "pool1: torch.Size([64, 10, 12, 12])\n",
      "start: torch.Size([64, 1, 28, 28])\n",
      "conv1: torch.Size([64, 10, 24, 24])\n",
      "pool1: torch.Size([64, 10, 12, 12])\n",
      "start: torch.Size([64, 1, 28, 28])\n",
      "conv1: torch.Size([64, 10, 24, 24])\n",
      "pool1: torch.Size([64, 10, 12, 12])\n",
      "start: torch.Size([64, 1, 28, 28])\n",
      "conv1: torch.Size([64, 10, 24, 24])\n",
      "pool1: torch.Size([64, 10, 12, 12])\n",
      "start: torch.Size([64, 1, 28, 28])\n",
      "conv1: torch.Size([64, 10, 24, 24])\n",
      "pool1: torch.Size([64, 10, 12, 12])\n",
      "start: torch.Size([64, 1, 28, 28])\n",
      "conv1: torch.Size([64, 10, 24, 24])\n",
      "pool1: torch.Size([64, 10, 12, 12])\n",
      "start: torch.Size([64, 1, 28, 28])\n",
      "conv1: torch.Size([64, 10, 24, 24])\n"
     ]
    },
    {
     "name": "stderr",
     "output_type": "stream",
     "text": [
      "Epoch 1:  91%|█████████████████████████████████████▍   | 857/938 [00:24<00:02, 37.57batch/s, accuracy=92.2, loss=0.172]"
     ]
    },
    {
     "name": "stdout",
     "output_type": "stream",
     "text": [
      "pool1: torch.Size([64, 10, 12, 12])\n",
      "start: torch.Size([64, 1, 28, 28])\n",
      "conv1: torch.Size([64, 10, 24, 24])\n",
      "pool1: torch.Size([64, 10, 12, 12])\n",
      "start: torch.Size([64, 1, 28, 28])\n",
      "conv1: torch.Size([64, 10, 24, 24])\n",
      "pool1: torch.Size([64, 10, 12, 12])\n",
      "start: torch.Size([64, 1, 28, 28])\n",
      "conv1: torch.Size([64, 10, 24, 24])\n",
      "pool1: torch.Size([64, 10, 12, 12])\n",
      "start: torch.Size([64, 1, 28, 28])\n",
      "conv1: torch.Size([64, 10, 24, 24])\n",
      "pool1: torch.Size([64, 10, 12, 12])\n",
      "start: torch.Size([64, 1, 28, 28])\n",
      "conv1: torch.Size([64, 10, 24, 24])\n",
      "pool1: torch.Size([64, 10, 12, 12])\n",
      "start: torch.Size([64, 1, 28, 28])\n",
      "conv1: torch.Size([64, 10, 24, 24])\n",
      "pool1: torch.Size([64, 10, 12, 12])\n",
      "start: torch.Size([64, 1, 28, 28])\n",
      "conv1: torch.Size([64, 10, 24, 24])\n",
      "pool1: torch.Size([64, 10, 12, 12])\n"
     ]
    },
    {
     "name": "stderr",
     "output_type": "stream",
     "text": [
      "Epoch 1:  92%|██████████████████████████████████████▋   | 865/938 [00:24<00:02, 35.82batch/s, accuracy=92.2, loss=0.19]"
     ]
    },
    {
     "name": "stdout",
     "output_type": "stream",
     "text": [
      "start: torch.Size([64, 1, 28, 28])\n",
      "conv1: torch.Size([64, 10, 24, 24])\n",
      "pool1: torch.Size([64, 10, 12, 12])\n",
      "start: torch.Size([64, 1, 28, 28])\n",
      "conv1: torch.Size([64, 10, 24, 24])\n",
      "pool1: torch.Size([64, 10, 12, 12])\n",
      "start: torch.Size([64, 1, 28, 28])\n",
      "conv1: torch.Size([64, 10, 24, 24])\n",
      "pool1: torch.Size([64, 10, 12, 12])\n",
      "start: torch.Size([64, 1, 28, 28])\n",
      "conv1: torch.Size([64, 10, 24, 24])\n",
      "pool1: torch.Size([64, 10, 12, 12])\n",
      "start: torch.Size([64, 1, 28, 28])\n",
      "conv1: torch.Size([64, 10, 24, 24])\n",
      "pool1: torch.Size([64, 10, 12, 12])\n",
      "start: torch.Size([64, 1, 28, 28])\n",
      "conv1: torch.Size([64, 10, 24, 24])\n",
      "pool1: torch.Size([64, 10, 12, 12])\n",
      "start: torch.Size([64, 1, 28, 28])\n",
      "conv1: torch.Size([64, 10, 24, 24])\n",
      "pool1: torch.Size([64, 10, 12, 12])\n"
     ]
    },
    {
     "name": "stderr",
     "output_type": "stream",
     "text": [
      "Epoch 1:  93%|█████████████████████████████████████▉   | 869/938 [00:25<00:01, 35.43batch/s, accuracy=93.8, loss=0.214]"
     ]
    },
    {
     "name": "stdout",
     "output_type": "stream",
     "text": [
      "start: torch.Size([64, 1, 28, 28])\n",
      "conv1: torch.Size([64, 10, 24, 24])\n",
      "pool1: torch.Size([64, 10, 12, 12])\n",
      "start: torch.Size([64, 1, 28, 28])\n",
      "conv1: torch.Size([64, 10, 24, 24])\n",
      "pool1: torch.Size([64, 10, 12, 12])\n",
      "start: torch.Size([64, 1, 28, 28])\n",
      "conv1: torch.Size([64, 10, 24, 24])\n",
      "pool1: torch.Size([64, 10, 12, 12])\n",
      "start: torch.Size([64, 1, 28, 28])\n",
      "conv1: torch.Size([64, 10, 24, 24])\n",
      "pool1: torch.Size([64, 10, 12, 12])\n",
      "start: torch.Size([64, 1, 28, 28])\n",
      "conv1: torch.Size([64, 10, 24, 24])\n",
      "pool1: torch.Size([64, 10, 12, 12])\n",
      "start: torch.Size([64, 1, 28, 28])\n",
      "conv1: torch.Size([64, 10, 24, 24])\n",
      "pool1: torch.Size([64, 10, 12, 12])\n",
      "start: torch.Size([64, 1, 28, 28])\n"
     ]
    },
    {
     "name": "stderr",
     "output_type": "stream",
     "text": [
      "Epoch 1:  93%|██████████████████████████████████████▎  | 877/938 [00:25<00:01, 34.98batch/s, accuracy=92.2, loss=0.252]"
     ]
    },
    {
     "name": "stdout",
     "output_type": "stream",
     "text": [
      "conv1: torch.Size([64, 10, 24, 24])\n",
      "pool1: torch.Size([64, 10, 12, 12])\n",
      "start: torch.Size([64, 1, 28, 28])\n",
      "conv1: torch.Size([64, 10, 24, 24])\n",
      "pool1: torch.Size([64, 10, 12, 12])\n",
      "start: torch.Size([64, 1, 28, 28])\n",
      "conv1: torch.Size([64, 10, 24, 24])\n",
      "pool1: torch.Size([64, 10, 12, 12])\n",
      "start: torch.Size([64, 1, 28, 28])\n",
      "conv1: torch.Size([64, 10, 24, 24])\n",
      "pool1: torch.Size([64, 10, 12, 12])\n",
      "start: torch.Size([64, 1, 28, 28])\n",
      "conv1: torch.Size([64, 10, 24, 24])\n",
      "pool1: torch.Size([64, 10, 12, 12])\n",
      "start: torch.Size([64, 1, 28, 28])\n",
      "conv1: torch.Size([64, 10, 24, 24])\n",
      "pool1: torch.Size([64, 10, 12, 12])\n",
      "start: torch.Size([64, 1, 28, 28])\n",
      "conv1: torch.Size([64, 10, 24, 24])\n",
      "pool1: torch.Size([64, 10, 12, 12])\n",
      "start: torch.Size([64, 1, 28, 28])\n"
     ]
    },
    {
     "name": "stderr",
     "output_type": "stream",
     "text": [
      "Epoch 1:  94%|██████████████████████████████████████▋  | 886/938 [00:25<00:01, 37.57batch/s, accuracy=98.4, loss=0.129]"
     ]
    },
    {
     "name": "stdout",
     "output_type": "stream",
     "text": [
      "conv1: torch.Size([64, 10, 24, 24])\n",
      "pool1: torch.Size([64, 10, 12, 12])\n",
      "start: torch.Size([64, 1, 28, 28])\n",
      "conv1: torch.Size([64, 10, 24, 24])\n",
      "pool1: torch.Size([64, 10, 12, 12])\n",
      "start: torch.Size([64, 1, 28, 28])\n",
      "conv1: torch.Size([64, 10, 24, 24])\n",
      "pool1: torch.Size([64, 10, 12, 12])\n",
      "start: torch.Size([64, 1, 28, 28])\n",
      "conv1: torch.Size([64, 10, 24, 24])\n",
      "pool1: torch.Size([64, 10, 12, 12])\n",
      "start: torch.Size([64, 1, 28, 28])\n",
      "conv1: torch.Size([64, 10, 24, 24])\n",
      "pool1: torch.Size([64, 10, 12, 12])\n",
      "start: torch.Size([64, 1, 28, 28])\n",
      "conv1: torch.Size([64, 10, 24, 24])\n",
      "pool1: torch.Size([64, 10, 12, 12])\n",
      "start: torch.Size([64, 1, 28, 28])\n",
      "conv1: torch.Size([64, 10, 24, 24])\n",
      "pool1: torch.Size([64, 10, 12, 12])\n",
      "start: torch.Size([64, 1, 28, 28])\n",
      "conv1: torch.Size([64, 10, 24, 24])\n",
      "pool1: torch.Size([64, 10, 12, 12])\n"
     ]
    },
    {
     "name": "stderr",
     "output_type": "stream",
     "text": [
      "Epoch 1:  95%|███████████████████████████████████████  | 895/938 [00:25<00:01, 38.84batch/s, accuracy=90.6, loss=0.479]"
     ]
    },
    {
     "name": "stdout",
     "output_type": "stream",
     "text": [
      "start: torch.Size([64, 1, 28, 28])\n",
      "conv1: torch.Size([64, 10, 24, 24])\n",
      "pool1: torch.Size([64, 10, 12, 12])\n",
      "start: torch.Size([64, 1, 28, 28])\n",
      "conv1: torch.Size([64, 10, 24, 24])\n",
      "pool1: torch.Size([64, 10, 12, 12])\n",
      "start: torch.Size([64, 1, 28, 28])\n",
      "conv1: torch.Size([64, 10, 24, 24])\n",
      "pool1: torch.Size([64, 10, 12, 12])\n",
      "start: torch.Size([64, 1, 28, 28])\n",
      "conv1: torch.Size([64, 10, 24, 24])\n",
      "pool1: torch.Size([64, 10, 12, 12])\n",
      "start: torch.Size([64, 1, 28, 28])\n",
      "conv1: torch.Size([64, 10, 24, 24])\n",
      "pool1: torch.Size([64, 10, 12, 12])\n",
      "start: torch.Size([64, 1, 28, 28])\n",
      "conv1: torch.Size([64, 10, 24, 24])\n",
      "pool1: torch.Size([64, 10, 12, 12])\n",
      "start: torch.Size([64, 1, 28, 28])\n",
      "conv1: torch.Size([64, 10, 24, 24])\n",
      "pool1: torch.Size([64, 10, 12, 12])\n",
      "start: torch.Size([64, 1, 28, 28])\n",
      "conv1: torch.Size([64, 10, 24, 24])\n",
      "pool1: torch.Size([64, 10, 12, 12])\n"
     ]
    },
    {
     "name": "stderr",
     "output_type": "stream",
     "text": [
      "Epoch 1:  96%|███████████████████████████████████████▎ | 899/938 [00:25<00:01, 37.55batch/s, accuracy=93.8, loss=0.134]"
     ]
    },
    {
     "name": "stdout",
     "output_type": "stream",
     "text": [
      "start: torch.Size([64, 1, 28, 28])\n",
      "conv1: torch.Size([64, 10, 24, 24])\n",
      "pool1: torch.Size([64, 10, 12, 12])\n",
      "start: torch.Size([64, 1, 28, 28])\n",
      "conv1: torch.Size([64, 10, 24, 24])\n",
      "pool1: torch.Size([64, 10, 12, 12])\n",
      "start: torch.Size([64, 1, 28, 28])\n",
      "conv1: torch.Size([64, 10, 24, 24])\n",
      "pool1: torch.Size([64, 10, 12, 12])\n",
      "start: torch.Size([64, 1, 28, 28])\n",
      "conv1: torch.Size([64, 10, 24, 24])\n",
      "pool1: torch.Size([64, 10, 12, 12])\n",
      "start: torch.Size([64, 1, 28, 28])\n",
      "conv1: torch.Size([64, 10, 24, 24])\n",
      "pool1: torch.Size([64, 10, 12, 12])\n",
      "start: torch.Size([64, 1, 28, 28])\n",
      "conv1: torch.Size([64, 10, 24, 24])\n",
      "pool1: torch.Size([64, 10, 12, 12])\n",
      "start: torch.Size([64, 1, 28, 28])\n",
      "conv1: torch.Size([64, 10, 24, 24])\n",
      "pool1: torch.Size([64, 10, 12, 12])\n",
      "start: torch.Size([64, 1, 28, 28])\n"
     ]
    },
    {
     "name": "stderr",
     "output_type": "stream",
     "text": [
      "Epoch 1:  97%|████████████████████████████████████████▌ | 907/938 [00:25<00:00, 36.98batch/s, accuracy=90.6, loss=0.37]"
     ]
    },
    {
     "name": "stdout",
     "output_type": "stream",
     "text": [
      "conv1: torch.Size([64, 10, 24, 24])\n",
      "pool1: torch.Size([64, 10, 12, 12])\n",
      "start: torch.Size([64, 1, 28, 28])\n",
      "conv1: torch.Size([64, 10, 24, 24])\n",
      "pool1: torch.Size([64, 10, 12, 12])\n",
      "start: torch.Size([64, 1, 28, 28])\n",
      "conv1: torch.Size([64, 10, 24, 24])\n",
      "pool1: torch.Size([64, 10, 12, 12])\n",
      "start: torch.Size([64, 1, 28, 28])\n",
      "conv1: torch.Size([64, 10, 24, 24])\n",
      "pool1: torch.Size([64, 10, 12, 12])\n",
      "start: torch.Size([64, 1, 28, 28])\n",
      "conv1: torch.Size([64, 10, 24, 24])\n",
      "pool1: torch.Size([64, 10, 12, 12])\n",
      "start: torch.Size([64, 1, 28, 28])\n",
      "conv1: torch.Size([64, 10, 24, 24])\n",
      "pool1: torch.Size([64, 10, 12, 12])\n",
      "start: torch.Size([64, 1, 28, 28])\n",
      "conv1: torch.Size([64, 10, 24, 24])\n",
      "pool1: torch.Size([64, 10, 12, 12])\n",
      "start: torch.Size([64, 1, 28, 28])\n"
     ]
    },
    {
     "name": "stderr",
     "output_type": "stream",
     "text": [
      "Epoch 1:  98%|███████████████████████████████████████▉ | 915/938 [00:26<00:00, 37.16batch/s, accuracy=95.3, loss=0.085]"
     ]
    },
    {
     "name": "stdout",
     "output_type": "stream",
     "text": [
      "conv1: torch.Size([64, 10, 24, 24])\n",
      "pool1: torch.Size([64, 10, 12, 12])\n",
      "start: torch.Size([64, 1, 28, 28])\n",
      "conv1: torch.Size([64, 10, 24, 24])\n",
      "pool1: torch.Size([64, 10, 12, 12])\n",
      "start: torch.Size([64, 1, 28, 28])\n",
      "conv1: torch.Size([64, 10, 24, 24])\n",
      "pool1: torch.Size([64, 10, 12, 12])\n",
      "start: torch.Size([64, 1, 28, 28])\n",
      "conv1: torch.Size([64, 10, 24, 24])\n",
      "pool1: torch.Size([64, 10, 12, 12])\n",
      "start: torch.Size([64, 1, 28, 28])\n",
      "conv1: torch.Size([64, 10, 24, 24])\n",
      "pool1: torch.Size([64, 10, 12, 12])\n",
      "start: torch.Size([64, 1, 28, 28])\n",
      "conv1: torch.Size([64, 10, 24, 24])\n",
      "pool1: torch.Size([64, 10, 12, 12])\n",
      "start: torch.Size([64, 1, 28, 28])\n",
      "conv1: torch.Size([64, 10, 24, 24])\n",
      "pool1: torch.Size([64, 10, 12, 12])\n",
      "start: torch.Size([64, 1, 28, 28])\n"
     ]
    },
    {
     "name": "stderr",
     "output_type": "stream",
     "text": [
      "Epoch 1:  98%|████████████████████████████████████████▎| 923/938 [00:26<00:00, 37.82batch/s, accuracy=93.8, loss=0.335]"
     ]
    },
    {
     "name": "stdout",
     "output_type": "stream",
     "text": [
      "conv1: torch.Size([64, 10, 24, 24])\n",
      "pool1: torch.Size([64, 10, 12, 12])\n",
      "start: torch.Size([64, 1, 28, 28])\n",
      "conv1: torch.Size([64, 10, 24, 24])\n",
      "pool1: torch.Size([64, 10, 12, 12])\n",
      "start: torch.Size([64, 1, 28, 28])\n",
      "conv1: torch.Size([64, 10, 24, 24])\n",
      "pool1: torch.Size([64, 10, 12, 12])\n",
      "start: torch.Size([64, 1, 28, 28])\n",
      "conv1: torch.Size([64, 10, 24, 24])\n",
      "pool1: torch.Size([64, 10, 12, 12])\n",
      "start: torch.Size([64, 1, 28, 28])\n",
      "conv1: torch.Size([64, 10, 24, 24])\n",
      "pool1: torch.Size([64, 10, 12, 12])\n",
      "start: torch.Size([64, 1, 28, 28])\n",
      "conv1: torch.Size([64, 10, 24, 24])\n",
      "pool1: torch.Size([64, 10, 12, 12])\n",
      "start: torch.Size([64, 1, 28, 28])\n",
      "conv1: torch.Size([64, 10, 24, 24])\n",
      "pool1: torch.Size([64, 10, 12, 12])\n",
      "start: torch.Size([64, 1, 28, 28])\n",
      "conv1: torch.Size([64, 10, 24, 24])\n",
      "pool1: torch.Size([64, 10, 12, 12])\n"
     ]
    },
    {
     "name": "stderr",
     "output_type": "stream",
     "text": [
      "Epoch 1:  99%|████████████████████████████████████████▌| 927/938 [00:26<00:00, 37.51batch/s, accuracy=92.2, loss=0.396]"
     ]
    },
    {
     "name": "stdout",
     "output_type": "stream",
     "text": [
      "start: torch.Size([64, 1, 28, 28])\n",
      "conv1: torch.Size([64, 10, 24, 24])\n",
      "pool1: torch.Size([64, 10, 12, 12])\n",
      "start: torch.Size([64, 1, 28, 28])\n",
      "conv1: torch.Size([64, 10, 24, 24])\n",
      "pool1: torch.Size([64, 10, 12, 12])\n",
      "start: torch.Size([64, 1, 28, 28])\n",
      "conv1: torch.Size([64, 10, 24, 24])\n",
      "pool1: torch.Size([64, 10, 12, 12])\n",
      "start: torch.Size([64, 1, 28, 28])\n",
      "conv1: torch.Size([64, 10, 24, 24])\n",
      "pool1: torch.Size([64, 10, 12, 12])\n",
      "start: torch.Size([64, 1, 28, 28])\n",
      "conv1: torch.Size([64, 10, 24, 24])\n",
      "pool1: torch.Size([64, 10, 12, 12])\n",
      "start: torch.Size([64, 1, 28, 28])\n",
      "conv1: torch.Size([64, 10, 24, 24])\n",
      "pool1: torch.Size([64, 10, 12, 12])\n",
      "start: torch.Size([64, 1, 28, 28])\n",
      "conv1: torch.Size([64, 10, 24, 24])\n",
      "pool1: torch.Size([64, 10, 12, 12])\n"
     ]
    },
    {
     "name": "stderr",
     "output_type": "stream",
     "text": [
      "Epoch 1: 100%|█████████████████████████████████████████| 938/938 [00:26<00:00, 35.03batch/s, accuracy=43.8, loss=0.339]"
     ]
    },
    {
     "name": "stdout",
     "output_type": "stream",
     "text": [
      "start: torch.Size([64, 1, 28, 28])\n",
      "conv1: torch.Size([64, 10, 24, 24])\n",
      "pool1: torch.Size([64, 10, 12, 12])\n",
      "start: torch.Size([64, 1, 28, 28])\n",
      "conv1: torch.Size([64, 10, 24, 24])\n",
      "pool1: torch.Size([64, 10, 12, 12])\n",
      "start: torch.Size([64, 1, 28, 28])\n",
      "conv1: torch.Size([64, 10, 24, 24])\n",
      "pool1: torch.Size([64, 10, 12, 12])\n",
      "start: torch.Size([64, 1, 28, 28])\n",
      "conv1: torch.Size([64, 10, 24, 24])\n",
      "pool1: torch.Size([64, 10, 12, 12])\n",
      "start: torch.Size([64, 1, 28, 28])\n",
      "conv1: torch.Size([64, 10, 24, 24])\n",
      "pool1: torch.Size([64, 10, 12, 12])\n",
      "start: torch.Size([64, 1, 28, 28])\n",
      "conv1: torch.Size([64, 10, 24, 24])\n",
      "pool1: torch.Size([64, 10, 12, 12])\n",
      "start: torch.Size([32, 1, 28, 28])\n",
      "conv1: torch.Size([32, 10, 24, 24])\n",
      "pool1: torch.Size([32, 10, 12, 12])\n"
     ]
    },
    {
     "name": "stderr",
     "output_type": "stream",
     "text": [
      "\n",
      "c:\\users\\timok\\documents\\git_bachelor\\flowmodeling\\chapter_book\\databook_python\\lib\\site-packages\\torch\\nn\\_reduction.py:42: UserWarning: size_average and reduce args will be deprecated, please use reduction='sum' instead.\n",
      "  warnings.warn(warning.format(ret))\n"
     ]
    },
    {
     "name": "stdout",
     "output_type": "stream",
     "text": [
      "start: torch.Size([64, 1, 28, 28])\n",
      "conv1: torch.Size([64, 10, 24, 24])\n",
      "pool1: torch.Size([64, 10, 12, 12])\n",
      "start: torch.Size([64, 1, 28, 28])\n",
      "conv1: torch.Size([64, 10, 24, 24])\n",
      "pool1: torch.Size([64, 10, 12, 12])\n",
      "start: torch.Size([64, 1, 28, 28])\n",
      "conv1: torch.Size([64, 10, 24, 24])\n",
      "pool1: torch.Size([64, 10, 12, 12])\n",
      "start: torch.Size([64, 1, 28, 28])\n",
      "conv1: torch.Size([64, 10, 24, 24])\n",
      "pool1: torch.Size([64, 10, 12, 12])\n",
      "start: torch.Size([64, 1, 28, 28])\n",
      "conv1: torch.Size([64, 10, 24, 24])\n",
      "pool1: torch.Size([64, 10, 12, 12])\n",
      "start: torch.Size([64, 1, 28, 28])\n",
      "conv1: torch.Size([64, 10, 24, 24])\n",
      "pool1: torch.Size([64, 10, 12, 12])\n",
      "start: torch.Size([64, 1, 28, 28])\n",
      "conv1: torch.Size([64, 10, 24, 24])\n",
      "pool1: torch.Size([64, 10, 12, 12])\n",
      "start: torch.Size([64, 1, 28, 28])\n",
      "conv1: torch.Size([64, 10, 24, 24])\n",
      "pool1: torch.Size([64, 10, 12, 12])\n",
      "start: torch.Size([64, 1, 28, 28])\n",
      "conv1: torch.Size([64, 10, 24, 24])\n",
      "pool1: torch.Size([64, 10, 12, 12])\n",
      "start: torch.Size([64, 1, 28, 28])\n",
      "conv1: torch.Size([64, 10, 24, 24])\n",
      "pool1: torch.Size([64, 10, 12, 12])\n",
      "start: torch.Size([64, 1, 28, 28])\n",
      "conv1: torch.Size([64, 10, 24, 24])\n",
      "pool1: torch.Size([64, 10, 12, 12])\n",
      "start: torch.Size([64, 1, 28, 28])\n",
      "conv1: torch.Size([64, 10, 24, 24])\n",
      "pool1: torch.Size([64, 10, 12, 12])\n",
      "start: torch.Size([64, 1, 28, 28])\n",
      "conv1: torch.Size([64, 10, 24, 24])\n",
      "pool1: torch.Size([64, 10, 12, 12])\n",
      "start: torch.Size([64, 1, 28, 28])\n",
      "conv1: torch.Size([64, 10, 24, 24])\n",
      "pool1: torch.Size([64, 10, 12, 12])\n",
      "start: torch.Size([64, 1, 28, 28])\n",
      "conv1: torch.Size([64, 10, 24, 24])\n",
      "pool1: torch.Size([64, 10, 12, 12])\n",
      "start: torch.Size([64, 1, 28, 28])\n",
      "conv1: torch.Size([64, 10, 24, 24])\n",
      "pool1: torch.Size([64, 10, 12, 12])\n",
      "start: torch.Size([64, 1, 28, 28])\n",
      "conv1: torch.Size([64, 10, 24, 24])\n",
      "pool1: torch.Size([64, 10, 12, 12])\n",
      "start: torch.Size([64, 1, 28, 28])\n",
      "conv1: torch.Size([64, 10, 24, 24])\n",
      "pool1: torch.Size([64, 10, 12, 12])\n",
      "start: torch.Size([64, 1, 28, 28])\n",
      "conv1: torch.Size([64, 10, 24, 24])\n",
      "pool1: torch.Size([64, 10, 12, 12])\n",
      "start: torch.Size([64, 1, 28, 28])\n",
      "conv1: torch.Size([64, 10, 24, 24])\n",
      "pool1: torch.Size([64, 10, 12, 12])\n",
      "start: torch.Size([64, 1, 28, 28])\n",
      "conv1: torch.Size([64, 10, 24, 24])\n",
      "pool1: torch.Size([64, 10, 12, 12])\n",
      "start: torch.Size([64, 1, 28, 28])\n",
      "conv1: torch.Size([64, 10, 24, 24])\n",
      "pool1: torch.Size([64, 10, 12, 12])\n",
      "start: torch.Size([64, 1, 28, 28])\n",
      "conv1: torch.Size([64, 10, 24, 24])\n",
      "pool1: torch.Size([64, 10, 12, 12])\n",
      "start: torch.Size([64, 1, 28, 28])\n",
      "conv1: torch.Size([64, 10, 24, 24])\n",
      "pool1: torch.Size([64, 10, 12, 12])\n",
      "start: torch.Size([64, 1, 28, 28])\n",
      "conv1: torch.Size([64, 10, 24, 24])\n",
      "pool1: torch.Size([64, 10, 12, 12])\n",
      "start: torch.Size([64, 1, 28, 28])\n",
      "conv1: torch.Size([64, 10, 24, 24])\n",
      "pool1: torch.Size([64, 10, 12, 12])\n",
      "start: torch.Size([64, 1, 28, 28])\n",
      "conv1: torch.Size([64, 10, 24, 24])\n",
      "pool1: torch.Size([64, 10, 12, 12])\n",
      "start: torch.Size([64, 1, 28, 28])\n",
      "conv1: torch.Size([64, 10, 24, 24])\n",
      "pool1: torch.Size([64, 10, 12, 12])\n",
      "start: torch.Size([64, 1, 28, 28])\n",
      "conv1: torch.Size([64, 10, 24, 24])\n",
      "pool1: torch.Size([64, 10, 12, 12])\n",
      "start: torch.Size([64, 1, 28, 28])\n",
      "conv1: torch.Size([64, 10, 24, 24])\n",
      "pool1: torch.Size([64, 10, 12, 12])\n",
      "start: torch.Size([64, 1, 28, 28])\n",
      "conv1: torch.Size([64, 10, 24, 24])\n",
      "pool1: torch.Size([64, 10, 12, 12])\n",
      "start: torch.Size([64, 1, 28, 28])\n",
      "conv1: torch.Size([64, 10, 24, 24])\n",
      "pool1: torch.Size([64, 10, 12, 12])\n",
      "start: torch.Size([64, 1, 28, 28])\n",
      "conv1: torch.Size([64, 10, 24, 24])\n",
      "pool1: torch.Size([64, 10, 12, 12])\n",
      "start: torch.Size([64, 1, 28, 28])\n",
      "conv1: torch.Size([64, 10, 24, 24])\n",
      "pool1: torch.Size([64, 10, 12, 12])\n",
      "start: torch.Size([64, 1, 28, 28])\n",
      "conv1: torch.Size([64, 10, 24, 24])\n",
      "pool1: torch.Size([64, 10, 12, 12])\n",
      "start: torch.Size([64, 1, 28, 28])\n",
      "conv1: torch.Size([64, 10, 24, 24])\n",
      "pool1: torch.Size([64, 10, 12, 12])\n",
      "start: torch.Size([64, 1, 28, 28])\n",
      "conv1: torch.Size([64, 10, 24, 24])\n",
      "pool1: torch.Size([64, 10, 12, 12])\n",
      "start: torch.Size([64, 1, 28, 28])\n",
      "conv1: torch.Size([64, 10, 24, 24])\n",
      "pool1: torch.Size([64, 10, 12, 12])\n",
      "start: torch.Size([64, 1, 28, 28])\n",
      "conv1: torch.Size([64, 10, 24, 24])\n",
      "pool1: torch.Size([64, 10, 12, 12])\n",
      "start: torch.Size([64, 1, 28, 28])\n",
      "conv1: torch.Size([64, 10, 24, 24])\n",
      "pool1: torch.Size([64, 10, 12, 12])\n",
      "start: torch.Size([64, 1, 28, 28])\n",
      "conv1: torch.Size([64, 10, 24, 24])\n",
      "pool1: torch.Size([64, 10, 12, 12])\n",
      "start: torch.Size([64, 1, 28, 28])\n",
      "conv1: torch.Size([64, 10, 24, 24])\n",
      "pool1: torch.Size([64, 10, 12, 12])\n",
      "start: torch.Size([64, 1, 28, 28])\n",
      "conv1: torch.Size([64, 10, 24, 24])\n",
      "pool1: torch.Size([64, 10, 12, 12])\n",
      "start: torch.Size([64, 1, 28, 28])\n",
      "conv1: torch.Size([64, 10, 24, 24])\n",
      "pool1: torch.Size([64, 10, 12, 12])\n",
      "start: torch.Size([64, 1, 28, 28])\n",
      "conv1: torch.Size([64, 10, 24, 24])\n",
      "pool1: torch.Size([64, 10, 12, 12])\n",
      "start: torch.Size([64, 1, 28, 28])\n",
      "conv1: torch.Size([64, 10, 24, 24])\n",
      "pool1: torch.Size([64, 10, 12, 12])\n",
      "start: torch.Size([64, 1, 28, 28])\n",
      "conv1: torch.Size([64, 10, 24, 24])\n",
      "pool1: torch.Size([64, 10, 12, 12])\n",
      "start: torch.Size([64, 1, 28, 28])\n",
      "conv1: torch.Size([64, 10, 24, 24])\n",
      "pool1: torch.Size([64, 10, 12, 12])\n",
      "start: torch.Size([64, 1, 28, 28])\n",
      "conv1: torch.Size([64, 10, 24, 24])\n",
      "pool1: torch.Size([64, 10, 12, 12])\n",
      "start: torch.Size([64, 1, 28, 28])\n",
      "conv1: torch.Size([64, 10, 24, 24])\n",
      "pool1: torch.Size([64, 10, 12, 12])\n",
      "start: torch.Size([64, 1, 28, 28])\n",
      "conv1: torch.Size([64, 10, 24, 24])\n",
      "pool1: torch.Size([64, 10, 12, 12])\n",
      "start: torch.Size([64, 1, 28, 28])\n",
      "conv1: torch.Size([64, 10, 24, 24])\n",
      "pool1: torch.Size([64, 10, 12, 12])\n",
      "start: torch.Size([64, 1, 28, 28])\n",
      "conv1: torch.Size([64, 10, 24, 24])\n",
      "pool1: torch.Size([64, 10, 12, 12])\n",
      "start: torch.Size([64, 1, 28, 28])\n",
      "conv1: torch.Size([64, 10, 24, 24])\n",
      "pool1: torch.Size([64, 10, 12, 12])\n",
      "start: torch.Size([64, 1, 28, 28])\n",
      "conv1: torch.Size([64, 10, 24, 24])\n",
      "pool1: torch.Size([64, 10, 12, 12])\n",
      "start: torch.Size([64, 1, 28, 28])\n",
      "conv1: torch.Size([64, 10, 24, 24])\n",
      "pool1: torch.Size([64, 10, 12, 12])\n",
      "start: torch.Size([64, 1, 28, 28])\n",
      "conv1: torch.Size([64, 10, 24, 24])\n",
      "pool1: torch.Size([64, 10, 12, 12])\n",
      "start: torch.Size([64, 1, 28, 28])\n",
      "conv1: torch.Size([64, 10, 24, 24])\n",
      "pool1: torch.Size([64, 10, 12, 12])\n",
      "start: torch.Size([64, 1, 28, 28])\n",
      "conv1: torch.Size([64, 10, 24, 24])\n",
      "pool1: torch.Size([64, 10, 12, 12])\n",
      "start: torch.Size([64, 1, 28, 28])\n",
      "conv1: torch.Size([64, 10, 24, 24])\n",
      "pool1: torch.Size([64, 10, 12, 12])\n",
      "start: torch.Size([64, 1, 28, 28])\n",
      "conv1: torch.Size([64, 10, 24, 24])\n",
      "pool1: torch.Size([64, 10, 12, 12])\n",
      "start: torch.Size([64, 1, 28, 28])\n",
      "conv1: torch.Size([64, 10, 24, 24])\n",
      "pool1: torch.Size([64, 10, 12, 12])\n",
      "start: torch.Size([64, 1, 28, 28])\n",
      "conv1: torch.Size([64, 10, 24, 24])\n",
      "pool1: torch.Size([64, 10, 12, 12])\n",
      "start: torch.Size([64, 1, 28, 28])\n",
      "conv1: torch.Size([64, 10, 24, 24])\n",
      "pool1: torch.Size([64, 10, 12, 12])\n",
      "start: torch.Size([64, 1, 28, 28])\n",
      "conv1: torch.Size([64, 10, 24, 24])\n",
      "pool1: torch.Size([64, 10, 12, 12])\n",
      "start: torch.Size([64, 1, 28, 28])\n",
      "conv1: torch.Size([64, 10, 24, 24])\n",
      "pool1: torch.Size([64, 10, 12, 12])\n",
      "start: torch.Size([64, 1, 28, 28])\n",
      "conv1: torch.Size([64, 10, 24, 24])\n",
      "pool1: torch.Size([64, 10, 12, 12])\n",
      "start: torch.Size([64, 1, 28, 28])\n",
      "conv1: torch.Size([64, 10, 24, 24])\n",
      "pool1: torch.Size([64, 10, 12, 12])\n",
      "start: torch.Size([64, 1, 28, 28])\n",
      "conv1: torch.Size([64, 10, 24, 24])\n",
      "pool1: torch.Size([64, 10, 12, 12])\n",
      "start: torch.Size([64, 1, 28, 28])\n",
      "conv1: torch.Size([64, 10, 24, 24])\n",
      "pool1: torch.Size([64, 10, 12, 12])\n",
      "start: torch.Size([64, 1, 28, 28])\n",
      "conv1: torch.Size([64, 10, 24, 24])\n",
      "pool1: torch.Size([64, 10, 12, 12])\n",
      "start: torch.Size([64, 1, 28, 28])\n",
      "conv1: torch.Size([64, 10, 24, 24])\n",
      "pool1: torch.Size([64, 10, 12, 12])\n",
      "start: torch.Size([64, 1, 28, 28])\n",
      "conv1: torch.Size([64, 10, 24, 24])\n",
      "pool1: torch.Size([64, 10, 12, 12])\n",
      "start: torch.Size([64, 1, 28, 28])\n",
      "conv1: torch.Size([64, 10, 24, 24])\n",
      "pool1: torch.Size([64, 10, 12, 12])\n",
      "start: torch.Size([64, 1, 28, 28])\n",
      "conv1: torch.Size([64, 10, 24, 24])\n",
      "pool1: torch.Size([64, 10, 12, 12])\n",
      "start: torch.Size([64, 1, 28, 28])\n",
      "conv1: torch.Size([64, 10, 24, 24])\n",
      "pool1: torch.Size([64, 10, 12, 12])\n",
      "start: torch.Size([64, 1, 28, 28])\n",
      "conv1: torch.Size([64, 10, 24, 24])\n",
      "pool1: torch.Size([64, 10, 12, 12])\n",
      "start: torch.Size([64, 1, 28, 28])\n"
     ]
    },
    {
     "name": "stdout",
     "output_type": "stream",
     "text": [
      "conv1: torch.Size([64, 10, 24, 24])\n",
      "pool1: torch.Size([64, 10, 12, 12])\n",
      "start: torch.Size([64, 1, 28, 28])\n",
      "conv1: torch.Size([64, 10, 24, 24])\n",
      "pool1: torch.Size([64, 10, 12, 12])\n",
      "start: torch.Size([64, 1, 28, 28])\n",
      "conv1: torch.Size([64, 10, 24, 24])\n",
      "pool1: torch.Size([64, 10, 12, 12])\n",
      "start: torch.Size([64, 1, 28, 28])\n",
      "conv1: torch.Size([64, 10, 24, 24])\n",
      "pool1: torch.Size([64, 10, 12, 12])\n",
      "start: torch.Size([64, 1, 28, 28])\n",
      "conv1: torch.Size([64, 10, 24, 24])\n",
      "pool1: torch.Size([64, 10, 12, 12])\n",
      "start: torch.Size([64, 1, 28, 28])\n",
      "conv1: torch.Size([64, 10, 24, 24])\n",
      "pool1: torch.Size([64, 10, 12, 12])\n",
      "start: torch.Size([64, 1, 28, 28])\n",
      "conv1: torch.Size([64, 10, 24, 24])\n",
      "pool1: torch.Size([64, 10, 12, 12])\n",
      "start: torch.Size([64, 1, 28, 28])\n",
      "conv1: torch.Size([64, 10, 24, 24])\n",
      "pool1: torch.Size([64, 10, 12, 12])\n",
      "start: torch.Size([64, 1, 28, 28])\n",
      "conv1: torch.Size([64, 10, 24, 24])\n",
      "pool1: torch.Size([64, 10, 12, 12])\n",
      "start: torch.Size([64, 1, 28, 28])\n",
      "conv1: torch.Size([64, 10, 24, 24])\n",
      "pool1: torch.Size([64, 10, 12, 12])\n",
      "start: torch.Size([64, 1, 28, 28])\n",
      "conv1: torch.Size([64, 10, 24, 24])\n",
      "pool1: torch.Size([64, 10, 12, 12])\n",
      "start: torch.Size([64, 1, 28, 28])\n",
      "conv1: torch.Size([64, 10, 24, 24])\n",
      "pool1: torch.Size([64, 10, 12, 12])\n",
      "start: torch.Size([64, 1, 28, 28])\n",
      "conv1: torch.Size([64, 10, 24, 24])\n",
      "pool1: torch.Size([64, 10, 12, 12])\n",
      "start: torch.Size([64, 1, 28, 28])\n",
      "conv1: torch.Size([64, 10, 24, 24])\n",
      "pool1: torch.Size([64, 10, 12, 12])\n",
      "start: torch.Size([64, 1, 28, 28])\n",
      "conv1: torch.Size([64, 10, 24, 24])\n",
      "pool1: torch.Size([64, 10, 12, 12])\n",
      "start: torch.Size([64, 1, 28, 28])\n",
      "conv1: torch.Size([64, 10, 24, 24])\n",
      "pool1: torch.Size([64, 10, 12, 12])\n",
      "start: torch.Size([64, 1, 28, 28])\n",
      "conv1: torch.Size([64, 10, 24, 24])\n",
      "pool1: torch.Size([64, 10, 12, 12])\n",
      "start: torch.Size([64, 1, 28, 28])\n",
      "conv1: torch.Size([64, 10, 24, 24])\n",
      "pool1: torch.Size([64, 10, 12, 12])\n",
      "start: torch.Size([64, 1, 28, 28])\n",
      "conv1: torch.Size([64, 10, 24, 24])\n",
      "pool1: torch.Size([64, 10, 12, 12])\n",
      "start: torch.Size([64, 1, 28, 28])\n",
      "conv1: torch.Size([64, 10, 24, 24])\n",
      "pool1: torch.Size([64, 10, 12, 12])\n",
      "start: torch.Size([64, 1, 28, 28])\n",
      "conv1: torch.Size([64, 10, 24, 24])\n",
      "pool1: torch.Size([64, 10, 12, 12])\n",
      "start: torch.Size([64, 1, 28, 28])\n",
      "conv1: torch.Size([64, 10, 24, 24])\n",
      "pool1: torch.Size([64, 10, 12, 12])\n",
      "start: torch.Size([64, 1, 28, 28])\n",
      "conv1: torch.Size([64, 10, 24, 24])\n",
      "pool1: torch.Size([64, 10, 12, 12])\n",
      "start: torch.Size([64, 1, 28, 28])\n",
      "conv1: torch.Size([64, 10, 24, 24])\n",
      "pool1: torch.Size([64, 10, 12, 12])\n",
      "start: torch.Size([64, 1, 28, 28])\n",
      "conv1: torch.Size([64, 10, 24, 24])\n",
      "pool1: torch.Size([64, 10, 12, 12])\n",
      "start: torch.Size([64, 1, 28, 28])\n",
      "conv1: torch.Size([64, 10, 24, 24])\n",
      "pool1: torch.Size([64, 10, 12, 12])\n",
      "start: torch.Size([64, 1, 28, 28])\n",
      "conv1: torch.Size([64, 10, 24, 24])\n",
      "pool1: torch.Size([64, 10, 12, 12])\n",
      "start: torch.Size([64, 1, 28, 28])\n",
      "conv1: torch.Size([64, 10, 24, 24])\n",
      "pool1: torch.Size([64, 10, 12, 12])\n",
      "start: torch.Size([64, 1, 28, 28])\n",
      "conv1: torch.Size([64, 10, 24, 24])\n",
      "pool1: torch.Size([64, 10, 12, 12])\n",
      "start: torch.Size([64, 1, 28, 28])\n",
      "conv1: torch.Size([64, 10, 24, 24])\n",
      "pool1: torch.Size([64, 10, 12, 12])\n",
      "start: torch.Size([64, 1, 28, 28])\n",
      "conv1: torch.Size([64, 10, 24, 24])\n",
      "pool1: torch.Size([64, 10, 12, 12])\n",
      "start: torch.Size([64, 1, 28, 28])\n",
      "conv1: torch.Size([64, 10, 24, 24])\n",
      "pool1: torch.Size([64, 10, 12, 12])\n",
      "start: torch.Size([64, 1, 28, 28])\n",
      "conv1: torch.Size([64, 10, 24, 24])\n",
      "pool1: torch.Size([64, 10, 12, 12])\n",
      "start: torch.Size([64, 1, 28, 28])\n",
      "conv1: torch.Size([64, 10, 24, 24])\n",
      "pool1: torch.Size([64, 10, 12, 12])\n",
      "start: torch.Size([64, 1, 28, 28])\n",
      "conv1: torch.Size([64, 10, 24, 24])\n",
      "pool1: torch.Size([64, 10, 12, 12])\n",
      "start: torch.Size([64, 1, 28, 28])\n",
      "conv1: torch.Size([64, 10, 24, 24])\n",
      "pool1: torch.Size([64, 10, 12, 12])\n",
      "start: torch.Size([64, 1, 28, 28])\n",
      "conv1: torch.Size([64, 10, 24, 24])\n",
      "pool1: torch.Size([64, 10, 12, 12])\n",
      "start: torch.Size([64, 1, 28, 28])\n",
      "conv1: torch.Size([64, 10, 24, 24])\n",
      "pool1: torch.Size([64, 10, 12, 12])\n",
      "start: torch.Size([64, 1, 28, 28])\n",
      "conv1: torch.Size([64, 10, 24, 24])\n",
      "pool1: torch.Size([64, 10, 12, 12])\n",
      "start: torch.Size([64, 1, 28, 28])\n",
      "conv1: torch.Size([64, 10, 24, 24])\n",
      "pool1: torch.Size([64, 10, 12, 12])\n",
      "start: torch.Size([64, 1, 28, 28])\n",
      "conv1: torch.Size([64, 10, 24, 24])\n",
      "pool1: torch.Size([64, 10, 12, 12])\n",
      "start: torch.Size([64, 1, 28, 28])\n",
      "conv1: torch.Size([64, 10, 24, 24])\n",
      "pool1: torch.Size([64, 10, 12, 12])\n",
      "start: torch.Size([64, 1, 28, 28])\n",
      "conv1: torch.Size([64, 10, 24, 24])\n",
      "pool1: torch.Size([64, 10, 12, 12])\n",
      "start: torch.Size([64, 1, 28, 28])\n",
      "conv1: torch.Size([64, 10, 24, 24])\n",
      "pool1: torch.Size([64, 10, 12, 12])\n",
      "start: torch.Size([64, 1, 28, 28])\n",
      "conv1: torch.Size([64, 10, 24, 24])\n",
      "pool1: torch.Size([64, 10, 12, 12])\n",
      "start: torch.Size([64, 1, 28, 28])\n",
      "conv1: torch.Size([64, 10, 24, 24])\n",
      "pool1: torch.Size([64, 10, 12, 12])\n",
      "start: torch.Size([64, 1, 28, 28])\n",
      "conv1: torch.Size([64, 10, 24, 24])\n",
      "pool1: torch.Size([64, 10, 12, 12])\n",
      "start: torch.Size([64, 1, 28, 28])\n",
      "conv1: torch.Size([64, 10, 24, 24])\n",
      "pool1: torch.Size([64, 10, 12, 12])\n",
      "start: torch.Size([64, 1, 28, 28])\n",
      "conv1: torch.Size([64, 10, 24, 24])\n",
      "pool1: torch.Size([64, 10, 12, 12])\n",
      "start: torch.Size([64, 1, 28, 28])\n",
      "conv1: torch.Size([64, 10, 24, 24])\n",
      "pool1: torch.Size([64, 10, 12, 12])\n",
      "start: torch.Size([64, 1, 28, 28])\n",
      "conv1: torch.Size([64, 10, 24, 24])\n",
      "pool1: torch.Size([64, 10, 12, 12])\n",
      "start: torch.Size([64, 1, 28, 28])\n",
      "conv1: torch.Size([64, 10, 24, 24])\n",
      "pool1: torch.Size([64, 10, 12, 12])\n",
      "start: torch.Size([64, 1, 28, 28])\n",
      "conv1: torch.Size([64, 10, 24, 24])\n",
      "pool1: torch.Size([64, 10, 12, 12])\n",
      "start: torch.Size([64, 1, 28, 28])\n",
      "conv1: torch.Size([64, 10, 24, 24])\n",
      "pool1: torch.Size([64, 10, 12, 12])\n",
      "start: torch.Size([64, 1, 28, 28])\n",
      "conv1: torch.Size([64, 10, 24, 24])\n",
      "pool1: torch.Size([64, 10, 12, 12])\n",
      "start: torch.Size([64, 1, 28, 28])\n",
      "conv1: torch.Size([64, 10, 24, 24])\n",
      "pool1: torch.Size([64, 10, 12, 12])\n",
      "start: torch.Size([64, 1, 28, 28])\n",
      "conv1: torch.Size([64, 10, 24, 24])\n",
      "pool1: torch.Size([64, 10, 12, 12])\n",
      "start: torch.Size([64, 1, 28, 28])\n",
      "conv1: torch.Size([64, 10, 24, 24])\n",
      "pool1: torch.Size([64, 10, 12, 12])\n",
      "start: torch.Size([64, 1, 28, 28])\n",
      "conv1: torch.Size([64, 10, 24, 24])\n",
      "pool1: torch.Size([64, 10, 12, 12])\n",
      "start: torch.Size([64, 1, 28, 28])\n",
      "conv1: torch.Size([64, 10, 24, 24])\n",
      "pool1: torch.Size([64, 10, 12, 12])\n",
      "start: torch.Size([64, 1, 28, 28])\n",
      "conv1: torch.Size([64, 10, 24, 24])\n",
      "pool1: torch.Size([64, 10, 12, 12])\n",
      "start: torch.Size([64, 1, 28, 28])\n",
      "conv1: torch.Size([64, 10, 24, 24])\n",
      "pool1: torch.Size([64, 10, 12, 12])\n",
      "start: torch.Size([64, 1, 28, 28])\n",
      "conv1: torch.Size([64, 10, 24, 24])\n",
      "pool1: torch.Size([64, 10, 12, 12])\n",
      "start: torch.Size([64, 1, 28, 28])\n",
      "conv1: torch.Size([64, 10, 24, 24])\n",
      "pool1: torch.Size([64, 10, 12, 12])\n",
      "start: torch.Size([64, 1, 28, 28])\n",
      "conv1: torch.Size([64, 10, 24, 24])\n",
      "pool1: torch.Size([64, 10, 12, 12])\n",
      "start: torch.Size([64, 1, 28, 28])\n",
      "conv1: torch.Size([64, 10, 24, 24])\n",
      "pool1: torch.Size([64, 10, 12, 12])\n",
      "start: torch.Size([64, 1, 28, 28])\n",
      "conv1: torch.Size([64, 10, 24, 24])\n",
      "pool1: torch.Size([64, 10, 12, 12])\n",
      "start: torch.Size([64, 1, 28, 28])\n",
      "conv1: torch.Size([64, 10, 24, 24])\n",
      "pool1: torch.Size([64, 10, 12, 12])\n",
      "start: torch.Size([64, 1, 28, 28])\n",
      "conv1: torch.Size([64, 10, 24, 24])\n",
      "pool1: torch.Size([64, 10, 12, 12])\n",
      "start: torch.Size([64, 1, 28, 28])\n",
      "conv1: torch.Size([64, 10, 24, 24])\n",
      "pool1: torch.Size([64, 10, 12, 12])\n",
      "start: torch.Size([64, 1, 28, 28])\n",
      "conv1: torch.Size([64, 10, 24, 24])\n",
      "pool1: torch.Size([64, 10, 12, 12])\n",
      "start: torch.Size([64, 1, 28, 28])\n",
      "conv1: torch.Size([64, 10, 24, 24])\n",
      "pool1: torch.Size([64, 10, 12, 12])\n",
      "start: torch.Size([64, 1, 28, 28])\n",
      "conv1: torch.Size([64, 10, 24, 24])\n",
      "pool1: torch.Size([64, 10, 12, 12])\n",
      "start: torch.Size([64, 1, 28, 28])\n",
      "conv1: torch.Size([64, 10, 24, 24])\n",
      "pool1: torch.Size([64, 10, 12, 12])\n",
      "start: torch.Size([64, 1, 28, 28])\n",
      "conv1: torch.Size([64, 10, 24, 24])\n",
      "pool1: torch.Size([64, 10, 12, 12])\n",
      "start: torch.Size([64, 1, 28, 28])\n",
      "conv1: torch.Size([64, 10, 24, 24])\n",
      "pool1: torch.Size([64, 10, 12, 12])\n",
      "start: torch.Size([64, 1, 28, 28])\n",
      "conv1: torch.Size([64, 10, 24, 24])\n",
      "pool1: torch.Size([64, 10, 12, 12])\n",
      "start: torch.Size([64, 1, 28, 28])\n",
      "conv1: torch.Size([64, 10, 24, 24])\n",
      "pool1: torch.Size([64, 10, 12, 12])\n",
      "start: torch.Size([64, 1, 28, 28])\n",
      "conv1: torch.Size([64, 10, 24, 24])\n",
      "pool1: torch.Size([64, 10, 12, 12])\n",
      "start: torch.Size([16, 1, 28, 28])\n"
     ]
    },
    {
     "name": "stdout",
     "output_type": "stream",
     "text": [
      "conv1: torch.Size([16, 10, 24, 24])\n",
      "pool1: torch.Size([16, 10, 12, 12])\n",
      "average loss:  0.09160668028593064\n",
      "accuracy:  97 %\n"
     ]
    },
    {
     "name": "stderr",
     "output_type": "stream",
     "text": [
      "Epoch 2:   0%|▏                                          | 4/938 [00:00<00:23, 39.71batch/s, accuracy=96.9, loss=0.127]"
     ]
    },
    {
     "name": "stdout",
     "output_type": "stream",
     "text": [
      "start: torch.Size([64, 1, 28, 28])\n",
      "conv1: torch.Size([64, 10, 24, 24])\n",
      "pool1: torch.Size([64, 10, 12, 12])\n",
      "start: torch.Size([64, 1, 28, 28])\n",
      "conv1: torch.Size([64, 10, 24, 24])\n",
      "pool1: torch.Size([64, 10, 12, 12])\n",
      "start: torch.Size([64, 1, 28, 28])\n",
      "conv1: torch.Size([64, 10, 24, 24])\n",
      "pool1: torch.Size([64, 10, 12, 12])\n",
      "start: torch.Size([64, 1, 28, 28])\n",
      "conv1: torch.Size([64, 10, 24, 24])\n",
      "pool1: torch.Size([64, 10, 12, 12])\n",
      "start: torch.Size([64, 1, 28, 28])\n",
      "conv1: torch.Size([64, 10, 24, 24])\n",
      "pool1: torch.Size([64, 10, 12, 12])\n",
      "start: torch.Size([64, 1, 28, 28])\n",
      "conv1: torch.Size([64, 10, 24, 24])\n",
      "pool1: torch.Size([64, 10, 12, 12])\n",
      "start: torch.Size([64, 1, 28, 28])\n",
      "conv1: torch.Size([64, 10, 24, 24])\n",
      "pool1: torch.Size([64, 10, 12, 12])\n",
      "start: torch.Size([64, 1, 28, 28])\n"
     ]
    },
    {
     "name": "stderr",
     "output_type": "stream",
     "text": [
      "\r",
      "Epoch 2:   0%|▏                                          | 4/938 [00:00<00:23, 39.71batch/s, accuracy=96.9, loss=0.127]"
     ]
    },
    {
     "name": "stdout",
     "output_type": "stream",
     "text": [
      "conv1: torch.Size([64, 10, 24, 24])\n",
      "pool1: torch.Size([64, 10, 12, 12])\n"
     ]
    },
    {
     "name": "stderr",
     "output_type": "stream",
     "text": [
      "Epoch 2:   1%|▌                                         | 12/938 [00:00<00:24, 37.70batch/s, accuracy=93.8, loss=0.331]"
     ]
    },
    {
     "name": "stdout",
     "output_type": "stream",
     "text": [
      "start: torch.Size([64, 1, 28, 28])\n",
      "conv1: torch.Size([64, 10, 24, 24])\n",
      "pool1: torch.Size([64, 10, 12, 12])\n",
      "start: torch.Size([64, 1, 28, 28])\n",
      "conv1: torch.Size([64, 10, 24, 24])\n",
      "pool1: torch.Size([64, 10, 12, 12])\n",
      "start: torch.Size([64, 1, 28, 28])\n",
      "conv1: torch.Size([64, 10, 24, 24])\n",
      "pool1: torch.Size([64, 10, 12, 12])\n",
      "start: torch.Size([64, 1, 28, 28])\n",
      "conv1: torch.Size([64, 10, 24, 24])\n",
      "pool1: torch.Size([64, 10, 12, 12])\n",
      "start: torch.Size([64, 1, 28, 28])\n",
      "conv1: torch.Size([64, 10, 24, 24])\n",
      "pool1: torch.Size([64, 10, 12, 12])\n",
      "start: torch.Size([64, 1, 28, 28])\n",
      "conv1: torch.Size([64, 10, 24, 24])\n",
      "pool1: torch.Size([64, 10, 12, 12])\n",
      "start: torch.Size([64, 1, 28, 28])\n"
     ]
    },
    {
     "name": "stderr",
     "output_type": "stream",
     "text": [
      "Epoch 2:   1%|▌                                         | 12/938 [00:00<00:24, 37.70batch/s, accuracy=90.6, loss=0.331]"
     ]
    },
    {
     "name": "stdout",
     "output_type": "stream",
     "text": [
      "conv1: torch.Size([64, 10, 24, 24])\n",
      "pool1: torch.Size([64, 10, 12, 12])\n",
      "start: torch.Size([64, 1, 28, 28])\n"
     ]
    },
    {
     "name": "stderr",
     "output_type": "stream",
     "text": [
      "Epoch 2:   2%|▉                                         | 21/938 [00:00<00:23, 38.53batch/s, accuracy=90.6, loss=0.158]"
     ]
    },
    {
     "name": "stdout",
     "output_type": "stream",
     "text": [
      "conv1: torch.Size([64, 10, 24, 24])\n",
      "pool1: torch.Size([64, 10, 12, 12])\n",
      "start: torch.Size([64, 1, 28, 28])\n",
      "conv1: torch.Size([64, 10, 24, 24])\n",
      "pool1: torch.Size([64, 10, 12, 12])\n",
      "start: torch.Size([64, 1, 28, 28])\n",
      "conv1: torch.Size([64, 10, 24, 24])\n",
      "pool1: torch.Size([64, 10, 12, 12])\n",
      "start: torch.Size([64, 1, 28, 28])\n",
      "conv1: torch.Size([64, 10, 24, 24])\n",
      "pool1: torch.Size([64, 10, 12, 12])\n",
      "start: torch.Size([64, 1, 28, 28])\n",
      "conv1: torch.Size([64, 10, 24, 24])\n",
      "pool1: torch.Size([64, 10, 12, 12])\n",
      "start: torch.Size([64, 1, 28, 28])\n",
      "conv1: torch.Size([64, 10, 24, 24])\n",
      "pool1: torch.Size([64, 10, 12, 12])\n",
      "start: torch.Size([64, 1, 28, 28])\n"
     ]
    },
    {
     "name": "stderr",
     "output_type": "stream",
     "text": [
      "Epoch 2:   2%|▉                                         | 21/938 [00:00<00:23, 38.53batch/s, accuracy=93.8, loss=0.252]"
     ]
    },
    {
     "name": "stdout",
     "output_type": "stream",
     "text": [
      "conv1: torch.Size([64, 10, 24, 24])\n",
      "pool1: torch.Size([64, 10, 12, 12])\n",
      "start: torch.Size([64, 1, 28, 28])\n"
     ]
    },
    {
     "name": "stderr",
     "output_type": "stream",
     "text": [
      "Epoch 2:   3%|█                                        | 25/938 [00:00<00:25, 36.16batch/s, accuracy=98.4, loss=0.0632]"
     ]
    },
    {
     "name": "stdout",
     "output_type": "stream",
     "text": [
      "conv1: torch.Size([64, 10, 24, 24])\n",
      "pool1: torch.Size([64, 10, 12, 12])\n",
      "start: torch.Size([64, 1, 28, 28])\n",
      "conv1: torch.Size([64, 10, 24, 24])\n",
      "pool1: torch.Size([64, 10, 12, 12])\n",
      "start: torch.Size([64, 1, 28, 28])\n",
      "conv1: torch.Size([64, 10, 24, 24])\n",
      "pool1: torch.Size([64, 10, 12, 12])\n",
      "start: torch.Size([64, 1, 28, 28])\n",
      "conv1: torch.Size([64, 10, 24, 24])\n",
      "pool1: torch.Size([64, 10, 12, 12])\n",
      "start: torch.Size([64, 1, 28, 28])\n",
      "conv1: torch.Size([64, 10, 24, 24])\n",
      "pool1: torch.Size([64, 10, 12, 12])\n",
      "start: torch.Size([64, 1, 28, 28])\n"
     ]
    },
    {
     "name": "stderr",
     "output_type": "stream",
     "text": [
      "Epoch 2:   3%|█                                        | 25/938 [00:00<00:25, 36.16batch/s, accuracy=98.4, loss=0.0595]"
     ]
    },
    {
     "name": "stdout",
     "output_type": "stream",
     "text": [
      "conv1: torch.Size([64, 10, 24, 24])\n",
      "pool1: torch.Size([64, 10, 12, 12])\n",
      "start: torch.Size([64, 1, 28, 28])\n",
      "conv1: torch.Size([64, 10, 24, 24])\n"
     ]
    },
    {
     "name": "stderr",
     "output_type": "stream",
     "text": [
      "Epoch 2:   4%|█▍                                        | 33/938 [00:00<00:25, 35.29batch/s, accuracy=93.8, loss=0.159]"
     ]
    },
    {
     "name": "stdout",
     "output_type": "stream",
     "text": [
      "pool1: torch.Size([64, 10, 12, 12])\n",
      "start: torch.Size([64, 1, 28, 28])\n",
      "conv1: torch.Size([64, 10, 24, 24])\n",
      "pool1: torch.Size([64, 10, 12, 12])\n",
      "start: torch.Size([64, 1, 28, 28])\n",
      "conv1: torch.Size([64, 10, 24, 24])\n",
      "pool1: torch.Size([64, 10, 12, 12])\n",
      "start: torch.Size([64, 1, 28, 28])\n",
      "conv1: torch.Size([64, 10, 24, 24])\n",
      "pool1: torch.Size([64, 10, 12, 12])\n",
      "start: torch.Size([64, 1, 28, 28])\n",
      "conv1: torch.Size([64, 10, 24, 24])\n",
      "pool1: torch.Size([64, 10, 12, 12])\n",
      "start: torch.Size([64, 1, 28, 28])\n",
      "conv1: torch.Size([64, 10, 24, 24])\n",
      "pool1: torch.Size([64, 10, 12, 12])\n",
      "start: torch.Size([64, 1, 28, 28])\n"
     ]
    },
    {
     "name": "stderr",
     "output_type": "stream",
     "text": [
      "Epoch 2:   4%|█▍                                        | 33/938 [00:00<00:25, 35.29batch/s, accuracy=96.9, loss=0.131]"
     ]
    },
    {
     "name": "stdout",
     "output_type": "stream",
     "text": [
      "conv1: torch.Size([64, 10, 24, 24])\n",
      "pool1: torch.Size([64, 10, 12, 12])\n",
      "start: torch.Size([64, 1, 28, 28])\n"
     ]
    },
    {
     "name": "stderr",
     "output_type": "stream",
     "text": [
      "Epoch 2:   4%|█▋                                         | 37/938 [00:01<00:25, 35.55batch/s, accuracy=90.6, loss=0.34]"
     ]
    },
    {
     "name": "stdout",
     "output_type": "stream",
     "text": [
      "conv1: torch.Size([64, 10, 24, 24])\n",
      "pool1: torch.Size([64, 10, 12, 12])\n",
      "start: torch.Size([64, 1, 28, 28])\n",
      "conv1: torch.Size([64, 10, 24, 24])\n",
      "pool1: torch.Size([64, 10, 12, 12])\n",
      "start: torch.Size([64, 1, 28, 28])\n",
      "conv1: torch.Size([64, 10, 24, 24])\n",
      "pool1: torch.Size([64, 10, 12, 12])\n",
      "start: torch.Size([64, 1, 28, 28])\n",
      "conv1: torch.Size([64, 10, 24, 24])\n",
      "pool1: torch.Size([64, 10, 12, 12])\n",
      "start: torch.Size([64, 1, 28, 28])\n",
      "conv1: torch.Size([64, 10, 24, 24])\n",
      "pool1: torch.Size([64, 10, 12, 12])\n",
      "start: torch.Size([64, 1, 28, 28])\n",
      "conv1: torch.Size([64, 10, 24, 24])\n",
      "pool1: torch.Size([64, 10, 12, 12])\n"
     ]
    },
    {
     "name": "stderr",
     "output_type": "stream",
     "text": [
      "Epoch 2:   4%|█▊                                        | 41/938 [00:01<00:24, 36.22batch/s, accuracy=90.6, loss=0.197]"
     ]
    },
    {
     "name": "stdout",
     "output_type": "stream",
     "text": [
      "start: torch.Size([64, 1, 28, 28])\n",
      "conv1: torch.Size([64, 10, 24, 24])\n",
      "pool1: torch.Size([64, 10, 12, 12])\n",
      "start: torch.Size([64, 1, 28, 28])\n"
     ]
    },
    {
     "name": "stderr",
     "output_type": "stream",
     "text": [
      "Epoch 2:   5%|██                                        | 45/938 [00:01<00:24, 37.00batch/s, accuracy=98.4, loss=0.105]"
     ]
    },
    {
     "name": "stdout",
     "output_type": "stream",
     "text": [
      "conv1: torch.Size([64, 10, 24, 24])\n",
      "pool1: torch.Size([64, 10, 12, 12])\n",
      "start: torch.Size([64, 1, 28, 28])\n",
      "conv1: torch.Size([64, 10, 24, 24])\n",
      "pool1: torch.Size([64, 10, 12, 12])\n",
      "start: torch.Size([64, 1, 28, 28])\n",
      "conv1: torch.Size([64, 10, 24, 24])\n",
      "pool1: torch.Size([64, 10, 12, 12])\n",
      "start: torch.Size([64, 1, 28, 28])\n",
      "conv1: torch.Size([64, 10, 24, 24])\n",
      "pool1: torch.Size([64, 10, 12, 12])\n",
      "start: torch.Size([64, 1, 28, 28])\n",
      "conv1: torch.Size([64, 10, 24, 24])\n",
      "pool1: torch.Size([64, 10, 12, 12])\n",
      "start: torch.Size([64, 1, 28, 28])\n",
      "conv1: torch.Size([64, 10, 24, 24])\n",
      "pool1: torch.Size([64, 10, 12, 12])\n"
     ]
    },
    {
     "name": "stderr",
     "output_type": "stream",
     "text": [
      "Epoch 2:   5%|██▏                                        | 49/938 [00:01<00:24, 36.53batch/s, accuracy=96.9, loss=0.18]"
     ]
    },
    {
     "name": "stdout",
     "output_type": "stream",
     "text": [
      "start: torch.Size([64, 1, 28, 28])\n",
      "conv1: torch.Size([64, 10, 24, 24])\n",
      "pool1: torch.Size([64, 10, 12, 12])\n",
      "start: torch.Size([64, 1, 28, 28])\n"
     ]
    },
    {
     "name": "stderr",
     "output_type": "stream",
     "text": [
      "Epoch 2:   6%|██▎                                       | 53/938 [00:01<00:23, 36.92batch/s, accuracy=98.4, loss=0.104]"
     ]
    },
    {
     "name": "stdout",
     "output_type": "stream",
     "text": [
      "conv1: torch.Size([64, 10, 24, 24])\n",
      "pool1: torch.Size([64, 10, 12, 12])\n",
      "start: torch.Size([64, 1, 28, 28])\n",
      "conv1: torch.Size([64, 10, 24, 24])\n",
      "pool1: torch.Size([64, 10, 12, 12])\n",
      "start: torch.Size([64, 1, 28, 28])\n",
      "conv1: torch.Size([64, 10, 24, 24])\n",
      "pool1: torch.Size([64, 10, 12, 12])\n",
      "start: torch.Size([64, 1, 28, 28])\n",
      "conv1: torch.Size([64, 10, 24, 24])\n",
      "pool1: torch.Size([64, 10, 12, 12])\n",
      "start: torch.Size([64, 1, 28, 28])\n",
      "conv1: torch.Size([64, 10, 24, 24])\n",
      "pool1: torch.Size([64, 10, 12, 12])\n",
      "start: torch.Size([64, 1, 28, 28])\n",
      "conv1: torch.Size([64, 10, 24, 24])\n",
      "pool1: torch.Size([64, 10, 12, 12])\n",
      "start: torch.Size([64, 1, 28, 28])\n"
     ]
    },
    {
     "name": "stderr",
     "output_type": "stream",
     "text": [
      "Epoch 2:   6%|██▎                                       | 53/938 [00:01<00:23, 36.92batch/s, accuracy=93.8, loss=0.385]"
     ]
    },
    {
     "name": "stdout",
     "output_type": "stream",
     "text": [
      "conv1: torch.Size([64, 10, 24, 24])\n",
      "pool1: torch.Size([64, 10, 12, 12])\n",
      "start: torch.Size([64, 1, 28, 28])\n"
     ]
    },
    {
     "name": "stderr",
     "output_type": "stream",
     "text": [
      "Epoch 2:   7%|██▋                                       | 61/938 [00:01<00:24, 36.24batch/s, accuracy=93.8, loss=0.295]"
     ]
    },
    {
     "name": "stdout",
     "output_type": "stream",
     "text": [
      "conv1: torch.Size([64, 10, 24, 24])\n",
      "pool1: torch.Size([64, 10, 12, 12])\n",
      "start: torch.Size([64, 1, 28, 28])\n",
      "conv1: torch.Size([64, 10, 24, 24])\n",
      "pool1: torch.Size([64, 10, 12, 12])\n",
      "start: torch.Size([64, 1, 28, 28])\n",
      "conv1: torch.Size([64, 10, 24, 24])\n",
      "pool1: torch.Size([64, 10, 12, 12])\n",
      "start: torch.Size([64, 1, 28, 28])\n",
      "conv1: torch.Size([64, 10, 24, 24])\n",
      "pool1: torch.Size([64, 10, 12, 12])\n",
      "start: torch.Size([64, 1, 28, 28])\n",
      "conv1: torch.Size([64, 10, 24, 24])\n",
      "pool1: torch.Size([64, 10, 12, 12])\n",
      "start: torch.Size([64, 1, 28, 28])\n",
      "conv1: torch.Size([64, 10, 24, 24])\n",
      "pool1: torch.Size([64, 10, 12, 12])\n"
     ]
    },
    {
     "name": "stderr",
     "output_type": "stream",
     "text": [
      "Epoch 2:   7%|██▋                                       | 61/938 [00:01<00:24, 36.24batch/s, accuracy=93.8, loss=0.163]"
     ]
    },
    {
     "name": "stdout",
     "output_type": "stream",
     "text": [
      "start: torch.Size([64, 1, 28, 28])\n",
      "conv1: torch.Size([64, 10, 24, 24])\n",
      "pool1: torch.Size([64, 10, 12, 12])\n"
     ]
    },
    {
     "name": "stderr",
     "output_type": "stream",
     "text": [
      "Epoch 2:   7%|███                                       | 69/938 [00:01<00:23, 37.11batch/s, accuracy=90.6, loss=0.187]"
     ]
    },
    {
     "name": "stdout",
     "output_type": "stream",
     "text": [
      "start: torch.Size([64, 1, 28, 28])\n",
      "conv1: torch.Size([64, 10, 24, 24])\n",
      "pool1: torch.Size([64, 10, 12, 12])\n",
      "start: torch.Size([64, 1, 28, 28])\n",
      "conv1: torch.Size([64, 10, 24, 24])\n",
      "pool1: torch.Size([64, 10, 12, 12])\n",
      "start: torch.Size([64, 1, 28, 28])\n",
      "conv1: torch.Size([64, 10, 24, 24])\n",
      "pool1: torch.Size([64, 10, 12, 12])\n",
      "start: torch.Size([64, 1, 28, 28])\n",
      "conv1: torch.Size([64, 10, 24, 24])\n",
      "pool1: torch.Size([64, 10, 12, 12])\n",
      "start: torch.Size([64, 1, 28, 28])\n",
      "conv1: torch.Size([64, 10, 24, 24])\n",
      "pool1: torch.Size([64, 10, 12, 12])\n",
      "start: torch.Size([64, 1, 28, 28])\n",
      "conv1: torch.Size([64, 10, 24, 24])\n",
      "pool1: torch.Size([64, 10, 12, 12])\n",
      "start: torch.Size([64, 1, 28, 28])\n",
      "conv1: torch.Size([64, 10, 24, 24])\n"
     ]
    },
    {
     "name": "stderr",
     "output_type": "stream",
     "text": [
      "Epoch 2:   7%|███                                       | 69/938 [00:01<00:23, 37.11batch/s, accuracy=92.2, loss=0.203]"
     ]
    },
    {
     "name": "stdout",
     "output_type": "stream",
     "text": [
      "pool1: torch.Size([64, 10, 12, 12])\n",
      "start: torch.Size([64, 1, 28, 28])\n"
     ]
    },
    {
     "name": "stderr",
     "output_type": "stream",
     "text": [
      "Epoch 2:   8%|███▎                                      | 73/938 [00:02<00:23, 37.54batch/s, accuracy=89.1, loss=0.302]"
     ]
    },
    {
     "name": "stdout",
     "output_type": "stream",
     "text": [
      "conv1: torch.Size([64, 10, 24, 24])\n",
      "pool1: torch.Size([64, 10, 12, 12])\n",
      "start: torch.Size([64, 1, 28, 28])\n",
      "conv1: torch.Size([64, 10, 24, 24])\n",
      "pool1: torch.Size([64, 10, 12, 12])\n",
      "start: torch.Size([64, 1, 28, 28])\n",
      "conv1: torch.Size([64, 10, 24, 24])\n",
      "pool1: torch.Size([64, 10, 12, 12])\n",
      "start: torch.Size([64, 1, 28, 28])\n",
      "conv1: torch.Size([64, 10, 24, 24])\n",
      "pool1: torch.Size([64, 10, 12, 12])\n",
      "start: torch.Size([64, 1, 28, 28])\n",
      "conv1: torch.Size([64, 10, 24, 24])\n",
      "pool1: torch.Size([64, 10, 12, 12])\n",
      "start: torch.Size([64, 1, 28, 28])\n",
      "conv1: torch.Size([64, 10, 24, 24])\n",
      "pool1: torch.Size([64, 10, 12, 12])\n",
      "start: torch.Size([64, 1, 28, 28])\n",
      "conv1: torch.Size([64, 10, 24, 24])\n",
      "pool1: torch.Size([64, 10, 12, 12])\n",
      "start: torch.Size([64, 1, 28, 28])\n"
     ]
    },
    {
     "name": "stderr",
     "output_type": "stream",
     "text": [
      "\r",
      "Epoch 2:   8%|███▎                                      | 73/938 [00:02<00:23, 37.54batch/s, accuracy=89.1, loss=0.302]"
     ]
    },
    {
     "name": "stdout",
     "output_type": "stream",
     "text": [
      "conv1: torch.Size([64, 10, 24, 24])\n",
      "pool1: torch.Size([64, 10, 12, 12])\n"
     ]
    },
    {
     "name": "stderr",
     "output_type": "stream",
     "text": [
      "Epoch 2:   9%|███▋                                      | 82/938 [00:02<00:22, 37.94batch/s, accuracy=87.5, loss=0.454]"
     ]
    },
    {
     "name": "stdout",
     "output_type": "stream",
     "text": [
      "start: torch.Size([64, 1, 28, 28])\n",
      "conv1: torch.Size([64, 10, 24, 24])\n",
      "pool1: torch.Size([64, 10, 12, 12])\n",
      "start: torch.Size([64, 1, 28, 28])\n",
      "conv1: torch.Size([64, 10, 24, 24])\n",
      "pool1: torch.Size([64, 10, 12, 12])\n",
      "start: torch.Size([64, 1, 28, 28])\n",
      "conv1: torch.Size([64, 10, 24, 24])\n",
      "pool1: torch.Size([64, 10, 12, 12])\n",
      "start: torch.Size([64, 1, 28, 28])\n",
      "conv1: torch.Size([64, 10, 24, 24])\n",
      "pool1: torch.Size([64, 10, 12, 12])\n",
      "start: torch.Size([64, 1, 28, 28])\n",
      "conv1: torch.Size([64, 10, 24, 24])\n",
      "pool1: torch.Size([64, 10, 12, 12])\n",
      "start: torch.Size([64, 1, 28, 28])\n",
      "conv1: torch.Size([64, 10, 24, 24])\n",
      "pool1: torch.Size([64, 10, 12, 12])\n",
      "start: torch.Size([64, 1, 28, 28])\n"
     ]
    },
    {
     "name": "stderr",
     "output_type": "stream",
     "text": [
      "Epoch 2:   9%|███▋                                      | 82/938 [00:02<00:22, 37.94batch/s, accuracy=95.3, loss=0.105]"
     ]
    },
    {
     "name": "stdout",
     "output_type": "stream",
     "text": [
      "conv1: torch.Size([64, 10, 24, 24])\n",
      "pool1: torch.Size([64, 10, 12, 12])\n",
      "start: "
     ]
    },
    {
     "name": "stderr",
     "output_type": "stream",
     "text": [
      "Epoch 2:  10%|████                                      | 90/938 [00:02<00:22, 38.25batch/s, accuracy=93.8, loss=0.196]"
     ]
    },
    {
     "name": "stdout",
     "output_type": "stream",
     "text": [
      "torch.Size([64, 1, 28, 28])\n",
      "conv1: torch.Size([64, 10, 24, 24])\n",
      "pool1: torch.Size([64, 10, 12, 12])\n",
      "start: torch.Size([64, 1, 28, 28])\n",
      "conv1: torch.Size([64, 10, 24, 24])\n",
      "pool1: torch.Size([64, 10, 12, 12])\n",
      "start: torch.Size([64, 1, 28, 28])\n",
      "conv1: torch.Size([64, 10, 24, 24])\n",
      "pool1: torch.Size([64, 10, 12, 12])\n",
      "start: torch.Size([64, 1, 28, 28])\n",
      "conv1: torch.Size([64, 10, 24, 24])\n",
      "pool1: torch.Size([64, 10, 12, 12])\n",
      "start: torch.Size([64, 1, 28, 28])\n",
      "conv1: torch.Size([64, 10, 24, 24])\n",
      "pool1: torch.Size([64, 10, 12, 12])\n",
      "start: torch.Size([64, 1, 28, 28])\n",
      "conv1: torch.Size([64, 10, 24, 24])\n",
      "pool1: torch.Size([64, 10, 12, 12])\n",
      "start: torch.Size([64, 1, 28, 28])\n"
     ]
    },
    {
     "name": "stderr",
     "output_type": "stream",
     "text": [
      "Epoch 2:  10%|████                                      | 90/938 [00:02<00:22, 38.25batch/s, accuracy=95.3, loss=0.183]"
     ]
    },
    {
     "name": "stdout",
     "output_type": "stream",
     "text": [
      "conv1: torch.Size([64, 10, 24, 24])\n",
      "pool1: torch.Size([64, 10, 12, 12])\n",
      "start: torch.Size([64, 1, 28, 28])\n"
     ]
    },
    {
     "name": "stderr",
     "output_type": "stream",
     "text": [
      "Epoch 2:  10%|████▍                                     | 98/938 [00:02<00:22, 37.41batch/s, accuracy=93.8, loss=0.205]"
     ]
    },
    {
     "name": "stdout",
     "output_type": "stream",
     "text": [
      "conv1: torch.Size([64, 10, 24, 24])\n",
      "pool1: torch.Size([64, 10, 12, 12])\n",
      "start: torch.Size([64, 1, 28, 28])\n",
      "conv1: torch.Size([64, 10, 24, 24])\n",
      "pool1: torch.Size([64, 10, 12, 12])\n",
      "start: torch.Size([64, 1, 28, 28])\n",
      "conv1: torch.Size([64, 10, 24, 24])\n",
      "pool1: torch.Size([64, 10, 12, 12])\n",
      "start: torch.Size([64, 1, 28, 28])\n",
      "conv1: torch.Size([64, 10, 24, 24])\n",
      "pool1: torch.Size([64, 10, 12, 12])\n",
      "start: torch.Size([64, 1, 28, 28])\n",
      "conv1: torch.Size([64, 10, 24, 24])\n",
      "pool1: torch.Size([64, 10, 12, 12])\n",
      "start: torch.Size([64, 1, 28, 28])\n",
      "conv1: torch.Size([64, 10, 24, 24])\n",
      "pool1: torch.Size([64, 10, 12, 12])\n",
      "start: torch.Size([64, 1, 28, 28])\n"
     ]
    },
    {
     "name": "stderr",
     "output_type": "stream",
     "text": [
      "Epoch 2:  10%|████▍                                     | 98/938 [00:02<00:22, 37.41batch/s, accuracy=93.8, loss=0.178]"
     ]
    },
    {
     "name": "stdout",
     "output_type": "stream",
     "text": [
      "conv1: torch.Size([64, 10, 24, 24])\n",
      "pool1: torch.Size([64, 10, 12, 12])\n",
      "start: torch.Size([64, 1, 28, 28])\n"
     ]
    },
    {
     "name": "stderr",
     "output_type": "stream",
     "text": [
      "Epoch 2:  11%|████▎                                   | 102/938 [00:02<00:22, 37.43batch/s, accuracy=95.3, loss=0.0879]"
     ]
    },
    {
     "name": "stdout",
     "output_type": "stream",
     "text": [
      "conv1: torch.Size([64, 10, 24, 24])\n",
      "pool1: torch.Size([64, 10, 12, 12])\n",
      "start: torch.Size([64, 1, 28, 28])\n",
      "conv1: torch.Size([64, 10, 24, 24])\n",
      "pool1: torch.Size([64, 10, 12, 12])\n",
      "start: torch.Size([64, 1, 28, 28])\n",
      "conv1: torch.Size([64, 10, 24, 24])\n",
      "pool1: torch.Size([64, 10, 12, 12])\n",
      "start: torch.Size([64, 1, 28, 28])\n",
      "conv1: torch.Size([64, 10, 24, 24])\n",
      "pool1: torch.Size([64, 10, 12, 12])\n",
      "start: torch.Size([64, 1, 28, 28])\n",
      "conv1: torch.Size([64, 10, 24, 24])\n",
      "pool1: torch.Size([64, 10, 12, 12])\n",
      "start: torch.Size([64, 1, 28, 28])\n",
      "conv1: torch.Size([64, 10, 24, 24])\n",
      "pool1: torch.Size([64, 10, 12, 12])\n",
      "start: torch.Size([64, 1, 28, 28])\n"
     ]
    },
    {
     "name": "stderr",
     "output_type": "stream",
     "text": [
      "Epoch 2:  11%|████▋                                    | 106/938 [00:02<00:22, 37.45batch/s, accuracy=95.3, loss=0.139]"
     ]
    },
    {
     "name": "stdout",
     "output_type": "stream",
     "text": [
      "conv1: torch.Size([64, 10, 24, 24])\n",
      "pool1: torch.Size([64, 10, 12, 12])\n",
      "start: torch.Size([64, 1, 28, 28])"
     ]
    },
    {
     "name": "stderr",
     "output_type": "stream",
     "text": [
      "Epoch 2:  12%|████▊                                    | 110/938 [00:02<00:22, 37.56batch/s, accuracy=98.4, loss=0.067]"
     ]
    },
    {
     "name": "stdout",
     "output_type": "stream",
     "text": [
      "\n",
      "conv1: torch.Size([64, 10, 24, 24])\n",
      "pool1: torch.Size([64, 10, 12, 12])\n",
      "start: torch.Size([64, 1, 28, 28])\n",
      "conv1: torch.Size([64, 10, 24, 24])\n",
      "pool1: torch.Size([64, 10, 12, 12])\n",
      "start: torch.Size([64, 1, 28, 28])\n",
      "conv1: torch.Size([64, 10, 24, 24])\n",
      "pool1: torch.Size([64, 10, 12, 12])\n",
      "start: torch.Size([64, 1, 28, 28])\n",
      "conv1: torch.Size([64, 10, 24, 24])\n",
      "pool1: torch.Size([64, 10, 12, 12])\n",
      "start: torch.Size([64, 1, 28, 28])\n",
      "conv1: torch.Size([64, 10, 24, 24])\n",
      "pool1: torch.Size([64, 10, 12, 12])\n",
      "start: torch.Size([64, 1, 28, 28])\n",
      "conv1: torch.Size([64, 10, 24, 24])\n",
      "pool1: torch.Size([64, 10, 12, 12])\n",
      "start: torch.Size([64, 1, 28, 28])\n"
     ]
    },
    {
     "name": "stderr",
     "output_type": "stream",
     "text": [
      "Epoch 2:  12%|████▊                                    | 110/938 [00:03<00:22, 37.56batch/s, accuracy=100, loss=0.0232]"
     ]
    },
    {
     "name": "stdout",
     "output_type": "stream",
     "text": [
      "conv1: torch.Size([64, 10, 24, 24])\n",
      "pool1: torch.Size([64, 10, 12, 12])\n",
      "start: torch.Size([64, 1, 28, 28])\n"
     ]
    },
    {
     "name": "stderr",
     "output_type": "stream",
     "text": [
      "Epoch 2:  13%|█████▏                                   | 119/938 [00:03<00:21, 38.92batch/s, accuracy=96.9, loss=0.115]"
     ]
    },
    {
     "name": "stdout",
     "output_type": "stream",
     "text": [
      "conv1: torch.Size([64, 10, 24, 24])\n",
      "pool1: torch.Size([64, 10, 12, 12])\n",
      "start: torch.Size([64, 1, 28, 28])\n",
      "conv1: torch.Size([64, 10, 24, 24])\n",
      "pool1: torch.Size([64, 10, 12, 12])\n",
      "start: torch.Size([64, 1, 28, 28])\n",
      "conv1: torch.Size([64, 10, 24, 24])\n",
      "pool1: torch.Size([64, 10, 12, 12])\n",
      "start: torch.Size([64, 1, 28, 28])\n",
      "conv1: torch.Size([64, 10, 24, 24])\n",
      "pool1: torch.Size([64, 10, 12, 12])\n",
      "start: torch.Size([64, 1, 28, 28])\n",
      "conv1: torch.Size([64, 10, 24, 24])\n",
      "pool1: torch.Size([64, 10, 12, 12])\n",
      "start: torch.Size([64, 1, 28, 28])\n",
      "conv1: torch.Size([64, 10, 24, 24])\n",
      "pool1: torch.Size([64, 10, 12, 12])\n",
      "start: torch.Size([64, 1, 28, 28])\n",
      "conv1: torch.Size([64, 10, 24, 24])\n",
      "pool1: torch.Size([64, 10, 12, 12])\n"
     ]
    },
    {
     "name": "stderr",
     "output_type": "stream",
     "text": [
      "\r",
      "Epoch 2:  13%|█████▏                                   | 119/938 [00:03<00:21, 38.92batch/s, accuracy=93.8, loss=0.167]"
     ]
    },
    {
     "name": "stdout",
     "output_type": "stream",
     "text": [
      "start: torch.Size([64, 1, 28, 28])\n",
      "conv1: torch.Size([64, 10, 24, 24])\n",
      "pool1: torch.Size([64, 10, 12, 12])\n"
     ]
    },
    {
     "name": "stderr",
     "output_type": "stream",
     "text": [
      "Epoch 2:  13%|█████▍                                   | 123/938 [00:03<00:21, 37.28batch/s, accuracy=95.3, loss=0.183]"
     ]
    },
    {
     "name": "stdout",
     "output_type": "stream",
     "text": [
      "start: torch.Size([64, 1, 28, 28])\n",
      "conv1: torch.Size([64, 10, 24, 24])\n",
      "pool1: torch.Size([64, 10, 12, 12])\n",
      "start: torch.Size([64, 1, 28, 28])\n",
      "conv1: torch.Size([64, 10, 24, 24])\n",
      "pool1: torch.Size([64, 10, 12, 12])\n",
      "start: torch.Size([64, 1, 28, 28])\n",
      "conv1: torch.Size([64, 10, 24, 24])\n",
      "pool1: torch.Size([64, 10, 12, 12])\n",
      "start: torch.Size([64, 1, 28, 28])\n",
      "conv1: torch.Size([64, 10, 24, 24])\n",
      "pool1: torch.Size([64, 10, 12, 12])\n",
      "start: torch.Size([64, 1, 28, 28])\n",
      "conv1: torch.Size([64, 10, 24, 24])\n",
      "pool1: torch.Size([64, 10, 12, 12])\n",
      "start: torch.Size([64, 1, 28, 28])\n",
      "conv1: torch.Size([64, 10, 24, 24])\n",
      "pool1: torch.Size([64, 10, 12, 12])\n"
     ]
    },
    {
     "name": "stderr",
     "output_type": "stream",
     "text": [
      "Epoch 2:  14%|█████▌                                   | 127/938 [00:03<00:22, 36.84batch/s, accuracy=96.9, loss=0.152]"
     ]
    },
    {
     "name": "stdout",
     "output_type": "stream",
     "text": [
      "start: torch.Size([64, 1, 28, 28])\n",
      "conv1: torch.Size([64, 10, 24, 24])\n",
      "pool1: torch.Size([64, 10, 12, 12])\n"
     ]
    },
    {
     "name": "stderr",
     "output_type": "stream",
     "text": [
      "Epoch 2:  14%|█████▋                                   | 131/938 [00:03<00:21, 36.83batch/s, accuracy=90.6, loss=0.265]"
     ]
    },
    {
     "name": "stdout",
     "output_type": "stream",
     "text": [
      "start: torch.Size([64, 1, 28, 28])\n",
      "conv1: torch.Size([64, 10, 24, 24])\n",
      "pool1: torch.Size([64, 10, 12, 12])\n",
      "start: torch.Size([64, 1, 28, 28])\n",
      "conv1: torch.Size([64, 10, 24, 24])\n",
      "pool1: torch.Size([64, 10, 12, 12])\n",
      "start: torch.Size([64, 1, 28, 28])\n",
      "conv1: torch.Size([64, 10, 24, 24])\n",
      "pool1: torch.Size([64, 10, 12, 12])\n",
      "start: torch.Size([64, 1, 28, 28])\n",
      "conv1: torch.Size([64, 10, 24, 24])\n",
      "pool1: torch.Size([64, 10, 12, 12])\n",
      "start: torch.Size([64, 1, 28, 28])\n",
      "conv1: torch.Size([64, 10, 24, 24])\n",
      "pool1: torch.Size([64, 10, 12, 12])\n",
      "start: torch.Size([64, 1, 28, 28])\n",
      "conv1: torch.Size([64, 10, 24, 24])\n",
      "pool1: torch.Size([64, 10, 12, 12])\n",
      "start: torch.Size([64, 1, 28, 28])\n"
     ]
    },
    {
     "name": "stderr",
     "output_type": "stream",
     "text": [
      "Epoch 2:  14%|█████▉                                   | 135/938 [00:03<00:21, 37.32batch/s, accuracy=95.3, loss=0.258]"
     ]
    },
    {
     "name": "stdout",
     "output_type": "stream",
     "text": [
      "conv1: torch.Size([64, 10, 24, 24])\n",
      "pool1: torch.Size([64, 10, 12, 12])\n",
      "start: torch.Size([64, 1, 28, 28])\n",
      "conv1: torch.Size([64, 10, 24, 24])\n",
      "pool1: torch.Size([64, 10, 12, 12])\n"
     ]
    },
    {
     "name": "stderr",
     "output_type": "stream",
     "text": [
      "Epoch 2:  15%|██████                                   | 140/938 [00:03<00:21, 37.84batch/s, accuracy=92.2, loss=0.207]"
     ]
    },
    {
     "name": "stdout",
     "output_type": "stream",
     "text": [
      "start: torch.Size([64, 1, 28, 28])\n",
      "conv1: torch.Size([64, 10, 24, 24])\n",
      "pool1: torch.Size([64, 10, 12, 12])\n",
      "start: torch.Size([64, 1, 28, 28])\n",
      "conv1: torch.Size([64, 10, 24, 24])\n",
      "pool1: torch.Size([64, 10, 12, 12])\n",
      "start: torch.Size([64, 1, 28, 28])\n",
      "conv1: torch.Size([64, 10, 24, 24])\n",
      "pool1: torch.Size([64, 10, 12, 12])\n",
      "start: torch.Size([64, 1, 28, 28])\n",
      "conv1: torch.Size([64, 10, 24, 24])\n",
      "pool1: torch.Size([64, 10, 12, 12])\n",
      "start: torch.Size([64, 1, 28, 28])\n",
      "conv1: torch.Size([64, 10, 24, 24])\n",
      "pool1: torch.Size([64, 10, 12, 12])\n",
      "start: torch.Size([64, 1, 28, 28])\n",
      "conv1: torch.Size([64, 10, 24, 24])\n",
      "pool1: torch.Size([64, 10, 12, 12])\n"
     ]
    },
    {
     "name": "stderr",
     "output_type": "stream",
     "text": [
      "Epoch 2:  15%|██████                                   | 140/938 [00:03<00:21, 37.84batch/s, accuracy=95.3, loss=0.166]"
     ]
    },
    {
     "name": "stdout",
     "output_type": "stream",
     "text": [
      "start: torch.Size([64, 1, 28, 28])\n",
      "conv1: torch.Size([64, 10, 24, 24])\n",
      "pool1: torch.Size([64, 10, 12, 12])\n",
      "start: torch.Size([64, 1, 28, 28])\n"
     ]
    },
    {
     "name": "stderr",
     "output_type": "stream",
     "text": [
      "Epoch 2:  16%|██████▍                                  | 148/938 [00:03<00:21, 37.52batch/s, accuracy=93.8, loss=0.415]"
     ]
    },
    {
     "name": "stdout",
     "output_type": "stream",
     "text": [
      "conv1: torch.Size([64, 10, 24, 24])\n",
      "pool1: torch.Size([64, 10, 12, 12])\n",
      "start: torch.Size([64, 1, 28, 28])\n",
      "conv1: torch.Size([64, 10, 24, 24])\n",
      "pool1: torch.Size([64, 10, 12, 12])\n",
      "start: torch.Size([64, 1, 28, 28])\n",
      "conv1: torch.Size([64, 10, 24, 24])\n",
      "pool1: torch.Size([64, 10, 12, 12])\n",
      "start: torch.Size([64, 1, 28, 28])\n",
      "conv1: torch.Size([64, 10, 24, 24])\n",
      "pool1: torch.Size([64, 10, 12, 12])\n",
      "start: torch.Size([64, 1, 28, 28])\n",
      "conv1: torch.Size([64, 10, 24, 24])\n",
      "pool1: torch.Size([64, 10, 12, 12])\n",
      "start: torch.Size([64, 1, 28, 28])\n",
      "conv1: torch.Size([64, 10, 24, 24])\n",
      "pool1: torch.Size([64, 10, 12, 12])\n",
      "start: torch.Size([64, 1, 28, 28])\n"
     ]
    },
    {
     "name": "stderr",
     "output_type": "stream",
     "text": [
      "Epoch 2:  16%|██████▋                                   | 148/938 [00:04<00:21, 37.52batch/s, accuracy=95.3, loss=0.22]"
     ]
    },
    {
     "name": "stdout",
     "output_type": "stream",
     "text": [
      "conv1: torch.Size([64, 10, 24, 24])\n",
      "pool1: torch.Size([64, 10, 12, 12])\n",
      "start: torch.Size([64, 1, 28, 28])\n"
     ]
    },
    {
     "name": "stderr",
     "output_type": "stream",
     "text": [
      "Epoch 2:  17%|██████▊                                  | 156/938 [00:04<00:20, 37.37batch/s, accuracy=96.9, loss=0.145]"
     ]
    },
    {
     "name": "stdout",
     "output_type": "stream",
     "text": [
      "conv1: torch.Size([64, 10, 24, 24])\n",
      "pool1: torch.Size([64, 10, 12, 12])\n",
      "start: torch.Size([64, 1, 28, 28])\n",
      "conv1: torch.Size([64, 10, 24, 24])\n",
      "pool1: torch.Size([64, 10, 12, 12])\n",
      "start: torch.Size([64, 1, 28, 28])\n",
      "conv1: torch.Size([64, 10, 24, 24])\n",
      "pool1: torch.Size([64, 10, 12, 12])\n",
      "start: torch.Size([64, 1, 28, 28])\n",
      "conv1: torch.Size([64, 10, 24, 24])\n",
      "pool1: torch.Size([64, 10, 12, 12])\n",
      "start: torch.Size([64, 1, 28, 28])\n",
      "conv1: torch.Size([64, 10, 24, 24])\n",
      "pool1: torch.Size([64, 10, 12, 12])\n",
      "start: torch.Size([64, 1, 28, 28])\n",
      "conv1: torch.Size([64, 10, 24, 24])\n",
      "pool1: torch.Size([64, 10, 12, 12])\n"
     ]
    },
    {
     "name": "stderr",
     "output_type": "stream",
     "text": [
      "Epoch 2:  17%|██████▊                                  | 156/938 [00:04<00:20, 37.37batch/s, accuracy=96.9, loss=0.143]"
     ]
    },
    {
     "name": "stdout",
     "output_type": "stream",
     "text": [
      "start: torch.Size([64, 1, 28, 28])\n",
      "conv1: torch.Size([64, 10, 24, 24])\n",
      "pool1: torch.Size([64, 10, 12, 12])\n",
      "start: torch.Size([64, 1, 28, 28])\n"
     ]
    },
    {
     "name": "stderr",
     "output_type": "stream",
     "text": [
      "Epoch 2:  17%|██████▉                                  | 160/938 [00:04<00:20, 37.20batch/s, accuracy=95.3, loss=0.129]"
     ]
    },
    {
     "name": "stdout",
     "output_type": "stream",
     "text": [
      "conv1: torch.Size([64, 10, 24, 24])\n",
      "pool1: torch.Size([64, 10, 12, 12])\n",
      "start: torch.Size([64, 1, 28, 28])\n",
      "conv1: torch.Size([64, 10, 24, 24])\n",
      "pool1: torch.Size([64, 10, 12, 12])\n",
      "start: torch.Size([64, 1, 28, 28])\n",
      "conv1: torch.Size([64, 10, 24, 24])\n",
      "pool1: torch.Size([64, 10, 12, 12])\n",
      "start: torch.Size([64, 1, 28, 28])\n",
      "conv1: torch.Size([64, 10, 24, 24])\n",
      "pool1: torch.Size([64, 10, 12, 12])\n",
      "start: torch.Size([64, 1, 28, 28])\n",
      "conv1: torch.Size([64, 10, 24, 24])\n",
      "pool1: torch.Size([64, 10, 12, 12])\n",
      "start: torch.Size([64, 1, 28, 28])\n",
      "conv1: torch.Size([64, 10, 24, 24])\n",
      "pool1: torch.Size([64, 10, 12, 12])\n",
      "start: torch.Size([64, 1, 28, 28])\n"
     ]
    },
    {
     "name": "stderr",
     "output_type": "stream",
     "text": [
      "Epoch 2:  17%|███████▏                                 | 164/938 [00:04<00:20, 37.70batch/s, accuracy=93.8, loss=0.403]"
     ]
    },
    {
     "name": "stdout",
     "output_type": "stream",
     "text": [
      "conv1: torch.Size([64, 10, 24, 24])\n",
      "pool1: torch.Size([64, 10, 12, 12])\n",
      "start: torch.Size([64, 1, 28, 28])\n"
     ]
    },
    {
     "name": "stderr",
     "output_type": "stream",
     "text": [
      "Epoch 2:  18%|███████▏                                | 168/938 [00:04<00:20, 37.22batch/s, accuracy=96.9, loss=0.0945]"
     ]
    },
    {
     "name": "stdout",
     "output_type": "stream",
     "text": [
      "conv1: torch.Size([64, 10, 24, 24])\n",
      "pool1: torch.Size([64, 10, 12, 12])\n",
      "start: torch.Size([64, 1, 28, 28])\n",
      "conv1: torch.Size([64, 10, 24, 24])\n",
      "pool1: torch.Size([64, 10, 12, 12])\n",
      "start: torch.Size([64, 1, 28, 28])\n",
      "conv1: torch.Size([64, 10, 24, 24])\n",
      "pool1: torch.Size([64, 10, 12, 12])\n",
      "start: torch.Size([64, 1, 28, 28])\n",
      "conv1: torch.Size([64, 10, 24, 24])\n",
      "pool1: torch.Size([64, 10, 12, 12])\n",
      "start: torch.Size([64, 1, 28, 28])\n",
      "conv1: torch.Size([64, 10, 24, 24])\n",
      "pool1: torch.Size([64, 10, 12, 12])\n",
      "start: torch.Size([64, 1, 28, 28])\n",
      "conv1: torch.Size([64, 10, 24, 24])\n",
      "pool1: torch.Size([64, 10, 12, 12])\n"
     ]
    },
    {
     "name": "stderr",
     "output_type": "stream",
     "text": [
      "Epoch 2:  18%|███████▎                                 | 168/938 [00:04<00:20, 37.22batch/s, accuracy=93.8, loss=0.136]"
     ]
    },
    {
     "name": "stdout",
     "output_type": "stream",
     "text": [
      "start: torch.Size([64, 1, 28, 28])\n",
      "conv1: torch.Size([64, 10, 24, 24])\n",
      "pool1: torch.Size([64, 10, 12, 12])\n",
      "start: torch.Size([64, 1, 28, 28])\n"
     ]
    },
    {
     "name": "stderr",
     "output_type": "stream",
     "text": [
      "Epoch 2:  19%|███████▋                                 | 176/938 [00:04<00:20, 36.99batch/s, accuracy=95.3, loss=0.191]"
     ]
    },
    {
     "name": "stdout",
     "output_type": "stream",
     "text": [
      "conv1: torch.Size([64, 10, 24, 24])\n",
      "pool1: torch.Size([64, 10, 12, 12])\n",
      "start: torch.Size([64, 1, 28, 28])\n",
      "conv1: torch.Size([64, 10, 24, 24])\n",
      "pool1: torch.Size([64, 10, 12, 12])\n",
      "start: torch.Size([64, 1, 28, 28])\n",
      "conv1: torch.Size([64, 10, 24, 24])\n",
      "pool1: torch.Size([64, 10, 12, 12])\n",
      "start: torch.Size([64, 1, 28, 28])\n",
      "conv1: torch.Size([64, 10, 24, 24])\n",
      "pool1: torch.Size([64, 10, 12, 12])\n",
      "start: torch.Size([64, 1, 28, 28])\n",
      "conv1: torch.Size([64, 10, 24, 24])\n",
      "pool1: torch.Size([64, 10, 12, 12])\n",
      "start: torch.Size([64, 1, 28, 28])\n",
      "conv1: torch.Size([64, 10, 24, 24])\n",
      "pool1: torch.Size([64, 10, 12, 12])\n",
      "start: torch.Size([64, 1, 28, 28])\n",
      "conv1: torch.Size([64, 10, 24, 24])\n",
      "pool1: torch.Size([64, 10, 12, 12])\n"
     ]
    },
    {
     "name": "stderr",
     "output_type": "stream",
     "text": [
      "\r",
      "Epoch 2:  19%|███████▋                                 | 176/938 [00:04<00:20, 36.99batch/s, accuracy=95.3, loss=0.172]"
     ]
    },
    {
     "name": "stdout",
     "output_type": "stream",
     "text": [
      "start: torch.Size([64, 1, 28, 28])\n"
     ]
    },
    {
     "name": "stderr",
     "output_type": "stream",
     "text": [
      "Epoch 2:  20%|████████                                 | 185/938 [00:04<00:19, 38.45batch/s, accuracy=93.8, loss=0.105]"
     ]
    },
    {
     "name": "stdout",
     "output_type": "stream",
     "text": [
      "conv1: torch.Size([64, 10, 24, 24])\n",
      "pool1: torch.Size([64, 10, 12, 12])\n",
      "start: torch.Size([64, 1, 28, 28])\n",
      "conv1: torch.Size([64, 10, 24, 24])\n",
      "pool1: torch.Size([64, 10, 12, 12])\n",
      "start: torch.Size([64, 1, 28, 28])\n",
      "conv1: torch.Size([64, 10, 24, 24])\n",
      "pool1: torch.Size([64, 10, 12, 12])\n",
      "start: torch.Size([64, 1, 28, 28])\n",
      "conv1: torch.Size([64, 10, 24, 24])\n",
      "pool1: torch.Size([64, 10, 12, 12])\n",
      "start: torch.Size([64, 1, 28, 28])\n",
      "conv1: torch.Size([64, 10, 24, 24])\n",
      "pool1: torch.Size([64, 10, 12, 12])\n",
      "start: torch.Size([64, 1, 28, 28])\n",
      "conv1: torch.Size([64, 10, 24, 24])\n",
      "pool1: torch.Size([64, 10, 12, 12])\n",
      "start: torch.Size([64, 1, 28, 28])\n",
      "conv1: torch.Size([64, 10, 24, 24])\n",
      "pool1: torch.Size([64, 10, 12, 12])\n",
      "start: torch.Size([64, 1, 28, 28])\n"
     ]
    },
    {
     "name": "stderr",
     "output_type": "stream",
     "text": [
      "Epoch 2:  20%|████████▎                                | 189/938 [00:05<00:21, 35.62batch/s, accuracy=93.8, loss=0.376]"
     ]
    },
    {
     "name": "stdout",
     "output_type": "stream",
     "text": [
      "conv1: torch.Size([64, 10, 24, 24])\n",
      "pool1: torch.Size([64, 10, 12, 12])\n",
      "start: torch.Size([64, 1, 28, 28])\n",
      "conv1: torch.Size([64, 10, 24, 24])\n",
      "pool1: torch.Size([64, 10, 12, 12])\n",
      "start: torch.Size([64, 1, 28, 28])\n",
      "conv1: torch.Size([64, 10, 24, 24])\n",
      "pool1: torch.Size([64, 10, 12, 12])\n",
      "start: torch.Size([64, 1, 28, 28])\n",
      "conv1: torch.Size([64, 10, 24, 24])\n",
      "pool1: torch.Size([64, 10, 12, 12])\n",
      "start: torch.Size([64, 1, 28, 28])\n",
      "conv1: torch.Size([64, 10, 24, 24])\n",
      "pool1: torch.Size([64, 10, 12, 12])\n",
      "start: torch.Size([64, 1, 28, 28])\n",
      "conv1: torch.Size([64, 10, 24, 24])\n",
      "pool1: torch.Size([64, 10, 12, 12])\n",
      "start: torch.Size([64, 1, 28, 28])\n"
     ]
    },
    {
     "name": "stderr",
     "output_type": "stream",
     "text": [
      "Epoch 2:  21%|████████▌                                | 197/938 [00:05<00:20, 35.56batch/s, accuracy=96.9, loss=0.123]"
     ]
    },
    {
     "name": "stdout",
     "output_type": "stream",
     "text": [
      "conv1: torch.Size([64, 10, 24, 24])\n",
      "pool1: torch.Size([64, 10, 12, 12])\n",
      "start: torch.Size([64, 1, 28, 28])\n",
      "conv1: torch.Size([64, 10, 24, 24])\n",
      "pool1: torch.Size([64, 10, 12, 12])\n",
      "start: torch.Size([64, 1, 28, 28])\n",
      "conv1: torch.Size([64, 10, 24, 24])\n",
      "pool1: torch.Size([64, 10, 12, 12])\n",
      "start: torch.Size([64, 1, 28, 28])\n",
      "conv1: torch.Size([64, 10, 24, 24])\n",
      "pool1: torch.Size([64, 10, 12, 12])\n",
      "start: torch.Size([64, 1, 28, 28])\n",
      "conv1: torch.Size([64, 10, 24, 24])\n",
      "pool1: torch.Size([64, 10, 12, 12])\n",
      "start: torch.Size([64, 1, 28, 28])\n",
      "conv1: torch.Size([64, 10, 24, 24])\n",
      "pool1: torch.Size([64, 10, 12, 12])\n",
      "start: torch.Size([64, 1, 28, 28])\n",
      "conv1: torch.Size([64, 10, 24, 24])\n",
      "pool1: torch.Size([64, 10, 12, 12])\n",
      "start: torch.Size([64, 1, 28, 28])\n"
     ]
    },
    {
     "name": "stderr",
     "output_type": "stream",
     "text": [
      "Epoch 2:  22%|████████▉                                | 205/938 [00:05<00:19, 36.69batch/s, accuracy=89.1, loss=0.284]"
     ]
    },
    {
     "name": "stdout",
     "output_type": "stream",
     "text": [
      "conv1: torch.Size([64, 10, 24, 24])\n",
      "pool1: torch.Size([64, 10, 12, 12])\n",
      "start: torch.Size([64, 1, 28, 28])\n",
      "conv1: torch.Size([64, 10, 24, 24])\n",
      "pool1: torch.Size([64, 10, 12, 12])\n",
      "start: torch.Size([64, 1, 28, 28])\n",
      "conv1: torch.Size([64, 10, 24, 24])\n",
      "pool1: torch.Size([64, 10, 12, 12])\n",
      "start: torch.Size([64, 1, 28, 28])\n",
      "conv1: torch.Size([64, 10, 24, 24])\n",
      "pool1: torch.Size([64, 10, 12, 12])\n",
      "start: torch.Size([64, 1, 28, 28])\n",
      "conv1: torch.Size([64, 10, 24, 24])\n",
      "pool1: torch.Size([64, 10, 12, 12])\n",
      "start: torch.Size([64, 1, 28, 28])\n",
      "conv1: torch.Size([64, 10, 24, 24])\n",
      "pool1: torch.Size([64, 10, 12, 12])\n",
      "start: torch.Size([64, 1, 28, 28])\n",
      "conv1: torch.Size([64, 10, 24, 24])\n",
      "pool1: torch.Size([64, 10, 12, 12])\n",
      "start: torch.Size([64, 1, 28, 28])\n"
     ]
    },
    {
     "name": "stderr",
     "output_type": "stream",
     "text": [
      "Epoch 2:  22%|█████████▏                               | 209/938 [00:05<00:19, 37.34batch/s, accuracy=96.9, loss=0.122]"
     ]
    },
    {
     "name": "stdout",
     "output_type": "stream",
     "text": [
      "conv1: torch.Size([64, 10, 24, 24])\n",
      "pool1: torch.Size([64, 10, 12, 12])\n",
      "start: torch.Size([64, 1, 28, 28])\n",
      "conv1: torch.Size([64, 10, 24, 24])\n",
      "pool1: torch.Size([64, 10, 12, 12])\n",
      "start: torch.Size([64, 1, 28, 28])\n",
      "conv1: torch.Size([64, 10, 24, 24])\n",
      "pool1: torch.Size([64, 10, 12, 12])\n",
      "start: torch.Size([64, 1, 28, 28])\n",
      "conv1: torch.Size([64, 10, 24, 24])\n",
      "pool1: torch.Size([64, 10, 12, 12])\n",
      "start: torch.Size([64, 1, 28, 28])\n",
      "conv1: torch.Size([64, 10, 24, 24])\n",
      "pool1: torch.Size([64, 10, 12, 12])\n",
      "start: torch.Size([64, 1, 28, 28])\n",
      "conv1: torch.Size([64, 10, 24, 24])\n",
      "pool1: torch.Size([64, 10, 12, 12])\n",
      "start: torch.Size([64, 1, 28, 28])\n",
      "conv1: torch.Size([64, 10, 24, 24])\n",
      "pool1: torch.Size([64, 10, 12, 12])\n",
      "start: torch.Size([64, 1, 28, 28])\n",
      "conv1: torch.Size([64, 10, 24, 24])\n",
      "pool1: torch.Size([64, 10, 12, 12])\n"
     ]
    },
    {
     "name": "stderr",
     "output_type": "stream",
     "text": [
      "Epoch 2:  23%|█████████▍                               | 217/938 [00:05<00:18, 38.24batch/s, accuracy=95.3, loss=0.541]"
     ]
    },
    {
     "name": "stdout",
     "output_type": "stream",
     "text": [
      "start: torch.Size([64, 1, 28, 28])\n",
      "conv1: torch.Size([64, 10, 24, 24])\n",
      "pool1: torch.Size([64, 10, 12, 12])\n",
      "start: torch.Size([64, 1, 28, 28])\n",
      "conv1: torch.Size([64, 10, 24, 24])\n",
      "pool1: torch.Size([64, 10, 12, 12])\n",
      "start: torch.Size([64, 1, 28, 28])\n",
      "conv1: torch.Size([64, 10, 24, 24])\n",
      "pool1: torch.Size([64, 10, 12, 12])\n",
      "start: torch.Size([64, 1, 28, 28])\n",
      "conv1: torch.Size([64, 10, 24, 24])\n",
      "pool1: torch.Size([64, 10, 12, 12])\n",
      "start: torch.Size([64, 1, 28, 28])\n",
      "conv1: torch.Size([64, 10, 24, 24])\n",
      "pool1: torch.Size([64, 10, 12, 12])\n",
      "start: torch.Size([64, 1, 28, 28])\n",
      "conv1: torch.Size([64, 10, 24, 24])\n",
      "pool1: torch.Size([64, 10, 12, 12])\n",
      "start: torch.Size([64, 1, 28, 28])\n",
      "conv1: torch.Size([64, 10, 24, 24])\n",
      "pool1: torch.Size([64, 10, 12, 12])\n",
      "start: torch.Size([64, 1, 28, 28])\n",
      "conv1: torch.Size([64, 10, 24, 24])\n",
      "pool1: torch.Size([64, 10, 12, 12])\n"
     ]
    },
    {
     "name": "stderr",
     "output_type": "stream",
     "text": [
      "Epoch 2:  24%|██████████▏                               | 227/938 [00:06<00:18, 39.24batch/s, accuracy=92.2, loss=0.36]"
     ]
    },
    {
     "name": "stdout",
     "output_type": "stream",
     "text": [
      "start: torch.Size([64, 1, 28, 28])\n",
      "conv1: torch.Size([64, 10, 24, 24])\n",
      "pool1: torch.Size([64, 10, 12, 12])\n",
      "start: torch.Size([64, 1, 28, 28])\n",
      "conv1: torch.Size([64, 10, 24, 24])\n",
      "pool1: torch.Size([64, 10, 12, 12])\n",
      "start: torch.Size([64, 1, 28, 28])\n",
      "conv1: torch.Size([64, 10, 24, 24])\n",
      "pool1: torch.Size([64, 10, 12, 12])\n",
      "start: torch.Size([64, 1, 28, 28])\n",
      "conv1: torch.Size([64, 10, 24, 24])\n",
      "pool1: torch.Size([64, 10, 12, 12])\n",
      "start: torch.Size([64, 1, 28, 28])\n",
      "conv1: torch.Size([64, 10, 24, 24])\n",
      "pool1: torch.Size([64, 10, 12, 12])\n",
      "start: torch.Size([64, 1, 28, 28])\n",
      "conv1: torch.Size([64, 10, 24, 24])\n",
      "pool1: torch.Size([64, 10, 12, 12])\n",
      "start: torch.Size([64, 1, 28, 28])\n",
      "conv1: torch.Size([64, 10, 24, 24])\n",
      "pool1: torch.Size([64, 10, 12, 12])\n",
      "start: torch.Size([64, 1, 28, 28])\n"
     ]
    },
    {
     "name": "stderr",
     "output_type": "stream",
     "text": [
      "Epoch 2:  25%|██████████                               | 231/938 [00:06<00:19, 36.79batch/s, accuracy=84.4, loss=0.431]"
     ]
    },
    {
     "name": "stdout",
     "output_type": "stream",
     "text": [
      "conv1: torch.Size([64, 10, 24, 24])\n",
      "pool1: torch.Size([64, 10, 12, 12])\n",
      "start: torch.Size([64, 1, 28, 28])\n",
      "conv1: torch.Size([64, 10, 24, 24])\n",
      "pool1: torch.Size([64, 10, 12, 12])\n",
      "start: torch.Size([64, 1, 28, 28])\n",
      "conv1: torch.Size([64, 10, 24, 24])\n",
      "pool1: torch.Size([64, 10, 12, 12])\n",
      "start: torch.Size([64, 1, 28, 28])\n",
      "conv1: torch.Size([64, 10, 24, 24])\n",
      "pool1: torch.Size([64, 10, 12, 12])\n",
      "start: torch.Size([64, 1, 28, 28])\n",
      "conv1: torch.Size([64, 10, 24, 24])\n",
      "pool1: torch.Size([64, 10, 12, 12])\n",
      "start: torch.Size([64, 1, 28, 28])\n",
      "conv1: torch.Size([64, 10, 24, 24])\n",
      "pool1: torch.Size([64, 10, 12, 12])\n",
      "start: torch.Size([64, 1, 28, 28])\n",
      "conv1: torch.Size([64, 10, 24, 24])\n",
      "pool1: torch.Size([64, 10, 12, 12])\n"
     ]
    },
    {
     "name": "stderr",
     "output_type": "stream",
     "text": [
      "Epoch 2:  25%|██████████▍                              | 239/938 [00:06<00:19, 36.63batch/s, accuracy=95.3, loss=0.146]"
     ]
    },
    {
     "name": "stdout",
     "output_type": "stream",
     "text": [
      "start: torch.Size([64, 1, 28, 28])\n",
      "conv1: torch.Size([64, 10, 24, 24])\n",
      "pool1: torch.Size([64, 10, 12, 12])\n",
      "start: torch.Size([64, 1, 28, 28])\n",
      "conv1: torch.Size([64, 10, 24, 24])\n",
      "pool1: torch.Size([64, 10, 12, 12])\n",
      "start: torch.Size([64, 1, 28, 28])\n",
      "conv1: torch.Size([64, 10, 24, 24])\n",
      "pool1: torch.Size([64, 10, 12, 12])\n",
      "start: torch.Size([64, 1, 28, 28])\n",
      "conv1: torch.Size([64, 10, 24, 24])\n",
      "pool1: torch.Size([64, 10, 12, 12])\n",
      "start: torch.Size([64, 1, 28, 28])\n",
      "conv1: torch.Size([64, 10, 24, 24])\n",
      "pool1: torch.Size([64, 10, 12, 12])\n",
      "start: torch.Size([64, 1, 28, 28])\n",
      "conv1: torch.Size([64, 10, 24, 24])\n",
      "pool1: torch.Size([64, 10, 12, 12])\n",
      "start: torch.Size([64, 1, 28, 28])\n",
      "conv1: torch.Size([64, 10, 24, 24])\n",
      "pool1: torch.Size([64, 10, 12, 12])\n",
      "start: torch.Size([64, 1, 28, 28])\n"
     ]
    },
    {
     "name": "stderr",
     "output_type": "stream",
     "text": [
      "Epoch 2:  26%|███████████                               | 247/938 [00:06<00:18, 37.18batch/s, accuracy=100, loss=0.071]"
     ]
    },
    {
     "name": "stdout",
     "output_type": "stream",
     "text": [
      "conv1: torch.Size([64, 10, 24, 24])\n",
      "pool1: torch.Size([64, 10, 12, 12])\n",
      "start: torch.Size([64, 1, 28, 28])\n",
      "conv1: torch.Size([64, 10, 24, 24])\n",
      "pool1: torch.Size([64, 10, 12, 12])\n",
      "start: torch.Size([64, 1, 28, 28])\n",
      "conv1: torch.Size([64, 10, 24, 24])\n",
      "pool1: torch.Size([64, 10, 12, 12])\n",
      "start: torch.Size([64, 1, 28, 28])\n",
      "conv1: torch.Size([64, 10, 24, 24])\n",
      "pool1: torch.Size([64, 10, 12, 12])\n",
      "start: torch.Size([64, 1, 28, 28])\n",
      "conv1: torch.Size([64, 10, 24, 24])\n",
      "pool1: torch.Size([64, 10, 12, 12])\n",
      "start: torch.Size([64, 1, 28, 28])\n",
      "conv1: torch.Size([64, 10, 24, 24])\n",
      "pool1: torch.Size([64, 10, 12, 12])\n",
      "start: torch.Size([64, 1, 28, 28])\n",
      "conv1: torch.Size([64, 10, 24, 24])\n",
      "pool1: torch.Size([64, 10, 12, 12])\n",
      "start: torch.Size([64, 1, 28, 28])\n"
     ]
    },
    {
     "name": "stderr",
     "output_type": "stream",
     "text": [
      "Epoch 2:  27%|███████████▏                             | 255/938 [00:06<00:18, 36.89batch/s, accuracy=82.8, loss=0.625]"
     ]
    },
    {
     "name": "stdout",
     "output_type": "stream",
     "text": [
      "conv1: torch.Size([64, 10, 24, 24])\n",
      "pool1: torch.Size([64, 10, 12, 12])\n",
      "start: torch.Size([64, 1, 28, 28])\n",
      "conv1: torch.Size([64, 10, 24, 24])\n",
      "pool1: torch.Size([64, 10, 12, 12])\n",
      "start: torch.Size([64, 1, 28, 28])\n",
      "conv1: torch.Size([64, 10, 24, 24])\n",
      "pool1: torch.Size([64, 10, 12, 12])\n",
      "start: torch.Size([64, 1, 28, 28])\n",
      "conv1: torch.Size([64, 10, 24, 24])\n",
      "pool1: torch.Size([64, 10, 12, 12])\n",
      "start: torch.Size([64, 1, 28, 28])\n",
      "conv1: torch.Size([64, 10, 24, 24])\n",
      "pool1: torch.Size([64, 10, 12, 12])\n",
      "start: torch.Size([64, 1, 28, 28])\n",
      "conv1: torch.Size([64, 10, 24, 24])\n",
      "pool1: torch.Size([64, 10, 12, 12])\n",
      "start: torch.Size([64, 1, 28, 28])\n",
      "conv1: torch.Size([64, 10, 24, 24])\n",
      "pool1: torch.Size([64, 10, 12, 12])\n",
      "start: torch.Size([64, 1, 28, 28])\n"
     ]
    },
    {
     "name": "stderr",
     "output_type": "stream",
     "text": [
      "Epoch 2:  28%|███████████▏                            | 263/938 [00:07<00:18, 37.43batch/s, accuracy=96.9, loss=0.0806]"
     ]
    },
    {
     "name": "stdout",
     "output_type": "stream",
     "text": [
      "conv1: torch.Size([64, 10, 24, 24])\n",
      "pool1: torch.Size([64, 10, 12, 12])\n",
      "start: torch.Size([64, 1, 28, 28])\n",
      "conv1: torch.Size([64, 10, 24, 24])\n",
      "pool1: torch.Size([64, 10, 12, 12])\n",
      "start: torch.Size([64, 1, 28, 28])\n",
      "conv1: torch.Size([64, 10, 24, 24])\n",
      "pool1: torch.Size([64, 10, 12, 12])\n",
      "start: torch.Size([64, 1, 28, 28])\n",
      "conv1: torch.Size([64, 10, 24, 24])\n",
      "pool1: torch.Size([64, 10, 12, 12])\n",
      "start: torch.Size([64, 1, 28, 28])\n",
      "conv1: torch.Size([64, 10, 24, 24])\n",
      "pool1: torch.Size([64, 10, 12, 12])\n",
      "start: torch.Size([64, 1, 28, 28])\n",
      "conv1: torch.Size([64, 10, 24, 24])\n",
      "pool1: torch.Size([64, 10, 12, 12])\n",
      "start: torch.Size([64, 1, 28, 28])\n",
      "conv1: torch.Size([64, 10, 24, 24])\n",
      "pool1: torch.Size([64, 10, 12, 12])\n",
      "start: torch.Size([64, 1, 28, 28])\n"
     ]
    },
    {
     "name": "stderr",
     "output_type": "stream",
     "text": [
      "Epoch 2:  28%|███████████▋                             | 267/938 [00:07<00:17, 38.08batch/s, accuracy=92.2, loss=0.331]"
     ]
    },
    {
     "name": "stdout",
     "output_type": "stream",
     "text": [
      "conv1: torch.Size([64, 10, 24, 24])\n",
      "pool1: torch.Size([64, 10, 12, 12])\n",
      "start: torch.Size([64, 1, 28, 28])\n",
      "conv1: torch.Size([64, 10, 24, 24])\n",
      "pool1: torch.Size([64, 10, 12, 12])\n",
      "start: torch.Size([64, 1, 28, 28])\n",
      "conv1: torch.Size([64, 10, 24, 24])\n",
      "pool1: torch.Size([64, 10, 12, 12])\n",
      "start: torch.Size([64, 1, 28, 28])\n",
      "conv1: torch.Size([64, 10, 24, 24])\n",
      "pool1: torch.Size([64, 10, 12, 12])\n",
      "start: torch.Size([64, 1, 28, 28])\n",
      "conv1: torch.Size([64, 10, 24, 24])\n",
      "pool1: torch.Size([64, 10, 12, 12])\n",
      "start: torch.Size([64, 1, 28, 28])\n",
      "conv1: torch.Size([64, 10, 24, 24])\n",
      "pool1: torch.Size([64, 10, 12, 12])\n",
      "start: torch.Size([64, 1, 28, 28])\n",
      "conv1: torch.Size([64, 10, 24, 24])\n",
      "pool1: torch.Size([64, 10, 12, 12])\n",
      "start: torch.Size([64, 1, 28, 28])\n"
     ]
    },
    {
     "name": "stderr",
     "output_type": "stream",
     "text": [
      "Epoch 2:  29%|███████████▋                            | 275/938 [00:07<00:17, 37.63batch/s, accuracy=98.4, loss=0.0719]"
     ]
    },
    {
     "name": "stdout",
     "output_type": "stream",
     "text": [
      "conv1: torch.Size([64, 10, 24, 24])\n",
      "pool1: torch.Size([64, 10, 12, 12])\n",
      "start: torch.Size([64, 1, 28, 28])\n",
      "conv1: torch.Size([64, 10, 24, 24])\n",
      "pool1: torch.Size([64, 10, 12, 12])\n",
      "start: torch.Size([64, 1, 28, 28])\n",
      "conv1: torch.Size([64, 10, 24, 24])\n",
      "pool1: torch.Size([64, 10, 12, 12])\n",
      "start: torch.Size([64, 1, 28, 28])\n",
      "conv1: torch.Size([64, 10, 24, 24])\n",
      "pool1: torch.Size([64, 10, 12, 12])\n",
      "start: torch.Size([64, 1, 28, 28])\n",
      "conv1: torch.Size([64, 10, 24, 24])\n",
      "pool1: torch.Size([64, 10, 12, 12])\n",
      "start: torch.Size([64, 1, 28, 28])\n",
      "conv1: torch.Size([64, 10, 24, 24])\n",
      "pool1: torch.Size([64, 10, 12, 12])\n",
      "start: torch.Size([64, 1, 28, 28])\n",
      "conv1: torch.Size([64, 10, 24, 24])\n",
      "pool1: torch.Size([64, 10, 12, 12])\n",
      "start: torch.Size([64, 1, 28, 28])\n"
     ]
    },
    {
     "name": "stderr",
     "output_type": "stream",
     "text": [
      "Epoch 2:  30%|████████████                            | 283/938 [00:07<00:17, 37.28batch/s, accuracy=98.4, loss=0.0841]"
     ]
    },
    {
     "name": "stdout",
     "output_type": "stream",
     "text": [
      "conv1: torch.Size([64, 10, 24, 24])\n",
      "pool1: torch.Size([64, 10, 12, 12])\n",
      "start: torch.Size([64, 1, 28, 28])\n",
      "conv1: torch.Size([64, 10, 24, 24])\n",
      "pool1: torch.Size([64, 10, 12, 12])\n",
      "start: torch.Size([64, 1, 28, 28])\n",
      "conv1: torch.Size([64, 10, 24, 24])\n",
      "pool1: torch.Size([64, 10, 12, 12])\n",
      "start: torch.Size([64, 1, 28, 28])\n",
      "conv1: torch.Size([64, 10, 24, 24])\n",
      "pool1: torch.Size([64, 10, 12, 12])\n",
      "start: torch.Size([64, 1, 28, 28])\n",
      "conv1: torch.Size([64, 10, 24, 24])\n",
      "pool1: torch.Size([64, 10, 12, 12])\n",
      "start: torch.Size([64, 1, 28, 28])\n",
      "conv1: torch.Size([64, 10, 24, 24])\n",
      "pool1: torch.Size([64, 10, 12, 12])\n",
      "start: torch.Size([64, 1, 28, 28])\n",
      "conv1: torch.Size([64, 10, 24, 24])\n",
      "pool1: torch.Size([64, 10, 12, 12])\n",
      "start: torch.Size([64, 1, 28, 28])\n"
     ]
    },
    {
     "name": "stderr",
     "output_type": "stream",
     "text": [
      "Epoch 2:  31%|████████████▌                            | 288/938 [00:07<00:17, 38.22batch/s, accuracy=95.3, loss=0.176]"
     ]
    },
    {
     "name": "stdout",
     "output_type": "stream",
     "text": [
      "conv1: torch.Size([64, 10, 24, 24])\n",
      "pool1: torch.Size([64, 10, 12, 12])\n",
      "start: torch.Size([64, 1, 28, 28])\n",
      "conv1: torch.Size([64, 10, 24, 24])\n",
      "pool1: torch.Size([64, 10, 12, 12])\n",
      "start: torch.Size([64, 1, 28, 28])\n",
      "conv1: torch.Size([64, 10, 24, 24])\n",
      "pool1: torch.Size([64, 10, 12, 12])\n",
      "start: torch.Size([64, 1, 28, 28])\n",
      "conv1: torch.Size([64, 10, 24, 24])\n",
      "pool1: torch.Size([64, 10, 12, 12])\n",
      "start: torch.Size([64, 1, 28, 28])\n",
      "conv1: torch.Size([64, 10, 24, 24])\n",
      "pool1: torch.Size([64, 10, 12, 12])\n",
      "start: torch.Size([64, 1, 28, 28])\n",
      "conv1: torch.Size([64, 10, 24, 24])\n",
      "pool1: torch.Size([64, 10, 12, 12])\n",
      "start: torch.Size([64, 1, 28, 28])\n",
      "conv1: torch.Size([64, 10, 24, 24])\n",
      "pool1: torch.Size([64, 10, 12, 12])\n",
      "start: torch.Size([64, 1, 28, 28])\n",
      "conv1: torch.Size([64, 10, 24, 24])\n",
      "pool1: torch.Size([64, 10, 12, 12])\n"
     ]
    },
    {
     "name": "stderr",
     "output_type": "stream",
     "text": [
      "Epoch 2:  32%|████████████▉                            | 297/938 [00:08<00:16, 38.99batch/s, accuracy=93.8, loss=0.281]"
     ]
    },
    {
     "name": "stdout",
     "output_type": "stream",
     "text": [
      "start: torch.Size([64, 1, 28, 28])\n",
      "conv1: torch.Size([64, 10, 24, 24])\n",
      "pool1: torch.Size([64, 10, 12, 12])\n",
      "start: torch.Size([64, 1, 28, 28])\n",
      "conv1: torch.Size([64, 10, 24, 24])\n",
      "pool1: torch.Size([64, 10, 12, 12])\n",
      "start: torch.Size([64, 1, 28, 28])\n",
      "conv1: torch.Size([64, 10, 24, 24])\n",
      "pool1: torch.Size([64, 10, 12, 12])\n",
      "start: torch.Size([64, 1, 28, 28])\n",
      "conv1: torch.Size([64, 10, 24, 24])\n",
      "pool1: torch.Size([64, 10, 12, 12])\n",
      "start: torch.Size([64, 1, 28, 28])\n",
      "conv1: torch.Size([64, 10, 24, 24])\n",
      "pool1: torch.Size([64, 10, 12, 12])\n",
      "start: torch.Size([64, 1, 28, 28])\n",
      "conv1: torch.Size([64, 10, 24, 24])\n",
      "pool1: torch.Size([64, 10, 12, 12])\n",
      "start: torch.Size([64, 1, 28, 28])\n",
      "conv1: torch.Size([64, 10, 24, 24])\n",
      "pool1: torch.Size([64, 10, 12, 12])\n",
      "start: torch.Size([64, 1, 28, 28])\n",
      "conv1: torch.Size([64, 10, 24, 24])\n",
      "pool1: torch.Size([64, 10, 12, 12])\n"
     ]
    },
    {
     "name": "stderr",
     "output_type": "stream",
     "text": [
      "Epoch 2:  33%|█████████████▎                           | 305/938 [00:08<00:16, 37.40batch/s, accuracy=92.2, loss=0.247]"
     ]
    },
    {
     "name": "stdout",
     "output_type": "stream",
     "text": [
      "start: torch.Size([64, 1, 28, 28])\n",
      "conv1: torch.Size([64, 10, 24, 24])\n",
      "pool1: torch.Size([64, 10, 12, 12])\n",
      "start: torch.Size([64, 1, 28, 28])\n",
      "conv1: torch.Size([64, 10, 24, 24])\n",
      "pool1: torch.Size([64, 10, 12, 12])\n",
      "start: torch.Size([64, 1, 28, 28])\n",
      "conv1: torch.Size([64, 10, 24, 24])\n",
      "pool1: torch.Size([64, 10, 12, 12])\n",
      "start: torch.Size([64, 1, 28, 28])\n",
      "conv1: torch.Size([64, 10, 24, 24])\n",
      "pool1: torch.Size([64, 10, 12, 12])\n",
      "start: torch.Size([64, 1, 28, 28])\n",
      "conv1: torch.Size([64, 10, 24, 24])\n",
      "pool1: torch.Size([64, 10, 12, 12])\n",
      "start: torch.Size([64, 1, 28, 28])\n",
      "conv1: torch.Size([64, 10, 24, 24])\n",
      "pool1: torch.Size([64, 10, 12, 12])\n",
      "start: torch.Size([64, 1, 28, 28])\n",
      "conv1: torch.Size([64, 10, 24, 24])\n",
      "pool1: torch.Size([64, 10, 12, 12])\n",
      "start: "
     ]
    },
    {
     "name": "stderr",
     "output_type": "stream",
     "text": [
      "Epoch 2:  33%|█████████████▋                           | 313/938 [00:08<00:16, 37.37batch/s, accuracy=93.8, loss=0.232]"
     ]
    },
    {
     "name": "stdout",
     "output_type": "stream",
     "text": [
      "torch.Size([64, 1, 28, 28])\n",
      "conv1: torch.Size([64, 10, 24, 24])\n",
      "pool1: torch.Size([64, 10, 12, 12])\n",
      "start: torch.Size([64, 1, 28, 28])\n",
      "conv1: torch.Size([64, 10, 24, 24])\n",
      "pool1: torch.Size([64, 10, 12, 12])\n",
      "start: torch.Size([64, 1, 28, 28])\n",
      "conv1: torch.Size([64, 10, 24, 24])\n",
      "pool1: torch.Size([64, 10, 12, 12])\n",
      "start: torch.Size([64, 1, 28, 28])\n",
      "conv1: torch.Size([64, 10, 24, 24])\n",
      "pool1: torch.Size([64, 10, 12, 12])\n",
      "start: torch.Size([64, 1, 28, 28])\n",
      "conv1: torch.Size([64, 10, 24, 24])\n",
      "pool1: torch.Size([64, 10, 12, 12])\n",
      "start: torch.Size([64, 1, 28, 28])\n",
      "conv1: torch.Size([64, 10, 24, 24])\n",
      "pool1: torch.Size([64, 10, 12, 12])\n",
      "start: torch.Size([64, 1, 28, 28])\n",
      "conv1: torch.Size([64, 10, 24, 24])\n",
      "pool1: torch.Size([64, 10, 12, 12])\n",
      "start: torch.Size([64, 1, 28, 28])\n"
     ]
    },
    {
     "name": "stderr",
     "output_type": "stream",
     "text": [
      "Epoch 2:  34%|█████████████▊                           | 317/938 [00:08<00:16, 37.71batch/s, accuracy=93.8, loss=0.166]"
     ]
    },
    {
     "name": "stdout",
     "output_type": "stream",
     "text": [
      "conv1: torch.Size([64, 10, 24, 24])\n",
      "pool1: torch.Size([64, 10, 12, 12])\n",
      "start: torch.Size([64, 1, 28, 28])\n",
      "conv1: torch.Size([64, 10, 24, 24])\n",
      "pool1: torch.Size([64, 10, 12, 12])\n",
      "start: torch.Size([64, 1, 28, 28])\n",
      "conv1: torch.Size([64, 10, 24, 24])\n",
      "pool1: torch.Size([64, 10, 12, 12])\n",
      "start: torch.Size([64, 1, 28, 28])\n",
      "conv1: torch.Size([64, 10, 24, 24])\n",
      "pool1: torch.Size([64, 10, 12, 12])\n",
      "start: torch.Size([64, 1, 28, 28])\n",
      "conv1: torch.Size([64, 10, 24, 24])\n",
      "pool1: torch.Size([64, 10, 12, 12])\n",
      "start: torch.Size([64, 1, 28, 28])\n",
      "conv1: torch.Size([64, 10, 24, 24])\n",
      "pool1: torch.Size([64, 10, 12, 12])\n",
      "start: torch.Size([64, 1, 28, 28])\n"
     ]
    },
    {
     "name": "stderr",
     "output_type": "stream",
     "text": [
      "Epoch 2:  35%|██████████████▌                           | 325/938 [00:08<00:18, 33.20batch/s, accuracy=92.2, loss=0.35]"
     ]
    },
    {
     "name": "stdout",
     "output_type": "stream",
     "text": [
      "conv1: torch.Size([64, 10, 24, 24])\n",
      "pool1: torch.Size([64, 10, 12, 12])\n",
      "start: torch.Size([64, 1, 28, 28])\n",
      "conv1: torch.Size([64, 10, 24, 24])\n",
      "pool1: torch.Size([64, 10, 12, 12])\n",
      "start: torch.Size([64, 1, 28, 28])\n",
      "conv1: torch.Size([64, 10, 24, 24])\n",
      "pool1: torch.Size([64, 10, 12, 12])\n",
      "start: torch.Size([64, 1, 28, 28])\n",
      "conv1: torch.Size([64, 10, 24, 24])\n",
      "pool1: torch.Size([64, 10, 12, 12])\n",
      "start: torch.Size([64, 1, 28, 28])\n",
      "conv1: torch.Size([64, 10, 24, 24])\n",
      "pool1: torch.Size([64, 10, 12, 12])\n",
      "start: torch.Size([64, 1, 28, 28])\n",
      "conv1: torch.Size([64, 10, 24, 24])\n",
      "pool1: torch.Size([64, 10, 12, 12])\n"
     ]
    },
    {
     "name": "stderr",
     "output_type": "stream",
     "text": [
      "Epoch 2:  36%|██████████████▌                          | 333/938 [00:08<00:17, 34.82batch/s, accuracy=90.6, loss=0.197]"
     ]
    },
    {
     "name": "stdout",
     "output_type": "stream",
     "text": [
      "start: torch.Size([64, 1, 28, 28])\n",
      "conv1: torch.Size([64, 10, 24, 24])\n",
      "pool1: torch.Size([64, 10, 12, 12])\n",
      "start: torch.Size([64, 1, 28, 28])\n",
      "conv1: torch.Size([64, 10, 24, 24])\n",
      "pool1: torch.Size([64, 10, 12, 12])\n",
      "start: torch.Size([64, 1, 28, 28])\n",
      "conv1: torch.Size([64, 10, 24, 24])\n",
      "pool1: torch.Size([64, 10, 12, 12])\n",
      "start: torch.Size([64, 1, 28, 28])\n",
      "conv1: torch.Size([64, 10, 24, 24])\n",
      "pool1: torch.Size([64, 10, 12, 12])\n",
      "start: torch.Size([64, 1, 28, 28])\n",
      "conv1: torch.Size([64, 10, 24, 24])\n",
      "pool1: torch.Size([64, 10, 12, 12])\n",
      "start: torch.Size([64, 1, 28, 28])\n",
      "conv1: torch.Size([64, 10, 24, 24])\n",
      "pool1: torch.Size([64, 10, 12, 12])\n",
      "start: torch.Size([64, 1, 28, 28])\n",
      "conv1: torch.Size([64, 10, 24, 24])\n",
      "pool1: torch.Size([64, 10, 12, 12])\n",
      "start: torch.Size([64, 1, 28, 28])\n"
     ]
    },
    {
     "name": "stderr",
     "output_type": "stream",
     "text": [
      "Epoch 2:  36%|██████████████▎                         | 337/938 [00:09<00:16, 35.58batch/s, accuracy=96.9, loss=0.0704]"
     ]
    },
    {
     "name": "stdout",
     "output_type": "stream",
     "text": [
      "conv1: torch.Size([64, 10, 24, 24])\n",
      "pool1: torch.Size([64, 10, 12, 12])\n",
      "start: torch.Size([64, 1, 28, 28])\n",
      "conv1: torch.Size([64, 10, 24, 24])\n",
      "pool1: torch.Size([64, 10, 12, 12])\n",
      "start: torch.Size([64, 1, 28, 28])\n",
      "conv1: torch.Size([64, 10, 24, 24])\n",
      "pool1: torch.Size([64, 10, 12, 12])\n",
      "start: torch.Size([64, 1, 28, 28])\n",
      "conv1: torch.Size([64, 10, 24, 24])\n",
      "pool1: torch.Size([64, 10, 12, 12])\n",
      "start: torch.Size([64, 1, 28, 28])\n",
      "conv1: torch.Size([64, 10, 24, 24])\n",
      "pool1: torch.Size([64, 10, 12, 12])\n",
      "start: torch.Size([64, 1, 28, 28])\n",
      "conv1: torch.Size([64, 10, 24, 24])\n",
      "pool1: torch.Size([64, 10, 12, 12])\n",
      "start: torch.Size([64, 1, 28, 28])\n",
      "conv1: torch.Size([64, 10, 24, 24])\n",
      "pool1: torch.Size([64, 10, 12, 12])\n",
      "start: torch.Size([64, 1, 28, 28])\n",
      "conv1: torch.Size([64, 10, 24, 24])\n",
      "pool1: torch.Size([64, 10, 12, 12])\n"
     ]
    },
    {
     "name": "stderr",
     "output_type": "stream",
     "text": [
      "Epoch 2:  37%|███████████████▍                          | 346/938 [00:09<00:15, 37.67batch/s, accuracy=89.1, loss=0.52]"
     ]
    },
    {
     "name": "stdout",
     "output_type": "stream",
     "text": [
      "start: torch.Size([64, 1, 28, 28])\n",
      "conv1: torch.Size([64, 10, 24, 24])\n",
      "pool1: torch.Size([64, 10, 12, 12])\n",
      "start: torch.Size([64, 1, 28, 28])\n",
      "conv1: torch.Size([64, 10, 24, 24])\n",
      "pool1: torch.Size([64, 10, 12, 12])\n",
      "start: torch.Size([64, 1, 28, 28])\n",
      "conv1: torch.Size([64, 10, 24, 24])\n",
      "pool1: torch.Size([64, 10, 12, 12])\n",
      "start: torch.Size([64, 1, 28, 28])\n",
      "conv1: torch.Size([64, 10, 24, 24])\n",
      "pool1: torch.Size([64, 10, 12, 12])\n",
      "start: torch.Size([64, 1, 28, 28])\n",
      "conv1: torch.Size([64, 10, 24, 24])\n",
      "pool1: torch.Size([64, 10, 12, 12])\n",
      "start: torch.Size([64, 1, 28, 28])\n",
      "conv1: torch.Size([64, 10, 24, 24])\n",
      "pool1: torch.Size([64, 10, 12, 12])\n",
      "start: torch.Size([64, 1, 28, 28])\n",
      "conv1: torch.Size([64, 10, 24, 24])\n",
      "pool1: torch.Size([64, 10, 12, 12])\n",
      "start: torch.Size([64, 1, 28, 28])\n",
      "conv1: torch.Size([64, 10, 24, 24])\n",
      "pool1: torch.Size([64, 10, 12, 12])\n"
     ]
    },
    {
     "name": "stderr",
     "output_type": "stream",
     "text": [
      "Epoch 2:  38%|███████████████                         | 354/938 [00:09<00:15, 36.86batch/s, accuracy=98.4, loss=0.0926]"
     ]
    },
    {
     "name": "stdout",
     "output_type": "stream",
     "text": [
      "start: torch.Size([64, 1, 28, 28])\n",
      "conv1: torch.Size([64, 10, 24, 24])\n",
      "pool1: torch.Size([64, 10, 12, 12])\n",
      "start: torch.Size([64, 1, 28, 28])\n",
      "conv1: torch.Size([64, 10, 24, 24])\n",
      "pool1: torch.Size([64, 10, 12, 12])\n",
      "start: torch.Size([64, 1, 28, 28])\n",
      "conv1: torch.Size([64, 10, 24, 24])\n",
      "pool1: torch.Size([64, 10, 12, 12])\n",
      "start: torch.Size([64, 1, 28, 28])\n",
      "conv1: torch.Size([64, 10, 24, 24])\n",
      "pool1: torch.Size([64, 10, 12, 12])\n",
      "start: torch.Size([64, 1, 28, 28])\n",
      "conv1: torch.Size([64, 10, 24, 24])\n",
      "pool1: torch.Size([64, 10, 12, 12])\n",
      "start: torch.Size([64, 1, 28, 28])\n",
      "conv1: torch.Size([64, 10, 24, 24])\n",
      "pool1: torch.Size([64, 10, 12, 12])\n",
      "start: torch.Size([64, 1, 28, 28])\n",
      "conv1: torch.Size([64, 10, 24, 24])\n",
      "pool1: torch.Size([64, 10, 12, 12])\n",
      "start: torch.Size([64, 1, 28, 28])\n"
     ]
    },
    {
     "name": "stderr",
     "output_type": "stream",
     "text": [
      "Epoch 2:  39%|███████████████▊                         | 363/938 [00:09<00:15, 38.17batch/s, accuracy=96.9, loss=0.172]"
     ]
    },
    {
     "name": "stdout",
     "output_type": "stream",
     "text": [
      "conv1: torch.Size([64, 10, 24, 24])\n",
      "pool1: torch.Size([64, 10, 12, 12])\n",
      "start: torch.Size([64, 1, 28, 28])\n",
      "conv1: torch.Size([64, 10, 24, 24])\n",
      "pool1: torch.Size([64, 10, 12, 12])\n",
      "start: torch.Size([64, 1, 28, 28])\n",
      "conv1: torch.Size([64, 10, 24, 24])\n",
      "pool1: torch.Size([64, 10, 12, 12])\n",
      "start: torch.Size([64, 1, 28, 28])\n",
      "conv1: torch.Size([64, 10, 24, 24])\n",
      "pool1: torch.Size([64, 10, 12, 12])\n",
      "start: torch.Size([64, 1, 28, 28])\n",
      "conv1: torch.Size([64, 10, 24, 24])\n",
      "pool1: torch.Size([64, 10, 12, 12])\n",
      "start: torch.Size([64, 1, 28, 28])\n",
      "conv1: torch.Size([64, 10, 24, 24])\n",
      "pool1: torch.Size([64, 10, 12, 12])\n",
      "start: torch.Size([64, 1, 28, 28])\n",
      "conv1: torch.Size([64, 10, 24, 24])\n",
      "pool1: torch.Size([64, 10, 12, 12])\n",
      "start: torch.Size([64, 1, 28, 28])\n"
     ]
    },
    {
     "name": "stderr",
     "output_type": "stream",
     "text": [
      "Epoch 2:  39%|███████████████▋                        | 367/938 [00:09<00:15, 37.56batch/s, accuracy=96.9, loss=0.0841]"
     ]
    },
    {
     "name": "stdout",
     "output_type": "stream",
     "text": [
      "conv1: torch.Size([64, 10, 24, 24])\n",
      "pool1: torch.Size([64, 10, 12, 12])\n",
      "start: torch.Size([64, 1, 28, 28])\n",
      "conv1: torch.Size([64, 10, 24, 24])\n",
      "pool1: torch.Size([64, 10, 12, 12])\n",
      "start: torch.Size([64, 1, 28, 28])\n",
      "conv1: torch.Size([64, 10, 24, 24])\n",
      "pool1: torch.Size([64, 10, 12, 12])\n",
      "start: torch.Size([64, 1, 28, 28])\n",
      "conv1: torch.Size([64, 10, 24, 24])\n",
      "pool1: torch.Size([64, 10, 12, 12])\n",
      "start: torch.Size([64, 1, 28, 28])\n",
      "conv1: torch.Size([64, 10, 24, 24])\n",
      "pool1: torch.Size([64, 10, 12, 12])\n",
      "start: torch.Size([64, 1, 28, 28])\n",
      "conv1: torch.Size([64, 10, 24, 24])\n",
      "pool1: torch.Size([64, 10, 12, 12])\n",
      "start: torch.Size([64, 1, 28, 28])\n",
      "conv1: torch.Size([64, 10, 24, 24])\n",
      "pool1: torch.Size([64, 10, 12, 12])\n",
      "start: torch.Size([64, 1, 28, 28])\n"
     ]
    },
    {
     "name": "stderr",
     "output_type": "stream",
     "text": [
      "Epoch 2:  40%|████████████████▍                        | 376/938 [00:10<00:14, 37.72batch/s, accuracy=95.3, loss=0.251]"
     ]
    },
    {
     "name": "stdout",
     "output_type": "stream",
     "text": [
      "conv1: torch.Size([64, 10, 24, 24])\n",
      "pool1: torch.Size([64, 10, 12, 12])\n",
      "start: torch.Size([64, 1, 28, 28])\n",
      "conv1: torch.Size([64, 10, 24, 24])\n",
      "pool1: torch.Size([64, 10, 12, 12])\n",
      "start: torch.Size([64, 1, 28, 28])\n",
      "conv1: torch.Size([64, 10, 24, 24])\n",
      "pool1: torch.Size([64, 10, 12, 12])\n",
      "start: torch.Size([64, 1, 28, 28])\n",
      "conv1: torch.Size([64, 10, 24, 24])\n",
      "pool1: torch.Size([64, 10, 12, 12])\n",
      "start: torch.Size([64, 1, 28, 28])\n",
      "conv1: torch.Size([64, 10, 24, 24])\n",
      "pool1: torch.Size([64, 10, 12, 12])\n",
      "start: torch.Size([64, 1, 28, 28])\n",
      "conv1: torch.Size([64, 10, 24, 24])\n",
      "pool1: torch.Size([64, 10, 12, 12])\n",
      "start: torch.Size([64, 1, 28, 28])\n",
      "conv1: torch.Size([64, 10, 24, 24])\n",
      "pool1: torch.Size([64, 10, 12, 12])\n",
      "start: "
     ]
    },
    {
     "name": "stderr",
     "output_type": "stream",
     "text": [
      "Epoch 2:  41%|████████████████▊                        | 384/938 [00:10<00:14, 37.92batch/s, accuracy=95.3, loss=0.256]"
     ]
    },
    {
     "name": "stdout",
     "output_type": "stream",
     "text": [
      "torch.Size([64, 1, 28, 28])\n",
      "conv1: torch.Size([64, 10, 24, 24])\n",
      "pool1: torch.Size([64, 10, 12, 12])\n",
      "start: torch.Size([64, 1, 28, 28])\n",
      "conv1: torch.Size([64, 10, 24, 24])\n",
      "pool1: torch.Size([64, 10, 12, 12])\n",
      "start: torch.Size([64, 1, 28, 28])\n",
      "conv1: torch.Size([64, 10, 24, 24])\n",
      "pool1: torch.Size([64, 10, 12, 12])\n",
      "start: torch.Size([64, 1, 28, 28])\n",
      "conv1: torch.Size([64, 10, 24, 24])\n",
      "pool1: torch.Size([64, 10, 12, 12])\n",
      "start: torch.Size([64, 1, 28, 28])\n",
      "conv1: torch.Size([64, 10, 24, 24])\n",
      "pool1: torch.Size([64, 10, 12, 12])\n",
      "start: torch.Size([64, 1, 28, 28])\n",
      "conv1: torch.Size([64, 10, 24, 24])\n",
      "pool1: torch.Size([64, 10, 12, 12])\n",
      "start: torch.Size([64, 1, 28, 28])\n",
      "conv1: torch.Size([64, 10, 24, 24])\n",
      "pool1: torch.Size([64, 10, 12, 12])\n",
      "start: torch.Size([64, 1, 28, 28])\n",
      "conv1: torch.Size([64, 10, 24, 24])\n"
     ]
    },
    {
     "name": "stderr",
     "output_type": "stream",
     "text": [
      "Epoch 2:  41%|████████████████▉                        | 388/938 [00:10<00:14, 37.48batch/s, accuracy=89.1, loss=0.204]"
     ]
    },
    {
     "name": "stdout",
     "output_type": "stream",
     "text": [
      "pool1: torch.Size([64, 10, 12, 12])\n",
      "start: torch.Size([64, 1, 28, 28])\n",
      "conv1: torch.Size([64, 10, 24, 24])\n",
      "pool1: torch.Size([64, 10, 12, 12])\n",
      "start: torch.Size([64, 1, 28, 28])\n",
      "conv1: torch.Size([64, 10, 24, 24])\n",
      "pool1: torch.Size([64, 10, 12, 12])\n",
      "start: torch.Size([64, 1, 28, 28])\n",
      "conv1: torch.Size([64, 10, 24, 24])\n",
      "pool1: torch.Size([64, 10, 12, 12])\n",
      "start: torch.Size([64, 1, 28, 28])\n",
      "conv1: torch.Size([64, 10, 24, 24])\n",
      "pool1: torch.Size([64, 10, 12, 12])\n",
      "start: torch.Size([64, 1, 28, 28])\n",
      "conv1: torch.Size([64, 10, 24, 24])\n",
      "pool1: torch.Size([64, 10, 12, 12])\n",
      "start: torch.Size([64, 1, 28, 28])\n",
      "conv1: torch.Size([64, 10, 24, 24])\n",
      "pool1: torch.Size([64, 10, 12, 12])\n",
      "start: torch.Size([64, 1, 28, 28])\n"
     ]
    },
    {
     "name": "stderr",
     "output_type": "stream",
     "text": [
      "Epoch 2:  42%|█████████████████▎                       | 396/938 [00:10<00:14, 36.97batch/s, accuracy=95.3, loss=0.166]"
     ]
    },
    {
     "name": "stdout",
     "output_type": "stream",
     "text": [
      "conv1: torch.Size([64, 10, 24, 24])\n",
      "pool1: torch.Size([64, 10, 12, 12])\n",
      "start: torch.Size([64, 1, 28, 28])\n",
      "conv1: torch.Size([64, 10, 24, 24])\n",
      "pool1: torch.Size([64, 10, 12, 12])\n",
      "start: torch.Size([64, 1, 28, 28])\n",
      "conv1: torch.Size([64, 10, 24, 24])\n",
      "pool1: torch.Size([64, 10, 12, 12])\n",
      "start: torch.Size([64, 1, 28, 28])\n",
      "conv1: torch.Size([64, 10, 24, 24])\n",
      "pool1: torch.Size([64, 10, 12, 12])\n",
      "start: torch.Size([64, 1, 28, 28])\n",
      "conv1: torch.Size([64, 10, 24, 24])\n",
      "pool1: torch.Size([64, 10, 12, 12])\n",
      "start: torch.Size([64, 1, 28, 28])\n",
      "conv1: torch.Size([64, 10, 24, 24])\n",
      "pool1: torch.Size([64, 10, 12, 12])\n",
      "start: torch.Size([64, 1, 28, 28])\n",
      "conv1: torch.Size([64, 10, 24, 24])\n",
      "pool1: torch.Size([64, 10, 12, 12])\n",
      "start: torch.Size([64, 1, 28, 28])\n"
     ]
    },
    {
     "name": "stderr",
     "output_type": "stream",
     "text": [
      "Epoch 2:  43%|█████████████████▋                       | 404/938 [00:10<00:15, 34.04batch/s, accuracy=95.3, loss=0.291]"
     ]
    },
    {
     "name": "stdout",
     "output_type": "stream",
     "text": [
      "conv1: torch.Size([64, 10, 24, 24])\n",
      "pool1: torch.Size([64, 10, 12, 12])\n",
      "start: torch.Size([64, 1, 28, 28])\n",
      "conv1: torch.Size([64, 10, 24, 24])\n",
      "pool1: torch.Size([64, 10, 12, 12])\n",
      "start: torch.Size([64, 1, 28, 28])\n",
      "conv1: torch.Size([64, 10, 24, 24])\n",
      "pool1: torch.Size([64, 10, 12, 12])\n",
      "start: torch.Size([64, 1, 28, 28])\n",
      "conv1: torch.Size([64, 10, 24, 24])\n",
      "pool1: torch.Size([64, 10, 12, 12])\n",
      "start: torch.Size([64, 1, 28, 28])\n",
      "conv1: torch.Size([64, 10, 24, 24])\n",
      "pool1: torch.Size([64, 10, 12, 12])\n",
      "start: torch.Size([64, 1, 28, 28])\n",
      "conv1: torch.Size([64, 10, 24, 24])\n",
      "pool1: torch.Size([64, 10, 12, 12])\n"
     ]
    },
    {
     "name": "stderr",
     "output_type": "stream",
     "text": [
      "Epoch 2:  43%|█████████████████▊                       | 408/938 [00:11<00:15, 34.82batch/s, accuracy=92.2, loss=0.222]"
     ]
    },
    {
     "name": "stdout",
     "output_type": "stream",
     "text": [
      "start: torch.Size([64, 1, 28, 28])\n",
      "conv1: torch.Size([64, 10, 24, 24])\n",
      "pool1: torch.Size([64, 10, 12, 12])\n",
      "start: torch.Size([64, 1, 28, 28])\n",
      "conv1: torch.Size([64, 10, 24, 24])\n",
      "pool1: torch.Size([64, 10, 12, 12])\n",
      "start: torch.Size([64, 1, 28, 28])\n",
      "conv1: torch.Size([64, 10, 24, 24])\n",
      "pool1: torch.Size([64, 10, 12, 12])\n",
      "start: torch.Size([64, 1, 28, 28])\n",
      "conv1: torch.Size([64, 10, 24, 24])\n",
      "pool1: torch.Size([64, 10, 12, 12])\n",
      "start: torch.Size([64, 1, 28, 28])\n",
      "conv1: torch.Size([64, 10, 24, 24])\n",
      "pool1: torch.Size([64, 10, 12, 12])\n",
      "start: torch.Size([64, 1, 28, 28])\n",
      "conv1: torch.Size([64, 10, 24, 24])\n",
      "pool1: torch.Size([64, 10, 12, 12])\n",
      "start: torch.Size([64, 1, 28, 28])\n",
      "conv1: torch.Size([64, 10, 24, 24])\n",
      "pool1: torch.Size([64, 10, 12, 12])\n"
     ]
    },
    {
     "name": "stderr",
     "output_type": "stream",
     "text": [
      "Epoch 2:  44%|██████████████████▏                      | 416/938 [00:11<00:14, 35.20batch/s, accuracy=92.2, loss=0.146]"
     ]
    },
    {
     "name": "stdout",
     "output_type": "stream",
     "text": [
      "start: torch.Size([64, 1, 28, 28])\n",
      "conv1: torch.Size([64, 10, 24, 24])\n",
      "pool1: torch.Size([64, 10, 12, 12])\n",
      "start: torch.Size([64, 1, 28, 28])\n",
      "conv1: torch.Size([64, 10, 24, 24])\n",
      "pool1: torch.Size([64, 10, 12, 12])\n",
      "start: torch.Size([64, 1, 28, 28])\n",
      "conv1: torch.Size([64, 10, 24, 24])\n",
      "pool1: torch.Size([64, 10, 12, 12])\n",
      "start: torch.Size([64, 1, 28, 28])\n",
      "conv1: torch.Size([64, 10, 24, 24])\n",
      "pool1: torch.Size([64, 10, 12, 12])\n",
      "start: torch.Size([64, 1, 28, 28])\n",
      "conv1: torch.Size([64, 10, 24, 24])\n",
      "pool1: torch.Size([64, 10, 12, 12])\n",
      "start: torch.Size([64, 1, 28, 28])\n",
      "conv1: torch.Size([64, 10, 24, 24])\n",
      "pool1: torch.Size([64, 10, 12, 12])\n",
      "start: torch.Size([64, 1, 28, 28])\n",
      "conv1: torch.Size([64, 10, 24, 24])\n",
      "pool1: torch.Size([64, 10, 12, 12])\n"
     ]
    },
    {
     "name": "stderr",
     "output_type": "stream",
     "text": [
      "Epoch 2:  45%|██████████████████                      | 424/938 [00:11<00:14, 35.52batch/s, accuracy=98.4, loss=0.0877]"
     ]
    },
    {
     "name": "stdout",
     "output_type": "stream",
     "text": [
      "start: torch.Size([64, 1, 28, 28])\n",
      "conv1: torch.Size([64, 10, 24, 24])\n",
      "pool1: torch.Size([64, 10, 12, 12])\n",
      "start: torch.Size([64, 1, 28, 28])\n",
      "conv1: torch.Size([64, 10, 24, 24])\n",
      "pool1: torch.Size([64, 10, 12, 12])\n",
      "start: torch.Size([64, 1, 28, 28])\n",
      "conv1: torch.Size([64, 10, 24, 24])\n",
      "pool1: torch.Size([64, 10, 12, 12])\n",
      "start: torch.Size([64, 1, 28, 28])\n",
      "conv1: torch.Size([64, 10, 24, 24])\n",
      "pool1: torch.Size([64, 10, 12, 12])\n",
      "start: torch.Size([64, 1, 28, 28])\n",
      "conv1: torch.Size([64, 10, 24, 24])\n",
      "pool1: torch.Size([64, 10, 12, 12])\n",
      "start: torch.Size([64, 1, 28, 28])\n",
      "conv1: torch.Size([64, 10, 24, 24])\n",
      "pool1: torch.Size([64, 10, 12, 12])\n",
      "start: torch.Size([64, 1, 28, 28])\n",
      "conv1: torch.Size([64, 10, 24, 24])\n",
      "pool1: torch.Size([64, 10, 12, 12])\n",
      "start: torch.Size([64, 1, 28, 28])\n"
     ]
    },
    {
     "name": "stderr",
     "output_type": "stream",
     "text": [
      "Epoch 2:  46%|██████████████████▉                      | 432/938 [00:11<00:13, 36.41batch/s, accuracy=92.2, loss=0.283]"
     ]
    },
    {
     "name": "stdout",
     "output_type": "stream",
     "text": [
      "conv1: torch.Size([64, 10, 24, 24])\n",
      "pool1: torch.Size([64, 10, 12, 12])\n",
      "start: torch.Size([64, 1, 28, 28])\n",
      "conv1: torch.Size([64, 10, 24, 24])\n",
      "pool1: torch.Size([64, 10, 12, 12])\n",
      "start: torch.Size([64, 1, 28, 28])\n",
      "conv1: torch.Size([64, 10, 24, 24])\n",
      "pool1: torch.Size([64, 10, 12, 12])\n",
      "start: torch.Size([64, 1, 28, 28])\n",
      "conv1: torch.Size([64, 10, 24, 24])\n",
      "pool1: torch.Size([64, 10, 12, 12])\n",
      "start: torch.Size([64, 1, 28, 28])\n",
      "conv1: torch.Size([64, 10, 24, 24])\n",
      "pool1: torch.Size([64, 10, 12, 12])\n",
      "start: torch.Size([64, 1, 28, 28])\n",
      "conv1: torch.Size([64, 10, 24, 24])\n",
      "pool1: torch.Size([64, 10, 12, 12])\n",
      "start: torch.Size([64, 1, 28, 28])\n",
      "conv1: torch.Size([64, 10, 24, 24])\n",
      "pool1: torch.Size([64, 10, 12, 12])\n",
      "start: torch.Size([64, 1, 28, 28])\n",
      "conv1: torch.Size([64, 10, 24, 24])\n",
      "pool1: torch.Size([64, 10, 12, 12])\n"
     ]
    },
    {
     "name": "stderr",
     "output_type": "stream",
     "text": [
      "Epoch 2:  47%|███████████████████▏                     | 440/938 [00:11<00:13, 37.00batch/s, accuracy=93.8, loss=0.196]"
     ]
    },
    {
     "name": "stdout",
     "output_type": "stream",
     "text": [
      "start: torch.Size([64, 1, 28, 28])\n",
      "conv1: torch.Size([64, 10, 24, 24])\n",
      "pool1: torch.Size([64, 10, 12, 12])\n",
      "start: torch.Size([64, 1, 28, 28])\n",
      "conv1: torch.Size([64, 10, 24, 24])\n",
      "pool1: torch.Size([64, 10, 12, 12])\n",
      "start: torch.Size([64, 1, 28, 28])\n",
      "conv1: torch.Size([64, 10, 24, 24])\n",
      "pool1: torch.Size([64, 10, 12, 12])\n",
      "start: torch.Size([64, 1, 28, 28])\n",
      "conv1: torch.Size([64, 10, 24, 24])\n",
      "pool1: torch.Size([64, 10, 12, 12])\n",
      "start: torch.Size([64, 1, 28, 28])\n",
      "conv1: torch.Size([64, 10, 24, 24])\n",
      "pool1: torch.Size([64, 10, 12, 12])\n",
      "start: torch.Size([64, 1, 28, 28])\n",
      "conv1: torch.Size([64, 10, 24, 24])\n",
      "pool1: torch.Size([64, 10, 12, 12])\n",
      "start: torch.Size([64, 1, 28, 28])\n",
      "conv1: torch.Size([64, 10, 24, 24])\n",
      "pool1: torch.Size([64, 10, 12, 12])\n",
      "start: torch.Size([64, 1, 28, 28])\n"
     ]
    },
    {
     "name": "stderr",
     "output_type": "stream",
     "text": [
      "Epoch 2:  47%|███████████████████▍                     | 444/938 [00:12<00:13, 37.25batch/s, accuracy=95.3, loss=0.162]"
     ]
    },
    {
     "name": "stdout",
     "output_type": "stream",
     "text": [
      "conv1: torch.Size([64, 10, 24, 24])\n",
      "pool1: torch.Size([64, 10, 12, 12])\n",
      "start: torch.Size([64, 1, 28, 28])\n",
      "conv1: torch.Size([64, 10, 24, 24])\n",
      "pool1: torch.Size([64, 10, 12, 12])\n",
      "start: torch.Size([64, 1, 28, 28])\n",
      "conv1: torch.Size([64, 10, 24, 24])\n",
      "pool1: torch.Size([64, 10, 12, 12])\n",
      "start: torch.Size([64, 1, 28, 28])\n",
      "conv1: torch.Size([64, 10, 24, 24])\n",
      "pool1: torch.Size([64, 10, 12, 12])\n",
      "start: torch.Size([64, 1, 28, 28])\n",
      "conv1: torch.Size([64, 10, 24, 24])\n",
      "pool1: torch.Size([64, 10, 12, 12])\n",
      "start: torch.Size([64, 1, 28, 28])\n",
      "conv1: torch.Size([64, 10, 24, 24])\n",
      "pool1: torch.Size([64, 10, 12, 12])\n",
      "start: torch.Size([64, 1, 28, 28])\n",
      "conv1: torch.Size([64, 10, 24, 24])\n",
      "pool1: torch.Size([64, 10, 12, 12])\n",
      "start: torch.Size([64, 1, 28, 28])\n",
      "conv1: torch.Size([64, 10, 24, 24])\n"
     ]
    },
    {
     "name": "stderr",
     "output_type": "stream",
     "text": [
      "Epoch 2:  48%|███████████████████▊                     | 452/938 [00:12<00:13, 36.62batch/s, accuracy=96.9, loss=0.108]"
     ]
    },
    {
     "name": "stdout",
     "output_type": "stream",
     "text": [
      "pool1: torch.Size([64, 10, 12, 12])\n",
      "start: torch.Size([64, 1, 28, 28])\n",
      "conv1: torch.Size([64, 10, 24, 24])\n",
      "pool1: torch.Size([64, 10, 12, 12])\n",
      "start: torch.Size([64, 1, 28, 28])\n",
      "conv1: torch.Size([64, 10, 24, 24])\n",
      "pool1: torch.Size([64, 10, 12, 12])\n",
      "start: torch.Size([64, 1, 28, 28])\n",
      "conv1: torch.Size([64, 10, 24, 24])\n",
      "pool1: torch.Size([64, 10, 12, 12])\n",
      "start: torch.Size([64, 1, 28, 28])\n",
      "conv1: torch.Size([64, 10, 24, 24])\n",
      "pool1: torch.Size([64, 10, 12, 12])\n",
      "start: torch.Size([64, 1, 28, 28])\n",
      "conv1: torch.Size([64, 10, 24, 24])\n",
      "pool1: torch.Size([64, 10, 12, 12])\n",
      "start: torch.Size([64, 1, 28, 28])\n",
      "conv1: torch.Size([64, 10, 24, 24])\n",
      "pool1: torch.Size([64, 10, 12, 12])\n",
      "start: torch.Size([64, 1, 28, 28])\n"
     ]
    },
    {
     "name": "stderr",
     "output_type": "stream",
     "text": [
      "Epoch 2:  49%|████████████████████▏                    | 461/938 [00:12<00:12, 38.45batch/s, accuracy=93.8, loss=0.315]"
     ]
    },
    {
     "name": "stdout",
     "output_type": "stream",
     "text": [
      "conv1: torch.Size([64, 10, 24, 24])\n",
      "pool1: torch.Size([64, 10, 12, 12])\n",
      "start: torch.Size([64, 1, 28, 28])\n",
      "conv1: torch.Size([64, 10, 24, 24])\n",
      "pool1: torch.Size([64, 10, 12, 12])\n",
      "start: torch.Size([64, 1, 28, 28])\n",
      "conv1: torch.Size([64, 10, 24, 24])\n",
      "pool1: torch.Size([64, 10, 12, 12])\n",
      "start: torch.Size([64, 1, 28, 28])\n",
      "conv1: torch.Size([64, 10, 24, 24])\n",
      "pool1: torch.Size([64, 10, 12, 12])\n",
      "start: torch.Size([64, 1, 28, 28])\n",
      "conv1: torch.Size([64, 10, 24, 24])\n",
      "pool1: torch.Size([64, 10, 12, 12])\n",
      "start: torch.Size([64, 1, 28, 28])\n",
      "conv1: torch.Size([64, 10, 24, 24])\n",
      "pool1: torch.Size([64, 10, 12, 12])\n",
      "start: torch.Size([64, 1, 28, 28])\n",
      "conv1: torch.Size([64, 10, 24, 24])\n",
      "pool1: torch.Size([64, 10, 12, 12])\n",
      "start: torch.Size([64, 1, 28, 28])\n",
      "conv1: torch.Size([64, 10, 24, 24])\n",
      "pool1: torch.Size([64, 10, 12, 12])\n"
     ]
    },
    {
     "name": "stderr",
     "output_type": "stream",
     "text": [
      "Epoch 2:  50%|████████████████████▌                    | 469/938 [00:12<00:12, 38.54batch/s, accuracy=95.3, loss=0.179]"
     ]
    },
    {
     "name": "stdout",
     "output_type": "stream",
     "text": [
      "start: torch.Size([64, 1, 28, 28])\n",
      "conv1: torch.Size([64, 10, 24, 24])\n",
      "pool1: torch.Size([64, 10, 12, 12])\n",
      "start: torch.Size([64, 1, 28, 28])\n",
      "conv1: torch.Size([64, 10, 24, 24])\n",
      "pool1: torch.Size([64, 10, 12, 12])\n",
      "start: torch.Size([64, 1, 28, 28])\n",
      "conv1: torch.Size([64, 10, 24, 24])\n",
      "pool1: torch.Size([64, 10, 12, 12])\n",
      "start: torch.Size([64, 1, 28, 28])\n",
      "conv1: torch.Size([64, 10, 24, 24])\n",
      "pool1: torch.Size([64, 10, 12, 12])\n",
      "start: torch.Size([64, 1, 28, 28])\n",
      "conv1: torch.Size([64, 10, 24, 24])\n",
      "pool1: torch.Size([64, 10, 12, 12])\n",
      "start: torch.Size([64, 1, 28, 28])\n",
      "conv1: torch.Size([64, 10, 24, 24])\n",
      "pool1: torch.Size([64, 10, 12, 12])\n",
      "start: torch.Size([64, 1, 28, 28])\n",
      "conv1: torch.Size([64, 10, 24, 24])\n",
      "pool1: torch.Size([64, 10, 12, 12])\n",
      "start: torch.Size([64, 1, 28, 28])\n",
      "conv1: torch.Size([64, 10, 24, 24])\n",
      "pool1: torch.Size([64, 10, 12, 12])\n"
     ]
    },
    {
     "name": "stderr",
     "output_type": "stream",
     "text": [
      "Epoch 2:  51%|████████████████████▊                    | 477/938 [00:12<00:12, 37.94batch/s, accuracy=90.6, loss=0.402]"
     ]
    },
    {
     "name": "stdout",
     "output_type": "stream",
     "text": [
      "start: torch.Size([64, 1, 28, 28])\n",
      "conv1: torch.Size([64, 10, 24, 24])\n",
      "pool1: torch.Size([64, 10, 12, 12])\n",
      "start: torch.Size([64, 1, 28, 28])\n",
      "conv1: torch.Size([64, 10, 24, 24])\n",
      "pool1: torch.Size([64, 10, 12, 12])\n",
      "start: torch.Size([64, 1, 28, 28])\n",
      "conv1: torch.Size([64, 10, 24, 24])\n",
      "pool1: torch.Size([64, 10, 12, 12])\n",
      "start: torch.Size([64, 1, 28, 28])\n",
      "conv1: torch.Size([64, 10, 24, 24])\n",
      "pool1: torch.Size([64, 10, 12, 12])\n",
      "start: torch.Size([64, 1, 28, 28])\n",
      "conv1: torch.Size([64, 10, 24, 24])\n",
      "pool1: torch.Size([64, 10, 12, 12])\n",
      "start: torch.Size([64, 1, 28, 28])\n",
      "conv1: torch.Size([64, 10, 24, 24])\n",
      "pool1: torch.Size([64, 10, 12, 12])\n",
      "start: torch.Size([64, 1, 28, 28])\n",
      "conv1: torch.Size([64, 10, 24, 24])\n",
      "pool1: torch.Size([64, 10, 12, 12])\n",
      "start: torch.Size([64, 1, 28, 28])\n"
     ]
    },
    {
     "name": "stderr",
     "output_type": "stream",
     "text": [
      "Epoch 2:  51%|█████████████████████                    | 481/938 [00:13<00:11, 38.45batch/s, accuracy=93.8, loss=0.218]"
     ]
    },
    {
     "name": "stdout",
     "output_type": "stream",
     "text": [
      "conv1: torch.Size([64, 10, 24, 24])\n",
      "pool1: torch.Size([64, 10, 12, 12])\n",
      "start: torch.Size([64, 1, 28, 28])\n",
      "conv1: torch.Size([64, 10, 24, 24])\n",
      "pool1: torch.Size([64, 10, 12, 12])\n",
      "start: torch.Size([64, 1, 28, 28])\n",
      "conv1: torch.Size([64, 10, 24, 24])\n",
      "pool1: torch.Size([64, 10, 12, 12])\n",
      "start: torch.Size([64, 1, 28, 28])\n",
      "conv1: torch.Size([64, 10, 24, 24])\n",
      "pool1: torch.Size([64, 10, 12, 12])\n",
      "start: torch.Size([64, 1, 28, 28])\n",
      "conv1: torch.Size([64, 10, 24, 24])\n",
      "pool1: torch.Size([64, 10, 12, 12])\n",
      "start: torch.Size([64, 1, 28, 28])\n",
      "conv1: torch.Size([64, 10, 24, 24])\n",
      "pool1: torch.Size([64, 10, 12, 12])\n",
      "start: torch.Size([64, 1, 28, 28])\n",
      "conv1: torch.Size([64, 10, 24, 24])\n",
      "pool1: torch.Size([64, 10, 12, 12])\n",
      "start: torch.Size([64, 1, 28, 28])\n",
      "conv1: torch.Size([64, 10, 24, 24])\n",
      "pool1: torch.Size([64, 10, 12, 12])\n"
     ]
    },
    {
     "name": "stderr",
     "output_type": "stream",
     "text": [
      "Epoch 2:  52%|█████████████████████▎                   | 489/938 [00:13<00:11, 38.88batch/s, accuracy=95.3, loss=0.133]"
     ]
    },
    {
     "name": "stdout",
     "output_type": "stream",
     "text": [
      "start: torch.Size([64, 1, 28, 28])\n",
      "conv1: torch.Size([64, 10, 24, 24])\n",
      "pool1: torch.Size([64, 10, 12, 12])\n",
      "start: torch.Size([64, 1, 28, 28])\n",
      "conv1: torch.Size([64, 10, 24, 24])\n",
      "pool1: torch.Size([64, 10, 12, 12])\n",
      "start: torch.Size([64, 1, 28, 28])\n",
      "conv1: torch.Size([64, 10, 24, 24])\n",
      "pool1: torch.Size([64, 10, 12, 12])\n",
      "start: torch.Size([64, 1, 28, 28])\n",
      "conv1: torch.Size([64, 10, 24, 24])\n",
      "pool1: torch.Size([64, 10, 12, 12])\n",
      "start: torch.Size([64, 1, 28, 28])\n",
      "conv1: torch.Size([64, 10, 24, 24])\n",
      "pool1: torch.Size([64, 10, 12, 12])\n",
      "start: torch.Size([64, 1, 28, 28])\n",
      "conv1: torch.Size([64, 10, 24, 24])\n",
      "pool1: torch.Size([64, 10, 12, 12])\n",
      "start: torch.Size([64, 1, 28, 28])\n",
      "conv1: torch.Size([64, 10, 24, 24])\n",
      "pool1: torch.Size([64, 10, 12, 12])\n",
      "start: torch.Size([64, 1, 28, 28])\n"
     ]
    },
    {
     "name": "stderr",
     "output_type": "stream",
     "text": [
      "Epoch 2:  53%|█████████████████████▊                   | 498/938 [00:13<00:11, 39.14batch/s, accuracy=95.3, loss=0.148]"
     ]
    },
    {
     "name": "stdout",
     "output_type": "stream",
     "text": [
      "conv1: torch.Size([64, 10, 24, 24])\n",
      "pool1: torch.Size([64, 10, 12, 12])\n",
      "start: torch.Size([64, 1, 28, 28])\n",
      "conv1: torch.Size([64, 10, 24, 24])\n",
      "pool1: torch.Size([64, 10, 12, 12])\n",
      "start: torch.Size([64, 1, 28, 28])\n",
      "conv1: torch.Size([64, 10, 24, 24])\n",
      "pool1: torch.Size([64, 10, 12, 12])\n",
      "start: torch.Size([64, 1, 28, 28])\n",
      "conv1: torch.Size([64, 10, 24, 24])\n",
      "pool1: torch.Size([64, 10, 12, 12])\n",
      "start: torch.Size([64, 1, 28, 28])\n",
      "conv1: torch.Size([64, 10, 24, 24])\n",
      "pool1: torch.Size([64, 10, 12, 12])\n",
      "start: torch.Size([64, 1, 28, 28])\n",
      "conv1: torch.Size([64, 10, 24, 24])\n",
      "pool1: torch.Size([64, 10, 12, 12])\n",
      "start: torch.Size([64, 1, 28, 28])\n",
      "conv1: torch.Size([64, 10, 24, 24])\n",
      "pool1: torch.Size([64, 10, 12, 12])\n",
      "start: torch.Size([64, 1, 28, 28])\n",
      "conv1: torch.Size([64, 10, 24, 24])\n",
      "pool1: torch.Size([64, 10, 12, 12])\n"
     ]
    },
    {
     "name": "stderr",
     "output_type": "stream",
     "text": [
      "Epoch 2:  54%|█████████████████████▌                  | 506/938 [00:13<00:11, 38.36batch/s, accuracy=98.4, loss=0.0534]"
     ]
    },
    {
     "name": "stdout",
     "output_type": "stream",
     "text": [
      "start: torch.Size([64, 1, 28, 28])\n",
      "conv1: torch.Size([64, 10, 24, 24])\n",
      "pool1: torch.Size([64, 10, 12, 12])\n",
      "start: torch.Size([64, 1, 28, 28])\n",
      "conv1: torch.Size([64, 10, 24, 24])\n",
      "pool1: torch.Size([64, 10, 12, 12])\n",
      "start: torch.Size([64, 1, 28, 28])\n",
      "conv1: torch.Size([64, 10, 24, 24])\n",
      "pool1: torch.Size([64, 10, 12, 12])\n",
      "start: torch.Size([64, 1, 28, 28])\n",
      "conv1: torch.Size([64, 10, 24, 24])\n",
      "pool1: torch.Size([64, 10, 12, 12])\n",
      "start: torch.Size([64, 1, 28, 28])\n",
      "conv1: torch.Size([64, 10, 24, 24])\n",
      "pool1: torch.Size([64, 10, 12, 12])\n",
      "start: torch.Size([64, 1, 28, 28])\n",
      "conv1: torch.Size([64, 10, 24, 24])\n",
      "pool1: torch.Size([64, 10, 12, 12])\n",
      "start: torch.Size([64, 1, 28, 28])\n",
      "conv1: torch.Size([64, 10, 24, 24])\n",
      "pool1: torch.Size([64, 10, 12, 12])\n",
      "start: torch.Size([64, 1, 28, 28])\n",
      "conv1: torch.Size([64, 10, 24, 24])\n",
      "pool1: torch.Size([64, 10, 12, 12])\n"
     ]
    },
    {
     "name": "stderr",
     "output_type": "stream",
     "text": [
      "Epoch 2:  55%|██████████████████████▍                  | 514/938 [00:13<00:11, 38.53batch/s, accuracy=92.2, loss=0.301]"
     ]
    },
    {
     "name": "stdout",
     "output_type": "stream",
     "text": [
      "start: torch.Size([64, 1, 28, 28])\n",
      "conv1: torch.Size([64, 10, 24, 24])\n",
      "pool1: torch.Size([64, 10, 12, 12])\n",
      "start: torch.Size([64, 1, 28, 28])\n",
      "conv1: torch.Size([64, 10, 24, 24])\n",
      "pool1: torch.Size([64, 10, 12, 12])\n",
      "start: torch.Size([64, 1, 28, 28])\n",
      "conv1: torch.Size([64, 10, 24, 24])\n",
      "pool1: torch.Size([64, 10, 12, 12])\n",
      "start: torch.Size([64, 1, 28, 28])\n",
      "conv1: torch.Size([64, 10, 24, 24])\n",
      "pool1: torch.Size([64, 10, 12, 12])\n",
      "start: torch.Size([64, 1, 28, 28])\n",
      "conv1: torch.Size([64, 10, 24, 24])\n",
      "pool1: torch.Size([64, 10, 12, 12])\n",
      "start: torch.Size([64, 1, 28, 28])\n",
      "conv1: torch.Size([64, 10, 24, 24])\n",
      "pool1: torch.Size([64, 10, 12, 12])\n",
      "start: torch.Size([64, 1, 28, 28])\n",
      "conv1: torch.Size([64, 10, 24, 24])\n",
      "pool1: torch.Size([64, 10, 12, 12])\n",
      "start: torch.Size([64, 1, 28, 28])\n"
     ]
    },
    {
     "name": "stderr",
     "output_type": "stream",
     "text": [
      "Epoch 2:  55%|██████████████████████▋                  | 518/938 [00:14<00:11, 37.16batch/s, accuracy=90.6, loss=0.192]"
     ]
    },
    {
     "name": "stdout",
     "output_type": "stream",
     "text": [
      "conv1: torch.Size([64, 10, 24, 24])\n",
      "pool1: torch.Size([64, 10, 12, 12])\n",
      "start: torch.Size([64, 1, 28, 28])\n",
      "conv1: torch.Size([64, 10, 24, 24])\n",
      "pool1: torch.Size([64, 10, 12, 12])\n",
      "start: torch.Size([64, 1, 28, 28])\n",
      "conv1: torch.Size([64, 10, 24, 24])\n",
      "pool1: torch.Size([64, 10, 12, 12])\n",
      "start: torch.Size([64, 1, 28, 28])\n",
      "conv1: torch.Size([64, 10, 24, 24])\n",
      "pool1: torch.Size([64, 10, 12, 12])\n",
      "start: torch.Size([64, 1, 28, 28])\n",
      "conv1: torch.Size([64, 10, 24, 24])\n",
      "pool1: torch.Size([64, 10, 12, 12])\n",
      "start: torch.Size([64, 1, 28, 28])\n",
      "conv1: torch.Size([64, 10, 24, 24])\n",
      "pool1: torch.Size([64, 10, 12, 12])\n",
      "start: torch.Size([64, 1, 28, 28])\n",
      "conv1: torch.Size([64, 10, 24, 24])\n",
      "pool1: torch.Size([64, 10, 12, 12])\n"
     ]
    },
    {
     "name": "stderr",
     "output_type": "stream",
     "text": [
      "Epoch 2:  56%|███████████████████████                  | 527/938 [00:14<00:10, 37.93batch/s, accuracy=93.8, loss=0.285]"
     ]
    },
    {
     "name": "stdout",
     "output_type": "stream",
     "text": [
      "start: torch.Size([64, 1, 28, 28])\n",
      "conv1: torch.Size([64, 10, 24, 24])\n",
      "pool1: torch.Size([64, 10, 12, 12])\n",
      "start: torch.Size([64, 1, 28, 28])\n",
      "conv1: torch.Size([64, 10, 24, 24])\n",
      "pool1: torch.Size([64, 10, 12, 12])\n",
      "start: torch.Size([64, 1, 28, 28])\n",
      "conv1: torch.Size([64, 10, 24, 24])\n",
      "pool1: torch.Size([64, 10, 12, 12])\n",
      "start: torch.Size([64, 1, 28, 28])\n",
      "conv1: torch.Size([64, 10, 24, 24])\n",
      "pool1: torch.Size([64, 10, 12, 12])\n",
      "start: torch.Size([64, 1, 28, 28])\n",
      "conv1: torch.Size([64, 10, 24, 24])\n",
      "pool1: torch.Size([64, 10, 12, 12])\n",
      "start: torch.Size([64, 1, 28, 28])\n",
      "conv1: torch.Size([64, 10, 24, 24])\n",
      "pool1: torch.Size([64, 10, 12, 12])\n",
      "start: torch.Size([64, 1, 28, 28])\n",
      "conv1: torch.Size([64, 10, 24, 24])\n",
      "pool1: torch.Size([64, 10, 12, 12])\n",
      "start: torch.Size([64, 1, 28, 28])\n",
      "conv1: torch.Size([64, 10, 24, 24])\n"
     ]
    },
    {
     "name": "stderr",
     "output_type": "stream",
     "text": [
      "Epoch 2:  57%|██████████████████████▊                 | 535/938 [00:14<00:11, 35.90batch/s, accuracy=95.3, loss=0.0864]"
     ]
    },
    {
     "name": "stdout",
     "output_type": "stream",
     "text": [
      "pool1: torch.Size([64, 10, 12, 12])\n",
      "start: torch.Size([64, 1, 28, 28])\n",
      "conv1: torch.Size([64, 10, 24, 24])\n",
      "pool1: torch.Size([64, 10, 12, 12])\n",
      "start: torch.Size([64, 1, 28, 28])\n",
      "conv1: torch.Size([64, 10, 24, 24])\n",
      "pool1: torch.Size([64, 10, 12, 12])\n",
      "start: torch.Size([64, 1, 28, 28])\n",
      "conv1: torch.Size([64, 10, 24, 24])\n",
      "pool1: torch.Size([64, 10, 12, 12])\n",
      "start: torch.Size([64, 1, 28, 28])\n",
      "conv1: torch.Size([64, 10, 24, 24])\n",
      "pool1: torch.Size([64, 10, 12, 12])\n",
      "start: torch.Size([64, 1, 28, 28])\n",
      "conv1: torch.Size([64, 10, 24, 24])\n",
      "pool1: torch.Size([64, 10, 12, 12])\n",
      "start: torch.Size([64, 1, 28, 28])\n",
      "conv1: torch.Size([64, 10, 24, 24])\n",
      "pool1: torch.Size([64, 10, 12, 12])\n"
     ]
    },
    {
     "name": "stderr",
     "output_type": "stream",
     "text": [
      "Epoch 2:  58%|███████████████████████▏                | 543/938 [00:14<00:10, 36.19batch/s, accuracy=96.9, loss=0.0531]"
     ]
    },
    {
     "name": "stdout",
     "output_type": "stream",
     "text": [
      "start: torch.Size([64, 1, 28, 28])\n",
      "conv1: torch.Size([64, 10, 24, 24])\n",
      "pool1: torch.Size([64, 10, 12, 12])\n",
      "start: torch.Size([64, 1, 28, 28])\n",
      "conv1: torch.Size([64, 10, 24, 24])\n",
      "pool1: torch.Size([64, 10, 12, 12])\n",
      "start: torch.Size([64, 1, 28, 28])\n",
      "conv1: torch.Size([64, 10, 24, 24])\n",
      "pool1: torch.Size([64, 10, 12, 12])\n",
      "start: torch.Size([64, 1, 28, 28])\n",
      "conv1: torch.Size([64, 10, 24, 24])\n",
      "pool1: torch.Size([64, 10, 12, 12])\n",
      "start: torch.Size([64, 1, 28, 28])\n",
      "conv1: torch.Size([64, 10, 24, 24])\n",
      "pool1: torch.Size([64, 10, 12, 12])\n",
      "start: torch.Size([64, 1, 28, 28])\n",
      "conv1: torch.Size([64, 10, 24, 24])\n",
      "pool1: torch.Size([64, 10, 12, 12])\n",
      "start: torch.Size([64, 1, 28, 28])\n",
      "conv1: torch.Size([64, 10, 24, 24])\n",
      "pool1: torch.Size([64, 10, 12, 12])\n",
      "start: torch.Size([64, 1, 28, 28])\n"
     ]
    },
    {
     "name": "stderr",
     "output_type": "stream",
     "text": [
      "Epoch 2:  58%|███████████████████████▉                 | 547/938 [00:14<00:10, 35.79batch/s, accuracy=90.6, loss=0.254]"
     ]
    },
    {
     "name": "stdout",
     "output_type": "stream",
     "text": [
      "conv1: torch.Size([64, 10, 24, 24])\n",
      "pool1: torch.Size([64, 10, 12, 12])\n",
      "start: torch.Size([64, 1, 28, 28])\n",
      "conv1: torch.Size([64, 10, 24, 24])\n",
      "pool1: torch.Size([64, 10, 12, 12])\n",
      "start: torch.Size([64, 1, 28, 28])\n",
      "conv1: torch.Size([64, 10, 24, 24])\n",
      "pool1: torch.Size([64, 10, 12, 12])\n",
      "start: torch.Size([64, 1, 28, 28])\n",
      "conv1: torch.Size([64, 10, 24, 24])\n",
      "pool1: torch.Size([64, 10, 12, 12])\n",
      "start: torch.Size([64, 1, 28, 28])\n",
      "conv1: torch.Size([64, 10, 24, 24])\n",
      "pool1: torch.Size([64, 10, 12, 12])\n",
      "start: torch.Size([64, 1, 28, 28])\n",
      "conv1: torch.Size([64, 10, 24, 24])\n",
      "pool1: torch.Size([64, 10, 12, 12])\n",
      "start: torch.Size([64, 1, 28, 28])\n",
      "conv1: torch.Size([64, 10, 24, 24])\n",
      "pool1: torch.Size([64, 10, 12, 12])\n",
      "start: torch.Size([64, 1, 28, 28])\n"
     ]
    },
    {
     "name": "stderr",
     "output_type": "stream",
     "text": [
      "Epoch 2:  59%|████████████████████████▎                | 555/938 [00:15<00:10, 36.11batch/s, accuracy=95.3, loss=0.134]"
     ]
    },
    {
     "name": "stdout",
     "output_type": "stream",
     "text": [
      "conv1: torch.Size([64, 10, 24, 24])\n",
      "pool1: torch.Size([64, 10, 12, 12])\n",
      "start: torch.Size([64, 1, 28, 28])\n",
      "conv1: torch.Size([64, 10, 24, 24])\n",
      "pool1: torch.Size([64, 10, 12, 12])\n",
      "start: torch.Size([64, 1, 28, 28])\n",
      "conv1: torch.Size([64, 10, 24, 24])\n",
      "pool1: torch.Size([64, 10, 12, 12])\n",
      "start: torch.Size([64, 1, 28, 28])\n",
      "conv1: torch.Size([64, 10, 24, 24])\n",
      "pool1: torch.Size([64, 10, 12, 12])\n",
      "start: torch.Size([64, 1, 28, 28])\n",
      "conv1: torch.Size([64, 10, 24, 24])\n",
      "pool1: torch.Size([64, 10, 12, 12])\n",
      "start: torch.Size([64, 1, 28, 28])\n",
      "conv1: torch.Size([64, 10, 24, 24])\n",
      "pool1: torch.Size([64, 10, 12, 12])\n",
      "start: torch.Size([64, 1, 28, 28])\n",
      "conv1: torch.Size([64, 10, 24, 24])\n",
      "pool1: torch.Size([64, 10, 12, 12])\n",
      "start: torch.Size([64, 1, 28, 28])\n"
     ]
    },
    {
     "name": "stderr",
     "output_type": "stream",
     "text": [
      "Epoch 2:  60%|█████████████████████████▏                | 563/938 [00:15<00:10, 35.53batch/s, accuracy=95.3, loss=0.42]"
     ]
    },
    {
     "name": "stdout",
     "output_type": "stream",
     "text": [
      "conv1: torch.Size([64, 10, 24, 24])\n",
      "pool1: torch.Size([64, 10, 12, 12])\n",
      "start: torch.Size([64, 1, 28, 28])\n",
      "conv1: torch.Size([64, 10, 24, 24])\n",
      "pool1: torch.Size([64, 10, 12, 12])\n",
      "start: torch.Size([64, 1, 28, 28])\n",
      "conv1: torch.Size([64, 10, 24, 24])\n",
      "pool1: torch.Size([64, 10, 12, 12])\n",
      "start: torch.Size([64, 1, 28, 28])\n",
      "conv1: torch.Size([64, 10, 24, 24])\n",
      "pool1: torch.Size([64, 10, 12, 12])\n",
      "start: torch.Size([64, 1, 28, 28])\n",
      "conv1: torch.Size([64, 10, 24, 24])\n",
      "pool1: torch.Size([64, 10, 12, 12])\n",
      "start: torch.Size([64, 1, 28, 28])\n",
      "conv1: torch.Size([64, 10, 24, 24])\n",
      "pool1: torch.Size([64, 10, 12, 12])\n",
      "start: torch.Size([64, 1, 28, 28])\n"
     ]
    },
    {
     "name": "stderr",
     "output_type": "stream",
     "text": [
      "Epoch 2:  60%|████████████████████████▊                | 567/938 [00:15<00:10, 35.99batch/s, accuracy=95.3, loss=0.112]"
     ]
    },
    {
     "name": "stdout",
     "output_type": "stream",
     "text": [
      "conv1: torch.Size([64, 10, 24, 24])\n",
      "pool1: torch.Size([64, 10, 12, 12])\n",
      "start: torch.Size([64, 1, 28, 28])\n",
      "conv1: torch.Size([64, 10, 24, 24])\n",
      "pool1: torch.Size([64, 10, 12, 12])\n",
      "start: torch.Size([64, 1, 28, 28])\n",
      "conv1: torch.Size([64, 10, 24, 24])\n",
      "pool1: torch.Size([64, 10, 12, 12])\n",
      "start: torch.Size([64, 1, 28, 28])\n",
      "conv1: torch.Size([64, 10, 24, 24])\n",
      "pool1: torch.Size([64, 10, 12, 12])\n",
      "start: torch.Size([64, 1, 28, 28])\n",
      "conv1: torch.Size([64, 10, 24, 24])\n",
      "pool1: torch.Size([64, 10, 12, 12])\n",
      "start: torch.Size([64, 1, 28, 28])\n",
      "conv1: torch.Size([64, 10, 24, 24])\n",
      "pool1: torch.Size([64, 10, 12, 12])\n",
      "start: torch.Size([64, 1, 28, 28])\n",
      "conv1: torch.Size([64, 10, 24, 24])\n",
      "pool1: torch.Size([64, 10, 12, 12])\n",
      "start: torch.Size([64, 1, 28, 28])\n",
      "conv1: torch.Size([64, 10, 24, 24])\n",
      "pool1: torch.Size([64, 10, 12, 12])\n"
     ]
    },
    {
     "name": "stderr",
     "output_type": "stream",
     "text": [
      "Epoch 2:  61%|█████████████████████████▏               | 576/938 [00:15<00:09, 37.10batch/s, accuracy=92.2, loss=0.259]"
     ]
    },
    {
     "name": "stdout",
     "output_type": "stream",
     "text": [
      "start: torch.Size([64, 1, 28, 28])\n",
      "conv1: torch.Size([64, 10, 24, 24])\n",
      "pool1: torch.Size([64, 10, 12, 12])\n",
      "start: torch.Size([64, 1, 28, 28])\n",
      "conv1: torch.Size([64, 10, 24, 24])\n",
      "pool1: torch.Size([64, 10, 12, 12])\n",
      "start: torch.Size([64, 1, 28, 28])\n",
      "conv1: torch.Size([64, 10, 24, 24])\n",
      "pool1: torch.Size([64, 10, 12, 12])\n",
      "start: torch.Size([64, 1, 28, 28])\n",
      "conv1: torch.Size([64, 10, 24, 24])\n",
      "pool1: torch.Size([64, 10, 12, 12])\n",
      "start: torch.Size([64, 1, 28, 28])\n",
      "conv1: torch.Size([64, 10, 24, 24])\n",
      "pool1: torch.Size([64, 10, 12, 12])\n",
      "start: torch.Size([64, 1, 28, 28])\n",
      "conv1: torch.Size([64, 10, 24, 24])\n",
      "pool1: torch.Size([64, 10, 12, 12])\n",
      "start: torch.Size([64, 1, 28, 28])\n",
      "conv1: torch.Size([64, 10, 24, 24])\n",
      "pool1: torch.Size([64, 10, 12, 12])\n",
      "start: torch.Size([64, 1, 28, 28])\n"
     ]
    },
    {
     "name": "stderr",
     "output_type": "stream",
     "text": [
      "Epoch 2:  62%|█████████████████████████▌               | 584/938 [00:15<00:09, 37.96batch/s, accuracy=93.8, loss=0.312]"
     ]
    },
    {
     "name": "stdout",
     "output_type": "stream",
     "text": [
      "conv1: torch.Size([64, 10, 24, 24])\n",
      "pool1: torch.Size([64, 10, 12, 12])\n",
      "start: torch.Size([64, 1, 28, 28])\n",
      "conv1: torch.Size([64, 10, 24, 24])\n",
      "pool1: torch.Size([64, 10, 12, 12])\n",
      "start: torch.Size([64, 1, 28, 28])\n",
      "conv1: torch.Size([64, 10, 24, 24])\n",
      "pool1: torch.Size([64, 10, 12, 12])\n",
      "start: torch.Size([64, 1, 28, 28])\n",
      "conv1: torch.Size([64, 10, 24, 24])\n",
      "pool1: torch.Size([64, 10, 12, 12])\n",
      "start: torch.Size([64, 1, 28, 28])\n",
      "conv1: torch.Size([64, 10, 24, 24])\n",
      "pool1: torch.Size([64, 10, 12, 12])\n",
      "start: torch.Size([64, 1, 28, 28])\n",
      "conv1: torch.Size([64, 10, 24, 24])\n",
      "pool1: torch.Size([64, 10, 12, 12])\n",
      "start: torch.Size([64, 1, 28, 28])\n",
      "conv1: torch.Size([64, 10, 24, 24])\n",
      "pool1: torch.Size([64, 10, 12, 12])\n",
      "start: torch.Size([64, 1, 28, 28])\n"
     ]
    },
    {
     "name": "stderr",
     "output_type": "stream",
     "text": [
      "Epoch 2:  63%|█████████████████████████▉               | 592/938 [00:15<00:09, 36.18batch/s, accuracy=90.6, loss=0.229]"
     ]
    },
    {
     "name": "stdout",
     "output_type": "stream",
     "text": [
      "conv1: torch.Size([64, 10, 24, 24])\n",
      "pool1: torch.Size([64, 10, 12, 12])\n",
      "start: torch.Size([64, 1, 28, 28])\n",
      "conv1: torch.Size([64, 10, 24, 24])\n",
      "pool1: torch.Size([64, 10, 12, 12])\n",
      "start: torch.Size([64, 1, 28, 28])\n",
      "conv1: torch.Size([64, 10, 24, 24])\n",
      "pool1: torch.Size([64, 10, 12, 12])\n",
      "start: torch.Size([64, 1, 28, 28])\n",
      "conv1: torch.Size([64, 10, 24, 24])\n",
      "pool1: torch.Size([64, 10, 12, 12])\n",
      "start: torch.Size([64, 1, 28, 28])\n",
      "conv1: torch.Size([64, 10, 24, 24])\n",
      "pool1: torch.Size([64, 10, 12, 12])\n",
      "start: torch.Size([64, 1, 28, 28])\n",
      "conv1: torch.Size([64, 10, 24, 24])\n",
      "pool1: torch.Size([64, 10, 12, 12])\n",
      "start: torch.Size([64, 1, 28, 28])\n",
      "conv1: torch.Size([64, 10, 24, 24])\n",
      "pool1: torch.Size([64, 10, 12, 12])\n",
      "start: torch.Size([64, 1, 28, 28])\n"
     ]
    },
    {
     "name": "stderr",
     "output_type": "stream",
     "text": [
      "Epoch 2:  64%|██████████████████████████               | 596/938 [00:16<00:09, 35.97batch/s, accuracy=92.2, loss=0.551]"
     ]
    },
    {
     "name": "stdout",
     "output_type": "stream",
     "text": [
      "conv1: torch.Size([64, 10, 24, 24])\n",
      "pool1: torch.Size([64, 10, 12, 12])\n",
      "start: torch.Size([64, 1, 28, 28])\n",
      "conv1: torch.Size([64, 10, 24, 24])\n",
      "pool1: torch.Size([64, 10, 12, 12])\n",
      "start: torch.Size([64, 1, 28, 28])\n",
      "conv1: torch.Size([64, 10, 24, 24])\n",
      "pool1: torch.Size([64, 10, 12, 12])\n",
      "start: torch.Size([64, 1, 28, 28])\n",
      "conv1: torch.Size([64, 10, 24, 24])\n",
      "pool1: torch.Size([64, 10, 12, 12])\n",
      "start: torch.Size([64, 1, 28, 28])\n",
      "conv1: torch.Size([64, 10, 24, 24])\n",
      "pool1: torch.Size([64, 10, 12, 12])\n",
      "start: torch.Size([64, 1, 28, 28])\n",
      "conv1: torch.Size([64, 10, 24, 24])\n",
      "pool1: torch.Size([64, 10, 12, 12])\n",
      "start: torch.Size([64, 1, 28, 28])\n",
      "conv1: torch.Size([64, 10, 24, 24])\n",
      "pool1: torch.Size([64, 10, 12, 12])\n"
     ]
    },
    {
     "name": "stderr",
     "output_type": "stream",
     "text": [
      "Epoch 2:  64%|█████████████████████████▊              | 604/938 [00:16<00:09, 33.55batch/s, accuracy=98.4, loss=0.0772]"
     ]
    },
    {
     "name": "stdout",
     "output_type": "stream",
     "text": [
      "start: torch.Size([64, 1, 28, 28])\n",
      "conv1: torch.Size([64, 10, 24, 24])\n",
      "pool1: torch.Size([64, 10, 12, 12])\n",
      "start: torch.Size([64, 1, 28, 28])\n",
      "conv1: torch.Size([64, 10, 24, 24])\n",
      "pool1: torch.Size([64, 10, 12, 12])\n",
      "start: torch.Size([64, 1, 28, 28])\n",
      "conv1: torch.Size([64, 10, 24, 24])\n",
      "pool1: torch.Size([64, 10, 12, 12])\n",
      "start: torch.Size([64, 1, 28, 28])\n",
      "conv1: torch.Size([64, 10, 24, 24])\n",
      "pool1: torch.Size([64, 10, 12, 12])\n",
      "start: torch.Size([64, 1, 28, 28])\n",
      "conv1: torch.Size([64, 10, 24, 24])\n",
      "pool1: torch.Size([64, 10, 12, 12])\n",
      "start: torch.Size([64, 1, 28, 28])\n",
      "conv1: torch.Size([64, 10, 24, 24])\n",
      "pool1: torch.Size([64, 10, 12, 12])\n",
      "start: torch.Size([64, 1, 28, 28])\n",
      "conv1: torch.Size([64, 10, 24, 24])\n",
      "pool1: torch.Size([64, 10, 12, 12])\n",
      "start: torch.Size([64, 1, 28, 28])\n"
     ]
    },
    {
     "name": "stderr",
     "output_type": "stream",
     "text": [
      "Epoch 2:  65%|███████████████████████████▎              | 609/938 [00:16<00:09, 35.66batch/s, accuracy=100, loss=0.022]"
     ]
    },
    {
     "name": "stdout",
     "output_type": "stream",
     "text": [
      "conv1: torch.Size([64, 10, 24, 24])\n",
      "pool1: torch.Size([64, 10, 12, 12])\n",
      "start: torch.Size([64, 1, 28, 28])\n",
      "conv1: torch.Size([64, 10, 24, 24])\n",
      "pool1: torch.Size([64, 10, 12, 12])\n",
      "start: torch.Size([64, 1, 28, 28])\n",
      "conv1: torch.Size([64, 10, 24, 24])\n",
      "pool1: torch.Size([64, 10, 12, 12])\n",
      "start: torch.Size([64, 1, 28, 28])\n",
      "conv1: torch.Size([64, 10, 24, 24])\n",
      "pool1: torch.Size([64, 10, 12, 12])\n",
      "start: torch.Size([64, 1, 28, 28])\n",
      "conv1: torch.Size([64, 10, 24, 24])\n",
      "pool1: torch.Size([64, 10, 12, 12])\n",
      "start: torch.Size([64, 1, 28, 28])\n",
      "conv1: torch.Size([64, 10, 24, 24])\n",
      "pool1: torch.Size([64, 10, 12, 12])\n",
      "start: torch.Size([64, 1, 28, 28])\n",
      "conv1: torch.Size([64, 10, 24, 24])\n",
      "pool1: torch.Size([64, 10, 12, 12])\n",
      "start: torch.Size([64, 1, 28, 28])\n",
      "conv1: torch.Size([64, 10, 24, 24])\n"
     ]
    },
    {
     "name": "stderr",
     "output_type": "stream",
     "text": [
      "Epoch 2:  66%|███████████████████████████              | 618/938 [00:16<00:08, 37.34batch/s, accuracy=93.8, loss=0.105]"
     ]
    },
    {
     "name": "stdout",
     "output_type": "stream",
     "text": [
      "pool1: torch.Size([64, 10, 12, 12])\n",
      "start: torch.Size([64, 1, 28, 28])\n",
      "conv1: torch.Size([64, 10, 24, 24])\n",
      "pool1: torch.Size([64, 10, 12, 12])\n",
      "start: torch.Size([64, 1, 28, 28])\n",
      "conv1: torch.Size([64, 10, 24, 24])\n",
      "pool1: torch.Size([64, 10, 12, 12])\n",
      "start: torch.Size([64, 1, 28, 28])\n",
      "conv1: torch.Size([64, 10, 24, 24])\n",
      "pool1: torch.Size([64, 10, 12, 12])\n",
      "start: torch.Size([64, 1, 28, 28])\n",
      "conv1: torch.Size([64, 10, 24, 24])\n",
      "pool1: torch.Size([64, 10, 12, 12])\n",
      "start: torch.Size([64, 1, 28, 28])\n",
      "conv1: torch.Size([64, 10, 24, 24])\n",
      "pool1: torch.Size([64, 10, 12, 12])\n",
      "start: torch.Size([64, 1, 28, 28])\n",
      "conv1: torch.Size([64, 10, 24, 24])\n",
      "pool1: torch.Size([64, 10, 12, 12])\n",
      "start: torch.Size([64, 1, 28, 28])\n"
     ]
    },
    {
     "name": "stderr",
     "output_type": "stream",
     "text": [
      "Epoch 2:  67%|███████████████████████████▎             | 626/938 [00:16<00:08, 36.42batch/s, accuracy=89.1, loss=0.445]"
     ]
    },
    {
     "name": "stdout",
     "output_type": "stream",
     "text": [
      "conv1: torch.Size([64, 10, 24, 24])\n",
      "pool1: torch.Size([64, 10, 12, 12])\n",
      "start: torch.Size([64, 1, 28, 28])\n",
      "conv1: torch.Size([64, 10, 24, 24])\n",
      "pool1: torch.Size([64, 10, 12, 12])\n",
      "start: torch.Size([64, 1, 28, 28])\n",
      "conv1: torch.Size([64, 10, 24, 24])\n",
      "pool1: torch.Size([64, 10, 12, 12])\n",
      "start: torch.Size([64, 1, 28, 28])\n",
      "conv1: torch.Size([64, 10, 24, 24])\n",
      "pool1: torch.Size([64, 10, 12, 12])\n",
      "start: torch.Size([64, 1, 28, 28])\n",
      "conv1: torch.Size([64, 10, 24, 24])\n",
      "pool1: torch.Size([64, 10, 12, 12])\n",
      "start: torch.Size([64, 1, 28, 28])\n",
      "conv1: torch.Size([64, 10, 24, 24])\n",
      "pool1: torch.Size([64, 10, 12, 12])\n",
      "start: torch.Size([64, 1, 28, 28])\n",
      "conv1: torch.Size([64, 10, 24, 24])\n",
      "pool1: torch.Size([64, 10, 12, 12])\n",
      "start: torch.Size([64, 1, 28, 28])\n"
     ]
    },
    {
     "name": "stderr",
     "output_type": "stream",
     "text": [
      "Epoch 2:  68%|███████████████████████████             | 634/938 [00:17<00:08, 37.38batch/s, accuracy=98.4, loss=0.0639]"
     ]
    },
    {
     "name": "stdout",
     "output_type": "stream",
     "text": [
      "conv1: torch.Size([64, 10, 24, 24])\n",
      "pool1: torch.Size([64, 10, 12, 12])\n",
      "start: torch.Size([64, 1, 28, 28])\n",
      "conv1: torch.Size([64, 10, 24, 24])\n",
      "pool1: torch.Size([64, 10, 12, 12])\n",
      "start: torch.Size([64, 1, 28, 28])\n",
      "conv1: torch.Size([64, 10, 24, 24])\n",
      "pool1: torch.Size([64, 10, 12, 12])\n",
      "start: torch.Size([64, 1, 28, 28])\n",
      "conv1: torch.Size([64, 10, 24, 24])\n",
      "pool1: torch.Size([64, 10, 12, 12])\n",
      "start: torch.Size([64, 1, 28, 28])\n",
      "conv1: torch.Size([64, 10, 24, 24])\n",
      "pool1: torch.Size([64, 10, 12, 12])\n",
      "start: torch.Size([64, 1, 28, 28])\n",
      "conv1: torch.Size([64, 10, 24, 24])\n",
      "pool1: torch.Size([64, 10, 12, 12])\n",
      "start: torch.Size([64, 1, 28, 28])\n",
      "conv1: torch.Size([64, 10, 24, 24])\n",
      "pool1: torch.Size([64, 10, 12, 12])\n",
      "start: torch.Size([64, 1, 28, 28])\n"
     ]
    },
    {
     "name": "stderr",
     "output_type": "stream",
     "text": [
      "Epoch 2:  68%|███████████████████████████▏            | 638/938 [00:17<00:08, 36.02batch/s, accuracy=96.9, loss=0.0716]"
     ]
    },
    {
     "name": "stdout",
     "output_type": "stream",
     "text": [
      "conv1: torch.Size([64, 10, 24, 24])\n",
      "pool1: torch.Size([64, 10, 12, 12])\n",
      "start: torch.Size([64, 1, 28, 28])\n",
      "conv1: torch.Size([64, 10, 24, 24])\n",
      "pool1: torch.Size([64, 10, 12, 12])\n",
      "start: torch.Size([64, 1, 28, 28])\n",
      "conv1: torch.Size([64, 10, 24, 24])\n",
      "pool1: torch.Size([64, 10, 12, 12])\n",
      "start: torch.Size([64, 1, 28, 28])\n",
      "conv1: torch.Size([64, 10, 24, 24])\n",
      "pool1: torch.Size([64, 10, 12, 12])\n",
      "start: torch.Size([64, 1, 28, 28])\n",
      "conv1: torch.Size([64, 10, 24, 24])\n",
      "pool1: torch.Size([64, 10, 12, 12])\n",
      "start: torch.Size([64, 1, 28, 28])\n",
      "conv1: torch.Size([64, 10, 24, 24])\n",
      "pool1: torch.Size([64, 10, 12, 12])\n",
      "start: torch.Size([64, 1, 28, 28])\n",
      "conv1: torch.Size([64, 10, 24, 24])\n",
      "pool1: torch.Size([64, 10, 12, 12])\n",
      "start: torch.Size([64, 1, 28, 28])\n"
     ]
    },
    {
     "name": "stderr",
     "output_type": "stream",
     "text": [
      "Epoch 2:  69%|███████████████████████████▌            | 647/938 [00:17<00:07, 37.61batch/s, accuracy=98.4, loss=0.0987]"
     ]
    },
    {
     "name": "stdout",
     "output_type": "stream",
     "text": [
      "conv1: torch.Size([64, 10, 24, 24])\n",
      "pool1: torch.Size([64, 10, 12, 12])\n",
      "start: torch.Size([64, 1, 28, 28])\n",
      "conv1: torch.Size([64, 10, 24, 24])\n",
      "pool1: torch.Size([64, 10, 12, 12])\n",
      "start: torch.Size([64, 1, 28, 28])\n",
      "conv1: torch.Size([64, 10, 24, 24])\n",
      "pool1: torch.Size([64, 10, 12, 12])\n",
      "start: torch.Size([64, 1, 28, 28])\n",
      "conv1: torch.Size([64, 10, 24, 24])\n",
      "pool1: torch.Size([64, 10, 12, 12])\n",
      "start: torch.Size([64, 1, 28, 28])\n",
      "conv1: torch.Size([64, 10, 24, 24])\n",
      "pool1: torch.Size([64, 10, 12, 12])\n",
      "start: torch.Size([64, 1, 28, 28])\n",
      "conv1: torch.Size([64, 10, 24, 24])\n",
      "pool1: torch.Size([64, 10, 12, 12])\n",
      "start: torch.Size([64, 1, 28, 28])\n",
      "conv1: torch.Size([64, 10, 24, 24])\n",
      "pool1: torch.Size([64, 10, 12, 12])\n",
      "start: torch.Size([64, 1, 28, 28])\n"
     ]
    },
    {
     "name": "stderr",
     "output_type": "stream",
     "text": [
      "Epoch 2:  70%|█████████████████████████████▎            | 655/938 [00:17<00:07, 36.58batch/s, accuracy=95.3, loss=0.16]"
     ]
    },
    {
     "name": "stdout",
     "output_type": "stream",
     "text": [
      "conv1: torch.Size([64, 10, 24, 24])\n",
      "pool1: torch.Size([64, 10, 12, 12])\n",
      "start: torch.Size([64, 1, 28, 28])\n",
      "conv1: torch.Size([64, 10, 24, 24])\n",
      "pool1: torch.Size([64, 10, 12, 12])\n",
      "start: torch.Size([64, 1, 28, 28])\n",
      "conv1: torch.Size([64, 10, 24, 24])\n",
      "pool1: torch.Size([64, 10, 12, 12])\n",
      "start: torch.Size([64, 1, 28, 28])\n",
      "conv1: torch.Size([64, 10, 24, 24])\n",
      "pool1: torch.Size([64, 10, 12, 12])\n",
      "start: torch.Size([64, 1, 28, 28])\n",
      "conv1: torch.Size([64, 10, 24, 24])\n",
      "pool1: torch.Size([64, 10, 12, 12])\n",
      "start: torch.Size([64, 1, 28, 28])\n",
      "conv1: torch.Size([64, 10, 24, 24])\n",
      "pool1: torch.Size([64, 10, 12, 12])\n",
      "start: torch.Size([64, 1, 28, 28])\n",
      "conv1: torch.Size([64, 10, 24, 24])\n",
      "pool1: torch.Size([64, 10, 12, 12])\n"
     ]
    },
    {
     "name": "stderr",
     "output_type": "stream",
     "text": [
      "Epoch 2:  70%|████████████████████████████▊            | 659/938 [00:17<00:07, 36.45batch/s, accuracy=92.2, loss=0.266]"
     ]
    },
    {
     "name": "stdout",
     "output_type": "stream",
     "text": [
      "start: torch.Size([64, 1, 28, 28])\n",
      "conv1: torch.Size([64, 10, 24, 24])\n",
      "pool1: torch.Size([64, 10, 12, 12])\n",
      "start: torch.Size([64, 1, 28, 28])\n",
      "conv1: torch.Size([64, 10, 24, 24])\n",
      "pool1: torch.Size([64, 10, 12, 12])\n",
      "start: torch.Size([64, 1, 28, 28])\n",
      "conv1: torch.Size([64, 10, 24, 24])\n",
      "pool1: torch.Size([64, 10, 12, 12])\n",
      "start: torch.Size([64, 1, 28, 28])\n",
      "conv1: torch.Size([64, 10, 24, 24])\n",
      "pool1: torch.Size([64, 10, 12, 12])\n",
      "start: torch.Size([64, 1, 28, 28])\n",
      "conv1: torch.Size([64, 10, 24, 24])\n",
      "pool1: torch.Size([64, 10, 12, 12])\n",
      "start: torch.Size([64, 1, 28, 28])\n",
      "conv1: torch.Size([64, 10, 24, 24])\n",
      "pool1: torch.Size([64, 10, 12, 12])\n",
      "start: torch.Size([64, 1, 28, 28])\n",
      "conv1: torch.Size([64, 10, 24, 24])\n",
      "pool1: torch.Size([64, 10, 12, 12])\n"
     ]
    },
    {
     "name": "stderr",
     "output_type": "stream",
     "text": [
      "Epoch 2:  71%|█████████████████████████████▏           | 667/938 [00:18<00:07, 35.72batch/s, accuracy=93.8, loss=0.173]"
     ]
    },
    {
     "name": "stdout",
     "output_type": "stream",
     "text": [
      "start: torch.Size([64, 1, 28, 28])\n",
      "conv1: torch.Size([64, 10, 24, 24])\n",
      "pool1: torch.Size([64, 10, 12, 12])\n",
      "start: torch.Size([64, 1, 28, 28])\n",
      "conv1: torch.Size([64, 10, 24, 24])\n",
      "pool1: torch.Size([64, 10, 12, 12])\n",
      "start: torch.Size([64, 1, 28, 28])\n",
      "conv1: torch.Size([64, 10, 24, 24])\n",
      "pool1: torch.Size([64, 10, 12, 12])\n",
      "start: torch.Size([64, 1, 28, 28])\n",
      "conv1: torch.Size([64, 10, 24, 24])\n",
      "pool1: torch.Size([64, 10, 12, 12])\n",
      "start: torch.Size([64, 1, 28, 28])\n",
      "conv1: torch.Size([64, 10, 24, 24])\n",
      "pool1: torch.Size([64, 10, 12, 12])\n",
      "start: torch.Size([64, 1, 28, 28])\n",
      "conv1: torch.Size([64, 10, 24, 24])\n",
      "pool1: torch.Size([64, 10, 12, 12])\n",
      "start: torch.Size([64, 1, 28, 28])\n",
      "conv1: torch.Size([64, 10, 24, 24])\n",
      "pool1: torch.Size([64, 10, 12, 12])\n"
     ]
    },
    {
     "name": "stderr",
     "output_type": "stream",
     "text": [
      "Epoch 2:  72%|█████████████████████████████▌           | 675/938 [00:18<00:07, 35.72batch/s, accuracy=89.1, loss=0.251]"
     ]
    },
    {
     "name": "stdout",
     "output_type": "stream",
     "text": [
      "start: torch.Size([64, 1, 28, 28])\n",
      "conv1: torch.Size([64, 10, 24, 24])\n",
      "pool1: torch.Size([64, 10, 12, 12])\n",
      "start: torch.Size([64, 1, 28, 28])\n",
      "conv1: torch.Size([64, 10, 24, 24])\n",
      "pool1: torch.Size([64, 10, 12, 12])\n",
      "start: torch.Size([64, 1, 28, 28])\n",
      "conv1: torch.Size([64, 10, 24, 24])\n",
      "pool1: torch.Size([64, 10, 12, 12])\n",
      "start: torch.Size([64, 1, 28, 28])\n",
      "conv1: torch.Size([64, 10, 24, 24])\n",
      "pool1: torch.Size([64, 10, 12, 12])\n",
      "start: torch.Size([64, 1, 28, 28])\n",
      "conv1: torch.Size([64, 10, 24, 24])\n",
      "pool1: torch.Size([64, 10, 12, 12])\n",
      "start: torch.Size([64, 1, 28, 28])\n",
      "conv1: torch.Size([64, 10, 24, 24])\n",
      "pool1: torch.Size([64, 10, 12, 12])\n",
      "start: torch.Size([64, 1, 28, 28])\n",
      "conv1: torch.Size([64, 10, 24, 24])\n",
      "pool1: torch.Size([64, 10, 12, 12])\n",
      "start: torch.Size([64, 1, 28, 28])\n"
     ]
    },
    {
     "name": "stderr",
     "output_type": "stream",
     "text": [
      "Epoch 2:  73%|█████████████████████████████▊           | 683/938 [00:18<00:07, 35.79batch/s, accuracy=96.9, loss=0.174]"
     ]
    },
    {
     "name": "stdout",
     "output_type": "stream",
     "text": [
      "conv1: torch.Size([64, 10, 24, 24])\n",
      "pool1: torch.Size([64, 10, 12, 12])\n",
      "start: torch.Size([64, 1, 28, 28])\n",
      "conv1: torch.Size([64, 10, 24, 24])\n",
      "pool1: torch.Size([64, 10, 12, 12])\n",
      "start: torch.Size([64, 1, 28, 28])\n",
      "conv1: torch.Size([64, 10, 24, 24])\n",
      "pool1: torch.Size([64, 10, 12, 12])\n",
      "start: torch.Size([64, 1, 28, 28])\n",
      "conv1: torch.Size([64, 10, 24, 24])\n",
      "pool1: torch.Size([64, 10, 12, 12])\n",
      "start: torch.Size([64, 1, 28, 28])\n",
      "conv1: torch.Size([64, 10, 24, 24])\n",
      "pool1: torch.Size([64, 10, 12, 12])\n",
      "start: torch.Size([64, 1, 28, 28])\n",
      "conv1: torch.Size([64, 10, 24, 24])\n",
      "pool1: torch.Size([64, 10, 12, 12])\n",
      "start: torch.Size([64, 1, 28, 28])\n",
      "conv1: torch.Size([64, 10, 24, 24])\n",
      "pool1: torch.Size([64, 10, 12, 12])\n"
     ]
    },
    {
     "name": "stderr",
     "output_type": "stream",
     "text": [
      "Epoch 2:  73%|██████████████████████████████           | 687/938 [00:18<00:07, 35.70batch/s, accuracy=90.6, loss=0.168]"
     ]
    },
    {
     "name": "stdout",
     "output_type": "stream",
     "text": [
      "start: torch.Size([64, 1, 28, 28])\n",
      "conv1: torch.Size([64, 10, 24, 24])\n",
      "pool1: torch.Size([64, 10, 12, 12])\n",
      "start: torch.Size([64, 1, 28, 28])\n",
      "conv1: torch.Size([64, 10, 24, 24])\n",
      "pool1: torch.Size([64, 10, 12, 12])\n",
      "start: torch.Size([64, 1, 28, 28])\n",
      "conv1: torch.Size([64, 10, 24, 24])\n",
      "pool1: torch.Size([64, 10, 12, 12])\n",
      "start: torch.Size([64, 1, 28, 28])\n",
      "conv1: torch.Size([64, 10, 24, 24])\n",
      "pool1: torch.Size([64, 10, 12, 12])\n",
      "start: torch.Size([64, 1, 28, 28])\n",
      "conv1: torch.Size([64, 10, 24, 24])\n",
      "pool1: torch.Size([64, 10, 12, 12])\n",
      "start: torch.Size([64, 1, 28, 28])\n",
      "conv1: torch.Size([64, 10, 24, 24])\n",
      "pool1: torch.Size([64, 10, 12, 12])\n",
      "start: torch.Size([64, 1, 28, 28])\n",
      "conv1: torch.Size([64, 10, 24, 24])\n",
      "pool1: torch.Size([64, 10, 12, 12])\n",
      "start: torch.Size([64, 1, 28, 28])\n"
     ]
    },
    {
     "name": "stderr",
     "output_type": "stream",
     "text": [
      "Epoch 2:  74%|██████████████████████████████▍          | 695/938 [00:18<00:06, 35.67batch/s, accuracy=95.3, loss=0.183]"
     ]
    },
    {
     "name": "stdout",
     "output_type": "stream",
     "text": [
      "conv1: torch.Size([64, 10, 24, 24])\n",
      "pool1: torch.Size([64, 10, 12, 12])\n",
      "start: torch.Size([64, 1, 28, 28])\n",
      "conv1: torch.Size([64, 10, 24, 24])\n",
      "pool1: torch.Size([64, 10, 12, 12])\n",
      "start: torch.Size([64, 1, 28, 28])\n",
      "conv1: torch.Size([64, 10, 24, 24])\n",
      "pool1: torch.Size([64, 10, 12, 12])\n",
      "start: torch.Size([64, 1, 28, 28])\n",
      "conv1: torch.Size([64, 10, 24, 24])\n",
      "pool1: torch.Size([64, 10, 12, 12])\n",
      "start: torch.Size([64, 1, 28, 28])\n",
      "conv1: torch.Size([64, 10, 24, 24])\n",
      "pool1: torch.Size([64, 10, 12, 12])\n",
      "start: torch.Size([64, 1, 28, 28])\n",
      "conv1: torch.Size([64, 10, 24, 24])\n",
      "pool1: torch.Size([64, 10, 12, 12])\n",
      "start: torch.Size([64, 1, 28, 28])\n",
      "conv1: torch.Size([64, 10, 24, 24])\n",
      "pool1: torch.Size([64, 10, 12, 12])\n"
     ]
    },
    {
     "name": "stderr",
     "output_type": "stream",
     "text": [
      "Epoch 2:  75%|██████████████████████████████▊          | 704/938 [00:19<00:06, 37.10batch/s, accuracy=93.8, loss=0.263]"
     ]
    },
    {
     "name": "stdout",
     "output_type": "stream",
     "text": [
      "start: torch.Size([64, 1, 28, 28])\n",
      "conv1: torch.Size([64, 10, 24, 24])\n",
      "pool1: torch.Size([64, 10, 12, 12])\n",
      "start: torch.Size([64, 1, 28, 28])\n",
      "conv1: torch.Size([64, 10, 24, 24])\n",
      "pool1: torch.Size([64, 10, 12, 12])\n",
      "start: torch.Size([64, 1, 28, 28])\n",
      "conv1: torch.Size([64, 10, 24, 24])\n",
      "pool1: torch.Size([64, 10, 12, 12])\n",
      "start: torch.Size([64, 1, 28, 28])\n",
      "conv1: torch.Size([64, 10, 24, 24])\n",
      "pool1: torch.Size([64, 10, 12, 12])\n",
      "start: torch.Size([64, 1, 28, 28])\n",
      "conv1: torch.Size([64, 10, 24, 24])\n",
      "pool1: torch.Size([64, 10, 12, 12])\n",
      "start: torch.Size([64, 1, 28, 28])\n",
      "conv1: torch.Size([64, 10, 24, 24])\n",
      "pool1: torch.Size([64, 10, 12, 12])\n",
      "start: torch.Size([64, 1, 28, 28])\n",
      "conv1: torch.Size([64, 10, 24, 24])\n",
      "pool1: torch.Size([64, 10, 12, 12])\n",
      "start: torch.Size([64, 1, 28, 28])\n"
     ]
    },
    {
     "name": "stderr",
     "output_type": "stream",
     "text": [
      "Epoch 2:  75%|██████████████████████████████▉          | 708/938 [00:19<00:06, 37.11batch/s, accuracy=92.2, loss=0.264]"
     ]
    },
    {
     "name": "stdout",
     "output_type": "stream",
     "text": [
      "conv1: torch.Size([64, 10, 24, 24])\n",
      "pool1: torch.Size([64, 10, 12, 12])\n",
      "start: torch.Size([64, 1, 28, 28])\n",
      "conv1: torch.Size([64, 10, 24, 24])\n",
      "pool1: torch.Size([64, 10, 12, 12])\n",
      "start: torch.Size([64, 1, 28, 28])\n",
      "conv1: torch.Size([64, 10, 24, 24])\n",
      "pool1: torch.Size([64, 10, 12, 12])\n",
      "start: torch.Size([64, 1, 28, 28])\n",
      "conv1: torch.Size([64, 10, 24, 24])\n",
      "pool1: torch.Size([64, 10, 12, 12])\n",
      "start: torch.Size([64, 1, 28, 28])\n",
      "conv1: torch.Size([64, 10, 24, 24])\n",
      "pool1: torch.Size([64, 10, 12, 12])\n",
      "start: torch.Size([64, 1, 28, 28])\n",
      "conv1: torch.Size([64, 10, 24, 24])\n",
      "pool1: torch.Size([64, 10, 12, 12])\n",
      "start: torch.Size([64, 1, 28, 28])\n",
      "conv1: torch.Size([64, 10, 24, 24])\n",
      "pool1: torch.Size([64, 10, 12, 12])\n",
      "start: torch.Size([64, 1, 28, 28])\n"
     ]
    },
    {
     "name": "stderr",
     "output_type": "stream",
     "text": [
      "Epoch 2:  76%|██████████████████████████████▌         | 716/938 [00:19<00:06, 36.94batch/s, accuracy=98.4, loss=0.0397]"
     ]
    },
    {
     "name": "stdout",
     "output_type": "stream",
     "text": [
      "conv1: torch.Size([64, 10, 24, 24])\n",
      "pool1: torch.Size([64, 10, 12, 12])\n",
      "start: torch.Size([64, 1, 28, 28])\n",
      "conv1: torch.Size([64, 10, 24, 24])\n",
      "pool1: torch.Size([64, 10, 12, 12])\n",
      "start: torch.Size([64, 1, 28, 28])\n",
      "conv1: torch.Size([64, 10, 24, 24])\n",
      "pool1: torch.Size([64, 10, 12, 12])\n",
      "start: torch.Size([64, 1, 28, 28])\n",
      "conv1: torch.Size([64, 10, 24, 24])\n",
      "pool1: torch.Size([64, 10, 12, 12])\n",
      "start: torch.Size([64, 1, 28, 28])\n",
      "conv1: torch.Size([64, 10, 24, 24])\n",
      "pool1: torch.Size([64, 10, 12, 12])\n",
      "start: torch.Size([64, 1, 28, 28])\n",
      "conv1: torch.Size([64, 10, 24, 24])\n",
      "pool1: torch.Size([64, 10, 12, 12])\n",
      "start: torch.Size([64, 1, 28, 28])\n",
      "conv1: torch.Size([64, 10, 24, 24])\n",
      "pool1: torch.Size([64, 10, 12, 12])\n",
      "start: torch.Size([64, 1, 28, 28])\n"
     ]
    },
    {
     "name": "stderr",
     "output_type": "stream",
     "text": [
      "Epoch 2:  77%|███████████████████████████████▋         | 724/938 [00:19<00:05, 35.86batch/s, accuracy=93.8, loss=0.213]"
     ]
    },
    {
     "name": "stdout",
     "output_type": "stream",
     "text": [
      "conv1: torch.Size([64, 10, 24, 24])\n",
      "pool1: torch.Size([64, 10, 12, 12])\n",
      "start: torch.Size([64, 1, 28, 28])\n",
      "conv1: torch.Size([64, 10, 24, 24])\n",
      "pool1: torch.Size([64, 10, 12, 12])\n",
      "start: torch.Size([64, 1, 28, 28])\n",
      "conv1: torch.Size([64, 10, 24, 24])\n",
      "pool1: torch.Size([64, 10, 12, 12])\n",
      "start: torch.Size([64, 1, 28, 28])\n",
      "conv1: torch.Size([64, 10, 24, 24])\n",
      "pool1: torch.Size([64, 10, 12, 12])\n",
      "start: torch.Size([64, 1, 28, 28])\n",
      "conv1: torch.Size([64, 10, 24, 24])\n",
      "pool1: torch.Size([64, 10, 12, 12])\n",
      "start: torch.Size([64, 1, 28, 28])\n",
      "conv1: torch.Size([64, 10, 24, 24])\n",
      "pool1: torch.Size([64, 10, 12, 12])\n",
      "start: torch.Size([64, 1, 28, 28])\n",
      "conv1: torch.Size([64, 10, 24, 24])\n",
      "pool1: torch.Size([64, 10, 12, 12])\n",
      "start: torch.Size([64, 1, 28, 28])\n"
     ]
    },
    {
     "name": "stderr",
     "output_type": "stream",
     "text": [
      "Epoch 2:  78%|████████████████████████████████▊         | 732/938 [00:19<00:05, 36.52batch/s, accuracy=92.2, loss=0.23]"
     ]
    },
    {
     "name": "stdout",
     "output_type": "stream",
     "text": [
      "conv1: torch.Size([64, 10, 24, 24])\n",
      "pool1: torch.Size([64, 10, 12, 12])\n",
      "start: torch.Size([64, 1, 28, 28])\n",
      "conv1: torch.Size([64, 10, 24, 24])\n",
      "pool1: torch.Size([64, 10, 12, 12])\n",
      "start: torch.Size([64, 1, 28, 28])\n",
      "conv1: torch.Size([64, 10, 24, 24])\n",
      "pool1: torch.Size([64, 10, 12, 12])\n",
      "start: torch.Size([64, 1, 28, 28])\n",
      "conv1: torch.Size([64, 10, 24, 24])\n",
      "pool1: torch.Size([64, 10, 12, 12])\n",
      "start: torch.Size([64, 1, 28, 28])\n",
      "conv1: torch.Size([64, 10, 24, 24])\n",
      "pool1: torch.Size([64, 10, 12, 12])\n",
      "start: torch.Size([64, 1, 28, 28])\n",
      "conv1: torch.Size([64, 10, 24, 24])\n",
      "pool1: torch.Size([64, 10, 12, 12])\n",
      "start: torch.Size([64, 1, 28, 28])\n",
      "conv1: torch.Size([64, 10, 24, 24])\n",
      "pool1: torch.Size([64, 10, 12, 12])\n",
      "start: torch.Size([64, 1, 28, 28])\n"
     ]
    },
    {
     "name": "stderr",
     "output_type": "stream",
     "text": [
      "Epoch 2:  78%|████████████████████████████████▏        | 736/938 [00:20<00:05, 36.30batch/s, accuracy=92.2, loss=0.347]"
     ]
    },
    {
     "name": "stdout",
     "output_type": "stream",
     "text": [
      "conv1: torch.Size([64, 10, 24, 24])\n",
      "pool1: torch.Size([64, 10, 12, 12])\n",
      "start: torch.Size([64, 1, 28, 28])\n",
      "conv1: torch.Size([64, 10, 24, 24])\n",
      "pool1: torch.Size([64, 10, 12, 12])\n",
      "start: torch.Size([64, 1, 28, 28])\n",
      "conv1: torch.Size([64, 10, 24, 24])\n",
      "pool1: torch.Size([64, 10, 12, 12])\n",
      "start: torch.Size([64, 1, 28, 28])\n",
      "conv1: torch.Size([64, 10, 24, 24])\n",
      "pool1: torch.Size([64, 10, 12, 12])\n",
      "start: torch.Size([64, 1, 28, 28])\n",
      "conv1: torch.Size([64, 10, 24, 24])\n",
      "pool1: torch.Size([64, 10, 12, 12])\n",
      "start: torch.Size([64, 1, 28, 28])\n",
      "conv1: torch.Size([64, 10, 24, 24])\n",
      "pool1: torch.Size([64, 10, 12, 12])\n",
      "start: torch.Size([64, 1, 28, 28])\n",
      "conv1: torch.Size([64, 10, 24, 24])\n",
      "pool1: torch.Size([64, 10, 12, 12])\n"
     ]
    },
    {
     "name": "stderr",
     "output_type": "stream",
     "text": [
      "Epoch 2:  79%|████████████████████████████████▌        | 744/938 [00:20<00:05, 37.42batch/s, accuracy=92.2, loss=0.209]"
     ]
    },
    {
     "name": "stdout",
     "output_type": "stream",
     "text": [
      "start: torch.Size([64, 1, 28, 28])\n",
      "conv1: torch.Size([64, 10, 24, 24])\n",
      "pool1: torch.Size([64, 10, 12, 12])\n",
      "start: torch.Size([64, 1, 28, 28])\n",
      "conv1: torch.Size([64, 10, 24, 24])\n",
      "pool1: torch.Size([64, 10, 12, 12])\n",
      "start: torch.Size([64, 1, 28, 28])\n",
      "conv1: torch.Size([64, 10, 24, 24])\n",
      "pool1: torch.Size([64, 10, 12, 12])\n",
      "start: torch.Size([64, 1, 28, 28])\n",
      "conv1: torch.Size([64, 10, 24, 24])\n",
      "pool1: torch.Size([64, 10, 12, 12])\n",
      "start: torch.Size([64, 1, 28, 28])\n",
      "conv1: torch.Size([64, 10, 24, 24])\n",
      "pool1: torch.Size([64, 10, 12, 12])\n",
      "start: torch.Size([64, 1, 28, 28])\n",
      "conv1: torch.Size([64, 10, 24, 24])\n",
      "pool1: torch.Size([64, 10, 12, 12])\n",
      "start: torch.Size([64, 1, 28, 28])\n",
      "conv1: torch.Size([64, 10, 24, 24])\n",
      "pool1: torch.Size([64, 10, 12, 12])\n",
      "start: torch.Size([64, 1, 28, 28])\n"
     ]
    },
    {
     "name": "stderr",
     "output_type": "stream",
     "text": [
      "Epoch 2:  80%|████████████████████████████████▊        | 752/938 [00:20<00:05, 36.82batch/s, accuracy=93.8, loss=0.292]"
     ]
    },
    {
     "name": "stdout",
     "output_type": "stream",
     "text": [
      "conv1: torch.Size([64, 10, 24, 24])\n",
      "pool1: torch.Size([64, 10, 12, 12])\n",
      "start: torch.Size([64, 1, 28, 28])\n",
      "conv1: torch.Size([64, 10, 24, 24])\n",
      "pool1: torch.Size([64, 10, 12, 12])\n",
      "start: torch.Size([64, 1, 28, 28])\n",
      "conv1: torch.Size([64, 10, 24, 24])\n",
      "pool1: torch.Size([64, 10, 12, 12])\n",
      "start: torch.Size([64, 1, 28, 28])\n",
      "conv1: torch.Size([64, 10, 24, 24])\n",
      "pool1: torch.Size([64, 10, 12, 12])\n",
      "start: torch.Size([64, 1, 28, 28])\n",
      "conv1: torch.Size([64, 10, 24, 24])\n",
      "pool1: torch.Size([64, 10, 12, 12])\n",
      "start: torch.Size([64, 1, 28, 28])\n",
      "conv1: torch.Size([64, 10, 24, 24])\n",
      "pool1: torch.Size([64, 10, 12, 12])\n",
      "start: torch.Size([64, 1, 28, 28])\n",
      "conv1: torch.Size([64, 10, 24, 24])\n",
      "pool1: torch.Size([64, 10, 12, 12])\n"
     ]
    },
    {
     "name": "stderr",
     "output_type": "stream",
     "text": [
      "Epoch 2:  81%|█████████████████████████████████▏       | 760/938 [00:20<00:04, 37.64batch/s, accuracy=93.8, loss=0.128]"
     ]
    },
    {
     "name": "stdout",
     "output_type": "stream",
     "text": [
      "start: torch.Size([64, 1, 28, 28])\n",
      "conv1: torch.Size([64, 10, 24, 24])\n",
      "pool1: torch.Size([64, 10, 12, 12])\n",
      "start: torch.Size([64, 1, 28, 28])\n",
      "conv1: torch.Size([64, 10, 24, 24])\n",
      "pool1: torch.Size([64, 10, 12, 12])\n",
      "start: torch.Size([64, 1, 28, 28])\n",
      "conv1: torch.Size([64, 10, 24, 24])\n",
      "pool1: torch.Size([64, 10, 12, 12])\n",
      "start: torch.Size([64, 1, 28, 28])\n",
      "conv1: torch.Size([64, 10, 24, 24])\n",
      "pool1: torch.Size([64, 10, 12, 12])\n",
      "start: torch.Size([64, 1, 28, 28])\n",
      "conv1: torch.Size([64, 10, 24, 24])\n",
      "pool1: torch.Size([64, 10, 12, 12])\n",
      "start: torch.Size([64, 1, 28, 28])\n",
      "conv1: torch.Size([64, 10, 24, 24])\n",
      "pool1: torch.Size([64, 10, 12, 12])\n",
      "start: torch.Size([64, 1, 28, 28])\n",
      "conv1: torch.Size([64, 10, 24, 24])\n",
      "pool1: torch.Size([64, 10, 12, 12])\n",
      "start: torch.Size([64, 1, 28, 28])\n",
      "conv1: torch.Size([64, 10, 24, 24])\n",
      "pool1: torch.Size([64, 10, 12, 12])\n"
     ]
    },
    {
     "name": "stderr",
     "output_type": "stream",
     "text": [
      "Epoch 2:  81%|█████████████████████████████████▍       | 764/938 [00:20<00:04, 37.07batch/s, accuracy=95.3, loss=0.374]"
     ]
    },
    {
     "name": "stdout",
     "output_type": "stream",
     "text": [
      "start: torch.Size([64, 1, 28, 28])\n",
      "conv1: torch.Size([64, 10, 24, 24])\n",
      "pool1: torch.Size([64, 10, 12, 12])\n",
      "start: torch.Size([64, 1, 28, 28])\n",
      "conv1: torch.Size([64, 10, 24, 24])\n",
      "pool1: torch.Size([64, 10, 12, 12])\n",
      "start: torch.Size([64, 1, 28, 28])\n",
      "conv1: torch.Size([64, 10, 24, 24])\n",
      "pool1: torch.Size([64, 10, 12, 12])\n",
      "start: torch.Size([64, 1, 28, 28])\n",
      "conv1: torch.Size([64, 10, 24, 24])\n",
      "pool1: torch.Size([64, 10, 12, 12])\n",
      "start: torch.Size([64, 1, 28, 28])\n",
      "conv1: torch.Size([64, 10, 24, 24])\n",
      "pool1: torch.Size([64, 10, 12, 12])\n",
      "start: torch.Size([64, 1, 28, 28])\n",
      "conv1: torch.Size([64, 10, 24, 24])\n",
      "pool1: torch.Size([64, 10, 12, 12])\n",
      "start: torch.Size([64, 1, 28, 28])\n",
      "conv1: torch.Size([64, 10, 24, 24])\n",
      "pool1: torch.Size([64, 10, 12, 12])\n"
     ]
    },
    {
     "name": "stderr",
     "output_type": "stream",
     "text": [
      "Epoch 2:  82%|█████████████████████████████████▋       | 772/938 [00:20<00:04, 35.72batch/s, accuracy=95.3, loss=0.199]"
     ]
    },
    {
     "name": "stdout",
     "output_type": "stream",
     "text": [
      "start: torch.Size([64, 1, 28, 28])\n",
      "conv1: torch.Size([64, 10, 24, 24])\n",
      "pool1: torch.Size([64, 10, 12, 12])\n",
      "start: torch.Size([64, 1, 28, 28])\n",
      "conv1: torch.Size([64, 10, 24, 24])\n",
      "pool1: torch.Size([64, 10, 12, 12])\n",
      "start: torch.Size([64, 1, 28, 28])\n",
      "conv1: torch.Size([64, 10, 24, 24])\n",
      "pool1: torch.Size([64, 10, 12, 12])\n",
      "start: torch.Size([64, 1, 28, 28])\n",
      "conv1: torch.Size([64, 10, 24, 24])\n",
      "pool1: torch.Size([64, 10, 12, 12])\n",
      "start: torch.Size([64, 1, 28, 28])\n",
      "conv1: torch.Size([64, 10, 24, 24])\n",
      "pool1: torch.Size([64, 10, 12, 12])\n",
      "start: torch.Size([64, 1, 28, 28])\n",
      "conv1: torch.Size([64, 10, 24, 24])\n",
      "pool1: torch.Size([64, 10, 12, 12])\n",
      "start: torch.Size([64, 1, 28, 28])\n",
      "conv1: torch.Size([64, 10, 24, 24])\n",
      "pool1: torch.Size([64, 10, 12, 12])\n"
     ]
    },
    {
     "name": "stderr",
     "output_type": "stream",
     "text": [
      "Epoch 2:  83%|█████████████████████████████████▎      | 780/938 [00:21<00:04, 35.03batch/s, accuracy=96.9, loss=0.0897]"
     ]
    },
    {
     "name": "stdout",
     "output_type": "stream",
     "text": [
      "start: torch.Size([64, 1, 28, 28])\n",
      "conv1: torch.Size([64, 10, 24, 24])\n",
      "pool1: torch.Size([64, 10, 12, 12])\n",
      "start: torch.Size([64, 1, 28, 28])\n",
      "conv1: torch.Size([64, 10, 24, 24])\n",
      "pool1: torch.Size([64, 10, 12, 12])\n",
      "start: torch.Size([64, 1, 28, 28])\n",
      "conv1: torch.Size([64, 10, 24, 24])\n",
      "pool1: torch.Size([64, 10, 12, 12])\n",
      "start: torch.Size([64, 1, 28, 28])\n",
      "conv1: torch.Size([64, 10, 24, 24])\n",
      "pool1: torch.Size([64, 10, 12, 12])\n",
      "start: torch.Size([64, 1, 28, 28])\n",
      "conv1: torch.Size([64, 10, 24, 24])\n",
      "pool1: torch.Size([64, 10, 12, 12])\n",
      "start: torch.Size([64, 1, 28, 28])\n",
      "conv1: torch.Size([64, 10, 24, 24])\n",
      "pool1: torch.Size([64, 10, 12, 12])\n",
      "start: torch.Size([64, 1, 28, 28])\n",
      "conv1: torch.Size([64, 10, 24, 24])\n",
      "pool1: torch.Size([64, 10, 12, 12])\n",
      "start: torch.Size([64, 1, 28, 28])\n"
     ]
    },
    {
     "name": "stderr",
     "output_type": "stream",
     "text": [
      "Epoch 2:  84%|██████████████████████████████████▍      | 789/938 [00:21<00:04, 36.26batch/s, accuracy=93.8, loss=0.233]"
     ]
    },
    {
     "name": "stdout",
     "output_type": "stream",
     "text": [
      "conv1: torch.Size([64, 10, 24, 24])\n",
      "pool1: torch.Size([64, 10, 12, 12])\n",
      "start: torch.Size([64, 1, 28, 28])\n",
      "conv1: torch.Size([64, 10, 24, 24])\n",
      "pool1: torch.Size([64, 10, 12, 12])\n",
      "start: torch.Size([64, 1, 28, 28])\n",
      "conv1: torch.Size([64, 10, 24, 24])\n",
      "pool1: torch.Size([64, 10, 12, 12])\n",
      "start: torch.Size([64, 1, 28, 28])\n",
      "conv1: torch.Size([64, 10, 24, 24])\n",
      "pool1: torch.Size([64, 10, 12, 12])\n",
      "start: torch.Size([64, 1, 28, 28])\n",
      "conv1: torch.Size([64, 10, 24, 24])\n",
      "pool1: torch.Size([64, 10, 12, 12])\n",
      "start: torch.Size([64, 1, 28, 28])\n",
      "conv1: torch.Size([64, 10, 24, 24])\n",
      "pool1: torch.Size([64, 10, 12, 12])\n",
      "start: torch.Size([64, 1, 28, 28])\n",
      "conv1: torch.Size([64, 10, 24, 24])\n",
      "pool1: torch.Size([64, 10, 12, 12])\n",
      "start: torch.Size([64, 1, 28, 28])\n"
     ]
    },
    {
     "name": "stderr",
     "output_type": "stream",
     "text": [
      "Epoch 2:  85%|██████████████████████████████████▋      | 794/938 [00:21<00:03, 37.56batch/s, accuracy=93.8, loss=0.238]"
     ]
    },
    {
     "name": "stdout",
     "output_type": "stream",
     "text": [
      "conv1: torch.Size([64, 10, 24, 24])\n",
      "pool1: torch.Size([64, 10, 12, 12])\n",
      "start: torch.Size([64, 1, 28, 28])\n",
      "conv1: torch.Size([64, 10, 24, 24])\n",
      "pool1: torch.Size([64, 10, 12, 12])\n",
      "start: torch.Size([64, 1, 28, 28])\n",
      "conv1: torch.Size([64, 10, 24, 24])\n",
      "pool1: torch.Size([64, 10, 12, 12])\n",
      "start: torch.Size([64, 1, 28, 28])\n",
      "conv1: torch.Size([64, 10, 24, 24])\n",
      "pool1: torch.Size([64, 10, 12, 12])\n",
      "start: torch.Size([64, 1, 28, 28])\n",
      "conv1: torch.Size([64, 10, 24, 24])\n",
      "pool1: torch.Size([64, 10, 12, 12])\n",
      "start: torch.Size([64, 1, 28, 28])\n",
      "conv1: torch.Size([64, 10, 24, 24])\n",
      "pool1: torch.Size([64, 10, 12, 12])\n",
      "start: torch.Size([64, 1, 28, 28])\n",
      "conv1: torch.Size([64, 10, 24, 24])\n",
      "pool1: torch.Size([64, 10, 12, 12])\n",
      "start: torch.Size([64, 1, 28, 28])\n"
     ]
    },
    {
     "name": "stderr",
     "output_type": "stream",
     "text": [
      "Epoch 2:  86%|███████████████████████████████████      | 802/938 [00:21<00:03, 37.17batch/s, accuracy=93.8, loss=0.351]"
     ]
    },
    {
     "name": "stdout",
     "output_type": "stream",
     "text": [
      "conv1: torch.Size([64, 10, 24, 24])\n",
      "pool1: torch.Size([64, 10, 12, 12])\n",
      "start: torch.Size([64, 1, 28, 28])\n",
      "conv1: torch.Size([64, 10, 24, 24])\n",
      "pool1: torch.Size([64, 10, 12, 12])\n",
      "start: torch.Size([64, 1, 28, 28])\n",
      "conv1: torch.Size([64, 10, 24, 24])\n",
      "pool1: torch.Size([64, 10, 12, 12])\n",
      "start: torch.Size([64, 1, 28, 28])\n",
      "conv1: torch.Size([64, 10, 24, 24])\n",
      "pool1: torch.Size([64, 10, 12, 12])\n",
      "start: torch.Size([64, 1, 28, 28])\n",
      "conv1: torch.Size([64, 10, 24, 24])\n",
      "pool1: torch.Size([64, 10, 12, 12])\n",
      "start: torch.Size([64, 1, 28, 28])\n",
      "conv1: torch.Size([64, 10, 24, 24])\n",
      "pool1: torch.Size([64, 10, 12, 12])\n",
      "start: torch.Size([64, 1, 28, 28])\n",
      "conv1: torch.Size([64, 10, 24, 24])\n",
      "pool1: torch.Size([64, 10, 12, 12])\n",
      "start: torch.Size([64, 1, 28, 28])\n"
     ]
    },
    {
     "name": "stderr",
     "output_type": "stream",
     "text": [
      "Epoch 2:  86%|████████████████████████████████████      | 806/938 [00:21<00:03, 36.77batch/s, accuracy=100, loss=0.028]"
     ]
    },
    {
     "name": "stdout",
     "output_type": "stream",
     "text": [
      "conv1: torch.Size([64, 10, 24, 24])\n",
      "pool1: torch.Size([64, 10, 12, 12])\n",
      "start: torch.Size([64, 1, 28, 28])\n",
      "conv1: torch.Size([64, 10, 24, 24])\n",
      "pool1: torch.Size([64, 10, 12, 12])\n",
      "start: torch.Size([64, 1, 28, 28])\n",
      "conv1: torch.Size([64, 10, 24, 24])\n",
      "pool1: torch.Size([64, 10, 12, 12])\n",
      "start: torch.Size([64, 1, 28, 28])\n",
      "conv1: torch.Size([64, 10, 24, 24])\n",
      "pool1: torch.Size([64, 10, 12, 12])\n",
      "start: torch.Size([64, 1, 28, 28])\n",
      "conv1: torch.Size([64, 10, 24, 24])\n",
      "pool1: torch.Size([64, 10, 12, 12])\n",
      "start: torch.Size([64, 1, 28, 28])\n",
      "conv1: torch.Size([64, 10, 24, 24])\n",
      "pool1: torch.Size([64, 10, 12, 12])\n",
      "start: torch.Size([64, 1, 28, 28])\n",
      "conv1: torch.Size([64, 10, 24, 24])\n",
      "pool1: torch.Size([64, 10, 12, 12])\n"
     ]
    },
    {
     "name": "stderr",
     "output_type": "stream",
     "text": [
      "Epoch 2:  87%|██████████████████████████████████▋     | 814/938 [00:22<00:03, 36.90batch/s, accuracy=95.3, loss=0.0968]"
     ]
    },
    {
     "name": "stdout",
     "output_type": "stream",
     "text": [
      "start: torch.Size([64, 1, 28, 28])\n",
      "conv1: torch.Size([64, 10, 24, 24])\n",
      "pool1: torch.Size([64, 10, 12, 12])\n",
      "start: torch.Size([64, 1, 28, 28])\n",
      "conv1: torch.Size([64, 10, 24, 24])\n",
      "pool1: torch.Size([64, 10, 12, 12])\n",
      "start: torch.Size([64, 1, 28, 28])\n",
      "conv1: torch.Size([64, 10, 24, 24])\n",
      "pool1: torch.Size([64, 10, 12, 12])\n",
      "start: torch.Size([64, 1, 28, 28])\n",
      "conv1: torch.Size([64, 10, 24, 24])\n",
      "pool1: torch.Size([64, 10, 12, 12])\n",
      "start: torch.Size([64, 1, 28, 28])\n",
      "conv1: torch.Size([64, 10, 24, 24])\n",
      "pool1: torch.Size([64, 10, 12, 12])\n",
      "start: torch.Size([64, 1, 28, 28])\n",
      "conv1: torch.Size([64, 10, 24, 24])\n",
      "pool1: torch.Size([64, 10, 12, 12])\n",
      "start: torch.Size([64, 1, 28, 28])\n",
      "conv1: torch.Size([64, 10, 24, 24])\n",
      "pool1: torch.Size([64, 10, 12, 12])\n",
      "start: torch.Size([64, 1, 28, 28])\n",
      "conv1: torch.Size([64, 10, 24, 24])\n",
      "pool1: torch.Size([64, 10, 12, 12])\n"
     ]
    },
    {
     "name": "stderr",
     "output_type": "stream",
     "text": [
      "Epoch 2:  88%|███████████████████████████████████▉     | 822/938 [00:22<00:03, 37.26batch/s, accuracy=95.3, loss=0.148]"
     ]
    },
    {
     "name": "stdout",
     "output_type": "stream",
     "text": [
      "start: torch.Size([64, 1, 28, 28])\n",
      "conv1: torch.Size([64, 10, 24, 24])\n",
      "pool1: torch.Size([64, 10, 12, 12])\n",
      "start: torch.Size([64, 1, 28, 28])\n",
      "conv1: torch.Size([64, 10, 24, 24])\n",
      "pool1: torch.Size([64, 10, 12, 12])\n",
      "start: torch.Size([64, 1, 28, 28])\n",
      "conv1: torch.Size([64, 10, 24, 24])\n",
      "pool1: torch.Size([64, 10, 12, 12])\n",
      "start: torch.Size([64, 1, 28, 28])\n",
      "conv1: torch.Size([64, 10, 24, 24])\n",
      "pool1: torch.Size([64, 10, 12, 12])\n",
      "start: torch.Size([64, 1, 28, 28])\n",
      "conv1: torch.Size([64, 10, 24, 24])\n",
      "pool1: torch.Size([64, 10, 12, 12])\n",
      "start: torch.Size([64, 1, 28, 28])\n",
      "conv1: torch.Size([64, 10, 24, 24])\n",
      "pool1: torch.Size([64, 10, 12, 12])\n",
      "start: torch.Size([64, 1, 28, 28])\n",
      "conv1: torch.Size([64, 10, 24, 24])\n",
      "pool1: torch.Size([64, 10, 12, 12])\n",
      "start: torch.Size([64, 1, 28, 28])\n",
      "conv1: torch.Size([64, 10, 24, 24])\n"
     ]
    },
    {
     "name": "stderr",
     "output_type": "stream",
     "text": [
      "Epoch 2:  89%|████████████████████████████████████▎    | 831/938 [00:22<00:02, 38.99batch/s, accuracy=96.9, loss=0.077]"
     ]
    },
    {
     "name": "stdout",
     "output_type": "stream",
     "text": [
      "pool1: torch.Size([64, 10, 12, 12])\n",
      "start: torch.Size([64, 1, 28, 28])\n",
      "conv1: torch.Size([64, 10, 24, 24])\n",
      "pool1: torch.Size([64, 10, 12, 12])\n",
      "start: torch.Size([64, 1, 28, 28])\n",
      "conv1: torch.Size([64, 10, 24, 24])\n",
      "pool1: torch.Size([64, 10, 12, 12])\n",
      "start: torch.Size([64, 1, 28, 28])\n",
      "conv1: torch.Size([64, 10, 24, 24])\n",
      "pool1: torch.Size([64, 10, 12, 12])\n",
      "start: torch.Size([64, 1, 28, 28])\n",
      "conv1: torch.Size([64, 10, 24, 24])\n",
      "pool1: torch.Size([64, 10, 12, 12])\n",
      "start: torch.Size([64, 1, 28, 28])\n",
      "conv1: torch.Size([64, 10, 24, 24])\n",
      "pool1: torch.Size([64, 10, 12, 12])\n",
      "start: torch.Size([64, 1, 28, 28])\n",
      "conv1: torch.Size([64, 10, 24, 24])\n",
      "pool1: torch.Size([64, 10, 12, 12])\n",
      "start: torch.Size([64, 1, 28, 28])\n",
      "conv1: torch.Size([64, 10, 24, 24])\n",
      "pool1: torch.Size([64, 10, 12, 12])\n",
      "start: torch.Size([64, 1, 28, 28])\n"
     ]
    },
    {
     "name": "stderr",
     "output_type": "stream",
     "text": [
      "Epoch 2:  90%|███████████████████████████████████▊    | 840/938 [00:22<00:02, 39.02batch/s, accuracy=100, loss=0.00965]"
     ]
    },
    {
     "name": "stdout",
     "output_type": "stream",
     "text": [
      "conv1: torch.Size([64, 10, 24, 24])\n",
      "pool1: torch.Size([64, 10, 12, 12])\n",
      "start: torch.Size([64, 1, 28, 28])\n",
      "conv1: torch.Size([64, 10, 24, 24])\n",
      "pool1: torch.Size([64, 10, 12, 12])\n",
      "start: torch.Size([64, 1, 28, 28])\n",
      "conv1: torch.Size([64, 10, 24, 24])\n",
      "pool1: torch.Size([64, 10, 12, 12])\n",
      "start: torch.Size([64, 1, 28, 28])\n",
      "conv1: torch.Size([64, 10, 24, 24])\n",
      "pool1: torch.Size([64, 10, 12, 12])\n",
      "start: torch.Size([64, 1, 28, 28])\n",
      "conv1: torch.Size([64, 10, 24, 24])\n",
      "pool1: torch.Size([64, 10, 12, 12])\n",
      "start: torch.Size([64, 1, 28, 28])\n",
      "conv1: torch.Size([64, 10, 24, 24])\n",
      "pool1: torch.Size([64, 10, 12, 12])\n",
      "start: torch.Size([64, 1, 28, 28])\n",
      "conv1: torch.Size([64, 10, 24, 24])\n",
      "pool1: torch.Size([64, 10, 12, 12])\n",
      "start: torch.Size([64, 1, 28, 28])\n"
     ]
    },
    {
     "name": "stderr",
     "output_type": "stream",
     "text": [
      "Epoch 2:  90%|███████████████████████████████████▉    | 844/938 [00:22<00:02, 37.48batch/s, accuracy=96.9, loss=0.0888]"
     ]
    },
    {
     "name": "stdout",
     "output_type": "stream",
     "text": [
      "conv1: torch.Size([64, 10, 24, 24])\n",
      "pool1: torch.Size([64, 10, 12, 12])\n",
      "start: torch.Size([64, 1, 28, 28])\n",
      "conv1: torch.Size([64, 10, 24, 24])\n",
      "pool1: torch.Size([64, 10, 12, 12])\n",
      "start: torch.Size([64, 1, 28, 28])\n",
      "conv1: torch.Size([64, 10, 24, 24])\n",
      "pool1: torch.Size([64, 10, 12, 12])\n",
      "start: torch.Size([64, 1, 28, 28])\n",
      "conv1: torch.Size([64, 10, 24, 24])\n",
      "pool1: torch.Size([64, 10, 12, 12])\n",
      "start: torch.Size([64, 1, 28, 28])\n",
      "conv1: torch.Size([64, 10, 24, 24])\n",
      "pool1: torch.Size([64, 10, 12, 12])\n",
      "start: torch.Size([64, 1, 28, 28])\n",
      "conv1: torch.Size([64, 10, 24, 24])\n",
      "pool1: torch.Size([64, 10, 12, 12])\n",
      "start: torch.Size([64, 1, 28, 28])\n",
      "conv1: torch.Size([64, 10, 24, 24])\n",
      "pool1: torch.Size([64, 10, 12, 12])\n",
      "start: torch.Size([64, 1, 28, 28])\n"
     ]
    },
    {
     "name": "stderr",
     "output_type": "stream",
     "text": [
      "Epoch 2:  91%|█████████████████████████████████████▏   | 852/938 [00:23<00:02, 37.03batch/s, accuracy=95.3, loss=0.126]"
     ]
    },
    {
     "name": "stdout",
     "output_type": "stream",
     "text": [
      "conv1: torch.Size([64, 10, 24, 24])\n",
      "pool1: torch.Size([64, 10, 12, 12])\n",
      "start: torch.Size([64, 1, 28, 28])\n",
      "conv1: torch.Size([64, 10, 24, 24])\n",
      "pool1: torch.Size([64, 10, 12, 12])\n",
      "start: torch.Size([64, 1, 28, 28])\n",
      "conv1: torch.Size([64, 10, 24, 24])\n",
      "pool1: torch.Size([64, 10, 12, 12])\n",
      "start: torch.Size([64, 1, 28, 28])\n",
      "conv1: torch.Size([64, 10, 24, 24])\n",
      "pool1: torch.Size([64, 10, 12, 12])\n",
      "start: torch.Size([64, 1, 28, 28])\n",
      "conv1: torch.Size([64, 10, 24, 24])\n",
      "pool1: torch.Size([64, 10, 12, 12])\n",
      "start: torch.Size([64, 1, 28, 28])\n",
      "conv1: torch.Size([64, 10, 24, 24])\n",
      "pool1: torch.Size([64, 10, 12, 12])\n",
      "start: torch.Size([64, 1, 28, 28])\n",
      "conv1: torch.Size([64, 10, 24, 24])\n",
      "pool1: torch.Size([64, 10, 12, 12])\n",
      "start: torch.Size([64, 1, 28, 28])\n"
     ]
    },
    {
     "name": "stderr",
     "output_type": "stream",
     "text": [
      "Epoch 2:  92%|█████████████████████████████████████▌   | 860/938 [00:23<00:02, 36.79batch/s, accuracy=96.9, loss=0.161]"
     ]
    },
    {
     "name": "stdout",
     "output_type": "stream",
     "text": [
      "conv1: torch.Size([64, 10, 24, 24])\n",
      "pool1: torch.Size([64, 10, 12, 12])\n",
      "start: torch.Size([64, 1, 28, 28])\n",
      "conv1: torch.Size([64, 10, 24, 24])\n",
      "pool1: torch.Size([64, 10, 12, 12])\n",
      "start: torch.Size([64, 1, 28, 28])\n",
      "conv1: torch.Size([64, 10, 24, 24])\n",
      "pool1: torch.Size([64, 10, 12, 12])\n",
      "start: torch.Size([64, 1, 28, 28])\n",
      "conv1: torch.Size([64, 10, 24, 24])\n",
      "pool1: torch.Size([64, 10, 12, 12])\n",
      "start: torch.Size([64, 1, 28, 28])\n",
      "conv1: torch.Size([64, 10, 24, 24])\n",
      "pool1: torch.Size([64, 10, 12, 12])\n",
      "start: torch.Size([64, 1, 28, 28])\n",
      "conv1: torch.Size([64, 10, 24, 24])\n",
      "pool1: torch.Size([64, 10, 12, 12])\n",
      "start: torch.Size([64, 1, 28, 28])\n",
      "conv1: torch.Size([64, 10, 24, 24])\n",
      "pool1: torch.Size([64, 10, 12, 12])\n",
      "start: torch.Size([64, 1, 28, 28])\n"
     ]
    },
    {
     "name": "stderr",
     "output_type": "stream",
     "text": [
      "Epoch 2:  93%|█████████████████████████████████████▉   | 868/938 [00:23<00:01, 35.96batch/s, accuracy=96.9, loss=0.152]"
     ]
    },
    {
     "name": "stdout",
     "output_type": "stream",
     "text": [
      "conv1: torch.Size([64, 10, 24, 24])\n",
      "pool1: torch.Size([64, 10, 12, 12])\n",
      "start: torch.Size([64, 1, 28, 28])\n",
      "conv1: torch.Size([64, 10, 24, 24])\n",
      "pool1: torch.Size([64, 10, 12, 12])\n",
      "start: torch.Size([64, 1, 28, 28])\n",
      "conv1: torch.Size([64, 10, 24, 24])\n",
      "pool1: torch.Size([64, 10, 12, 12])\n",
      "start: torch.Size([64, 1, 28, 28])\n",
      "conv1: torch.Size([64, 10, 24, 24])\n",
      "pool1: torch.Size([64, 10, 12, 12])\n",
      "start: torch.Size([64, 1, 28, 28])\n",
      "conv1: torch.Size([64, 10, 24, 24])\n",
      "pool1: torch.Size([64, 10, 12, 12])\n",
      "start: torch.Size([64, 1, 28, 28])\n",
      "conv1: torch.Size([64, 10, 24, 24])\n",
      "pool1: torch.Size([64, 10, 12, 12])\n",
      "start: torch.Size([64, 1, 28, 28])\n",
      "conv1: torch.Size([64, 10, 24, 24])\n",
      "pool1: torch.Size([64, 10, 12, 12])\n",
      "start: torch.Size([64, 1, 28, 28])\n"
     ]
    },
    {
     "name": "stderr",
     "output_type": "stream",
     "text": [
      "Epoch 2:  93%|█████████████████████████████████████▏  | 872/938 [00:23<00:01, 36.01batch/s, accuracy=98.4, loss=0.0916]"
     ]
    },
    {
     "name": "stdout",
     "output_type": "stream",
     "text": [
      "conv1: torch.Size([64, 10, 24, 24])\n",
      "pool1: torch.Size([64, 10, 12, 12])\n",
      "start: torch.Size([64, 1, 28, 28])\n",
      "conv1: torch.Size([64, 10, 24, 24])\n",
      "pool1: torch.Size([64, 10, 12, 12])\n",
      "start: torch.Size([64, 1, 28, 28])\n",
      "conv1: torch.Size([64, 10, 24, 24])\n",
      "pool1: torch.Size([64, 10, 12, 12])\n",
      "start: torch.Size([64, 1, 28, 28])\n",
      "conv1: torch.Size([64, 10, 24, 24])\n",
      "pool1: torch.Size([64, 10, 12, 12])\n",
      "start: torch.Size([64, 1, 28, 28])\n",
      "conv1: torch.Size([64, 10, 24, 24])\n",
      "pool1: torch.Size([64, 10, 12, 12])\n",
      "start: torch.Size([64, 1, 28, 28])\n",
      "conv1: torch.Size([64, 10, 24, 24])\n",
      "pool1: torch.Size([64, 10, 12, 12])\n",
      "start: torch.Size([64, 1, 28, 28])\n",
      "conv1: torch.Size([64, 10, 24, 24])\n",
      "pool1: torch.Size([64, 10, 12, 12])\n",
      "start: torch.Size([64, 1, 28, 28])\n"
     ]
    },
    {
     "name": "stderr",
     "output_type": "stream",
     "text": [
      "Epoch 2:  94%|██████████████████████████████████████▍  | 880/938 [00:23<00:01, 36.10batch/s, accuracy=93.8, loss=0.291]"
     ]
    },
    {
     "name": "stdout",
     "output_type": "stream",
     "text": [
      "conv1: torch.Size([64, 10, 24, 24])\n",
      "pool1: torch.Size([64, 10, 12, 12])\n",
      "start: torch.Size([64, 1, 28, 28])\n",
      "conv1: torch.Size([64, 10, 24, 24])\n",
      "pool1: torch.Size([64, 10, 12, 12])\n",
      "start: torch.Size([64, 1, 28, 28])\n",
      "conv1: torch.Size([64, 10, 24, 24])\n",
      "pool1: torch.Size([64, 10, 12, 12])\n",
      "start: torch.Size([64, 1, 28, 28])\n",
      "conv1: torch.Size([64, 10, 24, 24])\n",
      "pool1: torch.Size([64, 10, 12, 12])\n",
      "start: torch.Size([64, 1, 28, 28])\n",
      "conv1: torch.Size([64, 10, 24, 24])\n",
      "pool1: torch.Size([64, 10, 12, 12])\n",
      "start: torch.Size([64, 1, 28, 28])\n",
      "conv1: torch.Size([64, 10, 24, 24])\n",
      "pool1: torch.Size([64, 10, 12, 12])\n",
      "start: torch.Size([64, 1, 28, 28])\n",
      "conv1: torch.Size([64, 10, 24, 24])\n",
      "pool1: torch.Size([64, 10, 12, 12])\n"
     ]
    },
    {
     "name": "stderr",
     "output_type": "stream",
     "text": [
      "Epoch 2:  95%|█████████████████████████████████████▊  | 888/938 [00:24<00:01, 35.17batch/s, accuracy=96.9, loss=0.0806]"
     ]
    },
    {
     "name": "stdout",
     "output_type": "stream",
     "text": [
      "start: torch.Size([64, 1, 28, 28])\n",
      "conv1: torch.Size([64, 10, 24, 24])\n",
      "pool1: torch.Size([64, 10, 12, 12])\n",
      "start: torch.Size([64, 1, 28, 28])\n",
      "conv1: torch.Size([64, 10, 24, 24])\n",
      "pool1: torch.Size([64, 10, 12, 12])\n",
      "start: torch.Size([64, 1, 28, 28])\n",
      "conv1: torch.Size([64, 10, 24, 24])\n",
      "pool1: torch.Size([64, 10, 12, 12])\n",
      "start: torch.Size([64, 1, 28, 28])\n",
      "conv1: torch.Size([64, 10, 24, 24])\n",
      "pool1: torch.Size([64, 10, 12, 12])\n",
      "start: torch.Size([64, 1, 28, 28])\n",
      "conv1: torch.Size([64, 10, 24, 24])\n",
      "pool1: torch.Size([64, 10, 12, 12])\n",
      "start: torch.Size([64, 1, 28, 28])\n",
      "conv1: torch.Size([64, 10, 24, 24])\n",
      "pool1: torch.Size([64, 10, 12, 12])\n",
      "start: torch.Size([64, 1, 28, 28])\n",
      "conv1: torch.Size([64, 10, 24, 24])\n"
     ]
    },
    {
     "name": "stderr",
     "output_type": "stream",
     "text": [
      "Epoch 2:  95%|██████████████████████████████████████▉  | 892/938 [00:24<00:01, 34.81batch/s, accuracy=93.8, loss=0.491]"
     ]
    },
    {
     "name": "stdout",
     "output_type": "stream",
     "text": [
      "pool1: torch.Size([64, 10, 12, 12])\n",
      "start: torch.Size([64, 1, 28, 28])\n",
      "conv1: torch.Size([64, 10, 24, 24])\n",
      "pool1: torch.Size([64, 10, 12, 12])\n",
      "start: torch.Size([64, 1, 28, 28])\n",
      "conv1: torch.Size([64, 10, 24, 24])\n",
      "pool1: torch.Size([64, 10, 12, 12])\n",
      "start: torch.Size([64, 1, 28, 28])\n",
      "conv1: torch.Size([64, 10, 24, 24])\n",
      "pool1: torch.Size([64, 10, 12, 12])\n",
      "start: torch.Size([64, 1, 28, 28])\n",
      "conv1: torch.Size([64, 10, 24, 24])\n",
      "pool1: torch.Size([64, 10, 12, 12])\n",
      "start: torch.Size([64, 1, 28, 28])\n",
      "conv1: torch.Size([64, 10, 24, 24])\n",
      "pool1: torch.Size([64, 10, 12, 12])\n",
      "start: torch.Size([64, 1, 28, 28])\n",
      "conv1: torch.Size([64, 10, 24, 24])\n",
      "pool1: torch.Size([64, 10, 12, 12])\n",
      "start: torch.Size([64, 1, 28, 28])\n"
     ]
    },
    {
     "name": "stderr",
     "output_type": "stream",
     "text": [
      "Epoch 2:  96%|███████████████████████████████████████▎ | 900/938 [00:24<00:01, 34.46batch/s, accuracy=93.8, loss=0.266]"
     ]
    },
    {
     "name": "stdout",
     "output_type": "stream",
     "text": [
      "conv1: torch.Size([64, 10, 24, 24])\n",
      "pool1: torch.Size([64, 10, 12, 12])\n",
      "start: torch.Size([64, 1, 28, 28])\n",
      "conv1: torch.Size([64, 10, 24, 24])\n",
      "pool1: torch.Size([64, 10, 12, 12])\n",
      "start: torch.Size([64, 1, 28, 28])\n",
      "conv1: torch.Size([64, 10, 24, 24])\n",
      "pool1: torch.Size([64, 10, 12, 12])\n",
      "start: torch.Size([64, 1, 28, 28])\n",
      "conv1: torch.Size([64, 10, 24, 24])\n",
      "pool1: torch.Size([64, 10, 12, 12])\n",
      "start: torch.Size([64, 1, 28, 28])\n",
      "conv1: torch.Size([64, 10, 24, 24])\n",
      "pool1: torch.Size([64, 10, 12, 12])\n",
      "start: torch.Size([64, 1, 28, 28])\n",
      "conv1: torch.Size([64, 10, 24, 24])\n",
      "pool1: torch.Size([64, 10, 12, 12])\n",
      "start: torch.Size([64, 1, 28, 28])\n"
     ]
    },
    {
     "name": "stderr",
     "output_type": "stream",
     "text": [
      "Epoch 2:  96%|███████████████████████████████████████▌ | 904/938 [00:24<00:00, 34.05batch/s, accuracy=96.9, loss=0.133]"
     ]
    },
    {
     "name": "stdout",
     "output_type": "stream",
     "text": [
      "conv1: torch.Size([64, 10, 24, 24])\n",
      "pool1: torch.Size([64, 10, 12, 12])\n",
      "start: torch.Size([64, 1, 28, 28])\n",
      "conv1: torch.Size([64, 10, 24, 24])\n",
      "pool1: torch.Size([64, 10, 12, 12])\n",
      "start: torch.Size([64, 1, 28, 28])\n",
      "conv1: torch.Size([64, 10, 24, 24])\n",
      "pool1: torch.Size([64, 10, 12, 12])\n",
      "start: torch.Size([64, 1, 28, 28])\n",
      "conv1: torch.Size([64, 10, 24, 24])\n",
      "pool1: torch.Size([64, 10, 12, 12])\n",
      "start: torch.Size([64, 1, 28, 28])\n",
      "conv1: torch.Size([64, 10, 24, 24])\n",
      "pool1: torch.Size([64, 10, 12, 12])\n",
      "start: torch.Size([64, 1, 28, 28])\n",
      "conv1: torch.Size([64, 10, 24, 24])\n",
      "pool1: torch.Size([64, 10, 12, 12])\n",
      "start: torch.Size([64, 1, 28, 28])\n"
     ]
    },
    {
     "name": "stderr",
     "output_type": "stream",
     "text": [
      "Epoch 2:  97%|███████████████████████████████████████▊ | 912/938 [00:24<00:00, 32.79batch/s, accuracy=93.8, loss=0.631]"
     ]
    },
    {
     "name": "stdout",
     "output_type": "stream",
     "text": [
      "conv1: torch.Size([64, 10, 24, 24])\n",
      "pool1: torch.Size([64, 10, 12, 12])\n",
      "start: torch.Size([64, 1, 28, 28])\n",
      "conv1: torch.Size([64, 10, 24, 24])\n",
      "pool1: torch.Size([64, 10, 12, 12])\n",
      "start: torch.Size([64, 1, 28, 28])\n",
      "conv1: torch.Size([64, 10, 24, 24])\n",
      "pool1: torch.Size([64, 10, 12, 12])\n",
      "start: torch.Size([64, 1, 28, 28])\n",
      "conv1: torch.Size([64, 10, 24, 24])\n",
      "pool1: torch.Size([64, 10, 12, 12])\n",
      "start: torch.Size([64, 1, 28, 28])\n",
      "conv1: torch.Size([64, 10, 24, 24])\n",
      "pool1: torch.Size([64, 10, 12, 12])\n",
      "start: torch.Size([64, 1, 28, 28])\n",
      "conv1: torch.Size([64, 10, 24, 24])\n",
      "pool1: torch.Size([64, 10, 12, 12])\n",
      "start: torch.Size([64, 1, 28, 28])\n"
     ]
    },
    {
     "name": "stderr",
     "output_type": "stream",
     "text": [
      "Epoch 2:  98%|███████████████████████████████████████ | 916/938 [00:25<00:00, 33.06batch/s, accuracy=98.4, loss=0.0903]"
     ]
    },
    {
     "name": "stdout",
     "output_type": "stream",
     "text": [
      "conv1: torch.Size([64, 10, 24, 24])\n",
      "pool1: torch.Size([64, 10, 12, 12])\n",
      "start: torch.Size([64, 1, 28, 28])\n",
      "conv1: torch.Size([64, 10, 24, 24])\n",
      "pool1: torch.Size([64, 10, 12, 12])\n",
      "start: torch.Size([64, 1, 28, 28])\n",
      "conv1: torch.Size([64, 10, 24, 24])\n",
      "pool1: torch.Size([64, 10, 12, 12])\n",
      "start: torch.Size([64, 1, 28, 28])\n",
      "conv1: torch.Size([64, 10, 24, 24])\n",
      "pool1: torch.Size([64, 10, 12, 12])\n",
      "start: torch.Size([64, 1, 28, 28])\n",
      "conv1: torch.Size([64, 10, 24, 24])\n",
      "pool1: torch.Size([64, 10, 12, 12])\n",
      "start: torch.Size([64, 1, 28, 28])\n",
      "conv1: torch.Size([64, 10, 24, 24])\n",
      "pool1: torch.Size([64, 10, 12, 12])\n",
      "start: torch.Size([64, 1, 28, 28])\n",
      "conv1: torch.Size([64, 10, 24, 24])\n",
      "pool1: torch.Size([64, 10, 12, 12])\n"
     ]
    },
    {
     "name": "stderr",
     "output_type": "stream",
     "text": [
      "Epoch 2:  99%|████████████████████████████████████████▍| 924/938 [00:25<00:00, 33.98batch/s, accuracy=93.8, loss=0.381]"
     ]
    },
    {
     "name": "stdout",
     "output_type": "stream",
     "text": [
      "start: torch.Size([64, 1, 28, 28])\n",
      "conv1: torch.Size([64, 10, 24, 24])\n",
      "pool1: torch.Size([64, 10, 12, 12])\n",
      "start: torch.Size([64, 1, 28, 28])\n",
      "conv1: torch.Size([64, 10, 24, 24])\n",
      "pool1: torch.Size([64, 10, 12, 12])\n",
      "start: torch.Size([64, 1, 28, 28])\n",
      "conv1: torch.Size([64, 10, 24, 24])\n",
      "pool1: torch.Size([64, 10, 12, 12])\n",
      "start: torch.Size([64, 1, 28, 28])\n",
      "conv1: torch.Size([64, 10, 24, 24])\n",
      "pool1: torch.Size([64, 10, 12, 12])\n",
      "start: torch.Size([64, 1, 28, 28])\n",
      "conv1: torch.Size([64, 10, 24, 24])\n",
      "pool1: torch.Size([64, 10, 12, 12])\n",
      "start: torch.Size([64, 1, 28, 28])\n",
      "conv1: torch.Size([64, 10, 24, 24])\n",
      "pool1: torch.Size([64, 10, 12, 12])\n",
      "start: torch.Size([64, 1, 28, 28])\n",
      "conv1: torch.Size([64, 10, 24, 24])\n",
      "pool1: torch.Size([64, 10, 12, 12])\n",
      "start: torch.Size([64, 1, 28, 28])\n"
     ]
    },
    {
     "name": "stderr",
     "output_type": "stream",
     "text": [
      "Epoch 2:  99%|████████████████████████████████████████▊| 933/938 [00:25<00:00, 36.92batch/s, accuracy=93.8, loss=0.273]"
     ]
    },
    {
     "name": "stdout",
     "output_type": "stream",
     "text": [
      "conv1: torch.Size([64, 10, 24, 24])\n",
      "pool1: torch.Size([64, 10, 12, 12])\n",
      "start: torch.Size([64, 1, 28, 28])\n",
      "conv1: torch.Size([64, 10, 24, 24])\n",
      "pool1: torch.Size([64, 10, 12, 12])\n",
      "start: torch.Size([64, 1, 28, 28])\n",
      "conv1: torch.Size([64, 10, 24, 24])\n",
      "pool1: torch.Size([64, 10, 12, 12])\n",
      "start: torch.Size([64, 1, 28, 28])\n",
      "conv1: torch.Size([64, 10, 24, 24])\n",
      "pool1: torch.Size([64, 10, 12, 12])\n",
      "start: torch.Size([64, 1, 28, 28])\n",
      "conv1: torch.Size([64, 10, 24, 24])\n",
      "pool1: torch.Size([64, 10, 12, 12])\n",
      "start: torch.Size([64, 1, 28, 28])\n",
      "conv1: torch.Size([64, 10, 24, 24])\n",
      "pool1: torch.Size([64, 10, 12, 12])\n",
      "start: torch.Size([64, 1, 28, 28])\n",
      "conv1: torch.Size([64, 10, 24, 24])\n",
      "pool1: torch.Size([64, 10, 12, 12])\n",
      "start: torch.Size([64, 1, 28, 28])\n",
      "conv1: torch.Size([64, 10, 24, 24])\n",
      "pool1: torch.Size([64, 10, 12, 12])\n"
     ]
    },
    {
     "name": "stderr",
     "output_type": "stream",
     "text": [
      "Epoch 2: 100%|██████████████████████████████████████████| 938/938 [00:25<00:00, 36.79batch/s, accuracy=46.9, loss=0.12]\n"
     ]
    },
    {
     "name": "stdout",
     "output_type": "stream",
     "text": [
      "start: torch.Size([64, 1, 28, 28])\n",
      "conv1: torch.Size([64, 10, 24, 24])\n",
      "pool1: torch.Size([64, 10, 12, 12])\n",
      "start: torch.Size([64, 1, 28, 28])\n",
      "conv1: torch.Size([64, 10, 24, 24])\n",
      "pool1: torch.Size([64, 10, 12, 12])\n",
      "start: torch.Size([32, 1, 28, 28])\n",
      "conv1: torch.Size([32, 10, 24, 24])\n",
      "pool1: torch.Size([32, 10, 12, 12])\n",
      "start: torch.Size([64, 1, 28, 28])\n",
      "conv1: torch.Size([64, 10, 24, 24])\n",
      "pool1: torch.Size([64, 10, 12, 12])\n",
      "start: torch.Size([64, 1, 28, 28])\n",
      "conv1: torch.Size([64, 10, 24, 24])\n",
      "pool1: torch.Size([64, 10, 12, 12])\n",
      "start: torch.Size([64, 1, 28, 28])\n",
      "conv1: torch.Size([64, 10, 24, 24])\n",
      "pool1: torch.Size([64, 10, 12, 12])\n",
      "start: torch.Size([64, 1, 28, 28])\n",
      "conv1: torch.Size([64, 10, 24, 24])\n",
      "pool1: torch.Size([64, 10, 12, 12])\n",
      "start: torch.Size([64, 1, 28, 28])\n",
      "conv1: torch.Size([64, 10, 24, 24])\n",
      "pool1: torch.Size([64, 10, 12, 12])\n",
      "start: torch.Size([64, 1, 28, 28])\n",
      "conv1: torch.Size([64, 10, 24, 24])\n",
      "pool1: torch.Size([64, 10, 12, 12])\n",
      "start: torch.Size([64, 1, 28, 28])\n",
      "conv1: torch.Size([64, 10, 24, 24])\n",
      "pool1: torch.Size([64, 10, 12, 12])\n",
      "start: torch.Size([64, 1, 28, 28])\n",
      "conv1: torch.Size([64, 10, 24, 24])\n",
      "pool1: torch.Size([64, 10, 12, 12])\n",
      "start: torch.Size([64, 1, 28, 28])\n",
      "conv1: torch.Size([64, 10, 24, 24])\n",
      "pool1: torch.Size([64, 10, 12, 12])\n",
      "start: torch.Size([64, 1, 28, 28])\n",
      "conv1: torch.Size([64, 10, 24, 24])\n",
      "pool1: torch.Size([64, 10, 12, 12])\n",
      "start: torch.Size([64, 1, 28, 28])\n",
      "conv1: torch.Size([64, 10, 24, 24])\n",
      "pool1: torch.Size([64, 10, 12, 12])\n",
      "start: torch.Size([64, 1, 28, 28])\n",
      "conv1: torch.Size([64, 10, 24, 24])\n",
      "pool1: torch.Size([64, 10, 12, 12])\n",
      "start: torch.Size([64, 1, 28, 28])\n",
      "conv1: torch.Size([64, 10, 24, 24])\n",
      "pool1: torch.Size([64, 10, 12, 12])\n",
      "start: torch.Size([64, 1, 28, 28])\n",
      "conv1: torch.Size([64, 10, 24, 24])\n",
      "pool1: torch.Size([64, 10, 12, 12])\n",
      "start: torch.Size([64, 1, 28, 28])\n",
      "conv1: torch.Size([64, 10, 24, 24])\n",
      "pool1: torch.Size([64, 10, 12, 12])\n",
      "start: torch.Size([64, 1, 28, 28])\n",
      "conv1: torch.Size([64, 10, 24, 24])\n",
      "pool1: torch.Size([64, 10, 12, 12])\n",
      "start: torch.Size([64, 1, 28, 28])\n",
      "conv1: torch.Size([64, 10, 24, 24])\n",
      "pool1: torch.Size([64, 10, 12, 12])\n",
      "start: torch.Size([64, 1, 28, 28])\n",
      "conv1: torch.Size([64, 10, 24, 24])\n",
      "pool1: torch.Size([64, 10, 12, 12])\n",
      "start: torch.Size([64, 1, 28, 28])\n",
      "conv1: torch.Size([64, 10, 24, 24])\n",
      "pool1: torch.Size([64, 10, 12, 12])\n",
      "start: torch.Size([64, 1, 28, 28])\n",
      "conv1: torch.Size([64, 10, 24, 24])\n",
      "pool1: torch.Size([64, 10, 12, 12])\n",
      "start: torch.Size([64, 1, 28, 28])\n",
      "conv1: torch.Size([64, 10, 24, 24])\n",
      "pool1: torch.Size([64, 10, 12, 12])\n",
      "start: torch.Size([64, 1, 28, 28])\n",
      "conv1: torch.Size([64, 10, 24, 24])\n",
      "pool1: torch.Size([64, 10, 12, 12])\n",
      "start: torch.Size([64, 1, 28, 28])\n",
      "conv1: torch.Size([64, 10, 24, 24])\n",
      "pool1: torch.Size([64, 10, 12, 12])\n",
      "start: torch.Size([64, 1, 28, 28])\n",
      "conv1: torch.Size([64, 10, 24, 24])\n",
      "pool1: torch.Size([64, 10, 12, 12])\n",
      "start: torch.Size([64, 1, 28, 28])\n",
      "conv1: torch.Size([64, 10, 24, 24])\n",
      "pool1: torch.Size([64, 10, 12, 12])\n",
      "start: torch.Size([64, 1, 28, 28])\n",
      "conv1: torch.Size([64, 10, 24, 24])\n",
      "pool1: torch.Size([64, 10, 12, 12])\n",
      "start: torch.Size([64, 1, 28, 28])\n",
      "conv1: torch.Size([64, 10, 24, 24])\n",
      "pool1: torch.Size([64, 10, 12, 12])\n",
      "start: torch.Size([64, 1, 28, 28])\n",
      "conv1: torch.Size([64, 10, 24, 24])\n",
      "pool1: torch.Size([64, 10, 12, 12])\n",
      "start: torch.Size([64, 1, 28, 28])\n",
      "conv1: torch.Size([64, 10, 24, 24])\n",
      "pool1: torch.Size([64, 10, 12, 12])\n",
      "start: torch.Size([64, 1, 28, 28])\n",
      "conv1: torch.Size([64, 10, 24, 24])\n",
      "pool1: torch.Size([64, 10, 12, 12])\n",
      "start: torch.Size([64, 1, 28, 28])\n",
      "conv1: torch.Size([64, 10, 24, 24])\n",
      "pool1: torch.Size([64, 10, 12, 12])\n",
      "start: torch.Size([64, 1, 28, 28])\n",
      "conv1: torch.Size([64, 10, 24, 24])\n",
      "pool1: torch.Size([64, 10, 12, 12])\n",
      "start: torch.Size([64, 1, 28, 28])\n",
      "conv1: torch.Size([64, 10, 24, 24])\n",
      "pool1: torch.Size([64, 10, 12, 12])\n",
      "start: torch.Size([64, 1, 28, 28])\n",
      "conv1: torch.Size([64, 10, 24, 24])\n",
      "pool1: torch.Size([64, 10, 12, 12])\n",
      "start: torch.Size([64, 1, 28, 28])\n",
      "conv1: torch.Size([64, 10, 24, 24])\n",
      "pool1: torch.Size([64, 10, 12, 12])\n",
      "start: torch.Size([64, 1, 28, 28])\n",
      "conv1: torch.Size([64, 10, 24, 24])\n",
      "pool1: torch.Size([64, 10, 12, 12])\n",
      "start: torch.Size([64, 1, 28, 28])\n",
      "conv1: torch.Size([64, 10, 24, 24])\n",
      "pool1: torch.Size([64, 10, 12, 12])\n",
      "start: torch.Size([64, 1, 28, 28])\n",
      "conv1: torch.Size([64, 10, 24, 24])\n",
      "pool1: torch.Size([64, 10, 12, 12])\n",
      "start: torch.Size([64, 1, 28, 28])\n",
      "conv1: torch.Size([64, 10, 24, 24])\n",
      "pool1: torch.Size([64, 10, 12, 12])\n",
      "start: torch.Size([64, 1, 28, 28])\n",
      "conv1: torch.Size([64, 10, 24, 24])\n",
      "pool1: torch.Size([64, 10, 12, 12])\n",
      "start: torch.Size([64, 1, 28, 28])\n",
      "conv1: torch.Size([64, 10, 24, 24])\n",
      "pool1: torch.Size([64, 10, 12, 12])\n",
      "start: torch.Size([64, 1, 28, 28])\n",
      "conv1: torch.Size([64, 10, 24, 24])\n",
      "pool1: torch.Size([64, 10, 12, 12])\n",
      "start: torch.Size([64, 1, 28, 28])\n",
      "conv1: torch.Size([64, 10, 24, 24])\n",
      "pool1: torch.Size([64, 10, 12, 12])\n",
      "start: torch.Size([64, 1, 28, 28])\n",
      "conv1: torch.Size([64, 10, 24, 24])\n",
      "pool1: torch.Size([64, 10, 12, 12])\n",
      "start: torch.Size([64, 1, 28, 28])\n",
      "conv1: torch.Size([64, 10, 24, 24])\n",
      "pool1: torch.Size([64, 10, 12, 12])\n",
      "start: torch.Size([64, 1, 28, 28])\n",
      "conv1: torch.Size([64, 10, 24, 24])\n",
      "pool1: torch.Size([64, 10, 12, 12])\n",
      "start: torch.Size([64, 1, 28, 28])\n",
      "conv1: torch.Size([64, 10, 24, 24])\n",
      "pool1: torch.Size([64, 10, 12, 12])\n",
      "start: torch.Size([64, 1, 28, 28])\n",
      "conv1: torch.Size([64, 10, 24, 24])\n",
      "pool1: torch.Size([64, 10, 12, 12])\n",
      "start: torch.Size([64, 1, 28, 28])\n",
      "conv1: torch.Size([64, 10, 24, 24])\n",
      "pool1: torch.Size([64, 10, 12, 12])\n",
      "start: torch.Size([64, 1, 28, 28])\n",
      "conv1: torch.Size([64, 10, 24, 24])\n",
      "pool1: torch.Size([64, 10, 12, 12])\n",
      "start: torch.Size([64, 1, 28, 28])\n",
      "conv1: torch.Size([64, 10, 24, 24])\n",
      "pool1: torch.Size([64, 10, 12, 12])\n",
      "start: torch.Size([64, 1, 28, 28])\n",
      "conv1: torch.Size([64, 10, 24, 24])\n",
      "pool1: torch.Size([64, 10, 12, 12])\n",
      "start: torch.Size([64, 1, 28, 28])\n",
      "conv1: torch.Size([64, 10, 24, 24])\n",
      "pool1: torch.Size([64, 10, 12, 12])\n",
      "start: torch.Size([64, 1, 28, 28])\n",
      "conv1: torch.Size([64, 10, 24, 24])\n",
      "pool1: torch.Size([64, 10, 12, 12])\n",
      "start: torch.Size([64, 1, 28, 28])\n",
      "conv1: torch.Size([64, 10, 24, 24])\n",
      "pool1: torch.Size([64, 10, 12, 12])\n",
      "start: torch.Size([64, 1, 28, 28])\n",
      "conv1: torch.Size([64, 10, 24, 24])\n",
      "pool1: torch.Size([64, 10, 12, 12])\n",
      "start: torch.Size([64, 1, 28, 28])\n",
      "conv1: torch.Size([64, 10, 24, 24])\n",
      "pool1: torch.Size([64, 10, 12, 12])\n",
      "start: torch.Size([64, 1, 28, 28])\n",
      "conv1: torch.Size([64, 10, 24, 24])\n",
      "pool1: torch.Size([64, 10, 12, 12])\n",
      "start: torch.Size([64, 1, 28, 28])\n",
      "conv1: torch.Size([64, 10, 24, 24])\n",
      "pool1: torch.Size([64, 10, 12, 12])\n",
      "start: torch.Size([64, 1, 28, 28])\n",
      "conv1: torch.Size([64, 10, 24, 24])\n",
      "pool1: torch.Size([64, 10, 12, 12])\n",
      "start: torch.Size([64, 1, 28, 28])\n",
      "conv1: torch.Size([64, 10, 24, 24])\n",
      "pool1: torch.Size([64, 10, 12, 12])\n",
      "start: torch.Size([64, 1, 28, 28])\n",
      "conv1: torch.Size([64, 10, 24, 24])\n",
      "pool1: torch.Size([64, 10, 12, 12])\n",
      "start: torch.Size([64, 1, 28, 28])\n",
      "conv1: torch.Size([64, 10, 24, 24])\n",
      "pool1: torch.Size([64, 10, 12, 12])\n",
      "start: torch.Size([64, 1, 28, 28])\n",
      "conv1: torch.Size([64, 10, 24, 24])\n",
      "pool1: torch.Size([64, 10, 12, 12])\n",
      "start: torch.Size([64, 1, 28, 28])\n",
      "conv1: torch.Size([64, 10, 24, 24])\n",
      "pool1: torch.Size([64, 10, 12, 12])\n",
      "start: torch.Size([64, 1, 28, 28])\n",
      "conv1: torch.Size([64, 10, 24, 24])\n",
      "pool1: torch.Size([64, 10, 12, 12])\n",
      "start: torch.Size([64, 1, 28, 28])\n",
      "conv1: torch.Size([64, 10, 24, 24])\n",
      "pool1: torch.Size([64, 10, 12, 12])\n",
      "start: torch.Size([64, 1, 28, 28])\n",
      "conv1: torch.Size([64, 10, 24, 24])\n",
      "pool1: torch.Size([64, 10, 12, 12])\n",
      "start: torch.Size([64, 1, 28, 28])\n",
      "conv1: torch.Size([64, 10, 24, 24])\n",
      "pool1: torch.Size([64, 10, 12, 12])\n",
      "start: torch.Size([64, 1, 28, 28])\n",
      "conv1: torch.Size([64, 10, 24, 24])\n",
      "pool1: torch.Size([64, 10, 12, 12])\n",
      "start: torch.Size([64, 1, 28, 28])\n",
      "conv1: torch.Size([64, 10, 24, 24])\n",
      "pool1: torch.Size([64, 10, 12, 12])\n",
      "start: torch.Size([64, 1, 28, 28])\n",
      "conv1: torch.Size([64, 10, 24, 24])\n",
      "pool1: torch.Size([64, 10, 12, 12])\n",
      "start: torch.Size([64, 1, 28, 28])\n",
      "conv1: torch.Size([64, 10, 24, 24])\n",
      "pool1: torch.Size([64, 10, 12, 12])\n",
      "start: torch.Size([64, 1, 28, 28])\n",
      "conv1: torch.Size([64, 10, 24, 24])\n",
      "pool1: torch.Size([64, 10, 12, 12])\n",
      "start: torch.Size([64, 1, 28, 28])\n",
      "conv1: torch.Size([64, 10, 24, 24])\n",
      "pool1: torch.Size([64, 10, 12, 12])\n",
      "start: torch.Size([64, 1, 28, 28])\n",
      "conv1: torch.Size([64, 10, 24, 24])\n",
      "pool1: torch.Size([64, 10, 12, 12])\n",
      "start: torch.Size([64, 1, 28, 28])\n",
      "conv1: torch.Size([64, 10, 24, 24])\n",
      "pool1: torch.Size([64, 10, 12, 12])\n",
      "start: torch.Size([64, 1, 28, 28])\n",
      "conv1: torch.Size([64, 10, 24, 24])\n",
      "pool1: torch.Size([64, 10, 12, 12])\n"
     ]
    },
    {
     "name": "stdout",
     "output_type": "stream",
     "text": [
      "start: torch.Size([64, 1, 28, 28])\n",
      "conv1: torch.Size([64, 10, 24, 24])\n",
      "pool1: torch.Size([64, 10, 12, 12])\n",
      "start: torch.Size([64, 1, 28, 28])\n",
      "conv1: torch.Size([64, 10, 24, 24])\n",
      "pool1: torch.Size([64, 10, 12, 12])\n",
      "start: torch.Size([64, 1, 28, 28])\n",
      "conv1: torch.Size([64, 10, 24, 24])\n",
      "pool1: torch.Size([64, 10, 12, 12])\n",
      "start: torch.Size([64, 1, 28, 28])\n",
      "conv1: torch.Size([64, 10, 24, 24])\n",
      "pool1: torch.Size([64, 10, 12, 12])\n",
      "start: torch.Size([64, 1, 28, 28])\n",
      "conv1: torch.Size([64, 10, 24, 24])\n",
      "pool1: torch.Size([64, 10, 12, 12])\n",
      "start: torch.Size([64, 1, 28, 28])\n",
      "conv1: torch.Size([64, 10, 24, 24])\n",
      "pool1: torch.Size([64, 10, 12, 12])\n",
      "start: torch.Size([64, 1, 28, 28])\n",
      "conv1: torch.Size([64, 10, 24, 24])\n",
      "pool1: torch.Size([64, 10, 12, 12])\n",
      "start: torch.Size([64, 1, 28, 28])\n",
      "conv1: torch.Size([64, 10, 24, 24])\n",
      "pool1: torch.Size([64, 10, 12, 12])\n",
      "start: torch.Size([64, 1, 28, 28])\n",
      "conv1: torch.Size([64, 10, 24, 24])\n",
      "pool1: torch.Size([64, 10, 12, 12])\n",
      "start: torch.Size([64, 1, 28, 28])\n",
      "conv1: torch.Size([64, 10, 24, 24])\n",
      "pool1: torch.Size([64, 10, 12, 12])\n",
      "start: torch.Size([64, 1, 28, 28])\n",
      "conv1: torch.Size([64, 10, 24, 24])\n",
      "pool1: torch.Size([64, 10, 12, 12])\n",
      "start: torch.Size([64, 1, 28, 28])\n",
      "conv1: torch.Size([64, 10, 24, 24])\n",
      "pool1: torch.Size([64, 10, 12, 12])\n",
      "start: torch.Size([64, 1, 28, 28])\n",
      "conv1: torch.Size([64, 10, 24, 24])\n",
      "pool1: torch.Size([64, 10, 12, 12])\n",
      "start: torch.Size([64, 1, 28, 28])\n",
      "conv1: torch.Size([64, 10, 24, 24])\n",
      "pool1: torch.Size([64, 10, 12, 12])\n",
      "start: torch.Size([64, 1, 28, 28])\n",
      "conv1: torch.Size([64, 10, 24, 24])\n",
      "pool1: torch.Size([64, 10, 12, 12])\n",
      "start: torch.Size([64, 1, 28, 28])\n",
      "conv1: torch.Size([64, 10, 24, 24])\n",
      "pool1: torch.Size([64, 10, 12, 12])\n",
      "start: torch.Size([64, 1, 28, 28])\n",
      "conv1: torch.Size([64, 10, 24, 24])\n",
      "pool1: torch.Size([64, 10, 12, 12])\n",
      "start: torch.Size([64, 1, 28, 28])\n",
      "conv1: torch.Size([64, 10, 24, 24])\n",
      "pool1: torch.Size([64, 10, 12, 12])\n",
      "start: torch.Size([64, 1, 28, 28])\n",
      "conv1: torch.Size([64, 10, 24, 24])\n",
      "pool1: torch.Size([64, 10, 12, 12])\n",
      "start: torch.Size([64, 1, 28, 28])\n",
      "conv1: torch.Size([64, 10, 24, 24])\n",
      "pool1: torch.Size([64, 10, 12, 12])\n",
      "start: torch.Size([64, 1, 28, 28])\n",
      "conv1: torch.Size([64, 10, 24, 24])\n",
      "pool1: torch.Size([64, 10, 12, 12])\n",
      "start: torch.Size([64, 1, 28, 28])\n",
      "conv1: torch.Size([64, 10, 24, 24])\n",
      "pool1: torch.Size([64, 10, 12, 12])\n",
      "start: torch.Size([64, 1, 28, 28])\n",
      "conv1: torch.Size([64, 10, 24, 24])\n",
      "pool1: torch.Size([64, 10, 12, 12])\n",
      "start: torch.Size([64, 1, 28, 28])\n",
      "conv1: torch.Size([64, 10, 24, 24])\n",
      "pool1: torch.Size([64, 10, 12, 12])\n",
      "start: torch.Size([64, 1, 28, 28])\n",
      "conv1: torch.Size([64, 10, 24, 24])\n",
      "pool1: torch.Size([64, 10, 12, 12])\n",
      "start: torch.Size([64, 1, 28, 28])\n",
      "conv1: torch.Size([64, 10, 24, 24])\n",
      "pool1: torch.Size([64, 10, 12, 12])\n",
      "start: torch.Size([64, 1, 28, 28])\n",
      "conv1: torch.Size([64, 10, 24, 24])\n",
      "pool1: torch.Size([64, 10, 12, 12])\n",
      "start: torch.Size([64, 1, 28, 28])\n",
      "conv1: torch.Size([64, 10, 24, 24])\n",
      "pool1: torch.Size([64, 10, 12, 12])\n",
      "start: torch.Size([64, 1, 28, 28])\n",
      "conv1: torch.Size([64, 10, 24, 24])\n",
      "pool1: torch.Size([64, 10, 12, 12])\n",
      "start: torch.Size([64, 1, 28, 28])\n",
      "conv1: torch.Size([64, 10, 24, 24])\n",
      "pool1: torch.Size([64, 10, 12, 12])\n",
      "start: torch.Size([64, 1, 28, 28])\n",
      "conv1: torch.Size([64, 10, 24, 24])\n",
      "pool1: torch.Size([64, 10, 12, 12])\n",
      "start: torch.Size([64, 1, 28, 28])\n",
      "conv1: torch.Size([64, 10, 24, 24])\n",
      "pool1: torch.Size([64, 10, 12, 12])\n",
      "start: torch.Size([64, 1, 28, 28])\n",
      "conv1: torch.Size([64, 10, 24, 24])\n",
      "pool1: torch.Size([64, 10, 12, 12])\n",
      "start: torch.Size([64, 1, 28, 28])\n",
      "conv1: torch.Size([64, 10, 24, 24])\n",
      "pool1: torch.Size([64, 10, 12, 12])\n",
      "start: torch.Size([64, 1, 28, 28])\n",
      "conv1: torch.Size([64, 10, 24, 24])\n",
      "pool1: torch.Size([64, 10, 12, 12])\n",
      "start: torch.Size([64, 1, 28, 28])\n",
      "conv1: torch.Size([64, 10, 24, 24])\n",
      "pool1: torch.Size([64, 10, 12, 12])\n",
      "start: torch.Size([64, 1, 28, 28])\n",
      "conv1: torch.Size([64, 10, 24, 24])\n",
      "pool1: torch.Size([64, 10, 12, 12])\n",
      "start: torch.Size([64, 1, 28, 28])\n",
      "conv1: torch.Size([64, 10, 24, 24])\n",
      "pool1: torch.Size([64, 10, 12, 12])\n",
      "start: torch.Size([64, 1, 28, 28])\n",
      "conv1: torch.Size([64, 10, 24, 24])\n",
      "pool1: torch.Size([64, 10, 12, 12])\n",
      "start: torch.Size([64, 1, 28, 28])\n",
      "conv1: torch.Size([64, 10, 24, 24])\n",
      "pool1: torch.Size([64, 10, 12, 12])\n",
      "start: torch.Size([64, 1, 28, 28])\n",
      "conv1: torch.Size([64, 10, 24, 24])\n",
      "pool1: torch.Size([64, 10, 12, 12])\n",
      "start: torch.Size([64, 1, 28, 28])\n",
      "conv1: torch.Size([64, 10, 24, 24])\n",
      "pool1: torch.Size([64, 10, 12, 12])\n",
      "start: torch.Size([64, 1, 28, 28])\n",
      "conv1: torch.Size([64, 10, 24, 24])\n",
      "pool1: torch.Size([64, 10, 12, 12])\n",
      "start: torch.Size([64, 1, 28, 28])\n",
      "conv1: torch.Size([64, 10, 24, 24])\n",
      "pool1: torch.Size([64, 10, 12, 12])\n",
      "start: torch.Size([64, 1, 28, 28])\n",
      "conv1: torch.Size([64, 10, 24, 24])\n",
      "pool1: torch.Size([64, 10, 12, 12])\n",
      "start: torch.Size([64, 1, 28, 28])\n",
      "conv1: torch.Size([64, 10, 24, 24])\n",
      "pool1: torch.Size([64, 10, 12, 12])\n",
      "start: torch.Size([64, 1, 28, 28])\n",
      "conv1: torch.Size([64, 10, 24, 24])\n",
      "pool1: torch.Size([64, 10, 12, 12])\n",
      "start: torch.Size([64, 1, 28, 28])\n",
      "conv1: torch.Size([64, 10, 24, 24])\n",
      "pool1: torch.Size([64, 10, 12, 12])\n",
      "start: torch.Size([64, 1, 28, 28])\n",
      "conv1: torch.Size([64, 10, 24, 24])\n",
      "pool1: torch.Size([64, 10, 12, 12])\n",
      "start: torch.Size([64, 1, 28, 28])\n",
      "conv1: torch.Size([64, 10, 24, 24])\n",
      "pool1: torch.Size([64, 10, 12, 12])\n",
      "start: torch.Size([64, 1, 28, 28])\n",
      "conv1: torch.Size([64, 10, 24, 24])\n",
      "pool1: torch.Size([64, 10, 12, 12])\n",
      "start: torch.Size([64, 1, 28, 28])\n",
      "conv1: torch.Size([64, 10, 24, 24])\n",
      "pool1: torch.Size([64, 10, 12, 12])\n",
      "start: torch.Size([64, 1, 28, 28])\n",
      "conv1: torch.Size([64, 10, 24, 24])\n",
      "pool1: torch.Size([64, 10, 12, 12])\n",
      "start: torch.Size([64, 1, 28, 28])\n",
      "conv1: torch.Size([64, 10, 24, 24])\n",
      "pool1: torch.Size([64, 10, 12, 12])\n",
      "start: torch.Size([64, 1, 28, 28])\n",
      "conv1: torch.Size([64, 10, 24, 24])\n",
      "pool1: torch.Size([64, 10, 12, 12])\n",
      "start: torch.Size([64, 1, 28, 28])\n",
      "conv1: torch.Size([64, 10, 24, 24])\n",
      "pool1: torch.Size([64, 10, 12, 12])\n",
      "start: torch.Size([64, 1, 28, 28])\n",
      "conv1: torch.Size([64, 10, 24, 24])\n",
      "pool1: torch.Size([64, 10, 12, 12])\n",
      "start: torch.Size([64, 1, 28, 28])\n",
      "conv1: torch.Size([64, 10, 24, 24])\n",
      "pool1: torch.Size([64, 10, 12, 12])\n",
      "start: torch.Size([64, 1, 28, 28])\n",
      "conv1: torch.Size([64, 10, 24, 24])\n",
      "pool1: torch.Size([64, 10, 12, 12])\n",
      "start: torch.Size([64, 1, 28, 28])\n",
      "conv1: torch.Size([64, 10, 24, 24])\n",
      "pool1: torch.Size([64, 10, 12, 12])\n",
      "start: torch.Size([64, 1, 28, 28])\n",
      "conv1: torch.Size([64, 10, 24, 24])\n",
      "pool1: torch.Size([64, 10, 12, 12])\n",
      "start: torch.Size([64, 1, 28, 28])\n",
      "conv1: torch.Size([64, 10, 24, 24])\n",
      "pool1: torch.Size([64, 10, 12, 12])\n",
      "start: torch.Size([64, 1, 28, 28])\n",
      "conv1: torch.Size([64, 10, 24, 24])\n",
      "pool1: torch.Size([64, 10, 12, 12])\n",
      "start: torch.Size([64, 1, 28, 28])\n",
      "conv1: torch.Size([64, 10, 24, 24])\n",
      "pool1: torch.Size([64, 10, 12, 12])\n",
      "start: torch.Size([64, 1, 28, 28])\n",
      "conv1: torch.Size([64, 10, 24, 24])\n",
      "pool1: torch.Size([64, 10, 12, 12])\n",
      "start: torch.Size([64, 1, 28, 28])\n",
      "conv1: torch.Size([64, 10, 24, 24])\n",
      "pool1: torch.Size([64, 10, 12, 12])\n",
      "start: torch.Size([64, 1, 28, 28])\n",
      "conv1: torch.Size([64, 10, 24, 24])\n",
      "pool1: torch.Size([64, 10, 12, 12])\n",
      "start: torch.Size([64, 1, 28, 28])\n",
      "conv1: torch.Size([64, 10, 24, 24])\n",
      "pool1: torch.Size([64, 10, 12, 12])\n",
      "start: torch.Size([64, 1, 28, 28])\n",
      "conv1: torch.Size([64, 10, 24, 24])\n",
      "pool1: torch.Size([64, 10, 12, 12])\n",
      "start: torch.Size([64, 1, 28, 28])\n",
      "conv1: torch.Size([64, 10, 24, 24])\n",
      "pool1: torch.Size([64, 10, 12, 12])\n",
      "start: torch.Size([64, 1, 28, 28])\n",
      "conv1: torch.Size([64, 10, 24, 24])\n",
      "pool1: torch.Size([64, 10, 12, 12])\n",
      "start: torch.Size([64, 1, 28, 28])\n",
      "conv1: torch.Size([64, 10, 24, 24])\n",
      "pool1: torch.Size([64, 10, 12, 12])\n",
      "start: torch.Size([64, 1, 28, 28])\n",
      "conv1: torch.Size([64, 10, 24, 24])\n",
      "pool1: torch.Size([64, 10, 12, 12])\n",
      "start: torch.Size([64, 1, 28, 28])\n",
      "conv1: torch.Size([64, 10, 24, 24])\n",
      "pool1: torch.Size([64, 10, 12, 12])\n",
      "start: torch.Size([64, 1, 28, 28])\n",
      "conv1: torch.Size([64, 10, 24, 24])\n",
      "pool1: torch.Size([64, 10, 12, 12])\n",
      "start: torch.Size([64, 1, 28, 28])\n",
      "conv1: torch.Size([64, 10, 24, 24])\n",
      "pool1: torch.Size([64, 10, 12, 12])\n",
      "start: torch.Size([64, 1, 28, 28])\n",
      "conv1: torch.Size([64, 10, 24, 24])\n",
      "pool1: torch.Size([64, 10, 12, 12])\n",
      "start: torch.Size([64, 1, 28, 28])\n",
      "conv1: torch.Size([64, 10, 24, 24])\n",
      "pool1: torch.Size([64, 10, 12, 12])\n",
      "start: torch.Size([16, 1, 28, 28])\n",
      "conv1: torch.Size([16, 10, 24, 24])\n",
      "pool1: torch.Size([16, 10, 12, 12])\n",
      "average loss:  0.10068574243336915\n",
      "accuracy:  97 %\n"
     ]
    },
    {
     "name": "stderr",
     "output_type": "stream",
     "text": [
      "Epoch 3:   0%|                                                   | 0/938 [00:00<?, ?batch/s, accuracy=98.4, loss=0.122]"
     ]
    },
    {
     "name": "stdout",
     "output_type": "stream",
     "text": [
      "start: torch.Size([64, 1, 28, 28])\n",
      "conv1: torch.Size([64, 10, 24, 24])\n",
      "pool1: torch.Size([64, 10, 12, 12])\n",
      "start: torch.Size([64, 1, 28, 28])\n",
      "conv1: torch.Size([64, 10, 24, 24])\n",
      "pool1: torch.Size([64, 10, 12, 12])\n"
     ]
    },
    {
     "name": "stderr",
     "output_type": "stream",
     "text": [
      "Epoch 3:   0%|▏                                          | 4/938 [00:00<00:26, 35.18batch/s, accuracy=96.9, loss=0.214]"
     ]
    },
    {
     "name": "stdout",
     "output_type": "stream",
     "text": [
      "start: torch.Size([64, 1, 28, 28])\n",
      "conv1: torch.Size([64, 10, 24, 24])\n",
      "pool1: torch.Size([64, 10, 12, 12])\n",
      "start: torch.Size([64, 1, 28, 28])\n",
      "conv1: torch.Size([64, 10, 24, 24])\n",
      "pool1: torch.Size([64, 10, 12, 12])\n",
      "start: torch.Size([64, 1, 28, 28])\n",
      "conv1: torch.Size([64, 10, 24, 24])\n",
      "pool1: torch.Size([64, 10, 12, 12])\n",
      "start: torch.Size([64, 1, 28, 28])\n",
      "conv1: torch.Size([64, 10, 24, 24])\n",
      "pool1: torch.Size([64, 10, 12, 12])\n",
      "start: torch.Size([64, 1, 28, 28])\n",
      "conv1: torch.Size([64, 10, 24, 24])\n",
      "pool1: torch.Size([64, 10, 12, 12])\n",
      "start: torch.Size([64, 1, 28, 28])\n"
     ]
    },
    {
     "name": "stderr",
     "output_type": "stream",
     "text": [
      "Epoch 3:   1%|▎                                          | 8/938 [00:00<00:26, 35.36batch/s, accuracy=95.3, loss=0.143]"
     ]
    },
    {
     "name": "stdout",
     "output_type": "stream",
     "text": [
      "conv1: torch.Size([64, 10, 24, 24])\n",
      "pool1: torch.Size([64, 10, 12, 12])\n",
      "start: torch.Size([64, 1, 28, 28])\n",
      "conv1: torch.Size([64, 10, 24, 24])\n",
      "pool1: torch.Size([64, 10, 12, 12])\n"
     ]
    },
    {
     "name": "stderr",
     "output_type": "stream",
     "text": [
      "Epoch 3:   1%|▌                                        | 12/938 [00:00<00:25, 36.45batch/s, accuracy=96.9, loss=0.0799]"
     ]
    },
    {
     "name": "stdout",
     "output_type": "stream",
     "text": [
      "start: torch.Size([64, 1, 28, 28])\n",
      "conv1: torch.Size([64, 10, 24, 24])\n",
      "pool1: torch.Size([64, 10, 12, 12])\n",
      "start: torch.Size([64, 1, 28, 28])\n",
      "conv1: torch.Size([64, 10, 24, 24])\n",
      "pool1: torch.Size([64, 10, 12, 12])\n",
      "start: torch.Size([64, 1, 28, 28])\n",
      "conv1: torch.Size([64, 10, 24, 24])\n",
      "pool1: torch.Size([64, 10, 12, 12])\n",
      "start: torch.Size([64, 1, 28, 28])\n",
      "conv1: torch.Size([64, 10, 24, 24])\n",
      "pool1: torch.Size([64, 10, 12, 12])\n",
      "start: torch.Size([64, 1, 28, 28])\n",
      "conv1: torch.Size([64, 10, 24, 24])\n",
      "pool1: torch.Size([64, 10, 12, 12])\n",
      "start: torch.Size([64, 1, 28, 28])\n",
      "conv1: torch.Size([64, 10, 24, 24])\n",
      "pool1: torch.Size([64, 10, 12, 12])\n"
     ]
    },
    {
     "name": "stderr",
     "output_type": "stream",
     "text": [
      "Epoch 3:   2%|▋                                         | 16/938 [00:00<00:24, 37.26batch/s, accuracy=90.6, loss=0.287]"
     ]
    },
    {
     "name": "stdout",
     "output_type": "stream",
     "text": [
      "start: torch.Size([64, 1, 28, 28])\n",
      "conv1: torch.Size([64, 10, 24, 24])\n",
      "pool1: torch.Size([64, 10, 12, 12])\n",
      "start: torch.Size([64, 1, 28, 28])\n"
     ]
    },
    {
     "name": "stderr",
     "output_type": "stream",
     "text": [
      "Epoch 3:   2%|▉                                         | 20/938 [00:00<00:24, 37.34batch/s, accuracy=100, loss=0.0334]"
     ]
    },
    {
     "name": "stdout",
     "output_type": "stream",
     "text": [
      "conv1: torch.Size([64, 10, 24, 24])\n",
      "pool1: torch.Size([64, 10, 12, 12])\n",
      "start: torch.Size([64, 1, 28, 28])\n",
      "conv1: torch.Size([64, 10, 24, 24])\n",
      "pool1: torch.Size([64, 10, 12, 12])\n",
      "start: torch.Size([64, 1, 28, 28])\n",
      "conv1: torch.Size([64, 10, 24, 24])\n",
      "pool1: torch.Size([64, 10, 12, 12])\n",
      "start: torch.Size([64, 1, 28, 28])\n",
      "conv1: torch.Size([64, 10, 24, 24])\n",
      "pool1: torch.Size([64, 10, 12, 12])\n",
      "start: torch.Size([64, 1, 28, 28])\n",
      "conv1: torch.Size([64, 10, 24, 24])\n",
      "pool1: torch.Size([64, 10, 12, 12])\n",
      "start: torch.Size([64, 1, 28, 28])\n",
      "conv1: torch.Size([64, 10, 24, 24])\n",
      "pool1: torch.Size([64, 10, 12, 12])\n",
      "start: torch.Size([64, 1, 28, 28])\n",
      "conv1: torch.Size([64, 10, 24, 24])\n"
     ]
    },
    {
     "name": "stderr",
     "output_type": "stream",
     "text": [
      "Epoch 3:   2%|▉                                         | 20/938 [00:00<00:24, 37.34batch/s, accuracy=96.9, loss=0.079]"
     ]
    },
    {
     "name": "stdout",
     "output_type": "stream",
     "text": [
      "pool1: torch.Size([64, 10, 12, 12])\n",
      "start: torch.Size([64, 1, 28, 28])\n",
      "conv1: torch.Size([64, 10, 24, 24])\n",
      "pool1: torch.Size([64, 10, 12, 12])\n"
     ]
    },
    {
     "name": "stderr",
     "output_type": "stream",
     "text": [
      "Epoch 3:   3%|█▎                                         | 29/938 [00:00<00:23, 38.14batch/s, accuracy=95.3, loss=0.32]"
     ]
    },
    {
     "name": "stdout",
     "output_type": "stream",
     "text": [
      "start: torch.Size([64, 1, 28, 28])\n",
      "conv1: torch.Size([64, 10, 24, 24])\n",
      "pool1: torch.Size([64, 10, 12, 12])\n",
      "start: torch.Size([64, 1, 28, 28])\n",
      "conv1: torch.Size([64, 10, 24, 24])\n",
      "pool1: torch.Size([64, 10, 12, 12])\n",
      "start: torch.Size([64, 1, 28, 28])\n",
      "conv1: torch.Size([64, 10, 24, 24])\n",
      "pool1: torch.Size([64, 10, 12, 12])\n",
      "start: torch.Size([64, 1, 28, 28])\n",
      "conv1: torch.Size([64, 10, 24, 24])\n",
      "pool1: torch.Size([64, 10, 12, 12])\n",
      "start: torch.Size([64, 1, 28, 28])\n",
      "conv1: torch.Size([64, 10, 24, 24])\n",
      "pool1: torch.Size([64, 10, 12, 12])\n",
      "start: torch.Size([64, 1, 28, 28])\n",
      "conv1: torch.Size([64, 10, 24, 24])\n",
      "pool1: torch.Size([64, 10, 12, 12])\n"
     ]
    },
    {
     "name": "stderr",
     "output_type": "stream",
     "text": [
      "Epoch 3:   3%|█▎                                       | 29/938 [00:00<00:23, 38.14batch/s, accuracy=96.9, loss=0.0842]"
     ]
    },
    {
     "name": "stdout",
     "output_type": "stream",
     "text": [
      "start: torch.Size([64, 1, 28, 28])\n",
      "conv1: torch.Size([64, 10, 24, 24])\n",
      "pool1: torch.Size([64, 10, 12, 12])\n",
      "start: torch.Size([64, 1, 28, 28])\n"
     ]
    },
    {
     "name": "stderr",
     "output_type": "stream",
     "text": [
      "Epoch 3:   4%|█▍                                        | 33/938 [00:00<00:24, 36.97batch/s, accuracy=93.8, loss=0.202]"
     ]
    },
    {
     "name": "stdout",
     "output_type": "stream",
     "text": [
      "conv1: torch.Size([64, 10, 24, 24])\n",
      "pool1: torch.Size([64, 10, 12, 12])\n",
      "start: torch.Size([64, 1, 28, 28])\n",
      "conv1: torch.Size([64, 10, 24, 24])\n",
      "pool1: torch.Size([64, 10, 12, 12])\n",
      "start: torch.Size([64, 1, 28, 28])\n",
      "conv1: torch.Size([64, 10, 24, 24])\n",
      "pool1: torch.Size([64, 10, 12, 12])\n",
      "start: torch.Size([64, 1, 28, 28])\n",
      "conv1: torch.Size([64, 10, 24, 24])\n",
      "pool1: torch.Size([64, 10, 12, 12])\n",
      "start: torch.Size([64, 1, 28, 28])\n",
      "conv1: torch.Size([64, 10, 24, 24])\n",
      "pool1: torch.Size([64, 10, 12, 12])\n",
      "start: torch.Size([64, 1, 28, 28])\n",
      "conv1: torch.Size([64, 10, 24, 24])\n",
      "pool1: torch.Size([64, 10, 12, 12])\n"
     ]
    },
    {
     "name": "stderr",
     "output_type": "stream",
     "text": [
      "Epoch 3:   4%|█▋                                        | 37/938 [00:01<00:24, 36.71batch/s, accuracy=93.8, loss=0.111]"
     ]
    },
    {
     "name": "stdout",
     "output_type": "stream",
     "text": [
      "start: torch.Size([64, 1, 28, 28])\n",
      "conv1: torch.Size([64, 10, 24, 24])\n",
      "pool1: torch.Size([64, 10, 12, 12])\n"
     ]
    },
    {
     "name": "stderr",
     "output_type": "stream",
     "text": [
      "Epoch 3:   4%|█▊                                       | 41/938 [00:01<00:24, 36.43batch/s, accuracy=98.4, loss=0.0445]"
     ]
    },
    {
     "name": "stdout",
     "output_type": "stream",
     "text": [
      "start: torch.Size([64, 1, 28, 28])\n",
      "conv1: torch.Size([64, 10, 24, 24])\n",
      "pool1: torch.Size([64, 10, 12, 12])\n",
      "start: torch.Size([64, 1, 28, 28])\n",
      "conv1: torch.Size([64, 10, 24, 24])\n",
      "pool1: torch.Size([64, 10, 12, 12])\n",
      "start: torch.Size([64, 1, 28, 28])\n",
      "conv1: torch.Size([64, 10, 24, 24])\n",
      "pool1: torch.Size([64, 10, 12, 12])\n",
      "start: torch.Size([64, 1, 28, 28])\n",
      "conv1: torch.Size([64, 10, 24, 24])\n",
      "pool1: torch.Size([64, 10, 12, 12])\n",
      "start: torch.Size([64, 1, 28, 28])\n",
      "conv1: torch.Size([64, 10, 24, 24])\n",
      "pool1: torch.Size([64, 10, 12, 12])\n",
      "start: torch.Size([64, 1, 28, 28])\n",
      "conv1: torch.Size([64, 10, 24, 24])\n",
      "pool1: torch.Size([64, 10, 12, 12])\n"
     ]
    },
    {
     "name": "stderr",
     "output_type": "stream",
     "text": [
      "Epoch 3:   5%|██                                        | 45/938 [00:01<00:24, 36.05batch/s, accuracy=93.8, loss=0.406]"
     ]
    },
    {
     "name": "stdout",
     "output_type": "stream",
     "text": [
      "start: torch.Size([64, 1, 28, 28])\n",
      "conv1: torch.Size([64, 10, 24, 24])\n",
      "pool1: torch.Size([64, 10, 12, 12])\n",
      "start: torch.Size([64, 1, 28, 28])\n"
     ]
    },
    {
     "name": "stderr",
     "output_type": "stream",
     "text": [
      "Epoch 3:   5%|██▏                                       | 49/938 [00:01<00:24, 36.27batch/s, accuracy=96.9, loss=0.109]"
     ]
    },
    {
     "name": "stdout",
     "output_type": "stream",
     "text": [
      "conv1: torch.Size([64, 10, 24, 24])\n",
      "pool1: torch.Size([64, 10, 12, 12])\n",
      "start: torch.Size([64, 1, 28, 28])\n",
      "conv1: torch.Size([64, 10, 24, 24])\n",
      "pool1: torch.Size([64, 10, 12, 12])\n",
      "start: torch.Size([64, 1, 28, 28])\n",
      "conv1: torch.Size([64, 10, 24, 24])\n",
      "pool1: torch.Size([64, 10, 12, 12])\n",
      "start: torch.Size([64, 1, 28, 28])\n",
      "conv1: torch.Size([64, 10, 24, 24])\n",
      "pool1: torch.Size([64, 10, 12, 12])\n",
      "start: torch.Size([64, 1, 28, 28])\n",
      "conv1: torch.Size([64, 10, 24, 24])\n",
      "pool1: torch.Size([64, 10, 12, 12])\n",
      "start: torch.Size([64, 1, 28, 28])\n",
      "conv1: torch.Size([64, 10, 24, 24])\n",
      "pool1: torch.Size([64, 10, 12, 12])\n"
     ]
    },
    {
     "name": "stderr",
     "output_type": "stream",
     "text": [
      "Epoch 3:   5%|██▏                                       | 49/938 [00:01<00:24, 36.27batch/s, accuracy=95.3, loss=0.164]"
     ]
    },
    {
     "name": "stdout",
     "output_type": "stream",
     "text": [
      "start: torch.Size([64, 1, 28, 28])\n",
      "conv1: torch.Size([64, 10, 24, 24])\n",
      "pool1: torch.Size([64, 10, 12, 12])\n",
      "start: torch.Size([64, 1, 28, 28])\n"
     ]
    },
    {
     "name": "stderr",
     "output_type": "stream",
     "text": [
      "Epoch 3:   6%|██▍                                      | 57/938 [00:01<00:24, 36.48batch/s, accuracy=98.4, loss=0.0643]"
     ]
    },
    {
     "name": "stdout",
     "output_type": "stream",
     "text": [
      "conv1: torch.Size([64, 10, 24, 24])\n",
      "pool1: torch.Size([64, 10, 12, 12])\n",
      "start: torch.Size([64, 1, 28, 28])\n",
      "conv1: torch.Size([64, 10, 24, 24])\n",
      "pool1: torch.Size([64, 10, 12, 12])\n",
      "start: torch.Size([64, 1, 28, 28])\n",
      "conv1: torch.Size([64, 10, 24, 24])\n",
      "pool1: torch.Size([64, 10, 12, 12])\n",
      "start: torch.Size([64, 1, 28, 28])\n",
      "conv1: torch.Size([64, 10, 24, 24])\n",
      "pool1: torch.Size([64, 10, 12, 12])\n",
      "start: torch.Size([64, 1, 28, 28])\n",
      "conv1: torch.Size([64, 10, 24, 24])\n",
      "pool1: torch.Size([64, 10, 12, 12])\n",
      "start: torch.Size([64, 1, 28, 28])\n",
      "conv1: torch.Size([64, 10, 24, 24])\n",
      "pool1: torch.Size([64, 10, 12, 12])\n",
      "start: torch.Size([64, 1, 28, 28])\n"
     ]
    },
    {
     "name": "stderr",
     "output_type": "stream",
     "text": [
      "\r",
      "Epoch 3:   6%|██▍                                      | 57/938 [00:01<00:24, 36.48batch/s, accuracy=98.4, loss=0.0643]"
     ]
    },
    {
     "name": "stdout",
     "output_type": "stream",
     "text": [
      "conv1: torch.Size([64, 10, 24, 24])\n",
      "pool1: torch.Size([64, 10, 12, 12])\n"
     ]
    },
    {
     "name": "stderr",
     "output_type": "stream",
     "text": [
      "Epoch 3:   7%|██▋                                       | 61/938 [00:01<00:24, 36.36batch/s, accuracy=95.3, loss=0.211]"
     ]
    },
    {
     "name": "stdout",
     "output_type": "stream",
     "text": [
      "start: torch.Size([64, 1, 28, 28])\n",
      "conv1: torch.Size([64, 10, 24, 24])\n",
      "pool1: torch.Size([64, 10, 12, 12])\n",
      "start: torch.Size([64, 1, 28, 28])\n",
      "conv1: torch.Size([64, 10, 24, 24])\n",
      "pool1: torch.Size([64, 10, 12, 12])\n",
      "start: torch.Size([64, 1, 28, 28])\n",
      "conv1: torch.Size([64, 10, 24, 24])\n",
      "pool1: torch.Size([64, 10, 12, 12])\n",
      "start: torch.Size([64, 1, 28, 28])\n",
      "conv1: torch.Size([64, 10, 24, 24])\n",
      "pool1: torch.Size([64, 10, 12, 12])\n",
      "start: torch.Size([64, 1, 28, 28])\n",
      "conv1: torch.Size([64, 10, 24, 24])\n",
      "pool1: torch.Size([64, 10, 12, 12])\n",
      "start: torch.Size([64, 1, 28, 28])\n"
     ]
    },
    {
     "name": "stderr",
     "output_type": "stream",
     "text": [
      "Epoch 3:   7%|██▉                                       | 65/938 [00:01<00:25, 33.99batch/s, accuracy=93.8, loss=0.241]"
     ]
    },
    {
     "name": "stdout",
     "output_type": "stream",
     "text": [
      "conv1: torch.Size([64, 10, 24, 24])\n",
      "pool1: torch.Size([64, 10, 12, 12])\n",
      "start: torch.Size([64, 1, 28, 28])\n"
     ]
    },
    {
     "name": "stderr",
     "output_type": "stream",
     "text": [
      "Epoch 3:   7%|███                                      | 69/938 [00:01<00:25, 33.57batch/s, accuracy=95.3, loss=0.0853]"
     ]
    },
    {
     "name": "stdout",
     "output_type": "stream",
     "text": [
      "conv1: torch.Size([64, 10, 24, 24])\n",
      "pool1: torch.Size([64, 10, 12, 12])\n",
      "start: torch.Size([64, 1, 28, 28])\n",
      "conv1: torch.Size([64, 10, 24, 24])\n",
      "pool1: torch.Size([64, 10, 12, 12])\n",
      "start: torch.Size([64, 1, 28, 28])\n",
      "conv1: torch.Size([64, 10, 24, 24])\n",
      "pool1: torch.Size([64, 10, 12, 12])\n",
      "start: torch.Size([64, 1, 28, 28])\n",
      "conv1: torch.Size([64, 10, 24, 24])\n",
      "pool1: torch.Size([64, 10, 12, 12])\n",
      "start: torch.Size([64, 1, 28, 28])\n",
      "conv1: torch.Size([64, 10, 24, 24])\n",
      "pool1: torch.Size([64, 10, 12, 12])\n",
      "start: torch.Size([64, 1, 28, 28])\n",
      "conv1: "
     ]
    },
    {
     "name": "stderr",
     "output_type": "stream",
     "text": [
      "Epoch 3:   7%|███                                       | 69/938 [00:01<00:25, 33.57batch/s, accuracy=87.5, loss=0.718]"
     ]
    },
    {
     "name": "stdout",
     "output_type": "stream",
     "text": [
      "torch.Size([64, 10, 24, 24])\n",
      "pool1: torch.Size([64, 10, 12, 12])\n",
      "start: torch.Size([64, 1, 28, 28])\n",
      "conv1: torch.Size([64, 10, 24, 24])\n",
      "pool1: torch.Size([64, 10, 12, 12])\n"
     ]
    },
    {
     "name": "stderr",
     "output_type": "stream",
     "text": [
      "Epoch 3:   8%|███▎                                      | 73/938 [00:02<00:25, 33.61batch/s, accuracy=92.2, loss=0.174]"
     ]
    },
    {
     "name": "stdout",
     "output_type": "stream",
     "text": [
      "start: torch.Size([64, 1, 28, 28])\n",
      "conv1: torch.Size([64, 10, 24, 24])\n",
      "pool1: torch.Size([64, 10, 12, 12])\n",
      "start: torch.Size([64, 1, 28, 28])\n",
      "conv1: torch.Size([64, 10, 24, 24])\n",
      "pool1: torch.Size([64, 10, 12, 12])\n",
      "start: torch.Size([64, 1, 28, 28])\n",
      "conv1: torch.Size([64, 10, 24, 24])\n",
      "pool1: torch.Size([64, 10, 12, 12])\n",
      "start: torch.Size([64, 1, 28, 28])\n",
      "conv1: torch.Size([64, 10, 24, 24])\n",
      "pool1: torch.Size([64, 10, 12, 12])\n",
      "start: torch.Size([64, 1, 28, 28])\n",
      "conv1: torch.Size([64, 10, 24, 24])\n",
      "pool1: torch.Size([64, 10, 12, 12])\n"
     ]
    },
    {
     "name": "stderr",
     "output_type": "stream",
     "text": [
      "Epoch 3:   8%|███▍                                      | 77/938 [00:02<00:25, 33.72batch/s, accuracy=90.6, loss=0.464]"
     ]
    },
    {
     "name": "stdout",
     "output_type": "stream",
     "text": [
      "start: torch.Size([64, 1, 28, 28])\n",
      "conv1: torch.Size([64, 10, 24, 24])\n",
      "pool1: torch.Size([64, 10, 12, 12])\n",
      "start: torch.Size([64, 1, 28, 28])\n",
      "conv1: torch.Size([64, 10, 24, 24])\n",
      "pool1: torch.Size([64, 10, 12, 12])\n"
     ]
    },
    {
     "name": "stderr",
     "output_type": "stream",
     "text": [
      "Epoch 3:   9%|███▋                                      | 81/938 [00:02<00:24, 35.04batch/s, accuracy=92.2, loss=0.409]"
     ]
    },
    {
     "name": "stdout",
     "output_type": "stream",
     "text": [
      "start: torch.Size([64, 1, 28, 28])\n",
      "conv1: torch.Size([64, 10, 24, 24])\n",
      "pool1: torch.Size([64, 10, 12, 12])\n",
      "start: torch.Size([64, 1, 28, 28])\n",
      "conv1: torch.Size([64, 10, 24, 24])\n",
      "pool1: torch.Size([64, 10, 12, 12])\n",
      "start: torch.Size([64, 1, 28, 28])\n",
      "conv1: torch.Size([64, 10, 24, 24])\n",
      "pool1: torch.Size([64, 10, 12, 12])\n",
      "start: torch.Size([64, 1, 28, 28])\n",
      "conv1: torch.Size([64, 10, 24, 24])\n",
      "pool1: torch.Size([64, 10, 12, 12])\n",
      "start: torch.Size([64, 1, 28, 28])\n",
      "conv1: torch.Size([64, 10, 24, 24])\n",
      "pool1: torch.Size([64, 10, 12, 12])\n"
     ]
    },
    {
     "name": "stderr",
     "output_type": "stream",
     "text": [
      "Epoch 3:   9%|███▊                                      | 85/938 [00:02<00:24, 34.45batch/s, accuracy=90.6, loss=0.265]"
     ]
    },
    {
     "name": "stdout",
     "output_type": "stream",
     "text": [
      "start: torch.Size([64, 1, 28, 28])\n",
      "conv1: torch.Size([64, 10, 24, 24])\n",
      "pool1: torch.Size([64, 10, 12, 12])\n",
      "start: torch.Size([64, 1, 28, 28])\n",
      "conv1: torch.Size([64, 10, 24, 24])\n",
      "pool1: torch.Size([64, 10, 12, 12])\n"
     ]
    },
    {
     "name": "stderr",
     "output_type": "stream",
     "text": [
      "Epoch 3:   9%|███▉                                      | 89/938 [00:02<00:24, 34.40batch/s, accuracy=95.3, loss=0.157]"
     ]
    },
    {
     "name": "stdout",
     "output_type": "stream",
     "text": [
      "start: torch.Size([64, 1, 28, 28])\n",
      "conv1: torch.Size([64, 10, 24, 24])\n",
      "pool1: torch.Size([64, 10, 12, 12])\n",
      "start: torch.Size([64, 1, 28, 28])\n",
      "conv1: torch.Size([64, 10, 24, 24])\n",
      "pool1: torch.Size([64, 10, 12, 12])\n",
      "start: torch.Size([64, 1, 28, 28])\n",
      "conv1: torch.Size([64, 10, 24, 24])\n",
      "pool1: torch.Size([64, 10, 12, 12])\n",
      "start: torch.Size([64, 1, 28, 28])\n",
      "conv1: torch.Size([64, 10, 24, 24])\n",
      "pool1: torch.Size([64, 10, 12, 12])\n",
      "start: torch.Size([64, 1, 28, 28])\n"
     ]
    },
    {
     "name": "stderr",
     "output_type": "stream",
     "text": [
      "Epoch 3:   9%|███▉                                      | 89/938 [00:02<00:24, 34.40batch/s, accuracy=93.8, loss=0.162]"
     ]
    },
    {
     "name": "stdout",
     "output_type": "stream",
     "text": [
      "conv1: torch.Size([64, 10, 24, 24])\n",
      "pool1: torch.Size([64, 10, 12, 12])\n",
      "start: torch.Size([64, 1, 28, 28])\n",
      "conv1: torch.Size([64, 10, 24, 24])\n",
      "pool1: torch.Size([64, 10, 12, 12])\n",
      "start: torch.Size([64, 1, 28, 28])\n"
     ]
    },
    {
     "name": "stderr",
     "output_type": "stream",
     "text": [
      "Epoch 3:  10%|████▏                                     | 93/938 [00:02<00:25, 33.59batch/s, accuracy=87.5, loss=0.412]"
     ]
    },
    {
     "name": "stdout",
     "output_type": "stream",
     "text": [
      "conv1: torch.Size([64, 10, 24, 24])\n",
      "pool1: torch.Size([64, 10, 12, 12])\n",
      "start: torch.Size([64, 1, 28, 28])\n",
      "conv1: torch.Size([64, 10, 24, 24])\n",
      "pool1: torch.Size([64, 10, 12, 12])\n",
      "start: torch.Size([64, 1, 28, 28])\n",
      "conv1: torch.Size([64, 10, 24, 24])\n",
      "pool1: torch.Size([64, 10, 12, 12])\n",
      "start: torch.Size([64, 1, 28, 28])\n",
      "conv1: torch.Size([64, 10, 24, 24])\n",
      "pool1: torch.Size([64, 10, 12, 12])\n",
      "start: torch.Size([64, 1, 28, 28])\n"
     ]
    },
    {
     "name": "stderr",
     "output_type": "stream",
     "text": [
      "Epoch 3:  10%|████▏                                    | 97/938 [00:02<00:25, 32.40batch/s, accuracy=96.9, loss=0.0933]"
     ]
    },
    {
     "name": "stdout",
     "output_type": "stream",
     "text": [
      "conv1: torch.Size([64, 10, 24, 24])\n",
      "pool1: torch.Size([64, 10, 12, 12])\n",
      "start: torch.Size([64, 1, 28, 28])\n",
      "conv1: torch.Size([64, 10, 24, 24])\n",
      "pool1: torch.Size([64, 10, 12, 12])\n",
      "start: torch.Size([64, 1, 28, 28])\n"
     ]
    },
    {
     "name": "stderr",
     "output_type": "stream",
     "text": [
      "Epoch 3:  11%|████▍                                    | 101/938 [00:02<00:26, 31.92batch/s, accuracy=93.8, loss=0.201]"
     ]
    },
    {
     "name": "stdout",
     "output_type": "stream",
     "text": [
      "conv1: torch.Size([64, 10, 24, 24])\n",
      "pool1: torch.Size([64, 10, 12, 12])\n",
      "start: torch.Size([64, 1, 28, 28])\n",
      "conv1: torch.Size([64, 10, 24, 24])\n",
      "pool1: torch.Size([64, 10, 12, 12])\n",
      "start: torch.Size([64, 1, 28, 28])\n",
      "conv1: torch.Size([64, 10, 24, 24])\n",
      "pool1: torch.Size([64, 10, 12, 12])\n",
      "start: torch.Size([64, 1, 28, 28])\n",
      "conv1: torch.Size([64, 10, 24, 24])\n",
      "pool1: torch.Size([64, 10, 12, 12])\n"
     ]
    },
    {
     "name": "stderr",
     "output_type": "stream",
     "text": [
      "Epoch 3:  11%|████▍                                    | 101/938 [00:02<00:26, 31.92batch/s, accuracy=93.8, loss=0.184]"
     ]
    },
    {
     "name": "stdout",
     "output_type": "stream",
     "text": [
      "start: torch.Size([64, 1, 28, 28])\n",
      "conv1: torch.Size([64, 10, 24, 24])\n",
      "pool1: torch.Size([64, 10, 12, 12])\n",
      "start: torch.Size([64, 1, 28, 28])\n",
      "conv1: torch.Size([64, 10, 24, 24])\n",
      "pool1: torch.Size([64, 10, 12, 12])\n",
      "start: torch.Size([64, 1, 28, 28])\n"
     ]
    },
    {
     "name": "stderr",
     "output_type": "stream",
     "text": [
      "Epoch 3:  11%|████▍                                   | 105/938 [00:03<00:26, 31.52batch/s, accuracy=96.9, loss=0.0621]"
     ]
    },
    {
     "name": "stdout",
     "output_type": "stream",
     "text": [
      "conv1: torch.Size([64, 10, 24, 24])\n",
      "pool1: torch.Size([64, 10, 12, 12])\n",
      "start: torch.Size([64, 1, 28, 28])\n",
      "conv1: torch.Size([64, 10, 24, 24])\n",
      "pool1: torch.Size([64, 10, 12, 12])\n",
      "start: torch.Size([64, 1, 28, 28])\n",
      "conv1: torch.Size([64, 10, 24, 24])\n",
      "pool1: torch.Size([64, 10, 12, 12])\n",
      "start: torch.Size([64, 1, 28, 28])\n",
      "conv1: torch.Size([64, 10, 24, 24])\n",
      "pool1: torch.Size([64, 10, 12, 12])\n",
      "start: torch.Size([64, 1, 28, 28])\n"
     ]
    },
    {
     "name": "stderr",
     "output_type": "stream",
     "text": [
      "Epoch 3:  12%|████▊                                    | 109/938 [00:03<00:26, 31.31batch/s, accuracy=96.9, loss=0.192]"
     ]
    },
    {
     "name": "stdout",
     "output_type": "stream",
     "text": [
      "conv1: torch.Size([64, 10, 24, 24])\n",
      "pool1: torch.Size([64, 10, 12, 12])\n",
      "start: torch.Size([64, 1, 28, 28])\n",
      "conv1: torch.Size([64, 10, 24, 24])\n",
      "pool1: torch.Size([64, 10, 12, 12])\n",
      "start: torch.Size([64, 1, 28, 28])\n"
     ]
    },
    {
     "name": "stderr",
     "output_type": "stream",
     "text": [
      "Epoch 3:  12%|████▉                                    | 113/938 [00:03<00:25, 32.46batch/s, accuracy=95.3, loss=0.183]"
     ]
    },
    {
     "name": "stdout",
     "output_type": "stream",
     "text": [
      "conv1: torch.Size([64, 10, 24, 24])\n",
      "pool1: torch.Size([64, 10, 12, 12])\n",
      "start: torch.Size([64, 1, 28, 28])\n",
      "conv1: torch.Size([64, 10, 24, 24])\n",
      "pool1: torch.Size([64, 10, 12, 12])\n",
      "start: torch.Size([64, 1, 28, 28])\n",
      "conv1: torch.Size([64, 10, 24, 24])\n",
      "pool1: torch.Size([64, 10, 12, 12])\n",
      "start: torch.Size([64, 1, 28, 28])\n",
      "conv1: torch.Size([64, 10, 24, 24])\n",
      "pool1: torch.Size([64, 10, 12, 12])\n",
      "start: torch.Size([64, 1, 28, 28])\n"
     ]
    },
    {
     "name": "stderr",
     "output_type": "stream",
     "text": [
      "Epoch 3:  12%|████▉                                    | 113/938 [00:03<00:25, 32.46batch/s, accuracy=93.8, loss=0.152]"
     ]
    },
    {
     "name": "stdout",
     "output_type": "stream",
     "text": [
      "conv1: torch.Size([64, 10, 24, 24])\n",
      "pool1: torch.Size([64, 10, 12, 12])\n",
      "start: torch.Size([64, 1, 28, 28])\n",
      "conv1: torch.Size([64, 10, 24, 24])\n",
      "pool1: torch.Size([64, 10, 12, 12])\n",
      "start: torch.Size([64, 1, 28, 28])\n"
     ]
    },
    {
     "name": "stderr",
     "output_type": "stream",
     "text": [
      "Epoch 3:  12%|█████                                    | 117/938 [00:03<00:25, 32.11batch/s, accuracy=95.3, loss=0.254]"
     ]
    },
    {
     "name": "stdout",
     "output_type": "stream",
     "text": [
      "conv1: torch.Size([64, 10, 24, 24])\n",
      "pool1: torch.Size([64, 10, 12, 12])\n",
      "start: torch.Size([64, 1, 28, 28])\n",
      "conv1: torch.Size([64, 10, 24, 24])\n",
      "pool1: torch.Size([64, 10, 12, 12])\n",
      "start: torch.Size([64, 1, 28, 28])\n",
      "conv1: torch.Size([64, 10, 24, 24])\n",
      "pool1: torch.Size([64, 10, 12, 12])\n",
      "start: torch.Size([64, 1, 28, 28])\n",
      "conv1: torch.Size([64, 10, 24, 24])\n",
      "pool1: torch.Size([64, 10, 12, 12])\n"
     ]
    },
    {
     "name": "stderr",
     "output_type": "stream",
     "text": [
      "Epoch 3:  12%|█████                                    | 117/938 [00:03<00:25, 32.11batch/s, accuracy=93.8, loss=0.165]"
     ]
    },
    {
     "name": "stdout",
     "output_type": "stream",
     "text": [
      "start: torch.Size([64, 1, 28, 28])\n",
      "conv1: torch.Size([64, 10, 24, 24])\n",
      "pool1: torch.Size([64, 10, 12, 12])\n"
     ]
    },
    {
     "name": "stderr",
     "output_type": "stream",
     "text": [
      "Epoch 3:  13%|█████▎                                  | 124/938 [00:03<00:29, 27.49batch/s, accuracy=96.9, loss=0.0896]"
     ]
    },
    {
     "name": "stdout",
     "output_type": "stream",
     "text": [
      "start: torch.Size([64, 1, 28, 28])\n",
      "conv1: torch.Size([64, 10, 24, 24])\n",
      "pool1: torch.Size([64, 10, 12, 12])\n",
      "start: torch.Size([64, 1, 28, 28])\n",
      "conv1: torch.Size([64, 10, 24, 24])\n",
      "pool1: torch.Size([64, 10, 12, 12])\n",
      "start: torch.Size([64, 1, 28, 28])\n",
      "conv1: torch.Size([64, 10, 24, 24])\n",
      "pool1: torch.Size([64, 10, 12, 12])\n",
      "start: torch.Size([64, 1, 28, 28])\n",
      "conv1: torch.Size([64, 10, 24, 24])\n",
      "pool1: torch.Size([64, 10, 12, 12])\n"
     ]
    },
    {
     "name": "stderr",
     "output_type": "stream",
     "text": [
      "Epoch 3:  13%|█████▍                                   | 124/938 [00:03<00:29, 27.49batch/s, accuracy=98.4, loss=0.111]"
     ]
    },
    {
     "name": "stdout",
     "output_type": "stream",
     "text": [
      "start: torch.Size([64, 1, 28, 28])\n",
      "conv1: torch.Size([64, 10, 24, 24])\n",
      "pool1: torch.Size([64, 10, 12, 12])\n",
      "start: torch.Size([64, 1, 28, 28])\n",
      "conv1: torch.Size([64, 10, 24, 24])\n",
      "pool1: torch.Size([64, 10, 12, 12])\n"
     ]
    },
    {
     "name": "stderr",
     "output_type": "stream",
     "text": [
      "Epoch 3:  14%|█████▌                                  | 131/938 [00:03<00:26, 30.36batch/s, accuracy=98.4, loss=0.0914]"
     ]
    },
    {
     "name": "stdout",
     "output_type": "stream",
     "text": [
      "start: torch.Size([64, 1, 28, 28])\n",
      "conv1: torch.Size([64, 10, 24, 24])\n",
      "pool1: torch.Size([64, 10, 12, 12])\n",
      "start: torch.Size([64, 1, 28, 28])\n",
      "conv1: torch.Size([64, 10, 24, 24])\n",
      "pool1: torch.Size([64, 10, 12, 12])\n",
      "start: torch.Size([64, 1, 28, 28])\n",
      "conv1: torch.Size([64, 10, 24, 24])\n",
      "pool1: torch.Size([64, 10, 12, 12])\n",
      "start: torch.Size([64, 1, 28, 28])\n",
      "conv1: torch.Size([64, 10, 24, 24])\n",
      "pool1: torch.Size([64, 10, 12, 12])\n",
      "start: torch.Size([64, 1, 28, 28])\n",
      "conv1: torch.Size([64, 10, 24, 24])\n"
     ]
    },
    {
     "name": "stderr",
     "output_type": "stream",
     "text": [
      "Epoch 3:  14%|█████▋                                   | 131/938 [00:03<00:26, 30.36batch/s, accuracy=92.2, loss=0.332]"
     ]
    },
    {
     "name": "stdout",
     "output_type": "stream",
     "text": [
      "pool1: torch.Size([64, 10, 12, 12])\n",
      "start: torch.Size([64, 1, 28, 28])\n",
      "conv1: torch.Size([64, 10, 24, 24])\n",
      "pool1: torch.Size([64, 10, 12, 12])\n",
      "start: torch.Size([64, 1, 28, 28])\n"
     ]
    },
    {
     "name": "stderr",
     "output_type": "stream",
     "text": [
      "Epoch 3:  14%|█████▉                                   | 135/938 [00:04<00:26, 30.07batch/s, accuracy=95.3, loss=0.254]"
     ]
    },
    {
     "name": "stdout",
     "output_type": "stream",
     "text": [
      "conv1: torch.Size([64, 10, 24, 24])\n",
      "pool1: torch.Size([64, 10, 12, 12])\n",
      "start: torch.Size([64, 1, 28, 28])\n",
      "conv1: torch.Size([64, 10, 24, 24])\n",
      "pool1: torch.Size([64, 10, 12, 12])\n",
      "start: torch.Size([64, 1, 28, 28])\n",
      "conv1: torch.Size([64, 10, 24, 24])\n",
      "pool1: torch.Size([64, 10, 12, 12])\n",
      "start: torch.Size([64, 1, 28, 28])\n",
      "conv1: torch.Size([64, 10, 24, 24])\n",
      "pool1: torch.Size([64, 10, 12, 12])\n"
     ]
    },
    {
     "name": "stderr",
     "output_type": "stream",
     "text": [
      "Epoch 3:  14%|█████▉                                   | 135/938 [00:04<00:26, 30.07batch/s, accuracy=92.2, loss=0.247]"
     ]
    },
    {
     "name": "stdout",
     "output_type": "stream",
     "text": [
      "start: torch.Size([64, 1, 28, 28])\n",
      "conv1: torch.Size([64, 10, 24, 24])\n",
      "pool1: torch.Size([64, 10, 12, 12])\n",
      "start: torch.Size([64, 1, 28, 28])\n",
      "conv1: torch.Size([64, 10, 24, 24])\n",
      "pool1: torch.Size([64, 10, 12, 12])\n"
     ]
    },
    {
     "name": "stderr",
     "output_type": "stream",
     "text": [
      "Epoch 3:  15%|██████▍                                   | 143/938 [00:04<00:26, 29.78batch/s, accuracy=95.3, loss=0.29]"
     ]
    },
    {
     "name": "stdout",
     "output_type": "stream",
     "text": [
      "start: torch.Size([64, 1, 28, 28])\n",
      "conv1: torch.Size([64, 10, 24, 24])\n",
      "pool1: torch.Size([64, 10, 12, 12])\n",
      "start: torch.Size([64, 1, 28, 28])\n",
      "conv1: torch.Size([64, 10, 24, 24])\n",
      "pool1: torch.Size([64, 10, 12, 12])\n",
      "start: torch.Size([64, 1, 28, 28])\n",
      "conv1: torch.Size([64, 10, 24, 24])\n",
      "pool1: torch.Size([64, 10, 12, 12])\n",
      "start: torch.Size([64, 1, 28, 28])\n",
      "conv1: torch.Size([64, 10, 24, 24])\n",
      "pool1: torch.Size([64, 10, 12, 12])\n"
     ]
    },
    {
     "name": "stderr",
     "output_type": "stream",
     "text": [
      "Epoch 3:  15%|██████▎                                  | 143/938 [00:04<00:26, 29.78batch/s, accuracy=96.9, loss=0.129]"
     ]
    },
    {
     "name": "stdout",
     "output_type": "stream",
     "text": [
      "start: torch.Size([64, 1, 28, 28])\n",
      "conv1: torch.Size([64, 10, 24, 24])\n",
      "pool1: torch.Size([64, 10, 12, 12])\n",
      "start: torch.Size([64, 1, 28, 28])\n",
      "conv1: torch.Size([64, 10, 24, 24])\n",
      "pool1: torch.Size([64, 10, 12, 12])\n"
     ]
    },
    {
     "name": "stderr",
     "output_type": "stream",
     "text": [
      "Epoch 3:  16%|██████▍                                  | 147/938 [00:04<00:25, 30.74batch/s, accuracy=90.6, loss=0.285]"
     ]
    },
    {
     "name": "stdout",
     "output_type": "stream",
     "text": [
      "start: torch.Size([64, 1, 28, 28])\n",
      "conv1: torch.Size([64, 10, 24, 24])\n",
      "pool1: torch.Size([64, 10, 12, 12])\n",
      "start: torch.Size([64, 1, 28, 28])\n",
      "conv1: torch.Size([64, 10, 24, 24])\n",
      "pool1: torch.Size([64, 10, 12, 12])\n",
      "start: torch.Size([64, 1, 28, 28])\n",
      "conv1: torch.Size([64, 10, 24, 24])\n",
      "pool1: torch.Size([64, 10, 12, 12])\n",
      "start: torch.Size([64, 1, 28, 28])\n",
      "conv1: torch.Size([64, 10, 24, 24])\n",
      "pool1: torch.Size([64, 10, 12, 12])\n",
      "start: torch.Size([64, 1, 28, 28])\n",
      "conv1: torch.Size([64, 10, 24, 24])\n",
      "pool1: torch.Size([64, 10, 12, 12])\n",
      "start: torch.Size([64, 1, 28, 28])\n"
     ]
    },
    {
     "name": "stderr",
     "output_type": "stream",
     "text": [
      "Epoch 3:  16%|██████▌                                  | 151/938 [00:04<00:24, 32.05batch/s, accuracy=92.2, loss=0.139]"
     ]
    },
    {
     "name": "stdout",
     "output_type": "stream",
     "text": [
      "conv1: torch.Size([64, 10, 24, 24])\n",
      "pool1: torch.Size([64, 10, 12, 12])\n",
      "start: torch.Size([64, 1, 28, 28])\n",
      "conv1: torch.Size([64, 10, 24, 24])\n",
      "pool1: torch.Size([64, 10, 12, 12])\n",
      "start: torch.Size([64, 1, 28, 28])\n"
     ]
    },
    {
     "name": "stderr",
     "output_type": "stream",
     "text": [
      "Epoch 3:  17%|██████▊                                  | 155/938 [00:04<00:23, 33.10batch/s, accuracy=90.6, loss=0.208]"
     ]
    },
    {
     "name": "stdout",
     "output_type": "stream",
     "text": [
      "conv1: torch.Size([64, 10, 24, 24])\n",
      "pool1: torch.Size([64, 10, 12, 12])\n",
      "start: torch.Size([64, 1, 28, 28])\n",
      "conv1: torch.Size([64, 10, 24, 24])\n",
      "pool1: torch.Size([64, 10, 12, 12])\n",
      "start: torch.Size([64, 1, 28, 28])\n",
      "conv1: torch.Size([64, 10, 24, 24])\n",
      "pool1: torch.Size([64, 10, 12, 12])\n",
      "start: torch.Size([64, 1, 28, 28])\n",
      "conv1: torch.Size([64, 10, 24, 24])\n",
      "pool1: torch.Size([64, 10, 12, 12])\n",
      "start: torch.Size([64, 1, 28, 28])\n",
      "conv1: torch.Size([64, 10, 24, 24])\n",
      "pool1: torch.Size([64, 10, 12, 12])\n",
      "start: torch.Size([64, 1, 28, 28])\n"
     ]
    },
    {
     "name": "stderr",
     "output_type": "stream",
     "text": [
      "Epoch 3:  17%|██████▊                                 | 159/938 [00:04<00:22, 34.05batch/s, accuracy=96.9, loss=0.0954]"
     ]
    },
    {
     "name": "stdout",
     "output_type": "stream",
     "text": [
      "conv1: torch.Size([64, 10, 24, 24])\n",
      "pool1: torch.Size([64, 10, 12, 12])\n",
      "start: torch.Size([64, 1, 28, 28])\n",
      "conv1: torch.Size([64, 10, 24, 24])\n",
      "pool1: torch.Size([64, 10, 12, 12])\n"
     ]
    },
    {
     "name": "stderr",
     "output_type": "stream",
     "text": [
      "Epoch 3:  17%|███████                                  | 163/938 [00:04<00:22, 33.94batch/s, accuracy=93.8, loss=0.297]"
     ]
    },
    {
     "name": "stdout",
     "output_type": "stream",
     "text": [
      "start: torch.Size([64, 1, 28, 28])\n",
      "conv1: torch.Size([64, 10, 24, 24])\n",
      "pool1: torch.Size([64, 10, 12, 12])\n",
      "start: torch.Size([64, 1, 28, 28])\n",
      "conv1: torch.Size([64, 10, 24, 24])\n",
      "pool1: torch.Size([64, 10, 12, 12])\n",
      "start: torch.Size([64, 1, 28, 28])\n",
      "conv1: torch.Size([64, 10, 24, 24])\n",
      "pool1: torch.Size([64, 10, 12, 12])\n",
      "start: torch.Size([64, 1, 28, 28])\n",
      "conv1: torch.Size([64, 10, 24, 24])\n",
      "pool1: torch.Size([64, 10, 12, 12])\n"
     ]
    },
    {
     "name": "stderr",
     "output_type": "stream",
     "text": [
      "Epoch 3:  17%|███████                                  | 163/938 [00:04<00:22, 33.94batch/s, accuracy=93.8, loss=0.189]"
     ]
    },
    {
     "name": "stdout",
     "output_type": "stream",
     "text": [
      "start: torch.Size([64, 1, 28, 28])\n",
      "conv1: torch.Size([64, 10, 24, 24])\n",
      "pool1: torch.Size([64, 10, 12, 12])\n",
      "start: torch.Size([64, 1, 28, 28])\n"
     ]
    },
    {
     "name": "stderr",
     "output_type": "stream",
     "text": [
      "Epoch 3:  18%|███████▎                                 | 167/938 [00:05<00:25, 30.53batch/s, accuracy=95.3, loss=0.171]"
     ]
    },
    {
     "name": "stdout",
     "output_type": "stream",
     "text": [
      "conv1: torch.Size([64, 10, 24, 24])\n",
      "pool1: torch.Size([64, 10, 12, 12])\n",
      "start: torch.Size([64, 1, 28, 28])\n",
      "conv1: torch.Size([64, 10, 24, 24])\n",
      "pool1: torch.Size([64, 10, 12, 12])\n",
      "start: torch.Size([64, 1, 28, 28])\n",
      "conv1: torch.Size([64, 10, 24, 24])\n",
      "pool1: torch.Size([64, 10, 12, 12])\n",
      "start: torch.Size([64, 1, 28, 28])\n",
      "conv1: torch.Size([64, 10, 24, 24])\n",
      "pool1: torch.Size([64, 10, 12, 12])\n",
      "start: torch.Size([64, 1, 28, 28])\n",
      "conv1: torch.Size([64, 10, 24, 24])\n",
      "pool1: torch.Size([64, 10, 12, 12])\n",
      "start: torch.Size([64, 1, 28, 28])\n",
      "conv1: torch.Size([64, 10, 24, 24])\n",
      "pool1: torch.Size([64, 10, 12, 12])\n"
     ]
    },
    {
     "name": "stderr",
     "output_type": "stream",
     "text": [
      "Epoch 3:  18%|███████▋                                  | 171/938 [00:05<00:23, 32.26batch/s, accuracy=95.3, loss=0.18]"
     ]
    },
    {
     "name": "stdout",
     "output_type": "stream",
     "text": [
      "start: torch.Size([64, 1, 28, 28])\n",
      "conv1: torch.Size([64, 10, 24, 24])\n",
      "pool1: torch.Size([64, 10, 12, 12])\n"
     ]
    },
    {
     "name": "stderr",
     "output_type": "stream",
     "text": [
      "Epoch 3:  19%|███████▋                                 | 175/938 [00:05<00:23, 32.84batch/s, accuracy=96.9, loss=0.104]"
     ]
    },
    {
     "name": "stdout",
     "output_type": "stream",
     "text": [
      "start: torch.Size([64, 1, 28, 28])\n",
      "conv1: torch.Size([64, 10, 24, 24])\n",
      "pool1: torch.Size([64, 10, 12, 12])\n",
      "start: torch.Size([64, 1, 28, 28])\n",
      "conv1: torch.Size([64, 10, 24, 24])\n",
      "pool1: torch.Size([64, 10, 12, 12])\n",
      "start: torch.Size([64, 1, 28, 28])\n",
      "conv1: torch.Size([64, 10, 24, 24])\n",
      "pool1: torch.Size([64, 10, 12, 12])\n",
      "start: torch.Size([64, 1, 28, 28])\n",
      "conv1: torch.Size([64, 10, 24, 24])\n",
      "pool1: torch.Size([64, 10, 12, 12])\n",
      "start: torch.Size([64, 1, 28, 28])\n",
      "conv1: torch.Size([64, 10, 24, 24])\n",
      "pool1: torch.Size([64, 10, 12, 12])\n",
      "start: torch.Size([64, 1, 28, 28])\n",
      "conv1: torch.Size([64, 10, 24, 24])\n",
      "pool1: torch.Size([64, 10, 12, 12])\n",
      "start: torch.Size([64, 1, 28, 28])\n"
     ]
    },
    {
     "name": "stderr",
     "output_type": "stream",
     "text": [
      "\r",
      "Epoch 3:  19%|███████▋                                 | 175/938 [00:05<00:23, 32.84batch/s, accuracy=96.9, loss=0.104]"
     ]
    },
    {
     "name": "stdout",
     "output_type": "stream",
     "text": [
      "conv1: torch.Size([64, 10, 24, 24])\n",
      "pool1: torch.Size([64, 10, 12, 12])\n"
     ]
    },
    {
     "name": "stderr",
     "output_type": "stream",
     "text": [
      "Epoch 3:  20%|███████▉                                 | 183/938 [00:05<00:21, 34.47batch/s, accuracy=93.8, loss=0.201]"
     ]
    },
    {
     "name": "stdout",
     "output_type": "stream",
     "text": [
      "start: torch.Size([64, 1, 28, 28])\n",
      "conv1: torch.Size([64, 10, 24, 24])\n",
      "pool1: torch.Size([64, 10, 12, 12])\n",
      "start: torch.Size([64, 1, 28, 28])\n",
      "conv1: torch.Size([64, 10, 24, 24])\n",
      "pool1: torch.Size([64, 10, 12, 12])\n",
      "start: torch.Size([64, 1, 28, 28])\n",
      "conv1: torch.Size([64, 10, 24, 24])\n",
      "pool1: torch.Size([64, 10, 12, 12])\n",
      "start: torch.Size([64, 1, 28, 28])\n",
      "conv1: torch.Size([64, 10, 24, 24])\n",
      "pool1: torch.Size([64, 10, 12, 12])\n",
      "start: torch.Size([64, 1, 28, 28])\n",
      "conv1: torch.Size([64, 10, 24, 24])\n",
      "pool1: torch.Size([64, 10, 12, 12])\n",
      "start: torch.Size([64, 1, 28, 28])\n",
      "conv1: torch.Size([64, 10, 24, 24])\n",
      "pool1: torch.Size([64, 10, 12, 12])\n"
     ]
    },
    {
     "name": "stderr",
     "output_type": "stream",
     "text": [
      "Epoch 3:  20%|███████▉                                 | 183/938 [00:05<00:21, 34.47batch/s, accuracy=93.8, loss=0.213]"
     ]
    },
    {
     "name": "stdout",
     "output_type": "stream",
     "text": [
      "start: torch.Size([64, 1, 28, 28])\n",
      "conv1: torch.Size([64, 10, 24, 24])\n",
      "pool1: torch.Size([64, 10, 12, 12])\n",
      "start: torch.Size([64, 1, 28, 28])\n"
     ]
    },
    {
     "name": "stderr",
     "output_type": "stream",
     "text": [
      "Epoch 3:  20%|████████▏                                | 187/938 [00:05<00:21, 34.24batch/s, accuracy=90.6, loss=0.357]"
     ]
    },
    {
     "name": "stdout",
     "output_type": "stream",
     "text": [
      "conv1: torch.Size([64, 10, 24, 24])\n",
      "pool1: torch.Size([64, 10, 12, 12])\n",
      "start: torch.Size([64, 1, 28, 28])\n",
      "conv1: torch.Size([64, 10, 24, 24])\n",
      "pool1: torch.Size([64, 10, 12, 12])\n",
      "start: torch.Size([64, 1, 28, 28])\n",
      "conv1: torch.Size([64, 10, 24, 24])\n",
      "pool1: torch.Size([64, 10, 12, 12])\n",
      "start: torch.Size([64, 1, 28, 28])\n",
      "conv1: torch.Size([64, 10, 24, 24])\n",
      "pool1: torch.Size([64, 10, 12, 12])\n",
      "start: torch.Size([64, 1, 28, 28])\n",
      "conv1: torch.Size([64, 10, 24, 24])\n",
      "pool1: torch.Size([64, 10, 12, 12])\n",
      "start: torch.Size([64, 1, 28, 28])\n",
      "conv1: torch.Size([64, 10, 24, 24])\n",
      "pool1: torch.Size([64, 10, 12, 12])\n",
      "start: torch.Size([64, 1, 28, 28])\n"
     ]
    },
    {
     "name": "stderr",
     "output_type": "stream",
     "text": [
      "Epoch 3:  20%|████████▍                                | 192/938 [00:05<00:20, 35.54batch/s, accuracy=96.9, loss=0.145]"
     ]
    },
    {
     "name": "stdout",
     "output_type": "stream",
     "text": [
      "conv1: torch.Size([64, 10, 24, 24])\n",
      "pool1: torch.Size([64, 10, 12, 12])\n",
      "start: torch.Size([64, 1, 28, 28])\n"
     ]
    },
    {
     "name": "stderr",
     "output_type": "stream",
     "text": [
      "Epoch 3:  21%|████████▊                                 | 196/938 [00:05<00:21, 34.91batch/s, accuracy=92.2, loss=0.19]"
     ]
    },
    {
     "name": "stdout",
     "output_type": "stream",
     "text": [
      "conv1: torch.Size([64, 10, 24, 24])\n",
      "pool1: torch.Size([64, 10, 12, 12])\n",
      "start: torch.Size([64, 1, 28, 28])\n",
      "conv1: torch.Size([64, 10, 24, 24])\n",
      "pool1: torch.Size([64, 10, 12, 12])\n",
      "start: torch.Size([64, 1, 28, 28])\n",
      "conv1: torch.Size([64, 10, 24, 24])\n",
      "pool1: torch.Size([64, 10, 12, 12])\n",
      "start: torch.Size([64, 1, 28, 28])\n",
      "conv1: torch.Size([64, 10, 24, 24])\n",
      "pool1: torch.Size([64, 10, 12, 12])\n",
      "start: torch.Size([64, 1, 28, 28])\n",
      "conv1: torch.Size([64, 10, 24, 24])\n",
      "pool1: torch.Size([64, 10, 12, 12])\n",
      "start: torch.Size([64, 1, 28, 28])\n",
      "conv1: torch.Size([64, 10, 24, 24])\n"
     ]
    },
    {
     "name": "stderr",
     "output_type": "stream",
     "text": [
      "Epoch 3:  21%|████████▌                                | 196/938 [00:05<00:21, 34.91batch/s, accuracy=87.5, loss=0.372]"
     ]
    },
    {
     "name": "stdout",
     "output_type": "stream",
     "text": [
      "pool1: torch.Size([64, 10, 12, 12])\n",
      "start: torch.Size([64, 1, 28, 28])\n",
      "conv1: torch.Size([64, 10, 24, 24])\n",
      "pool1: torch.Size([64, 10, 12, 12])\n"
     ]
    },
    {
     "name": "stderr",
     "output_type": "stream",
     "text": [
      "Epoch 3:  22%|████████▋                               | 204/938 [00:06<00:21, 34.82batch/s, accuracy=95.3, loss=0.0957]"
     ]
    },
    {
     "name": "stdout",
     "output_type": "stream",
     "text": [
      "start: torch.Size([64, 1, 28, 28])\n",
      "conv1: torch.Size([64, 10, 24, 24])\n",
      "pool1: torch.Size([64, 10, 12, 12])\n",
      "start: torch.Size([64, 1, 28, 28])\n",
      "conv1: torch.Size([64, 10, 24, 24])\n",
      "pool1: torch.Size([64, 10, 12, 12])\n",
      "start: torch.Size([64, 1, 28, 28])\n",
      "conv1: torch.Size([64, 10, 24, 24])\n",
      "pool1: torch.Size([64, 10, 12, 12])\n",
      "start: torch.Size([64, 1, 28, 28])\n",
      "conv1: torch.Size([64, 10, 24, 24])\n",
      "pool1: torch.Size([64, 10, 12, 12])\n",
      "start: torch.Size([64, 1, 28, 28])\n",
      "conv1: torch.Size([64, 10, 24, 24])\n",
      "pool1: torch.Size([64, 10, 12, 12])\n",
      "start: torch.Size([64, 1, 28, 28])\n"
     ]
    },
    {
     "name": "stderr",
     "output_type": "stream",
     "text": [
      "Epoch 3:  22%|████████▉                                | 204/938 [00:06<00:21, 34.82batch/s, accuracy=95.3, loss=0.174]"
     ]
    },
    {
     "name": "stdout",
     "output_type": "stream",
     "text": [
      "conv1: torch.Size([64, 10, 24, 24])\n",
      "pool1: torch.Size([64, 10, 12, 12])\n",
      "start: torch.Size([64, 1, 28, 28])\n",
      "conv1: torch.Size([64, 10, 24, 24])\n",
      "pool1: torch.Size([64, 10, 12, 12])\n",
      "start: torch.Size([64, 1, 28, 28])\n"
     ]
    },
    {
     "name": "stderr",
     "output_type": "stream",
     "text": [
      "Epoch 3:  22%|█████████                                | 208/938 [00:06<00:20, 35.29batch/s, accuracy=95.3, loss=0.108]"
     ]
    },
    {
     "name": "stdout",
     "output_type": "stream",
     "text": [
      "conv1: torch.Size([64, 10, 24, 24])\n",
      "pool1: torch.Size([64, 10, 12, 12])\n",
      "start: torch.Size([64, 1, 28, 28])\n",
      "conv1: torch.Size([64, 10, 24, 24])\n",
      "pool1: torch.Size([64, 10, 12, 12])\n",
      "start: torch.Size([64, 1, 28, 28])\n",
      "conv1: torch.Size([64, 10, 24, 24])\n",
      "pool1: torch.Size([64, 10, 12, 12])\n",
      "start: torch.Size([64, 1, 28, 28])\n",
      "conv1: torch.Size([64, 10, 24, 24])\n",
      "pool1: torch.Size([64, 10, 12, 12])\n",
      "start: torch.Size([64, 1, 28, 28])\n",
      "conv1: torch.Size([64, 10, 24, 24])\n",
      "pool1: torch.Size([64, 10, 12, 12])\n"
     ]
    },
    {
     "name": "stderr",
     "output_type": "stream",
     "text": [
      "Epoch 3:  23%|█████████                               | 212/938 [00:06<00:21, 34.19batch/s, accuracy=96.9, loss=0.0811]"
     ]
    },
    {
     "name": "stdout",
     "output_type": "stream",
     "text": [
      "start: torch.Size([64, 1, 28, 28])\n",
      "conv1: torch.Size([64, 10, 24, 24])\n",
      "pool1: torch.Size([64, 10, 12, 12])\n",
      "start: torch.Size([64, 1, 28, 28])\n",
      "conv1: torch.Size([64, 10, 24, 24])\n",
      "pool1: torch.Size([64, 10, 12, 12])\n"
     ]
    },
    {
     "name": "stderr",
     "output_type": "stream",
     "text": [
      "Epoch 3:  23%|█████████▍                               | 216/938 [00:06<00:21, 34.30batch/s, accuracy=93.8, loss=0.208]"
     ]
    },
    {
     "name": "stdout",
     "output_type": "stream",
     "text": [
      "start: torch.Size([64, 1, 28, 28])\n",
      "conv1: torch.Size([64, 10, 24, 24])\n",
      "pool1: torch.Size([64, 10, 12, 12])\n",
      "start: torch.Size([64, 1, 28, 28])\n",
      "conv1: torch.Size([64, 10, 24, 24])\n",
      "pool1: torch.Size([64, 10, 12, 12])\n",
      "start: torch.Size([64, 1, 28, 28])\n",
      "conv1: torch.Size([64, 10, 24, 24])\n",
      "pool1: torch.Size([64, 10, 12, 12])\n",
      "start: torch.Size([64, 1, 28, 28])\n",
      "conv1: torch.Size([64, 10, 24, 24])\n",
      "pool1: torch.Size([64, 10, 12, 12])\n",
      "start: torch.Size([64, 1, 28, 28])\n",
      "conv1: torch.Size([64, 10, 24, 24])\n",
      "pool1: torch.Size([64, 10, 12, 12])\n"
     ]
    },
    {
     "name": "stderr",
     "output_type": "stream",
     "text": [
      "Epoch 3:  23%|█████████▌                               | 220/938 [00:06<00:20, 35.38batch/s, accuracy=89.1, loss=0.408]"
     ]
    },
    {
     "name": "stdout",
     "output_type": "stream",
     "text": [
      "start: torch.Size([64, 1, 28, 28])\n",
      "conv1: torch.Size([64, 10, 24, 24])\n",
      "pool1: torch.Size([64, 10, 12, 12])\n",
      "start: torch.Size([64, 1, 28, 28])\n",
      "conv1: torch.Size([64, 10, 24, 24])\n",
      "pool1: torch.Size([64, 10, 12, 12])\n",
      "start: torch.Size([64, 1, 28, 28])\n"
     ]
    },
    {
     "name": "stderr",
     "output_type": "stream",
     "text": [
      "Epoch 3:  24%|█████████▊                               | 224/938 [00:06<00:19, 36.37batch/s, accuracy=96.9, loss=0.145]"
     ]
    },
    {
     "name": "stdout",
     "output_type": "stream",
     "text": [
      "conv1: torch.Size([64, 10, 24, 24])\n",
      "pool1: torch.Size([64, 10, 12, 12])\n",
      "start: torch.Size([64, 1, 28, 28])\n",
      "conv1: torch.Size([64, 10, 24, 24])\n",
      "pool1: torch.Size([64, 10, 12, 12])\n",
      "start: torch.Size([64, 1, 28, 28])\n",
      "conv1: torch.Size([64, 10, 24, 24])\n",
      "pool1: torch.Size([64, 10, 12, 12])\n",
      "start: torch.Size([64, 1, 28, 28])\n",
      "conv1: torch.Size([64, 10, 24, 24])\n",
      "pool1: torch.Size([64, 10, 12, 12])\n",
      "start: torch.Size([64, 1, 28, 28])\n",
      "conv1: torch.Size([64, 10, 24, 24])\n",
      "pool1: torch.Size([64, 10, 12, 12])\n",
      "start: torch.Size([64, 1, 28, 28])\n",
      "conv1: torch.Size([64, 10, 24, 24])\n",
      "pool1: torch.Size([64, 10, 12, 12])\n"
     ]
    },
    {
     "name": "stderr",
     "output_type": "stream",
     "text": [
      "Epoch 3:  24%|█████████▌                              | 224/938 [00:06<00:19, 36.37batch/s, accuracy=95.3, loss=0.0942]"
     ]
    },
    {
     "name": "stdout",
     "output_type": "stream",
     "text": [
      "start: torch.Size([64, 1, 28, 28])\n",
      "conv1: torch.Size([64, 10, 24, 24])\n",
      "pool1: torch.Size([64, 10, 12, 12])\n",
      "start: torch.Size([64, 1, 28, 28])\n"
     ]
    },
    {
     "name": "stderr",
     "output_type": "stream",
     "text": [
      "Epoch 3:  25%|██████████▏                              | 232/938 [00:06<00:18, 37.22batch/s, accuracy=96.9, loss=0.207]"
     ]
    },
    {
     "name": "stdout",
     "output_type": "stream",
     "text": [
      "conv1: torch.Size([64, 10, 24, 24])\n",
      "pool1: torch.Size([64, 10, 12, 12])\n",
      "start: torch.Size([64, 1, 28, 28])\n",
      "conv1: torch.Size([64, 10, 24, 24])\n",
      "pool1: torch.Size([64, 10, 12, 12])\n",
      "start: torch.Size([64, 1, 28, 28])\n",
      "conv1: torch.Size([64, 10, 24, 24])\n",
      "pool1: torch.Size([64, 10, 12, 12])\n",
      "start: torch.Size([64, 1, 28, 28])\n",
      "conv1: torch.Size([64, 10, 24, 24])\n",
      "pool1: torch.Size([64, 10, 12, 12])\n",
      "start: torch.Size([64, 1, 28, 28])\n",
      "conv1: torch.Size([64, 10, 24, 24])\n",
      "pool1: torch.Size([64, 10, 12, 12])\n",
      "start: torch.Size([64, 1, 28, 28])\n",
      "conv1: torch.Size([64, 10, 24, 24])\n",
      "pool1: torch.Size([64, 10, 12, 12])\n",
      "start: torch.Size([64, 1, 28, 28])\n"
     ]
    },
    {
     "name": "stderr",
     "output_type": "stream",
     "text": [
      "Epoch 3:  25%|██████████▏                              | 232/938 [00:06<00:18, 37.22batch/s, accuracy=98.4, loss=0.225]"
     ]
    },
    {
     "name": "stdout",
     "output_type": "stream",
     "text": [
      "conv1: torch.Size([64, 10, 24, 24])\n",
      "pool1: torch.Size([64, 10, 12, 12])\n",
      "start: torch.Size([64, 1, 28, 28])\n"
     ]
    },
    {
     "name": "stderr",
     "output_type": "stream",
     "text": [
      "Epoch 3:  26%|██████████▏                             | 240/938 [00:07<00:19, 36.52batch/s, accuracy=98.4, loss=0.0309]"
     ]
    },
    {
     "name": "stdout",
     "output_type": "stream",
     "text": [
      "conv1: torch.Size([64, 10, 24, 24])\n",
      "pool1: torch.Size([64, 10, 12, 12])\n",
      "start: torch.Size([64, 1, 28, 28])\n",
      "conv1: torch.Size([64, 10, 24, 24])\n",
      "pool1: torch.Size([64, 10, 12, 12])\n",
      "start: torch.Size([64, 1, 28, 28])\n",
      "conv1: torch.Size([64, 10, 24, 24])\n",
      "pool1: torch.Size([64, 10, 12, 12])\n",
      "start: torch.Size([64, 1, 28, 28])\n",
      "conv1: torch.Size([64, 10, 24, 24])\n",
      "pool1: torch.Size([64, 10, 12, 12])\n",
      "start: torch.Size([64, 1, 28, 28])\n",
      "conv1: torch.Size([64, 10, 24, 24])\n",
      "pool1: torch.Size([64, 10, 12, 12])\n",
      "start: torch.Size([64, 1, 28, 28])\n",
      "conv1: torch.Size([64, 10, 24, 24])\n",
      "pool1: torch.Size([64, 10, 12, 12])\n"
     ]
    },
    {
     "name": "stderr",
     "output_type": "stream",
     "text": [
      "Epoch 3:  26%|██████████▍                              | 240/938 [00:07<00:19, 36.52batch/s, accuracy=96.9, loss=0.045]"
     ]
    },
    {
     "name": "stdout",
     "output_type": "stream",
     "text": [
      "start: torch.Size([64, 1, 28, 28])\n",
      "conv1: torch.Size([64, 10, 24, 24])\n",
      "pool1: torch.Size([64, 10, 12, 12])\n",
      "start: torch.Size([64, 1, 28, 28])\n"
     ]
    },
    {
     "name": "stderr",
     "output_type": "stream",
     "text": [
      "Epoch 3:  26%|██████████▋                              | 244/938 [00:07<00:19, 36.01batch/s, accuracy=90.6, loss=0.401]"
     ]
    },
    {
     "name": "stdout",
     "output_type": "stream",
     "text": [
      "conv1: torch.Size([64, 10, 24, 24])\n",
      "pool1: torch.Size([64, 10, 12, 12])\n",
      "start: torch.Size([64, 1, 28, 28])\n",
      "conv1: torch.Size([64, 10, 24, 24])\n",
      "pool1: torch.Size([64, 10, 12, 12])\n",
      "start: torch.Size([64, 1, 28, 28])\n",
      "conv1: torch.Size([64, 10, 24, 24])\n",
      "pool1: torch.Size([64, 10, 12, 12])\n",
      "start: torch.Size([64, 1, 28, 28])\n",
      "conv1: torch.Size([64, 10, 24, 24])\n",
      "pool1: torch.Size([64, 10, 12, 12])\n",
      "start: torch.Size([64, 1, 28, 28])\n",
      "conv1: torch.Size([64, 10, 24, 24])\n",
      "pool1: torch.Size([64, 10, 12, 12])\n"
     ]
    },
    {
     "name": "stderr",
     "output_type": "stream",
     "text": [
      "\r",
      "Epoch 3:  26%|██████████▍                             | 244/938 [00:07<00:19, 36.01batch/s, accuracy=96.9, loss=0.0714]"
     ]
    },
    {
     "name": "stdout",
     "output_type": "stream",
     "text": [
      "start: torch.Size([64, 1, 28, 28])\n"
     ]
    },
    {
     "name": "stderr",
     "output_type": "stream",
     "text": [
      "Epoch 3:  27%|███████████                              | 252/938 [00:07<00:20, 32.90batch/s, accuracy=93.8, loss=0.225]"
     ]
    },
    {
     "name": "stdout",
     "output_type": "stream",
     "text": [
      "conv1: torch.Size([64, 10, 24, 24])\n",
      "pool1: torch.Size([64, 10, 12, 12])\n",
      "start: torch.Size([64, 1, 28, 28])\n",
      "conv1: torch.Size([64, 10, 24, 24])\n",
      "pool1: torch.Size([64, 10, 12, 12])\n",
      "start: torch.Size([64, 1, 28, 28])\n",
      "conv1: torch.Size([64, 10, 24, 24])\n",
      "pool1: torch.Size([64, 10, 12, 12])\n",
      "start: torch.Size([64, 1, 28, 28])\n",
      "conv1: torch.Size([64, 10, 24, 24])\n",
      "pool1: torch.Size([64, 10, 12, 12])\n",
      "start: torch.Size([64, 1, 28, 28])\n",
      "conv1: torch.Size([64, 10, 24, 24])\n",
      "pool1: torch.Size([64, 10, 12, 12])\n",
      "start: torch.Size([64, 1, 28, 28])\n",
      "conv1: torch.Size([64, 10, 24, 24])\n",
      "pool1: torch.Size([64, 10, 12, 12])\n",
      "start: torch.Size([64, 1, 28, 28])\n",
      "conv1: torch.Size([64, 10, 24, 24])\n",
      "pool1: torch.Size([64, 10, 12, 12])\n"
     ]
    },
    {
     "name": "stderr",
     "output_type": "stream",
     "text": [
      "Epoch 3:  27%|███████████▏                             | 256/938 [00:07<00:21, 32.10batch/s, accuracy=89.1, loss=0.372]"
     ]
    },
    {
     "name": "stdout",
     "output_type": "stream",
     "text": [
      "start: torch.Size([64, 1, 28, 28])\n",
      "conv1: torch.Size([64, 10, 24, 24])\n",
      "pool1: torch.Size([64, 10, 12, 12])\n",
      "start: torch.Size([64, 1, 28, 28])\n",
      "conv1: torch.Size([64, 10, 24, 24])\n",
      "pool1: torch.Size([64, 10, 12, 12])\n",
      "start: torch.Size([64, 1, 28, 28])\n",
      "conv1: torch.Size([64, 10, 24, 24])\n",
      "pool1: torch.Size([64, 10, 12, 12])\n",
      "start: torch.Size([64, 1, 28, 28])\n",
      "conv1: torch.Size([64, 10, 24, 24])\n",
      "pool1: torch.Size([64, 10, 12, 12])\n",
      "start: torch.Size([64, 1, 28, 28])\n",
      "conv1: torch.Size([64, 10, 24, 24])\n",
      "pool1: torch.Size([64, 10, 12, 12])\n",
      "start: torch.Size([64, 1, 28, 28])\n",
      "conv1: torch.Size([64, 10, 24, 24])\n",
      "pool1: torch.Size([64, 10, 12, 12])\n",
      "start: torch.Size([64, 1, 28, 28])\n"
     ]
    },
    {
     "name": "stderr",
     "output_type": "stream",
     "text": [
      "Epoch 3:  28%|███████████▌                             | 264/938 [00:07<00:20, 32.80batch/s, accuracy=92.2, loss=0.253]"
     ]
    },
    {
     "name": "stdout",
     "output_type": "stream",
     "text": [
      "conv1: torch.Size([64, 10, 24, 24])\n",
      "pool1: torch.Size([64, 10, 12, 12])\n",
      "start: torch.Size([64, 1, 28, 28])\n",
      "conv1: torch.Size([64, 10, 24, 24])\n",
      "pool1: torch.Size([64, 10, 12, 12])\n",
      "start: torch.Size([64, 1, 28, 28])\n",
      "conv1: torch.Size([64, 10, 24, 24])\n",
      "pool1: torch.Size([64, 10, 12, 12])\n",
      "start: torch.Size([64, 1, 28, 28])\n",
      "conv1: torch.Size([64, 10, 24, 24])\n",
      "pool1: torch.Size([64, 10, 12, 12])\n",
      "start: torch.Size([64, 1, 28, 28])\n",
      "conv1: torch.Size([64, 10, 24, 24])\n",
      "pool1: torch.Size([64, 10, 12, 12])\n",
      "start: torch.Size([64, 1, 28, 28])\n",
      "conv1: torch.Size([64, 10, 24, 24])\n",
      "pool1: torch.Size([64, 10, 12, 12])\n",
      "start: torch.Size([64, 1, 28, 28])\n",
      "conv1: torch.Size([64, 10, 24, 24])\n",
      "pool1: torch.Size([64, 10, 12, 12])\n"
     ]
    },
    {
     "name": "stderr",
     "output_type": "stream",
     "text": [
      "Epoch 3:  29%|███████████▉                             | 272/938 [00:08<00:19, 34.55batch/s, accuracy=95.3, loss=0.101]"
     ]
    },
    {
     "name": "stdout",
     "output_type": "stream",
     "text": [
      "start: torch.Size([64, 1, 28, 28])\n",
      "conv1: torch.Size([64, 10, 24, 24])\n",
      "pool1: torch.Size([64, 10, 12, 12])\n",
      "start: torch.Size([64, 1, 28, 28])\n",
      "conv1: torch.Size([64, 10, 24, 24])\n",
      "pool1: torch.Size([64, 10, 12, 12])\n",
      "start: torch.Size([64, 1, 28, 28])\n",
      "conv1: torch.Size([64, 10, 24, 24])\n",
      "pool1: torch.Size([64, 10, 12, 12])\n",
      "start: torch.Size([64, 1, 28, 28])\n",
      "conv1: torch.Size([64, 10, 24, 24])\n",
      "pool1: torch.Size([64, 10, 12, 12])\n",
      "start: torch.Size([64, 1, 28, 28])\n",
      "conv1: torch.Size([64, 10, 24, 24])\n",
      "pool1: torch.Size([64, 10, 12, 12])\n",
      "start: torch.Size([64, 1, 28, 28])\n",
      "conv1: torch.Size([64, 10, 24, 24])\n",
      "pool1: torch.Size([64, 10, 12, 12])\n",
      "start: torch.Size([64, 1, 28, 28])\n",
      "conv1: torch.Size([64, 10, 24, 24])\n",
      "pool1: torch.Size([64, 10, 12, 12])\n"
     ]
    },
    {
     "name": "stderr",
     "output_type": "stream",
     "text": [
      "Epoch 3:  30%|████████████▏                            | 280/938 [00:08<00:18, 34.86batch/s, accuracy=93.8, loss=0.164]"
     ]
    },
    {
     "name": "stdout",
     "output_type": "stream",
     "text": [
      "start: torch.Size([64, 1, 28, 28])\n",
      "conv1: torch.Size([64, 10, 24, 24])\n",
      "pool1: torch.Size([64, 10, 12, 12])\n",
      "start: torch.Size([64, 1, 28, 28])\n",
      "conv1: torch.Size([64, 10, 24, 24])\n",
      "pool1: torch.Size([64, 10, 12, 12])\n",
      "start: torch.Size([64, 1, 28, 28])\n",
      "conv1: torch.Size([64, 10, 24, 24])\n",
      "pool1: torch.Size([64, 10, 12, 12])\n",
      "start: torch.Size([64, 1, 28, 28])\n",
      "conv1: torch.Size([64, 10, 24, 24])\n",
      "pool1: torch.Size([64, 10, 12, 12])\n",
      "start: torch.Size([64, 1, 28, 28])\n",
      "conv1: torch.Size([64, 10, 24, 24])\n",
      "pool1: torch.Size([64, 10, 12, 12])\n",
      "start: torch.Size([64, 1, 28, 28])\n",
      "conv1: torch.Size([64, 10, 24, 24])\n",
      "pool1: torch.Size([64, 10, 12, 12])\n",
      "start: torch.Size([64, 1, 28, 28])\n",
      "conv1: torch.Size([64, 10, 24, 24])\n",
      "pool1: torch.Size([64, 10, 12, 12])\n",
      "start: torch.Size([64, 1, 28, 28])\n"
     ]
    },
    {
     "name": "stderr",
     "output_type": "stream",
     "text": [
      "Epoch 3:  30%|████████████▍                            | 284/938 [00:08<00:18, 34.86batch/s, accuracy=95.3, loss=0.219]"
     ]
    },
    {
     "name": "stdout",
     "output_type": "stream",
     "text": [
      "conv1: torch.Size([64, 10, 24, 24])\n",
      "pool1: torch.Size([64, 10, 12, 12])\n",
      "start: torch.Size([64, 1, 28, 28])\n",
      "conv1: torch.Size([64, 10, 24, 24])\n",
      "pool1: torch.Size([64, 10, 12, 12])\n",
      "start: torch.Size([64, 1, 28, 28])\n",
      "conv1: torch.Size([64, 10, 24, 24])\n",
      "pool1: torch.Size([64, 10, 12, 12])\n",
      "start: torch.Size([64, 1, 28, 28])\n",
      "conv1: torch.Size([64, 10, 24, 24])\n",
      "pool1: torch.Size([64, 10, 12, 12])\n",
      "start: torch.Size([64, 1, 28, 28])\n",
      "conv1: torch.Size([64, 10, 24, 24])\n",
      "pool1: torch.Size([64, 10, 12, 12])\n",
      "start: torch.Size([64, 1, 28, 28])\n",
      "conv1: torch.Size([64, 10, 24, 24])\n",
      "pool1: torch.Size([64, 10, 12, 12])\n",
      "start: torch.Size([64, 1, 28, 28])\n",
      "conv1: torch.Size([64, 10, 24, 24])\n",
      "pool1: torch.Size([64, 10, 12, 12])\n",
      "start: torch.Size([64, 1, 28, 28])\n"
     ]
    },
    {
     "name": "stderr",
     "output_type": "stream",
     "text": [
      "Epoch 3:  31%|████████████▊                            | 292/938 [00:08<00:18, 35.70batch/s, accuracy=93.8, loss=0.235]"
     ]
    },
    {
     "name": "stdout",
     "output_type": "stream",
     "text": [
      "conv1: torch.Size([64, 10, 24, 24])\n",
      "pool1: torch.Size([64, 10, 12, 12])\n",
      "start: torch.Size([64, 1, 28, 28])\n",
      "conv1: torch.Size([64, 10, 24, 24])\n",
      "pool1: torch.Size([64, 10, 12, 12])\n",
      "start: torch.Size([64, 1, 28, 28])\n",
      "conv1: torch.Size([64, 10, 24, 24])\n",
      "pool1: torch.Size([64, 10, 12, 12])\n",
      "start: torch.Size([64, 1, 28, 28])\n",
      "conv1: torch.Size([64, 10, 24, 24])\n",
      "pool1: torch.Size([64, 10, 12, 12])\n",
      "start: torch.Size([64, 1, 28, 28])\n",
      "conv1: torch.Size([64, 10, 24, 24])\n",
      "pool1: torch.Size([64, 10, 12, 12])\n",
      "start: torch.Size([64, 1, 28, 28])\n",
      "conv1: torch.Size([64, 10, 24, 24])\n",
      "pool1: torch.Size([64, 10, 12, 12])\n",
      "start: torch.Size([64, 1, 28, 28])\n",
      "conv1: torch.Size([64, 10, 24, 24])\n",
      "pool1: torch.Size([64, 10, 12, 12])\n",
      "start: torch.Size([64, 1, 28, 28])\n"
     ]
    },
    {
     "name": "stderr",
     "output_type": "stream",
     "text": [
      "Epoch 3:  32%|█████████████                            | 300/938 [00:08<00:17, 35.90batch/s, accuracy=95.3, loss=0.242]"
     ]
    },
    {
     "name": "stdout",
     "output_type": "stream",
     "text": [
      "conv1: torch.Size([64, 10, 24, 24])\n",
      "pool1: torch.Size([64, 10, 12, 12])\n",
      "start: torch.Size([64, 1, 28, 28])\n",
      "conv1: torch.Size([64, 10, 24, 24])\n",
      "pool1: torch.Size([64, 10, 12, 12])\n",
      "start: torch.Size([64, 1, 28, 28])\n",
      "conv1: torch.Size([64, 10, 24, 24])\n",
      "pool1: torch.Size([64, 10, 12, 12])\n",
      "start: torch.Size([64, 1, 28, 28])\n",
      "conv1: torch.Size([64, 10, 24, 24])\n",
      "pool1: torch.Size([64, 10, 12, 12])\n",
      "start: torch.Size([64, 1, 28, 28])\n",
      "conv1: torch.Size([64, 10, 24, 24])\n",
      "pool1: torch.Size([64, 10, 12, 12])\n",
      "start: torch.Size([64, 1, 28, 28])\n",
      "conv1: torch.Size([64, 10, 24, 24])\n",
      "pool1: torch.Size([64, 10, 12, 12])\n",
      "start: torch.Size([64, 1, 28, 28])\n",
      "conv1: torch.Size([64, 10, 24, 24])\n",
      "pool1: torch.Size([64, 10, 12, 12])\n"
     ]
    },
    {
     "name": "stderr",
     "output_type": "stream",
     "text": [
      "Epoch 3:  33%|█████████████▏                          | 308/938 [00:09<00:17, 36.06batch/s, accuracy=95.3, loss=0.0829]"
     ]
    },
    {
     "name": "stdout",
     "output_type": "stream",
     "text": [
      "start: torch.Size([64, 1, 28, 28])\n",
      "conv1: torch.Size([64, 10, 24, 24])\n",
      "pool1: torch.Size([64, 10, 12, 12])\n",
      "start: torch.Size([64, 1, 28, 28])\n",
      "conv1: torch.Size([64, 10, 24, 24])\n",
      "pool1: torch.Size([64, 10, 12, 12])\n",
      "start: torch.Size([64, 1, 28, 28])\n",
      "conv1: torch.Size([64, 10, 24, 24])\n",
      "pool1: torch.Size([64, 10, 12, 12])\n",
      "start: torch.Size([64, 1, 28, 28])\n",
      "conv1: torch.Size([64, 10, 24, 24])\n",
      "pool1: torch.Size([64, 10, 12, 12])\n",
      "start: torch.Size([64, 1, 28, 28])\n",
      "conv1: torch.Size([64, 10, 24, 24])\n",
      "pool1: torch.Size([64, 10, 12, 12])\n",
      "start: torch.Size([64, 1, 28, 28])\n",
      "conv1: torch.Size([64, 10, 24, 24])\n",
      "pool1: torch.Size([64, 10, 12, 12])\n",
      "start: torch.Size([64, 1, 28, 28])\n",
      "conv1: torch.Size([64, 10, 24, 24])\n",
      "pool1: torch.Size([64, 10, 12, 12])\n",
      "start: torch.Size([64, 1, 28, 28])\n"
     ]
    },
    {
     "name": "stderr",
     "output_type": "stream",
     "text": [
      "Epoch 3:  33%|█████████████▋                           | 312/938 [00:09<00:17, 35.98batch/s, accuracy=92.2, loss=0.233]"
     ]
    },
    {
     "name": "stdout",
     "output_type": "stream",
     "text": [
      "conv1: torch.Size([64, 10, 24, 24])\n",
      "pool1: torch.Size([64, 10, 12, 12])\n",
      "start: torch.Size([64, 1, 28, 28])\n",
      "conv1: torch.Size([64, 10, 24, 24])\n",
      "pool1: torch.Size([64, 10, 12, 12])\n",
      "start: torch.Size([64, 1, 28, 28])\n",
      "conv1: torch.Size([64, 10, 24, 24])\n",
      "pool1: torch.Size([64, 10, 12, 12])\n",
      "start: torch.Size([64, 1, 28, 28])\n",
      "conv1: torch.Size([64, 10, 24, 24])\n",
      "pool1: torch.Size([64, 10, 12, 12])\n",
      "start: torch.Size([64, 1, 28, 28])\n",
      "conv1: torch.Size([64, 10, 24, 24])\n",
      "pool1: torch.Size([64, 10, 12, 12])\n",
      "start: torch.Size([64, 1, 28, 28])\n",
      "conv1: torch.Size([64, 10, 24, 24])\n",
      "pool1: torch.Size([64, 10, 12, 12])\n",
      "start: torch.Size([64, 1, 28, 28])\n",
      "conv1: torch.Size([64, 10, 24, 24])\n",
      "pool1: torch.Size([64, 10, 12, 12])\n",
      "start: torch.Size([64, 1, 28, 28])\n",
      "conv1: torch.Size([64, 10, 24, 24])\n",
      "pool1: torch.Size([64, 10, 12, 12])\n"
     ]
    },
    {
     "name": "stderr",
     "output_type": "stream",
     "text": [
      "Epoch 3:  34%|█████████████▉                           | 320/938 [00:09<00:16, 36.40batch/s, accuracy=92.2, loss=0.295]"
     ]
    },
    {
     "name": "stdout",
     "output_type": "stream",
     "text": [
      "start: torch.Size([64, 1, 28, 28])\n",
      "conv1: torch.Size([64, 10, 24, 24])\n",
      "pool1: torch.Size([64, 10, 12, 12])\n",
      "start: torch.Size([64, 1, 28, 28])\n",
      "conv1: torch.Size([64, 10, 24, 24])\n",
      "pool1: torch.Size([64, 10, 12, 12])\n",
      "start: torch.Size([64, 1, 28, 28])\n",
      "conv1: torch.Size([64, 10, 24, 24])\n",
      "pool1: torch.Size([64, 10, 12, 12])\n",
      "start: torch.Size([64, 1, 28, 28])\n",
      "conv1: torch.Size([64, 10, 24, 24])\n",
      "pool1: torch.Size([64, 10, 12, 12])\n",
      "start: torch.Size([64, 1, 28, 28])\n",
      "conv1: torch.Size([64, 10, 24, 24])\n",
      "pool1: torch.Size([64, 10, 12, 12])\n",
      "start: torch.Size([64, 1, 28, 28])\n",
      "conv1: torch.Size([64, 10, 24, 24])\n",
      "pool1: torch.Size([64, 10, 12, 12])\n",
      "start: torch.Size([64, 1, 28, 28])\n",
      "conv1: torch.Size([64, 10, 24, 24])\n",
      "pool1: torch.Size([64, 10, 12, 12])\n"
     ]
    },
    {
     "name": "stderr",
     "output_type": "stream",
     "text": [
      "Epoch 3:  35%|██████████████▎                          | 328/938 [00:09<00:16, 36.00batch/s, accuracy=92.2, loss=0.377]"
     ]
    },
    {
     "name": "stdout",
     "output_type": "stream",
     "text": [
      "start: torch.Size([64, 1, 28, 28])\n",
      "conv1: torch.Size([64, 10, 24, 24])\n",
      "pool1: torch.Size([64, 10, 12, 12])\n",
      "start: torch.Size([64, 1, 28, 28])\n",
      "conv1: torch.Size([64, 10, 24, 24])\n",
      "pool1: torch.Size([64, 10, 12, 12])\n",
      "start: torch.Size([64, 1, 28, 28])\n",
      "conv1: torch.Size([64, 10, 24, 24])\n",
      "pool1: torch.Size([64, 10, 12, 12])\n",
      "start: torch.Size([64, 1, 28, 28])\n",
      "conv1: torch.Size([64, 10, 24, 24])\n",
      "pool1: torch.Size([64, 10, 12, 12])\n",
      "start: torch.Size([64, 1, 28, 28])\n",
      "conv1: torch.Size([64, 10, 24, 24])\n",
      "pool1: torch.Size([64, 10, 12, 12])\n",
      "start: torch.Size([64, 1, 28, 28])\n",
      "conv1: torch.Size([64, 10, 24, 24])\n",
      "pool1: torch.Size([64, 10, 12, 12])\n",
      "start: torch.Size([64, 1, 28, 28])\n",
      "conv1: torch.Size([64, 10, 24, 24])\n",
      "pool1: torch.Size([64, 10, 12, 12])\n",
      "start: torch.Size([64, 1, 28, 28])\n"
     ]
    },
    {
     "name": "stderr",
     "output_type": "stream",
     "text": [
      "Epoch 3:  36%|██████████████▎                         | 336/938 [00:09<00:17, 35.31batch/s, accuracy=95.3, loss=0.0888]"
     ]
    },
    {
     "name": "stdout",
     "output_type": "stream",
     "text": [
      "conv1: torch.Size([64, 10, 24, 24])\n",
      "pool1: torch.Size([64, 10, 12, 12])\n",
      "start: torch.Size([64, 1, 28, 28])\n",
      "conv1: torch.Size([64, 10, 24, 24])\n",
      "pool1: torch.Size([64, 10, 12, 12])\n",
      "start: torch.Size([64, 1, 28, 28])\n",
      "conv1: torch.Size([64, 10, 24, 24])\n",
      "pool1: torch.Size([64, 10, 12, 12])\n",
      "start: torch.Size([64, 1, 28, 28])\n",
      "conv1: torch.Size([64, 10, 24, 24])\n",
      "pool1: torch.Size([64, 10, 12, 12])\n",
      "start: torch.Size([64, 1, 28, 28])\n",
      "conv1: torch.Size([64, 10, 24, 24])\n",
      "pool1: torch.Size([64, 10, 12, 12])\n",
      "start: torch.Size([64, 1, 28, 28])\n",
      "conv1: torch.Size([64, 10, 24, 24])\n",
      "pool1: torch.Size([64, 10, 12, 12])\n",
      "start: torch.Size([64, 1, 28, 28])\n",
      "conv1: torch.Size([64, 10, 24, 24])\n",
      "pool1: torch.Size([64, 10, 12, 12])\n",
      "start: torch.Size([64, 1, 28, 28])\n"
     ]
    },
    {
     "name": "stderr",
     "output_type": "stream",
     "text": [
      "Epoch 3:  36%|██████████████▊                          | 340/938 [00:10<00:16, 35.36batch/s, accuracy=90.6, loss=0.421]"
     ]
    },
    {
     "name": "stdout",
     "output_type": "stream",
     "text": [
      "conv1: torch.Size([64, 10, 24, 24])\n",
      "pool1: torch.Size([64, 10, 12, 12])\n",
      "start: torch.Size([64, 1, 28, 28])\n",
      "conv1: torch.Size([64, 10, 24, 24])\n",
      "pool1: torch.Size([64, 10, 12, 12])\n",
      "start: torch.Size([64, 1, 28, 28])\n",
      "conv1: torch.Size([64, 10, 24, 24])\n",
      "pool1: torch.Size([64, 10, 12, 12])\n",
      "start: torch.Size([64, 1, 28, 28])\n",
      "conv1: torch.Size([64, 10, 24, 24])\n",
      "pool1: torch.Size([64, 10, 12, 12])\n",
      "start: torch.Size([64, 1, 28, 28])\n",
      "conv1: torch.Size([64, 10, 24, 24])\n",
      "pool1: torch.Size([64, 10, 12, 12])\n",
      "start: torch.Size([64, 1, 28, 28])\n",
      "conv1: torch.Size([64, 10, 24, 24])\n",
      "pool1: torch.Size([64, 10, 12, 12])\n",
      "start: torch.Size([64, 1, 28, 28])\n",
      "conv1: torch.Size([64, 10, 24, 24])\n",
      "pool1: torch.Size([64, 10, 12, 12])\n"
     ]
    },
    {
     "name": "stderr",
     "output_type": "stream",
     "text": [
      "Epoch 3:  37%|███████████████▌                          | 348/938 [00:10<00:16, 35.45batch/s, accuracy=96.9, loss=0.19]"
     ]
    },
    {
     "name": "stdout",
     "output_type": "stream",
     "text": [
      "start: torch.Size([64, 1, 28, 28])\n",
      "conv1: torch.Size([64, 10, 24, 24])\n",
      "pool1: torch.Size([64, 10, 12, 12])\n",
      "start: torch.Size([64, 1, 28, 28])\n",
      "conv1: torch.Size([64, 10, 24, 24])\n",
      "pool1: torch.Size([64, 10, 12, 12])\n",
      "start: torch.Size([64, 1, 28, 28])\n",
      "conv1: torch.Size([64, 10, 24, 24])\n",
      "pool1: torch.Size([64, 10, 12, 12])\n",
      "start: torch.Size([64, 1, 28, 28])\n",
      "conv1: torch.Size([64, 10, 24, 24])\n",
      "pool1: torch.Size([64, 10, 12, 12])\n",
      "start: torch.Size([64, 1, 28, 28])\n",
      "conv1: torch.Size([64, 10, 24, 24])\n",
      "pool1: torch.Size([64, 10, 12, 12])\n",
      "start: torch.Size([64, 1, 28, 28])\n",
      "conv1: torch.Size([64, 10, 24, 24])\n",
      "pool1: torch.Size([64, 10, 12, 12])\n",
      "start: torch.Size([64, 1, 28, 28])\n",
      "conv1: torch.Size([64, 10, 24, 24])\n",
      "pool1: torch.Size([64, 10, 12, 12])\n",
      "start: torch.Size([64, 1, 28, 28])\n"
     ]
    },
    {
     "name": "stderr",
     "output_type": "stream",
     "text": [
      "Epoch 3:  38%|███████████████▌                         | 356/938 [00:10<00:16, 35.66batch/s, accuracy=96.9, loss=0.152]"
     ]
    },
    {
     "name": "stdout",
     "output_type": "stream",
     "text": [
      "conv1: torch.Size([64, 10, 24, 24])\n",
      "pool1: torch.Size([64, 10, 12, 12])\n",
      "start: torch.Size([64, 1, 28, 28])\n",
      "conv1: torch.Size([64, 10, 24, 24])\n",
      "pool1: torch.Size([64, 10, 12, 12])\n",
      "start: torch.Size([64, 1, 28, 28])\n",
      "conv1: torch.Size([64, 10, 24, 24])\n",
      "pool1: torch.Size([64, 10, 12, 12])\n",
      "start: torch.Size([64, 1, 28, 28])\n",
      "conv1: torch.Size([64, 10, 24, 24])\n",
      "pool1: torch.Size([64, 10, 12, 12])\n",
      "start: torch.Size([64, 1, 28, 28])\n",
      "conv1: torch.Size([64, 10, 24, 24])\n",
      "pool1: torch.Size([64, 10, 12, 12])\n",
      "start: torch.Size([64, 1, 28, 28])\n",
      "conv1: torch.Size([64, 10, 24, 24])\n",
      "pool1: torch.Size([64, 10, 12, 12])\n",
      "start: torch.Size([64, 1, 28, 28])\n",
      "conv1: torch.Size([64, 10, 24, 24])\n",
      "pool1: torch.Size([64, 10, 12, 12])\n"
     ]
    },
    {
     "name": "stderr",
     "output_type": "stream",
     "text": [
      "Epoch 3:  39%|███████████████▉                         | 364/938 [00:10<00:15, 35.98batch/s, accuracy=95.3, loss=0.108]"
     ]
    },
    {
     "name": "stdout",
     "output_type": "stream",
     "text": [
      "start: torch.Size([64, 1, 28, 28])\n",
      "conv1: torch.Size([64, 10, 24, 24])\n",
      "pool1: torch.Size([64, 10, 12, 12])\n",
      "start: torch.Size([64, 1, 28, 28])\n",
      "conv1: torch.Size([64, 10, 24, 24])\n",
      "pool1: torch.Size([64, 10, 12, 12])\n",
      "start: torch.Size([64, 1, 28, 28])\n",
      "conv1: torch.Size([64, 10, 24, 24])\n",
      "pool1: torch.Size([64, 10, 12, 12])\n",
      "start: torch.Size([64, 1, 28, 28])\n",
      "conv1: torch.Size([64, 10, 24, 24])\n",
      "pool1: torch.Size([64, 10, 12, 12])\n",
      "start: torch.Size([64, 1, 28, 28])\n",
      "conv1: torch.Size([64, 10, 24, 24])\n",
      "pool1: torch.Size([64, 10, 12, 12])\n",
      "start: torch.Size([64, 1, 28, 28])\n",
      "conv1: torch.Size([64, 10, 24, 24])\n",
      "pool1: torch.Size([64, 10, 12, 12])\n",
      "start: torch.Size([64, 1, 28, 28])\n",
      "conv1: torch.Size([64, 10, 24, 24])\n",
      "pool1: torch.Size([64, 10, 12, 12])\n",
      "start: torch.Size([64, 1, 28, 28])\n"
     ]
    },
    {
     "name": "stderr",
     "output_type": "stream",
     "text": [
      "Epoch 3:  40%|████████████████▎                        | 372/938 [00:10<00:15, 37.29batch/s, accuracy=100, loss=0.0473]"
     ]
    },
    {
     "name": "stdout",
     "output_type": "stream",
     "text": [
      "conv1: torch.Size([64, 10, 24, 24])\n",
      "pool1: torch.Size([64, 10, 12, 12])\n",
      "start: torch.Size([64, 1, 28, 28])\n",
      "conv1: torch.Size([64, 10, 24, 24])\n",
      "pool1: torch.Size([64, 10, 12, 12])\n",
      "start: torch.Size([64, 1, 28, 28])\n",
      "conv1: torch.Size([64, 10, 24, 24])\n",
      "pool1: torch.Size([64, 10, 12, 12])\n",
      "start: torch.Size([64, 1, 28, 28])\n",
      "conv1: torch.Size([64, 10, 24, 24])\n",
      "pool1: torch.Size([64, 10, 12, 12])\n",
      "start: torch.Size([64, 1, 28, 28])\n",
      "conv1: torch.Size([64, 10, 24, 24])\n",
      "pool1: torch.Size([64, 10, 12, 12])\n",
      "start: torch.Size([64, 1, 28, 28])\n",
      "conv1: torch.Size([64, 10, 24, 24])\n",
      "pool1: torch.Size([64, 10, 12, 12])\n",
      "start: torch.Size([64, 1, 28, 28])\n",
      "conv1: torch.Size([64, 10, 24, 24])\n",
      "pool1: torch.Size([64, 10, 12, 12])\n",
      "start: torch.Size([64, 1, 28, 28])\n"
     ]
    },
    {
     "name": "stderr",
     "output_type": "stream",
     "text": [
      "Epoch 3:  40%|████████████████▍                        | 376/938 [00:11<00:15, 36.43batch/s, accuracy=100, loss=0.0345]"
     ]
    },
    {
     "name": "stdout",
     "output_type": "stream",
     "text": [
      "conv1: torch.Size([64, 10, 24, 24])\n",
      "pool1: torch.Size([64, 10, 12, 12])\n",
      "start: torch.Size([64, 1, 28, 28])\n",
      "conv1: torch.Size([64, 10, 24, 24])\n",
      "pool1: torch.Size([64, 10, 12, 12])\n",
      "start: torch.Size([64, 1, 28, 28])\n",
      "conv1: torch.Size([64, 10, 24, 24])\n",
      "pool1: torch.Size([64, 10, 12, 12])\n",
      "start: torch.Size([64, 1, 28, 28])\n",
      "conv1: torch.Size([64, 10, 24, 24])\n",
      "pool1: torch.Size([64, 10, 12, 12])\n",
      "start: torch.Size([64, 1, 28, 28])\n",
      "conv1: torch.Size([64, 10, 24, 24])\n",
      "pool1: torch.Size([64, 10, 12, 12])\n",
      "start: torch.Size([64, 1, 28, 28])\n",
      "conv1: torch.Size([64, 10, 24, 24])\n",
      "pool1: torch.Size([64, 10, 12, 12])\n",
      "start: torch.Size([64, 1, 28, 28])\n",
      "conv1: torch.Size([64, 10, 24, 24])\n",
      "pool1: torch.Size([64, 10, 12, 12])\n",
      "start: torch.Size([64, 1, 28, 28])\n"
     ]
    },
    {
     "name": "stderr",
     "output_type": "stream",
     "text": [
      "Epoch 3:  41%|████████████████▊                        | 384/938 [00:11<00:15, 34.73batch/s, accuracy=87.5, loss=0.502]"
     ]
    },
    {
     "name": "stdout",
     "output_type": "stream",
     "text": [
      "conv1: torch.Size([64, 10, 24, 24])\n",
      "pool1: torch.Size([64, 10, 12, 12])\n",
      "start: torch.Size([64, 1, 28, 28])\n",
      "conv1: torch.Size([64, 10, 24, 24])\n",
      "pool1: torch.Size([64, 10, 12, 12])\n",
      "start: torch.Size([64, 1, 28, 28])\n",
      "conv1: torch.Size([64, 10, 24, 24])\n",
      "pool1: torch.Size([64, 10, 12, 12])\n",
      "start: torch.Size([64, 1, 28, 28])\n",
      "conv1: torch.Size([64, 10, 24, 24])\n",
      "pool1: torch.Size([64, 10, 12, 12])\n",
      "start: torch.Size([64, 1, 28, 28])\n",
      "conv1: torch.Size([64, 10, 24, 24])\n",
      "pool1: torch.Size([64, 10, 12, 12])\n",
      "start: torch.Size([64, 1, 28, 28])\n",
      "conv1: torch.Size([64, 10, 24, 24])\n",
      "pool1: torch.Size([64, 10, 12, 12])\n",
      "start: torch.Size([64, 1, 28, 28])\n"
     ]
    },
    {
     "name": "stderr",
     "output_type": "stream",
     "text": [
      "Epoch 3:  42%|█████████████████▏                       | 392/938 [00:11<00:15, 35.26batch/s, accuracy=92.2, loss=0.317]"
     ]
    },
    {
     "name": "stdout",
     "output_type": "stream",
     "text": [
      "conv1: torch.Size([64, 10, 24, 24])\n",
      "pool1: torch.Size([64, 10, 12, 12])\n",
      "start: torch.Size([64, 1, 28, 28])\n",
      "conv1: torch.Size([64, 10, 24, 24])\n",
      "pool1: torch.Size([64, 10, 12, 12])\n",
      "start: torch.Size([64, 1, 28, 28])\n",
      "conv1: torch.Size([64, 10, 24, 24])\n",
      "pool1: torch.Size([64, 10, 12, 12])\n",
      "start: torch.Size([64, 1, 28, 28])\n",
      "conv1: torch.Size([64, 10, 24, 24])\n",
      "pool1: torch.Size([64, 10, 12, 12])\n",
      "start: torch.Size([64, 1, 28, 28])\n",
      "conv1: torch.Size([64, 10, 24, 24])\n",
      "pool1: torch.Size([64, 10, 12, 12])\n",
      "start: torch.Size([64, 1, 28, 28])\n",
      "conv1: torch.Size([64, 10, 24, 24])\n",
      "pool1: torch.Size([64, 10, 12, 12])\n",
      "start: torch.Size([64, 1, 28, 28])\n",
      "conv1: torch.Size([64, 10, 24, 24])\n",
      "pool1: torch.Size([64, 10, 12, 12])\n",
      "start: torch.Size([64, 1, 28, 28])\n"
     ]
    },
    {
     "name": "stderr",
     "output_type": "stream",
     "text": [
      "Epoch 3:  42%|██████████████████▏                        | 396/938 [00:11<00:15, 35.42batch/s, accuracy=93.8, loss=0.2]"
     ]
    },
    {
     "name": "stdout",
     "output_type": "stream",
     "text": [
      "conv1: torch.Size([64, 10, 24, 24])\n",
      "pool1: torch.Size([64, 10, 12, 12])\n",
      "start: torch.Size([64, 1, 28, 28])\n",
      "conv1: torch.Size([64, 10, 24, 24])\n",
      "pool1: torch.Size([64, 10, 12, 12])\n",
      "start: torch.Size([64, 1, 28, 28])\n",
      "conv1: torch.Size([64, 10, 24, 24])\n",
      "pool1: torch.Size([64, 10, 12, 12])\n",
      "start: torch.Size([64, 1, 28, 28])\n",
      "conv1: torch.Size([64, 10, 24, 24])\n",
      "pool1: torch.Size([64, 10, 12, 12])\n",
      "start: torch.Size([64, 1, 28, 28])\n",
      "conv1: torch.Size([64, 10, 24, 24])\n",
      "pool1: torch.Size([64, 10, 12, 12])\n",
      "start: torch.Size([64, 1, 28, 28])\n",
      "conv1: torch.Size([64, 10, 24, 24])\n",
      "pool1: torch.Size([64, 10, 12, 12])\n",
      "start: torch.Size([64, 1, 28, 28])\n",
      "conv1: torch.Size([64, 10, 24, 24])\n",
      "pool1: torch.Size([64, 10, 12, 12])\n",
      "start: torch.Size([64, 1, 28, 28])\n"
     ]
    },
    {
     "name": "stderr",
     "output_type": "stream",
     "text": [
      "Epoch 3:  43%|█████████████████▋                       | 404/938 [00:11<00:15, 35.55batch/s, accuracy=93.8, loss=0.279]"
     ]
    },
    {
     "name": "stdout",
     "output_type": "stream",
     "text": [
      "conv1: torch.Size([64, 10, 24, 24])\n",
      "pool1: torch.Size([64, 10, 12, 12])\n",
      "start: torch.Size([64, 1, 28, 28])\n",
      "conv1: torch.Size([64, 10, 24, 24])\n",
      "pool1: torch.Size([64, 10, 12, 12])\n",
      "start: torch.Size([64, 1, 28, 28])\n",
      "conv1: torch.Size([64, 10, 24, 24])\n",
      "pool1: torch.Size([64, 10, 12, 12])\n",
      "start: torch.Size([64, 1, 28, 28])\n",
      "conv1: torch.Size([64, 10, 24, 24])\n",
      "pool1: torch.Size([64, 10, 12, 12])\n",
      "start: torch.Size([64, 1, 28, 28])\n",
      "conv1: torch.Size([64, 10, 24, 24])\n",
      "pool1: torch.Size([64, 10, 12, 12])\n",
      "start: torch.Size([64, 1, 28, 28])\n",
      "conv1: torch.Size([64, 10, 24, 24])\n",
      "pool1: torch.Size([64, 10, 12, 12])\n",
      "start: torch.Size([64, 1, 28, 28])\n",
      "conv1: torch.Size([64, 10, 24, 24])\n",
      "pool1: torch.Size([64, 10, 12, 12])\n"
     ]
    },
    {
     "name": "stderr",
     "output_type": "stream",
     "text": [
      "Epoch 3:  44%|██████████████████                       | 412/938 [00:11<00:14, 35.99batch/s, accuracy=90.6, loss=0.398]"
     ]
    },
    {
     "name": "stdout",
     "output_type": "stream",
     "text": [
      "start: torch.Size([64, 1, 28, 28])\n",
      "conv1: torch.Size([64, 10, 24, 24])\n",
      "pool1: torch.Size([64, 10, 12, 12])\n",
      "start: torch.Size([64, 1, 28, 28])\n",
      "conv1: torch.Size([64, 10, 24, 24])\n",
      "pool1: torch.Size([64, 10, 12, 12])\n",
      "start: torch.Size([64, 1, 28, 28])\n",
      "conv1: torch.Size([64, 10, 24, 24])\n",
      "pool1: torch.Size([64, 10, 12, 12])\n",
      "start: torch.Size([64, 1, 28, 28])\n",
      "conv1: torch.Size([64, 10, 24, 24])\n",
      "pool1: torch.Size([64, 10, 12, 12])\n",
      "start: torch.Size([64, 1, 28, 28])\n",
      "conv1: torch.Size([64, 10, 24, 24])\n",
      "pool1: torch.Size([64, 10, 12, 12])\n",
      "start: torch.Size([64, 1, 28, 28])\n",
      "conv1: torch.Size([64, 10, 24, 24])\n",
      "pool1: torch.Size([64, 10, 12, 12])\n",
      "start: torch.Size([64, 1, 28, 28])\n",
      "conv1: torch.Size([64, 10, 24, 24])\n",
      "pool1: torch.Size([64, 10, 12, 12])\n",
      "start: torch.Size([64, 1, 28, 28])\n"
     ]
    },
    {
     "name": "stderr",
     "output_type": "stream",
     "text": [
      "Epoch 3:  44%|██████████████████▏                      | 416/938 [00:12<00:14, 35.09batch/s, accuracy=95.3, loss=0.165]"
     ]
    },
    {
     "name": "stdout",
     "output_type": "stream",
     "text": [
      "conv1: torch.Size([64, 10, 24, 24])\n",
      "pool1: torch.Size([64, 10, 12, 12])\n",
      "start: torch.Size([64, 1, 28, 28])\n",
      "conv1: torch.Size([64, 10, 24, 24])\n",
      "pool1: torch.Size([64, 10, 12, 12])\n",
      "start: torch.Size([64, 1, 28, 28])\n",
      "conv1: torch.Size([64, 10, 24, 24])\n",
      "pool1: torch.Size([64, 10, 12, 12])\n",
      "start: torch.Size([64, 1, 28, 28])\n",
      "conv1: torch.Size([64, 10, 24, 24])\n",
      "pool1: torch.Size([64, 10, 12, 12])\n",
      "start: torch.Size([64, 1, 28, 28])\n",
      "conv1: torch.Size([64, 10, 24, 24])\n",
      "pool1: torch.Size([64, 10, 12, 12])\n",
      "start: torch.Size([64, 1, 28, 28])\n",
      "conv1: torch.Size([64, 10, 24, 24])\n",
      "pool1: torch.Size([64, 10, 12, 12])\n",
      "start: torch.Size([64, 1, 28, 28])\n",
      "conv1: torch.Size([64, 10, 24, 24])\n",
      "pool1: torch.Size([64, 10, 12, 12])\n"
     ]
    },
    {
     "name": "stderr",
     "output_type": "stream",
     "text": [
      "Epoch 3:  45%|██████████████████▌                      | 424/938 [00:12<00:14, 35.24batch/s, accuracy=96.9, loss=0.179]"
     ]
    },
    {
     "name": "stdout",
     "output_type": "stream",
     "text": [
      "start: torch.Size([64, 1, 28, 28])\n",
      "conv1: torch.Size([64, 10, 24, 24])\n",
      "pool1: torch.Size([64, 10, 12, 12])\n",
      "start: torch.Size([64, 1, 28, 28])\n",
      "conv1: torch.Size([64, 10, 24, 24])\n",
      "pool1: torch.Size([64, 10, 12, 12])\n",
      "start: torch.Size([64, 1, 28, 28])\n",
      "conv1: torch.Size([64, 10, 24, 24])\n",
      "pool1: torch.Size([64, 10, 12, 12])\n",
      "start: torch.Size([64, 1, 28, 28])\n",
      "conv1: torch.Size([64, 10, 24, 24])\n",
      "pool1: torch.Size([64, 10, 12, 12])\n",
      "start: torch.Size([64, 1, 28, 28])\n",
      "conv1: torch.Size([64, 10, 24, 24])\n",
      "pool1: torch.Size([64, 10, 12, 12])\n",
      "start: torch.Size([64, 1, 28, 28])\n",
      "conv1: torch.Size([64, 10, 24, 24])\n",
      "pool1: torch.Size([64, 10, 12, 12])\n",
      "start: torch.Size([64, 1, 28, 28])\n",
      "conv1: torch.Size([64, 10, 24, 24])\n",
      "pool1: torch.Size([64, 10, 12, 12])\n"
     ]
    },
    {
     "name": "stderr",
     "output_type": "stream",
     "text": [
      "Epoch 3:  46%|██████████████████▉                      | 432/938 [00:12<00:14, 33.77batch/s, accuracy=92.2, loss=0.196]"
     ]
    },
    {
     "name": "stdout",
     "output_type": "stream",
     "text": [
      "start: torch.Size([64, 1, 28, 28])\n",
      "conv1: torch.Size([64, 10, 24, 24])\n",
      "pool1: torch.Size([64, 10, 12, 12])\n",
      "start: torch.Size([64, 1, 28, 28])\n",
      "conv1: torch.Size([64, 10, 24, 24])\n",
      "pool1: torch.Size([64, 10, 12, 12])\n",
      "start: torch.Size([64, 1, 28, 28])\n",
      "conv1: torch.Size([64, 10, 24, 24])\n",
      "pool1: torch.Size([64, 10, 12, 12])\n",
      "start: torch.Size([64, 1, 28, 28])\n",
      "conv1: torch.Size([64, 10, 24, 24])\n",
      "pool1: torch.Size([64, 10, 12, 12])\n",
      "start: torch.Size([64, 1, 28, 28])\n",
      "conv1: torch.Size([64, 10, 24, 24])\n",
      "pool1: torch.Size([64, 10, 12, 12])\n",
      "start: torch.Size([64, 1, 28, 28])\n",
      "conv1: torch.Size([64, 10, 24, 24])\n",
      "pool1: torch.Size([64, 10, 12, 12])\n",
      "start: torch.Size([64, 1, 28, 28])\n"
     ]
    },
    {
     "name": "stderr",
     "output_type": "stream",
     "text": [
      "Epoch 3:  46%|███████████████████                      | 436/938 [00:12<00:14, 33.58batch/s, accuracy=90.6, loss=0.376]"
     ]
    },
    {
     "name": "stdout",
     "output_type": "stream",
     "text": [
      "conv1: torch.Size([64, 10, 24, 24])\n",
      "pool1: torch.Size([64, 10, 12, 12])\n",
      "start: torch.Size([64, 1, 28, 28])\n",
      "conv1: torch.Size([64, 10, 24, 24])\n",
      "pool1: torch.Size([64, 10, 12, 12])\n",
      "start: torch.Size([64, 1, 28, 28])\n",
      "conv1: torch.Size([64, 10, 24, 24])\n",
      "pool1: torch.Size([64, 10, 12, 12])\n",
      "start: torch.Size([64, 1, 28, 28])\n",
      "conv1: torch.Size([64, 10, 24, 24])\n",
      "pool1: torch.Size([64, 10, 12, 12])\n",
      "start: torch.Size([64, 1, 28, 28])\n",
      "conv1: torch.Size([64, 10, 24, 24])\n",
      "pool1: torch.Size([64, 10, 12, 12])\n",
      "start: torch.Size([64, 1, 28, 28])\n",
      "conv1: torch.Size([64, 10, 24, 24])\n",
      "pool1: torch.Size([64, 10, 12, 12])\n",
      "start: torch.Size([64, 1, 28, 28])\n"
     ]
    },
    {
     "name": "stderr",
     "output_type": "stream",
     "text": [
      "Epoch 3:  47%|███████████████████▍                     | 444/938 [00:12<00:15, 32.08batch/s, accuracy=93.8, loss=0.183]"
     ]
    },
    {
     "name": "stdout",
     "output_type": "stream",
     "text": [
      "conv1: torch.Size([64, 10, 24, 24])\n",
      "pool1: torch.Size([64, 10, 12, 12])\n",
      "start: torch.Size([64, 1, 28, 28])\n",
      "conv1: torch.Size([64, 10, 24, 24])\n",
      "pool1: torch.Size([64, 10, 12, 12])\n",
      "start: torch.Size([64, 1, 28, 28])\n",
      "conv1: torch.Size([64, 10, 24, 24])\n",
      "pool1: torch.Size([64, 10, 12, 12])\n",
      "start: torch.Size([64, 1, 28, 28])\n",
      "conv1: torch.Size([64, 10, 24, 24])\n",
      "pool1: torch.Size([64, 10, 12, 12])\n",
      "start: torch.Size([64, 1, 28, 28])\n",
      "conv1: torch.Size([64, 10, 24, 24])\n",
      "pool1: torch.Size([64, 10, 12, 12])\n",
      "start: torch.Size([64, 1, 28, 28])\n",
      "conv1: torch.Size([64, 10, 24, 24])\n",
      "pool1: torch.Size([64, 10, 12, 12])\n",
      "start: torch.Size([64, 1, 28, 28])\n"
     ]
    },
    {
     "name": "stderr",
     "output_type": "stream",
     "text": [
      "Epoch 3:  48%|███████████████████▌                     | 448/938 [00:13<00:15, 31.93batch/s, accuracy=100, loss=0.0526]"
     ]
    },
    {
     "name": "stdout",
     "output_type": "stream",
     "text": [
      "conv1: torch.Size([64, 10, 24, 24])\n",
      "pool1: torch.Size([64, 10, 12, 12])\n",
      "start: torch.Size([64, 1, 28, 28])\n",
      "conv1: torch.Size([64, 10, 24, 24])\n",
      "pool1: torch.Size([64, 10, 12, 12])\n",
      "start: torch.Size([64, 1, 28, 28])\n",
      "conv1: torch.Size([64, 10, 24, 24])\n",
      "pool1: torch.Size([64, 10, 12, 12])\n",
      "start: torch.Size([64, 1, 28, 28])\n",
      "conv1: torch.Size([64, 10, 24, 24])\n",
      "pool1: torch.Size([64, 10, 12, 12])\n",
      "start: torch.Size([64, 1, 28, 28])\n",
      "conv1: torch.Size([64, 10, 24, 24])\n",
      "pool1: torch.Size([64, 10, 12, 12])\n",
      "start: torch.Size([64, 1, 28, 28])\n",
      "conv1: torch.Size([64, 10, 24, 24])\n",
      "pool1: torch.Size([64, 10, 12, 12])\n",
      "start: torch.Size([64, 1, 28, 28])\n"
     ]
    },
    {
     "name": "stderr",
     "output_type": "stream",
     "text": [
      "Epoch 3:  49%|███████████████████▉                     | 456/938 [00:13<00:16, 29.48batch/s, accuracy=95.3, loss=0.242]"
     ]
    },
    {
     "name": "stdout",
     "output_type": "stream",
     "text": [
      "conv1: torch.Size([64, 10, 24, 24])\n",
      "pool1: torch.Size([64, 10, 12, 12])\n",
      "start: torch.Size([64, 1, 28, 28])\n",
      "conv1: torch.Size([64, 10, 24, 24])\n",
      "pool1: torch.Size([64, 10, 12, 12])\n",
      "start: torch.Size([64, 1, 28, 28])\n",
      "conv1: torch.Size([64, 10, 24, 24])\n",
      "pool1: torch.Size([64, 10, 12, 12])\n",
      "start: torch.Size([64, 1, 28, 28])\n",
      "conv1: torch.Size([64, 10, 24, 24])\n",
      "pool1: torch.Size([64, 10, 12, 12])\n",
      "start: torch.Size([64, 1, 28, 28])\n",
      "conv1: torch.Size([64, 10, 24, 24])\n",
      "pool1: torch.Size([64, 10, 12, 12])\n",
      "start: torch.Size([64, 1, 28, 28])\n"
     ]
    },
    {
     "name": "stderr",
     "output_type": "stream",
     "text": [
      "Epoch 3:  49%|███████████████████▌                    | 460/938 [00:13<00:16, 29.32batch/s, accuracy=95.3, loss=0.0881]"
     ]
    },
    {
     "name": "stdout",
     "output_type": "stream",
     "text": [
      "conv1: torch.Size([64, 10, 24, 24])\n",
      "pool1: torch.Size([64, 10, 12, 12])\n",
      "start: torch.Size([64, 1, 28, 28])\n",
      "conv1: torch.Size([64, 10, 24, 24])\n",
      "pool1: torch.Size([64, 10, 12, 12])\n",
      "start: torch.Size([64, 1, 28, 28])\n",
      "conv1: torch.Size([64, 10, 24, 24])\n",
      "pool1: torch.Size([64, 10, 12, 12])\n",
      "start: torch.Size([64, 1, 28, 28])\n",
      "conv1: torch.Size([64, 10, 24, 24])\n",
      "pool1: torch.Size([64, 10, 12, 12])\n",
      "start: torch.Size([64, 1, 28, 28])\n",
      "conv1:"
     ]
    },
    {
     "name": "stderr",
     "output_type": "stream",
     "text": [
      "Epoch 3:  49%|████████████████████▏                    | 463/938 [00:13<00:19, 24.58batch/s, accuracy=96.9, loss=0.105]"
     ]
    },
    {
     "name": "stdout",
     "output_type": "stream",
     "text": [
      " torch.Size([64, 10, 24, 24])\n",
      "pool1: torch.Size([64, 10, 12, 12])\n",
      "start: torch.Size([64, 1, 28, 28])\n",
      "conv1: torch.Size([64, 10, 24, 24])\n",
      "pool1: torch.Size([64, 10, 12, 12])\n",
      "start: torch.Size([64, 1, 28, 28])\n",
      "conv1: torch.Size([64, 10, 24, 24])\n",
      "pool1: torch.Size([64, 10, 12, 12])\n",
      "start: torch.Size([64, 1, 28, 28])\n",
      "conv1: torch.Size([64, 10, 24, 24])\n",
      "pool1: torch.Size([64, 10, 12, 12])\n",
      "start: torch.Size([64, 1, 28, 28])\n",
      "conv1: torch.Size([64, 10, 24, 24])\n",
      "pool1: torch.Size([64, 10, 12, 12])\n",
      "start: torch.Size([64, 1, 28, 28])\n"
     ]
    },
    {
     "name": "stderr",
     "output_type": "stream",
     "text": [
      "Epoch 3:  50%|████████████████████▌                    | 470/938 [00:13<00:18, 25.19batch/s, accuracy=98.4, loss=0.067]"
     ]
    },
    {
     "name": "stdout",
     "output_type": "stream",
     "text": [
      "conv1: torch.Size([64, 10, 24, 24])\n",
      "pool1: torch.Size([64, 10, 12, 12])\n",
      "start: torch.Size([64, 1, 28, 28])\n",
      "conv1: torch.Size([64, 10, 24, 24])\n",
      "pool1: torch.Size([64, 10, 12, 12])\n",
      "start: torch.Size([64, 1, 28, 28])\n",
      "conv1: torch.Size([64, 10, 24, 24])\n",
      "pool1: torch.Size([64, 10, 12, 12])\n",
      "start: torch.Size([64, 1, 28, 28])\n",
      "conv1: torch.Size([64, 10, 24, 24])\n",
      "pool1: torch.Size([64, 10, 12, 12])\n",
      "start: torch.Size([64, 1, 28, 28])\n",
      "conv1: torch.Size([64, 10, 24, 24])\n",
      "pool1: torch.Size([64, 10, 12, 12])\n",
      "start: torch.Size([64, 1, 28, 28])\n"
     ]
    },
    {
     "name": "stderr",
     "output_type": "stream",
     "text": [
      "Epoch 3:  50%|████████████████████▋                    | 473/938 [00:14<00:18, 25.62batch/s, accuracy=95.3, loss=0.124]"
     ]
    },
    {
     "name": "stdout",
     "output_type": "stream",
     "text": [
      "conv1: torch.Size([64, 10, 24, 24])\n",
      "pool1: torch.Size([64, 10, 12, 12])\n",
      "start: torch.Size([64, 1, 28, 28])\n",
      "conv1: torch.Size([64, 10, 24, 24])\n",
      "pool1: torch.Size([64, 10, 12, 12])\n",
      "start: torch.Size([64, 1, 28, 28])\n",
      "conv1: torch.Size([64, 10, 24, 24])\n",
      "pool1: torch.Size([64, 10, 12, 12])\n",
      "start: torch.Size([64, 1, 28, 28])\n",
      "conv1: torch.Size([64, 10, 24, 24])\n",
      "pool1: torch.Size([64, 10, 12, 12])\n",
      "start: torch.Size([64, 1, 28, 28])\n",
      "conv1: torch.Size([64, 10, 24, 24])\n",
      "pool1: torch.Size([64, 10, 12, 12])\n",
      "start: torch.Size([64, 1, 28, 28])\n",
      "conv1: torch.Size([64, 10, 24, 24])\n",
      "pool1: torch.Size([64, 10, 12, 12])\n",
      "start: torch.Size([64, 1, 28, 28])\n"
     ]
    },
    {
     "name": "stderr",
     "output_type": "stream",
     "text": [
      "Epoch 3:  51%|████████████████████▍                   | 480/938 [00:14<00:16, 28.25batch/s, accuracy=96.9, loss=0.0812]"
     ]
    },
    {
     "name": "stdout",
     "output_type": "stream",
     "text": [
      "conv1: torch.Size([64, 10, 24, 24])\n",
      "pool1: torch.Size([64, 10, 12, 12])\n",
      "start: torch.Size([64, 1, 28, 28])\n",
      "conv1: torch.Size([64, 10, 24, 24])\n",
      "pool1: torch.Size([64, 10, 12, 12])\n",
      "start: torch.Size([64, 1, 28, 28])\n",
      "conv1: torch.Size([64, 10, 24, 24])\n",
      "pool1: torch.Size([64, 10, 12, 12])\n",
      "start: torch.Size([64, 1, 28, 28])\n",
      "conv1: torch.Size([64, 10, 24, 24])\n",
      "pool1: torch.Size([64, 10, 12, 12])\n",
      "start: torch.Size([64, 1, 28, 28])\n",
      "conv1: torch.Size([64, 10, 24, 24])\n",
      "pool1: torch.Size([64, 10, 12, 12])\n",
      "start: torch.Size([64, 1, 28, 28])\n",
      "conv1: torch.Size([64, 10, 24, 24])\n",
      "pool1: torch.Size([64, 10, 12, 12])\n"
     ]
    },
    {
     "name": "stderr",
     "output_type": "stream",
     "text": [
      "Epoch 3:  52%|█████████████████████▎                   | 488/938 [00:14<00:14, 30.61batch/s, accuracy=96.9, loss=0.069]"
     ]
    },
    {
     "name": "stdout",
     "output_type": "stream",
     "text": [
      "start: torch.Size([64, 1, 28, 28])\n",
      "conv1: torch.Size([64, 10, 24, 24])\n",
      "pool1: torch.Size([64, 10, 12, 12])\n",
      "start: torch.Size([64, 1, 28, 28])\n",
      "conv1: torch.Size([64, 10, 24, 24])\n",
      "pool1: torch.Size([64, 10, 12, 12])\n",
      "start: torch.Size([64, 1, 28, 28])\n",
      "conv1: torch.Size([64, 10, 24, 24])\n",
      "pool1: torch.Size([64, 10, 12, 12])\n",
      "start: torch.Size([64, 1, 28, 28])\n",
      "conv1: torch.Size([64, 10, 24, 24])\n",
      "pool1: torch.Size([64, 10, 12, 12])\n",
      "start: torch.Size([64, 1, 28, 28])\n",
      "conv1: torch.Size([64, 10, 24, 24])\n",
      "pool1: torch.Size([64, 10, 12, 12])\n",
      "start: torch.Size([64, 1, 28, 28])\n",
      "conv1: torch.Size([64, 10, 24, 24])\n",
      "pool1: torch.Size([64, 10, 12, 12])\n",
      "start: torch.Size([64, 1, 28, 28])\n",
      "conv1: torch.Size([64, 10, 24, 24])\n",
      "pool1: torch.Size([64, 10, 12, 12])\n"
     ]
    },
    {
     "name": "stderr",
     "output_type": "stream",
     "text": [
      "Epoch 3:  52%|████████████████████▉                   | 492/938 [00:14<00:13, 32.58batch/s, accuracy=96.9, loss=0.0796]"
     ]
    },
    {
     "name": "stdout",
     "output_type": "stream",
     "text": [
      "start: torch.Size([64, 1, 28, 28])\n",
      "conv1: torch.Size([64, 10, 24, 24])\n",
      "pool1: torch.Size([64, 10, 12, 12])\n",
      "start: torch.Size([64, 1, 28, 28])\n",
      "conv1: torch.Size([64, 10, 24, 24])\n",
      "pool1: torch.Size([64, 10, 12, 12])\n",
      "start: torch.Size([64, 1, 28, 28])\n",
      "conv1: torch.Size([64, 10, 24, 24])\n",
      "pool1: torch.Size([64, 10, 12, 12])\n",
      "start: torch.Size([64, 1, 28, 28])\n",
      "conv1: torch.Size([64, 10, 24, 24])\n",
      "pool1: torch.Size([64, 10, 12, 12])\n",
      "start: torch.Size([64, 1, 28, 28])\n",
      "conv1: torch.Size([64, 10, 24, 24])\n",
      "pool1: torch.Size([64, 10, 12, 12])\n",
      "start: torch.Size([64, 1, 28, 28])\n",
      "conv1: torch.Size([64, 10, 24, 24])\n",
      "pool1: torch.Size([64, 10, 12, 12])\n",
      "start: torch.Size([64, 1, 28, 28])\n",
      "conv1: torch.Size([64, 10, 24, 24])\n",
      "pool1: torch.Size([64, 10, 12, 12])\n"
     ]
    },
    {
     "name": "stderr",
     "output_type": "stream",
     "text": [
      "Epoch 3:  53%|█████████████████████▊                   | 500/938 [00:14<00:13, 33.54batch/s, accuracy=93.8, loss=0.236]"
     ]
    },
    {
     "name": "stdout",
     "output_type": "stream",
     "text": [
      "start: torch.Size([64, 1, 28, 28])\n",
      "conv1: torch.Size([64, 10, 24, 24])\n",
      "pool1: torch.Size([64, 10, 12, 12])\n",
      "start: torch.Size([64, 1, 28, 28])\n",
      "conv1: torch.Size([64, 10, 24, 24])\n",
      "pool1: torch.Size([64, 10, 12, 12])\n",
      "start: torch.Size([64, 1, 28, 28])\n",
      "conv1: torch.Size([64, 10, 24, 24])\n",
      "pool1: torch.Size([64, 10, 12, 12])\n",
      "start: torch.Size([64, 1, 28, 28])\n",
      "conv1: torch.Size([64, 10, 24, 24])\n",
      "pool1: torch.Size([64, 10, 12, 12])\n",
      "start: torch.Size([64, 1, 28, 28])\n",
      "conv1: torch.Size([64, 10, 24, 24])\n",
      "pool1: torch.Size([64, 10, 12, 12])\n",
      "start: torch.Size([64, 1, 28, 28])\n",
      "conv1: torch.Size([64, 10, 24, 24])\n",
      "pool1: torch.Size([64, 10, 12, 12])\n",
      "start: torch.Size([64, 1, 28, 28])\n",
      "conv1: torch.Size([64, 10, 24, 24])\n",
      "pool1: torch.Size([64, 10, 12, 12])\n",
      "start: torch.Size([64, 1, 28, 28])\n"
     ]
    },
    {
     "name": "stderr",
     "output_type": "stream",
     "text": [
      "Epoch 3:  54%|██████████████████████▏                  | 508/938 [00:15<00:12, 33.75batch/s, accuracy=93.8, loss=0.265]"
     ]
    },
    {
     "name": "stdout",
     "output_type": "stream",
     "text": [
      "conv1: torch.Size([64, 10, 24, 24])\n",
      "pool1: torch.Size([64, 10, 12, 12])\n",
      "start: torch.Size([64, 1, 28, 28])\n",
      "conv1: torch.Size([64, 10, 24, 24])\n",
      "pool1: torch.Size([64, 10, 12, 12])\n",
      "start: torch.Size([64, 1, 28, 28])\n",
      "conv1: torch.Size([64, 10, 24, 24])\n",
      "pool1: torch.Size([64, 10, 12, 12])\n",
      "start: torch.Size([64, 1, 28, 28])\n",
      "conv1: torch.Size([64, 10, 24, 24])\n",
      "pool1: torch.Size([64, 10, 12, 12])\n",
      "start: torch.Size([64, 1, 28, 28])\n",
      "conv1: torch.Size([64, 10, 24, 24])\n",
      "pool1: torch.Size([64, 10, 12, 12])\n",
      "start: torch.Size([64, 1, 28, 28])\n",
      "conv1: torch.Size([64, 10, 24, 24])\n",
      "pool1: torch.Size([64, 10, 12, 12])\n",
      "start: torch.Size([64, 1, 28, 28])\n"
     ]
    },
    {
     "name": "stderr",
     "output_type": "stream",
     "text": [
      "Epoch 3:  55%|██████████████████████▍                  | 512/938 [00:15<00:12, 33.91batch/s, accuracy=89.1, loss=0.407]"
     ]
    },
    {
     "name": "stdout",
     "output_type": "stream",
     "text": [
      "conv1: torch.Size([64, 10, 24, 24])\n",
      "pool1: torch.Size([64, 10, 12, 12])\n",
      "start: torch.Size([64, 1, 28, 28])\n",
      "conv1: torch.Size([64, 10, 24, 24])\n",
      "pool1: torch.Size([64, 10, 12, 12])\n",
      "start: torch.Size([64, 1, 28, 28])\n",
      "conv1: torch.Size([64, 10, 24, 24])\n",
      "pool1: torch.Size([64, 10, 12, 12])\n",
      "start: torch.Size([64, 1, 28, 28])\n",
      "conv1: torch.Size([64, 10, 24, 24])\n",
      "pool1: torch.Size([64, 10, 12, 12])\n",
      "start: torch.Size([64, 1, 28, 28])\n",
      "conv1: torch.Size([64, 10, 24, 24])\n",
      "pool1: torch.Size([64, 10, 12, 12])\n",
      "start: torch.Size([64, 1, 28, 28])\n",
      "conv1: torch.Size([64, 10, 24, 24])\n",
      "pool1: torch.Size([64, 10, 12, 12])\n",
      "start: torch.Size([64, 1, 28, 28])\n",
      "conv1: torch.Size([64, 10, 24, 24])\n",
      "pool1: torch.Size([64, 10, 12, 12])\n"
     ]
    },
    {
     "name": "stderr",
     "output_type": "stream",
     "text": [
      "Epoch 3:  55%|██████████████████████▋                  | 520/938 [00:15<00:12, 33.98batch/s, accuracy=98.4, loss=0.029]"
     ]
    },
    {
     "name": "stdout",
     "output_type": "stream",
     "text": [
      "start: torch.Size([64, 1, 28, 28])\n",
      "conv1: torch.Size([64, 10, 24, 24])\n",
      "pool1: torch.Size([64, 10, 12, 12])\n",
      "start: torch.Size([64, 1, 28, 28])\n",
      "conv1: torch.Size([64, 10, 24, 24])\n",
      "pool1: torch.Size([64, 10, 12, 12])\n",
      "start: torch.Size([64, 1, 28, 28])\n",
      "conv1: torch.Size([64, 10, 24, 24])\n",
      "pool1: torch.Size([64, 10, 12, 12])\n",
      "start: torch.Size([64, 1, 28, 28])\n",
      "conv1: torch.Size([64, 10, 24, 24])\n",
      "pool1: torch.Size([64, 10, 12, 12])\n",
      "start: torch.Size([64, 1, 28, 28])\n",
      "conv1: torch.Size([64, 10, 24, 24])\n",
      "pool1: torch.Size([64, 10, 12, 12])\n",
      "start: torch.Size([64, 1, 28, 28])\n",
      "conv1: torch.Size([64, 10, 24, 24])\n",
      "pool1: torch.Size([64, 10, 12, 12])\n",
      "start: torch.Size([64, 1, 28, 28])\n"
     ]
    },
    {
     "name": "stderr",
     "output_type": "stream",
     "text": [
      "Epoch 3:  56%|███████████████████████                  | 528/938 [00:15<00:12, 33.23batch/s, accuracy=95.3, loss=0.106]"
     ]
    },
    {
     "name": "stdout",
     "output_type": "stream",
     "text": [
      "conv1: torch.Size([64, 10, 24, 24])\n",
      "pool1: torch.Size([64, 10, 12, 12])\n",
      "start: torch.Size([64, 1, 28, 28])\n",
      "conv1: torch.Size([64, 10, 24, 24])\n",
      "pool1: torch.Size([64, 10, 12, 12])\n",
      "start: torch.Size([64, 1, 28, 28])\n",
      "conv1: torch.Size([64, 10, 24, 24])\n",
      "pool1: torch.Size([64, 10, 12, 12])\n",
      "start: torch.Size([64, 1, 28, 28])\n",
      "conv1: torch.Size([64, 10, 24, 24])\n",
      "pool1: torch.Size([64, 10, 12, 12])\n",
      "start: torch.Size([64, 1, 28, 28])\n",
      "conv1: torch.Size([64, 10, 24, 24])\n",
      "pool1: torch.Size([64, 10, 12, 12])\n",
      "start: torch.Size([64, 1, 28, 28])\n",
      "conv1: torch.Size([64, 10, 24, 24])\n",
      "pool1: torch.Size([64, 10, 12, 12])\n",
      "start: torch.Size([64, 1, 28, 28])\n",
      "conv1: torch.Size([64, 10, 24, 24])\n",
      "pool1: torch.Size([64, 10, 12, 12])\n"
     ]
    },
    {
     "name": "stderr",
     "output_type": "stream",
     "text": [
      "Epoch 3:  57%|██████████████████████▋                 | 532/938 [00:15<00:12, 33.54batch/s, accuracy=98.4, loss=0.0958]"
     ]
    },
    {
     "name": "stdout",
     "output_type": "stream",
     "text": [
      "start: torch.Size([64, 1, 28, 28])\n",
      "conv1: torch.Size([64, 10, 24, 24])\n",
      "pool1: torch.Size([64, 10, 12, 12])\n",
      "start: torch.Size([64, 1, 28, 28])\n",
      "conv1: torch.Size([64, 10, 24, 24])\n",
      "pool1: torch.Size([64, 10, 12, 12])\n",
      "start: torch.Size([64, 1, 28, 28])\n",
      "conv1: torch.Size([64, 10, 24, 24])\n",
      "pool1: torch.Size([64, 10, 12, 12])\n",
      "start: torch.Size([64, 1, 28, 28])\n",
      "conv1: torch.Size([64, 10, 24, 24])\n",
      "pool1: torch.Size([64, 10, 12, 12])\n",
      "start: torch.Size([64, 1, 28, 28])\n",
      "conv1: torch.Size([64, 10, 24, 24])\n",
      "pool1: torch.Size([64, 10, 12, 12])\n",
      "start: torch.Size([64, 1, 28, 28])\n",
      "conv1: torch.Size([64, 10, 24, 24])\n",
      "pool1: torch.Size([64, 10, 12, 12])\n",
      "start: torch.Size([64, 1, 28, 28])\n",
      "conv1: torch.Size([64, 10, 24, 24])\n",
      "pool1: torch.Size([64, 10, 12, 12])\n"
     ]
    },
    {
     "name": "stderr",
     "output_type": "stream",
     "text": [
      "Epoch 3:  58%|████████████████████████▏                 | 540/938 [00:16<00:11, 34.39batch/s, accuracy=92.2, loss=0.22]"
     ]
    },
    {
     "name": "stdout",
     "output_type": "stream",
     "text": [
      "start: torch.Size([64, 1, 28, 28])\n",
      "conv1: torch.Size([64, 10, 24, 24])\n",
      "pool1: torch.Size([64, 10, 12, 12])\n",
      "start: torch.Size([64, 1, 28, 28])\n",
      "conv1: torch.Size([64, 10, 24, 24])\n",
      "pool1: torch.Size([64, 10, 12, 12])\n",
      "start: torch.Size([64, 1, 28, 28])\n",
      "conv1: torch.Size([64, 10, 24, 24])\n",
      "pool1: torch.Size([64, 10, 12, 12])\n",
      "start: torch.Size([64, 1, 28, 28])\n",
      "conv1: torch.Size([64, 10, 24, 24])\n",
      "pool1: torch.Size([64, 10, 12, 12])\n",
      "start: torch.Size([64, 1, 28, 28])\n",
      "conv1: torch.Size([64, 10, 24, 24])\n",
      "pool1: torch.Size([64, 10, 12, 12])\n",
      "start: torch.Size([64, 1, 28, 28])\n",
      "conv1: torch.Size([64, 10, 24, 24])\n",
      "pool1: torch.Size([64, 10, 12, 12])\n",
      "start: torch.Size([64, 1, 28, 28])\n",
      "conv1: torch.Size([64, 10, 24, 24])\n",
      "pool1: torch.Size([64, 10, 12, 12])\n"
     ]
    },
    {
     "name": "stderr",
     "output_type": "stream",
     "text": [
      "Epoch 3:  58%|████████████████████████▌                 | 548/938 [00:16<00:11, 35.25batch/s, accuracy=93.8, loss=0.15]"
     ]
    },
    {
     "name": "stdout",
     "output_type": "stream",
     "text": [
      "start: torch.Size([64, 1, 28, 28])\n",
      "conv1: torch.Size([64, 10, 24, 24])\n",
      "pool1: torch.Size([64, 10, 12, 12])\n",
      "start: torch.Size([64, 1, 28, 28])\n",
      "conv1: torch.Size([64, 10, 24, 24])\n",
      "pool1: torch.Size([64, 10, 12, 12])\n",
      "start: torch.Size([64, 1, 28, 28])\n",
      "conv1: torch.Size([64, 10, 24, 24])\n",
      "pool1: torch.Size([64, 10, 12, 12])\n",
      "start: torch.Size([64, 1, 28, 28])\n",
      "conv1: torch.Size([64, 10, 24, 24])\n",
      "pool1: torch.Size([64, 10, 12, 12])\n",
      "start: torch.Size([64, 1, 28, 28])\n",
      "conv1: torch.Size([64, 10, 24, 24])\n",
      "pool1: torch.Size([64, 10, 12, 12])\n",
      "start: torch.Size([64, 1, 28, 28])\n",
      "conv1: torch.Size([64, 10, 24, 24])\n",
      "pool1: torch.Size([64, 10, 12, 12])\n",
      "start: torch.Size([64, 1, 28, 28])\n",
      "conv1: torch.Size([64, 10, 24, 24])\n",
      "pool1: torch.Size([64, 10, 12, 12])\n",
      "start: torch.Size([64, 1, 28, 28])\n"
     ]
    },
    {
     "name": "stderr",
     "output_type": "stream",
     "text": [
      "Epoch 3:  59%|████████████████████████▉                 | 556/938 [00:16<00:10, 35.89batch/s, accuracy=95.3, loss=0.17]"
     ]
    },
    {
     "name": "stdout",
     "output_type": "stream",
     "text": [
      "conv1: torch.Size([64, 10, 24, 24])\n",
      "pool1: torch.Size([64, 10, 12, 12])\n",
      "start: torch.Size([64, 1, 28, 28])\n",
      "conv1: torch.Size([64, 10, 24, 24])\n",
      "pool1: torch.Size([64, 10, 12, 12])\n",
      "start: torch.Size([64, 1, 28, 28])\n",
      "conv1: torch.Size([64, 10, 24, 24])\n",
      "pool1: torch.Size([64, 10, 12, 12])\n",
      "start: torch.Size([64, 1, 28, 28])\n",
      "conv1: torch.Size([64, 10, 24, 24])\n",
      "pool1: torch.Size([64, 10, 12, 12])\n",
      "start: torch.Size([64, 1, 28, 28])\n",
      "conv1: torch.Size([64, 10, 24, 24])\n",
      "pool1: torch.Size([64, 10, 12, 12])\n",
      "start: torch.Size([64, 1, 28, 28])\n",
      "conv1: torch.Size([64, 10, 24, 24])\n",
      "pool1: torch.Size([64, 10, 12, 12])\n",
      "start: torch.Size([64, 1, 28, 28])\n",
      "conv1: torch.Size([64, 10, 24, 24])\n",
      "pool1: torch.Size([64, 10, 12, 12])\n",
      "start: torch.Size([64, 1, 28, 28])\n"
     ]
    },
    {
     "name": "stderr",
     "output_type": "stream",
     "text": [
      "Epoch 3:  60%|███████████████████████▉                | 561/938 [00:16<00:10, 37.16batch/s, accuracy=95.3, loss=0.0851]"
     ]
    },
    {
     "name": "stdout",
     "output_type": "stream",
     "text": [
      "conv1: torch.Size([64, 10, 24, 24])\n",
      "pool1: torch.Size([64, 10, 12, 12])\n",
      "start: torch.Size([64, 1, 28, 28])\n",
      "conv1: torch.Size([64, 10, 24, 24])\n",
      "pool1: torch.Size([64, 10, 12, 12])\n",
      "start: torch.Size([64, 1, 28, 28])\n",
      "conv1: torch.Size([64, 10, 24, 24])\n",
      "pool1: torch.Size([64, 10, 12, 12])\n",
      "start: torch.Size([64, 1, 28, 28])\n",
      "conv1: torch.Size([64, 10, 24, 24])\n",
      "pool1: torch.Size([64, 10, 12, 12])\n",
      "start: torch.Size([64, 1, 28, 28])\n",
      "conv1: torch.Size([64, 10, 24, 24])\n",
      "pool1: torch.Size([64, 10, 12, 12])\n",
      "start: torch.Size([64, 1, 28, 28])\n",
      "conv1: torch.Size([64, 10, 24, 24])\n",
      "pool1: torch.Size([64, 10, 12, 12])\n",
      "start: torch.Size([64, 1, 28, 28])\n",
      "conv1: torch.Size([64, 10, 24, 24])\n",
      "pool1: torch.Size([64, 10, 12, 12])\n",
      "start: torch.Size([64, 1, 28, 28])\n"
     ]
    },
    {
     "name": "stderr",
     "output_type": "stream",
     "text": [
      "Epoch 3:  61%|████████████████████████▎               | 569/938 [00:16<00:10, 35.13batch/s, accuracy=96.9, loss=0.0596]"
     ]
    },
    {
     "name": "stdout",
     "output_type": "stream",
     "text": [
      "conv1: torch.Size([64, 10, 24, 24])\n",
      "pool1: torch.Size([64, 10, 12, 12])\n",
      "start: torch.Size([64, 1, 28, 28])\n",
      "conv1: torch.Size([64, 10, 24, 24])\n",
      "pool1: torch.Size([64, 10, 12, 12])\n",
      "start: torch.Size([64, 1, 28, 28])\n",
      "conv1: torch.Size([64, 10, 24, 24])\n",
      "pool1: torch.Size([64, 10, 12, 12])\n",
      "start: torch.Size([64, 1, 28, 28])\n",
      "conv1: torch.Size([64, 10, 24, 24])\n",
      "pool1: torch.Size([64, 10, 12, 12])\n",
      "start: torch.Size([64, 1, 28, 28])\n",
      "conv1: torch.Size([64, 10, 24, 24])\n",
      "pool1: torch.Size([64, 10, 12, 12])\n",
      "start: torch.Size([64, 1, 28, 28])\n",
      "conv1: torch.Size([64, 10, 24, 24])\n",
      "pool1: torch.Size([64, 10, 12, 12])\n",
      "start: torch.Size([64, 1, 28, 28])\n",
      "conv1: torch.Size([64, 10, 24, 24])\n",
      "pool1: torch.Size([64, 10, 12, 12])\n",
      "start: torch.Size([64, 1, 28, 28])\n"
     ]
    },
    {
     "name": "stderr",
     "output_type": "stream",
     "text": [
      "Epoch 3:  62%|█████████████████████████▎               | 578/938 [00:17<00:09, 37.25batch/s, accuracy=96.9, loss=0.106]"
     ]
    },
    {
     "name": "stdout",
     "output_type": "stream",
     "text": [
      "conv1: torch.Size([64, 10, 24, 24])\n",
      "pool1: torch.Size([64, 10, 12, 12])\n",
      "start: torch.Size([64, 1, 28, 28])\n",
      "conv1: torch.Size([64, 10, 24, 24])\n",
      "pool1: torch.Size([64, 10, 12, 12])\n",
      "start: torch.Size([64, 1, 28, 28])\n",
      "conv1: torch.Size([64, 10, 24, 24])\n",
      "pool1: torch.Size([64, 10, 12, 12])\n",
      "start: torch.Size([64, 1, 28, 28])\n",
      "conv1: torch.Size([64, 10, 24, 24])\n",
      "pool1: torch.Size([64, 10, 12, 12])\n",
      "start: torch.Size([64, 1, 28, 28])\n",
      "conv1: torch.Size([64, 10, 24, 24])\n",
      "pool1: torch.Size([64, 10, 12, 12])\n",
      "start: torch.Size([64, 1, 28, 28])\n",
      "conv1: torch.Size([64, 10, 24, 24])\n",
      "pool1: torch.Size([64, 10, 12, 12])\n",
      "start: torch.Size([64, 1, 28, 28])\n",
      "conv1: torch.Size([64, 10, 24, 24])\n",
      "pool1: torch.Size([64, 10, 12, 12])\n",
      "start: torch.Size([64, 1, 28, 28])\n",
      "conv1: torch.Size([64, 10, 24, 24])\n",
      "pool1: torch.Size([64, 10, 12, 12])\n",
      "start: torch.Size([64, 1, 28, 28])\n"
     ]
    },
    {
     "name": "stderr",
     "output_type": "stream",
     "text": [
      "Epoch 3:  62%|████████████████████████▊               | 582/938 [00:17<00:09, 37.61batch/s, accuracy=96.9, loss=0.0562]"
     ]
    },
    {
     "name": "stdout",
     "output_type": "stream",
     "text": [
      "conv1: torch.Size([64, 10, 24, 24])\n",
      "pool1: torch.Size([64, 10, 12, 12])\n",
      "start: torch.Size([64, 1, 28, 28])\n",
      "conv1: torch.Size([64, 10, 24, 24])\n",
      "pool1: torch.Size([64, 10, 12, 12])\n",
      "start: torch.Size([64, 1, 28, 28])\n",
      "conv1: torch.Size([64, 10, 24, 24])\n",
      "pool1: torch.Size([64, 10, 12, 12])\n",
      "start: torch.Size([64, 1, 28, 28])\n",
      "conv1: torch.Size([64, 10, 24, 24])\n",
      "pool1: torch.Size([64, 10, 12, 12])\n",
      "start: torch.Size([64, 1, 28, 28])\n",
      "conv1: torch.Size([64, 10, 24, 24])\n",
      "pool1: torch.Size([64, 10, 12, 12])\n",
      "start: torch.Size([64, 1, 28, 28])\n",
      "conv1: torch.Size([64, 10, 24, 24])\n",
      "pool1: torch.Size([64, 10, 12, 12])\n",
      "start: torch.Size([64, 1, 28, 28])\n",
      "conv1: torch.Size([64, 10, 24, 24])\n",
      "pool1: torch.Size([64, 10, 12, 12])\n"
     ]
    },
    {
     "name": "stderr",
     "output_type": "stream",
     "text": [
      "Epoch 3:  63%|█████████████████████████▊               | 591/938 [00:17<00:09, 38.08batch/s, accuracy=96.9, loss=0.201]"
     ]
    },
    {
     "name": "stdout",
     "output_type": "stream",
     "text": [
      "start: torch.Size([64, 1, 28, 28])\n",
      "conv1: torch.Size([64, 10, 24, 24])\n",
      "pool1: torch.Size([64, 10, 12, 12])\n",
      "start: torch.Size([64, 1, 28, 28])\n",
      "conv1: torch.Size([64, 10, 24, 24])\n",
      "pool1: torch.Size([64, 10, 12, 12])\n",
      "start: torch.Size([64, 1, 28, 28])\n",
      "conv1: torch.Size([64, 10, 24, 24])\n",
      "pool1: torch.Size([64, 10, 12, 12])\n",
      "start: torch.Size([64, 1, 28, 28])\n",
      "conv1: torch.Size([64, 10, 24, 24])\n",
      "pool1: torch.Size([64, 10, 12, 12])\n",
      "start: torch.Size([64, 1, 28, 28])\n",
      "conv1: torch.Size([64, 10, 24, 24])\n",
      "pool1: torch.Size([64, 10, 12, 12])\n",
      "start: torch.Size([64, 1, 28, 28])\n",
      "conv1: torch.Size([64, 10, 24, 24])\n",
      "pool1: torch.Size([64, 10, 12, 12])\n",
      "start: torch.Size([64, 1, 28, 28])\n",
      "conv1: torch.Size([64, 10, 24, 24])\n",
      "pool1: torch.Size([64, 10, 12, 12])\n",
      "start: torch.Size([64, 1, 28, 28])\n",
      "conv1: torch.Size([64, 10, 24, 24])\n",
      "pool1: torch.Size([64, 10, 12, 12])\n"
     ]
    },
    {
     "name": "stderr",
     "output_type": "stream",
     "text": [
      "Epoch 3:  64%|█████████████████████████▌              | 599/938 [00:17<00:09, 37.32batch/s, accuracy=98.4, loss=0.0558]"
     ]
    },
    {
     "name": "stdout",
     "output_type": "stream",
     "text": [
      "start: torch.Size([64, 1, 28, 28])\n",
      "conv1: torch.Size([64, 10, 24, 24])\n",
      "pool1: torch.Size([64, 10, 12, 12])\n",
      "start: torch.Size([64, 1, 28, 28])\n",
      "conv1: torch.Size([64, 10, 24, 24])\n",
      "pool1: torch.Size([64, 10, 12, 12])\n",
      "start: torch.Size([64, 1, 28, 28])\n",
      "conv1: torch.Size([64, 10, 24, 24])\n",
      "pool1: torch.Size([64, 10, 12, 12])\n",
      "start: torch.Size([64, 1, 28, 28])\n",
      "conv1: torch.Size([64, 10, 24, 24])\n",
      "pool1: torch.Size([64, 10, 12, 12])\n",
      "start: torch.Size([64, 1, 28, 28])\n",
      "conv1: torch.Size([64, 10, 24, 24])\n",
      "pool1: torch.Size([64, 10, 12, 12])\n",
      "start: torch.Size([64, 1, 28, 28])\n",
      "conv1: torch.Size([64, 10, 24, 24])\n",
      "pool1: torch.Size([64, 10, 12, 12])\n",
      "start: torch.Size([64, 1, 28, 28])\n",
      "conv1: torch.Size([64, 10, 24, 24])\n",
      "pool1: torch.Size([64, 10, 12, 12])\n",
      "start: torch.Size([64, 1, 28, 28])\n"
     ]
    },
    {
     "name": "stderr",
     "output_type": "stream",
     "text": [
      "Epoch 3:  65%|█████████████████████████▉              | 607/938 [00:17<00:09, 36.66batch/s, accuracy=98.4, loss=0.0354]"
     ]
    },
    {
     "name": "stdout",
     "output_type": "stream",
     "text": [
      "conv1: torch.Size([64, 10, 24, 24])\n",
      "pool1: torch.Size([64, 10, 12, 12])\n",
      "start: torch.Size([64, 1, 28, 28])\n",
      "conv1: torch.Size([64, 10, 24, 24])\n",
      "pool1: torch.Size([64, 10, 12, 12])\n",
      "start: torch.Size([64, 1, 28, 28])\n",
      "conv1: torch.Size([64, 10, 24, 24])\n",
      "pool1: torch.Size([64, 10, 12, 12])\n",
      "start: torch.Size([64, 1, 28, 28])\n",
      "conv1: torch.Size([64, 10, 24, 24])\n",
      "pool1: torch.Size([64, 10, 12, 12])\n",
      "start: torch.Size([64, 1, 28, 28])\n",
      "conv1: torch.Size([64, 10, 24, 24])\n",
      "pool1: torch.Size([64, 10, 12, 12])\n",
      "start: torch.Size([64, 1, 28, 28])\n",
      "conv1: torch.Size([64, 10, 24, 24])\n",
      "pool1: torch.Size([64, 10, 12, 12])\n",
      "start: torch.Size([64, 1, 28, 28])\n",
      "conv1: torch.Size([64, 10, 24, 24])\n",
      "pool1: torch.Size([64, 10, 12, 12])\n",
      "start: torch.Size([64, 1, 28, 28])"
     ]
    },
    {
     "name": "stderr",
     "output_type": "stream",
     "text": [
      "Epoch 3:  65%|██████████████████████████▋              | 611/938 [00:18<00:08, 37.00batch/s, accuracy=95.3, loss=0.253]"
     ]
    },
    {
     "name": "stdout",
     "output_type": "stream",
     "text": [
      "\n",
      "conv1: torch.Size([64, 10, 24, 24])\n",
      "pool1: torch.Size([64, 10, 12, 12])\n",
      "start: torch.Size([64, 1, 28, 28])\n",
      "conv1: torch.Size([64, 10, 24, 24])\n",
      "pool1: torch.Size([64, 10, 12, 12])\n",
      "start: torch.Size([64, 1, 28, 28])\n",
      "conv1: torch.Size([64, 10, 24, 24])\n",
      "pool1: torch.Size([64, 10, 12, 12])\n",
      "start: torch.Size([64, 1, 28, 28])\n",
      "conv1: torch.Size([64, 10, 24, 24])\n",
      "pool1: torch.Size([64, 10, 12, 12])\n",
      "start: torch.Size([64, 1, 28, 28])\n",
      "conv1: torch.Size([64, 10, 24, 24])\n",
      "pool1: torch.Size([64, 10, 12, 12])\n",
      "start: torch.Size([64, 1, 28, 28])\n",
      "conv1: torch.Size([64, 10, 24, 24])\n",
      "pool1: torch.Size([64, 10, 12, 12])\n",
      "start: torch.Size([64, 1, 28, 28])\n",
      "conv1: torch.Size([64, 10, 24, 24])\n",
      "pool1: torch.Size([64, 10, 12, 12])\n"
     ]
    },
    {
     "name": "stderr",
     "output_type": "stream",
     "text": [
      "Epoch 3:  66%|███████████████████████████              | 619/938 [00:18<00:08, 36.29batch/s, accuracy=93.8, loss=0.137]"
     ]
    },
    {
     "name": "stdout",
     "output_type": "stream",
     "text": [
      "start: torch.Size([64, 1, 28, 28])\n",
      "conv1: torch.Size([64, 10, 24, 24])\n",
      "pool1: torch.Size([64, 10, 12, 12])\n",
      "start: torch.Size([64, 1, 28, 28])\n",
      "conv1: torch.Size([64, 10, 24, 24])\n",
      "pool1: torch.Size([64, 10, 12, 12])\n",
      "start: torch.Size([64, 1, 28, 28])\n",
      "conv1: torch.Size([64, 10, 24, 24])\n",
      "pool1: torch.Size([64, 10, 12, 12])\n",
      "start: torch.Size([64, 1, 28, 28])\n",
      "conv1: torch.Size([64, 10, 24, 24])\n",
      "pool1: torch.Size([64, 10, 12, 12])\n",
      "start: torch.Size([64, 1, 28, 28])\n",
      "conv1: torch.Size([64, 10, 24, 24])\n",
      "pool1: torch.Size([64, 10, 12, 12])\n",
      "start: torch.Size([64, 1, 28, 28])\n",
      "conv1: torch.Size([64, 10, 24, 24])\n",
      "pool1: torch.Size([64, 10, 12, 12])\n",
      "start: torch.Size([64, 1, 28, 28])\n",
      "conv1: torch.Size([64, 10, 24, 24])\n",
      "pool1: torch.Size([64, 10, 12, 12])\n",
      "start: torch.Size([64, 1, 28, 28])\n"
     ]
    },
    {
     "name": "stderr",
     "output_type": "stream",
     "text": [
      "Epoch 3:  67%|███████████████████████████▍             | 627/938 [00:18<00:08, 35.62batch/s, accuracy=93.8, loss=0.176]"
     ]
    },
    {
     "name": "stdout",
     "output_type": "stream",
     "text": [
      "conv1: torch.Size([64, 10, 24, 24])\n",
      "pool1: torch.Size([64, 10, 12, 12])\n",
      "start: torch.Size([64, 1, 28, 28])\n",
      "conv1: torch.Size([64, 10, 24, 24])\n",
      "pool1: torch.Size([64, 10, 12, 12])\n",
      "start: torch.Size([64, 1, 28, 28])\n",
      "conv1: torch.Size([64, 10, 24, 24])\n",
      "pool1: torch.Size([64, 10, 12, 12])\n",
      "start: torch.Size([64, 1, 28, 28])\n",
      "conv1: torch.Size([64, 10, 24, 24])\n",
      "pool1: torch.Size([64, 10, 12, 12])\n",
      "start: torch.Size([64, 1, 28, 28])\n",
      "conv1: torch.Size([64, 10, 24, 24])\n",
      "pool1: torch.Size([64, 10, 12, 12])\n",
      "start: torch.Size([64, 1, 28, 28])\n",
      "conv1: torch.Size([64, 10, 24, 24])\n",
      "pool1: torch.Size([64, 10, 12, 12])\n",
      "start: torch.Size([64, 1, 28, 28])\n",
      "conv1: torch.Size([64, 10, 24, 24])\n",
      "pool1: torch.Size([64, 10, 12, 12])\n"
     ]
    },
    {
     "name": "stderr",
     "output_type": "stream",
     "text": [
      "Epoch 3:  68%|███████████████████████████▊             | 635/938 [00:18<00:08, 35.82batch/s, accuracy=95.3, loss=0.144]"
     ]
    },
    {
     "name": "stdout",
     "output_type": "stream",
     "text": [
      "start: torch.Size([64, 1, 28, 28])\n",
      "conv1: torch.Size([64, 10, 24, 24])\n",
      "pool1: torch.Size([64, 10, 12, 12])\n",
      "start: torch.Size([64, 1, 28, 28])\n",
      "conv1: torch.Size([64, 10, 24, 24])\n",
      "pool1: torch.Size([64, 10, 12, 12])\n",
      "start: torch.Size([64, 1, 28, 28])\n",
      "conv1: torch.Size([64, 10, 24, 24])\n",
      "pool1: torch.Size([64, 10, 12, 12])\n",
      "start: torch.Size([64, 1, 28, 28])\n",
      "conv1: torch.Size([64, 10, 24, 24])\n",
      "pool1: torch.Size([64, 10, 12, 12])\n",
      "start: torch.Size([64, 1, 28, 28])\n",
      "conv1: torch.Size([64, 10, 24, 24])\n",
      "pool1: torch.Size([64, 10, 12, 12])\n",
      "start: torch.Size([64, 1, 28, 28])\n",
      "conv1: torch.Size([64, 10, 24, 24])\n",
      "pool1: torch.Size([64, 10, 12, 12])\n",
      "start: torch.Size([64, 1, 28, 28])\n",
      "conv1: torch.Size([64, 10, 24, 24])\n",
      "pool1: torch.Size([64, 10, 12, 12])\n",
      "start: torch.Size([64, 1, 28, 28])\n"
     ]
    },
    {
     "name": "stderr",
     "output_type": "stream",
     "text": [
      "Epoch 3:  69%|███████████████████████████▍            | 643/938 [00:18<00:08, 36.54batch/s, accuracy=96.9, loss=0.0668]"
     ]
    },
    {
     "name": "stdout",
     "output_type": "stream",
     "text": [
      "conv1: torch.Size([64, 10, 24, 24])\n",
      "pool1: torch.Size([64, 10, 12, 12])\n",
      "start: torch.Size([64, 1, 28, 28])\n",
      "conv1: torch.Size([64, 10, 24, 24])\n",
      "pool1: torch.Size([64, 10, 12, 12])\n",
      "start: torch.Size([64, 1, 28, 28])\n",
      "conv1: torch.Size([64, 10, 24, 24])\n",
      "pool1: torch.Size([64, 10, 12, 12])\n",
      "start: torch.Size([64, 1, 28, 28])\n",
      "conv1: torch.Size([64, 10, 24, 24])\n",
      "pool1: torch.Size([64, 10, 12, 12])\n",
      "start: torch.Size([64, 1, 28, 28])\n",
      "conv1: torch.Size([64, 10, 24, 24])\n",
      "pool1: torch.Size([64, 10, 12, 12])\n",
      "start: torch.Size([64, 1, 28, 28])\n",
      "conv1: torch.Size([64, 10, 24, 24])\n",
      "pool1: torch.Size([64, 10, 12, 12])\n",
      "start: torch.Size([64, 1, 28, 28])\n",
      "conv1: torch.Size([64, 10, 24, 24])\n",
      "pool1: torch.Size([64, 10, 12, 12])\n",
      "start: torch.Size([64, 1, 28, 28])\n"
     ]
    },
    {
     "name": "stderr",
     "output_type": "stream",
     "text": [
      "Epoch 3:  69%|████████████████████████████▎            | 647/938 [00:19<00:08, 35.45batch/s, accuracy=93.8, loss=0.155]"
     ]
    },
    {
     "name": "stdout",
     "output_type": "stream",
     "text": [
      "conv1: torch.Size([64, 10, 24, 24])\n",
      "pool1: torch.Size([64, 10, 12, 12])\n",
      "start: torch.Size([64, 1, 28, 28])\n",
      "conv1: torch.Size([64, 10, 24, 24])\n",
      "pool1: torch.Size([64, 10, 12, 12])\n",
      "start: torch.Size([64, 1, 28, 28])\n",
      "conv1: torch.Size([64, 10, 24, 24])\n",
      "pool1: torch.Size([64, 10, 12, 12])\n",
      "start: torch.Size([64, 1, 28, 28])\n",
      "conv1: torch.Size([64, 10, 24, 24])\n",
      "pool1: torch.Size([64, 10, 12, 12])\n",
      "start: torch.Size([64, 1, 28, 28])\n",
      "conv1: torch.Size([64, 10, 24, 24])\n",
      "pool1: torch.Size([64, 10, 12, 12])\n",
      "start: torch.Size([64, 1, 28, 28])\n",
      "conv1: torch.Size([64, 10, 24, 24])\n",
      "pool1: torch.Size([64, 10, 12, 12])\n",
      "start: torch.Size([64, 1, 28, 28])\n",
      "conv1: torch.Size([64, 10, 24, 24])\n",
      "pool1: torch.Size([64, 10, 12, 12])\n"
     ]
    },
    {
     "name": "stderr",
     "output_type": "stream",
     "text": [
      "Epoch 3:  70%|████████████████████████████▋            | 656/938 [00:19<00:07, 36.56batch/s, accuracy=90.6, loss=0.252]"
     ]
    },
    {
     "name": "stdout",
     "output_type": "stream",
     "text": [
      "start: torch.Size([64, 1, 28, 28])\n",
      "conv1: torch.Size([64, 10, 24, 24])\n",
      "pool1: torch.Size([64, 10, 12, 12])\n",
      "start: torch.Size([64, 1, 28, 28])\n",
      "conv1: torch.Size([64, 10, 24, 24])\n",
      "pool1: torch.Size([64, 10, 12, 12])\n",
      "start: torch.Size([64, 1, 28, 28])\n",
      "conv1: torch.Size([64, 10, 24, 24])\n",
      "pool1: torch.Size([64, 10, 12, 12])\n",
      "start: torch.Size([64, 1, 28, 28])\n",
      "conv1: torch.Size([64, 10, 24, 24])\n",
      "pool1: torch.Size([64, 10, 12, 12])\n",
      "start: torch.Size([64, 1, 28, 28])\n",
      "conv1: torch.Size([64, 10, 24, 24])\n",
      "pool1: torch.Size([64, 10, 12, 12])\n",
      "start: torch.Size([64, 1, 28, 28])\n",
      "conv1: torch.Size([64, 10, 24, 24])\n",
      "pool1: torch.Size([64, 10, 12, 12])\n",
      "start: torch.Size([64, 1, 28, 28])\n",
      "conv1: torch.Size([64, 10, 24, 24])\n",
      "pool1: torch.Size([64, 10, 12, 12])\n",
      "start: torch.Size([64, 1, 28, 28])\n"
     ]
    },
    {
     "name": "stderr",
     "output_type": "stream",
     "text": [
      "Epoch 3:  70%|████████████████████████████▏           | 660/938 [00:19<00:07, 35.08batch/s, accuracy=98.4, loss=0.0705]"
     ]
    },
    {
     "name": "stdout",
     "output_type": "stream",
     "text": [
      "conv1: torch.Size([64, 10, 24, 24])\n",
      "pool1: torch.Size([64, 10, 12, 12])\n",
      "start: torch.Size([64, 1, 28, 28])\n",
      "conv1: torch.Size([64, 10, 24, 24])\n",
      "pool1: torch.Size([64, 10, 12, 12])\n",
      "start: torch.Size([64, 1, 28, 28])\n",
      "conv1: torch.Size([64, 10, 24, 24])\n",
      "pool1: torch.Size([64, 10, 12, 12])\n",
      "start: torch.Size([64, 1, 28, 28])\n",
      "conv1: torch.Size([64, 10, 24, 24])\n",
      "pool1: torch.Size([64, 10, 12, 12])\n",
      "start: torch.Size([64, 1, 28, 28])\n",
      "conv1: torch.Size([64, 10, 24, 24])\n",
      "pool1: torch.Size([64, 10, 12, 12])\n",
      "start: torch.Size([64, 1, 28, 28])\n",
      "conv1: torch.Size([64, 10, 24, 24])\n",
      "pool1: torch.Size([64, 10, 12, 12])\n",
      "start: torch.Size([64, 1, 28, 28])\n"
     ]
    },
    {
     "name": "stderr",
     "output_type": "stream",
     "text": [
      "Epoch 3:  71%|█████████████████████████████▏           | 668/938 [00:19<00:07, 34.29batch/s, accuracy=93.8, loss=0.109]"
     ]
    },
    {
     "name": "stdout",
     "output_type": "stream",
     "text": [
      "conv1: torch.Size([64, 10, 24, 24])\n",
      "pool1: torch.Size([64, 10, 12, 12])\n",
      "start: torch.Size([64, 1, 28, 28])\n",
      "conv1: torch.Size([64, 10, 24, 24])\n",
      "pool1: torch.Size([64, 10, 12, 12])\n",
      "start: torch.Size([64, 1, 28, 28])\n",
      "conv1: torch.Size([64, 10, 24, 24])\n",
      "pool1: torch.Size([64, 10, 12, 12])\n",
      "start: torch.Size([64, 1, 28, 28])\n",
      "conv1: torch.Size([64, 10, 24, 24])\n",
      "pool1: torch.Size([64, 10, 12, 12])\n",
      "start: torch.Size([64, 1, 28, 28])\n",
      "conv1: torch.Size([64, 10, 24, 24])\n",
      "pool1: torch.Size([64, 10, 12, 12])\n",
      "start: torch.Size([64, 1, 28, 28])\n",
      "conv1: torch.Size([64, 10, 24, 24])\n",
      "pool1: torch.Size([64, 10, 12, 12])\n",
      "start: torch.Size([64, 1, 28, 28])\n",
      "conv1: torch.Size([64, 10, 24, 24])\n",
      "pool1: torch.Size([64, 10, 12, 12])\n"
     ]
    },
    {
     "name": "stderr",
     "output_type": "stream",
     "text": [
      "Epoch 3:  72%|█████████████████████████████▌           | 677/938 [00:19<00:07, 36.72batch/s, accuracy=96.9, loss=0.358]"
     ]
    },
    {
     "name": "stdout",
     "output_type": "stream",
     "text": [
      "start: torch.Size([64, 1, 28, 28])\n",
      "conv1: torch.Size([64, 10, 24, 24])\n",
      "pool1: torch.Size([64, 10, 12, 12])\n",
      "start: torch.Size([64, 1, 28, 28])\n",
      "conv1: torch.Size([64, 10, 24, 24])\n",
      "pool1: torch.Size([64, 10, 12, 12])\n",
      "start: torch.Size([64, 1, 28, 28])\n",
      "conv1: torch.Size([64, 10, 24, 24])\n",
      "pool1: torch.Size([64, 10, 12, 12])\n",
      "start: torch.Size([64, 1, 28, 28])\n",
      "conv1: torch.Size([64, 10, 24, 24])\n",
      "pool1: torch.Size([64, 10, 12, 12])\n",
      "start: torch.Size([64, 1, 28, 28])\n",
      "conv1: torch.Size([64, 10, 24, 24])\n",
      "pool1: torch.Size([64, 10, 12, 12])\n",
      "start: torch.Size([64, 1, 28, 28])\n",
      "conv1: torch.Size([64, 10, 24, 24])\n",
      "pool1: torch.Size([64, 10, 12, 12])\n",
      "start: torch.Size([64, 1, 28, 28])\n",
      "conv1: torch.Size([64, 10, 24, 24])\n",
      "pool1: torch.Size([64, 10, 12, 12])\n",
      "start: torch.Size([64, 1, 28, 28])\n",
      "conv1: torch.Size([64, 10, 24, 24])\n",
      "pool1: torch.Size([64, 10, 12, 12])\n",
      "start: torch.Size([64, 1, 28, 28])\n"
     ]
    },
    {
     "name": "stderr",
     "output_type": "stream",
     "text": [
      "Epoch 3:  73%|█████████████████████████████▉           | 685/938 [00:20<00:06, 37.31batch/s, accuracy=92.2, loss=0.219]"
     ]
    },
    {
     "name": "stdout",
     "output_type": "stream",
     "text": [
      "conv1: torch.Size([64, 10, 24, 24])\n",
      "pool1: torch.Size([64, 10, 12, 12])\n",
      "start: torch.Size([64, 1, 28, 28])\n",
      "conv1: torch.Size([64, 10, 24, 24])\n",
      "pool1: torch.Size([64, 10, 12, 12])\n",
      "start: torch.Size([64, 1, 28, 28])\n",
      "conv1: torch.Size([64, 10, 24, 24])\n",
      "pool1: torch.Size([64, 10, 12, 12])\n",
      "start: torch.Size([64, 1, 28, 28])\n",
      "conv1: torch.Size([64, 10, 24, 24])\n",
      "pool1: torch.Size([64, 10, 12, 12])\n",
      "start: torch.Size([64, 1, 28, 28])\n",
      "conv1: torch.Size([64, 10, 24, 24])\n",
      "pool1: torch.Size([64, 10, 12, 12])\n",
      "start: torch.Size([64, 1, 28, 28])\n",
      "conv1: torch.Size([64, 10, 24, 24])\n",
      "pool1: torch.Size([64, 10, 12, 12])\n",
      "start: torch.Size([64, 1, 28, 28])\n",
      "conv1: torch.Size([64, 10, 24, 24])\n",
      "pool1: torch.Size([64, 10, 12, 12])\n",
      "start: torch.Size([64, 1, 28, 28])\n"
     ]
    },
    {
     "name": "stderr",
     "output_type": "stream",
     "text": [
      "Epoch 3:  73%|██████████████████████████████           | 689/938 [00:20<00:06, 37.67batch/s, accuracy=95.3, loss=0.125]"
     ]
    },
    {
     "name": "stdout",
     "output_type": "stream",
     "text": [
      "conv1: torch.Size([64, 10, 24, 24])\n",
      "pool1: torch.Size([64, 10, 12, 12])\n",
      "start: torch.Size([64, 1, 28, 28])\n",
      "conv1: torch.Size([64, 10, 24, 24])\n",
      "pool1: torch.Size([64, 10, 12, 12])\n",
      "start: torch.Size([64, 1, 28, 28])\n",
      "conv1: torch.Size([64, 10, 24, 24])\n",
      "pool1: torch.Size([64, 10, 12, 12])\n",
      "start: torch.Size([64, 1, 28, 28])\n",
      "conv1: torch.Size([64, 10, 24, 24])\n",
      "pool1: torch.Size([64, 10, 12, 12])\n",
      "start: torch.Size([64, 1, 28, 28])\n",
      "conv1: torch.Size([64, 10, 24, 24])\n",
      "pool1: torch.Size([64, 10, 12, 12])\n",
      "start: torch.Size([64, 1, 28, 28])\n",
      "conv1: torch.Size([64, 10, 24, 24])\n",
      "pool1: torch.Size([64, 10, 12, 12])\n",
      "start: torch.Size([64, 1, 28, 28])\n",
      "conv1: torch.Size([64, 10, 24, 24])\n",
      "pool1: torch.Size([64, 10, 12, 12])\n",
      "start: torch.Size([64, 1, 28, 28])\n"
     ]
    },
    {
     "name": "stderr",
     "output_type": "stream",
     "text": [
      "Epoch 3:  74%|█████████████████████████████▊          | 698/938 [00:20<00:06, 38.67batch/s, accuracy=96.9, loss=0.0503]"
     ]
    },
    {
     "name": "stdout",
     "output_type": "stream",
     "text": [
      "conv1: torch.Size([64, 10, 24, 24])\n",
      "pool1: torch.Size([64, 10, 12, 12])\n",
      "start: torch.Size([64, 1, 28, 28])\n",
      "conv1: torch.Size([64, 10, 24, 24])\n",
      "pool1: torch.Size([64, 10, 12, 12])\n",
      "start: torch.Size([64, 1, 28, 28])\n",
      "conv1: torch.Size([64, 10, 24, 24])\n",
      "pool1: torch.Size([64, 10, 12, 12])\n",
      "start: torch.Size([64, 1, 28, 28])\n",
      "conv1: torch.Size([64, 10, 24, 24])\n",
      "pool1: torch.Size([64, 10, 12, 12])\n",
      "start: torch.Size([64, 1, 28, 28])\n",
      "conv1: torch.Size([64, 10, 24, 24])\n",
      "pool1: torch.Size([64, 10, 12, 12])\n",
      "start: torch.Size([64, 1, 28, 28])\n",
      "conv1: torch.Size([64, 10, 24, 24])\n",
      "pool1: torch.Size([64, 10, 12, 12])\n",
      "start: torch.Size([64, 1, 28, 28])\n",
      "conv1: torch.Size([64, 10, 24, 24])\n",
      "pool1: torch.Size([64, 10, 12, 12])\n",
      "start: torch.Size([64, 1, 28, 28])\n",
      "conv1: torch.Size([64, 10, 24, 24])\n",
      "pool1: torch.Size([64, 10, 12, 12])\n"
     ]
    },
    {
     "name": "stderr",
     "output_type": "stream",
     "text": [
      "Epoch 3:  75%|██████████████████████████████▊          | 706/938 [00:20<00:06, 36.10batch/s, accuracy=96.9, loss=0.115]"
     ]
    },
    {
     "name": "stdout",
     "output_type": "stream",
     "text": [
      "start: torch.Size([64, 1, 28, 28])\n",
      "conv1: torch.Size([64, 10, 24, 24])\n",
      "pool1: torch.Size([64, 10, 12, 12])\n",
      "start: torch.Size([64, 1, 28, 28])\n",
      "conv1: torch.Size([64, 10, 24, 24])\n",
      "pool1: torch.Size([64, 10, 12, 12])\n",
      "start: torch.Size([64, 1, 28, 28])\n",
      "conv1: torch.Size([64, 10, 24, 24])\n",
      "pool1: torch.Size([64, 10, 12, 12])\n",
      "start: torch.Size([64, 1, 28, 28])\n",
      "conv1: torch.Size([64, 10, 24, 24])\n",
      "pool1: torch.Size([64, 10, 12, 12])\n",
      "start: torch.Size([64, 1, 28, 28])\n",
      "conv1: torch.Size([64, 10, 24, 24])\n",
      "pool1: torch.Size([64, 10, 12, 12])\n",
      "start: torch.Size([64, 1, 28, 28])\n",
      "conv1: torch.Size([64, 10, 24, 24])\n",
      "pool1: torch.Size([64, 10, 12, 12])\n",
      "start: torch.Size([64, 1, 28, 28])\n"
     ]
    },
    {
     "name": "stderr",
     "output_type": "stream",
     "text": [
      "Epoch 3:  76%|███████████████████████████████          | 710/938 [00:20<00:06, 35.45batch/s, accuracy=93.8, loss=0.216]"
     ]
    },
    {
     "name": "stdout",
     "output_type": "stream",
     "text": [
      "conv1: torch.Size([64, 10, 24, 24])\n",
      "pool1: torch.Size([64, 10, 12, 12])\n",
      "start: torch.Size([64, 1, 28, 28])\n",
      "conv1: torch.Size([64, 10, 24, 24])\n",
      "pool1: torch.Size([64, 10, 12, 12])\n",
      "start: torch.Size([64, 1, 28, 28])\n",
      "conv1: torch.Size([64, 10, 24, 24])\n",
      "pool1: torch.Size([64, 10, 12, 12])\n",
      "start: torch.Size([64, 1, 28, 28])\n",
      "conv1: torch.Size([64, 10, 24, 24])\n",
      "pool1: torch.Size([64, 10, 12, 12])\n",
      "start: torch.Size([64, 1, 28, 28])\n",
      "conv1: torch.Size([64, 10, 24, 24])\n",
      "pool1: torch.Size([64, 10, 12, 12])\n",
      "start: torch.Size([64, 1, 28, 28])\n",
      "conv1: torch.Size([64, 10, 24, 24])\n",
      "pool1: torch.Size([64, 10, 12, 12])\n",
      "start: torch.Size([64, 1, 28, 28])\n",
      "conv1: torch.Size([64, 10, 24, 24])\n",
      "pool1: torch.Size([64, 10, 12, 12])\n",
      "start: torch.Size([64, 1, 28, 28])\n"
     ]
    },
    {
     "name": "stderr",
     "output_type": "stream",
     "text": [
      "Epoch 3:  77%|███████████████████████████████▍         | 718/938 [00:20<00:06, 34.94batch/s, accuracy=93.8, loss=0.328]"
     ]
    },
    {
     "name": "stdout",
     "output_type": "stream",
     "text": [
      "conv1: torch.Size([64, 10, 24, 24])\n",
      "pool1: torch.Size([64, 10, 12, 12])\n",
      "start: torch.Size([64, 1, 28, 28])\n",
      "conv1: torch.Size([64, 10, 24, 24])\n",
      "pool1: torch.Size([64, 10, 12, 12])\n",
      "start: torch.Size([64, 1, 28, 28])\n",
      "conv1: torch.Size([64, 10, 24, 24])\n",
      "pool1: torch.Size([64, 10, 12, 12])\n",
      "start: torch.Size([64, 1, 28, 28])\n",
      "conv1: torch.Size([64, 10, 24, 24])\n",
      "pool1: torch.Size([64, 10, 12, 12])\n",
      "start: torch.Size([64, 1, 28, 28])\n",
      "conv1: torch.Size([64, 10, 24, 24])\n",
      "pool1: torch.Size([64, 10, 12, 12])\n",
      "start: torch.Size([64, 1, 28, 28])\n",
      "conv1: torch.Size([64, 10, 24, 24])\n",
      "pool1: torch.Size([64, 10, 12, 12])\n",
      "start: torch.Size([64, 1, 28, 28])\n",
      "conv1: torch.Size([64, 10, 24, 24])\n",
      "pool1: torch.Size([64, 10, 12, 12])\n",
      "start: torch.Size([64, 1, 28, 28])\n"
     ]
    },
    {
     "name": "stderr",
     "output_type": "stream",
     "text": [
      "Epoch 3:  77%|███████████████████████████████▋         | 726/938 [00:21<00:05, 36.04batch/s, accuracy=93.8, loss=0.128]"
     ]
    },
    {
     "name": "stdout",
     "output_type": "stream",
     "text": [
      "conv1: torch.Size([64, 10, 24, 24])\n",
      "pool1: torch.Size([64, 10, 12, 12])\n",
      "start: torch.Size([64, 1, 28, 28])\n",
      "conv1: torch.Size([64, 10, 24, 24])\n",
      "pool1: torch.Size([64, 10, 12, 12])\n",
      "start: torch.Size([64, 1, 28, 28])\n",
      "conv1: torch.Size([64, 10, 24, 24])\n",
      "pool1: torch.Size([64, 10, 12, 12])\n",
      "start: torch.Size([64, 1, 28, 28])\n",
      "conv1: torch.Size([64, 10, 24, 24])\n",
      "pool1: torch.Size([64, 10, 12, 12])\n",
      "start: torch.Size([64, 1, 28, 28])\n",
      "conv1: torch.Size([64, 10, 24, 24])\n",
      "pool1: torch.Size([64, 10, 12, 12])\n",
      "start: torch.Size([64, 1, 28, 28])\n",
      "conv1: torch.Size([64, 10, 24, 24])\n",
      "pool1: torch.Size([64, 10, 12, 12])\n",
      "start: torch.Size([64, 1, 28, 28])\n",
      "conv1: torch.Size([64, 10, 24, 24])\n",
      "pool1: torch.Size([64, 10, 12, 12])\n",
      "start: torch.Size([64, 1, 28, 28])\n",
      "conv1: torch.Size([64, 10, 24, 24])\n",
      "pool1: torch.Size([64, 10, 12, 12])\n"
     ]
    },
    {
     "name": "stderr",
     "output_type": "stream",
     "text": [
      "Epoch 3:  78%|████████████████████████████████▏        | 735/938 [00:21<00:05, 37.90batch/s, accuracy=93.8, loss=0.195]"
     ]
    },
    {
     "name": "stdout",
     "output_type": "stream",
     "text": [
      "start: torch.Size([64, 1, 28, 28])\n",
      "conv1: torch.Size([64, 10, 24, 24])\n",
      "pool1: torch.Size([64, 10, 12, 12])\n",
      "start: torch.Size([64, 1, 28, 28])\n",
      "conv1: torch.Size([64, 10, 24, 24])\n",
      "pool1: torch.Size([64, 10, 12, 12])\n",
      "start: torch.Size([64, 1, 28, 28])\n",
      "conv1: torch.Size([64, 10, 24, 24])\n",
      "pool1: torch.Size([64, 10, 12, 12])\n",
      "start: torch.Size([64, 1, 28, 28])\n",
      "conv1: torch.Size([64, 10, 24, 24])\n",
      "pool1: torch.Size([64, 10, 12, 12])\n",
      "start: torch.Size([64, 1, 28, 28])\n",
      "conv1: torch.Size([64, 10, 24, 24])\n",
      "pool1: torch.Size([64, 10, 12, 12])\n",
      "start: torch.Size([64, 1, 28, 28])\n",
      "conv1: torch.Size([64, 10, 24, 24])\n",
      "pool1: torch.Size([64, 10, 12, 12])\n",
      "start: torch.Size([64, 1, 28, 28])\n",
      "conv1: torch.Size([64, 10, 24, 24])\n",
      "pool1: torch.Size([64, 10, 12, 12])\n",
      "start: torch.Size([64, 1, 28, 28])\n",
      "conv1: torch.Size([64, 10, 24, 24])\n",
      "pool1: torch.Size([64, 10, 12, 12])\n"
     ]
    },
    {
     "name": "stderr",
     "output_type": "stream",
     "text": [
      "Epoch 3:  79%|████████████████████████████████▎        | 739/938 [00:21<00:05, 37.18batch/s, accuracy=96.9, loss=0.137]"
     ]
    },
    {
     "name": "stdout",
     "output_type": "stream",
     "text": [
      "start: torch.Size([64, 1, 28, 28])\n",
      "conv1: torch.Size([64, 10, 24, 24])\n",
      "pool1: torch.Size([64, 10, 12, 12])\n",
      "start: torch.Size([64, 1, 28, 28])\n",
      "conv1: torch.Size([64, 10, 24, 24])\n",
      "pool1: torch.Size([64, 10, 12, 12])\n",
      "start: torch.Size([64, 1, 28, 28])\n",
      "conv1: torch.Size([64, 10, 24, 24])\n",
      "pool1: torch.Size([64, 10, 12, 12])\n",
      "start: torch.Size([64, 1, 28, 28])\n",
      "conv1: torch.Size([64, 10, 24, 24])\n",
      "pool1: torch.Size([64, 10, 12, 12])\n",
      "start: torch.Size([64, 1, 28, 28])\n",
      "conv1: torch.Size([64, 10, 24, 24])\n",
      "pool1: torch.Size([64, 10, 12, 12])\n",
      "start: torch.Size([64, 1, 28, 28])\n",
      "conv1: torch.Size([64, 10, 24, 24])\n",
      "pool1: torch.Size([64, 10, 12, 12])\n",
      "start: torch.Size([64, 1, 28, 28])\n",
      "conv1: torch.Size([64, 10, 24, 24])\n",
      "pool1: torch.Size([64, 10, 12, 12])\n"
     ]
    },
    {
     "name": "stderr",
     "output_type": "stream",
     "text": [
      "Epoch 3:  80%|████████████████████████████████▋        | 747/938 [00:21<00:05, 36.33batch/s, accuracy=95.3, loss=0.124]"
     ]
    },
    {
     "name": "stdout",
     "output_type": "stream",
     "text": [
      "start: torch.Size([64, 1, 28, 28])\n",
      "conv1: torch.Size([64, 10, 24, 24])\n",
      "pool1: torch.Size([64, 10, 12, 12])\n",
      "start: torch.Size([64, 1, 28, 28])\n",
      "conv1: torch.Size([64, 10, 24, 24])\n",
      "pool1: torch.Size([64, 10, 12, 12])\n",
      "start: torch.Size([64, 1, 28, 28])\n",
      "conv1: torch.Size([64, 10, 24, 24])\n",
      "pool1: torch.Size([64, 10, 12, 12])\n",
      "start: torch.Size([64, 1, 28, 28])\n",
      "conv1: torch.Size([64, 10, 24, 24])\n",
      "pool1: torch.Size([64, 10, 12, 12])\n",
      "start: torch.Size([64, 1, 28, 28])\n",
      "conv1: torch.Size([64, 10, 24, 24])\n",
      "pool1: torch.Size([64, 10, 12, 12])\n",
      "start: torch.Size([64, 1, 28, 28])\n",
      "conv1: torch.Size([64, 10, 24, 24])\n",
      "pool1: torch.Size([64, 10, 12, 12])\n",
      "start: torch.Size([64, 1, 28, 28])\n",
      "conv1: torch.Size([64, 10, 24, 24])\n",
      "pool1: torch.Size([64, 10, 12, 12])\n"
     ]
    },
    {
     "name": "stderr",
     "output_type": "stream",
     "text": [
      "Epoch 3:  80%|█████████████████████████████████        | 755/938 [00:21<00:04, 37.29batch/s, accuracy=95.3, loss=0.128]"
     ]
    },
    {
     "name": "stdout",
     "output_type": "stream",
     "text": [
      "start: torch.Size([64, 1, 28, 28])\n",
      "conv1: torch.Size([64, 10, 24, 24])\n",
      "pool1: torch.Size([64, 10, 12, 12])\n",
      "start: torch.Size([64, 1, 28, 28])\n",
      "conv1: torch.Size([64, 10, 24, 24])\n",
      "pool1: torch.Size([64, 10, 12, 12])\n",
      "start: torch.Size([64, 1, 28, 28])\n",
      "conv1: torch.Size([64, 10, 24, 24])\n",
      "pool1: torch.Size([64, 10, 12, 12])\n",
      "start: torch.Size([64, 1, 28, 28])\n",
      "conv1: torch.Size([64, 10, 24, 24])\n",
      "pool1: torch.Size([64, 10, 12, 12])\n",
      "start: torch.Size([64, 1, 28, 28])\n",
      "conv1: torch.Size([64, 10, 24, 24])\n",
      "pool1: torch.Size([64, 10, 12, 12])\n",
      "start: torch.Size([64, 1, 28, 28])\n",
      "conv1: torch.Size([64, 10, 24, 24])\n",
      "pool1: torch.Size([64, 10, 12, 12])\n",
      "start: torch.Size([64, 1, 28, 28])\n",
      "conv1: torch.Size([64, 10, 24, 24])\n",
      "pool1: torch.Size([64, 10, 12, 12])\n",
      "start: torch.Size([64, 1, 28, 28])\n"
     ]
    },
    {
     "name": "stderr",
     "output_type": "stream",
     "text": [
      "Epoch 3:  81%|█████████████████████████████████▎       | 763/938 [00:22<00:04, 35.32batch/s, accuracy=92.2, loss=0.249]"
     ]
    },
    {
     "name": "stdout",
     "output_type": "stream",
     "text": [
      "conv1: torch.Size([64, 10, 24, 24])\n",
      "pool1: torch.Size([64, 10, 12, 12])\n",
      "start: torch.Size([64, 1, 28, 28])\n",
      "conv1: torch.Size([64, 10, 24, 24])\n",
      "pool1: torch.Size([64, 10, 12, 12])\n",
      "start: torch.Size([64, 1, 28, 28])\n",
      "conv1: torch.Size([64, 10, 24, 24])\n",
      "pool1: torch.Size([64, 10, 12, 12])\n",
      "start: torch.Size([64, 1, 28, 28])\n",
      "conv1: torch.Size([64, 10, 24, 24])\n",
      "pool1: torch.Size([64, 10, 12, 12])\n",
      "start: torch.Size([64, 1, 28, 28])\n",
      "conv1: torch.Size([64, 10, 24, 24])\n",
      "pool1: torch.Size([64, 10, 12, 12])\n",
      "start: torch.Size([64, 1, 28, 28])\n",
      "conv1: torch.Size([64, 10, 24, 24])\n",
      "pool1: torch.Size([64, 10, 12, 12])\n",
      "start: torch.Size([64, 1, 28, 28])\n",
      "conv1: torch.Size([64, 10, 24, 24])\n",
      "pool1: torch.Size([64, 10, 12, 12])\n"
     ]
    },
    {
     "name": "stderr",
     "output_type": "stream",
     "text": [
      "Epoch 3:  82%|█████████████████████████████████▋       | 771/938 [00:22<00:04, 36.02batch/s, accuracy=92.2, loss=0.382]"
     ]
    },
    {
     "name": "stdout",
     "output_type": "stream",
     "text": [
      "start: torch.Size([64, 1, 28, 28])\n",
      "conv1: torch.Size([64, 10, 24, 24])\n",
      "pool1: torch.Size([64, 10, 12, 12])\n",
      "start: torch.Size([64, 1, 28, 28])\n",
      "conv1: torch.Size([64, 10, 24, 24])\n",
      "pool1: torch.Size([64, 10, 12, 12])\n",
      "start: torch.Size([64, 1, 28, 28])\n",
      "conv1: torch.Size([64, 10, 24, 24])\n",
      "pool1: torch.Size([64, 10, 12, 12])\n",
      "start: torch.Size([64, 1, 28, 28])\n",
      "conv1: torch.Size([64, 10, 24, 24])\n",
      "pool1: torch.Size([64, 10, 12, 12])\n",
      "start: torch.Size([64, 1, 28, 28])\n",
      "conv1: torch.Size([64, 10, 24, 24])\n",
      "pool1: torch.Size([64, 10, 12, 12])\n",
      "start: torch.Size([64, 1, 28, 28])\n",
      "conv1: torch.Size([64, 10, 24, 24])\n",
      "pool1: torch.Size([64, 10, 12, 12])\n",
      "start: torch.Size([64, 1, 28, 28])\n",
      "conv1: torch.Size([64, 10, 24, 24])\n",
      "pool1: torch.Size([64, 10, 12, 12])\n"
     ]
    },
    {
     "name": "stderr",
     "output_type": "stream",
     "text": [
      "Epoch 3:  83%|█████████████████████████████████▉       | 775/938 [00:22<00:04, 36.55batch/s, accuracy=95.3, loss=0.135]"
     ]
    },
    {
     "name": "stdout",
     "output_type": "stream",
     "text": [
      "start: torch.Size([64, 1, 28, 28])\n",
      "conv1: torch.Size([64, 10, 24, 24])\n",
      "pool1: torch.Size([64, 10, 12, 12])\n",
      "start: torch.Size([64, 1, 28, 28])\n",
      "conv1: torch.Size([64, 10, 24, 24])\n",
      "pool1: torch.Size([64, 10, 12, 12])\n",
      "start: torch.Size([64, 1, 28, 28])\n",
      "conv1: torch.Size([64, 10, 24, 24])\n",
      "pool1: torch.Size([64, 10, 12, 12])\n",
      "start: torch.Size([64, 1, 28, 28])\n",
      "conv1: torch.Size([64, 10, 24, 24])\n",
      "pool1: torch.Size([64, 10, 12, 12])\n",
      "start: torch.Size([64, 1, 28, 28])\n",
      "conv1: torch.Size([64, 10, 24, 24])\n",
      "pool1: torch.Size([64, 10, 12, 12])\n",
      "start: torch.Size([64, 1, 28, 28])\n",
      "conv1: torch.Size([64, 10, 24, 24])\n",
      "pool1: torch.Size([64, 10, 12, 12])\n",
      "start: torch.Size([64, 1, 28, 28])\n",
      "conv1: torch.Size([64, 10, 24, 24])\n",
      "pool1: torch.Size([64, 10, 12, 12])\n",
      "start: torch.Size([64, 1, 28, 28])\n"
     ]
    },
    {
     "name": "stderr",
     "output_type": "stream",
     "text": [
      "Epoch 3:  83%|██████████████████████████████████▏      | 783/938 [00:22<00:04, 35.24batch/s, accuracy=92.2, loss=0.209]"
     ]
    },
    {
     "name": "stdout",
     "output_type": "stream",
     "text": [
      "conv1: torch.Size([64, 10, 24, 24])\n",
      "pool1: torch.Size([64, 10, 12, 12])\n",
      "start: torch.Size([64, 1, 28, 28])\n",
      "conv1: torch.Size([64, 10, 24, 24])\n",
      "pool1: torch.Size([64, 10, 12, 12])\n",
      "start: torch.Size([64, 1, 28, 28])\n",
      "conv1: torch.Size([64, 10, 24, 24])\n",
      "pool1: torch.Size([64, 10, 12, 12])\n",
      "start: torch.Size([64, 1, 28, 28])\n",
      "conv1: torch.Size([64, 10, 24, 24])\n",
      "pool1: torch.Size([64, 10, 12, 12])\n",
      "start: torch.Size([64, 1, 28, 28])\n",
      "conv1: torch.Size([64, 10, 24, 24])\n",
      "pool1: torch.Size([64, 10, 12, 12])\n",
      "start: torch.Size([64, 1, 28, 28])\n",
      "conv1: torch.Size([64, 10, 24, 24])\n",
      "pool1: torch.Size([64, 10, 12, 12])\n",
      "start: torch.Size([64, 1, 28, 28])\n",
      "conv1: torch.Size([64, 10, 24, 24])\n",
      "pool1: torch.Size([64, 10, 12, 12])\n",
      "start: torch.Size([64, 1, 28, 28])\n"
     ]
    },
    {
     "name": "stderr",
     "output_type": "stream",
     "text": [
      "Epoch 3:  84%|██████████████████████████████████▌      | 791/938 [00:22<00:04, 35.60batch/s, accuracy=98.4, loss=0.119]"
     ]
    },
    {
     "name": "stdout",
     "output_type": "stream",
     "text": [
      "conv1: torch.Size([64, 10, 24, 24])\n",
      "pool1: torch.Size([64, 10, 12, 12])\n",
      "start: torch.Size([64, 1, 28, 28])\n",
      "conv1: torch.Size([64, 10, 24, 24])\n",
      "pool1: torch.Size([64, 10, 12, 12])\n",
      "start: torch.Size([64, 1, 28, 28])\n",
      "conv1: torch.Size([64, 10, 24, 24])\n",
      "pool1: torch.Size([64, 10, 12, 12])\n",
      "start: torch.Size([64, 1, 28, 28])\n",
      "conv1: torch.Size([64, 10, 24, 24])\n",
      "pool1: torch.Size([64, 10, 12, 12])\n",
      "start: torch.Size([64, 1, 28, 28])\n",
      "conv1: torch.Size([64, 10, 24, 24])\n",
      "pool1: torch.Size([64, 10, 12, 12])\n",
      "start: torch.Size([64, 1, 28, 28])\n",
      "conv1: torch.Size([64, 10, 24, 24])\n",
      "pool1: torch.Size([64, 10, 12, 12])\n",
      "start: torch.Size([64, 1, 28, 28])\n",
      "conv1: torch.Size([64, 10, 24, 24])\n",
      "pool1: torch.Size([64, 10, 12, 12])\n"
     ]
    },
    {
     "name": "stderr",
     "output_type": "stream",
     "text": [
      "Epoch 3:  85%|██████████████████████████████████▉      | 799/938 [00:23<00:03, 35.92batch/s, accuracy=95.3, loss=0.191]"
     ]
    },
    {
     "name": "stdout",
     "output_type": "stream",
     "text": [
      "start: torch.Size([64, 1, 28, 28])\n",
      "conv1: torch.Size([64, 10, 24, 24])\n",
      "pool1: torch.Size([64, 10, 12, 12])\n",
      "start: torch.Size([64, 1, 28, 28])\n",
      "conv1: torch.Size([64, 10, 24, 24])\n",
      "pool1: torch.Size([64, 10, 12, 12])\n",
      "start: torch.Size([64, 1, 28, 28])\n",
      "conv1: torch.Size([64, 10, 24, 24])\n",
      "pool1: torch.Size([64, 10, 12, 12])\n",
      "start: torch.Size([64, 1, 28, 28])\n",
      "conv1: torch.Size([64, 10, 24, 24])\n",
      "pool1: torch.Size([64, 10, 12, 12])\n",
      "start: torch.Size([64, 1, 28, 28])\n",
      "conv1: torch.Size([64, 10, 24, 24])\n",
      "pool1: torch.Size([64, 10, 12, 12])\n",
      "start: torch.Size([64, 1, 28, 28])\n",
      "conv1: torch.Size([64, 10, 24, 24])\n",
      "pool1: torch.Size([64, 10, 12, 12])\n",
      "start: torch.Size([64, 1, 28, 28])\n",
      "conv1: torch.Size([64, 10, 24, 24])\n",
      "pool1: torch.Size([64, 10, 12, 12])\n"
     ]
    },
    {
     "name": "stderr",
     "output_type": "stream",
     "text": [
      "Epoch 3:  86%|██████████████████████████████████▏     | 803/938 [00:23<00:03, 35.98batch/s, accuracy=98.4, loss=0.0703]"
     ]
    },
    {
     "name": "stdout",
     "output_type": "stream",
     "text": [
      "start: torch.Size([64, 1, 28, 28])\n",
      "conv1: torch.Size([64, 10, 24, 24])\n",
      "pool1: torch.Size([64, 10, 12, 12])\n",
      "start: torch.Size([64, 1, 28, 28])\n",
      "conv1: torch.Size([64, 10, 24, 24])\n",
      "pool1: torch.Size([64, 10, 12, 12])\n",
      "start: torch.Size([64, 1, 28, 28])\n",
      "conv1: torch.Size([64, 10, 24, 24])\n",
      "pool1: torch.Size([64, 10, 12, 12])\n",
      "start: torch.Size([64, 1, 28, 28])\n",
      "conv1: torch.Size([64, 10, 24, 24])\n",
      "pool1: torch.Size([64, 10, 12, 12])\n",
      "start: torch.Size([64, 1, 28, 28])\n",
      "conv1: torch.Size([64, 10, 24, 24])\n",
      "pool1: torch.Size([64, 10, 12, 12])\n",
      "start: torch.Size([64, 1, 28, 28])\n",
      "conv1: torch.Size([64, 10, 24, 24])\n",
      "pool1: torch.Size([64, 10, 12, 12])\n",
      "start: torch.Size([64, 1, 28, 28])\n",
      "conv1: torch.Size([64, 10, 24, 24])\n",
      "pool1: torch.Size([64, 10, 12, 12])\n"
     ]
    },
    {
     "name": "stderr",
     "output_type": "stream",
     "text": [
      "Epoch 3:  86%|██████████████████████████████████▌     | 811/938 [00:23<00:03, 35.55batch/s, accuracy=95.3, loss=0.0994]"
     ]
    },
    {
     "name": "stdout",
     "output_type": "stream",
     "text": [
      "start: torch.Size([64, 1, 28, 28])\n",
      "conv1: torch.Size([64, 10, 24, 24])\n",
      "pool1: torch.Size([64, 10, 12, 12])\n",
      "start: torch.Size([64, 1, 28, 28])\n",
      "conv1: torch.Size([64, 10, 24, 24])\n",
      "pool1: torch.Size([64, 10, 12, 12])\n",
      "start: torch.Size([64, 1, 28, 28])\n",
      "conv1: torch.Size([64, 10, 24, 24])\n",
      "pool1: torch.Size([64, 10, 12, 12])\n",
      "start: torch.Size([64, 1, 28, 28])\n",
      "conv1: torch.Size([64, 10, 24, 24])\n",
      "pool1: torch.Size([64, 10, 12, 12])\n",
      "start: torch.Size([64, 1, 28, 28])\n",
      "conv1: torch.Size([64, 10, 24, 24])\n",
      "pool1: torch.Size([64, 10, 12, 12])\n",
      "start: torch.Size([64, 1, 28, 28])\n",
      "conv1: torch.Size([64, 10, 24, 24])\n",
      "pool1: torch.Size([64, 10, 12, 12])\n",
      "start: torch.Size([64, 1, 28, 28])\n",
      "conv1: torch.Size([64, 10, 24, 24])\n",
      "pool1: torch.Size([64, 10, 12, 12])\n"
     ]
    },
    {
     "name": "stderr",
     "output_type": "stream",
     "text": [
      "Epoch 3:  87%|███████████████████████████████████▊     | 819/938 [00:23<00:03, 35.88batch/s, accuracy=95.3, loss=0.131]"
     ]
    },
    {
     "name": "stdout",
     "output_type": "stream",
     "text": [
      "start: torch.Size([64, 1, 28, 28])\n",
      "conv1: torch.Size([64, 10, 24, 24])\n",
      "pool1: torch.Size([64, 10, 12, 12])\n",
      "start: torch.Size([64, 1, 28, 28])\n",
      "conv1: torch.Size([64, 10, 24, 24])\n",
      "pool1: torch.Size([64, 10, 12, 12])\n",
      "start: torch.Size([64, 1, 28, 28])\n",
      "conv1: torch.Size([64, 10, 24, 24])\n",
      "pool1: torch.Size([64, 10, 12, 12])\n",
      "start: torch.Size([64, 1, 28, 28])\n",
      "conv1: torch.Size([64, 10, 24, 24])\n",
      "pool1: torch.Size([64, 10, 12, 12])\n",
      "start: torch.Size([64, 1, 28, 28])\n",
      "conv1: torch.Size([64, 10, 24, 24])\n",
      "pool1: torch.Size([64, 10, 12, 12])\n",
      "start: torch.Size([64, 1, 28, 28])\n",
      "conv1: torch.Size([64, 10, 24, 24])\n",
      "pool1: torch.Size([64, 10, 12, 12])\n",
      "start: torch.Size([64, 1, 28, 28])\n",
      "conv1: torch.Size([64, 10, 24, 24])\n",
      "pool1: torch.Size([64, 10, 12, 12])\n",
      "start: torch.Size([64, 1, 28, 28])\n"
     ]
    },
    {
     "name": "stderr",
     "output_type": "stream",
     "text": [
      "Epoch 3:  88%|████████████████████████████████████▏    | 827/938 [00:23<00:03, 36.45batch/s, accuracy=100, loss=0.0486]"
     ]
    },
    {
     "name": "stdout",
     "output_type": "stream",
     "text": [
      "conv1: torch.Size([64, 10, 24, 24])\n",
      "pool1: torch.Size([64, 10, 12, 12])\n",
      "start: torch.Size([64, 1, 28, 28])\n",
      "conv1: torch.Size([64, 10, 24, 24])\n",
      "pool1: torch.Size([64, 10, 12, 12])\n",
      "start: torch.Size([64, 1, 28, 28])\n",
      "conv1: torch.Size([64, 10, 24, 24])\n",
      "pool1: torch.Size([64, 10, 12, 12])\n",
      "start: torch.Size([64, 1, 28, 28])\n",
      "conv1: torch.Size([64, 10, 24, 24])\n",
      "pool1: torch.Size([64, 10, 12, 12])\n",
      "start: torch.Size([64, 1, 28, 28])\n",
      "conv1: torch.Size([64, 10, 24, 24])\n",
      "pool1: torch.Size([64, 10, 12, 12])\n",
      "start: torch.Size([64, 1, 28, 28])\n",
      "conv1: torch.Size([64, 10, 24, 24])\n",
      "pool1: torch.Size([64, 10, 12, 12])\n",
      "start: torch.Size([64, 1, 28, 28])\n",
      "conv1: torch.Size([64, 10, 24, 24])\n",
      "pool1: torch.Size([64, 10, 12, 12])\n",
      "start: torch.Size([64, 1, 28, 28])\n"
     ]
    },
    {
     "name": "stderr",
     "output_type": "stream",
     "text": [
      "Epoch 3:  89%|████████████████████████████████████▎    | 831/938 [00:24<00:02, 36.16batch/s, accuracy=90.6, loss=0.791]"
     ]
    },
    {
     "name": "stdout",
     "output_type": "stream",
     "text": [
      "conv1: torch.Size([64, 10, 24, 24])\n",
      "pool1: torch.Size([64, 10, 12, 12])\n",
      "start: torch.Size([64, 1, 28, 28])\n",
      "conv1: torch.Size([64, 10, 24, 24])\n",
      "pool1: torch.Size([64, 10, 12, 12])\n",
      "start: torch.Size([64, 1, 28, 28])\n",
      "conv1: torch.Size([64, 10, 24, 24])\n",
      "pool1: torch.Size([64, 10, 12, 12])\n",
      "start: torch.Size([64, 1, 28, 28])\n",
      "conv1: torch.Size([64, 10, 24, 24])\n",
      "pool1: torch.Size([64, 10, 12, 12])\n",
      "start: torch.Size([64, 1, 28, 28])\n",
      "conv1: torch.Size([64, 10, 24, 24])\n",
      "pool1: torch.Size([64, 10, 12, 12])\n",
      "start: torch.Size([64, 1, 28, 28])\n",
      "conv1: torch.Size([64, 10, 24, 24])\n",
      "pool1: torch.Size([64, 10, 12, 12])\n",
      "start: torch.Size([64, 1, 28, 28])\n",
      "conv1: torch.Size([64, 10, 24, 24])\n",
      "pool1: torch.Size([64, 10, 12, 12])\n"
     ]
    },
    {
     "name": "stderr",
     "output_type": "stream",
     "text": [
      "Epoch 3:  89%|████████████████████████████████████▋    | 839/938 [00:24<00:02, 36.63batch/s, accuracy=95.3, loss=0.235]"
     ]
    },
    {
     "name": "stdout",
     "output_type": "stream",
     "text": [
      "start: torch.Size([64, 1, 28, 28])\n",
      "conv1: torch.Size([64, 10, 24, 24])\n",
      "pool1: torch.Size([64, 10, 12, 12])\n",
      "start: torch.Size([64, 1, 28, 28])\n",
      "conv1: torch.Size([64, 10, 24, 24])\n",
      "pool1: torch.Size([64, 10, 12, 12])\n",
      "start: torch.Size([64, 1, 28, 28])\n",
      "conv1: torch.Size([64, 10, 24, 24])\n",
      "pool1: torch.Size([64, 10, 12, 12])\n",
      "start: torch.Size([64, 1, 28, 28])\n",
      "conv1: torch.Size([64, 10, 24, 24])\n",
      "pool1: torch.Size([64, 10, 12, 12])\n",
      "start: torch.Size([64, 1, 28, 28])\n",
      "conv1: torch.Size([64, 10, 24, 24])\n",
      "pool1: torch.Size([64, 10, 12, 12])\n",
      "start: torch.Size([64, 1, 28, 28])\n",
      "conv1: torch.Size([64, 10, 24, 24])\n",
      "pool1: torch.Size([64, 10, 12, 12])\n",
      "start: torch.Size([64, 1, 28, 28])\n",
      "conv1: torch.Size([64, 10, 24, 24])\n",
      "pool1: torch.Size([64, 10, 12, 12])\n",
      "start: torch.Size([64, 1, 28, 28])\n"
     ]
    },
    {
     "name": "stderr",
     "output_type": "stream",
     "text": [
      "Epoch 3:  90%|█████████████████████████████████████    | 847/938 [00:24<00:02, 35.16batch/s, accuracy=96.9, loss=0.108]"
     ]
    },
    {
     "name": "stdout",
     "output_type": "stream",
     "text": [
      "conv1: torch.Size([64, 10, 24, 24])\n",
      "pool1: torch.Size([64, 10, 12, 12])\n",
      "start: torch.Size([64, 1, 28, 28])\n",
      "conv1: torch.Size([64, 10, 24, 24])\n",
      "pool1: torch.Size([64, 10, 12, 12])\n",
      "start: torch.Size([64, 1, 28, 28])\n",
      "conv1: torch.Size([64, 10, 24, 24])\n",
      "pool1: torch.Size([64, 10, 12, 12])\n",
      "start: torch.Size([64, 1, 28, 28])\n",
      "conv1: torch.Size([64, 10, 24, 24])\n",
      "pool1: torch.Size([64, 10, 12, 12])\n",
      "start: torch.Size([64, 1, 28, 28])\n",
      "conv1: torch.Size([64, 10, 24, 24])\n",
      "pool1: torch.Size([64, 10, 12, 12])\n",
      "start: torch.Size([64, 1, 28, 28])\n",
      "conv1: torch.Size([64, 10, 24, 24])\n",
      "pool1: torch.Size([64, 10, 12, 12])\n",
      "start: torch.Size([64, 1, 28, 28])\n",
      "conv1: torch.Size([64, 10, 24, 24])\n"
     ]
    },
    {
     "name": "stderr",
     "output_type": "stream",
     "text": [
      "Epoch 3:  91%|████████████████████████████████████▎   | 851/938 [00:24<00:02, 32.67batch/s, accuracy=98.4, loss=0.0939]"
     ]
    },
    {
     "name": "stdout",
     "output_type": "stream",
     "text": [
      "pool1: torch.Size([64, 10, 12, 12])\n",
      "start: torch.Size([64, 1, 28, 28])\n",
      "conv1: torch.Size([64, 10, 24, 24])\n",
      "pool1: torch.Size([64, 10, 12, 12])\n",
      "start: torch.Size([64, 1, 28, 28])\n",
      "conv1: torch.Size([64, 10, 24, 24])\n",
      "pool1: torch.Size([64, 10, 12, 12])\n",
      "start: torch.Size([64, 1, 28, 28])\n",
      "conv1: torch.Size([64, 10, 24, 24])\n",
      "pool1: torch.Size([64, 10, 12, 12])\n",
      "start: torch.Size([64, 1, 28, 28])\n",
      "conv1: torch.Size([64, 10, 24, 24])\n",
      "pool1: torch.Size([64, 10, 12, 12])\n",
      "start: torch.Size([64, 1, 28, 28])\n",
      "conv1: torch.Size([64, 10, 24, 24])\n",
      "pool1: torch.Size([64, 10, 12, 12])\n",
      "start: torch.Size([64, 1, 28, 28])\n"
     ]
    },
    {
     "name": "stderr",
     "output_type": "stream",
     "text": [
      "Epoch 3:  92%|█████████████████████████████████████▌   | 859/938 [00:24<00:02, 34.16batch/s, accuracy=96.9, loss=0.216]"
     ]
    },
    {
     "name": "stdout",
     "output_type": "stream",
     "text": [
      "conv1: torch.Size([64, 10, 24, 24])\n",
      "pool1: torch.Size([64, 10, 12, 12])\n",
      "start: torch.Size([64, 1, 28, 28])\n",
      "conv1: torch.Size([64, 10, 24, 24])\n",
      "pool1: torch.Size([64, 10, 12, 12])\n",
      "start: torch.Size([64, 1, 28, 28])\n",
      "conv1: torch.Size([64, 10, 24, 24])\n",
      "pool1: torch.Size([64, 10, 12, 12])\n",
      "start: torch.Size([64, 1, 28, 28])\n",
      "conv1: torch.Size([64, 10, 24, 24])\n",
      "pool1: torch.Size([64, 10, 12, 12])\n",
      "start: torch.Size([64, 1, 28, 28])\n",
      "conv1: torch.Size([64, 10, 24, 24])\n",
      "pool1: torch.Size([64, 10, 12, 12])\n",
      "start: torch.Size([64, 1, 28, 28])\n",
      "conv1: torch.Size([64, 10, 24, 24])\n",
      "pool1: torch.Size([64, 10, 12, 12])\n",
      "start: torch.Size([64, 1, 28, 28])\n",
      "conv1: torch.Size([64, 10, 24, 24])\n",
      "pool1: torch.Size([64, 10, 12, 12])\n"
     ]
    },
    {
     "name": "stderr",
     "output_type": "stream",
     "text": [
      "Epoch 3:  92%|█████████████████████████████████████▉   | 867/938 [00:25<00:02, 34.55batch/s, accuracy=96.9, loss=0.298]"
     ]
    },
    {
     "name": "stdout",
     "output_type": "stream",
     "text": [
      "start: torch.Size([64, 1, 28, 28])\n",
      "conv1: torch.Size([64, 10, 24, 24])\n",
      "pool1: torch.Size([64, 10, 12, 12])\n",
      "start: torch.Size([64, 1, 28, 28])\n",
      "conv1: torch.Size([64, 10, 24, 24])\n",
      "pool1: torch.Size([64, 10, 12, 12])\n",
      "start: torch.Size([64, 1, 28, 28])\n",
      "conv1: torch.Size([64, 10, 24, 24])\n",
      "pool1: torch.Size([64, 10, 12, 12])\n",
      "start: torch.Size([64, 1, 28, 28])\n",
      "conv1: torch.Size([64, 10, 24, 24])\n",
      "pool1: torch.Size([64, 10, 12, 12])\n",
      "start: torch.Size([64, 1, 28, 28])\n",
      "conv1: torch.Size([64, 10, 24, 24])\n",
      "pool1: torch.Size([64, 10, 12, 12])\n",
      "start: torch.Size([64, 1, 28, 28])\n",
      "conv1: torch.Size([64, 10, 24, 24])\n",
      "pool1: torch.Size([64, 10, 12, 12])\n",
      "start: torch.Size([64, 1, 28, 28])\n",
      "conv1: torch.Size([64, 10, 24, 24])\n",
      "pool1: torch.Size([64, 10, 12, 12])\n"
     ]
    },
    {
     "name": "stderr",
     "output_type": "stream",
     "text": [
      "Epoch 3:  93%|██████████████████████████████████████   | 871/938 [00:25<00:01, 35.28batch/s, accuracy=98.4, loss=0.114]"
     ]
    },
    {
     "name": "stdout",
     "output_type": "stream",
     "text": [
      "start: torch.Size([64, 1, 28, 28])\n",
      "conv1: torch.Size([64, 10, 24, 24])\n",
      "pool1: torch.Size([64, 10, 12, 12])\n",
      "start: torch.Size([64, 1, 28, 28])\n",
      "conv1: torch.Size([64, 10, 24, 24])\n",
      "pool1: torch.Size([64, 10, 12, 12])\n",
      "start: torch.Size([64, 1, 28, 28])\n",
      "conv1: torch.Size([64, 10, 24, 24])\n",
      "pool1: torch.Size([64, 10, 12, 12])\n",
      "start: torch.Size([64, 1, 28, 28])\n",
      "conv1: torch.Size([64, 10, 24, 24])\n",
      "pool1: torch.Size([64, 10, 12, 12])\n",
      "start: torch.Size([64, 1, 28, 28])\n",
      "conv1: torch.Size([64, 10, 24, 24])\n",
      "pool1: torch.Size([64, 10, 12, 12])\n",
      "start: torch.Size([64, 1, 28, 28])\n",
      "conv1: torch.Size([64, 10, 24, 24])\n",
      "pool1: torch.Size([64, 10, 12, 12])\n",
      "start: torch.Size([64, 1, 28, 28])\n",
      "conv1: torch.Size([64, 10, 24, 24])\n",
      "pool1: torch.Size([64, 10, 12, 12])\n",
      "start: torch.Size([64, 1, 28, 28])\n"
     ]
    },
    {
     "name": "stderr",
     "output_type": "stream",
     "text": [
      "Epoch 3:  94%|██████████████████████████████████████▍  | 879/938 [00:25<00:01, 35.06batch/s, accuracy=93.8, loss=0.184]"
     ]
    },
    {
     "name": "stdout",
     "output_type": "stream",
     "text": [
      "conv1: torch.Size([64, 10, 24, 24])\n",
      "pool1: torch.Size([64, 10, 12, 12])\n",
      "start: torch.Size([64, 1, 28, 28])\n",
      "conv1: torch.Size([64, 10, 24, 24])\n",
      "pool1: torch.Size([64, 10, 12, 12])\n",
      "start: torch.Size([64, 1, 28, 28])\n",
      "conv1: torch.Size([64, 10, 24, 24])\n",
      "pool1: torch.Size([64, 10, 12, 12])\n",
      "start: torch.Size([64, 1, 28, 28])\n",
      "conv1: torch.Size([64, 10, 24, 24])\n",
      "pool1: torch.Size([64, 10, 12, 12])\n",
      "start: torch.Size([64, 1, 28, 28])\n",
      "conv1: torch.Size([64, 10, 24, 24])\n",
      "pool1: torch.Size([64, 10, 12, 12])\n",
      "start: torch.Size([64, 1, 28, 28])\n",
      "conv1: torch.Size([64, 10, 24, 24])\n",
      "pool1: torch.Size([64, 10, 12, 12])\n",
      "start: torch.Size([64, 1, 28, 28])\n",
      "conv1: torch.Size([64, 10, 24, 24])\n",
      "pool1: torch.Size([64, 10, 12, 12])\n",
      "start: torch.Size([64, 1, 28, 28])\n"
     ]
    },
    {
     "name": "stderr",
     "output_type": "stream",
     "text": [
      "Epoch 3:  95%|█████████████████████████████████████▊  | 887/938 [00:25<00:01, 35.14batch/s, accuracy=95.3, loss=0.0981]"
     ]
    },
    {
     "name": "stdout",
     "output_type": "stream",
     "text": [
      "conv1: torch.Size([64, 10, 24, 24])\n",
      "pool1: torch.Size([64, 10, 12, 12])\n",
      "start: torch.Size([64, 1, 28, 28])\n",
      "conv1: torch.Size([64, 10, 24, 24])\n",
      "pool1: torch.Size([64, 10, 12, 12])\n",
      "start: torch.Size([64, 1, 28, 28])\n",
      "conv1: torch.Size([64, 10, 24, 24])\n",
      "pool1: torch.Size([64, 10, 12, 12])\n",
      "start: torch.Size([64, 1, 28, 28])\n",
      "conv1: torch.Size([64, 10, 24, 24])\n",
      "pool1: torch.Size([64, 10, 12, 12])\n",
      "start: torch.Size([64, 1, 28, 28])\n",
      "conv1: torch.Size([64, 10, 24, 24])\n",
      "pool1: torch.Size([64, 10, 12, 12])\n",
      "start: torch.Size([64, 1, 28, 28])\n",
      "conv1: torch.Size([64, 10, 24, 24])\n",
      "pool1: torch.Size([64, 10, 12, 12])\n",
      "start: torch.Size([64, 1, 28, 28])\n",
      "conv1: torch.Size([64, 10, 24, 24])\n",
      "pool1: torch.Size([64, 10, 12, 12])\n"
     ]
    },
    {
     "name": "stderr",
     "output_type": "stream",
     "text": [
      "Epoch 3:  95%|███████████████████████████████████████  | 895/938 [00:25<00:01, 36.74batch/s, accuracy=93.8, loss=0.261]"
     ]
    },
    {
     "name": "stdout",
     "output_type": "stream",
     "text": [
      "start: torch.Size([64, 1, 28, 28])\n",
      "conv1: torch.Size([64, 10, 24, 24])\n",
      "pool1: torch.Size([64, 10, 12, 12])\n",
      "start: torch.Size([64, 1, 28, 28])\n",
      "conv1: torch.Size([64, 10, 24, 24])\n",
      "pool1: torch.Size([64, 10, 12, 12])\n",
      "start: torch.Size([64, 1, 28, 28])\n",
      "conv1: torch.Size([64, 10, 24, 24])\n",
      "pool1: torch.Size([64, 10, 12, 12])\n",
      "start: torch.Size([64, 1, 28, 28])\n",
      "conv1: torch.Size([64, 10, 24, 24])\n",
      "pool1: torch.Size([64, 10, 12, 12])\n",
      "start: torch.Size([64, 1, 28, 28])\n",
      "conv1: torch.Size([64, 10, 24, 24])\n",
      "pool1: torch.Size([64, 10, 12, 12])\n",
      "start: torch.Size([64, 1, 28, 28])\n",
      "conv1: torch.Size([64, 10, 24, 24])\n",
      "pool1: torch.Size([64, 10, 12, 12])\n",
      "start: torch.Size([64, 1, 28, 28])\n",
      "conv1: torch.Size([64, 10, 24, 24])\n",
      "pool1: torch.Size([64, 10, 12, 12])\n",
      "start: torch.Size([64, 1, 28, 28])\n"
     ]
    },
    {
     "name": "stderr",
     "output_type": "stream",
     "text": [
      "Epoch 3:  96%|██████████████████████████████████████▎ | 899/938 [00:26<00:01, 36.65batch/s, accuracy=96.9, loss=0.0953]"
     ]
    },
    {
     "name": "stdout",
     "output_type": "stream",
     "text": [
      "conv1: torch.Size([64, 10, 24, 24])\n",
      "pool1: torch.Size([64, 10, 12, 12])\n",
      "start: torch.Size([64, 1, 28, 28])\n",
      "conv1: torch.Size([64, 10, 24, 24])\n",
      "pool1: torch.Size([64, 10, 12, 12])\n",
      "start: torch.Size([64, 1, 28, 28])\n",
      "conv1: torch.Size([64, 10, 24, 24])\n",
      "pool1: torch.Size([64, 10, 12, 12])\n",
      "start: torch.Size([64, 1, 28, 28])\n",
      "conv1: torch.Size([64, 10, 24, 24])\n",
      "pool1: torch.Size([64, 10, 12, 12])\n",
      "start: torch.Size([64, 1, 28, 28])\n",
      "conv1: torch.Size([64, 10, 24, 24])\n",
      "pool1: torch.Size([64, 10, 12, 12])\n",
      "start: torch.Size([64, 1, 28, 28])\n",
      "conv1: torch.Size([64, 10, 24, 24])\n",
      "pool1: torch.Size([64, 10, 12, 12])\n",
      "start: torch.Size([64, 1, 28, 28])\n",
      "conv1: torch.Size([64, 10, 24, 24])\n",
      "pool1: torch.Size([64, 10, 12, 12])\n"
     ]
    },
    {
     "name": "stderr",
     "output_type": "stream",
     "text": [
      "Epoch 3:  97%|███████████████████████████████████████▋ | 907/938 [00:26<00:00, 36.19batch/s, accuracy=92.2, loss=0.433]"
     ]
    },
    {
     "name": "stdout",
     "output_type": "stream",
     "text": [
      "start: torch.Size([64, 1, 28, 28])\n",
      "conv1: torch.Size([64, 10, 24, 24])\n",
      "pool1: torch.Size([64, 10, 12, 12])\n",
      "start: torch.Size([64, 1, 28, 28])\n",
      "conv1: torch.Size([64, 10, 24, 24])\n",
      "pool1: torch.Size([64, 10, 12, 12])\n",
      "start: torch.Size([64, 1, 28, 28])\n",
      "conv1: torch.Size([64, 10, 24, 24])\n",
      "pool1: torch.Size([64, 10, 12, 12])\n",
      "start: torch.Size([64, 1, 28, 28])\n",
      "conv1: torch.Size([64, 10, 24, 24])\n",
      "pool1: torch.Size([64, 10, 12, 12])\n",
      "start: torch.Size([64, 1, 28, 28])\n",
      "conv1: torch.Size([64, 10, 24, 24])\n",
      "pool1: torch.Size([64, 10, 12, 12])\n",
      "start: torch.Size([64, 1, 28, 28])\n",
      "conv1: torch.Size([64, 10, 24, 24])\n",
      "pool1: torch.Size([64, 10, 12, 12])\n",
      "start: torch.Size([64, 1, 28, 28])\n",
      "conv1: torch.Size([64, 10, 24, 24])\n",
      "pool1: torch.Size([64, 10, 12, 12])\n",
      "start: torch.Size([64, 1, 28, 28])\n"
     ]
    },
    {
     "name": "stderr",
     "output_type": "stream",
     "text": [
      "Epoch 3:  98%|███████████████████████████████████████▉ | 915/938 [00:26<00:00, 35.12batch/s, accuracy=95.3, loss=0.117]"
     ]
    },
    {
     "name": "stdout",
     "output_type": "stream",
     "text": [
      "conv1: torch.Size([64, 10, 24, 24])\n",
      "pool1: torch.Size([64, 10, 12, 12])\n",
      "start: torch.Size([64, 1, 28, 28])\n",
      "conv1: torch.Size([64, 10, 24, 24])\n",
      "pool1: torch.Size([64, 10, 12, 12])\n",
      "start: torch.Size([64, 1, 28, 28])\n",
      "conv1: torch.Size([64, 10, 24, 24])\n",
      "pool1: torch.Size([64, 10, 12, 12])\n",
      "start: torch.Size([64, 1, 28, 28])\n",
      "conv1: torch.Size([64, 10, 24, 24])\n",
      "pool1: torch.Size([64, 10, 12, 12])\n",
      "start: torch.Size([64, 1, 28, 28])\n",
      "conv1: torch.Size([64, 10, 24, 24])\n",
      "pool1: torch.Size([64, 10, 12, 12])\n",
      "start: torch.Size([64, 1, 28, 28])\n",
      "conv1: torch.Size([64, 10, 24, 24])\n",
      "pool1: torch.Size([64, 10, 12, 12])\n",
      "start: torch.Size([64, 1, 28, 28])\n",
      "conv1: torch.Size([64, 10, 24, 24])\n",
      "pool1: torch.Size([64, 10, 12, 12])\n"
     ]
    },
    {
     "name": "stderr",
     "output_type": "stream",
     "text": [
      "Epoch 3:  98%|███████████████████████████████████████▏| 919/938 [00:26<00:00, 34.96batch/s, accuracy=98.4, loss=0.0422]"
     ]
    },
    {
     "name": "stdout",
     "output_type": "stream",
     "text": [
      "start: torch.Size([64, 1, 28, 28])\n",
      "conv1: torch.Size([64, 10, 24, 24])\n",
      "pool1: torch.Size([64, 10, 12, 12])\n",
      "start: torch.Size([64, 1, 28, 28])\n",
      "conv1: torch.Size([64, 10, 24, 24])\n",
      "pool1: torch.Size([64, 10, 12, 12])\n",
      "start: torch.Size([64, 1, 28, 28])\n",
      "conv1: torch.Size([64, 10, 24, 24])\n",
      "pool1: torch.Size([64, 10, 12, 12])\n",
      "start: torch.Size([64, 1, 28, 28])\n",
      "conv1: torch.Size([64, 10, 24, 24])\n",
      "pool1: torch.Size([64, 10, 12, 12])\n",
      "start: "
     ]
    },
    {
     "name": "stderr",
     "output_type": "stream",
     "text": [
      "Epoch 3:  98%|████████████████████████████████████████▎| 923/938 [00:26<00:00, 29.27batch/s, accuracy=100, loss=0.0164]"
     ]
    },
    {
     "name": "stdout",
     "output_type": "stream",
     "text": [
      "torch.Size([64, 1, 28, 28])\n",
      "conv1: torch.Size([64, 10, 24, 24])\n",
      "pool1: torch.Size([64, 10, 12, 12])\n",
      "start: torch.Size([64, 1, 28, 28])\n",
      "conv1: torch.Size([64, 10, 24, 24])\n",
      "pool1: torch.Size([64, 10, 12, 12])\n",
      "start: torch.Size([64, 1, 28, 28])\n",
      "conv1: torch.Size([64, 10, 24, 24])\n",
      "pool1: torch.Size([64, 10, 12, 12])\n",
      "start: torch.Size([64, 1, 28, 28])\n",
      "conv1: torch.Size([64, 10, 24, 24])\n",
      "pool1: torch.Size([64, 10, 12, 12])\n",
      "start: torch.Size([64, 1, 28, 28])\n",
      "conv1: torch.Size([64, 10, 24, 24])\n",
      "pool1: torch.Size([64, 10, 12, 12])\n",
      "start: torch.Size([64, 1, 28, 28])\n",
      "conv1: torch.Size([64, 10, 24, 24])\n",
      "pool1: torch.Size([64, 10, 12, 12])\n",
      "start: torch.Size([64, 1, 28, 28])\n",
      "conv1: torch.Size([64, 10, 24, 24])\n",
      "pool1: torch.Size([64, 10, 12, 12])\n"
     ]
    },
    {
     "name": "stderr",
     "output_type": "stream",
     "text": [
      "Epoch 3:  99%|████████████████████████████████████████▋| 931/938 [00:27<00:00, 31.55batch/s, accuracy=96.9, loss=0.228]"
     ]
    },
    {
     "name": "stdout",
     "output_type": "stream",
     "text": [
      "start: torch.Size([64, 1, 28, 28])\n",
      "conv1: torch.Size([64, 10, 24, 24])\n",
      "pool1: torch.Size([64, 10, 12, 12])\n",
      "start: torch.Size([64, 1, 28, 28])\n",
      "conv1: torch.Size([64, 10, 24, 24])\n",
      "pool1: torch.Size([64, 10, 12, 12])\n",
      "start: torch.Size([64, 1, 28, 28])\n",
      "conv1: torch.Size([64, 10, 24, 24])\n",
      "pool1: torch.Size([64, 10, 12, 12])\n",
      "start: torch.Size([64, 1, 28, 28])\n",
      "conv1: torch.Size([64, 10, 24, 24])\n",
      "pool1: torch.Size([64, 10, 12, 12])\n",
      "start: torch.Size([64, 1, 28, 28])\n",
      "conv1: torch.Size([64, 10, 24, 24])\n",
      "pool1: torch.Size([64, 10, 12, 12])\n",
      "start: torch.Size([64, 1, 28, 28])\n",
      "conv1: torch.Size([64, 10, 24, 24])\n",
      "pool1: torch.Size([64, 10, 12, 12])\n",
      "start: torch.Size([64, 1, 28, 28])\n",
      "conv1: torch.Size([64, 10, 24, 24])\n",
      "pool1: torch.Size([64, 10, 12, 12])\n"
     ]
    },
    {
     "name": "stderr",
     "output_type": "stream",
     "text": [
      "Epoch 3: 100%|█████████████████████████████████████████| 938/938 [00:27<00:00, 34.54batch/s, accuracy=46.9, loss=0.306]\n"
     ]
    },
    {
     "name": "stdout",
     "output_type": "stream",
     "text": [
      "start: torch.Size([64, 1, 28, 28])\n",
      "conv1: torch.Size([64, 10, 24, 24])\n",
      "pool1: torch.Size([64, 10, 12, 12])\n",
      "start: torch.Size([64, 1, 28, 28])\n",
      "conv1: torch.Size([64, 10, 24, 24])\n",
      "pool1: torch.Size([64, 10, 12, 12])\n",
      "start: torch.Size([64, 1, 28, 28])\n",
      "conv1: torch.Size([64, 10, 24, 24])\n",
      "pool1: torch.Size([64, 10, 12, 12])\n",
      "start: torch.Size([32, 1, 28, 28])\n",
      "conv1: torch.Size([32, 10, 24, 24])\n",
      "pool1: torch.Size([32, 10, 12, 12])\n",
      "start: torch.Size([64, 1, 28, 28])\n",
      "conv1: torch.Size([64, 10, 24, 24])\n",
      "pool1: torch.Size([64, 10, 12, 12])\n",
      "start: torch.Size([64, 1, 28, 28])\n",
      "conv1: torch.Size([64, 10, 24, 24])\n",
      "pool1: torch.Size([64, 10, 12, 12])\n",
      "start: torch.Size([64, 1, 28, 28])\n",
      "conv1: torch.Size([64, 10, 24, 24])\n",
      "pool1: torch.Size([64, 10, 12, 12])\n",
      "start: torch.Size([64, 1, 28, 28])\n",
      "conv1: torch.Size([64, 10, 24, 24])\n",
      "pool1: torch.Size([64, 10, 12, 12])\n",
      "start: torch.Size([64, 1, 28, 28])\n",
      "conv1: torch.Size([64, 10, 24, 24])\n",
      "pool1: torch.Size([64, 10, 12, 12])\n",
      "start: torch.Size([64, 1, 28, 28])\n",
      "conv1: torch.Size([64, 10, 24, 24])\n",
      "pool1: torch.Size([64, 10, 12, 12])\n",
      "start: torch.Size([64, 1, 28, 28])\n",
      "conv1: torch.Size([64, 10, 24, 24])\n",
      "pool1: torch.Size([64, 10, 12, 12])\n",
      "start: torch.Size([64, 1, 28, 28])\n",
      "conv1: torch.Size([64, 10, 24, 24])\n",
      "pool1: torch.Size([64, 10, 12, 12])\n",
      "start: torch.Size([64, 1, 28, 28])\n",
      "conv1: torch.Size([64, 10, 24, 24])\n",
      "pool1: torch.Size([64, 10, 12, 12])\n",
      "start: torch.Size([64, 1, 28, 28])\n",
      "conv1: torch.Size([64, 10, 24, 24])\n",
      "pool1: torch.Size([64, 10, 12, 12])\n",
      "start: torch.Size([64, 1, 28, 28])\n",
      "conv1: torch.Size([64, 10, 24, 24])\n",
      "pool1: torch.Size([64, 10, 12, 12])\n",
      "start: torch.Size([64, 1, 28, 28])\n",
      "conv1: torch.Size([64, 10, 24, 24])\n",
      "pool1: torch.Size([64, 10, 12, 12])\n",
      "start: torch.Size([64, 1, 28, 28])\n",
      "conv1: torch.Size([64, 10, 24, 24])\n",
      "pool1: torch.Size([64, 10, 12, 12])\n",
      "start: torch.Size([64, 1, 28, 28])\n",
      "conv1: torch.Size([64, 10, 24, 24])\n",
      "pool1: torch.Size([64, 10, 12, 12])\n",
      "start: torch.Size([64, 1, 28, 28])\n",
      "conv1: torch.Size([64, 10, 24, 24])\n",
      "pool1: torch.Size([64, 10, 12, 12])\n",
      "start: torch.Size([64, 1, 28, 28])\n",
      "conv1: torch.Size([64, 10, 24, 24])\n",
      "pool1: torch.Size([64, 10, 12, 12])\n",
      "start: torch.Size([64, 1, 28, 28])\n",
      "conv1: torch.Size([64, 10, 24, 24])\n",
      "pool1: torch.Size([64, 10, 12, 12])\n",
      "start: torch.Size([64, 1, 28, 28])\n",
      "conv1: torch.Size([64, 10, 24, 24])\n",
      "pool1: torch.Size([64, 10, 12, 12])\n",
      "start: torch.Size([64, 1, 28, 28])\n",
      "conv1: torch.Size([64, 10, 24, 24])\n",
      "pool1: torch.Size([64, 10, 12, 12])\n",
      "start: torch.Size([64, 1, 28, 28])\n",
      "conv1: torch.Size([64, 10, 24, 24])\n",
      "pool1: torch.Size([64, 10, 12, 12])\n",
      "start: torch.Size([64, 1, 28, 28])\n",
      "conv1: torch.Size([64, 10, 24, 24])\n",
      "pool1: torch.Size([64, 10, 12, 12])\n",
      "start: torch.Size([64, 1, 28, 28])\n",
      "conv1: torch.Size([64, 10, 24, 24])\n",
      "pool1: torch.Size([64, 10, 12, 12])\n",
      "start: torch.Size([64, 1, 28, 28])\n",
      "conv1: torch.Size([64, 10, 24, 24])\n",
      "pool1: torch.Size([64, 10, 12, 12])\n",
      "start: torch.Size([64, 1, 28, 28])\n",
      "conv1: torch.Size([64, 10, 24, 24])\n",
      "pool1: torch.Size([64, 10, 12, 12])\n",
      "start: torch.Size([64, 1, 28, 28])\n",
      "conv1: torch.Size([64, 10, 24, 24])\n",
      "pool1: torch.Size([64, 10, 12, 12])\n",
      "start: torch.Size([64, 1, 28, 28])\n",
      "conv1: torch.Size([64, 10, 24, 24])\n",
      "pool1: torch.Size([64, 10, 12, 12])\n",
      "start: torch.Size([64, 1, 28, 28])\n",
      "conv1: torch.Size([64, 10, 24, 24])\n",
      "pool1: torch.Size([64, 10, 12, 12])\n",
      "start: torch.Size([64, 1, 28, 28])\n",
      "conv1: torch.Size([64, 10, 24, 24])\n",
      "pool1: torch.Size([64, 10, 12, 12])\n",
      "start: torch.Size([64, 1, 28, 28])\n",
      "conv1: torch.Size([64, 10, 24, 24])\n",
      "pool1: torch.Size([64, 10, 12, 12])\n",
      "start: torch.Size([64, 1, 28, 28])\n",
      "conv1: torch.Size([64, 10, 24, 24])\n",
      "pool1: torch.Size([64, 10, 12, 12])\n",
      "start: torch.Size([64, 1, 28, 28])\n",
      "conv1: torch.Size([64, 10, 24, 24])\n",
      "pool1: torch.Size([64, 10, 12, 12])\n",
      "start: torch.Size([64, 1, 28, 28])\n",
      "conv1: torch.Size([64, 10, 24, 24])\n",
      "pool1: torch.Size([64, 10, 12, 12])\n",
      "start: torch.Size([64, 1, 28, 28])\n",
      "conv1: torch.Size([64, 10, 24, 24])\n",
      "pool1: torch.Size([64, 10, 12, 12])\n",
      "start: torch.Size([64, 1, 28, 28])\n",
      "conv1: torch.Size([64, 10, 24, 24])\n",
      "pool1: torch.Size([64, 10, 12, 12])\n",
      "start: torch.Size([64, 1, 28, 28])\n",
      "conv1: torch.Size([64, 10, 24, 24])\n",
      "pool1: torch.Size([64, 10, 12, 12])\n",
      "start: torch.Size([64, 1, 28, 28])\n",
      "conv1: torch.Size([64, 10, 24, 24])\n",
      "pool1: torch.Size([64, 10, 12, 12])\n",
      "start: torch.Size([64, 1, 28, 28])\n",
      "conv1: torch.Size([64, 10, 24, 24])\n",
      "pool1: torch.Size([64, 10, 12, 12])\n",
      "start: torch.Size([64, 1, 28, 28])\n",
      "conv1: torch.Size([64, 10, 24, 24])\n",
      "pool1: torch.Size([64, 10, 12, 12])\n",
      "start: torch.Size([64, 1, 28, 28])\n",
      "conv1: torch.Size([64, 10, 24, 24])\n",
      "pool1: torch.Size([64, 10, 12, 12])\n",
      "start: torch.Size([64, 1, 28, 28])\n",
      "conv1: torch.Size([64, 10, 24, 24])\n",
      "pool1: torch.Size([64, 10, 12, 12])\n",
      "start: torch.Size([64, 1, 28, 28])\n",
      "conv1: torch.Size([64, 10, 24, 24])\n",
      "pool1: torch.Size([64, 10, 12, 12])\n",
      "start: torch.Size([64, 1, 28, 28])\n",
      "conv1: torch.Size([64, 10, 24, 24])\n",
      "pool1: torch.Size([64, 10, 12, 12])\n",
      "start: torch.Size([64, 1, 28, 28])\n",
      "conv1: torch.Size([64, 10, 24, 24])\n",
      "pool1: torch.Size([64, 10, 12, 12])\n",
      "start: torch.Size([64, 1, 28, 28])\n",
      "conv1: torch.Size([64, 10, 24, 24])\n",
      "pool1: torch.Size([64, 10, 12, 12])\n",
      "start: torch.Size([64, 1, 28, 28])\n",
      "conv1: torch.Size([64, 10, 24, 24])\n",
      "pool1: torch.Size([64, 10, 12, 12])\n",
      "start: torch.Size([64, 1, 28, 28])\n",
      "conv1: torch.Size([64, 10, 24, 24])\n",
      "pool1: torch.Size([64, 10, 12, 12])\n",
      "start: torch.Size([64, 1, 28, 28])\n",
      "conv1: torch.Size([64, 10, 24, 24])\n",
      "pool1: torch.Size([64, 10, 12, 12])\n",
      "start: torch.Size([64, 1, 28, 28])\n",
      "conv1: torch.Size([64, 10, 24, 24])\n",
      "pool1: torch.Size([64, 10, 12, 12])\n",
      "start: torch.Size([64, 1, 28, 28])\n",
      "conv1: torch.Size([64, 10, 24, 24])\n",
      "pool1: torch.Size([64, 10, 12, 12])\n",
      "start: torch.Size([64, 1, 28, 28])\n",
      "conv1: torch.Size([64, 10, 24, 24])\n",
      "pool1: torch.Size([64, 10, 12, 12])\n",
      "start: torch.Size([64, 1, 28, 28])\n",
      "conv1: torch.Size([64, 10, 24, 24])\n",
      "pool1: torch.Size([64, 10, 12, 12])\n",
      "start: torch.Size([64, 1, 28, 28])\n",
      "conv1: torch.Size([64, 10, 24, 24])\n",
      "pool1: torch.Size([64, 10, 12, 12])\n",
      "start: torch.Size([64, 1, 28, 28])\n",
      "conv1: torch.Size([64, 10, 24, 24])\n",
      "pool1: torch.Size([64, 10, 12, 12])\n",
      "start: torch.Size([64, 1, 28, 28])\n",
      "conv1: torch.Size([64, 10, 24, 24])\n",
      "pool1: torch.Size([64, 10, 12, 12])\n",
      "start: torch.Size([64, 1, 28, 28])\n",
      "conv1: torch.Size([64, 10, 24, 24])\n",
      "pool1: torch.Size([64, 10, 12, 12])\n",
      "start: torch.Size([64, 1, 28, 28])\n",
      "conv1: torch.Size([64, 10, 24, 24])\n",
      "pool1: torch.Size([64, 10, 12, 12])\n",
      "start: torch.Size([64, 1, 28, 28])\n",
      "conv1: torch.Size([64, 10, 24, 24])\n",
      "pool1: torch.Size([64, 10, 12, 12])\n",
      "start: torch.Size([64, 1, 28, 28])\n",
      "conv1: torch.Size([64, 10, 24, 24])\n",
      "pool1: torch.Size([64, 10, 12, 12])\n",
      "start: torch.Size([64, 1, 28, 28])\n",
      "conv1: torch.Size([64, 10, 24, 24])\n",
      "pool1: torch.Size([64, 10, 12, 12])\n",
      "start: torch.Size([64, 1, 28, 28])\n",
      "conv1: torch.Size([64, 10, 24, 24])\n",
      "pool1: torch.Size([64, 10, 12, 12])\n",
      "start: torch.Size([64, 1, 28, 28])\n",
      "conv1: torch.Size([64, 10, 24, 24])\n",
      "pool1: torch.Size([64, 10, 12, 12])\n",
      "start: torch.Size([64, 1, 28, 28])\n",
      "conv1: torch.Size([64, 10, 24, 24])\n",
      "pool1: torch.Size([64, 10, 12, 12])\n",
      "start: torch.Size([64, 1, 28, 28])\n",
      "conv1: torch.Size([64, 10, 24, 24])\n",
      "pool1: torch.Size([64, 10, 12, 12])\n",
      "start: torch.Size([64, 1, 28, 28])\n",
      "conv1: torch.Size([64, 10, 24, 24])\n",
      "pool1: torch.Size([64, 10, 12, 12])\n",
      "start: torch.Size([64, 1, 28, 28])\n",
      "conv1: torch.Size([64, 10, 24, 24])\n",
      "pool1: torch.Size([64, 10, 12, 12])\n",
      "start: torch.Size([64, 1, 28, 28])\n",
      "conv1: torch.Size([64, 10, 24, 24])\n",
      "pool1: torch.Size([64, 10, 12, 12])\n",
      "start: torch.Size([64, 1, 28, 28])\n",
      "conv1: torch.Size([64, 10, 24, 24])\n",
      "pool1: torch.Size([64, 10, 12, 12])\n",
      "start: torch.Size([64, 1, 28, 28])\n",
      "conv1: torch.Size([64, 10, 24, 24])\n",
      "pool1: torch.Size([64, 10, 12, 12])\n",
      "start: torch.Size([64, 1, 28, 28])\n",
      "conv1: torch.Size([64, 10, 24, 24])\n",
      "pool1: torch.Size([64, 10, 12, 12])\n",
      "start: torch.Size([64, 1, 28, 28])\n",
      "conv1: torch.Size([64, 10, 24, 24])\n",
      "pool1: torch.Size([64, 10, 12, 12])\n",
      "start: torch.Size([64, 1, 28, 28])\n",
      "conv1: torch.Size([64, 10, 24, 24])\n",
      "pool1: torch.Size([64, 10, 12, 12])\n",
      "start: torch.Size([64, 1, 28, 28])\n",
      "conv1: torch.Size([64, 10, 24, 24])\n",
      "pool1: torch.Size([64, 10, 12, 12])\n",
      "start: torch.Size([64, 1, 28, 28])\n",
      "conv1: torch.Size([64, 10, 24, 24])\n",
      "pool1: torch.Size([64, 10, 12, 12])\n",
      "start: torch.Size([64, 1, 28, 28])\n",
      "conv1: torch.Size([64, 10, 24, 24])\n",
      "pool1: torch.Size([64, 10, 12, 12])\n",
      "start: torch.Size([64, 1, 28, 28])\n",
      "conv1: torch.Size([64, 10, 24, 24])\n",
      "pool1: torch.Size([64, 10, 12, 12])\n",
      "start: torch.Size([64, 1, 28, 28])\n",
      "conv1: torch.Size([64, 10, 24, 24])\n",
      "pool1: torch.Size([64, 10, 12, 12])\n",
      "start: torch.Size([64, 1, 28, 28])\n",
      "conv1: torch.Size([64, 10, 24, 24])\n",
      "pool1: torch.Size([64, 10, 12, 12])\n",
      "start: torch.Size([64, 1, 28, 28])\n"
     ]
    },
    {
     "name": "stdout",
     "output_type": "stream",
     "text": [
      "conv1: torch.Size([64, 10, 24, 24])\n",
      "pool1: torch.Size([64, 10, 12, 12])\n",
      "start: torch.Size([64, 1, 28, 28])\n",
      "conv1: torch.Size([64, 10, 24, 24])\n",
      "pool1: torch.Size([64, 10, 12, 12])\n",
      "start: torch.Size([64, 1, 28, 28])\n",
      "conv1: torch.Size([64, 10, 24, 24])\n",
      "pool1: torch.Size([64, 10, 12, 12])\n",
      "start: torch.Size([64, 1, 28, 28])\n",
      "conv1: torch.Size([64, 10, 24, 24])\n",
      "pool1: torch.Size([64, 10, 12, 12])\n",
      "start: torch.Size([64, 1, 28, 28])\n",
      "conv1: torch.Size([64, 10, 24, 24])\n",
      "pool1: torch.Size([64, 10, 12, 12])\n",
      "start: torch.Size([64, 1, 28, 28])\n",
      "conv1: torch.Size([64, 10, 24, 24])\n",
      "pool1: torch.Size([64, 10, 12, 12])\n",
      "start: torch.Size([64, 1, 28, 28])\n",
      "conv1: torch.Size([64, 10, 24, 24])\n",
      "pool1: torch.Size([64, 10, 12, 12])\n",
      "start: torch.Size([64, 1, 28, 28])\n",
      "conv1: torch.Size([64, 10, 24, 24])\n",
      "pool1: torch.Size([64, 10, 12, 12])\n",
      "start: torch.Size([64, 1, 28, 28])\n",
      "conv1: torch.Size([64, 10, 24, 24])\n",
      "pool1: torch.Size([64, 10, 12, 12])\n",
      "start: torch.Size([64, 1, 28, 28])\n",
      "conv1: torch.Size([64, 10, 24, 24])\n",
      "pool1: torch.Size([64, 10, 12, 12])\n",
      "start: torch.Size([64, 1, 28, 28])\n",
      "conv1: torch.Size([64, 10, 24, 24])\n",
      "pool1: torch.Size([64, 10, 12, 12])\n",
      "start: torch.Size([64, 1, 28, 28])\n",
      "conv1: torch.Size([64, 10, 24, 24])\n",
      "pool1: torch.Size([64, 10, 12, 12])\n",
      "start: torch.Size([64, 1, 28, 28])\n",
      "conv1: torch.Size([64, 10, 24, 24])\n",
      "pool1: torch.Size([64, 10, 12, 12])\n",
      "start: torch.Size([64, 1, 28, 28])\n",
      "conv1: torch.Size([64, 10, 24, 24])\n",
      "pool1: torch.Size([64, 10, 12, 12])\n",
      "start: torch.Size([64, 1, 28, 28])\n",
      "conv1: torch.Size([64, 10, 24, 24])\n",
      "pool1: torch.Size([64, 10, 12, 12])\n",
      "start: torch.Size([64, 1, 28, 28])\n",
      "conv1: torch.Size([64, 10, 24, 24])\n",
      "pool1: torch.Size([64, 10, 12, 12])\n",
      "start: torch.Size([64, 1, 28, 28])\n",
      "conv1: torch.Size([64, 10, 24, 24])\n",
      "pool1: torch.Size([64, 10, 12, 12])\n",
      "start: torch.Size([64, 1, 28, 28])\n",
      "conv1: torch.Size([64, 10, 24, 24])\n",
      "pool1: torch.Size([64, 10, 12, 12])\n",
      "start: torch.Size([64, 1, 28, 28])\n",
      "conv1: torch.Size([64, 10, 24, 24])\n",
      "pool1: torch.Size([64, 10, 12, 12])\n",
      "start: torch.Size([64, 1, 28, 28])\n",
      "conv1: torch.Size([64, 10, 24, 24])\n",
      "pool1: torch.Size([64, 10, 12, 12])\n",
      "start: torch.Size([64, 1, 28, 28])\n",
      "conv1: torch.Size([64, 10, 24, 24])\n",
      "pool1: torch.Size([64, 10, 12, 12])\n",
      "start: torch.Size([64, 1, 28, 28])\n",
      "conv1: torch.Size([64, 10, 24, 24])\n",
      "pool1: torch.Size([64, 10, 12, 12])\n",
      "start: torch.Size([64, 1, 28, 28])\n",
      "conv1: torch.Size([64, 10, 24, 24])\n",
      "pool1: torch.Size([64, 10, 12, 12])\n",
      "start: torch.Size([64, 1, 28, 28])\n",
      "conv1: torch.Size([64, 10, 24, 24])\n",
      "pool1: torch.Size([64, 10, 12, 12])\n",
      "start: torch.Size([64, 1, 28, 28])\n",
      "conv1: torch.Size([64, 10, 24, 24])\n",
      "pool1: torch.Size([64, 10, 12, 12])\n",
      "start: torch.Size([64, 1, 28, 28])\n",
      "conv1: torch.Size([64, 10, 24, 24])\n",
      "pool1: torch.Size([64, 10, 12, 12])\n",
      "start: torch.Size([64, 1, 28, 28])\n",
      "conv1: torch.Size([64, 10, 24, 24])\n",
      "pool1: torch.Size([64, 10, 12, 12])\n",
      "start: torch.Size([64, 1, 28, 28])\n",
      "conv1: torch.Size([64, 10, 24, 24])\n",
      "pool1: torch.Size([64, 10, 12, 12])\n",
      "start: torch.Size([64, 1, 28, 28])\n",
      "conv1: torch.Size([64, 10, 24, 24])\n",
      "pool1: torch.Size([64, 10, 12, 12])\n",
      "start: torch.Size([64, 1, 28, 28])\n",
      "conv1: torch.Size([64, 10, 24, 24])\n",
      "pool1: torch.Size([64, 10, 12, 12])\n",
      "start: torch.Size([64, 1, 28, 28])\n",
      "conv1: torch.Size([64, 10, 24, 24])\n",
      "pool1: torch.Size([64, 10, 12, 12])\n",
      "start: torch.Size([64, 1, 28, 28])\n",
      "conv1: torch.Size([64, 10, 24, 24])\n",
      "pool1: torch.Size([64, 10, 12, 12])\n",
      "start: torch.Size([64, 1, 28, 28])\n",
      "conv1: torch.Size([64, 10, 24, 24])\n",
      "pool1: torch.Size([64, 10, 12, 12])\n",
      "start: torch.Size([64, 1, 28, 28])\n",
      "conv1: torch.Size([64, 10, 24, 24])\n",
      "pool1: torch.Size([64, 10, 12, 12])\n",
      "start: torch.Size([64, 1, 28, 28])\n",
      "conv1: torch.Size([64, 10, 24, 24])\n",
      "pool1: torch.Size([64, 10, 12, 12])\n",
      "start: torch.Size([64, 1, 28, 28])\n",
      "conv1: torch.Size([64, 10, 24, 24])\n",
      "pool1: torch.Size([64, 10, 12, 12])\n",
      "start: torch.Size([64, 1, 28, 28])\n",
      "conv1: torch.Size([64, 10, 24, 24])\n",
      "pool1: torch.Size([64, 10, 12, 12])\n",
      "start: torch.Size([64, 1, 28, 28])\n",
      "conv1: torch.Size([64, 10, 24, 24])\n",
      "pool1: torch.Size([64, 10, 12, 12])\n",
      "start: torch.Size([64, 1, 28, 28])\n",
      "conv1: torch.Size([64, 10, 24, 24])\n",
      "pool1: torch.Size([64, 10, 12, 12])\n",
      "start: torch.Size([64, 1, 28, 28])\n",
      "conv1: torch.Size([64, 10, 24, 24])\n",
      "pool1: torch.Size([64, 10, 12, 12])\n",
      "start: torch.Size([64, 1, 28, 28])\n",
      "conv1: torch.Size([64, 10, 24, 24])\n",
      "pool1: torch.Size([64, 10, 12, 12])\n",
      "start: torch.Size([64, 1, 28, 28])\n",
      "conv1: torch.Size([64, 10, 24, 24])\n",
      "pool1: torch.Size([64, 10, 12, 12])\n",
      "start: torch.Size([64, 1, 28, 28])\n",
      "conv1: torch.Size([64, 10, 24, 24])\n",
      "pool1: torch.Size([64, 10, 12, 12])\n",
      "start: torch.Size([64, 1, 28, 28])\n",
      "conv1: torch.Size([64, 10, 24, 24])\n",
      "pool1: torch.Size([64, 10, 12, 12])\n",
      "start: torch.Size([64, 1, 28, 28])\n",
      "conv1: torch.Size([64, 10, 24, 24])\n",
      "pool1: torch.Size([64, 10, 12, 12])\n",
      "start: torch.Size([64, 1, 28, 28])\n",
      "conv1: torch.Size([64, 10, 24, 24])\n",
      "pool1: torch.Size([64, 10, 12, 12])\n",
      "start: torch.Size([64, 1, 28, 28])\n",
      "conv1: torch.Size([64, 10, 24, 24])\n",
      "pool1: torch.Size([64, 10, 12, 12])\n",
      "start: torch.Size([64, 1, 28, 28])\n",
      "conv1: torch.Size([64, 10, 24, 24])\n",
      "pool1: torch.Size([64, 10, 12, 12])\n",
      "start: torch.Size([64, 1, 28, 28])\n",
      "conv1: torch.Size([64, 10, 24, 24])\n",
      "pool1: torch.Size([64, 10, 12, 12])\n",
      "start: torch.Size([64, 1, 28, 28])\n",
      "conv1: torch.Size([64, 10, 24, 24])\n",
      "pool1: torch.Size([64, 10, 12, 12])\n",
      "start: torch.Size([64, 1, 28, 28])\n",
      "conv1: torch.Size([64, 10, 24, 24])\n",
      "pool1: torch.Size([64, 10, 12, 12])\n",
      "start: torch.Size([64, 1, 28, 28])\n",
      "conv1: torch.Size([64, 10, 24, 24])\n",
      "pool1: torch.Size([64, 10, 12, 12])\n",
      "start: torch.Size([64, 1, 28, 28])\n",
      "conv1: torch.Size([64, 10, 24, 24])\n",
      "pool1: torch.Size([64, 10, 12, 12])\n",
      "start: torch.Size([64, 1, 28, 28])\n",
      "conv1: torch.Size([64, 10, 24, 24])\n",
      "pool1: torch.Size([64, 10, 12, 12])\n",
      "start: torch.Size([64, 1, 28, 28])\n",
      "conv1: torch.Size([64, 10, 24, 24])\n",
      "pool1: torch.Size([64, 10, 12, 12])\n",
      "start: torch.Size([64, 1, 28, 28])\n",
      "conv1: torch.Size([64, 10, 24, 24])\n",
      "pool1: torch.Size([64, 10, 12, 12])\n",
      "start: torch.Size([64, 1, 28, 28])\n",
      "conv1: torch.Size([64, 10, 24, 24])\n",
      "pool1: torch.Size([64, 10, 12, 12])\n",
      "start: torch.Size([64, 1, 28, 28])\n",
      "conv1: torch.Size([64, 10, 24, 24])\n",
      "pool1: torch.Size([64, 10, 12, 12])\n",
      "start: torch.Size([64, 1, 28, 28])\n",
      "conv1: torch.Size([64, 10, 24, 24])\n",
      "pool1: torch.Size([64, 10, 12, 12])\n",
      "start: torch.Size([64, 1, 28, 28])\n",
      "conv1: torch.Size([64, 10, 24, 24])\n",
      "pool1: torch.Size([64, 10, 12, 12])\n",
      "start: torch.Size([64, 1, 28, 28])\n",
      "conv1: torch.Size([64, 10, 24, 24])\n",
      "pool1: torch.Size([64, 10, 12, 12])\n",
      "start: torch.Size([64, 1, 28, 28])\n",
      "conv1: torch.Size([64, 10, 24, 24])\n",
      "pool1: torch.Size([64, 10, 12, 12])\n",
      "start: torch.Size([64, 1, 28, 28])\n",
      "conv1: torch.Size([64, 10, 24, 24])\n",
      "pool1: torch.Size([64, 10, 12, 12])\n",
      "start: torch.Size([64, 1, 28, 28])\n",
      "conv1: torch.Size([64, 10, 24, 24])\n",
      "pool1: torch.Size([64, 10, 12, 12])\n",
      "start: torch.Size([64, 1, 28, 28])\n",
      "conv1: torch.Size([64, 10, 24, 24])\n",
      "pool1: torch.Size([64, 10, 12, 12])\n",
      "start: torch.Size([64, 1, 28, 28])\n",
      "conv1: torch.Size([64, 10, 24, 24])\n",
      "pool1: torch.Size([64, 10, 12, 12])\n",
      "start: torch.Size([64, 1, 28, 28])\n",
      "conv1: torch.Size([64, 10, 24, 24])\n",
      "pool1: torch.Size([64, 10, 12, 12])\n",
      "start: torch.Size([64, 1, 28, 28])\n",
      "conv1: torch.Size([64, 10, 24, 24])\n",
      "pool1: torch.Size([64, 10, 12, 12])\n",
      "start: torch.Size([64, 1, 28, 28])\n",
      "conv1: torch.Size([64, 10, 24, 24])\n",
      "pool1: torch.Size([64, 10, 12, 12])\n",
      "start: torch.Size([64, 1, 28, 28])\n",
      "conv1: torch.Size([64, 10, 24, 24])\n",
      "pool1: torch.Size([64, 10, 12, 12])\n",
      "start: torch.Size([64, 1, 28, 28])\n",
      "conv1: torch.Size([64, 10, 24, 24])\n",
      "pool1: torch.Size([64, 10, 12, 12])\n",
      "start: torch.Size([64, 1, 28, 28])\n",
      "conv1: torch.Size([64, 10, 24, 24])\n",
      "pool1: torch.Size([64, 10, 12, 12])\n",
      "start: torch.Size([64, 1, 28, 28])\n",
      "conv1: torch.Size([64, 10, 24, 24])\n",
      "pool1: torch.Size([64, 10, 12, 12])\n",
      "start: torch.Size([64, 1, 28, 28])\n",
      "conv1: torch.Size([64, 10, 24, 24])\n",
      "pool1: torch.Size([64, 10, 12, 12])\n",
      "start: torch.Size([64, 1, 28, 28])\n",
      "conv1: torch.Size([64, 10, 24, 24])\n",
      "pool1: torch.Size([64, 10, 12, 12])\n",
      "start: torch.Size([64, 1, 28, 28])\n",
      "conv1: torch.Size([64, 10, 24, 24])\n",
      "pool1: torch.Size([64, 10, 12, 12])\n",
      "start: torch.Size([64, 1, 28, 28])\n",
      "conv1: torch.Size([64, 10, 24, 24])\n",
      "pool1: torch.Size([64, 10, 12, 12])\n",
      "start: torch.Size([64, 1, 28, 28])\n",
      "conv1: torch.Size([64, 10, 24, 24])\n",
      "pool1: torch.Size([64, 10, 12, 12])\n",
      "start: torch.Size([64, 1, 28, 28])\n",
      "conv1: torch.Size([64, 10, 24, 24])\n",
      "pool1: torch.Size([64, 10, 12, 12])\n",
      "start: torch.Size([16, 1, 28, 28])\n"
     ]
    },
    {
     "name": "stdout",
     "output_type": "stream",
     "text": [
      "conv1: torch.Size([16, 10, 24, 24])\n",
      "pool1: torch.Size([16, 10, 12, 12])\n",
      "average loss:  0.07428666372932494\n",
      "accuracy:  97 %\n"
     ]
    },
    {
     "name": "stderr",
     "output_type": "stream",
     "text": [
      "Epoch 4:   0%|▏                                          | 3/938 [00:00<00:33, 28.11batch/s, accuracy=96.9, loss=0.178]"
     ]
    },
    {
     "name": "stdout",
     "output_type": "stream",
     "text": [
      "start: torch.Size([64, 1, 28, 28])\n",
      "conv1: torch.Size([64, 10, 24, 24])\n",
      "pool1: torch.Size([64, 10, 12, 12])\n",
      "start: torch.Size([64, 1, 28, 28])\n",
      "conv1: torch.Size([64, 10, 24, 24])\n",
      "pool1: torch.Size([64, 10, 12, 12])\n",
      "start: torch.Size([64, 1, 28, 28])\n",
      "conv1: torch.Size([64, 10, 24, 24])\n",
      "pool1: torch.Size([64, 10, 12, 12])\n",
      "start: torch.Size([64, 1, 28, 28])\n",
      "conv1: torch.Size([64, 10, 24, 24])\n",
      "pool1: torch.Size([64, 10, 12, 12])\n",
      "start: torch.Size([64, 1, 28, 28])\n",
      "conv1: torch.Size([64, 10, 24, 24])\n",
      "pool1: torch.Size([64, 10, 12, 12])\n",
      "start: torch.Size([64, 1, 28, 28])"
     ]
    },
    {
     "name": "stderr",
     "output_type": "stream",
     "text": [
      "Epoch 4:   1%|▍                                          | 9/938 [00:00<00:33, 27.36batch/s, accuracy=92.2, loss=0.297]"
     ]
    },
    {
     "name": "stdout",
     "output_type": "stream",
     "text": [
      "\n",
      "conv1: torch.Size([64, 10, 24, 24])\n",
      "pool1: torch.Size([64, 10, 12, 12])\n",
      "start: torch.Size([64, 1, 28, 28])\n",
      "conv1: torch.Size([64, 10, 24, 24])\n",
      "pool1: torch.Size([64, 10, 12, 12])\n",
      "start: torch.Size([64, 1, 28, 28])\n",
      "conv1: torch.Size([64, 10, 24, 24])\n",
      "pool1: torch.Size([64, 10, 12, 12])\n",
      "start: torch.Size([64, 1, 28, 28])\n",
      "conv1: torch.Size([64, 10, 24, 24])\n",
      "pool1: torch.Size([64, 10, 12, 12])\n",
      "start: torch.Size([64, 1, 28, 28])\n",
      "conv1: torch.Size([64, 10, 24, 24])\n",
      "pool1: torch.Size([64, 10, 12, 12])\n",
      "start: torch.Size([64, 1, 28, 28])\n"
     ]
    },
    {
     "name": "stderr",
     "output_type": "stream",
     "text": [
      "Epoch 4:   2%|▋                                         | 15/938 [00:00<00:34, 26.64batch/s, accuracy=96.9, loss=0.131]"
     ]
    },
    {
     "name": "stdout",
     "output_type": "stream",
     "text": [
      "conv1: torch.Size([64, 10, 24, 24])\n",
      "pool1: torch.Size([64, 10, 12, 12])\n",
      "start: torch.Size([64, 1, 28, 28])\n",
      "conv1: torch.Size([64, 10, 24, 24])\n",
      "pool1: torch.Size([64, 10, 12, 12])\n",
      "start: torch.Size([64, 1, 28, 28])\n",
      "conv1: torch.Size([64, 10, 24, 24])\n",
      "pool1: torch.Size([64, 10, 12, 12])\n",
      "start: torch.Size([64, 1, 28, 28])\n",
      "conv1: torch.Size([64, 10, 24, 24])\n",
      "pool1: torch.Size([64, 10, 12, 12])\n",
      "start: torch.Size([64, 1, 28, 28])\n",
      "conv1: torch.Size([64, 10, 24, 24])\n",
      "pool1: torch.Size([64, 10, 12, 12])\n",
      "start: torch.Size([64, 1, 28, 28])\n"
     ]
    },
    {
     "name": "stderr",
     "output_type": "stream",
     "text": [
      "Epoch 4:   2%|▊                                          | 18/938 [00:00<00:34, 26.31batch/s, accuracy=98.4, loss=0.06]"
     ]
    },
    {
     "name": "stdout",
     "output_type": "stream",
     "text": [
      "conv1: torch.Size([64, 10, 24, 24])\n",
      "pool1: torch.Size([64, 10, 12, 12])\n",
      "start: torch.Size([64, 1, 28, 28])\n",
      "conv1: torch.Size([64, 10, 24, 24])\n",
      "pool1: torch.Size([64, 10, 12, 12])\n",
      "start: torch.Size([64, 1, 28, 28])\n",
      "conv1: torch.Size([64, 10, 24, 24])\n",
      "pool1: torch.Size([64, 10, 12, 12])\n",
      "start: torch.Size([64, 1, 28, 28])\n",
      "conv1: torch.Size([64, 10, 24, 24])\n",
      "pool1: torch.Size([64, 10, 12, 12])\n",
      "start: torch.Size([64, 1, 28, 28])\n",
      "conv1: torch.Size([64, 10, 24, 24])\n",
      "pool1: torch.Size([64, 10, 12, 12])\n",
      "start: torch.Size([64, 1, 28, 28])\n"
     ]
    },
    {
     "name": "stderr",
     "output_type": "stream",
     "text": [
      "Epoch 4:   3%|█                                         | 24/938 [00:00<00:33, 27.11batch/s, accuracy=92.2, loss=0.179]"
     ]
    },
    {
     "name": "stdout",
     "output_type": "stream",
     "text": [
      "conv1: torch.Size([64, 10, 24, 24])\n",
      "pool1: torch.Size([64, 10, 12, 12])\n",
      "start: torch.Size([64, 1, 28, 28])\n",
      "conv1: torch.Size([64, 10, 24, 24])\n",
      "pool1: torch.Size([64, 10, 12, 12])\n",
      "start: torch.Size([64, 1, 28, 28])\n",
      "conv1: torch.Size([64, 10, 24, 24])\n",
      "pool1: torch.Size([64, 10, 12, 12])\n",
      "start: torch.Size([64, 1, 28, 28])\n",
      "conv1: torch.Size([64, 10, 24, 24])\n",
      "pool1: torch.Size([64, 10, 12, 12])\n",
      "start: torch.Size([64, 1, 28, 28])\n",
      "conv1: torch.Size([64, 10, 24, 24])\n",
      "pool1: torch.Size([64, 10, 12, 12])\n",
      "start: torch.Size([64, 1, 28, 28])\n"
     ]
    },
    {
     "name": "stderr",
     "output_type": "stream",
     "text": [
      "Epoch 4:   3%|█▎                                        | 30/938 [00:01<00:35, 25.36batch/s, accuracy=98.4, loss=0.197]"
     ]
    },
    {
     "name": "stdout",
     "output_type": "stream",
     "text": [
      "conv1: torch.Size([64, 10, 24, 24])\n",
      "pool1: torch.Size([64, 10, 12, 12])\n",
      "start: torch.Size([64, 1, 28, 28])\n",
      "conv1: torch.Size([64, 10, 24, 24])\n",
      "pool1: torch.Size([64, 10, 12, 12])\n",
      "start: torch.Size([64, 1, 28, 28])\n",
      "conv1: torch.Size([64, 10, 24, 24])\n",
      "pool1: torch.Size([64, 10, 12, 12])\n",
      "start: torch.Size([64, 1, 28, 28])\n",
      "conv1: torch.Size([64, 10, 24, 24])\n",
      "pool1: torch.Size([64, 10, 12, 12])\n",
      "start: torch.Size([64, 1, 28, 28])\n",
      "conv1: torch.Size([64, 10, 24, 24])\n",
      "pool1: torch.Size([64, 10, 12, 12])\n",
      "start: torch.Size([64, 1, 28, 28])\n"
     ]
    },
    {
     "name": "stderr",
     "output_type": "stream",
     "text": [
      "Epoch 4:   4%|█▌                                         | 33/938 [00:01<00:34, 26.14batch/s, accuracy=90.6, loss=0.35]"
     ]
    },
    {
     "name": "stdout",
     "output_type": "stream",
     "text": [
      "conv1: torch.Size([64, 10, 24, 24])\n",
      "pool1: torch.Size([64, 10, 12, 12])\n",
      "start: torch.Size([64, 1, 28, 28])\n",
      "conv1: torch.Size([64, 10, 24, 24])\n",
      "pool1: torch.Size([64, 10, 12, 12])\n",
      "start: torch.Size([64, 1, 28, 28])\n",
      "conv1: torch.Size([64, 10, 24, 24])\n",
      "pool1: torch.Size([64, 10, 12, 12])\n",
      "start: torch.Size([64, 1, 28, 28])\n",
      "conv1: torch.Size([64, 10, 24, 24])\n",
      "pool1: torch.Size([64, 10, 12, 12])\n",
      "start: torch.Size([64, 1, 28, 28])\n",
      "conv1: torch.Size([64, 10, 24, 24])\n",
      "pool1: torch.Size([64, 10, 12, 12])\n",
      "start: torch.Size([64, 1, 28, 28])\n",
      "conv1: torch.Size([64, 10, 24, 24])\n",
      "pool1: torch.Size([64, 10, 12, 12])\n",
      "start: torch.Size([64, 1, 28, 28])\n"
     ]
    },
    {
     "name": "stderr",
     "output_type": "stream",
     "text": [
      "Epoch 4:   4%|█▊                                        | 41/938 [00:01<00:32, 27.45batch/s, accuracy=93.8, loss=0.178]"
     ]
    },
    {
     "name": "stdout",
     "output_type": "stream",
     "text": [
      "conv1: torch.Size([64, 10, 24, 24])\n",
      "pool1: torch.Size([64, 10, 12, 12])\n",
      "start: torch.Size([64, 1, 28, 28])\n",
      "conv1: torch.Size([64, 10, 24, 24])\n",
      "pool1: torch.Size([64, 10, 12, 12])\n",
      "start: torch.Size([64, 1, 28, 28])\n",
      "conv1: torch.Size([64, 10, 24, 24])\n",
      "pool1: torch.Size([64, 10, 12, 12])\n",
      "start: torch.Size([64, 1, 28, 28])\n",
      "conv1: torch.Size([64, 10, 24, 24])\n",
      "pool1: torch.Size([64, 10, 12, 12])\n",
      "start: torch.Size([64, 1, 28, 28])\n",
      "conv1: torch.Size([64, 10, 24, 24])\n",
      "pool1: torch.Size([64, 10, 12, 12])\n",
      "start: torch.Size([64, 1, 28, 28])\n",
      "conv1: torch.Size([64, 10, 24, 24])\n",
      "pool1: torch.Size([64, 10, 12, 12])\n"
     ]
    },
    {
     "name": "stderr",
     "output_type": "stream",
     "text": [
      "Epoch 4:   5%|██                                        | 47/938 [00:01<00:32, 27.30batch/s, accuracy=96.9, loss=0.212]"
     ]
    },
    {
     "name": "stdout",
     "output_type": "stream",
     "text": [
      "start: torch.Size([64, 1, 28, 28])\n",
      "conv1: torch.Size([64, 10, 24, 24])\n",
      "pool1: torch.Size([64, 10, 12, 12])\n",
      "start: torch.Size([64, 1, 28, 28])\n",
      "conv1: torch.Size([64, 10, 24, 24])\n",
      "pool1: torch.Size([64, 10, 12, 12])\n",
      "start: torch.Size([64, 1, 28, 28])\n",
      "conv1: torch.Size([64, 10, 24, 24])\n",
      "pool1: torch.Size([64, 10, 12, 12])\n",
      "start: torch.Size([64, 1, 28, 28])\n",
      "conv1: torch.Size([64, 10, 24, 24])\n",
      "pool1: torch.Size([64, 10, 12, 12])\n",
      "start: torch.Size([64, 1, 28, 28])\n",
      "conv1: torch.Size([64, 10, 24, 24])\n",
      "pool1: torch.Size([64, 10, 12, 12])\n",
      "start: torch.Size([64, 1, 28, 28])\n",
      "conv1: torch.Size([64, 10, 24, 24])\n",
      "pool1: torch.Size([64, 10, 12, 12])\n"
     ]
    },
    {
     "name": "stderr",
     "output_type": "stream",
     "text": [
      "Epoch 4:   6%|██▎                                      | 53/938 [00:01<00:31, 27.82batch/s, accuracy=96.9, loss=0.0704]"
     ]
    },
    {
     "name": "stdout",
     "output_type": "stream",
     "text": [
      "start: torch.Size([64, 1, 28, 28])\n",
      "conv1: torch.Size([64, 10, 24, 24])\n",
      "pool1: torch.Size([64, 10, 12, 12])\n",
      "start: torch.Size([64, 1, 28, 28])\n",
      "conv1: torch.Size([64, 10, 24, 24])\n",
      "pool1: torch.Size([64, 10, 12, 12])\n",
      "start: torch.Size([64, 1, 28, 28])\n",
      "conv1: torch.Size([64, 10, 24, 24])\n",
      "pool1: torch.Size([64, 10, 12, 12])\n",
      "start: torch.Size([64, 1, 28, 28])\n",
      "conv1: torch.Size([64, 10, 24, 24])\n",
      "pool1: torch.Size([64, 10, 12, 12])\n",
      "start: torch.Size([64, 1, 28, 28])\n",
      "conv1: torch.Size([64, 10, 24, 24])\n",
      "pool1: torch.Size([64, 10, 12, 12])\n",
      "start: torch.Size([64, 1, 28, 28])\n",
      "conv1: torch.Size([64, 10, 24, 24])\n",
      "pool1: torch.Size([64, 10, 12, 12])\n"
     ]
    },
    {
     "name": "stderr",
     "output_type": "stream",
     "text": [
      "Epoch 4:   6%|██▌                                       | 56/938 [00:02<00:33, 26.54batch/s, accuracy=95.3, loss=0.299]"
     ]
    },
    {
     "name": "stdout",
     "output_type": "stream",
     "text": [
      "start: torch.Size([64, 1, 28, 28])\n",
      "conv1: torch.Size([64, 10, 24, 24])\n",
      "pool1: torch.Size([64, 10, 12, 12])\n",
      "start: torch.Size([64, 1, 28, 28])\n",
      "conv1: torch.Size([64, 10, 24, 24])\n",
      "pool1: torch.Size([64, 10, 12, 12])\n",
      "start: torch.Size([64, 1, 28, 28])\n",
      "conv1: torch.Size([64, 10, 24, 24])\n",
      "pool1: torch.Size([64, 10, 12, 12])\n",
      "start: torch.Size([64, 1, 28, 28])\n",
      "conv1: torch.Size([64, 10, 24, 24])\n",
      "pool1: torch.Size([64, 10, 12, 12])\n",
      "start: torch.Size([64, 1, 28, 28])\n",
      "conv1: torch.Size([64, 10, 24, 24])\n",
      "pool1: torch.Size([64, 10, 12, 12])\n"
     ]
    },
    {
     "name": "stderr",
     "output_type": "stream",
     "text": [
      "Epoch 4:   7%|██▊                                       | 63/938 [00:02<00:32, 27.22batch/s, accuracy=92.2, loss=0.494]"
     ]
    },
    {
     "name": "stdout",
     "output_type": "stream",
     "text": [
      "start: torch.Size([64, 1, 28, 28])\n",
      "conv1: torch.Size([64, 10, 24, 24])\n",
      "pool1: torch.Size([64, 10, 12, 12])\n",
      "start: torch.Size([64, 1, 28, 28])\n",
      "conv1: torch.Size([64, 10, 24, 24])\n",
      "pool1: torch.Size([64, 10, 12, 12])\n",
      "start: torch.Size([64, 1, 28, 28])\n",
      "conv1: torch.Size([64, 10, 24, 24])\n",
      "pool1: torch.Size([64, 10, 12, 12])\n",
      "start: torch.Size([64, 1, 28, 28])\n",
      "conv1: torch.Size([64, 10, 24, 24])\n",
      "pool1: torch.Size([64, 10, 12, 12])\n",
      "start: torch.Size([64, 1, 28, 28])\n",
      "conv1: torch.Size([64, 10, 24, 24])\n",
      "pool1: torch.Size([64, 10, 12, 12])\n",
      "start: torch.Size([64, 1, 28, 28])\n",
      "conv1: torch.Size([64, 10, 24, 24])\n",
      "pool1: torch.Size([64, 10, 12, 12])\n"
     ]
    },
    {
     "name": "stderr",
     "output_type": "stream",
     "text": [
      "Epoch 4:   7%|███                                       | 69/938 [00:02<00:31, 27.56batch/s, accuracy=90.6, loss=0.306]"
     ]
    },
    {
     "name": "stdout",
     "output_type": "stream",
     "text": [
      "start: torch.Size([64, 1, 28, 28])\n",
      "conv1: torch.Size([64, 10, 24, 24])\n",
      "pool1: torch.Size([64, 10, 12, 12])\n",
      "start: torch.Size([64, 1, 28, 28])\n",
      "conv1: torch.Size([64, 10, 24, 24])\n",
      "pool1: torch.Size([64, 10, 12, 12])\n",
      "start: torch.Size([64, 1, 28, 28])\n",
      "conv1: torch.Size([64, 10, 24, 24])\n",
      "pool1: torch.Size([64, 10, 12, 12])\n",
      "start: torch.Size([64, 1, 28, 28])\n",
      "conv1: torch.Size([64, 10, 24, 24])\n",
      "pool1: torch.Size([64, 10, 12, 12])\n",
      "start: torch.Size([64, 1, 28, 28])\n",
      "conv1: torch.Size([64, 10, 24, 24])\n",
      "pool1: torch.Size([64, 10, 12, 12])\n",
      "start: torch.Size([64, 1, 28, 28])\n"
     ]
    },
    {
     "name": "stderr",
     "output_type": "stream",
     "text": [
      "Epoch 4:   8%|███▎                                      | 75/938 [00:02<00:31, 27.06batch/s, accuracy=96.9, loss=0.199]"
     ]
    },
    {
     "name": "stdout",
     "output_type": "stream",
     "text": [
      "conv1: torch.Size([64, 10, 24, 24])\n",
      "pool1: torch.Size([64, 10, 12, 12])\n",
      "start: torch.Size([64, 1, 28, 28])\n",
      "conv1: torch.Size([64, 10, 24, 24])\n",
      "pool1: torch.Size([64, 10, 12, 12])\n",
      "start: torch.Size([64, 1, 28, 28])\n",
      "conv1: torch.Size([64, 10, 24, 24])\n",
      "pool1: torch.Size([64, 10, 12, 12])\n",
      "start: torch.Size([64, 1, 28, 28])\n",
      "conv1: torch.Size([64, 10, 24, 24])\n",
      "pool1: torch.Size([64, 10, 12, 12])\n",
      "start: torch.Size([64, 1, 28, 28])\n",
      "conv1: torch.Size([64, 10, 24, 24])\n",
      "pool1: torch.Size([64, 10, 12, 12])\n",
      "start: torch.Size([64, 1, 28, 28])\n"
     ]
    },
    {
     "name": "stderr",
     "output_type": "stream",
     "text": [
      "Epoch 4:   8%|███▍                                      | 78/938 [00:02<00:32, 26.31batch/s, accuracy=93.8, loss=0.163]"
     ]
    },
    {
     "name": "stdout",
     "output_type": "stream",
     "text": [
      "conv1: torch.Size([64, 10, 24, 24])\n",
      "pool1: torch.Size([64, 10, 12, 12])\n",
      "start: torch.Size([64, 1, 28, 28])\n",
      "conv1: torch.Size([64, 10, 24, 24])\n",
      "pool1: torch.Size([64, 10, 12, 12])\n",
      "start: torch.Size([64, 1, 28, 28])\n",
      "conv1: torch.Size([64, 10, 24, 24])\n",
      "pool1: torch.Size([64, 10, 12, 12])\n",
      "start: torch.Size([64, 1, 28, 28])\n",
      "conv1: torch.Size([64, 10, 24, 24])\n",
      "pool1: torch.Size([64, 10, 12, 12])\n",
      "start: torch.Size([64, 1, 28, 28])\n",
      "conv1: torch.Size([64, 10, 24, 24])\n",
      "pool1: torch.Size([64, 10, 12, 12])\n",
      "start: torch.Size([64, 1, 28, 28])\n"
     ]
    },
    {
     "name": "stderr",
     "output_type": "stream",
     "text": [
      "Epoch 4:   9%|███▋                                     | 84/938 [00:03<00:32, 26.48batch/s, accuracy=98.4, loss=0.0326]"
     ]
    },
    {
     "name": "stdout",
     "output_type": "stream",
     "text": [
      "conv1: torch.Size([64, 10, 24, 24])\n",
      "pool1: torch.Size([64, 10, 12, 12])\n",
      "start: torch.Size([64, 1, 28, 28])\n",
      "conv1: torch.Size([64, 10, 24, 24])\n",
      "pool1: torch.Size([64, 10, 12, 12])\n",
      "start: torch.Size([64, 1, 28, 28])\n",
      "conv1: torch.Size([64, 10, 24, 24])\n",
      "pool1: torch.Size([64, 10, 12, 12])\n",
      "start: torch.Size([64, 1, 28, 28])\n",
      "conv1: torch.Size([64, 10, 24, 24])\n",
      "pool1: torch.Size([64, 10, 12, 12])\n",
      "start: torch.Size([64, 1, 28, 28])\n",
      "conv1: torch.Size([64, 10, 24, 24])\n",
      "pool1: torch.Size([64, 10, 12, 12])\n",
      "start: torch.Size([64, 1, 28, 28])\n",
      "conv1: torch.Size([64, 10, 24, 24])\n",
      "pool1: torch.Size([64, 10, 12, 12])\n"
     ]
    },
    {
     "name": "stderr",
     "output_type": "stream",
     "text": [
      "Epoch 4:  10%|████                                      | 90/938 [00:03<00:31, 26.97batch/s, accuracy=93.8, loss=0.362]"
     ]
    },
    {
     "name": "stdout",
     "output_type": "stream",
     "text": [
      "start: torch.Size([64, 1, 28, 28])\n",
      "conv1: torch.Size([64, 10, 24, 24])\n",
      "pool1: torch.Size([64, 10, 12, 12])\n",
      "start: torch.Size([64, 1, 28, 28])\n",
      "conv1: torch.Size([64, 10, 24, 24])\n",
      "pool1: torch.Size([64, 10, 12, 12])\n",
      "start: torch.Size([64, 1, 28, 28])\n",
      "conv1: torch.Size([64, 10, 24, 24])\n",
      "pool1: torch.Size([64, 10, 12, 12])\n",
      "start: torch.Size([64, 1, 28, 28])\n",
      "conv1: torch.Size([64, 10, 24, 24])\n",
      "pool1: torch.Size([64, 10, 12, 12])\n",
      "start: torch.Size([64, 1, 28, 28])\n",
      "conv1: torch.Size([64, 10, 24, 24])\n",
      "pool1: torch.Size([64, 10, 12, 12])\n",
      "start: torch.Size([64, 1, 28, 28])\n"
     ]
    },
    {
     "name": "stderr",
     "output_type": "stream",
     "text": [
      "Epoch 4:  10%|████▏                                     | 94/938 [00:03<00:30, 28.04batch/s, accuracy=92.2, loss=0.244]"
     ]
    },
    {
     "name": "stdout",
     "output_type": "stream",
     "text": [
      "conv1: torch.Size([64, 10, 24, 24])\n",
      "pool1: torch.Size([64, 10, 12, 12])\n",
      "start: torch.Size([64, 1, 28, 28])\n",
      "conv1: torch.Size([64, 10, 24, 24])\n",
      "pool1: torch.Size([64, 10, 12, 12])\n",
      "start: torch.Size([64, 1, 28, 28])\n",
      "conv1: torch.Size([64, 10, 24, 24])\n",
      "pool1: torch.Size([64, 10, 12, 12])\n",
      "start: torch.Size([64, 1, 28, 28])\n",
      "conv1: torch.Size([64, 10, 24, 24])\n",
      "pool1: torch.Size([64, 10, 12, 12])\n",
      "start: torch.Size([64, 1, 28, 28])\n",
      "conv1: torch.Size([64, 10, 24, 24])\n",
      "pool1: torch.Size([64, 10, 12, 12])\n",
      "start: torch.Size([64, 1, 28, 28])\n",
      "conv1: torch.Size([64, 10, 24, 24])\n"
     ]
    },
    {
     "name": "stderr",
     "output_type": "stream",
     "text": [
      "Epoch 4:  11%|████▎                                    | 100/938 [00:03<00:31, 26.97batch/s, accuracy=89.1, loss=0.272]"
     ]
    },
    {
     "name": "stdout",
     "output_type": "stream",
     "text": [
      "pool1: torch.Size([64, 10, 12, 12])\n",
      "start: torch.Size([64, 1, 28, 28])\n",
      "conv1: torch.Size([64, 10, 24, 24])\n",
      "pool1: torch.Size([64, 10, 12, 12])\n",
      "start: torch.Size([64, 1, 28, 28])\n",
      "conv1: torch.Size([64, 10, 24, 24])\n",
      "pool1: torch.Size([64, 10, 12, 12])\n",
      "start: torch.Size([64, 1, 28, 28])\n",
      "conv1: torch.Size([64, 10, 24, 24])\n",
      "pool1: torch.Size([64, 10, 12, 12])\n",
      "start: torch.Size([64, 1, 28, 28])\n",
      "conv1: torch.Size([64, 10, 24, 24])\n",
      "pool1: torch.Size([64, 10, 12, 12])\n",
      "start: torch.Size([64, 1, 28, 28])\n"
     ]
    },
    {
     "name": "stderr",
     "output_type": "stream",
     "text": [
      "Epoch 4:  11%|████▌                                   | 106/938 [00:03<00:30, 27.27batch/s, accuracy=98.4, loss=0.0954]"
     ]
    },
    {
     "name": "stdout",
     "output_type": "stream",
     "text": [
      "conv1: torch.Size([64, 10, 24, 24])\n",
      "pool1: torch.Size([64, 10, 12, 12])\n",
      "start: torch.Size([64, 1, 28, 28])\n",
      "conv1: torch.Size([64, 10, 24, 24])\n",
      "pool1: torch.Size([64, 10, 12, 12])\n",
      "start: torch.Size([64, 1, 28, 28])\n",
      "conv1: torch.Size([64, 10, 24, 24])\n",
      "pool1: torch.Size([64, 10, 12, 12])\n",
      "start: torch.Size([64, 1, 28, 28])\n",
      "conv1: torch.Size([64, 10, 24, 24])\n",
      "pool1: torch.Size([64, 10, 12, 12])\n",
      "start: torch.Size([64, 1, 28, 28])\n",
      "conv1: torch.Size([64, 10, 24, 24])\n",
      "pool1: torch.Size([64, 10, 12, 12])\n",
      "start: torch.Size([64, 1, 28, 28])\n",
      "conv1: torch.Size([64, 10, 24, 24])\n",
      "pool1: torch.Size([64, 10, 12, 12])\n"
     ]
    },
    {
     "name": "stderr",
     "output_type": "stream",
     "text": [
      "Epoch 4:  12%|████▉                                    | 112/938 [00:04<00:30, 27.18batch/s, accuracy=93.8, loss=0.369]"
     ]
    },
    {
     "name": "stdout",
     "output_type": "stream",
     "text": [
      "start: torch.Size([64, 1, 28, 28])\n",
      "conv1: torch.Size([64, 10, 24, 24])\n",
      "pool1: torch.Size([64, 10, 12, 12])\n",
      "start: torch.Size([64, 1, 28, 28])\n",
      "conv1: torch.Size([64, 10, 24, 24])\n",
      "pool1: torch.Size([64, 10, 12, 12])\n",
      "start: torch.Size([64, 1, 28, 28])\n",
      "conv1: torch.Size([64, 10, 24, 24])\n",
      "pool1: torch.Size([64, 10, 12, 12])\n",
      "start: torch.Size([64, 1, 28, 28])\n",
      "conv1: torch.Size([64, 10, 24, 24])\n",
      "pool1: torch.Size([64, 10, 12, 12])\n",
      "start: torch.Size([64, 1, 28, 28])\n",
      "conv1: torch.Size([64, 10, 24, 24])\n",
      "pool1: torch.Size([64, 10, 12, 12])\n",
      "start: torch.Size([64, 1, 28, 28])\n"
     ]
    },
    {
     "name": "stderr",
     "output_type": "stream",
     "text": [
      "Epoch 4:  12%|█████                                    | 115/938 [00:04<00:30, 26.80batch/s, accuracy=92.2, loss=0.194]"
     ]
    },
    {
     "name": "stdout",
     "output_type": "stream",
     "text": [
      "conv1: torch.Size([64, 10, 24, 24])\n",
      "pool1: torch.Size([64, 10, 12, 12])\n",
      "start: torch.Size([64, 1, 28, 28])\n",
      "conv1: torch.Size([64, 10, 24, 24])\n",
      "pool1: torch.Size([64, 10, 12, 12])\n",
      "start: torch.Size([64, 1, 28, 28])\n",
      "conv1: torch.Size([64, 10, 24, 24])\n",
      "pool1: torch.Size([64, 10, 12, 12])\n",
      "start: torch.Size([64, 1, 28, 28])\n",
      "conv1: torch.Size([64, 10, 24, 24])\n",
      "pool1: torch.Size([64, 10, 12, 12])\n",
      "start: torch.Size([64, 1, 28, 28])\n",
      "conv1: torch.Size([64, 10, 24, 24])\n",
      "pool1: torch.Size([64, 10, 12, 12])\n",
      "start: torch.Size([64, 1, 28, 28])\n",
      "conv1: torch.Size([64, 10, 24, 24])\n",
      "pool1: torch.Size([64, 10, 12, 12])\n"
     ]
    },
    {
     "name": "stderr",
     "output_type": "stream",
     "text": [
      "Epoch 4:  13%|█████▏                                  | 122/938 [00:04<00:30, 26.87batch/s, accuracy=96.9, loss=0.0967]"
     ]
    },
    {
     "name": "stdout",
     "output_type": "stream",
     "text": [
      "start: torch.Size([64, 1, 28, 28])\n",
      "conv1: torch.Size([64, 10, 24, 24])\n",
      "pool1: torch.Size([64, 10, 12, 12])\n",
      "start: torch.Size([64, 1, 28, 28])\n",
      "conv1: torch.Size([64, 10, 24, 24])\n",
      "pool1: torch.Size([64, 10, 12, 12])\n",
      "start: torch.Size([64, 1, 28, 28])\n",
      "conv1: torch.Size([64, 10, 24, 24])\n",
      "pool1: torch.Size([64, 10, 12, 12])\n",
      "start: torch.Size([64, 1, 28, 28])\n",
      "conv1: torch.Size([64, 10, 24, 24])\n",
      "pool1: torch.Size([64, 10, 12, 12])\n",
      "start: torch.Size([64, 1, 28, 28])\n",
      "conv1: torch.Size([64, 10, 24, 24])\n",
      "pool1: torch.Size([64, 10, 12, 12])\n",
      "start: torch.Size([64, 1, 28, 28])\n"
     ]
    },
    {
     "name": "stderr",
     "output_type": "stream",
     "text": [
      "Epoch 4:  14%|█████▍                                  | 128/938 [00:04<00:31, 25.87batch/s, accuracy=95.3, loss=0.0984]"
     ]
    },
    {
     "name": "stdout",
     "output_type": "stream",
     "text": [
      "conv1: torch.Size([64, 10, 24, 24])\n",
      "pool1: torch.Size([64, 10, 12, 12])\n",
      "start: torch.Size([64, 1, 28, 28])\n",
      "conv1: torch.Size([64, 10, 24, 24])\n",
      "pool1: torch.Size([64, 10, 12, 12])\n",
      "start: torch.Size([64, 1, 28, 28])\n",
      "conv1: torch.Size([64, 10, 24, 24])\n",
      "pool1: torch.Size([64, 10, 12, 12])\n",
      "start: torch.Size([64, 1, 28, 28])\n",
      "conv1: torch.Size([64, 10, 24, 24])\n",
      "pool1: torch.Size([64, 10, 12, 12])\n",
      "start: torch.Size([64, 1, 28, 28])\n",
      "conv1: torch.Size([64, 10, 24, 24])\n",
      "pool1: torch.Size([64, 10, 12, 12])\n",
      "start: torch.Size([64, 1, 28, 28])\n"
     ]
    },
    {
     "name": "stderr",
     "output_type": "stream",
     "text": [
      "Epoch 4:  14%|█████▋                                   | 131/938 [00:04<00:30, 26.22batch/s, accuracy=87.5, loss=0.377]"
     ]
    },
    {
     "name": "stdout",
     "output_type": "stream",
     "text": [
      "conv1: torch.Size([64, 10, 24, 24])\n",
      "pool1: torch.Size([64, 10, 12, 12])\n",
      "start: torch.Size([64, 1, 28, 28])\n",
      "conv1: torch.Size([64, 10, 24, 24])\n",
      "pool1: torch.Size([64, 10, 12, 12])\n",
      "start: torch.Size([64, 1, 28, 28])\n",
      "conv1: torch.Size([64, 10, 24, 24])\n",
      "pool1: torch.Size([64, 10, 12, 12])\n",
      "start: torch.Size([64, 1, 28, 28])\n",
      "conv1: torch.Size([64, 10, 24, 24])\n",
      "pool1: torch.Size([64, 10, 12, 12])\n",
      "start: torch.Size([64, 1, 28, 28])\n",
      "conv1: torch.Size([64, 10, 24, 24])\n",
      "pool1: torch.Size([64, 10, 12, 12])\n",
      "start: torch.Size([64, 1, 28, 28])\n"
     ]
    },
    {
     "name": "stderr",
     "output_type": "stream",
     "text": [
      "Epoch 4:  15%|█████▊                                  | 137/938 [00:05<00:31, 25.35batch/s, accuracy=98.4, loss=0.0301]"
     ]
    },
    {
     "name": "stdout",
     "output_type": "stream",
     "text": [
      "conv1: torch.Size([64, 10, 24, 24])\n",
      "pool1: torch.Size([64, 10, 12, 12])\n",
      "start: torch.Size([64, 1, 28, 28])\n",
      "conv1: torch.Size([64, 10, 24, 24])\n",
      "pool1: torch.Size([64, 10, 12, 12])\n",
      "start: torch.Size([64, 1, 28, 28])\n",
      "conv1: torch.Size([64, 10, 24, 24])\n",
      "pool1: torch.Size([64, 10, 12, 12])\n",
      "start: torch.Size([64, 1, 28, 28])\n",
      "conv1: torch.Size([64, 10, 24, 24])\n",
      "pool1: torch.Size([64, 10, 12, 12])\n",
      "start: torch.Size([64, 1, 28, 28])\n",
      "conv1: torch.Size([64, 10, 24, 24])\n",
      "pool1: torch.Size([64, 10, 12, 12])\n",
      "start: torch.Size([64, 1, 28, 28])\n"
     ]
    },
    {
     "name": "stderr",
     "output_type": "stream",
     "text": [
      "Epoch 4:  15%|██████                                  | 143/938 [00:05<00:30, 25.83batch/s, accuracy=96.9, loss=0.0848]"
     ]
    },
    {
     "name": "stdout",
     "output_type": "stream",
     "text": [
      "conv1: torch.Size([64, 10, 24, 24])\n",
      "pool1: torch.Size([64, 10, 12, 12])\n",
      "start: torch.Size([64, 1, 28, 28])\n",
      "conv1: torch.Size([64, 10, 24, 24])\n",
      "pool1: torch.Size([64, 10, 12, 12])\n",
      "start: torch.Size([64, 1, 28, 28])\n",
      "conv1: torch.Size([64, 10, 24, 24])\n",
      "pool1: torch.Size([64, 10, 12, 12])\n",
      "start: torch.Size([64, 1, 28, 28])\n",
      "conv1: torch.Size([64, 10, 24, 24])\n",
      "pool1: torch.Size([64, 10, 12, 12])\n",
      "start: torch.Size([64, 1, 28, 28])\n",
      "conv1: torch.Size([64, 10, 24, 24])\n",
      "pool1: torch.Size([64, 10, 12, 12])\n",
      "start: torch.Size([64, 1, 28, 28])\n"
     ]
    },
    {
     "name": "stderr",
     "output_type": "stream",
     "text": [
      "Epoch 4:  16%|██████▍                                  | 146/938 [00:05<00:29, 26.47batch/s, accuracy=96.9, loss=0.077]"
     ]
    },
    {
     "name": "stdout",
     "output_type": "stream",
     "text": [
      "conv1: torch.Size([64, 10, 24, 24])\n",
      "pool1: torch.Size([64, 10, 12, 12])\n",
      "start: torch.Size([64, 1, 28, 28])\n",
      "conv1: torch.Size([64, 10, 24, 24])\n",
      "pool1: torch.Size([64, 10, 12, 12])\n",
      "start: torch.Size([64, 1, 28, 28])\n",
      "conv1: torch.Size([64, 10, 24, 24])\n",
      "pool1: torch.Size([64, 10, 12, 12])\n",
      "start: torch.Size([64, 1, 28, 28])\n",
      "conv1: torch.Size([64, 10, 24, 24])\n",
      "pool1: torch.Size([64, 10, 12, 12])\n",
      "start: torch.Size([64, 1, 28, 28])\n",
      "conv1: torch.Size([64, 10, 24, 24])\n",
      "pool1: torch.Size([64, 10, 12, 12])\n",
      "start: torch.Size([64, 1, 28, 28])\n",
      "conv1: torch.Size([64, 10, 24, 24])\n",
      "pool1: torch.Size([64, 10, 12, 12])\n"
     ]
    },
    {
     "name": "stderr",
     "output_type": "stream",
     "text": [
      "Epoch 4:  16%|██████▋                                  | 152/938 [00:05<00:28, 27.31batch/s, accuracy=87.5, loss=0.571]"
     ]
    },
    {
     "name": "stdout",
     "output_type": "stream",
     "text": [
      "start: torch.Size([64, 1, 28, 28])\n",
      "conv1: torch.Size([64, 10, 24, 24])\n",
      "pool1: torch.Size([64, 10, 12, 12])\n",
      "start: torch.Size([64, 1, 28, 28])\n",
      "conv1: torch.Size([64, 10, 24, 24])\n",
      "pool1: torch.Size([64, 10, 12, 12])\n",
      "start: torch.Size([64, 1, 28, 28])\n",
      "conv1: torch.Size([64, 10, 24, 24])\n",
      "pool1: torch.Size([64, 10, 12, 12])\n",
      "start: torch.Size([64, 1, 28, 28])\n",
      "conv1: torch.Size([64, 10, 24, 24])\n",
      "pool1: torch.Size([64, 10, 12, 12])\n",
      "start: torch.Size([64, 1, 28, 28])\n",
      "conv1: torch.Size([64, 10, 24, 24])\n",
      "pool1: torch.Size([64, 10, 12, 12])\n",
      "start: torch.Size([64, 1, 28, 28])\n",
      "conv1: torch.Size([64, 10, 24, 24])\n",
      "pool1: torch.Size([64, 10, 12, 12])\n"
     ]
    },
    {
     "name": "stderr",
     "output_type": "stream",
     "text": [
      "Epoch 4:  17%|██████▊                                 | 161/938 [00:05<00:27, 28.02batch/s, accuracy=98.4, loss=0.0834]"
     ]
    },
    {
     "name": "stdout",
     "output_type": "stream",
     "text": [
      "start: torch.Size([64, 1, 28, 28])\n",
      "conv1: torch.Size([64, 10, 24, 24])\n",
      "pool1: torch.Size([64, 10, 12, 12])\n",
      "start: torch.Size([64, 1, 28, 28])\n",
      "conv1: torch.Size([64, 10, 24, 24])\n",
      "pool1: torch.Size([64, 10, 12, 12])\n",
      "start: torch.Size([64, 1, 28, 28])\n",
      "conv1: torch.Size([64, 10, 24, 24])\n",
      "pool1: torch.Size([64, 10, 12, 12])\n",
      "start: torch.Size([64, 1, 28, 28])\n",
      "conv1: torch.Size([64, 10, 24, 24])\n",
      "pool1: torch.Size([64, 10, 12, 12])\n",
      "start: torch.Size([64, 1, 28, 28])\n",
      "conv1: torch.Size([64, 10, 24, 24])\n",
      "pool1: torch.Size([64, 10, 12, 12])\n",
      "start: torch.Size([64, 1, 28, 28])\n",
      "conv1: torch.Size([64, 10, 24, 24])\n",
      "pool1: torch.Size([64, 10, 12, 12])\n"
     ]
    },
    {
     "name": "stderr",
     "output_type": "stream",
     "text": [
      "Epoch 4:  17%|██████▉                                 | 164/938 [00:06<00:28, 27.58batch/s, accuracy=98.4, loss=0.0885]"
     ]
    },
    {
     "name": "stdout",
     "output_type": "stream",
     "text": [
      "start: torch.Size([64, 1, 28, 28])\n",
      "conv1: torch.Size([64, 10, 24, 24])\n",
      "pool1: torch.Size([64, 10, 12, 12])\n",
      "start: torch.Size([64, 1, 28, 28])\n",
      "conv1: torch.Size([64, 10, 24, 24])\n",
      "pool1: torch.Size([64, 10, 12, 12])\n",
      "start: torch.Size([64, 1, 28, 28])\n",
      "conv1: torch.Size([64, 10, 24, 24])\n",
      "pool1: torch.Size([64, 10, 12, 12])\n",
      "start: torch.Size([64, 1, 28, 28])\n",
      "conv1: torch.Size([64, 10, 24, 24])\n",
      "pool1: torch.Size([64, 10, 12, 12])\n",
      "start: torch.Size([64, 1, 28, 28])\n",
      "conv1: torch.Size([64, 10, 24, 24])\n",
      "pool1: torch.Size([64, 10, 12, 12])\n",
      "start: torch.Size([64, 1, 28, 28])\n"
     ]
    },
    {
     "name": "stderr",
     "output_type": "stream",
     "text": [
      "Epoch 4:  18%|███████▏                                | 170/938 [00:06<00:28, 27.09batch/s, accuracy=100, loss=0.00985]"
     ]
    },
    {
     "name": "stdout",
     "output_type": "stream",
     "text": [
      "conv1: torch.Size([64, 10, 24, 24])\n",
      "pool1: torch.Size([64, 10, 12, 12])\n",
      "start: torch.Size([64, 1, 28, 28])\n",
      "conv1: torch.Size([64, 10, 24, 24])\n",
      "pool1: torch.Size([64, 10, 12, 12])\n",
      "start: torch.Size([64, 1, 28, 28])\n",
      "conv1: torch.Size([64, 10, 24, 24])\n",
      "pool1: torch.Size([64, 10, 12, 12])\n",
      "start: torch.Size([64, 1, 28, 28])\n",
      "conv1: torch.Size([64, 10, 24, 24])\n",
      "pool1: torch.Size([64, 10, 12, 12])\n",
      "start: torch.Size([64, 1, 28, 28])\n",
      "conv1: torch.Size([64, 10, 24, 24])\n",
      "pool1: torch.Size([64, 10, 12, 12])\n",
      "start: torch.Size([64, 1, 28, 28])\n",
      "conv1: torch.Size([64, 10, 24, 24])\n",
      "pool1: torch.Size([64, 10, 12, 12])\n"
     ]
    },
    {
     "name": "stderr",
     "output_type": "stream",
     "text": [
      "Epoch 4:  19%|███████▋                                 | 176/938 [00:06<00:27, 27.45batch/s, accuracy=93.8, loss=0.138]"
     ]
    },
    {
     "name": "stdout",
     "output_type": "stream",
     "text": [
      "start: torch.Size([64, 1, 28, 28])\n",
      "conv1: torch.Size([64, 10, 24, 24])\n",
      "pool1: torch.Size([64, 10, 12, 12])\n",
      "start: torch.Size([64, 1, 28, 28])\n",
      "conv1: torch.Size([64, 10, 24, 24])\n",
      "pool1: torch.Size([64, 10, 12, 12])\n",
      "start: torch.Size([64, 1, 28, 28])\n",
      "conv1: torch.Size([64, 10, 24, 24])\n",
      "pool1: torch.Size([64, 10, 12, 12])\n",
      "start: torch.Size([64, 1, 28, 28])\n",
      "conv1: torch.Size([64, 10, 24, 24])\n",
      "pool1: torch.Size([64, 10, 12, 12])\n",
      "start: torch.Size([64, 1, 28, 28])\n",
      "conv1: torch.Size([64, 10, 24, 24])\n",
      "pool1: torch.Size([64, 10, 12, 12])\n",
      "start: torch.Size([64, 1, 28, 28])\n"
     ]
    },
    {
     "name": "stderr",
     "output_type": "stream",
     "text": [
      "Epoch 4:  19%|███████▊                                | 182/938 [00:06<00:27, 27.44batch/s, accuracy=98.4, loss=0.0513]"
     ]
    },
    {
     "name": "stdout",
     "output_type": "stream",
     "text": [
      "conv1: torch.Size([64, 10, 24, 24])\n",
      "pool1: torch.Size([64, 10, 12, 12])\n",
      "start: torch.Size([64, 1, 28, 28])\n",
      "conv1: torch.Size([64, 10, 24, 24])\n",
      "pool1: torch.Size([64, 10, 12, 12])\n",
      "start: torch.Size([64, 1, 28, 28])\n",
      "conv1: torch.Size([64, 10, 24, 24])\n",
      "pool1: torch.Size([64, 10, 12, 12])\n",
      "start: torch.Size([64, 1, 28, 28])\n",
      "conv1: torch.Size([64, 10, 24, 24])\n",
      "pool1: torch.Size([64, 10, 12, 12])\n",
      "start: torch.Size([64, 1, 28, 28])\n",
      "conv1: torch.Size([64, 10, 24, 24])\n",
      "pool1: torch.Size([64, 10, 12, 12])\n",
      "start: torch.Size([64, 1, 28, 28])\n",
      "conv1: torch.Size([64, 10, 24, 24])\n",
      "pool1: torch.Size([64, 10, 12, 12])\n"
     ]
    },
    {
     "name": "stderr",
     "output_type": "stream",
     "text": [
      "Epoch 4:  20%|███████▉                                | 185/938 [00:06<00:26, 27.95batch/s, accuracy=96.9, loss=0.0575]"
     ]
    },
    {
     "name": "stdout",
     "output_type": "stream",
     "text": [
      "start: torch.Size([64, 1, 28, 28])\n",
      "conv1: torch.Size([64, 10, 24, 24])\n",
      "pool1: torch.Size([64, 10, 12, 12])\n",
      "start: torch.Size([64, 1, 28, 28])\n",
      "conv1: torch.Size([64, 10, 24, 24])\n",
      "pool1: torch.Size([64, 10, 12, 12])\n",
      "start: torch.Size([64, 1, 28, 28])\n",
      "conv1: torch.Size([64, 10, 24, 24])\n",
      "pool1: torch.Size([64, 10, 12, 12])\n",
      "start: torch.Size([64, 1, 28, 28])\n",
      "conv1: torch.Size([64, 10, 24, 24])\n",
      "pool1: torch.Size([64, 10, 12, 12])\n",
      "start: torch.Size([64, 1, 28, 28])\n",
      "conv1: torch.Size([64, 10, 24, 24])\n",
      "pool1: torch.Size([64, 10, 12, 12])\n"
     ]
    },
    {
     "name": "stderr",
     "output_type": "stream",
     "text": [
      "Epoch 4:  20%|████████▎                                | 191/938 [00:07<00:27, 27.22batch/s, accuracy=95.3, loss=0.154]"
     ]
    },
    {
     "name": "stdout",
     "output_type": "stream",
     "text": [
      "start: torch.Size([64, 1, 28, 28])\n",
      "conv1: torch.Size([64, 10, 24, 24])\n",
      "pool1: torch.Size([64, 10, 12, 12])\n",
      "start: torch.Size([64, 1, 28, 28])\n",
      "conv1: torch.Size([64, 10, 24, 24])\n",
      "pool1: torch.Size([64, 10, 12, 12])\n",
      "start: torch.Size([64, 1, 28, 28])\n",
      "conv1: torch.Size([64, 10, 24, 24])\n",
      "pool1: torch.Size([64, 10, 12, 12])\n",
      "start: torch.Size([64, 1, 28, 28])\n",
      "conv1: torch.Size([64, 10, 24, 24])\n",
      "pool1: torch.Size([64, 10, 12, 12])\n",
      "start: torch.Size([64, 1, 28, 28])\n",
      "conv1: torch.Size([64, 10, 24, 24])\n",
      "pool1: torch.Size([64, 10, 12, 12])\n",
      "start: torch.Size([64, 1, 28, 28])\n",
      "conv1: torch.Size([64, 10, 24, 24])\n",
      "pool1: torch.Size([64, 10, 12, 12])\n"
     ]
    },
    {
     "name": "stderr",
     "output_type": "stream",
     "text": [
      "Epoch 4:  21%|████████▌                                | 197/938 [00:07<00:26, 27.91batch/s, accuracy=96.9, loss=0.105]"
     ]
    },
    {
     "name": "stdout",
     "output_type": "stream",
     "text": [
      "start: torch.Size([64, 1, 28, 28])\n",
      "conv1: torch.Size([64, 10, 24, 24])\n",
      "pool1: torch.Size([64, 10, 12, 12])\n",
      "start: torch.Size([64, 1, 28, 28])\n",
      "conv1: torch.Size([64, 10, 24, 24])\n",
      "pool1: torch.Size([64, 10, 12, 12])\n",
      "start: torch.Size([64, 1, 28, 28])\n",
      "conv1: torch.Size([64, 10, 24, 24])\n",
      "pool1: torch.Size([64, 10, 12, 12])\n",
      "start: torch.Size([64, 1, 28, 28])\n",
      "conv1: torch.Size([64, 10, 24, 24])\n",
      "pool1: torch.Size([64, 10, 12, 12])\n",
      "start: torch.Size([64, 1, 28, 28])\n",
      "conv1: torch.Size([64, 10, 24, 24])\n",
      "pool1: torch.Size([64, 10, 12, 12])\n",
      "start: torch.Size([64, 1, 28, 28])\n",
      "conv1: torch.Size([64, 10, 24, 24])\n",
      "pool1: torch.Size([64, 10, 12, 12])\n"
     ]
    },
    {
     "name": "stderr",
     "output_type": "stream",
     "text": [
      "Epoch 4:  22%|████████▋                               | 204/938 [00:07<00:25, 28.80batch/s, accuracy=96.9, loss=0.0783]"
     ]
    },
    {
     "name": "stdout",
     "output_type": "stream",
     "text": [
      "start: torch.Size([64, 1, 28, 28])\n",
      "conv1: torch.Size([64, 10, 24, 24])\n",
      "pool1: torch.Size([64, 10, 12, 12])\n",
      "start: torch.Size([64, 1, 28, 28])\n",
      "conv1: torch.Size([64, 10, 24, 24])\n",
      "pool1: torch.Size([64, 10, 12, 12])\n",
      "start: torch.Size([64, 1, 28, 28])\n",
      "conv1: torch.Size([64, 10, 24, 24])\n",
      "pool1: torch.Size([64, 10, 12, 12])\n",
      "start: torch.Size([64, 1, 28, 28])\n",
      "conv1: torch.Size([64, 10, 24, 24])\n",
      "pool1: torch.Size([64, 10, 12, 12])\n",
      "start: torch.Size([64, 1, 28, 28])\n",
      "conv1: torch.Size([64, 10, 24, 24])\n",
      "pool1: torch.Size([64, 10, 12, 12])\n",
      "start: torch.Size([64, 1, 28, 28])\n"
     ]
    },
    {
     "name": "stderr",
     "output_type": "stream",
     "text": [
      "Epoch 4:  22%|█████████▏                               | 210/938 [00:07<00:26, 27.80batch/s, accuracy=95.3, loss=0.235]"
     ]
    },
    {
     "name": "stdout",
     "output_type": "stream",
     "text": [
      "conv1: torch.Size([64, 10, 24, 24])\n",
      "pool1: torch.Size([64, 10, 12, 12])\n",
      "start: torch.Size([64, 1, 28, 28])\n",
      "conv1: torch.Size([64, 10, 24, 24])\n",
      "pool1: torch.Size([64, 10, 12, 12])\n",
      "start: torch.Size([64, 1, 28, 28])\n",
      "conv1: torch.Size([64, 10, 24, 24])\n",
      "pool1: torch.Size([64, 10, 12, 12])\n",
      "start: torch.Size([64, 1, 28, 28])\n",
      "conv1: torch.Size([64, 10, 24, 24])\n",
      "pool1: torch.Size([64, 10, 12, 12])\n",
      "start: torch.Size([64, 1, 28, 28])\n",
      "conv1: torch.Size([64, 10, 24, 24])\n",
      "pool1: torch.Size([64, 10, 12, 12])\n",
      "start: torch.Size([64, 1, 28, 28])\n"
     ]
    },
    {
     "name": "stderr",
     "output_type": "stream",
     "text": [
      "Epoch 4:  23%|█████████▍                               | 216/938 [00:07<00:25, 28.62batch/s, accuracy=90.6, loss=0.233]"
     ]
    },
    {
     "name": "stdout",
     "output_type": "stream",
     "text": [
      "conv1: torch.Size([64, 10, 24, 24])\n",
      "pool1: torch.Size([64, 10, 12, 12])\n",
      "start: torch.Size([64, 1, 28, 28])\n",
      "conv1: torch.Size([64, 10, 24, 24])\n",
      "pool1: torch.Size([64, 10, 12, 12])\n",
      "start: torch.Size([64, 1, 28, 28])\n",
      "conv1: torch.Size([64, 10, 24, 24])\n",
      "pool1: torch.Size([64, 10, 12, 12])\n",
      "start: torch.Size([64, 1, 28, 28])\n",
      "conv1: torch.Size([64, 10, 24, 24])\n",
      "pool1: torch.Size([64, 10, 12, 12])\n",
      "start: torch.Size([64, 1, 28, 28])\n",
      "conv1: torch.Size([64, 10, 24, 24])\n",
      "pool1: torch.Size([64, 10, 12, 12])\n",
      "start: torch.Size([64, 1, 28, 28])\n",
      "conv1: torch.Size([64, 10, 24, 24])\n",
      "pool1: torch.Size([64, 10, 12, 12])\n"
     ]
    },
    {
     "name": "stderr",
     "output_type": "stream",
     "text": [
      "Epoch 4:  23%|█████████▌                               | 219/938 [00:08<00:25, 28.47batch/s, accuracy=89.1, loss=0.348]"
     ]
    },
    {
     "name": "stdout",
     "output_type": "stream",
     "text": [
      "start: torch.Size([64, 1, 28, 28])\n",
      "conv1: torch.Size([64, 10, 24, 24])\n",
      "pool1: torch.Size([64, 10, 12, 12])\n",
      "start: torch.Size([64, 1, 28, 28])\n",
      "conv1: torch.Size([64, 10, 24, 24])\n",
      "pool1: torch.Size([64, 10, 12, 12])\n",
      "start: torch.Size([64, 1, 28, 28])\n",
      "conv1: torch.Size([64, 10, 24, 24])\n",
      "pool1: torch.Size([64, 10, 12, 12])\n",
      "start: torch.Size([64, 1, 28, 28])\n",
      "conv1: torch.Size([64, 10, 24, 24])\n",
      "pool1: torch.Size([64, 10, 12, 12])\n",
      "start: torch.Size([64, 1, 28, 28])\n",
      "conv1: torch.Size([64, 10, 24, 24])\n",
      "pool1: torch.Size([64, 10, 12, 12])\n",
      "start: torch.Size([64, 1, 28, 28])\n",
      "conv1: torch.Size([64, 10, 24, 24])\n",
      "pool1: torch.Size([64, 10, 12, 12])\n"
     ]
    },
    {
     "name": "stderr",
     "output_type": "stream",
     "text": [
      "Epoch 4:  24%|██████████                                | 225/938 [00:08<00:25, 27.93batch/s, accuracy=96.9, loss=0.12]"
     ]
    },
    {
     "name": "stdout",
     "output_type": "stream",
     "text": [
      "start: torch.Size([64, 1, 28, 28])\n",
      "conv1: torch.Size([64, 10, 24, 24])\n",
      "pool1: torch.Size([64, 10, 12, 12])\n",
      "start: torch.Size([64, 1, 28, 28])\n",
      "conv1: torch.Size([64, 10, 24, 24])\n",
      "pool1: torch.Size([64, 10, 12, 12])\n",
      "start: torch.Size([64, 1, 28, 28])\n",
      "conv1: torch.Size([64, 10, 24, 24])\n",
      "pool1: torch.Size([64, 10, 12, 12])\n",
      "start: torch.Size([64, 1, 28, 28])\n",
      "conv1: torch.Size([64, 10, 24, 24])\n",
      "pool1: torch.Size([64, 10, 12, 12])\n",
      "start: torch.Size([64, 1, 28, 28])\n",
      "conv1: torch.Size([64, 10, 24, 24])\n",
      "pool1: torch.Size([64, 10, 12, 12])\n",
      "start: torch.Size([64, 1, 28, 28])\n",
      "conv1: torch.Size([64, 10, 24, 24])\n",
      "pool1: torch.Size([64, 10, 12, 12])\n"
     ]
    },
    {
     "name": "stderr",
     "output_type": "stream",
     "text": [
      "Epoch 4:  25%|██████████                               | 231/938 [00:08<00:25, 27.68batch/s, accuracy=95.3, loss=0.188]"
     ]
    },
    {
     "name": "stdout",
     "output_type": "stream",
     "text": [
      "start: torch.Size([64, 1, 28, 28])\n",
      "conv1: torch.Size([64, 10, 24, 24])\n",
      "pool1: torch.Size([64, 10, 12, 12])\n",
      "start: torch.Size([64, 1, 28, 28])\n",
      "conv1: torch.Size([64, 10, 24, 24])\n",
      "pool1: torch.Size([64, 10, 12, 12])\n",
      "start: torch.Size([64, 1, 28, 28])\n",
      "conv1: torch.Size([64, 10, 24, 24])\n",
      "pool1: torch.Size([64, 10, 12, 12])\n",
      "start: torch.Size([64, 1, 28, 28])\n",
      "conv1: torch.Size([64, 10, 24, 24])\n",
      "pool1: torch.Size([64, 10, 12, 12])\n",
      "start: torch.Size([64, 1, 28, 28])\n",
      "conv1: torch.Size([64, 10, 24, 24])\n",
      "pool1: torch.Size([64, 10, 12, 12])\n",
      "start: torch.Size([64, 1, 28, 28])\n"
     ]
    },
    {
     "name": "stderr",
     "output_type": "stream",
     "text": [
      "Epoch 4:  25%|██████████▎                              | 237/938 [00:08<00:25, 27.88batch/s, accuracy=90.6, loss=0.287]"
     ]
    },
    {
     "name": "stdout",
     "output_type": "stream",
     "text": [
      "conv1: torch.Size([64, 10, 24, 24])\n",
      "pool1: torch.Size([64, 10, 12, 12])\n",
      "start: torch.Size([64, 1, 28, 28])\n",
      "conv1: torch.Size([64, 10, 24, 24])\n",
      "pool1: torch.Size([64, 10, 12, 12])\n",
      "start: torch.Size([64, 1, 28, 28])\n",
      "conv1: torch.Size([64, 10, 24, 24])\n",
      "pool1: torch.Size([64, 10, 12, 12])\n",
      "start: torch.Size([64, 1, 28, 28])\n",
      "conv1: torch.Size([64, 10, 24, 24])\n",
      "pool1: torch.Size([64, 10, 12, 12])\n",
      "start: torch.Size([64, 1, 28, 28])\n",
      "conv1: torch.Size([64, 10, 24, 24])\n",
      "pool1: torch.Size([64, 10, 12, 12])\n",
      "start: torch.Size([64, 1, 28, 28])\n",
      "conv1: torch.Size([64, 10, 24, 24])\n",
      "pool1: torch.Size([64, 10, 12, 12])\n"
     ]
    },
    {
     "name": "stderr",
     "output_type": "stream",
     "text": [
      "Epoch 4:  26%|██████████▌                              | 243/938 [00:08<00:24, 28.27batch/s, accuracy=95.3, loss=0.247]"
     ]
    },
    {
     "name": "stdout",
     "output_type": "stream",
     "text": [
      "start: torch.Size([64, 1, 28, 28])\n",
      "conv1: torch.Size([64, 10, 24, 24])\n",
      "pool1: torch.Size([64, 10, 12, 12])\n",
      "start: torch.Size([64, 1, 28, 28])\n",
      "conv1: torch.Size([64, 10, 24, 24])\n",
      "pool1: torch.Size([64, 10, 12, 12])\n",
      "start: torch.Size([64, 1, 28, 28])\n",
      "conv1: torch.Size([64, 10, 24, 24])\n",
      "pool1: torch.Size([64, 10, 12, 12])\n",
      "start: torch.Size([64, 1, 28, 28])\n",
      "conv1: torch.Size([64, 10, 24, 24])\n",
      "pool1: torch.Size([64, 10, 12, 12])\n",
      "start: torch.Size([64, 1, 28, 28])\n",
      "conv1: torch.Size([64, 10, 24, 24])\n",
      "pool1: torch.Size([64, 10, 12, 12])\n",
      "start: torch.Size([64, 1, 28, 28])\n"
     ]
    },
    {
     "name": "stderr",
     "output_type": "stream",
     "text": [
      "Epoch 4:  27%|██████████▌                             | 249/938 [00:09<00:25, 27.40batch/s, accuracy=98.4, loss=0.0616]"
     ]
    },
    {
     "name": "stdout",
     "output_type": "stream",
     "text": [
      "conv1: torch.Size([64, 10, 24, 24])\n",
      "pool1: torch.Size([64, 10, 12, 12])\n",
      "start: torch.Size([64, 1, 28, 28])\n",
      "conv1: torch.Size([64, 10, 24, 24])\n",
      "pool1: torch.Size([64, 10, 12, 12])\n",
      "start: torch.Size([64, 1, 28, 28])\n",
      "conv1: torch.Size([64, 10, 24, 24])\n",
      "pool1: torch.Size([64, 10, 12, 12])\n",
      "start: torch.Size([64, 1, 28, 28])\n",
      "conv1: torch.Size([64, 10, 24, 24])\n",
      "pool1: torch.Size([64, 10, 12, 12])\n",
      "start: torch.Size([64, 1, 28, 28])\n",
      "conv1: torch.Size([64, 10, 24, 24])\n",
      "pool1: torch.Size([64, 10, 12, 12])\n",
      "start: torch.Size([64, 1, 28, 28])\n",
      "conv1: torch.Size([64, 10, 24, 24])\n",
      "pool1: torch.Size([64, 10, 12, 12])\n"
     ]
    },
    {
     "name": "stderr",
     "output_type": "stream",
     "text": [
      "Epoch 4:  27%|███████████                              | 253/938 [00:09<00:24, 28.34batch/s, accuracy=96.9, loss=0.058]"
     ]
    },
    {
     "name": "stdout",
     "output_type": "stream",
     "text": [
      "start: torch.Size([64, 1, 28, 28])\n",
      "conv1: torch.Size([64, 10, 24, 24])\n",
      "pool1: torch.Size([64, 10, 12, 12])\n",
      "start: torch.Size([64, 1, 28, 28])\n",
      "conv1: torch.Size([64, 10, 24, 24])\n",
      "pool1: torch.Size([64, 10, 12, 12])\n",
      "start: torch.Size([64, 1, 28, 28])\n",
      "conv1: torch.Size([64, 10, 24, 24])\n",
      "pool1: torch.Size([64, 10, 12, 12])\n",
      "start: torch.Size([64, 1, 28, 28])\n",
      "conv1: torch.Size([64, 10, 24, 24])\n",
      "pool1: torch.Size([64, 10, 12, 12])\n",
      "start: torch.Size([64, 1, 28, 28])\n",
      "conv1: torch.Size([64, 10, 24, 24])\n",
      "pool1: torch.Size([64, 10, 12, 12])\n",
      "start: torch.Size([64, 1, 28, 28])\n"
     ]
    },
    {
     "name": "stderr",
     "output_type": "stream",
     "text": [
      "Epoch 4:  28%|███████████▎                             | 259/938 [00:09<00:25, 27.11batch/s, accuracy=96.9, loss=0.221]"
     ]
    },
    {
     "name": "stdout",
     "output_type": "stream",
     "text": [
      "conv1: torch.Size([64, 10, 24, 24])\n",
      "pool1: torch.Size([64, 10, 12, 12])\n",
      "start: torch.Size([64, 1, 28, 28])\n",
      "conv1: torch.Size([64, 10, 24, 24])\n",
      "pool1: torch.Size([64, 10, 12, 12])\n",
      "start: torch.Size([64, 1, 28, 28])\n",
      "conv1: torch.Size([64, 10, 24, 24])\n",
      "pool1: torch.Size([64, 10, 12, 12])\n",
      "start: torch.Size([64, 1, 28, 28])\n",
      "conv1: torch.Size([64, 10, 24, 24])\n",
      "pool1: torch.Size([64, 10, 12, 12])\n",
      "start: torch.Size([64, 1, 28, 28])\n",
      "conv1: torch.Size([64, 10, 24, 24])\n",
      "pool1: torch.Size([64, 10, 12, 12])\n",
      "start: torch.Size([64, 1, 28, 28])\n"
     ]
    },
    {
     "name": "stderr",
     "output_type": "stream",
     "text": [
      "Epoch 4:  28%|███████████▌                             | 265/938 [00:09<00:24, 27.73batch/s, accuracy=93.8, loss=0.117]"
     ]
    },
    {
     "name": "stdout",
     "output_type": "stream",
     "text": [
      "conv1: torch.Size([64, 10, 24, 24])\n",
      "pool1: torch.Size([64, 10, 12, 12])\n",
      "start: torch.Size([64, 1, 28, 28])\n",
      "conv1: torch.Size([64, 10, 24, 24])\n",
      "pool1: torch.Size([64, 10, 12, 12])\n",
      "start: torch.Size([64, 1, 28, 28])\n",
      "conv1: torch.Size([64, 10, 24, 24])\n",
      "pool1: torch.Size([64, 10, 12, 12])\n",
      "start: torch.Size([64, 1, 28, 28])\n",
      "conv1: torch.Size([64, 10, 24, 24])\n",
      "pool1: torch.Size([64, 10, 12, 12])\n",
      "start: torch.Size([64, 1, 28, 28])\n",
      "conv1: torch.Size([64, 10, 24, 24])\n",
      "pool1: torch.Size([64, 10, 12, 12])\n",
      "start: torch.Size([64, 1, 28, 28])\n",
      "conv1: torch.Size([64, 10, 24, 24])\n"
     ]
    },
    {
     "name": "stderr",
     "output_type": "stream",
     "text": [
      "Epoch 4:  29%|███████████▍                            | 268/938 [00:09<00:24, 26.96batch/s, accuracy=98.4, loss=0.0411]"
     ]
    },
    {
     "name": "stdout",
     "output_type": "stream",
     "text": [
      "pool1: torch.Size([64, 10, 12, 12])\n",
      "start: torch.Size([64, 1, 28, 28])\n",
      "conv1: torch.Size([64, 10, 24, 24])\n",
      "pool1: torch.Size([64, 10, 12, 12])\n",
      "start: torch.Size([64, 1, 28, 28])\n",
      "conv1: torch.Size([64, 10, 24, 24])\n",
      "pool1: torch.Size([64, 10, 12, 12])\n",
      "start: torch.Size([64, 1, 28, 28])\n",
      "conv1: torch.Size([64, 10, 24, 24])\n",
      "pool1: torch.Size([64, 10, 12, 12])\n",
      "start: torch.Size([64, 1, 28, 28])\n",
      "conv1: torch.Size([64, 10, 24, 24])\n",
      "pool1: torch.Size([64, 10, 12, 12])\n",
      "start: torch.Size([64, 1, 28, 28])\n",
      "conv1: torch.Size([64, 10, 24, 24])\n",
      "pool1: torch.Size([64, 10, 12, 12])\n"
     ]
    },
    {
     "name": "stderr",
     "output_type": "stream",
     "text": [
      "Epoch 4:  29%|████████████▎                             | 274/938 [00:10<00:24, 27.27batch/s, accuracy=95.3, loss=0.33]"
     ]
    },
    {
     "name": "stdout",
     "output_type": "stream",
     "text": [
      "start: torch.Size([64, 1, 28, 28])\n",
      "conv1: torch.Size([64, 10, 24, 24])\n",
      "pool1: torch.Size([64, 10, 12, 12])\n",
      "start: torch.Size([64, 1, 28, 28])\n",
      "conv1: torch.Size([64, 10, 24, 24])\n",
      "pool1: torch.Size([64, 10, 12, 12])\n",
      "start: torch.Size([64, 1, 28, 28])\n",
      "conv1: torch.Size([64, 10, 24, 24])\n",
      "pool1: torch.Size([64, 10, 12, 12])\n",
      "start: torch.Size([64, 1, 28, 28])\n",
      "conv1: torch.Size([64, 10, 24, 24])\n",
      "pool1: torch.Size([64, 10, 12, 12])\n",
      "start: torch.Size([64, 1, 28, 28])\n",
      "conv1: torch.Size([64, 10, 24, 24])\n",
      "pool1: torch.Size([64, 10, 12, 12])\n",
      "start: torch.Size([64, 1, 28, 28])\n"
     ]
    },
    {
     "name": "stderr",
     "output_type": "stream",
     "text": [
      "Epoch 4:  30%|███████████▉                            | 281/938 [00:10<00:23, 27.62batch/s, accuracy=98.4, loss=0.0702]"
     ]
    },
    {
     "name": "stdout",
     "output_type": "stream",
     "text": [
      "conv1: torch.Size([64, 10, 24, 24])\n",
      "pool1: torch.Size([64, 10, 12, 12])\n",
      "start: torch.Size([64, 1, 28, 28])\n",
      "conv1: torch.Size([64, 10, 24, 24])\n",
      "pool1: torch.Size([64, 10, 12, 12])\n",
      "start: torch.Size([64, 1, 28, 28])\n",
      "conv1: torch.Size([64, 10, 24, 24])\n",
      "pool1: torch.Size([64, 10, 12, 12])\n",
      "start: torch.Size([64, 1, 28, 28])\n",
      "conv1: torch.Size([64, 10, 24, 24])\n",
      "pool1: torch.Size([64, 10, 12, 12])\n",
      "start: torch.Size([64, 1, 28, 28])\n",
      "conv1: torch.Size([64, 10, 24, 24])\n",
      "pool1: torch.Size([64, 10, 12, 12])\n",
      "start: torch.Size([64, 1, 28, 28])\n",
      "conv1: torch.Size([64, 10, 24, 24])\n",
      "pool1: torch.Size([64, 10, 12, 12])\n"
     ]
    },
    {
     "name": "stderr",
     "output_type": "stream",
     "text": [
      "Epoch 4:  31%|████████████▌                            | 287/938 [00:10<00:24, 27.12batch/s, accuracy=95.3, loss=0.188]"
     ]
    },
    {
     "name": "stdout",
     "output_type": "stream",
     "text": [
      "start: torch.Size([64, 1, 28, 28])\n",
      "conv1: torch.Size([64, 10, 24, 24])\n",
      "pool1: torch.Size([64, 10, 12, 12])\n",
      "start: torch.Size([64, 1, 28, 28])\n",
      "conv1: torch.Size([64, 10, 24, 24])\n",
      "pool1: torch.Size([64, 10, 12, 12])\n",
      "start: torch.Size([64, 1, 28, 28])\n",
      "conv1: torch.Size([64, 10, 24, 24])\n",
      "pool1: torch.Size([64, 10, 12, 12])\n",
      "start: torch.Size([64, 1, 28, 28])\n",
      "conv1: torch.Size([64, 10, 24, 24])\n",
      "pool1: torch.Size([64, 10, 12, 12])\n",
      "start: torch.Size([64, 1, 28, 28])\n",
      "conv1: torch.Size([64, 10, 24, 24])\n",
      "pool1: torch.Size([64, 10, 12, 12])\n",
      "start: torch.Size([64, 1, 28, 28])\n"
     ]
    },
    {
     "name": "stderr",
     "output_type": "stream",
     "text": [
      "Epoch 4:  31%|████████████▋                            | 290/938 [00:10<00:24, 26.77batch/s, accuracy=95.3, loss=0.146]"
     ]
    },
    {
     "name": "stdout",
     "output_type": "stream",
     "text": [
      "conv1: torch.Size([64, 10, 24, 24])\n",
      "pool1: torch.Size([64, 10, 12, 12])\n",
      "start: torch.Size([64, 1, 28, 28])\n",
      "conv1: torch.Size([64, 10, 24, 24])\n",
      "pool1: torch.Size([64, 10, 12, 12])\n",
      "start: torch.Size([64, 1, 28, 28])\n",
      "conv1: torch.Size([64, 10, 24, 24])\n",
      "pool1: torch.Size([64, 10, 12, 12])\n",
      "start: torch.Size([64, 1, 28, 28])\n",
      "conv1: torch.Size([64, 10, 24, 24])\n",
      "pool1: torch.Size([64, 10, 12, 12])\n",
      "start: torch.Size([64, 1, 28, 28])\n",
      "conv1: torch.Size([64, 10, 24, 24])\n",
      "pool1: torch.Size([64, 10, 12, 12])\n",
      "start: torch.Size([64, 1, 28, 28])\n"
     ]
    },
    {
     "name": "stderr",
     "output_type": "stream",
     "text": [
      "Epoch 4:  32%|████████████▉                            | 296/938 [00:10<00:23, 26.94batch/s, accuracy=96.9, loss=0.108]"
     ]
    },
    {
     "name": "stdout",
     "output_type": "stream",
     "text": [
      "conv1: torch.Size([64, 10, 24, 24])\n",
      "pool1: torch.Size([64, 10, 12, 12])\n",
      "start: torch.Size([64, 1, 28, 28])\n",
      "conv1: torch.Size([64, 10, 24, 24])\n",
      "pool1: torch.Size([64, 10, 12, 12])\n",
      "start: torch.Size([64, 1, 28, 28])\n",
      "conv1: torch.Size([64, 10, 24, 24])\n",
      "pool1: torch.Size([64, 10, 12, 12])\n",
      "start: torch.Size([64, 1, 28, 28])\n",
      "conv1: torch.Size([64, 10, 24, 24])\n",
      "pool1: torch.Size([64, 10, 12, 12])\n",
      "start: torch.Size([64, 1, 28, 28])\n",
      "conv1: torch.Size([64, 10, 24, 24])\n",
      "pool1: torch.Size([64, 10, 12, 12])\n",
      "start: torch.Size([64, 1, 28, 28])\n",
      "conv1: torch.Size([64, 10, 24, 24])\n",
      "pool1: torch.Size([64, 10, 12, 12])\n"
     ]
    },
    {
     "name": "stderr",
     "output_type": "stream",
     "text": [
      "Epoch 4:  32%|█████████████▏                           | 302/938 [00:11<00:24, 26.43batch/s, accuracy=93.8, loss=0.433]"
     ]
    },
    {
     "name": "stdout",
     "output_type": "stream",
     "text": [
      "start: torch.Size([64, 1, 28, 28])\n",
      "conv1: torch.Size([64, 10, 24, 24])\n",
      "pool1: torch.Size([64, 10, 12, 12])\n",
      "start: torch.Size([64, 1, 28, 28])\n",
      "conv1: torch.Size([64, 10, 24, 24])\n",
      "pool1: torch.Size([64, 10, 12, 12])\n",
      "start: torch.Size([64, 1, 28, 28])\n",
      "conv1: torch.Size([64, 10, 24, 24])\n",
      "pool1: torch.Size([64, 10, 12, 12])\n",
      "start: torch.Size([64, 1, 28, 28])\n",
      "conv1: torch.Size([64, 10, 24, 24])\n",
      "pool1: torch.Size([64, 10, 12, 12])\n",
      "start: torch.Size([64, 1, 28, 28])\n",
      "conv1: torch.Size([64, 10, 24, 24])\n",
      "pool1: torch.Size([64, 10, 12, 12])\n"
     ]
    },
    {
     "name": "stderr",
     "output_type": "stream",
     "text": [
      "Epoch 4:  33%|█████████████▏                          | 308/938 [00:11<00:24, 25.98batch/s, accuracy=98.4, loss=0.0713]"
     ]
    },
    {
     "name": "stdout",
     "output_type": "stream",
     "text": [
      "start: torch.Size([64, 1, 28, 28])\n",
      "conv1: torch.Size([64, 10, 24, 24])\n",
      "pool1: torch.Size([64, 10, 12, 12])\n",
      "start: torch.Size([64, 1, 28, 28])\n",
      "conv1: torch.Size([64, 10, 24, 24])\n",
      "pool1: torch.Size([64, 10, 12, 12])\n",
      "start: torch.Size([64, 1, 28, 28])\n",
      "conv1: torch.Size([64, 10, 24, 24])\n",
      "pool1: torch.Size([64, 10, 12, 12])\n",
      "start: torch.Size([64, 1, 28, 28])\n",
      "conv1: torch.Size([64, 10, 24, 24])\n",
      "pool1: torch.Size([64, 10, 12, 12])\n",
      "start: torch.Size([64, 1, 28, 28])\n",
      "conv1: torch.Size([64, 10, 24, 24])\n",
      "pool1: torch.Size([64, 10, 12, 12])\n"
     ]
    },
    {
     "name": "stderr",
     "output_type": "stream",
     "text": [
      "Epoch 4:  33%|█████████████▌                           | 311/938 [00:11<00:24, 26.10batch/s, accuracy=96.9, loss=0.086]"
     ]
    },
    {
     "name": "stdout",
     "output_type": "stream",
     "text": [
      "start: torch.Size([64, 1, 28, 28])\n",
      "conv1: torch.Size([64, 10, 24, 24])\n",
      "pool1: torch.Size([64, 10, 12, 12])\n",
      "start: torch.Size([64, 1, 28, 28])\n",
      "conv1: torch.Size([64, 10, 24, 24])\n",
      "pool1: torch.Size([64, 10, 12, 12])\n",
      "start: torch.Size([64, 1, 28, 28])\n",
      "conv1: torch.Size([64, 10, 24, 24])\n",
      "pool1: torch.Size([64, 10, 12, 12])\n",
      "start: torch.Size([64, 1, 28, 28])\n",
      "conv1: torch.Size([64, 10, 24, 24])\n",
      "pool1: torch.Size([64, 10, 12, 12])\n",
      "start: torch.Size([64, 1, 28, 28])\n",
      "conv1: torch.Size([64, 10, 24, 24])\n",
      "pool1: torch.Size([64, 10, 12, 12])\n",
      "start: torch.Size([64, 1, 28, 28])\n"
     ]
    },
    {
     "name": "stderr",
     "output_type": "stream",
     "text": [
      "Epoch 4:  34%|█████████████▊                           | 317/938 [00:11<00:23, 25.92batch/s, accuracy=87.5, loss=0.631]"
     ]
    },
    {
     "name": "stdout",
     "output_type": "stream",
     "text": [
      "conv1: torch.Size([64, 10, 24, 24])\n",
      "pool1: torch.Size([64, 10, 12, 12])\n",
      "start: torch.Size([64, 1, 28, 28])\n",
      "conv1: torch.Size([64, 10, 24, 24])\n",
      "pool1: torch.Size([64, 10, 12, 12])\n",
      "start: torch.Size([64, 1, 28, 28])\n",
      "conv1: torch.Size([64, 10, 24, 24])\n",
      "pool1: torch.Size([64, 10, 12, 12])\n",
      "start: torch.Size([64, 1, 28, 28])\n",
      "conv1: torch.Size([64, 10, 24, 24])\n",
      "pool1: torch.Size([64, 10, 12, 12])\n",
      "start: torch.Size([64, 1, 28, 28])\n",
      "conv1: torch.Size([64, 10, 24, 24])\n",
      "pool1: torch.Size([64, 10, 12, 12])\n",
      "start: torch.Size([64, 1, 28, 28])\n"
     ]
    },
    {
     "name": "stderr",
     "output_type": "stream",
     "text": [
      "Epoch 4:  34%|██████████████                           | 323/938 [00:11<00:24, 25.39batch/s, accuracy=93.8, loss=0.174]"
     ]
    },
    {
     "name": "stdout",
     "output_type": "stream",
     "text": [
      "conv1: torch.Size([64, 10, 24, 24])\n",
      "pool1: torch.Size([64, 10, 12, 12])\n",
      "start: torch.Size([64, 1, 28, 28])\n",
      "conv1: torch.Size([64, 10, 24, 24])\n",
      "pool1: torch.Size([64, 10, 12, 12])\n",
      "start: torch.Size([64, 1, 28, 28])\n",
      "conv1: torch.Size([64, 10, 24, 24])\n",
      "pool1: torch.Size([64, 10, 12, 12])\n",
      "start: torch.Size([64, 1, 28, 28])\n",
      "conv1: torch.Size([64, 10, 24, 24])\n",
      "pool1: torch.Size([64, 10, 12, 12])\n",
      "start: torch.Size([64, 1, 28, 28])\n",
      "conv1: torch.Size([64, 10, 24, 24])\n",
      "pool1: torch.Size([64, 10, 12, 12])\n",
      "start: torch.Size([64, 1, 28, 28])\n"
     ]
    },
    {
     "name": "stderr",
     "output_type": "stream",
     "text": [
      "Epoch 4:  35%|██████████████▏                          | 326/938 [00:12<00:23, 25.95batch/s, accuracy=100, loss=0.0297]"
     ]
    },
    {
     "name": "stdout",
     "output_type": "stream",
     "text": [
      "conv1: torch.Size([64, 10, 24, 24])\n",
      "pool1: torch.Size([64, 10, 12, 12])\n",
      "start: torch.Size([64, 1, 28, 28])\n",
      "conv1: torch.Size([64, 10, 24, 24])\n",
      "pool1: torch.Size([64, 10, 12, 12])\n",
      "start: torch.Size([64, 1, 28, 28])\n",
      "conv1: torch.Size([64, 10, 24, 24])\n",
      "pool1: torch.Size([64, 10, 12, 12])\n",
      "start: torch.Size([64, 1, 28, 28])\n",
      "conv1: torch.Size([64, 10, 24, 24])\n",
      "pool1: torch.Size([64, 10, 12, 12])\n",
      "start: torch.Size([64, 1, 28, 28])\n",
      "conv1: torch.Size([64, 10, 24, 24])\n",
      "pool1: torch.Size([64, 10, 12, 12])\n"
     ]
    },
    {
     "name": "stderr",
     "output_type": "stream",
     "text": [
      "Epoch 4:  35%|██████████████▌                          | 332/938 [00:12<00:24, 24.62batch/s, accuracy=92.2, loss=0.341]"
     ]
    },
    {
     "name": "stdout",
     "output_type": "stream",
     "text": [
      "start: torch.Size([64, 1, 28, 28])\n",
      "conv1: torch.Size([64, 10, 24, 24])\n",
      "pool1: torch.Size([64, 10, 12, 12])\n",
      "start: torch.Size([64, 1, 28, 28])\n",
      "conv1: torch.Size([64, 10, 24, 24])\n",
      "pool1: torch.Size([64, 10, 12, 12])\n",
      "start: torch.Size([64, 1, 28, 28])\n",
      "conv1: torch.Size([64, 10, 24, 24])\n",
      "pool1: torch.Size([64, 10, 12, 12])\n",
      "start: torch.Size([64, 1, 28, 28])\n",
      "conv1: torch.Size([64, 10, 24, 24])\n",
      "pool1: torch.Size([64, 10, 12, 12])\n",
      "start: torch.Size([64, 1, 28, 28])\n",
      "conv1: torch.Size([64, 10, 24, 24])\n",
      "pool1: torch.Size([64, 10, 12, 12])\n"
     ]
    },
    {
     "name": "stderr",
     "output_type": "stream",
     "text": [
      "Epoch 4:  36%|██████████████▎                         | 335/938 [00:12<00:24, 24.45batch/s, accuracy=98.4, loss=0.0625]"
     ]
    },
    {
     "name": "stdout",
     "output_type": "stream",
     "text": [
      "start: torch.Size([64, 1, 28, 28])\n",
      "conv1: torch.Size([64, 10, 24, 24])\n",
      "pool1: torch.Size([64, 10, 12, 12])\n",
      "start: torch.Size([64, 1, 28, 28])\n",
      "conv1: torch.Size([64, 10, 24, 24])\n",
      "pool1: torch.Size([64, 10, 12, 12])\n",
      "start: torch.Size([64, 1, 28, 28])\n",
      "conv1: torch.Size([64, 10, 24, 24])\n",
      "pool1: torch.Size([64, 10, 12, 12])\n",
      "start: torch.Size([64, 1, 28, 28])\n",
      "conv1: torch.Size([64, 10, 24, 24])\n",
      "pool1: torch.Size([64, 10, 12, 12])\n",
      "start: torch.Size([64, 1, 28, 28])\n",
      "conv1: torch.Size([64, 10, 24, 24])\n"
     ]
    },
    {
     "name": "stderr",
     "output_type": "stream",
     "text": [
      "Epoch 4:  36%|██████████████▉                          | 341/938 [00:12<00:24, 24.82batch/s, accuracy=95.3, loss=0.166]"
     ]
    },
    {
     "name": "stdout",
     "output_type": "stream",
     "text": [
      "pool1: torch.Size([64, 10, 12, 12])\n",
      "start: torch.Size([64, 1, 28, 28])\n",
      "conv1: torch.Size([64, 10, 24, 24])\n",
      "pool1: torch.Size([64, 10, 12, 12])\n",
      "start: torch.Size([64, 1, 28, 28])\n",
      "conv1: torch.Size([64, 10, 24, 24])\n",
      "pool1: torch.Size([64, 10, 12, 12])\n",
      "start: torch.Size([64, 1, 28, 28])\n",
      "conv1: torch.Size([64, 10, 24, 24])\n",
      "pool1: torch.Size([64, 10, 12, 12])\n",
      "start: torch.Size([64, 1, 28, 28])\n",
      "conv1: torch.Size([64, 10, 24, 24])\n",
      "pool1: torch.Size([64, 10, 12, 12])\n",
      "start: torch.Size([64, 1, 28, 28])\n"
     ]
    },
    {
     "name": "stderr",
     "output_type": "stream",
     "text": [
      "Epoch 4:  37%|███████████████▏                         | 347/938 [00:12<00:23, 24.87batch/s, accuracy=93.8, loss=0.124]"
     ]
    },
    {
     "name": "stdout",
     "output_type": "stream",
     "text": [
      "conv1: torch.Size([64, 10, 24, 24])\n",
      "pool1: torch.Size([64, 10, 12, 12])\n",
      "start: torch.Size([64, 1, 28, 28])\n",
      "conv1: torch.Size([64, 10, 24, 24])\n",
      "pool1: torch.Size([64, 10, 12, 12])\n",
      "start: torch.Size([64, 1, 28, 28])\n",
      "conv1: torch.Size([64, 10, 24, 24])\n",
      "pool1: torch.Size([64, 10, 12, 12])\n",
      "start: torch.Size([64, 1, 28, 28])\n",
      "conv1: torch.Size([64, 10, 24, 24])\n",
      "pool1: torch.Size([64, 10, 12, 12])\n",
      "start: torch.Size([64, 1, 28, 28])\n",
      "conv1: torch.Size([64, 10, 24, 24])\n",
      "pool1: torch.Size([64, 10, 12, 12])\n",
      "start: torch.Size([64, 1, 28, 28])\n"
     ]
    },
    {
     "name": "stderr",
     "output_type": "stream",
     "text": [
      "Epoch 4:  37%|███████████████▎                         | 350/938 [00:13<00:23, 25.24batch/s, accuracy=96.9, loss=0.193]"
     ]
    },
    {
     "name": "stdout",
     "output_type": "stream",
     "text": [
      "conv1: torch.Size([64, 10, 24, 24])\n",
      "pool1: torch.Size([64, 10, 12, 12])\n",
      "start: torch.Size([64, 1, 28, 28])\n",
      "conv1: torch.Size([64, 10, 24, 24])\n",
      "pool1: torch.Size([64, 10, 12, 12])\n",
      "start: torch.Size([64, 1, 28, 28])\n",
      "conv1: torch.Size([64, 10, 24, 24])\n",
      "pool1: torch.Size([64, 10, 12, 12])\n",
      "start: torch.Size([64, 1, 28, 28])\n",
      "conv1: torch.Size([64, 10, 24, 24])\n",
      "pool1: torch.Size([64, 10, 12, 12])\n",
      "start: torch.Size([64, 1, 28, 28])\n",
      "conv1: torch.Size([64, 10, 24, 24])\n",
      "pool1: torch.Size([64, 10, 12, 12])\n",
      "start: torch.Size([64, 1, 28, 28])\n"
     ]
    },
    {
     "name": "stderr",
     "output_type": "stream",
     "text": [
      "Epoch 4:  38%|███████████████▌                         | 356/938 [00:13<00:22, 25.56batch/s, accuracy=98.4, loss=0.041]"
     ]
    },
    {
     "name": "stdout",
     "output_type": "stream",
     "text": [
      "conv1: torch.Size([64, 10, 24, 24])\n",
      "pool1: torch.Size([64, 10, 12, 12])\n",
      "start: torch.Size([64, 1, 28, 28])\n",
      "conv1: torch.Size([64, 10, 24, 24])\n",
      "pool1: torch.Size([64, 10, 12, 12])\n",
      "start: torch.Size([64, 1, 28, 28])\n",
      "conv1: torch.Size([64, 10, 24, 24])\n",
      "pool1: torch.Size([64, 10, 12, 12])\n",
      "start: torch.Size([64, 1, 28, 28])\n",
      "conv1: torch.Size([64, 10, 24, 24])\n",
      "pool1: torch.Size([64, 10, 12, 12])\n",
      "start: torch.Size([64, 1, 28, 28])\n",
      "conv1: torch.Size([64, 10, 24, 24])\n",
      "pool1: torch.Size([64, 10, 12, 12])\n",
      "start: torch.Size([64, 1, 28, 28])\n"
     ]
    },
    {
     "name": "stderr",
     "output_type": "stream",
     "text": [
      "Epoch 4:  39%|███████████████▊                         | 362/938 [00:13<00:21, 27.06batch/s, accuracy=95.3, loss=0.188]"
     ]
    },
    {
     "name": "stdout",
     "output_type": "stream",
     "text": [
      "conv1: torch.Size([64, 10, 24, 24])\n",
      "pool1: torch.Size([64, 10, 12, 12])\n",
      "start: torch.Size([64, 1, 28, 28])\n",
      "conv1: torch.Size([64, 10, 24, 24])\n",
      "pool1: torch.Size([64, 10, 12, 12])\n",
      "start: torch.Size([64, 1, 28, 28])\n",
      "conv1: torch.Size([64, 10, 24, 24])\n",
      "pool1: torch.Size([64, 10, 12, 12])\n",
      "start: torch.Size([64, 1, 28, 28])\n",
      "conv1: torch.Size([64, 10, 24, 24])\n",
      "pool1: torch.Size([64, 10, 12, 12])\n",
      "start: torch.Size([64, 1, 28, 28])\n",
      "conv1: torch.Size([64, 10, 24, 24])\n",
      "pool1: torch.Size([64, 10, 12, 12])\n",
      "start: torch.Size([64, 1, 28, 28])\n"
     ]
    },
    {
     "name": "stderr",
     "output_type": "stream",
     "text": [
      "Epoch 4:  39%|███████████████▉                         | 365/938 [00:13<00:21, 26.36batch/s, accuracy=95.3, loss=0.113]"
     ]
    },
    {
     "name": "stdout",
     "output_type": "stream",
     "text": [
      "conv1: torch.Size([64, 10, 24, 24])\n",
      "pool1: torch.Size([64, 10, 12, 12])\n",
      "start: torch.Size([64, 1, 28, 28])\n",
      "conv1: torch.Size([64, 10, 24, 24])\n",
      "pool1: torch.Size([64, 10, 12, 12])\n",
      "start: torch.Size([64, 1, 28, 28])\n",
      "conv1: torch.Size([64, 10, 24, 24])\n",
      "pool1: torch.Size([64, 10, 12, 12])\n",
      "start: torch.Size([64, 1, 28, 28])\n",
      "conv1: torch.Size([64, 10, 24, 24])\n",
      "pool1: torch.Size([64, 10, 12, 12])\n",
      "start: torch.Size([64, 1, 28, 28])\n",
      "conv1: torch.Size([64, 10, 24, 24])\n",
      "pool1: torch.Size([64, 10, 12, 12])\n",
      "start: torch.Size([64, 1, 28, 28])\n"
     ]
    },
    {
     "name": "stderr",
     "output_type": "stream",
     "text": [
      "Epoch 4:  40%|████████████████▏                        | 371/938 [00:13<00:21, 26.19batch/s, accuracy=93.8, loss=0.219]"
     ]
    },
    {
     "name": "stdout",
     "output_type": "stream",
     "text": [
      "conv1: torch.Size([64, 10, 24, 24])\n",
      "pool1: torch.Size([64, 10, 12, 12])\n",
      "start: torch.Size([64, 1, 28, 28])\n",
      "conv1: torch.Size([64, 10, 24, 24])\n",
      "pool1: torch.Size([64, 10, 12, 12])\n",
      "start: torch.Size([64, 1, 28, 28])\n",
      "conv1: torch.Size([64, 10, 24, 24])\n",
      "pool1: torch.Size([64, 10, 12, 12])\n",
      "start: torch.Size([64, 1, 28, 28])\n",
      "conv1: torch.Size([64, 10, 24, 24])\n",
      "pool1: torch.Size([64, 10, 12, 12])\n",
      "start: torch.Size([64, 1, 28, 28])\n",
      "conv1: torch.Size([64, 10, 24, 24])\n",
      "pool1: torch.Size([64, 10, 12, 12])\n",
      "start: torch.Size([64, 1, 28, 28])\n",
      "conv1: torch.Size([64, 10, 24, 24])\n",
      "pool1: torch.Size([64, 10, 12, 12])\n"
     ]
    },
    {
     "name": "stderr",
     "output_type": "stream",
     "text": [
      "Epoch 4:  40%|████████████████▌                        | 378/938 [00:14<00:20, 27.15batch/s, accuracy=93.8, loss=0.127]"
     ]
    },
    {
     "name": "stdout",
     "output_type": "stream",
     "text": [
      "start: torch.Size([64, 1, 28, 28])\n",
      "conv1: torch.Size([64, 10, 24, 24])\n",
      "pool1: torch.Size([64, 10, 12, 12])\n",
      "start: torch.Size([64, 1, 28, 28])\n",
      "conv1: torch.Size([64, 10, 24, 24])\n",
      "pool1: torch.Size([64, 10, 12, 12])\n",
      "start: torch.Size([64, 1, 28, 28])\n",
      "conv1: torch.Size([64, 10, 24, 24])\n",
      "pool1: torch.Size([64, 10, 12, 12])\n",
      "start: torch.Size([64, 1, 28, 28])\n",
      "conv1: torch.Size([64, 10, 24, 24])\n",
      "pool1: torch.Size([64, 10, 12, 12])\n",
      "start: torch.Size([64, 1, 28, 28])\n",
      "conv1: torch.Size([64, 10, 24, 24])\n",
      "pool1: torch.Size([64, 10, 12, 12])\n",
      "start: torch.Size([64, 1, 28, 28])\n"
     ]
    },
    {
     "name": "stderr",
     "output_type": "stream",
     "text": [
      "Epoch 4:  41%|████████████████▋                        | 381/938 [00:14<00:20, 26.92batch/s, accuracy=96.9, loss=0.194]"
     ]
    },
    {
     "name": "stdout",
     "output_type": "stream",
     "text": [
      "conv1: torch.Size([64, 10, 24, 24])\n",
      "pool1: torch.Size([64, 10, 12, 12])\n",
      "start: torch.Size([64, 1, 28, 28])\n",
      "conv1: torch.Size([64, 10, 24, 24])\n",
      "pool1: torch.Size([64, 10, 12, 12])\n",
      "start: torch.Size([64, 1, 28, 28])\n",
      "conv1: torch.Size([64, 10, 24, 24])\n",
      "pool1: torch.Size([64, 10, 12, 12])\n",
      "start: torch.Size([64, 1, 28, 28])\n",
      "conv1: torch.Size([64, 10, 24, 24])\n",
      "pool1: torch.Size([64, 10, 12, 12])\n",
      "start: torch.Size([64, 1, 28, 28])\n",
      "conv1: torch.Size([64, 10, 24, 24])\n",
      "pool1: torch.Size([64, 10, 12, 12])\n",
      "start: torch.Size([64, 1, 28, 28])\n"
     ]
    },
    {
     "name": "stderr",
     "output_type": "stream",
     "text": [
      "Epoch 4:  41%|████████████████▉                        | 387/938 [00:14<00:20, 27.02batch/s, accuracy=89.1, loss=0.455]"
     ]
    },
    {
     "name": "stdout",
     "output_type": "stream",
     "text": [
      "conv1: torch.Size([64, 10, 24, 24])\n",
      "pool1: torch.Size([64, 10, 12, 12])\n",
      "start: torch.Size([64, 1, 28, 28])\n",
      "conv1: torch.Size([64, 10, 24, 24])\n",
      "pool1: torch.Size([64, 10, 12, 12])\n",
      "start: torch.Size([64, 1, 28, 28])\n",
      "conv1: torch.Size([64, 10, 24, 24])\n",
      "pool1: torch.Size([64, 10, 12, 12])\n",
      "start: torch.Size([64, 1, 28, 28])\n",
      "conv1: torch.Size([64, 10, 24, 24])\n",
      "pool1: torch.Size([64, 10, 12, 12])\n",
      "start: torch.Size([64, 1, 28, 28])\n",
      "conv1: torch.Size([64, 10, 24, 24])\n",
      "pool1: torch.Size([64, 10, 12, 12])\n",
      "start: torch.Size([64, 1, 28, 28])\n",
      "conv1: torch.Size([64, 10, 24, 24])\n",
      "pool1: torch.Size([64, 10, 12, 12])\n"
     ]
    },
    {
     "name": "stderr",
     "output_type": "stream",
     "text": [
      "Epoch 4:  42%|█████████████████▏                       | 393/938 [00:14<00:19, 28.27batch/s, accuracy=90.6, loss=0.202]"
     ]
    },
    {
     "name": "stdout",
     "output_type": "stream",
     "text": [
      "start: torch.Size([64, 1, 28, 28])\n",
      "conv1: torch.Size([64, 10, 24, 24])\n",
      "pool1: torch.Size([64, 10, 12, 12])\n",
      "start: torch.Size([64, 1, 28, 28])\n",
      "conv1: torch.Size([64, 10, 24, 24])\n",
      "pool1: torch.Size([64, 10, 12, 12])\n",
      "start: torch.Size([64, 1, 28, 28])\n",
      "conv1: torch.Size([64, 10, 24, 24])\n",
      "pool1: torch.Size([64, 10, 12, 12])\n",
      "start: torch.Size([64, 1, 28, 28])\n",
      "conv1: torch.Size([64, 10, 24, 24])\n",
      "pool1: torch.Size([64, 10, 12, 12])\n",
      "start: torch.Size([64, 1, 28, 28])\n",
      "conv1: torch.Size([64, 10, 24, 24])\n",
      "pool1: torch.Size([64, 10, 12, 12])\n",
      "start: torch.Size([64, 1, 28, 28])\n",
      "conv1: torch.Size([64, 10, 24, 24])\n",
      "pool1: torch.Size([64, 10, 12, 12])\n"
     ]
    },
    {
     "name": "stderr",
     "output_type": "stream",
     "text": [
      "Epoch 4:  43%|█████████████████▊                        | 399/938 [00:14<00:18, 28.39batch/s, accuracy=96.9, loss=0.14]"
     ]
    },
    {
     "name": "stdout",
     "output_type": "stream",
     "text": [
      "start: torch.Size([64, 1, 28, 28])\n",
      "conv1: torch.Size([64, 10, 24, 24])\n",
      "pool1: torch.Size([64, 10, 12, 12])\n",
      "start: torch.Size([64, 1, 28, 28])\n",
      "conv1: torch.Size([64, 10, 24, 24])\n",
      "pool1: torch.Size([64, 10, 12, 12])\n",
      "start: torch.Size([64, 1, 28, 28])\n",
      "conv1: torch.Size([64, 10, 24, 24])\n",
      "pool1: torch.Size([64, 10, 12, 12])\n",
      "start: torch.Size([64, 1, 28, 28])\n",
      "conv1: torch.Size([64, 10, 24, 24])\n",
      "pool1: torch.Size([64, 10, 12, 12])\n",
      "start: torch.Size([64, 1, 28, 28])\n",
      "conv1: torch.Size([64, 10, 24, 24])\n",
      "pool1: torch.Size([64, 10, 12, 12])\n",
      "start: torch.Size([64, 1, 28, 28])\n"
     ]
    },
    {
     "name": "stderr",
     "output_type": "stream",
     "text": [
      "Epoch 4:  43%|█████████████████▋                       | 405/938 [00:15<00:19, 27.39batch/s, accuracy=93.8, loss=0.386]"
     ]
    },
    {
     "name": "stdout",
     "output_type": "stream",
     "text": [
      "conv1: torch.Size([64, 10, 24, 24])\n",
      "pool1: torch.Size([64, 10, 12, 12])\n",
      "start: torch.Size([64, 1, 28, 28])\n",
      "conv1: torch.Size([64, 10, 24, 24])\n",
      "pool1: torch.Size([64, 10, 12, 12])\n",
      "start: torch.Size([64, 1, 28, 28])\n",
      "conv1: torch.Size([64, 10, 24, 24])\n",
      "pool1: torch.Size([64, 10, 12, 12])\n",
      "start: torch.Size([64, 1, 28, 28])\n",
      "conv1: torch.Size([64, 10, 24, 24])\n",
      "pool1: torch.Size([64, 10, 12, 12])\n",
      "start: torch.Size([64, 1, 28, 28])\n",
      "conv1: torch.Size([64, 10, 24, 24])\n",
      "pool1: torch.Size([64, 10, 12, 12])\n",
      "start: torch.Size([64, 1, 28, 28])\n",
      "conv1: torch.Size([64, 10, 24, 24])\n",
      "pool1: torch.Size([64, 10, 12, 12])\n"
     ]
    },
    {
     "name": "stderr",
     "output_type": "stream",
     "text": [
      "Epoch 4:  44%|█████████████████▉                       | 411/938 [00:15<00:18, 28.48batch/s, accuracy=93.8, loss=0.136]"
     ]
    },
    {
     "name": "stdout",
     "output_type": "stream",
     "text": [
      "start: torch.Size([64, 1, 28, 28])\n",
      "conv1: torch.Size([64, 10, 24, 24])\n",
      "pool1: torch.Size([64, 10, 12, 12])\n",
      "start: torch.Size([64, 1, 28, 28])\n",
      "conv1: torch.Size([64, 10, 24, 24])\n",
      "pool1: torch.Size([64, 10, 12, 12])\n",
      "start: torch.Size([64, 1, 28, 28])\n",
      "conv1: torch.Size([64, 10, 24, 24])\n",
      "pool1: torch.Size([64, 10, 12, 12])\n",
      "start: torch.Size([64, 1, 28, 28])\n",
      "conv1: torch.Size([64, 10, 24, 24])\n",
      "pool1: torch.Size([64, 10, 12, 12])\n",
      "start: torch.Size([64, 1, 28, 28])\n",
      "conv1: torch.Size([64, 10, 24, 24])\n",
      "pool1: torch.Size([64, 10, 12, 12])\n",
      "start: torch.Size([64, 1, 28, 28])\n",
      "conv1: torch.Size([64, 10, 24, 24])\n",
      "pool1: torch.Size([64, 10, 12, 12])\n"
     ]
    },
    {
     "name": "stderr",
     "output_type": "stream",
     "text": [
      "Epoch 4:  44%|█████████████████▊                      | 417/938 [00:15<00:18, 28.10batch/s, accuracy=98.4, loss=0.0619]"
     ]
    },
    {
     "name": "stdout",
     "output_type": "stream",
     "text": [
      "start: torch.Size([64, 1, 28, 28])\n",
      "conv1: torch.Size([64, 10, 24, 24])\n",
      "pool1: torch.Size([64, 10, 12, 12])\n",
      "start: torch.Size([64, 1, 28, 28])\n",
      "conv1: torch.Size([64, 10, 24, 24])\n",
      "pool1: torch.Size([64, 10, 12, 12])\n",
      "start: torch.Size([64, 1, 28, 28])\n",
      "conv1: torch.Size([64, 10, 24, 24])\n",
      "pool1: torch.Size([64, 10, 12, 12])\n",
      "start: torch.Size([64, 1, 28, 28])\n",
      "conv1: torch.Size([64, 10, 24, 24])\n",
      "pool1: torch.Size([64, 10, 12, 12])\n",
      "start: torch.Size([64, 1, 28, 28])\n",
      "conv1: torch.Size([64, 10, 24, 24])\n",
      "pool1: torch.Size([64, 10, 12, 12])\n",
      "start: torch.Size([64, 1, 28, 28])\n"
     ]
    },
    {
     "name": "stderr",
     "output_type": "stream",
     "text": [
      "Epoch 4:  45%|██████████████████▎                      | 420/938 [00:15<00:18, 28.18batch/s, accuracy=95.3, loss=0.171]"
     ]
    },
    {
     "name": "stdout",
     "output_type": "stream",
     "text": [
      "conv1: torch.Size([64, 10, 24, 24])\n",
      "pool1: torch.Size([64, 10, 12, 12])\n",
      "start: torch.Size([64, 1, 28, 28])\n",
      "conv1: torch.Size([64, 10, 24, 24])\n",
      "pool1: torch.Size([64, 10, 12, 12])\n",
      "start: torch.Size([64, 1, 28, 28])\n",
      "conv1: torch.Size([64, 10, 24, 24])\n",
      "pool1: torch.Size([64, 10, 12, 12])\n",
      "start: torch.Size([64, 1, 28, 28])\n",
      "conv1: torch.Size([64, 10, 24, 24])\n",
      "pool1: torch.Size([64, 10, 12, 12])\n",
      "start: torch.Size([64, 1, 28, 28])\n",
      "conv1: torch.Size([64, 10, 24, 24])\n",
      "pool1: torch.Size([64, 10, 12, 12])\n",
      "start: torch.Size([64, 1, 28, 28])\n"
     ]
    },
    {
     "name": "stderr",
     "output_type": "stream",
     "text": [
      "Epoch 4:  45%|██████████████████▌                      | 426/938 [00:15<00:18, 27.21batch/s, accuracy=93.8, loss=0.171]"
     ]
    },
    {
     "name": "stdout",
     "output_type": "stream",
     "text": [
      "conv1: torch.Size([64, 10, 24, 24])\n",
      "pool1: torch.Size([64, 10, 12, 12])\n",
      "start: torch.Size([64, 1, 28, 28])\n",
      "conv1: torch.Size([64, 10, 24, 24])\n",
      "pool1: torch.Size([64, 10, 12, 12])\n",
      "start: torch.Size([64, 1, 28, 28])\n",
      "conv1: torch.Size([64, 10, 24, 24])\n",
      "pool1: torch.Size([64, 10, 12, 12])\n",
      "start: torch.Size([64, 1, 28, 28])\n",
      "conv1: torch.Size([64, 10, 24, 24])\n",
      "pool1: torch.Size([64, 10, 12, 12])\n",
      "start: torch.Size([64, 1, 28, 28])\n",
      "conv1: torch.Size([64, 10, 24, 24])\n",
      "pool1: torch.Size([64, 10, 12, 12])\n",
      "start: torch.Size([64, 1, 28, 28])\n"
     ]
    },
    {
     "name": "stderr",
     "output_type": "stream",
     "text": [
      "Epoch 4:  46%|██████████████████▉                      | 432/938 [00:16<00:18, 27.07batch/s, accuracy=92.2, loss=0.364]"
     ]
    },
    {
     "name": "stdout",
     "output_type": "stream",
     "text": [
      "conv1: torch.Size([64, 10, 24, 24])\n",
      "pool1: torch.Size([64, 10, 12, 12])\n",
      "start: torch.Size([64, 1, 28, 28])\n",
      "conv1: torch.Size([64, 10, 24, 24])\n",
      "pool1: torch.Size([64, 10, 12, 12])\n",
      "start: torch.Size([64, 1, 28, 28])\n",
      "conv1: torch.Size([64, 10, 24, 24])\n",
      "pool1: torch.Size([64, 10, 12, 12])\n",
      "start: torch.Size([64, 1, 28, 28])\n",
      "conv1: torch.Size([64, 10, 24, 24])\n",
      "pool1: torch.Size([64, 10, 12, 12])\n",
      "start: torch.Size([64, 1, 28, 28])\n",
      "conv1: torch.Size([64, 10, 24, 24])\n",
      "pool1: torch.Size([64, 10, 12, 12])\n",
      "start: torch.Size([64, 1, 28, 28])\n",
      "conv1: torch.Size([64, 10, 24, 24])\n",
      "pool1: torch.Size([64, 10, 12, 12])\n"
     ]
    },
    {
     "name": "stderr",
     "output_type": "stream",
     "text": [
      "Epoch 4:  47%|███████████████████▏                     | 438/938 [00:16<00:18, 26.91batch/s, accuracy=96.9, loss=0.145]"
     ]
    },
    {
     "name": "stdout",
     "output_type": "stream",
     "text": [
      "start: torch.Size([64, 1, 28, 28])\n",
      "conv1: torch.Size([64, 10, 24, 24])\n",
      "pool1: torch.Size([64, 10, 12, 12])\n",
      "start: torch.Size([64, 1, 28, 28])\n",
      "conv1: torch.Size([64, 10, 24, 24])\n",
      "pool1: torch.Size([64, 10, 12, 12])\n",
      "start: torch.Size([64, 1, 28, 28])\n",
      "conv1: torch.Size([64, 10, 24, 24])\n",
      "pool1: torch.Size([64, 10, 12, 12])\n",
      "start: torch.Size([64, 1, 28, 28])\n",
      "conv1: torch.Size([64, 10, 24, 24])\n",
      "pool1: torch.Size([64, 10, 12, 12])\n",
      "start: torch.Size([64, 1, 28, 28])\n",
      "conv1: torch.Size([64, 10, 24, 24])\n",
      "pool1: torch.Size([64, 10, 12, 12])\n",
      "start: torch.Size([64, 1, 28, 28])\n"
     ]
    },
    {
     "name": "stderr",
     "output_type": "stream",
     "text": [
      "Epoch 4:  47%|██████████████████▊                     | 441/938 [00:16<00:18, 26.97batch/s, accuracy=98.4, loss=0.0463]"
     ]
    },
    {
     "name": "stdout",
     "output_type": "stream",
     "text": [
      "conv1: torch.Size([64, 10, 24, 24])\n",
      "pool1: torch.Size([64, 10, 12, 12])\n",
      "start: torch.Size([64, 1, 28, 28])\n",
      "conv1: torch.Size([64, 10, 24, 24])\n",
      "pool1: torch.Size([64, 10, 12, 12])\n",
      "start: torch.Size([64, 1, 28, 28])\n",
      "conv1: torch.Size([64, 10, 24, 24])\n",
      "pool1: torch.Size([64, 10, 12, 12])\n",
      "start: torch.Size([64, 1, 28, 28])\n",
      "conv1: torch.Size([64, 10, 24, 24])\n",
      "pool1: torch.Size([64, 10, 12, 12])\n",
      "start: torch.Size([64, 1, 28, 28])\n",
      "conv1: torch.Size([64, 10, 24, 24])\n",
      "pool1: torch.Size([64, 10, 12, 12])\n",
      "start: torch.Size([64, 1, 28, 28])\n"
     ]
    },
    {
     "name": "stderr",
     "output_type": "stream",
     "text": [
      "Epoch 4:  48%|███████████████████▌                     | 447/938 [00:16<00:19, 25.78batch/s, accuracy=96.9, loss=0.138]"
     ]
    },
    {
     "name": "stdout",
     "output_type": "stream",
     "text": [
      "conv1: torch.Size([64, 10, 24, 24])\n",
      "pool1: torch.Size([64, 10, 12, 12])\n",
      "start: torch.Size([64, 1, 28, 28])\n",
      "conv1: torch.Size([64, 10, 24, 24])\n",
      "pool1: torch.Size([64, 10, 12, 12])\n",
      "start: torch.Size([64, 1, 28, 28])\n",
      "conv1: torch.Size([64, 10, 24, 24])\n",
      "pool1: torch.Size([64, 10, 12, 12])\n",
      "start: torch.Size([64, 1, 28, 28])\n",
      "conv1: torch.Size([64, 10, 24, 24])\n",
      "pool1: torch.Size([64, 10, 12, 12])\n",
      "start: torch.Size([64, 1, 28, 28])\n",
      "conv1: torch.Size([64, 10, 24, 24])\n",
      "pool1: torch.Size([64, 10, 12, 12])\n",
      "start: torch.Size([64, 1, 28, 28])\n"
     ]
    },
    {
     "name": "stderr",
     "output_type": "stream",
     "text": [
      "Epoch 4:  48%|███████████████████▋                     | 450/938 [00:16<00:19, 25.30batch/s, accuracy=100, loss=0.0139]"
     ]
    },
    {
     "name": "stdout",
     "output_type": "stream",
     "text": [
      "conv1: torch.Size([64, 10, 24, 24])\n",
      "pool1: torch.Size([64, 10, 12, 12])\n",
      "start: torch.Size([64, 1, 28, 28])\n",
      "conv1: torch.Size([64, 10, 24, 24])\n",
      "pool1: torch.Size([64, 10, 12, 12])\n",
      "start: torch.Size([64, 1, 28, 28])\n",
      "conv1: torch.Size([64, 10, 24, 24])\n",
      "pool1: torch.Size([64, 10, 12, 12])\n",
      "start: torch.Size([64, 1, 28, 28])\n",
      "conv1: torch.Size([64, 10, 24, 24])\n",
      "pool1: torch.Size([64, 10, 12, 12])\n",
      "start: torch.Size([64, 1, 28, 28])\n",
      "conv1: torch.Size([64, 10, 24, 24])\n",
      "pool1: torch.Size([64, 10, 12, 12])\n"
     ]
    },
    {
     "name": "stderr",
     "output_type": "stream",
     "text": [
      "Epoch 4:  49%|███████████████████▉                     | 456/938 [00:17<00:20, 23.91batch/s, accuracy=92.2, loss=0.258]"
     ]
    },
    {
     "name": "stdout",
     "output_type": "stream",
     "text": [
      "start: torch.Size([64, 1, 28, 28])\n",
      "conv1: torch.Size([64, 10, 24, 24])\n",
      "pool1: torch.Size([64, 10, 12, 12])\n",
      "start: torch.Size([64, 1, 28, 28])\n",
      "conv1: torch.Size([64, 10, 24, 24])\n",
      "pool1: torch.Size([64, 10, 12, 12])\n",
      "start: torch.Size([64, 1, 28, 28])\n",
      "conv1: torch.Size([64, 10, 24, 24])\n",
      "pool1: torch.Size([64, 10, 12, 12])\n",
      "start: torch.Size([64, 1, 28, 28])\n",
      "conv1: torch.Size([64, 10, 24, 24])\n",
      "pool1: torch.Size([64, 10, 12, 12])\n",
      "start: torch.Size([64, 1, 28, 28])\n",
      "conv1: torch.Size([64, 10, 24, 24])\n",
      "pool1: torch.Size([64, 10, 12, 12])\n"
     ]
    },
    {
     "name": "stderr",
     "output_type": "stream",
     "text": [
      "Epoch 4:  49%|████████████████████▏                    | 462/938 [00:17<00:20, 22.82batch/s, accuracy=95.3, loss=0.117]"
     ]
    },
    {
     "name": "stdout",
     "output_type": "stream",
     "text": [
      "start: torch.Size([64, 1, 28, 28])\n",
      "conv1: torch.Size([64, 10, 24, 24])\n",
      "pool1: torch.Size([64, 10, 12, 12])\n",
      "start: torch.Size([64, 1, 28, 28])\n",
      "conv1: torch.Size([64, 10, 24, 24])\n",
      "pool1: torch.Size([64, 10, 12, 12])\n",
      "start: torch.Size([64, 1, 28, 28])\n",
      "conv1: torch.Size([64, 10, 24, 24])\n",
      "pool1: torch.Size([64, 10, 12, 12])\n",
      "start: torch.Size([64, 1, 28, 28])\n",
      "conv1: torch.Size([64, 10, 24, 24])\n",
      "pool1: torch.Size([64, 10, 12, 12])\n",
      "start: torch.Size([64, 1, 28, 28])\n"
     ]
    },
    {
     "name": "stderr",
     "output_type": "stream",
     "text": [
      "Epoch 4:  50%|████████████████████▎                    | 465/938 [00:17<00:21, 22.30batch/s, accuracy=95.3, loss=0.145]"
     ]
    },
    {
     "name": "stdout",
     "output_type": "stream",
     "text": [
      "conv1: torch.Size([64, 10, 24, 24])\n",
      "pool1: torch.Size([64, 10, 12, 12])\n",
      "start: torch.Size([64, 1, 28, 28])\n",
      "conv1: torch.Size([64, 10, 24, 24])\n",
      "pool1: torch.Size([64, 10, 12, 12])\n",
      "start: torch.Size([64, 1, 28, 28])\n",
      "conv1: torch.Size([64, 10, 24, 24])\n",
      "pool1: torch.Size([64, 10, 12, 12])\n",
      "start: torch.Size([64, 1, 28, 28])\n",
      "conv1: torch.Size([64, 10, 24, 24])\n",
      "pool1: torch.Size([64, 10, 12, 12])\n",
      "start: torch.Size([64, 1, 28, 28])\n"
     ]
    },
    {
     "name": "stderr",
     "output_type": "stream",
     "text": [
      "Epoch 4:  50%|████████████████████▍                    | 468/938 [00:17<00:21, 21.72batch/s, accuracy=96.9, loss=0.103]"
     ]
    },
    {
     "name": "stdout",
     "output_type": "stream",
     "text": [
      "conv1: torch.Size([64, 10, 24, 24])\n",
      "pool1: torch.Size([64, 10, 12, 12])\n",
      "start: torch.Size([64, 1, 28, 28])\n",
      "conv1: torch.Size([64, 10, 24, 24])\n",
      "pool1: torch.Size([64, 10, 12, 12])\n",
      "start: torch.Size([64, 1, 28, 28])\n",
      "conv1: torch.Size([64, 10, 24, 24])\n",
      "pool1: torch.Size([64, 10, 12, 12])\n",
      "start: torch.Size([64, 1, 28, 28])\n",
      "conv1: torch.Size([64, 10, 24, 24])\n",
      "pool1: torch.Size([64, 10, 12, 12])\n"
     ]
    },
    {
     "name": "stderr",
     "output_type": "stream",
     "text": [
      "Epoch 4:  51%|████████████████████▋                    | 474/938 [00:17<00:21, 21.11batch/s, accuracy=96.9, loss=0.155]"
     ]
    },
    {
     "name": "stdout",
     "output_type": "stream",
     "text": [
      "start: torch.Size([64, 1, 28, 28])\n",
      "conv1: torch.Size([64, 10, 24, 24])\n",
      "pool1: torch.Size([64, 10, 12, 12])\n",
      "start: torch.Size([64, 1, 28, 28])\n",
      "conv1: torch.Size([64, 10, 24, 24])\n",
      "pool1: torch.Size([64, 10, 12, 12])\n",
      "start: torch.Size([64, 1, 28, 28])\n",
      "conv1: torch.Size([64, 10, 24, 24])\n",
      "pool1: torch.Size([64, 10, 12, 12])\n",
      "start: torch.Size([64, 1, 28, 28])\n",
      "conv1: torch.Size([64, 10, 24, 24])\n",
      "pool1: torch.Size([64, 10, 12, 12])\n",
      "start: torch.Size([64, 1, 28, 28])\n"
     ]
    },
    {
     "name": "stderr",
     "output_type": "stream",
     "text": [
      "Epoch 4:  51%|████████████████████▊                    | 477/938 [00:18<00:21, 21.54batch/s, accuracy=96.9, loss=0.295]"
     ]
    },
    {
     "name": "stdout",
     "output_type": "stream",
     "text": [
      "conv1: torch.Size([64, 10, 24, 24])\n",
      "pool1: torch.Size([64, 10, 12, 12])\n",
      "start: torch.Size([64, 1, 28, 28])\n",
      "conv1: torch.Size([64, 10, 24, 24])\n",
      "pool1: torch.Size([64, 10, 12, 12])\n",
      "start: torch.Size([64, 1, 28, 28])\n",
      "conv1: torch.Size([64, 10, 24, 24])\n",
      "pool1: torch.Size([64, 10, 12, 12])\n",
      "start: torch.Size([64, 1, 28, 28])\n",
      "conv1: torch.Size([64, 10, 24, 24])\n",
      "pool1: torch.Size([64, 10, 12, 12])\n",
      "start: torch.Size([64, 1, 28, 28])\n",
      "conv1: torch.Size([64, 10, 24, 24])\n",
      "pool1: torch.Size([64, 10, 12, 12])\n"
     ]
    },
    {
     "name": "stderr",
     "output_type": "stream",
     "text": [
      "Epoch 4:  51%|█████████████████████                    | 483/938 [00:18<00:19, 23.20batch/s, accuracy=93.8, loss=0.264]"
     ]
    },
    {
     "name": "stdout",
     "output_type": "stream",
     "text": [
      "start: torch.Size([64, 1, 28, 28])\n",
      "conv1: torch.Size([64, 10, 24, 24])\n",
      "pool1: torch.Size([64, 10, 12, 12])\n",
      "start: torch.Size([64, 1, 28, 28])\n",
      "conv1: torch.Size([64, 10, 24, 24])\n",
      "pool1: torch.Size([64, 10, 12, 12])\n",
      "start: torch.Size([64, 1, 28, 28])\n",
      "conv1: torch.Size([64, 10, 24, 24])\n",
      "pool1: torch.Size([64, 10, 12, 12])\n",
      "start: torch.Size([64, 1, 28, 28])\n",
      "conv1: torch.Size([64, 10, 24, 24])\n",
      "pool1: torch.Size([64, 10, 12, 12])\n",
      "start: torch.Size([64, 1, 28, 28])\n",
      "conv1: torch.Size([64, 10, 24, 24])\n",
      "pool1: torch.Size([64, 10, 12, 12])\n",
      "start: torch.Size([64, 1, 28, 28])\n"
     ]
    },
    {
     "name": "stderr",
     "output_type": "stream",
     "text": [
      "Epoch 4:  52%|█████████████████████▏                   | 486/938 [00:18<00:19, 23.35batch/s, accuracy=95.3, loss=0.245]"
     ]
    },
    {
     "name": "stdout",
     "output_type": "stream",
     "text": [
      "conv1: torch.Size([64, 10, 24, 24])\n",
      "pool1: torch.Size([64, 10, 12, 12])\n",
      "start: torch.Size([64, 1, 28, 28])\n",
      "conv1: torch.Size([64, 10, 24, 24])\n",
      "pool1: torch.Size([64, 10, 12, 12])\n",
      "start: torch.Size([64, 1, 28, 28])\n",
      "conv1: torch.Size([64, 10, 24, 24])\n",
      "pool1: torch.Size([64, 10, 12, 12])\n",
      "start: torch.Size([64, 1, 28, 28])\n",
      "conv1: torch.Size([64, 10, 24, 24])\n",
      "pool1: torch.Size([64, 10, 12, 12])\n",
      "start: torch.Size([64, 1, 28, 28])\n",
      "conv1: torch.Size([64, 10, 24, 24])\n",
      "pool1: torch.Size([64, 10, 12, 12])\n"
     ]
    },
    {
     "name": "stderr",
     "output_type": "stream",
     "text": [
      "Epoch 4:  52%|█████████████████████▌                   | 492/938 [00:18<00:18, 24.55batch/s, accuracy=93.8, loss=0.307]"
     ]
    },
    {
     "name": "stdout",
     "output_type": "stream",
     "text": [
      "start: torch.Size([64, 1, 28, 28])\n",
      "conv1: torch.Size([64, 10, 24, 24])\n",
      "pool1: torch.Size([64, 10, 12, 12])\n",
      "start: torch.Size([64, 1, 28, 28])\n",
      "conv1: torch.Size([64, 10, 24, 24])\n",
      "pool1: torch.Size([64, 10, 12, 12])\n",
      "start: torch.Size([64, 1, 28, 28])\n",
      "conv1: torch.Size([64, 10, 24, 24])\n",
      "pool1: torch.Size([64, 10, 12, 12])\n",
      "start: torch.Size([64, 1, 28, 28])\n",
      "conv1: torch.Size([64, 10, 24, 24])\n",
      "pool1: torch.Size([64, 10, 12, 12])\n",
      "start: torch.Size([64, 1, 28, 28])\n",
      "conv1: torch.Size([64, 10, 24, 24])\n",
      "pool1: torch.Size([64, 10, 12, 12])\n",
      "start: torch.Size([64, 1, 28, 28])\n"
     ]
    },
    {
     "name": "stderr",
     "output_type": "stream",
     "text": [
      "Epoch 4:  53%|█████████████████████▊                   | 498/938 [00:18<00:17, 25.25batch/s, accuracy=93.8, loss=0.352]"
     ]
    },
    {
     "name": "stdout",
     "output_type": "stream",
     "text": [
      "conv1: torch.Size([64, 10, 24, 24])\n",
      "pool1: torch.Size([64, 10, 12, 12])\n",
      "start: torch.Size([64, 1, 28, 28])\n",
      "conv1: torch.Size([64, 10, 24, 24])\n",
      "pool1: torch.Size([64, 10, 12, 12])\n",
      "start: torch.Size([64, 1, 28, 28])\n",
      "conv1: torch.Size([64, 10, 24, 24])\n",
      "pool1: torch.Size([64, 10, 12, 12])\n",
      "start: torch.Size([64, 1, 28, 28])\n",
      "conv1: torch.Size([64, 10, 24, 24])\n",
      "pool1: torch.Size([64, 10, 12, 12])\n",
      "start: torch.Size([64, 1, 28, 28])\n",
      "conv1: torch.Size([64, 10, 24, 24])\n",
      "pool1: torch.Size([64, 10, 12, 12])\n",
      "start: torch.Size([64, 1, 28, 28])\n"
     ]
    },
    {
     "name": "stderr",
     "output_type": "stream",
     "text": [
      "Epoch 4:  54%|██████████████████████                   | 504/938 [00:19<00:17, 25.53batch/s, accuracy=93.8, loss=0.115]"
     ]
    },
    {
     "name": "stdout",
     "output_type": "stream",
     "text": [
      "conv1: torch.Size([64, 10, 24, 24])\n",
      "pool1: torch.Size([64, 10, 12, 12])\n",
      "start: torch.Size([64, 1, 28, 28])\n",
      "conv1: torch.Size([64, 10, 24, 24])\n",
      "pool1: torch.Size([64, 10, 12, 12])\n",
      "start: torch.Size([64, 1, 28, 28])\n",
      "conv1: torch.Size([64, 10, 24, 24])\n",
      "pool1: torch.Size([64, 10, 12, 12])\n",
      "start: torch.Size([64, 1, 28, 28])\n",
      "conv1: torch.Size([64, 10, 24, 24])\n",
      "pool1: torch.Size([64, 10, 12, 12])\n",
      "start: torch.Size([64, 1, 28, 28])\n",
      "conv1: torch.Size([64, 10, 24, 24])\n",
      "pool1: torch.Size([64, 10, 12, 12])\n",
      "start: torch.Size([64, 1, 28, 28])\n"
     ]
    },
    {
     "name": "stderr",
     "output_type": "stream",
     "text": [
      "Epoch 4:  54%|██████████████████████▏                  | 507/938 [00:19<00:17, 24.05batch/s, accuracy=95.3, loss=0.133]"
     ]
    },
    {
     "name": "stdout",
     "output_type": "stream",
     "text": [
      "conv1: torch.Size([64, 10, 24, 24])\n",
      "pool1: torch.Size([64, 10, 12, 12])\n",
      "start: torch.Size([64, 1, 28, 28])\n",
      "conv1: torch.Size([64, 10, 24, 24])\n",
      "pool1: torch.Size([64, 10, 12, 12])\n",
      "start: torch.Size([64, 1, 28, 28])\n",
      "conv1: torch.Size([64, 10, 24, 24])\n",
      "pool1: torch.Size([64, 10, 12, 12])\n",
      "start: torch.Size([64, 1, 28, 28])\n",
      "conv1: torch.Size([64, 10, 24, 24])\n",
      "pool1: torch.Size([64, 10, 12, 12])\n",
      "start: torch.Size([64, 1, 28, 28])\n",
      "conv1: torch.Size([64, 10, 24, 24])\n"
     ]
    },
    {
     "name": "stderr",
     "output_type": "stream",
     "text": [
      "Epoch 4:  54%|██████████████████████▎                  | 510/938 [00:19<00:18, 23.71batch/s, accuracy=95.3, loss=0.203]"
     ]
    },
    {
     "name": "stdout",
     "output_type": "stream",
     "text": [
      "pool1: torch.Size([64, 10, 12, 12])\n",
      "start: torch.Size([64, 1, 28, 28])\n",
      "conv1: torch.Size([64, 10, 24, 24])\n",
      "pool1: torch.Size([64, 10, 12, 12])\n",
      "start: torch.Size([64, 1, 28, 28])\n",
      "conv1: torch.Size([64, 10, 24, 24])\n",
      "pool1: torch.Size([64, 10, 12, 12])\n",
      "start: torch.Size([64, 1, 28, 28])\n",
      "conv1: torch.Size([64, 10, 24, 24])\n",
      "pool1: torch.Size([64, 10, 12, 12])\n",
      "start: torch.Size([64, 1, 28, 28])\n",
      "conv1: torch.Size([64, 10, 24, 24])\n",
      "pool1: torch.Size([64, 10, 12, 12])\n"
     ]
    },
    {
     "name": "stderr",
     "output_type": "stream",
     "text": [
      "Epoch 4:  55%|██████████████████████                  | 516/938 [00:19<00:17, 24.19batch/s, accuracy=98.4, loss=0.0269]"
     ]
    },
    {
     "name": "stdout",
     "output_type": "stream",
     "text": [
      "start: torch.Size([64, 1, 28, 28])\n",
      "conv1: torch.Size([64, 10, 24, 24])\n",
      "pool1: torch.Size([64, 10, 12, 12])\n",
      "start: torch.Size([64, 1, 28, 28])\n",
      "conv1: torch.Size([64, 10, 24, 24])\n",
      "pool1: torch.Size([64, 10, 12, 12])\n",
      "start: torch.Size([64, 1, 28, 28])\n",
      "conv1: torch.Size([64, 10, 24, 24])\n",
      "pool1: torch.Size([64, 10, 12, 12])\n",
      "start: torch.Size([64, 1, 28, 28])\n",
      "conv1: torch.Size([64, 10, 24, 24])\n",
      "pool1: torch.Size([64, 10, 12, 12])\n",
      "start: torch.Size([64, 1, 28, 28])\n",
      "conv1: torch.Size([64, 10, 24, 24])\n",
      "pool1: torch.Size([64, 10, 12, 12])\n",
      "start: torch.Size([64, 1, 28, 28])\n"
     ]
    },
    {
     "name": "stderr",
     "output_type": "stream",
     "text": [
      "Epoch 4:  56%|██████████████████████▊                  | 522/938 [00:19<00:17, 24.03batch/s, accuracy=96.9, loss=0.145]"
     ]
    },
    {
     "name": "stdout",
     "output_type": "stream",
     "text": [
      "conv1: torch.Size([64, 10, 24, 24])\n",
      "pool1: torch.Size([64, 10, 12, 12])\n",
      "start: torch.Size([64, 1, 28, 28])\n",
      "conv1: torch.Size([64, 10, 24, 24])\n",
      "pool1: torch.Size([64, 10, 12, 12])\n",
      "start: torch.Size([64, 1, 28, 28])\n",
      "conv1: torch.Size([64, 10, 24, 24])\n",
      "pool1: torch.Size([64, 10, 12, 12])\n",
      "start: torch.Size([64, 1, 28, 28])\n",
      "conv1: torch.Size([64, 10, 24, 24])\n",
      "pool1: torch.Size([64, 10, 12, 12])\n",
      "start: torch.Size([64, 1, 28, 28])\n",
      "conv1: torch.Size([64, 10, 24, 24])\n",
      "pool1: torch.Size([64, 10, 12, 12])\n"
     ]
    },
    {
     "name": "stderr",
     "output_type": "stream",
     "text": [
      "Epoch 4:  56%|██████████████████████▉                  | 525/938 [00:20<00:17, 23.59batch/s, accuracy=100, loss=0.0302]"
     ]
    },
    {
     "name": "stdout",
     "output_type": "stream",
     "text": [
      "start: torch.Size([64, 1, 28, 28])\n",
      "conv1: torch.Size([64, 10, 24, 24])\n",
      "pool1: torch.Size([64, 10, 12, 12])\n",
      "start: torch.Size([64, 1, 28, 28])\n",
      "conv1: torch.Size([64, 10, 24, 24])\n",
      "pool1: torch.Size([64, 10, 12, 12])\n",
      "start: torch.Size([64, 1, 28, 28])\n",
      "conv1: torch.Size([64, 10, 24, 24])\n",
      "pool1: torch.Size([64, 10, 12, 12])\n",
      "start: torch.Size([64, 1, 28, 28])\n",
      "conv1: torch.Size([64, 10, 24, 24])\n",
      "pool1: torch.Size([64, 10, 12, 12])\n",
      "start: torch.Size([64, 1, 28, 28])\n",
      "conv1: torch.Size([64, 10, 24, 24])\n",
      "pool1: torch.Size([64, 10, 12, 12])\n"
     ]
    },
    {
     "name": "stderr",
     "output_type": "stream",
     "text": [
      "Epoch 4:  57%|███████████████████████▏                 | 531/938 [00:20<00:17, 23.79batch/s, accuracy=98.4, loss=0.102]"
     ]
    },
    {
     "name": "stdout",
     "output_type": "stream",
     "text": [
      "start: torch.Size([64, 1, 28, 28])\n",
      "conv1: torch.Size([64, 10, 24, 24])\n",
      "pool1: torch.Size([64, 10, 12, 12])\n",
      "start: torch.Size([64, 1, 28, 28])\n",
      "conv1: torch.Size([64, 10, 24, 24])\n",
      "pool1: torch.Size([64, 10, 12, 12])\n",
      "start: torch.Size([64, 1, 28, 28])\n",
      "conv1: torch.Size([64, 10, 24, 24])\n",
      "pool1: torch.Size([64, 10, 12, 12])\n",
      "start: torch.Size([64, 1, 28, 28])\n",
      "conv1: torch.Size([64, 10, 24, 24])\n",
      "pool1: torch.Size([64, 10, 12, 12])\n",
      "start: torch.Size([64, 1, 28, 28])\n",
      "conv1: torch.Size([64, 10, 24, 24])\n",
      "pool1: torch.Size([64, 10, 12, 12])\n",
      "start: torch.Size([64, 1, 28, 28])\n"
     ]
    },
    {
     "name": "stderr",
     "output_type": "stream",
     "text": [
      "Epoch 4:  57%|██████████████████████▉                 | 537/938 [00:20<00:16, 23.77batch/s, accuracy=95.3, loss=0.0865]"
     ]
    },
    {
     "name": "stdout",
     "output_type": "stream",
     "text": [
      "conv1: torch.Size([64, 10, 24, 24])\n",
      "pool1: torch.Size([64, 10, 12, 12])\n",
      "start: torch.Size([64, 1, 28, 28])\n",
      "conv1: torch.Size([64, 10, 24, 24])\n",
      "pool1: torch.Size([64, 10, 12, 12])\n",
      "start: torch.Size([64, 1, 28, 28])\n",
      "conv1: torch.Size([64, 10, 24, 24])\n",
      "pool1: torch.Size([64, 10, 12, 12])\n",
      "start: torch.Size([64, 1, 28, 28])\n",
      "conv1: torch.Size([64, 10, 24, 24])\n",
      "pool1: torch.Size([64, 10, 12, 12])\n",
      "start: torch.Size([64, 1, 28, 28])\n"
     ]
    },
    {
     "name": "stderr",
     "output_type": "stream",
     "text": [
      "Epoch 4:  58%|███████████████████████▌                 | 540/938 [00:20<00:16, 23.74batch/s, accuracy=95.3, loss=0.188]"
     ]
    },
    {
     "name": "stdout",
     "output_type": "stream",
     "text": [
      "conv1: torch.Size([64, 10, 24, 24])\n",
      "pool1: torch.Size([64, 10, 12, 12])\n",
      "start: torch.Size([64, 1, 28, 28])\n",
      "conv1: torch.Size([64, 10, 24, 24])\n",
      "pool1: torch.Size([64, 10, 12, 12])\n",
      "start: torch.Size([64, 1, 28, 28])\n",
      "conv1: torch.Size([64, 10, 24, 24])\n",
      "pool1: torch.Size([64, 10, 12, 12])\n",
      "start: torch.Size([64, 1, 28, 28])\n",
      "conv1: torch.Size([64, 10, 24, 24])\n",
      "pool1: torch.Size([64, 10, 12, 12])\n",
      "start: torch.Size([64, 1, 28, 28])\n",
      "conv1: torch.Size([64, 10, 24, 24])\n",
      "pool1: torch.Size([64, 10, 12, 12])\n",
      "start: torch.Size([64, 1, 28, 28])\n"
     ]
    },
    {
     "name": "stderr",
     "output_type": "stream",
     "text": [
      "Epoch 4:  58%|███████████████████████▊                 | 546/938 [00:20<00:15, 25.10batch/s, accuracy=92.2, loss=0.315]"
     ]
    },
    {
     "name": "stdout",
     "output_type": "stream",
     "text": [
      "conv1: torch.Size([64, 10, 24, 24])\n",
      "pool1: torch.Size([64, 10, 12, 12])\n",
      "start: torch.Size([64, 1, 28, 28])\n",
      "conv1: torch.Size([64, 10, 24, 24])\n",
      "pool1: torch.Size([64, 10, 12, 12])\n",
      "start: torch.Size([64, 1, 28, 28])\n",
      "conv1: torch.Size([64, 10, 24, 24])\n",
      "pool1: torch.Size([64, 10, 12, 12])\n",
      "start: torch.Size([64, 1, 28, 28])\n",
      "conv1: torch.Size([64, 10, 24, 24])\n",
      "pool1: torch.Size([64, 10, 12, 12])\n",
      "start: torch.Size([64, 1, 28, 28])\n",
      "conv1: torch.Size([64, 10, 24, 24])\n",
      "pool1: torch.Size([64, 10, 12, 12])\n",
      "start: torch.Size([64, 1, 28, 28])\n"
     ]
    },
    {
     "name": "stderr",
     "output_type": "stream",
     "text": [
      "Epoch 4:  59%|███████████████████████▌                | 552/938 [00:21<00:15, 24.95batch/s, accuracy=96.9, loss=0.0943]"
     ]
    },
    {
     "name": "stdout",
     "output_type": "stream",
     "text": [
      "conv1: torch.Size([64, 10, 24, 24])\n",
      "pool1: torch.Size([64, 10, 12, 12])\n",
      "start: torch.Size([64, 1, 28, 28])\n",
      "conv1: torch.Size([64, 10, 24, 24])\n",
      "pool1: torch.Size([64, 10, 12, 12])\n",
      "start: torch.Size([64, 1, 28, 28])\n",
      "conv1: torch.Size([64, 10, 24, 24])\n",
      "pool1: torch.Size([64, 10, 12, 12])\n",
      "start: torch.Size([64, 1, 28, 28])\n",
      "conv1: torch.Size([64, 10, 24, 24])\n",
      "pool1: torch.Size([64, 10, 12, 12])\n",
      "start: torch.Size([64, 1, 28, 28])\n",
      "conv1: torch.Size([64, 10, 24, 24])\n",
      "pool1: torch.Size([64, 10, 12, 12])\n",
      "start: torch.Size([64, 1, 28, 28])\n"
     ]
    },
    {
     "name": "stderr",
     "output_type": "stream",
     "text": [
      "Epoch 4:  59%|████████████████████████▊                 | 555/938 [00:21<00:15, 24.32batch/s, accuracy=90.6, loss=0.22]"
     ]
    },
    {
     "name": "stdout",
     "output_type": "stream",
     "text": [
      "conv1: torch.Size([64, 10, 24, 24])\n",
      "pool1: torch.Size([64, 10, 12, 12])\n",
      "start: torch.Size([64, 1, 28, 28])\n",
      "conv1: torch.Size([64, 10, 24, 24])\n",
      "pool1: torch.Size([64, 10, 12, 12])\n",
      "start: torch.Size([64, 1, 28, 28])\n",
      "conv1: torch.Size([64, 10, 24, 24])\n",
      "pool1: torch.Size([64, 10, 12, 12])\n",
      "start: torch.Size([64, 1, 28, 28])\n",
      "conv1: torch.Size([64, 10, 24, 24])\n",
      "pool1: torch.Size([64, 10, 12, 12])\n",
      "start: torch.Size([64, 1, 28, 28])\n",
      "conv1: torch.Size([64, 10, 24, 24])\n",
      "pool1: torch.Size([64, 10, 12, 12])\n"
     ]
    },
    {
     "name": "stderr",
     "output_type": "stream",
     "text": [
      "Epoch 4:  60%|████████████████████████▌                | 561/938 [00:21<00:15, 24.83batch/s, accuracy=93.8, loss=0.197]"
     ]
    },
    {
     "name": "stdout",
     "output_type": "stream",
     "text": [
      "start: torch.Size([64, 1, 28, 28])\n",
      "conv1: torch.Size([64, 10, 24, 24])\n",
      "pool1: torch.Size([64, 10, 12, 12])\n",
      "start: torch.Size([64, 1, 28, 28])\n",
      "conv1: torch.Size([64, 10, 24, 24])\n",
      "pool1: torch.Size([64, 10, 12, 12])\n",
      "start: torch.Size([64, 1, 28, 28])\n",
      "conv1: torch.Size([64, 10, 24, 24])\n",
      "pool1: torch.Size([64, 10, 12, 12])\n",
      "start: torch.Size([64, 1, 28, 28])\n",
      "conv1: torch.Size([64, 10, 24, 24])\n",
      "pool1: torch.Size([64, 10, 12, 12])\n",
      "start: torch.Size([64, 1, 28, 28])\n",
      "conv1: torch.Size([64, 10, 24, 24])\n",
      "pool1: torch.Size([64, 10, 12, 12])\n"
     ]
    },
    {
     "name": "stderr",
     "output_type": "stream",
     "text": [
      "Epoch 4:  60%|████████████████████████▏               | 567/938 [00:21<00:15, 24.40batch/s, accuracy=96.9, loss=0.0957]"
     ]
    },
    {
     "name": "stdout",
     "output_type": "stream",
     "text": [
      "start: torch.Size([64, 1, 28, 28])\n",
      "conv1: torch.Size([64, 10, 24, 24])\n",
      "pool1: torch.Size([64, 10, 12, 12])\n",
      "start: torch.Size([64, 1, 28, 28])\n",
      "conv1: torch.Size([64, 10, 24, 24])\n",
      "pool1: torch.Size([64, 10, 12, 12])\n",
      "start: torch.Size([64, 1, 28, 28])\n",
      "conv1: torch.Size([64, 10, 24, 24])\n",
      "pool1: torch.Size([64, 10, 12, 12])\n",
      "start: torch.Size([64, 1, 28, 28])\n",
      "conv1: torch.Size([64, 10, 24, 24])\n",
      "pool1: torch.Size([64, 10, 12, 12])\n",
      "start: torch.Size([64, 1, 28, 28])\n",
      "conv1: torch.Size([64, 10, 24, 24])\n",
      "pool1: torch.Size([64, 10, 12, 12])\n"
     ]
    },
    {
     "name": "stderr",
     "output_type": "stream",
     "text": [
      "Epoch 4:  61%|████████████████████████▉                | 570/938 [00:21<00:14, 24.96batch/s, accuracy=92.2, loss=0.284]"
     ]
    },
    {
     "name": "stdout",
     "output_type": "stream",
     "text": [
      "start: torch.Size([64, 1, 28, 28])\n",
      "conv1: torch.Size([64, 10, 24, 24])\n",
      "pool1: torch.Size([64, 10, 12, 12])\n",
      "start: torch.Size([64, 1, 28, 28])\n",
      "conv1: torch.Size([64, 10, 24, 24])\n",
      "pool1: torch.Size([64, 10, 12, 12])\n",
      "start: torch.Size([64, 1, 28, 28])\n",
      "conv1: torch.Size([64, 10, 24, 24])\n",
      "pool1: torch.Size([64, 10, 12, 12])\n",
      "start: torch.Size([64, 1, 28, 28])\n",
      "conv1: torch.Size([64, 10, 24, 24])\n",
      "pool1: torch.Size([64, 10, 12, 12])\n",
      "start: torch.Size([64, 1, 28, 28])\n",
      "conv1: torch.Size([64, 10, 24, 24])\n",
      "pool1: torch.Size([64, 10, 12, 12])\n",
      "start: torch.Size([64, 1, 28, 28])\n"
     ]
    },
    {
     "name": "stderr",
     "output_type": "stream",
     "text": [
      "Epoch 4:  61%|█████████████████████████▏               | 576/938 [00:22<00:14, 24.42batch/s, accuracy=89.1, loss=0.378]"
     ]
    },
    {
     "name": "stdout",
     "output_type": "stream",
     "text": [
      "conv1: torch.Size([64, 10, 24, 24])\n",
      "pool1: torch.Size([64, 10, 12, 12])\n",
      "start: torch.Size([64, 1, 28, 28])\n",
      "conv1: torch.Size([64, 10, 24, 24])\n",
      "pool1: torch.Size([64, 10, 12, 12])\n",
      "start: torch.Size([64, 1, 28, 28])\n",
      "conv1: torch.Size([64, 10, 24, 24])\n",
      "pool1: torch.Size([64, 10, 12, 12])\n",
      "start: torch.Size([64, 1, 28, 28])\n",
      "conv1: torch.Size([64, 10, 24, 24])\n",
      "pool1: torch.Size([64, 10, 12, 12])\n",
      "start: torch.Size([64, 1, 28, 28])\n",
      "conv1: torch.Size([64, 10, 24, 24])\n",
      "pool1: torch.Size([64, 10, 12, 12])\n",
      "start: torch.Size([64, 1, 28, 28])\n"
     ]
    },
    {
     "name": "stderr",
     "output_type": "stream",
     "text": [
      "Epoch 4:  62%|█████████████████████████▍               | 582/938 [00:22<00:14, 25.23batch/s, accuracy=90.6, loss=0.479]"
     ]
    },
    {
     "name": "stdout",
     "output_type": "stream",
     "text": [
      "conv1: torch.Size([64, 10, 24, 24])\n",
      "pool1: torch.Size([64, 10, 12, 12])\n",
      "start: torch.Size([64, 1, 28, 28])\n",
      "conv1: torch.Size([64, 10, 24, 24])\n",
      "pool1: torch.Size([64, 10, 12, 12])\n",
      "start: torch.Size([64, 1, 28, 28])\n",
      "conv1: torch.Size([64, 10, 24, 24])\n",
      "pool1: torch.Size([64, 10, 12, 12])\n",
      "start: torch.Size([64, 1, 28, 28])\n",
      "conv1: torch.Size([64, 10, 24, 24])\n",
      "pool1: torch.Size([64, 10, 12, 12])\n",
      "start: torch.Size([64, 1, 28, 28])\n",
      "conv1: torch.Size([64, 10, 24, 24])\n",
      "pool1: torch.Size([64, 10, 12, 12])\n",
      "start: torch.Size([64, 1, 28, 28])\n"
     ]
    },
    {
     "name": "stderr",
     "output_type": "stream",
     "text": [
      "Epoch 4:  62%|██████████████████████████▏               | 585/938 [00:22<00:13, 25.63batch/s, accuracy=100, loss=0.056]"
     ]
    },
    {
     "name": "stdout",
     "output_type": "stream",
     "text": [
      "conv1: torch.Size([64, 10, 24, 24])\n",
      "pool1: torch.Size([64, 10, 12, 12])\n",
      "start: torch.Size([64, 1, 28, 28])\n",
      "conv1: torch.Size([64, 10, 24, 24])\n",
      "pool1: torch.Size([64, 10, 12, 12])\n",
      "start: torch.Size([64, 1, 28, 28])\n",
      "conv1: torch.Size([64, 10, 24, 24])\n",
      "pool1: torch.Size([64, 10, 12, 12])\n",
      "start: torch.Size([64, 1, 28, 28])\n",
      "conv1: torch.Size([64, 10, 24, 24])\n",
      "pool1: torch.Size([64, 10, 12, 12])\n",
      "start: torch.Size([64, 1, 28, 28])\n",
      "conv1: torch.Size([64, 10, 24, 24])\n",
      "pool1: torch.Size([64, 10, 12, 12])\n",
      "start: torch.Size([64, 1, 28, 28])\n"
     ]
    },
    {
     "name": "stderr",
     "output_type": "stream",
     "text": [
      "Epoch 4:  63%|█████████████████████████▊               | 591/938 [00:22<00:13, 25.43batch/s, accuracy=96.9, loss=0.128]"
     ]
    },
    {
     "name": "stdout",
     "output_type": "stream",
     "text": [
      "conv1: torch.Size([64, 10, 24, 24])\n",
      "pool1: torch.Size([64, 10, 12, 12])\n",
      "start: torch.Size([64, 1, 28, 28])\n",
      "conv1: torch.Size([64, 10, 24, 24])\n",
      "pool1: torch.Size([64, 10, 12, 12])\n",
      "start: torch.Size([64, 1, 28, 28])\n",
      "conv1: torch.Size([64, 10, 24, 24])\n",
      "pool1: torch.Size([64, 10, 12, 12])\n",
      "start: torch.Size([64, 1, 28, 28])\n",
      "conv1: torch.Size([64, 10, 24, 24])\n",
      "pool1: torch.Size([64, 10, 12, 12])\n",
      "start: torch.Size([64, 1, 28, 28])\n",
      "conv1: torch.Size([64, 10, 24, 24])\n",
      "pool1: torch.Size([64, 10, 12, 12])\n"
     ]
    },
    {
     "name": "stderr",
     "output_type": "stream",
     "text": [
      "Epoch 4:  63%|█████████████████████████▉               | 594/938 [00:22<00:13, 24.94batch/s, accuracy=93.8, loss=0.174]"
     ]
    },
    {
     "name": "stdout",
     "output_type": "stream",
     "text": [
      "start: torch.Size([64, 1, 28, 28])\n",
      "conv1: torch.Size([64, 10, 24, 24])\n",
      "pool1: torch.Size([64, 10, 12, 12])\n",
      "start: torch.Size([64, 1, 28, 28])\n",
      "conv1: torch.Size([64, 10, 24, 24])\n",
      "pool1: torch.Size([64, 10, 12, 12])\n",
      "start: torch.Size([64, 1, 28, 28])\n",
      "conv1: torch.Size([64, 10, 24, 24])\n",
      "pool1: torch.Size([64, 10, 12, 12])\n",
      "start: torch.Size([64, 1, 28, 28])\n",
      "conv1: torch.Size([64, 10, 24, 24])\n",
      "pool1: torch.Size([64, 10, 12, 12])\n",
      "start: torch.Size([64, 1, 28, 28])\n"
     ]
    },
    {
     "name": "stderr",
     "output_type": "stream",
     "text": [
      "Epoch 4:  64%|█████████████████████████▌              | 600/938 [00:23<00:14, 23.11batch/s, accuracy=98.4, loss=0.0674]"
     ]
    },
    {
     "name": "stdout",
     "output_type": "stream",
     "text": [
      "conv1: torch.Size([64, 10, 24, 24])\n",
      "pool1: torch.Size([64, 10, 12, 12])\n",
      "start: torch.Size([64, 1, 28, 28])\n",
      "conv1: torch.Size([64, 10, 24, 24])\n",
      "pool1: torch.Size([64, 10, 12, 12])\n",
      "start: torch.Size([64, 1, 28, 28])\n",
      "conv1: torch.Size([64, 10, 24, 24])\n",
      "pool1: torch.Size([64, 10, 12, 12])\n",
      "start: torch.Size([64, 1, 28, 28])\n",
      "conv1: torch.Size([64, 10, 24, 24])\n",
      "pool1: torch.Size([64, 10, 12, 12])\n",
      "start: torch.Size([64, 1, 28, 28])\n",
      "conv1: torch.Size([64, 10, 24, 24])\n",
      "pool1: torch.Size([64, 10, 12, 12])\n"
     ]
    },
    {
     "name": "stderr",
     "output_type": "stream",
     "text": [
      "Epoch 4:  64%|█████████████████████████▋              | 603/938 [00:23<00:14, 23.17batch/s, accuracy=98.4, loss=0.0447]"
     ]
    },
    {
     "name": "stdout",
     "output_type": "stream",
     "text": [
      "start: torch.Size([64, 1, 28, 28])\n",
      "conv1: torch.Size([64, 10, 24, 24])\n",
      "pool1: torch.Size([64, 10, 12, 12])\n",
      "start: torch.Size([64, 1, 28, 28])\n",
      "conv1: torch.Size([64, 10, 24, 24])\n",
      "pool1: torch.Size([64, 10, 12, 12])\n",
      "start: torch.Size([64, 1, 28, 28])\n",
      "conv1: torch.Size([64, 10, 24, 24])\n",
      "pool1: torch.Size([64, 10, 12, 12])\n",
      "start: torch.Size([64, 1, 28, 28])\n",
      "conv1: torch.Size([64, 10, 24, 24])\n",
      "pool1: torch.Size([64, 10, 12, 12])\n",
      "start: torch.Size([64, 1, 28, 28])\n",
      "conv1: torch.Size([64, 10, 24, 24])\n",
      "pool1: torch.Size([64, 10, 12, 12])\n"
     ]
    },
    {
     "name": "stderr",
     "output_type": "stream",
     "text": [
      "Epoch 4:  65%|█████████████████████████▉              | 609/938 [00:23<00:14, 23.25batch/s, accuracy=98.4, loss=0.0241]"
     ]
    },
    {
     "name": "stdout",
     "output_type": "stream",
     "text": [
      "start: torch.Size([64, 1, 28, 28])\n",
      "conv1: torch.Size([64, 10, 24, 24])\n",
      "pool1: torch.Size([64, 10, 12, 12])\n",
      "start: torch.Size([64, 1, 28, 28])\n",
      "conv1: torch.Size([64, 10, 24, 24])\n",
      "pool1: torch.Size([64, 10, 12, 12])\n",
      "start: torch.Size([64, 1, 28, 28])\n",
      "conv1: torch.Size([64, 10, 24, 24])\n",
      "pool1: torch.Size([64, 10, 12, 12])\n",
      "start: torch.Size([64, 1, 28, 28])\n",
      "conv1: torch.Size([64, 10, 24, 24])\n",
      "pool1: torch.Size([64, 10, 12, 12])\n",
      "start: torch.Size([64, 1, 28, 28])\n",
      "conv1: torch.Size([64, 10, 24, 24])\n",
      "pool1: torch.Size([64, 10, 12, 12])\n"
     ]
    },
    {
     "name": "stderr",
     "output_type": "stream",
     "text": [
      "Epoch 4:  66%|██████████████████████████▉              | 615/938 [00:23<00:13, 23.42batch/s, accuracy=92.2, loss=0.329]"
     ]
    },
    {
     "name": "stdout",
     "output_type": "stream",
     "text": [
      "start: torch.Size([64, 1, 28, 28])\n",
      "conv1: torch.Size([64, 10, 24, 24])\n",
      "pool1: torch.Size([64, 10, 12, 12])\n",
      "start: torch.Size([64, 1, 28, 28])\n",
      "conv1: torch.Size([64, 10, 24, 24])\n",
      "pool1: torch.Size([64, 10, 12, 12])\n",
      "start: torch.Size([64, 1, 28, 28])\n",
      "conv1: torch.Size([64, 10, 24, 24])\n",
      "pool1: torch.Size([64, 10, 12, 12])\n",
      "start: torch.Size([64, 1, 28, 28])\n",
      "conv1: torch.Size([64, 10, 24, 24])\n",
      "pool1: torch.Size([64, 10, 12, 12])\n",
      "start: torch.Size([64, 1, 28, 28])\n",
      "conv1: torch.Size([64, 10, 24, 24])\n",
      "pool1: torch.Size([64, 10, 12, 12])\n"
     ]
    },
    {
     "name": "stderr",
     "output_type": "stream",
     "text": [
      "Epoch 4:  66%|██████████████████████████▎             | 618/938 [00:23<00:13, 23.45batch/s, accuracy=98.4, loss=0.0602]"
     ]
    },
    {
     "name": "stdout",
     "output_type": "stream",
     "text": [
      "start: torch.Size([64, 1, 28, 28])\n",
      "conv1: torch.Size([64, 10, 24, 24])\n",
      "pool1: torch.Size([64, 10, 12, 12])\n",
      "start: torch.Size([64, 1, 28, 28])\n",
      "conv1: torch.Size([64, 10, 24, 24])\n",
      "pool1: torch.Size([64, 10, 12, 12])\n",
      "start: torch.Size([64, 1, 28, 28])\n",
      "conv1: torch.Size([64, 10, 24, 24])\n",
      "pool1: torch.Size([64, 10, 12, 12])\n",
      "start: torch.Size([64, 1, 28, 28])\n",
      "conv1: torch.Size([64, 10, 24, 24])\n",
      "pool1: torch.Size([64, 10, 12, 12])\n",
      "start: torch.Size([64, 1, 28, 28])\n",
      "conv1: torch.Size([64, 10, 24, 24])\n"
     ]
    },
    {
     "name": "stderr",
     "output_type": "stream",
     "text": [
      "Epoch 4:  67%|███████████████████████████▎             | 624/938 [00:24<00:13, 23.35batch/s, accuracy=92.2, loss=0.335]"
     ]
    },
    {
     "name": "stdout",
     "output_type": "stream",
     "text": [
      "pool1: torch.Size([64, 10, 12, 12])\n",
      "start: torch.Size([64, 1, 28, 28])\n",
      "conv1: torch.Size([64, 10, 24, 24])\n",
      "pool1: torch.Size([64, 10, 12, 12])\n",
      "start: torch.Size([64, 1, 28, 28])\n",
      "conv1: torch.Size([64, 10, 24, 24])\n",
      "pool1: torch.Size([64, 10, 12, 12])\n",
      "start: torch.Size([64, 1, 28, 28])\n",
      "conv1: torch.Size([64, 10, 24, 24])\n",
      "pool1: torch.Size([64, 10, 12, 12])\n",
      "start: torch.Size([64, 1, 28, 28])\n",
      "conv1: torch.Size([64, 10, 24, 24])\n",
      "pool1: torch.Size([64, 10, 12, 12])\n",
      "start: torch.Size([64, 1, 28, 28])\n"
     ]
    },
    {
     "name": "stderr",
     "output_type": "stream",
     "text": [
      "Epoch 4:  67%|███████████████████████████▌             | 630/938 [00:24<00:12, 24.76batch/s, accuracy=95.3, loss=0.116]"
     ]
    },
    {
     "name": "stdout",
     "output_type": "stream",
     "text": [
      "conv1: torch.Size([64, 10, 24, 24])\n",
      "pool1: torch.Size([64, 10, 12, 12])\n",
      "start: torch.Size([64, 1, 28, 28])\n",
      "conv1: torch.Size([64, 10, 24, 24])\n",
      "pool1: torch.Size([64, 10, 12, 12])\n",
      "start: torch.Size([64, 1, 28, 28])\n",
      "conv1: torch.Size([64, 10, 24, 24])\n",
      "pool1: torch.Size([64, 10, 12, 12])\n",
      "start: torch.Size([64, 1, 28, 28])\n",
      "conv1: torch.Size([64, 10, 24, 24])\n",
      "pool1: torch.Size([64, 10, 12, 12])\n",
      "start: torch.Size([64, 1, 28, 28])\n",
      "conv1: torch.Size([64, 10, 24, 24])\n",
      "pool1: torch.Size([64, 10, 12, 12])\n",
      "start: torch.Size([64, 1, 28, 28])\n"
     ]
    },
    {
     "name": "stderr",
     "output_type": "stream",
     "text": [
      "Epoch 4:  67%|███████████████████████████▋             | 633/938 [00:24<00:12, 24.85batch/s, accuracy=95.3, loss=0.156]"
     ]
    },
    {
     "name": "stdout",
     "output_type": "stream",
     "text": [
      "conv1: torch.Size([64, 10, 24, 24])\n",
      "pool1: torch.Size([64, 10, 12, 12])\n",
      "start: torch.Size([64, 1, 28, 28])\n",
      "conv1: torch.Size([64, 10, 24, 24])\n",
      "pool1: torch.Size([64, 10, 12, 12])\n",
      "start: torch.Size([64, 1, 28, 28])\n",
      "conv1: torch.Size([64, 10, 24, 24])\n",
      "pool1: torch.Size([64, 10, 12, 12])\n",
      "start: torch.Size([64, 1, 28, 28])\n",
      "conv1: torch.Size([64, 10, 24, 24])\n",
      "pool1: torch.Size([64, 10, 12, 12])\n",
      "start: torch.Size([64, 1, 28, 28])\n",
      "conv1: torch.Size([64, 10, 24, 24])\n",
      "pool1: torch.Size([64, 10, 12, 12])\n"
     ]
    },
    {
     "name": "stderr",
     "output_type": "stream",
     "text": [
      "Epoch 4:  68%|███████████████████████████▉             | 639/938 [00:24<00:12, 23.49batch/s, accuracy=98.4, loss=0.042]"
     ]
    },
    {
     "name": "stdout",
     "output_type": "stream",
     "text": [
      "start: torch.Size([64, 1, 28, 28])\n",
      "conv1: torch.Size([64, 10, 24, 24])\n",
      "pool1: torch.Size([64, 10, 12, 12])\n",
      "start: torch.Size([64, 1, 28, 28])\n",
      "conv1: torch.Size([64, 10, 24, 24])\n",
      "pool1: torch.Size([64, 10, 12, 12])\n",
      "start: torch.Size([64, 1, 28, 28])\n",
      "conv1: torch.Size([64, 10, 24, 24])\n",
      "pool1: torch.Size([64, 10, 12, 12])\n",
      "start: torch.Size([64, 1, 28, 28])\n",
      "conv1: torch.Size([64, 10, 24, 24])\n",
      "pool1: torch.Size([64, 10, 12, 12])\n",
      "start: torch.Size([64, 1, 28, 28])\n"
     ]
    },
    {
     "name": "stderr",
     "output_type": "stream",
     "text": [
      "Epoch 4:  68%|████████████████████████████             | 642/938 [00:24<00:12, 22.80batch/s, accuracy=93.8, loss=0.235]"
     ]
    },
    {
     "name": "stdout",
     "output_type": "stream",
     "text": [
      "conv1: torch.Size([64, 10, 24, 24])\n",
      "pool1: torch.Size([64, 10, 12, 12])\n",
      "start: torch.Size([64, 1, 28, 28])\n",
      "conv1: torch.Size([64, 10, 24, 24])\n",
      "pool1: torch.Size([64, 10, 12, 12])\n",
      "start: torch.Size([64, 1, 28, 28])\n",
      "conv1: torch.Size([64, 10, 24, 24])\n",
      "pool1: torch.Size([64, 10, 12, 12])\n",
      "start: torch.Size([64, 1, 28, 28])\n",
      "conv1: torch.Size([64, 10, 24, 24])\n",
      "pool1: torch.Size([64, 10, 12, 12])\n",
      "start: torch.Size([64, 1, 28, 28])\n"
     ]
    },
    {
     "name": "stderr",
     "output_type": "stream",
     "text": [
      "Epoch 4:  69%|███████████████████████████▋            | 648/938 [00:25<00:12, 23.44batch/s, accuracy=95.3, loss=0.0794]"
     ]
    },
    {
     "name": "stdout",
     "output_type": "stream",
     "text": [
      "conv1: torch.Size([64, 10, 24, 24])\n",
      "pool1: torch.Size([64, 10, 12, 12])\n",
      "start: torch.Size([64, 1, 28, 28])\n",
      "conv1: torch.Size([64, 10, 24, 24])\n",
      "pool1: torch.Size([64, 10, 12, 12])\n",
      "start: torch.Size([64, 1, 28, 28])\n",
      "conv1: torch.Size([64, 10, 24, 24])\n",
      "pool1: torch.Size([64, 10, 12, 12])\n",
      "start: torch.Size([64, 1, 28, 28])\n",
      "conv1: torch.Size([64, 10, 24, 24])\n",
      "pool1: torch.Size([64, 10, 12, 12])\n",
      "start: torch.Size([64, 1, 28, 28])\n",
      "conv1: torch.Size([64, 10, 24, 24])\n",
      "pool1: torch.Size([64, 10, 12, 12])\n",
      "start: torch.Size([64, 1, 28, 28])\n"
     ]
    },
    {
     "name": "stderr",
     "output_type": "stream",
     "text": [
      "Epoch 4:  69%|████████████████████████████▍            | 651/938 [00:25<00:12, 22.97batch/s, accuracy=95.3, loss=0.107]"
     ]
    },
    {
     "name": "stdout",
     "output_type": "stream",
     "text": [
      "conv1: torch.Size([64, 10, 24, 24])\n",
      "pool1: torch.Size([64, 10, 12, 12])\n",
      "start: torch.Size([64, 1, 28, 28])\n",
      "conv1: torch.Size([64, 10, 24, 24])\n",
      "pool1: torch.Size([64, 10, 12, 12])\n",
      "start: torch.Size([64, 1, 28, 28])\n",
      "conv1: torch.Size([64, 10, 24, 24])\n",
      "pool1: torch.Size([64, 10, 12, 12])\n",
      "start: torch.Size([64, 1, 28, 28])\n",
      "conv1: torch.Size([64, 10, 24, 24])\n",
      "pool1: torch.Size([64, 10, 12, 12])\n",
      "start: torch.Size([64, 1, 28, 28])\n"
     ]
    },
    {
     "name": "stderr",
     "output_type": "stream",
     "text": [
      "Epoch 4:  70%|████████████████████████████▌            | 654/938 [00:25<00:12, 22.76batch/s, accuracy=93.8, loss=0.136]"
     ]
    },
    {
     "name": "stdout",
     "output_type": "stream",
     "text": [
      "conv1: torch.Size([64, 10, 24, 24])\n",
      "pool1: torch.Size([64, 10, 12, 12])\n",
      "start: torch.Size([64, 1, 28, 28])\n",
      "conv1: torch.Size([64, 10, 24, 24])\n",
      "pool1: torch.Size([64, 10, 12, 12])\n",
      "start: torch.Size([64, 1, 28, 28])\n",
      "conv1: torch.Size([64, 10, 24, 24])\n",
      "pool1: torch.Size([64, 10, 12, 12])\n",
      "start: torch.Size([64, 1, 28, 28])\n",
      "conv1: torch.Size([64, 10, 24, 24])\n",
      "pool1: torch.Size([64, 10, 12, 12])\n",
      "start: torch.Size([64, 1, 28, 28])\n",
      "conv1: torch.Size([64, 10, 24, 24])\n",
      "pool1: torch.Size([64, 10, 12, 12])\n"
     ]
    },
    {
     "name": "stderr",
     "output_type": "stream",
     "text": [
      "Epoch 4:  70%|████████████████████████████▊            | 660/938 [00:25<00:12, 22.77batch/s, accuracy=98.4, loss=0.101]"
     ]
    },
    {
     "name": "stdout",
     "output_type": "stream",
     "text": [
      "start: torch.Size([64, 1, 28, 28])\n",
      "conv1: torch.Size([64, 10, 24, 24])\n",
      "pool1: torch.Size([64, 10, 12, 12])\n",
      "start: torch.Size([64, 1, 28, 28])\n",
      "conv1: torch.Size([64, 10, 24, 24])\n",
      "pool1: torch.Size([64, 10, 12, 12])\n",
      "start: torch.Size([64, 1, 28, 28])\n",
      "conv1: torch.Size([64, 10, 24, 24])\n",
      "pool1: torch.Size([64, 10, 12, 12])\n",
      "start: torch.Size([64, 1, 28, 28])\n",
      "conv1: torch.Size([64, 10, 24, 24])\n",
      "pool1: torch.Size([64, 10, 12, 12])\n",
      "start: torch.Size([64, 1, 28, 28])\n",
      "conv1: torch.Size([64, 10, 24, 24])\n",
      "pool1: torch.Size([64, 10, 12, 12])\n"
     ]
    },
    {
     "name": "stderr",
     "output_type": "stream",
     "text": [
      "Epoch 4:  71%|████████████████████████████▍           | 666/938 [00:25<00:11, 23.66batch/s, accuracy=96.9, loss=0.0752]"
     ]
    },
    {
     "name": "stdout",
     "output_type": "stream",
     "text": [
      "start: torch.Size([64, 1, 28, 28])\n",
      "conv1: torch.Size([64, 10, 24, 24])\n",
      "pool1: torch.Size([64, 10, 12, 12])\n",
      "start: torch.Size([64, 1, 28, 28])\n",
      "conv1: torch.Size([64, 10, 24, 24])\n",
      "pool1: torch.Size([64, 10, 12, 12])\n",
      "start: torch.Size([64, 1, 28, 28])\n",
      "conv1: torch.Size([64, 10, 24, 24])\n",
      "pool1: torch.Size([64, 10, 12, 12])\n",
      "start: torch.Size([64, 1, 28, 28])\n",
      "conv1: torch.Size([64, 10, 24, 24])\n",
      "pool1: torch.Size([64, 10, 12, 12])\n",
      "start: torch.Size([64, 1, 28, 28])\n",
      "conv1: torch.Size([64, 10, 24, 24])\n",
      "pool1: torch.Size([64, 10, 12, 12])\n",
      "start: torch.Size([64, 1, 28, 28])\n"
     ]
    },
    {
     "name": "stderr",
     "output_type": "stream",
     "text": [
      "Epoch 4:  71%|█████████████████████████████▏           | 669/938 [00:26<00:11, 23.01batch/s, accuracy=98.4, loss=0.136]"
     ]
    },
    {
     "name": "stdout",
     "output_type": "stream",
     "text": [
      "conv1: torch.Size([64, 10, 24, 24])\n",
      "pool1: torch.Size([64, 10, 12, 12])\n",
      "start: torch.Size([64, 1, 28, 28])\n",
      "conv1: torch.Size([64, 10, 24, 24])\n",
      "pool1: torch.Size([64, 10, 12, 12])\n",
      "start: torch.Size([64, 1, 28, 28])\n",
      "conv1: torch.Size([64, 10, 24, 24])\n",
      "pool1: torch.Size([64, 10, 12, 12])\n",
      "start: torch.Size([64, 1, 28, 28])\n",
      "conv1: torch.Size([64, 10, 24, 24])\n",
      "pool1: torch.Size([64, 10, 12, 12])\n",
      "start: torch.Size([64, 1, 28, 28])\n"
     ]
    },
    {
     "name": "stderr",
     "output_type": "stream",
     "text": [
      "Epoch 4:  72%|█████████████████████████████▌           | 675/938 [00:26<00:11, 23.52batch/s, accuracy=96.9, loss=0.144]"
     ]
    },
    {
     "name": "stdout",
     "output_type": "stream",
     "text": [
      "conv1: torch.Size([64, 10, 24, 24])\n",
      "pool1: torch.Size([64, 10, 12, 12])\n",
      "start: torch.Size([64, 1, 28, 28])\n",
      "conv1: torch.Size([64, 10, 24, 24])\n",
      "pool1: torch.Size([64, 10, 12, 12])\n",
      "start: torch.Size([64, 1, 28, 28])\n",
      "conv1: torch.Size([64, 10, 24, 24])\n",
      "pool1: torch.Size([64, 10, 12, 12])\n",
      "start: torch.Size([64, 1, 28, 28])\n",
      "conv1: torch.Size([64, 10, 24, 24])\n",
      "pool1: torch.Size([64, 10, 12, 12])\n",
      "start: torch.Size([64, 1, 28, 28])\n",
      "conv1: torch.Size([64, 10, 24, 24])\n",
      "pool1: torch.Size([64, 10, 12, 12])\n",
      "start: torch.Size([64, 1, 28, 28])\n"
     ]
    },
    {
     "name": "stderr",
     "output_type": "stream",
     "text": [
      "Epoch 4:  72%|█████████████████████████████▋           | 678/938 [00:26<00:10, 23.74batch/s, accuracy=92.2, loss=0.361]"
     ]
    },
    {
     "name": "stdout",
     "output_type": "stream",
     "text": [
      "conv1: torch.Size([64, 10, 24, 24])\n",
      "pool1: torch.Size([64, 10, 12, 12])\n",
      "start: torch.Size([64, 1, 28, 28])\n",
      "conv1: torch.Size([64, 10, 24, 24])\n",
      "pool1: torch.Size([64, 10, 12, 12])\n",
      "start: torch.Size([64, 1, 28, 28])\n",
      "conv1: torch.Size([64, 10, 24, 24])\n",
      "pool1: torch.Size([64, 10, 12, 12])\n",
      "start: torch.Size([64, 1, 28, 28])\n",
      "conv1: torch.Size([64, 10, 24, 24])\n",
      "pool1: torch.Size([64, 10, 12, 12])\n",
      "start: torch.Size([64, 1, 28, 28])\n",
      "conv1: torch.Size([64, 10, 24, 24])"
     ]
    },
    {
     "name": "stderr",
     "output_type": "stream",
     "text": [
      "Epoch 4:  73%|█████████████████████████████▉           | 684/938 [00:26<00:11, 22.39batch/s, accuracy=96.9, loss=0.248]"
     ]
    },
    {
     "name": "stdout",
     "output_type": "stream",
     "text": [
      "\n",
      "pool1: torch.Size([64, 10, 12, 12])\n",
      "start: torch.Size([64, 1, 28, 28])\n",
      "conv1: torch.Size([64, 10, 24, 24])\n",
      "pool1: torch.Size([64, 10, 12, 12])\n",
      "start: torch.Size([64, 1, 28, 28])\n",
      "conv1: torch.Size([64, 10, 24, 24])\n",
      "pool1: torch.Size([64, 10, 12, 12])\n",
      "start: torch.Size([64, 1, 28, 28])\n",
      "conv1: torch.Size([64, 10, 24, 24])\n",
      "pool1: torch.Size([64, 10, 12, 12])\n",
      "start: torch.Size([64, 1, 28, 28])\n"
     ]
    },
    {
     "name": "stderr",
     "output_type": "stream",
     "text": [
      "Epoch 4:  73%|██████████████████████████████           | 687/938 [00:26<00:11, 22.51batch/s, accuracy=96.9, loss=0.144]"
     ]
    },
    {
     "name": "stdout",
     "output_type": "stream",
     "text": [
      "conv1: torch.Size([64, 10, 24, 24])\n",
      "pool1: torch.Size([64, 10, 12, 12])\n",
      "start: torch.Size([64, 1, 28, 28])\n",
      "conv1: torch.Size([64, 10, 24, 24])\n",
      "pool1: torch.Size([64, 10, 12, 12])\n",
      "start: torch.Size([64, 1, 28, 28])\n",
      "conv1: torch.Size([64, 10, 24, 24])\n",
      "pool1: torch.Size([64, 10, 12, 12])\n",
      "start: torch.Size([64, 1, 28, 28])\n",
      "conv1: torch.Size([64, 10, 24, 24])\n",
      "pool1: torch.Size([64, 10, 12, 12])\n",
      "start: torch.Size([64, 1, 28, 28])\n",
      "conv1: torch.Size([64, 10, 24, 24])\n",
      "pool1: torch.Size([64, 10, 12, 12])\n"
     ]
    },
    {
     "name": "stderr",
     "output_type": "stream",
     "text": [
      "Epoch 4:  74%|██████████████████████████████▎          | 693/938 [00:27<00:11, 21.77batch/s, accuracy=96.9, loss=0.146]"
     ]
    },
    {
     "name": "stdout",
     "output_type": "stream",
     "text": [
      "start: torch.Size([64, 1, 28, 28])\n",
      "conv1: torch.Size([64, 10, 24, 24])\n",
      "pool1: torch.Size([64, 10, 12, 12])\n",
      "start: torch.Size([64, 1, 28, 28])\n",
      "conv1: torch.Size([64, 10, 24, 24])\n",
      "pool1: torch.Size([64, 10, 12, 12])\n",
      "start: torch.Size([64, 1, 28, 28])\n",
      "conv1: torch.Size([64, 10, 24, 24])\n",
      "pool1: torch.Size([64, 10, 12, 12])\n",
      "start: torch.Size([64, 1, 28, 28])\n",
      "conv1: torch.Size([64, 10, 24, 24])\n",
      "pool1: torch.Size([64, 10, 12, 12])\n",
      "start: torch.Size([64, 1, 28, 28])\n"
     ]
    },
    {
     "name": "stderr",
     "output_type": "stream",
     "text": [
      "Epoch 4:  74%|█████████████████████████████▋          | 696/938 [00:27<00:11, 21.97batch/s, accuracy=98.4, loss=0.0672]"
     ]
    },
    {
     "name": "stdout",
     "output_type": "stream",
     "text": [
      "conv1: torch.Size([64, 10, 24, 24])\n",
      "pool1: torch.Size([64, 10, 12, 12])\n",
      "start: torch.Size([64, 1, 28, 28])\n",
      "conv1: torch.Size([64, 10, 24, 24])\n",
      "pool1: torch.Size([64, 10, 12, 12])\n",
      "start: torch.Size([64, 1, 28, 28])\n",
      "conv1: torch.Size([64, 10, 24, 24])\n",
      "pool1: torch.Size([64, 10, 12, 12])\n",
      "start: torch.Size([64, 1, 28, 28])\n",
      "conv1: torch.Size([64, 10, 24, 24])\n",
      "pool1: torch.Size([64, 10, 12, 12])\n",
      "start: torch.Size([64, 1, 28, 28])\n",
      "conv1: torch.Size([64, 10, 24, 24])\n",
      "pool1: torch.Size([64, 10, 12, 12])\n",
      "start: torch.Size([64, 1, 28, 28])\n"
     ]
    },
    {
     "name": "stderr",
     "output_type": "stream",
     "text": [
      "Epoch 4:  75%|██████████████████████████████▋          | 702/938 [00:27<00:10, 23.07batch/s, accuracy=95.3, loss=0.111]"
     ]
    },
    {
     "name": "stdout",
     "output_type": "stream",
     "text": [
      "conv1: torch.Size([64, 10, 24, 24])\n",
      "pool1: torch.Size([64, 10, 12, 12])\n",
      "start: torch.Size([64, 1, 28, 28])\n",
      "conv1: torch.Size([64, 10, 24, 24])\n",
      "pool1: torch.Size([64, 10, 12, 12])\n",
      "start: torch.Size([64, 1, 28, 28])\n",
      "conv1: torch.Size([64, 10, 24, 24])\n",
      "pool1: torch.Size([64, 10, 12, 12])\n",
      "start: torch.Size([64, 1, 28, 28])\n",
      "conv1: torch.Size([64, 10, 24, 24])\n",
      "pool1: torch.Size([64, 10, 12, 12])\n",
      "start: torch.Size([64, 1, 28, 28])\n",
      "conv1: torch.Size([64, 10, 24, 24])\n",
      "pool1: torch.Size([64, 10, 12, 12])\n"
     ]
    },
    {
     "name": "stderr",
     "output_type": "stream",
     "text": [
      "Epoch 4:  75%|██████████████████████████████▊          | 705/938 [00:27<00:10, 22.67batch/s, accuracy=93.8, loss=0.169]"
     ]
    },
    {
     "name": "stdout",
     "output_type": "stream",
     "text": [
      "start: torch.Size([64, 1, 28, 28])\n",
      "conv1: torch.Size([64, 10, 24, 24])\n",
      "pool1: torch.Size([64, 10, 12, 12])\n",
      "start: torch.Size([64, 1, 28, 28])\n",
      "conv1: torch.Size([64, 10, 24, 24])\n",
      "pool1: torch.Size([64, 10, 12, 12])\n",
      "start: torch.Size([64, 1, 28, 28])\n",
      "conv1: torch.Size([64, 10, 24, 24])\n",
      "pool1: torch.Size([64, 10, 12, 12])\n",
      "start: torch.Size([64, 1, 28, 28])\n",
      "conv1: torch.Size([64, 10, 24, 24])\n",
      "pool1: torch.Size([64, 10, 12, 12])\n",
      "start: torch.Size([64, 1, 28, 28])\n",
      "conv1: torch.Size([64, 10, 24, 24])\n",
      "pool1: torch.Size([64, 10, 12, 12])\n"
     ]
    },
    {
     "name": "stderr",
     "output_type": "stream",
     "text": [
      "Epoch 4:  76%|███████████████████████████████▊          | 711/938 [00:27<00:09, 23.87batch/s, accuracy=98.4, loss=0.11]"
     ]
    },
    {
     "name": "stdout",
     "output_type": "stream",
     "text": [
      "start: torch.Size([64, 1, 28, 28])\n",
      "conv1: torch.Size([64, 10, 24, 24])\n",
      "pool1: torch.Size([64, 10, 12, 12])\n",
      "start: torch.Size([64, 1, 28, 28])\n",
      "conv1: torch.Size([64, 10, 24, 24])\n",
      "pool1: torch.Size([64, 10, 12, 12])\n",
      "start: torch.Size([64, 1, 28, 28])\n",
      "conv1: torch.Size([64, 10, 24, 24])\n",
      "pool1: torch.Size([64, 10, 12, 12])\n",
      "start: torch.Size([64, 1, 28, 28])\n",
      "conv1: torch.Size([64, 10, 24, 24])\n",
      "pool1: torch.Size([64, 10, 12, 12])\n",
      "start: torch.Size([64, 1, 28, 28])\n",
      "conv1: torch.Size([64, 10, 24, 24])\n",
      "pool1: torch.Size([64, 10, 12, 12])\n",
      "start: torch.Size([64, 1, 28, 28])\n"
     ]
    },
    {
     "name": "stderr",
     "output_type": "stream",
     "text": [
      "Epoch 4:  76%|████████████████████████████████          | 717/938 [00:28<00:09, 24.27batch/s, accuracy=93.8, loss=0.19]"
     ]
    },
    {
     "name": "stdout",
     "output_type": "stream",
     "text": [
      "conv1: torch.Size([64, 10, 24, 24])\n",
      "pool1: torch.Size([64, 10, 12, 12])\n",
      "start: torch.Size([64, 1, 28, 28])\n",
      "conv1: torch.Size([64, 10, 24, 24])\n",
      "pool1: torch.Size([64, 10, 12, 12])\n",
      "start: torch.Size([64, 1, 28, 28])\n",
      "conv1: torch.Size([64, 10, 24, 24])\n",
      "pool1: torch.Size([64, 10, 12, 12])\n",
      "start: torch.Size([64, 1, 28, 28])\n",
      "conv1: torch.Size([64, 10, 24, 24])\n",
      "pool1: torch.Size([64, 10, 12, 12])\n",
      "start: torch.Size([64, 1, 28, 28])\n",
      "conv1: torch.Size([64, 10, 24, 24])\n",
      "pool1: torch.Size([64, 10, 12, 12])\n"
     ]
    },
    {
     "name": "stderr",
     "output_type": "stream",
     "text": [
      "Epoch 4:  77%|███████████████████████████████▍         | 720/938 [00:28<00:09, 23.58batch/s, accuracy=95.3, loss=0.265]"
     ]
    },
    {
     "name": "stdout",
     "output_type": "stream",
     "text": [
      "start: torch.Size([64, 1, 28, 28])\n",
      "conv1: torch.Size([64, 10, 24, 24])\n",
      "pool1: torch.Size([64, 10, 12, 12])\n",
      "start: torch.Size([64, 1, 28, 28])\n",
      "conv1: torch.Size([64, 10, 24, 24])\n",
      "pool1: torch.Size([64, 10, 12, 12])\n",
      "start: torch.Size([64, 1, 28, 28])\n",
      "conv1: torch.Size([64, 10, 24, 24])\n",
      "pool1: torch.Size([64, 10, 12, 12])\n",
      "start: torch.Size([64, 1, 28, 28])\n",
      "conv1: torch.Size([64, 10, 24, 24])\n",
      "pool1: torch.Size([64, 10, 12, 12])\n",
      "start: torch.Size([64, 1, 28, 28])\n",
      "conv1: torch.Size([64, 10, 24, 24])\n",
      "pool1: torch.Size([64, 10, 12, 12])\n"
     ]
    },
    {
     "name": "stderr",
     "output_type": "stream",
     "text": [
      "Epoch 4:  77%|███████████████████████████████▋         | 726/938 [00:28<00:08, 24.04batch/s, accuracy=96.9, loss=0.176]"
     ]
    },
    {
     "name": "stdout",
     "output_type": "stream",
     "text": [
      "start: torch.Size([64, 1, 28, 28])\n",
      "conv1: torch.Size([64, 10, 24, 24])\n",
      "pool1: torch.Size([64, 10, 12, 12])\n",
      "start: torch.Size([64, 1, 28, 28])\n",
      "conv1: torch.Size([64, 10, 24, 24])\n",
      "pool1: torch.Size([64, 10, 12, 12])\n",
      "start: torch.Size([64, 1, 28, 28])\n",
      "conv1: torch.Size([64, 10, 24, 24])\n",
      "pool1: torch.Size([64, 10, 12, 12])\n",
      "start: torch.Size([64, 1, 28, 28])\n",
      "conv1: torch.Size([64, 10, 24, 24])\n",
      "pool1: torch.Size([64, 10, 12, 12])\n",
      "start: torch.Size([64, 1, 28, 28])\n",
      "conv1: torch.Size([64, 10, 24, 24])\n",
      "pool1: torch.Size([64, 10, 12, 12])\n"
     ]
    },
    {
     "name": "stderr",
     "output_type": "stream",
     "text": [
      "Epoch 4:  78%|███████████████████████████████▏        | 732/938 [00:28<00:08, 23.37batch/s, accuracy=96.9, loss=0.0747]"
     ]
    },
    {
     "name": "stdout",
     "output_type": "stream",
     "text": [
      "start: torch.Size([64, 1, 28, 28])\n",
      "conv1: torch.Size([64, 10, 24, 24])\n",
      "pool1: torch.Size([64, 10, 12, 12])\n",
      "start: torch.Size([64, 1, 28, 28])\n",
      "conv1: torch.Size([64, 10, 24, 24])\n",
      "pool1: torch.Size([64, 10, 12, 12])\n",
      "start: torch.Size([64, 1, 28, 28])\n",
      "conv1: torch.Size([64, 10, 24, 24])\n",
      "pool1: torch.Size([64, 10, 12, 12])\n",
      "start: torch.Size([64, 1, 28, 28])\n",
      "conv1: torch.Size([64, 10, 24, 24])\n",
      "pool1: torch.Size([64, 10, 12, 12])\n",
      "start: torch.Size([64, 1, 28, 28])\n"
     ]
    },
    {
     "name": "stderr",
     "output_type": "stream",
     "text": [
      "Epoch 4:  78%|████████████████████████████████▏        | 735/938 [00:28<00:08, 23.25batch/s, accuracy=96.9, loss=0.157]"
     ]
    },
    {
     "name": "stdout",
     "output_type": "stream",
     "text": [
      "conv1: torch.Size([64, 10, 24, 24])\n",
      "pool1: torch.Size([64, 10, 12, 12])\n",
      "start: torch.Size([64, 1, 28, 28])\n",
      "conv1: torch.Size([64, 10, 24, 24])\n",
      "pool1: torch.Size([64, 10, 12, 12])\n",
      "start: torch.Size([64, 1, 28, 28])\n",
      "conv1: torch.Size([64, 10, 24, 24])\n",
      "pool1: torch.Size([64, 10, 12, 12])\n",
      "start: torch.Size([64, 1, 28, 28])\n",
      "conv1: torch.Size([64, 10, 24, 24])\n",
      "pool1: torch.Size([64, 10, 12, 12])\n",
      "start: torch.Size([64, 1, 28, 28])\n",
      "conv1: torch.Size([64, 10, 24, 24])\n",
      "pool1: torch.Size([64, 10, 12, 12])\n",
      "start: torch.Size([64, 1, 28, 28])\n"
     ]
    },
    {
     "name": "stderr",
     "output_type": "stream",
     "text": [
      "Epoch 4:  79%|███████████████████████████████▌        | 741/938 [00:29<00:08, 24.23batch/s, accuracy=96.9, loss=0.0919]"
     ]
    },
    {
     "name": "stdout",
     "output_type": "stream",
     "text": [
      "conv1: torch.Size([64, 10, 24, 24])\n",
      "pool1: torch.Size([64, 10, 12, 12])\n",
      "start: torch.Size([64, 1, 28, 28])\n",
      "conv1: torch.Size([64, 10, 24, 24])\n",
      "pool1: torch.Size([64, 10, 12, 12])\n",
      "start: torch.Size([64, 1, 28, 28])\n",
      "conv1: torch.Size([64, 10, 24, 24])\n",
      "pool1: torch.Size([64, 10, 12, 12])\n",
      "start: torch.Size([64, 1, 28, 28])\n",
      "conv1: torch.Size([64, 10, 24, 24])\n",
      "pool1: torch.Size([64, 10, 12, 12])\n",
      "start: torch.Size([64, 1, 28, 28])\n",
      "conv1: torch.Size([64, 10, 24, 24])\n",
      "pool1: torch.Size([64, 10, 12, 12])\n",
      "start: torch.Size([64, 1, 28, 28])\n"
     ]
    },
    {
     "name": "stderr",
     "output_type": "stream",
     "text": [
      "Epoch 4:  79%|████████████████████████████████▌        | 744/938 [00:29<00:07, 24.90batch/s, accuracy=95.3, loss=0.105]"
     ]
    },
    {
     "name": "stdout",
     "output_type": "stream",
     "text": [
      "conv1: torch.Size([64, 10, 24, 24])\n",
      "pool1: torch.Size([64, 10, 12, 12])\n",
      "start: torch.Size([64, 1, 28, 28])\n",
      "conv1: torch.Size([64, 10, 24, 24])\n",
      "pool1: torch.Size([64, 10, 12, 12])\n",
      "start: torch.Size([64, 1, 28, 28])\n",
      "conv1: torch.Size([64, 10, 24, 24])\n",
      "pool1: torch.Size([64, 10, 12, 12])\n",
      "start: torch.Size([64, 1, 28, 28])\n",
      "conv1: torch.Size([64, 10, 24, 24])\n",
      "pool1: torch.Size([64, 10, 12, 12])\n",
      "start: torch.Size([64, 1, 28, 28])\n",
      "conv1: torch.Size([64, 10, 24, 24])\n",
      "pool1: torch.Size([64, 10, 12, 12])\n"
     ]
    },
    {
     "name": "stderr",
     "output_type": "stream",
     "text": [
      "Epoch 4:  80%|████████████████████████████████▊        | 750/938 [00:29<00:07, 25.07batch/s, accuracy=89.1, loss=0.463]"
     ]
    },
    {
     "name": "stdout",
     "output_type": "stream",
     "text": [
      "start: torch.Size([64, 1, 28, 28])\n",
      "conv1: torch.Size([64, 10, 24, 24])\n",
      "pool1: torch.Size([64, 10, 12, 12])\n",
      "start: torch.Size([64, 1, 28, 28])\n",
      "conv1: torch.Size([64, 10, 24, 24])\n",
      "pool1: torch.Size([64, 10, 12, 12])\n",
      "start: torch.Size([64, 1, 28, 28])\n",
      "conv1: torch.Size([64, 10, 24, 24])\n",
      "pool1: torch.Size([64, 10, 12, 12])\n",
      "start: torch.Size([64, 1, 28, 28])\n",
      "conv1: torch.Size([64, 10, 24, 24])\n",
      "pool1: torch.Size([64, 10, 12, 12])\n",
      "start: torch.Size([64, 1, 28, 28])\n",
      "conv1: torch.Size([64, 10, 24, 24])\n",
      "pool1: torch.Size([64, 10, 12, 12])\n",
      "start: torch.Size([64, 1, 28, 28])\n"
     ]
    },
    {
     "name": "stderr",
     "output_type": "stream",
     "text": [
      "Epoch 4:  81%|█████████████████████████████████        | 756/938 [00:29<00:07, 24.82batch/s, accuracy=96.9, loss=0.128]"
     ]
    },
    {
     "name": "stdout",
     "output_type": "stream",
     "text": [
      "conv1: torch.Size([64, 10, 24, 24])\n",
      "pool1: torch.Size([64, 10, 12, 12])\n",
      "start: torch.Size([64, 1, 28, 28])\n",
      "conv1: torch.Size([64, 10, 24, 24])\n",
      "pool1: torch.Size([64, 10, 12, 12])\n",
      "start: torch.Size([64, 1, 28, 28])\n",
      "conv1: torch.Size([64, 10, 24, 24])\n",
      "pool1: torch.Size([64, 10, 12, 12])\n",
      "start: torch.Size([64, 1, 28, 28])\n",
      "conv1: torch.Size([64, 10, 24, 24])\n",
      "pool1: torch.Size([64, 10, 12, 12])\n",
      "start: torch.Size([64, 1, 28, 28])\n",
      "conv1: torch.Size([64, 10, 24, 24])\n",
      "pool1: torch.Size([64, 10, 12, 12])\n",
      "start: torch.Size([64, 1, 28, 28])\n"
     ]
    },
    {
     "name": "stderr",
     "output_type": "stream",
     "text": [
      "Epoch 4:  81%|█████████████████████████████████▏       | 759/938 [00:29<00:07, 24.71batch/s, accuracy=95.3, loss=0.151]"
     ]
    },
    {
     "name": "stdout",
     "output_type": "stream",
     "text": [
      "conv1: torch.Size([64, 10, 24, 24])\n",
      "pool1: torch.Size([64, 10, 12, 12])\n",
      "start: torch.Size([64, 1, 28, 28])\n",
      "conv1: torch.Size([64, 10, 24, 24])\n",
      "pool1: torch.Size([64, 10, 12, 12])\n",
      "start: torch.Size([64, 1, 28, 28])\n",
      "conv1: torch.Size([64, 10, 24, 24])\n",
      "pool1: torch.Size([64, 10, 12, 12])\n",
      "start: torch.Size([64, 1, 28, 28])\n",
      "conv1: torch.Size([64, 10, 24, 24])\n",
      "pool1: torch.Size([64, 10, 12, 12])\n"
     ]
    },
    {
     "name": "stderr",
     "output_type": "stream",
     "text": [
      "Epoch 4:  82%|█████████████████████████████████▍       | 765/938 [00:30<00:07, 22.78batch/s, accuracy=96.9, loss=0.102]"
     ]
    },
    {
     "name": "stdout",
     "output_type": "stream",
     "text": [
      "start: torch.Size([64, 1, 28, 28])\n",
      "conv1: torch.Size([64, 10, 24, 24])\n",
      "pool1: torch.Size([64, 10, 12, 12])\n",
      "start: torch.Size([64, 1, 28, 28])\n",
      "conv1: torch.Size([64, 10, 24, 24])\n",
      "pool1: torch.Size([64, 10, 12, 12])\n",
      "start: torch.Size([64, 1, 28, 28])\n",
      "conv1: torch.Size([64, 10, 24, 24])\n",
      "pool1: torch.Size([64, 10, 12, 12])\n",
      "start: torch.Size([64, 1, 28, 28])\n",
      "conv1: torch.Size([64, 10, 24, 24])\n",
      "pool1: torch.Size([64, 10, 12, 12])\n",
      "start: torch.Size([64, 1, 28, 28])\n"
     ]
    },
    {
     "name": "stderr",
     "output_type": "stream",
     "text": [
      "Epoch 4:  82%|█████████████████████████████████▌       | 768/938 [00:30<00:07, 22.38batch/s, accuracy=95.3, loss=0.145]"
     ]
    },
    {
     "name": "stdout",
     "output_type": "stream",
     "text": [
      "conv1: torch.Size([64, 10, 24, 24])\n",
      "pool1: torch.Size([64, 10, 12, 12])\n",
      "start: torch.Size([64, 1, 28, 28])\n",
      "conv1: torch.Size([64, 10, 24, 24])\n",
      "pool1: torch.Size([64, 10, 12, 12])\n",
      "start: torch.Size([64, 1, 28, 28])\n",
      "conv1: torch.Size([64, 10, 24, 24])\n",
      "pool1: torch.Size([64, 10, 12, 12])\n",
      "start: torch.Size([64, 1, 28, 28])\n",
      "conv1: torch.Size([64, 10, 24, 24])\n",
      "pool1: torch.Size([64, 10, 12, 12])\n",
      "start: torch.Size([64, 1, 28, 28])\n"
     ]
    },
    {
     "name": "stderr",
     "output_type": "stream",
     "text": [
      "Epoch 4:  82%|█████████████████████████████████▋       | 771/938 [00:30<00:07, 22.65batch/s, accuracy=96.9, loss=0.075]"
     ]
    },
    {
     "name": "stdout",
     "output_type": "stream",
     "text": [
      "conv1: torch.Size([64, 10, 24, 24])\n",
      "pool1: torch.Size([64, 10, 12, 12])\n",
      "start: torch.Size([64, 1, 28, 28])\n",
      "conv1: torch.Size([64, 10, 24, 24])\n",
      "pool1: torch.Size([64, 10, 12, 12])\n",
      "start: torch.Size([64, 1, 28, 28])\n",
      "conv1: torch.Size([64, 10, 24, 24])\n",
      "pool1: torch.Size([64, 10, 12, 12])\n",
      "start: torch.Size([64, 1, 28, 28])\n",
      "conv1: torch.Size([64, 10, 24, 24])\n",
      "pool1: torch.Size([64, 10, 12, 12])\n",
      "start: torch.Size([64, 1, 28, 28])\n",
      "conv1: torch.Size([64, 10, 24, 24])\n",
      "pool1: torch.Size([64, 10, 12, 12])\n"
     ]
    },
    {
     "name": "stderr",
     "output_type": "stream",
     "text": [
      "Epoch 4:  83%|█████████████████████████████████▏      | 777/938 [00:30<00:06, 23.36batch/s, accuracy=98.4, loss=0.0415]"
     ]
    },
    {
     "name": "stdout",
     "output_type": "stream",
     "text": [
      "start: torch.Size([64, 1, 28, 28])\n",
      "conv1: torch.Size([64, 10, 24, 24])\n",
      "pool1: torch.Size([64, 10, 12, 12])\n",
      "start: torch.Size([64, 1, 28, 28])\n",
      "conv1: torch.Size([64, 10, 24, 24])\n",
      "pool1: torch.Size([64, 10, 12, 12])\n",
      "start: torch.Size([64, 1, 28, 28])\n",
      "conv1: torch.Size([64, 10, 24, 24])\n",
      "pool1: torch.Size([64, 10, 12, 12])\n",
      "start: torch.Size([64, 1, 28, 28])\n",
      "conv1: torch.Size([64, 10, 24, 24])\n",
      "pool1: torch.Size([64, 10, 12, 12])\n",
      "start: torch.Size([64, 1, 28, 28])\n",
      "conv1: torch.Size([64, 10, 24, 24])\n",
      "pool1: torch.Size([64, 10, 12, 12])\n"
     ]
    },
    {
     "name": "stderr",
     "output_type": "stream",
     "text": [
      "Epoch 4:  83%|██████████████████████████████████▏      | 783/938 [00:30<00:06, 23.36batch/s, accuracy=96.9, loss=0.069]"
     ]
    },
    {
     "name": "stdout",
     "output_type": "stream",
     "text": [
      "start: torch.Size([64, 1, 28, 28])\n",
      "conv1: torch.Size([64, 10, 24, 24])\n",
      "pool1: torch.Size([64, 10, 12, 12])\n",
      "start: torch.Size([64, 1, 28, 28])\n",
      "conv1: torch.Size([64, 10, 24, 24])\n",
      "pool1: torch.Size([64, 10, 12, 12])\n",
      "start: torch.Size([64, 1, 28, 28])\n",
      "conv1: torch.Size([64, 10, 24, 24])\n",
      "pool1: torch.Size([64, 10, 12, 12])\n",
      "start: torch.Size([64, 1, 28, 28])\n",
      "conv1: torch.Size([64, 10, 24, 24])\n",
      "pool1: torch.Size([64, 10, 12, 12])\n",
      "start: torch.Size([64, 1, 28, 28])\n",
      "conv1: torch.Size([64, 10, 24, 24])\n",
      "pool1: torch.Size([64, 10, 12, 12])\n"
     ]
    },
    {
     "name": "stderr",
     "output_type": "stream",
     "text": [
      "Epoch 4:  84%|███████████████████████████████████▏      | 786/938 [00:31<00:06, 23.13batch/s, accuracy=95.3, loss=0.11]"
     ]
    },
    {
     "name": "stdout",
     "output_type": "stream",
     "text": [
      "start: torch.Size([64, 1, 28, 28])\n",
      "conv1: torch.Size([64, 10, 24, 24])\n",
      "pool1: torch.Size([64, 10, 12, 12])\n",
      "start: torch.Size([64, 1, 28, 28])\n",
      "conv1: torch.Size([64, 10, 24, 24])\n",
      "pool1: torch.Size([64, 10, 12, 12])\n",
      "start: torch.Size([64, 1, 28, 28])\n",
      "conv1: torch.Size([64, 10, 24, 24])\n",
      "pool1: torch.Size([64, 10, 12, 12])\n",
      "start: torch.Size([64, 1, 28, 28])\n",
      "conv1: torch.Size([64, 10, 24, 24])\n",
      "pool1: torch.Size([64, 10, 12, 12])\n",
      "start: torch.Size([64, 1, 28, 28])\n",
      "conv1: torch.Size([64, 10, 24, 24])\n",
      "pool1: torch.Size([64, 10, 12, 12])\n"
     ]
    },
    {
     "name": "stderr",
     "output_type": "stream",
     "text": [
      "Epoch 4:  84%|██████████████████████████████████▌      | 792/938 [00:31<00:06, 23.94batch/s, accuracy=93.8, loss=0.404]"
     ]
    },
    {
     "name": "stdout",
     "output_type": "stream",
     "text": [
      "start: torch.Size([64, 1, 28, 28])\n",
      "conv1: torch.Size([64, 10, 24, 24])\n",
      "pool1: torch.Size([64, 10, 12, 12])\n",
      "start: torch.Size([64, 1, 28, 28])\n",
      "conv1: torch.Size([64, 10, 24, 24])\n",
      "pool1: torch.Size([64, 10, 12, 12])\n",
      "start: torch.Size([64, 1, 28, 28])\n",
      "conv1: torch.Size([64, 10, 24, 24])\n",
      "pool1: torch.Size([64, 10, 12, 12])\n",
      "start: torch.Size([64, 1, 28, 28])\n",
      "conv1: torch.Size([64, 10, 24, 24])\n",
      "pool1: torch.Size([64, 10, 12, 12])\n",
      "start: torch.Size([64, 1, 28, 28])\n",
      "conv1: torch.Size([64, 10, 24, 24])\n",
      "pool1: torch.Size([64, 10, 12, 12])\n",
      "start: torch.Size([64, 1, 28, 28])\n"
     ]
    },
    {
     "name": "stderr",
     "output_type": "stream",
     "text": [
      "Epoch 4:  85%|███████████████████████████████████▋      | 798/938 [00:31<00:05, 24.03batch/s, accuracy=92.2, loss=0.27]"
     ]
    },
    {
     "name": "stdout",
     "output_type": "stream",
     "text": [
      "conv1: torch.Size([64, 10, 24, 24])\n",
      "pool1: torch.Size([64, 10, 12, 12])\n",
      "start: torch.Size([64, 1, 28, 28])\n",
      "conv1: torch.Size([64, 10, 24, 24])\n",
      "pool1: torch.Size([64, 10, 12, 12])\n",
      "start: torch.Size([64, 1, 28, 28])\n",
      "conv1: torch.Size([64, 10, 24, 24])\n",
      "pool1: torch.Size([64, 10, 12, 12])\n",
      "start: torch.Size([64, 1, 28, 28])\n",
      "conv1: torch.Size([64, 10, 24, 24])\n",
      "pool1: torch.Size([64, 10, 12, 12])\n",
      "start: torch.Size([64, 1, 28, 28])\n",
      "conv1: torch.Size([64, 10, 24, 24])\n",
      "pool1: torch.Size([64, 10, 12, 12])\n"
     ]
    },
    {
     "name": "stderr",
     "output_type": "stream",
     "text": [
      "Epoch 4:  85%|███████████████████████████████████      | 801/938 [00:31<00:05, 23.37batch/s, accuracy=100, loss=0.0627]"
     ]
    },
    {
     "name": "stdout",
     "output_type": "stream",
     "text": [
      "start: torch.Size([64, 1, 28, 28])\n",
      "conv1: torch.Size([64, 10, 24, 24])\n",
      "pool1: torch.Size([64, 10, 12, 12])\n",
      "start: torch.Size([64, 1, 28, 28])\n",
      "conv1: torch.Size([64, 10, 24, 24])\n",
      "pool1: torch.Size([64, 10, 12, 12])\n",
      "start: torch.Size([64, 1, 28, 28])\n",
      "conv1: torch.Size([64, 10, 24, 24])\n",
      "pool1: torch.Size([64, 10, 12, 12])\n",
      "start: torch.Size([64, 1, 28, 28])\n",
      "conv1: torch.Size([64, 10, 24, 24])\n",
      "pool1: torch.Size([64, 10, 12, 12])\n",
      "start: torch.Size([64, 1, 28, 28])\n",
      "conv1: torch.Size([64, 10, 24, 24])\n",
      "pool1: torch.Size([64, 10, 12, 12])\n"
     ]
    },
    {
     "name": "stderr",
     "output_type": "stream",
     "text": [
      "Epoch 4:  86%|███████████████████████████████████▎     | 807/938 [00:31<00:05, 23.74batch/s, accuracy=92.2, loss=0.352]"
     ]
    },
    {
     "name": "stdout",
     "output_type": "stream",
     "text": [
      "start: torch.Size([64, 1, 28, 28])\n",
      "conv1: torch.Size([64, 10, 24, 24])\n",
      "pool1: torch.Size([64, 10, 12, 12])\n",
      "start: torch.Size([64, 1, 28, 28])\n",
      "conv1: torch.Size([64, 10, 24, 24])\n",
      "pool1: torch.Size([64, 10, 12, 12])\n",
      "start: torch.Size([64, 1, 28, 28])\n",
      "conv1: torch.Size([64, 10, 24, 24])\n",
      "pool1: torch.Size([64, 10, 12, 12])\n",
      "start: torch.Size([64, 1, 28, 28])\n",
      "conv1: torch.Size([64, 10, 24, 24])\n",
      "pool1: torch.Size([64, 10, 12, 12])\n",
      "start: torch.Size([64, 1, 28, 28])\n",
      "conv1: torch.Size([64, 10, 24, 24])\n",
      "pool1: torch.Size([64, 10, 12, 12])\n",
      "start: torch.Size([64, 1, 28, 28])\n"
     ]
    },
    {
     "name": "stderr",
     "output_type": "stream",
     "text": [
      "Epoch 4:  87%|███████████████████████████████████▌     | 813/938 [00:32<00:05, 24.11batch/s, accuracy=96.9, loss=0.181]"
     ]
    },
    {
     "name": "stdout",
     "output_type": "stream",
     "text": [
      "conv1: torch.Size([64, 10, 24, 24])\n",
      "pool1: torch.Size([64, 10, 12, 12])\n",
      "start: torch.Size([64, 1, 28, 28])\n",
      "conv1: torch.Size([64, 10, 24, 24])\n",
      "pool1: torch.Size([64, 10, 12, 12])\n",
      "start: torch.Size([64, 1, 28, 28])\n",
      "conv1: torch.Size([64, 10, 24, 24])\n",
      "pool1: torch.Size([64, 10, 12, 12])\n",
      "start: torch.Size([64, 1, 28, 28])\n",
      "conv1: torch.Size([64, 10, 24, 24])\n",
      "pool1: torch.Size([64, 10, 12, 12])\n",
      "start: torch.Size([64, 1, 28, 28])\n",
      "conv1: torch.Size([64, 10, 24, 24])\n",
      "pool1: torch.Size([64, 10, 12, 12])\n",
      "start: torch.Size([64, 1, 28, 28])\n"
     ]
    },
    {
     "name": "stderr",
     "output_type": "stream",
     "text": [
      "Epoch 4:  87%|████████████████████████████████████▋     | 819/938 [00:32<00:04, 24.26batch/s, accuracy=90.6, loss=0.31]"
     ]
    },
    {
     "name": "stdout",
     "output_type": "stream",
     "text": [
      "conv1: torch.Size([64, 10, 24, 24])\n",
      "pool1: torch.Size([64, 10, 12, 12])\n",
      "start: torch.Size([64, 1, 28, 28])\n",
      "conv1: torch.Size([64, 10, 24, 24])\n",
      "pool1: torch.Size([64, 10, 12, 12])\n",
      "start: torch.Size([64, 1, 28, 28])\n",
      "conv1: torch.Size([64, 10, 24, 24])\n",
      "pool1: torch.Size([64, 10, 12, 12])\n",
      "start: torch.Size([64, 1, 28, 28])\n",
      "conv1: torch.Size([64, 10, 24, 24])\n",
      "pool1: torch.Size([64, 10, 12, 12])\n",
      "start: torch.Size([64, 1, 28, 28])\n",
      "conv1: torch.Size([64, 10, 24, 24])\n",
      "pool1: torch.Size([64, 10, 12, 12])\n"
     ]
    },
    {
     "name": "stderr",
     "output_type": "stream",
     "text": [
      "Epoch 4:  88%|███████████████████████████████████▉     | 822/938 [00:32<00:04, 24.56batch/s, accuracy=100, loss=0.0351]"
     ]
    },
    {
     "name": "stdout",
     "output_type": "stream",
     "text": [
      "start: torch.Size([64, 1, 28, 28])\n",
      "conv1: torch.Size([64, 10, 24, 24])\n",
      "pool1: torch.Size([64, 10, 12, 12])\n",
      "start: torch.Size([64, 1, 28, 28])\n",
      "conv1: torch.Size([64, 10, 24, 24])\n",
      "pool1: torch.Size([64, 10, 12, 12])\n",
      "start: torch.Size([64, 1, 28, 28])\n",
      "conv1: torch.Size([64, 10, 24, 24])\n",
      "pool1: torch.Size([64, 10, 12, 12])\n",
      "start: torch.Size([64, 1, 28, 28])\n",
      "conv1: torch.Size([64, 10, 24, 24])\n",
      "pool1: torch.Size([64, 10, 12, 12])\n",
      "start: torch.Size([64, 1, 28, 28])\n",
      "conv1: torch.Size([64, 10, 24, 24])\n",
      "pool1: torch.Size([64, 10, 12, 12])\n"
     ]
    },
    {
     "name": "stderr",
     "output_type": "stream",
     "text": [
      "Epoch 4:  88%|████████████████████████████████████▏    | 828/938 [00:32<00:04, 23.62batch/s, accuracy=90.6, loss=0.402]"
     ]
    },
    {
     "name": "stdout",
     "output_type": "stream",
     "text": [
      "start: torch.Size([64, 1, 28, 28])\n",
      "conv1: torch.Size([64, 10, 24, 24])\n",
      "pool1: torch.Size([64, 10, 12, 12])\n",
      "start: torch.Size([64, 1, 28, 28])\n",
      "conv1: torch.Size([64, 10, 24, 24])\n",
      "pool1: torch.Size([64, 10, 12, 12])\n",
      "start: torch.Size([64, 1, 28, 28])\n",
      "conv1: torch.Size([64, 10, 24, 24])\n",
      "pool1: torch.Size([64, 10, 12, 12])\n",
      "start: torch.Size([64, 1, 28, 28])\n",
      "conv1: torch.Size([64, 10, 24, 24])\n",
      "pool1: torch.Size([64, 10, 12, 12])\n",
      "start: torch.Size([64, 1, 28, 28])\n",
      "conv1: torch.Size([64, 10, 24, 24])\n",
      "pool1: torch.Size([64, 10, 12, 12])\n"
     ]
    },
    {
     "name": "stderr",
     "output_type": "stream",
     "text": [
      "Epoch 4:  89%|████████████████████████████████████▍    | 834/938 [00:32<00:04, 24.22batch/s, accuracy=93.8, loss=0.226]"
     ]
    },
    {
     "name": "stdout",
     "output_type": "stream",
     "text": [
      "start: torch.Size([64, 1, 28, 28])\n",
      "conv1: torch.Size([64, 10, 24, 24])\n",
      "pool1: torch.Size([64, 10, 12, 12])\n",
      "start: torch.Size([64, 1, 28, 28])\n",
      "conv1: torch.Size([64, 10, 24, 24])\n",
      "pool1: torch.Size([64, 10, 12, 12])\n",
      "start: torch.Size([64, 1, 28, 28])\n",
      "conv1: torch.Size([64, 10, 24, 24])\n",
      "pool1: torch.Size([64, 10, 12, 12])\n",
      "start: torch.Size([64, 1, 28, 28])\n",
      "conv1: torch.Size([64, 10, 24, 24])\n",
      "pool1: torch.Size([64, 10, 12, 12])\n",
      "start: torch.Size([64, 1, 28, 28])\n",
      "conv1: torch.Size([64, 10, 24, 24])\n",
      "pool1: torch.Size([64, 10, 12, 12])\n"
     ]
    },
    {
     "name": "stderr",
     "output_type": "stream",
     "text": [
      "Epoch 4:  89%|███████████████████████████████████▋    | 837/938 [00:33<00:04, 24.23batch/s, accuracy=98.4, loss=0.0519]"
     ]
    },
    {
     "name": "stdout",
     "output_type": "stream",
     "text": [
      "start: torch.Size([64, 1, 28, 28])\n",
      "conv1: torch.Size([64, 10, 24, 24])\n",
      "pool1: torch.Size([64, 10, 12, 12])\n",
      "start: torch.Size([64, 1, 28, 28])\n",
      "conv1: torch.Size([64, 10, 24, 24])\n",
      "pool1: torch.Size([64, 10, 12, 12])\n",
      "start: torch.Size([64, 1, 28, 28])\n",
      "conv1: torch.Size([64, 10, 24, 24])\n",
      "pool1: torch.Size([64, 10, 12, 12])\n",
      "start: torch.Size([64, 1, 28, 28])\n",
      "conv1: torch.Size([64, 10, 24, 24])\n",
      "pool1: torch.Size([64, 10, 12, 12])\n",
      "start: torch.Size([64, 1, 28, 28])\n",
      "conv1: torch.Size([64, 10, 24, 24])\n",
      "pool1: torch.Size([64, 10, 12, 12])\n"
     ]
    },
    {
     "name": "stderr",
     "output_type": "stream",
     "text": [
      "Epoch 4:  90%|███████████████████████████████████▉    | 843/938 [00:33<00:04, 23.68batch/s, accuracy=98.4, loss=0.0535]"
     ]
    },
    {
     "name": "stdout",
     "output_type": "stream",
     "text": [
      "start: torch.Size([64, 1, 28, 28])\n",
      "conv1: torch.Size([64, 10, 24, 24])\n",
      "pool1: torch.Size([64, 10, 12, 12])\n",
      "start: torch.Size([64, 1, 28, 28])\n",
      "conv1: torch.Size([64, 10, 24, 24])\n",
      "pool1: torch.Size([64, 10, 12, 12])\n",
      "start: torch.Size([64, 1, 28, 28])\n",
      "conv1: torch.Size([64, 10, 24, 24])\n",
      "pool1: torch.Size([64, 10, 12, 12])\n",
      "start: torch.Size([64, 1, 28, 28])\n",
      "conv1: torch.Size([64, 10, 24, 24])\n",
      "pool1: torch.Size([64, 10, 12, 12])\n",
      "start: torch.Size([64, 1, 28, 28])\n",
      "conv1: torch.Size([64, 10, 24, 24])\n",
      "pool1: torch.Size([64, 10, 12, 12])\n"
     ]
    },
    {
     "name": "stderr",
     "output_type": "stream",
     "text": [
      "Epoch 4:  91%|█████████████████████████████████████    | 849/938 [00:33<00:03, 24.09batch/s, accuracy=95.3, loss=0.269]"
     ]
    },
    {
     "name": "stdout",
     "output_type": "stream",
     "text": [
      "start: torch.Size([64, 1, 28, 28])\n",
      "conv1: torch.Size([64, 10, 24, 24])\n",
      "pool1: torch.Size([64, 10, 12, 12])\n",
      "start: torch.Size([64, 1, 28, 28])\n",
      "conv1: torch.Size([64, 10, 24, 24])\n",
      "pool1: torch.Size([64, 10, 12, 12])\n",
      "start: torch.Size([64, 1, 28, 28])\n",
      "conv1: torch.Size([64, 10, 24, 24])\n",
      "pool1: torch.Size([64, 10, 12, 12])\n",
      "start: torch.Size([64, 1, 28, 28])\n",
      "conv1: torch.Size([64, 10, 24, 24])\n",
      "pool1: torch.Size([64, 10, 12, 12])\n",
      "start: torch.Size([64, 1, 28, 28])\n",
      "conv1: torch.Size([64, 10, 24, 24])\n",
      "pool1: torch.Size([64, 10, 12, 12])\n"
     ]
    },
    {
     "name": "stderr",
     "output_type": "stream",
     "text": [
      "Epoch 4:  91%|█████████████████████████████████████▏   | 852/938 [00:33<00:03, 23.19batch/s, accuracy=92.2, loss=0.278]"
     ]
    },
    {
     "name": "stdout",
     "output_type": "stream",
     "text": [
      "start: torch.Size([64, 1, 28, 28])\n",
      "conv1: torch.Size([64, 10, 24, 24])\n",
      "pool1: torch.Size([64, 10, 12, 12])\n",
      "start: torch.Size([64, 1, 28, 28])\n",
      "conv1: torch.Size([64, 10, 24, 24])\n",
      "pool1: torch.Size([64, 10, 12, 12])\n",
      "start: torch.Size([64, 1, 28, 28])\n",
      "conv1: torch.Size([64, 10, 24, 24])\n",
      "pool1: torch.Size([64, 10, 12, 12])\n",
      "start: torch.Size([64, 1, 28, 28])\n",
      "conv1: torch.Size([64, 10, 24, 24])\n",
      "pool1: torch.Size([64, 10, 12, 12])\n",
      "start: torch.Size([64, 1, 28, 28])\n"
     ]
    },
    {
     "name": "stderr",
     "output_type": "stream",
     "text": [
      "Epoch 4:  91%|█████████████████████████████████████▌   | 858/938 [00:33<00:03, 23.79batch/s, accuracy=100, loss=0.0242]"
     ]
    },
    {
     "name": "stdout",
     "output_type": "stream",
     "text": [
      "conv1: torch.Size([64, 10, 24, 24])\n",
      "pool1: torch.Size([64, 10, 12, 12])\n",
      "start: torch.Size([64, 1, 28, 28])\n",
      "conv1: torch.Size([64, 10, 24, 24])\n",
      "pool1: torch.Size([64, 10, 12, 12])\n",
      "start: torch.Size([64, 1, 28, 28])\n",
      "conv1: torch.Size([64, 10, 24, 24])\n",
      "pool1: torch.Size([64, 10, 12, 12])\n",
      "start: torch.Size([64, 1, 28, 28])\n",
      "conv1: torch.Size([64, 10, 24, 24])\n",
      "pool1: torch.Size([64, 10, 12, 12])\n",
      "start: torch.Size([64, 1, 28, 28])\n",
      "conv1: torch.Size([64, 10, 24, 24])\n",
      "pool1: torch.Size([64, 10, 12, 12])\n"
     ]
    },
    {
     "name": "stderr",
     "output_type": "stream",
     "text": [
      "Epoch 4:  92%|█████████████████████████████████████▋   | 861/938 [00:34<00:03, 24.57batch/s, accuracy=93.8, loss=0.461]"
     ]
    },
    {
     "name": "stdout",
     "output_type": "stream",
     "text": [
      "start: torch.Size([64, 1, 28, 28])\n",
      "conv1: torch.Size([64, 10, 24, 24])\n",
      "pool1: torch.Size([64, 10, 12, 12])\n",
      "start: torch.Size([64, 1, 28, 28])\n",
      "conv1: torch.Size([64, 10, 24, 24])\n",
      "pool1: torch.Size([64, 10, 12, 12])\n",
      "start: torch.Size([64, 1, 28, 28])\n",
      "conv1: torch.Size([64, 10, 24, 24])\n",
      "pool1: torch.Size([64, 10, 12, 12])\n",
      "start: torch.Size([64, 1, 28, 28])\n",
      "conv1: torch.Size([64, 10, 24, 24])\n",
      "pool1: torch.Size([64, 10, 12, 12])\n",
      "start: torch.Size([64, 1, 28, 28])\n",
      "conv1: torch.Size([64, 10, 24, 24])\n",
      "pool1: torch.Size([64, 10, 12, 12])\n"
     ]
    },
    {
     "name": "stderr",
     "output_type": "stream",
     "text": [
      "Epoch 4:  92%|█████████████████████████████████████▉   | 867/938 [00:34<00:03, 23.02batch/s, accuracy=93.8, loss=0.158]"
     ]
    },
    {
     "name": "stdout",
     "output_type": "stream",
     "text": [
      "start: torch.Size([64, 1, 28, 28])\n",
      "conv1: torch.Size([64, 10, 24, 24])\n",
      "pool1: torch.Size([64, 10, 12, 12])\n",
      "start: torch.Size([64, 1, 28, 28])\n",
      "conv1: torch.Size([64, 10, 24, 24])\n",
      "pool1: torch.Size([64, 10, 12, 12])\n",
      "start: torch.Size([64, 1, 28, 28])\n",
      "conv1: torch.Size([64, 10, 24, 24])\n",
      "pool1: torch.Size([64, 10, 12, 12])\n",
      "start: torch.Size([64, 1, 28, 28])\n",
      "conv1: torch.Size([64, 10, 24, 24])\n",
      "pool1: torch.Size([64, 10, 12, 12])\n",
      "start: torch.Size([64, 1, 28, 28])\n"
     ]
    },
    {
     "name": "stderr",
     "output_type": "stream",
     "text": [
      "Epoch 4:  93%|██████████████████████████████████████   | 870/938 [00:34<00:02, 23.05batch/s, accuracy=93.8, loss=0.201]"
     ]
    },
    {
     "name": "stdout",
     "output_type": "stream",
     "text": [
      "conv1: torch.Size([64, 10, 24, 24])\n",
      "pool1: torch.Size([64, 10, 12, 12])\n",
      "start: torch.Size([64, 1, 28, 28])\n",
      "conv1: torch.Size([64, 10, 24, 24])\n",
      "pool1: torch.Size([64, 10, 12, 12])\n",
      "start: torch.Size([64, 1, 28, 28])\n",
      "conv1: torch.Size([64, 10, 24, 24])\n",
      "pool1: torch.Size([64, 10, 12, 12])\n",
      "start: torch.Size([64, 1, 28, 28])\n",
      "conv1: torch.Size([64, 10, 24, 24])\n",
      "pool1: torch.Size([64, 10, 12, 12])\n",
      "start: torch.Size([64, 1, 28, 28])\n",
      "conv1: torch.Size([64, 10, 24, 24])\n",
      "pool1: torch.Size([64, 10, 12, 12])\n"
     ]
    },
    {
     "name": "stderr",
     "output_type": "stream",
     "text": [
      "Epoch 4:  93%|████████████████████████████████████████▏  | 876/938 [00:34<00:02, 23.64batch/s, accuracy=93.8, loss=0.3]"
     ]
    },
    {
     "name": "stdout",
     "output_type": "stream",
     "text": [
      "start: torch.Size([64, 1, 28, 28])\n",
      "conv1: torch.Size([64, 10, 24, 24])\n",
      "pool1: torch.Size([64, 10, 12, 12])\n",
      "start: torch.Size([64, 1, 28, 28])\n",
      "conv1: torch.Size([64, 10, 24, 24])\n",
      "pool1: torch.Size([64, 10, 12, 12])\n",
      "start: torch.Size([64, 1, 28, 28])\n",
      "conv1: torch.Size([64, 10, 24, 24])\n",
      "pool1: torch.Size([64, 10, 12, 12])\n",
      "start: torch.Size([64, 1, 28, 28])\n",
      "conv1: torch.Size([64, 10, 24, 24])\n",
      "pool1: torch.Size([64, 10, 12, 12])\n",
      "start: torch.Size([64, 1, 28, 28])\n",
      "conv1: torch.Size([64, 10, 24, 24])\n",
      "pool1: torch.Size([64, 10, 12, 12])\n",
      "start: torch.Size([64, 1, 28, 28])\n"
     ]
    },
    {
     "name": "stderr",
     "output_type": "stream",
     "text": [
      "Epoch 4:  94%|██████████████████████████████████████▌  | 882/938 [00:34<00:02, 24.46batch/s, accuracy=90.6, loss=0.267]"
     ]
    },
    {
     "name": "stdout",
     "output_type": "stream",
     "text": [
      "conv1: torch.Size([64, 10, 24, 24])\n",
      "pool1: torch.Size([64, 10, 12, 12])\n",
      "start: torch.Size([64, 1, 28, 28])\n",
      "conv1: torch.Size([64, 10, 24, 24])\n",
      "pool1: torch.Size([64, 10, 12, 12])\n",
      "start: torch.Size([64, 1, 28, 28])\n",
      "conv1: torch.Size([64, 10, 24, 24])\n",
      "pool1: torch.Size([64, 10, 12, 12])\n",
      "start: torch.Size([64, 1, 28, 28])\n",
      "conv1: torch.Size([64, 10, 24, 24])\n",
      "pool1: torch.Size([64, 10, 12, 12])\n",
      "start: torch.Size([64, 1, 28, 28])\n",
      "conv1: torch.Size([64, 10, 24, 24])\n",
      "pool1: torch.Size([64, 10, 12, 12])\n"
     ]
    },
    {
     "name": "stderr",
     "output_type": "stream",
     "text": [
      "Epoch 4:  94%|██████████████████████████████████████▋  | 885/938 [00:35<00:02, 24.40batch/s, accuracy=100, loss=0.0465]"
     ]
    },
    {
     "name": "stdout",
     "output_type": "stream",
     "text": [
      "start: torch.Size([64, 1, 28, 28])\n",
      "conv1: torch.Size([64, 10, 24, 24])\n",
      "pool1: torch.Size([64, 10, 12, 12])\n",
      "start: torch.Size([64, 1, 28, 28])\n",
      "conv1: torch.Size([64, 10, 24, 24])\n",
      "pool1: torch.Size([64, 10, 12, 12])\n",
      "start: torch.Size([64, 1, 28, 28])\n",
      "conv1: torch.Size([64, 10, 24, 24])\n",
      "pool1: torch.Size([64, 10, 12, 12])\n",
      "start: torch.Size([64, 1, 28, 28])\n",
      "conv1: torch.Size([64, 10, 24, 24])\n",
      "pool1: torch.Size([64, 10, 12, 12])\n",
      "start: torch.Size([64, 1, 28, 28])\n",
      "conv1: torch.Size([64, 10, 24, 24])\n",
      "pool1: torch.Size([64, 10, 12, 12])\n"
     ]
    },
    {
     "name": "stderr",
     "output_type": "stream",
     "text": [
      "Epoch 4:  95%|██████████████████████████████████████▉  | 891/938 [00:35<00:02, 23.30batch/s, accuracy=96.9, loss=0.125]"
     ]
    },
    {
     "name": "stdout",
     "output_type": "stream",
     "text": [
      "start: torch.Size([64, 1, 28, 28])\n",
      "conv1: torch.Size([64, 10, 24, 24])\n",
      "pool1: torch.Size([64, 10, 12, 12])\n",
      "start: torch.Size([64, 1, 28, 28])\n",
      "conv1: torch.Size([64, 10, 24, 24])\n",
      "pool1: torch.Size([64, 10, 12, 12])\n",
      "start: torch.Size([64, 1, 28, 28])\n",
      "conv1: torch.Size([64, 10, 24, 24])\n",
      "pool1: torch.Size([64, 10, 12, 12])\n",
      "start: torch.Size([64, 1, 28, 28])\n",
      "conv1: torch.Size([64, 10, 24, 24])\n",
      "pool1: torch.Size([64, 10, 12, 12])\n",
      "start: torch.Size([64, 1, 28, 28])\n"
     ]
    },
    {
     "name": "stderr",
     "output_type": "stream",
     "text": [
      "Epoch 4:  95%|██████████████████████████████████████  | 894/938 [00:35<00:01, 22.68batch/s, accuracy=96.9, loss=0.0806]"
     ]
    },
    {
     "name": "stdout",
     "output_type": "stream",
     "text": [
      "conv1: torch.Size([64, 10, 24, 24])\n",
      "pool1: torch.Size([64, 10, 12, 12])\n",
      "start: torch.Size([64, 1, 28, 28])\n",
      "conv1: torch.Size([64, 10, 24, 24])\n",
      "pool1: torch.Size([64, 10, 12, 12])\n",
      "start: torch.Size([64, 1, 28, 28])\n",
      "conv1: torch.Size([64, 10, 24, 24])\n",
      "pool1: torch.Size([64, 10, 12, 12])\n",
      "start: torch.Size([64, 1, 28, 28])\n",
      "conv1: torch.Size([64, 10, 24, 24])\n",
      "pool1: torch.Size([64, 10, 12, 12])\n",
      "start: torch.Size([64, 1, 28, 28])\n",
      "conv1: torch.Size([64, 10, 24, 24])\n",
      "pool1: torch.Size([64, 10, 12, 12])\n"
     ]
    },
    {
     "name": "stderr",
     "output_type": "stream",
     "text": [
      "Epoch 4:  96%|███████████████████████████████████████▎ | 900/938 [00:35<00:01, 22.33batch/s, accuracy=93.8, loss=0.459]"
     ]
    },
    {
     "name": "stdout",
     "output_type": "stream",
     "text": [
      "start: torch.Size([64, 1, 28, 28])\n",
      "conv1: torch.Size([64, 10, 24, 24])\n",
      "pool1: torch.Size([64, 10, 12, 12])\n",
      "start: torch.Size([64, 1, 28, 28])\n",
      "conv1: torch.Size([64, 10, 24, 24])\n",
      "pool1: torch.Size([64, 10, 12, 12])\n",
      "start: torch.Size([64, 1, 28, 28])\n",
      "conv1: torch.Size([64, 10, 24, 24])\n",
      "pool1: torch.Size([64, 10, 12, 12])\n",
      "start: torch.Size([64, 1, 28, 28])\n",
      "conv1: torch.Size([64, 10, 24, 24])\n",
      "pool1: torch.Size([64, 10, 12, 12])\n",
      "start: torch.Size([64, 1, 28, 28])\n"
     ]
    },
    {
     "name": "stderr",
     "output_type": "stream",
     "text": [
      "Epoch 4:  96%|███████████████████████████████████████▍ | 903/938 [00:35<00:01, 21.80batch/s, accuracy=96.9, loss=0.194]"
     ]
    },
    {
     "name": "stdout",
     "output_type": "stream",
     "text": [
      "conv1: torch.Size([64, 10, 24, 24])\n",
      "pool1: torch.Size([64, 10, 12, 12])\n",
      "start: torch.Size([64, 1, 28, 28])\n",
      "conv1: torch.Size([64, 10, 24, 24])\n",
      "pool1: torch.Size([64, 10, 12, 12])\n",
      "start: torch.Size([64, 1, 28, 28])\n",
      "conv1: torch.Size([64, 10, 24, 24])\n",
      "pool1: torch.Size([64, 10, 12, 12])\n",
      "start: torch.Size([64, 1, 28, 28])\n",
      "conv1: torch.Size([64, 10, 24, 24])\n",
      "pool1: torch.Size([64, 10, 12, 12])\n",
      "start: torch.Size([64, 1, 28, 28])\n"
     ]
    },
    {
     "name": "stderr",
     "output_type": "stream",
     "text": [
      "Epoch 4:  97%|██████████████████████████████████████▋ | 906/938 [00:36<00:01, 21.75batch/s, accuracy=98.4, loss=0.0682]"
     ]
    },
    {
     "name": "stdout",
     "output_type": "stream",
     "text": [
      "conv1: torch.Size([64, 10, 24, 24])\n",
      "pool1: torch.Size([64, 10, 12, 12])\n",
      "start: torch.Size([64, 1, 28, 28])\n",
      "conv1: torch.Size([64, 10, 24, 24])\n",
      "pool1: torch.Size([64, 10, 12, 12])\n",
      "start: torch.Size([64, 1, 28, 28])\n",
      "conv1: torch.Size([64, 10, 24, 24])\n",
      "pool1: torch.Size([64, 10, 12, 12])\n",
      "start: torch.Size([64, 1, 28, 28])\n",
      "conv1: torch.Size([64, 10, 24, 24])\n",
      "pool1: torch.Size([64, 10, 12, 12])\n",
      "start: torch.Size([64, 1, 28, 28])\n",
      "conv1: torch.Size([64, 10, 24, 24])\n"
     ]
    },
    {
     "name": "stderr",
     "output_type": "stream",
     "text": [
      "Epoch 4:  97%|███████████████████████████████████████▊ | 912/938 [00:36<00:01, 21.68batch/s, accuracy=93.8, loss=0.237]"
     ]
    },
    {
     "name": "stdout",
     "output_type": "stream",
     "text": [
      "pool1: torch.Size([64, 10, 12, 12])\n",
      "start: torch.Size([64, 1, 28, 28])\n",
      "conv1: torch.Size([64, 10, 24, 24])\n",
      "pool1: torch.Size([64, 10, 12, 12])\n",
      "start: torch.Size([64, 1, 28, 28])\n",
      "conv1: torch.Size([64, 10, 24, 24])\n",
      "pool1: torch.Size([64, 10, 12, 12])\n",
      "start: torch.Size([64, 1, 28, 28])\n",
      "conv1: torch.Size([64, 10, 24, 24])\n",
      "pool1: torch.Size([64, 10, 12, 12])\n",
      "start: torch.Size([64, 1, 28, 28])\n",
      "conv1: torch.Size([64, 10, 24, 24])\n"
     ]
    },
    {
     "name": "stderr",
     "output_type": "stream",
     "text": [
      "Epoch 4:  98%|████████████████████████████████████████▉ | 915/938 [00:36<00:01, 21.67batch/s, accuracy=93.8, loss=0.24]"
     ]
    },
    {
     "name": "stdout",
     "output_type": "stream",
     "text": [
      "pool1: torch.Size([64, 10, 12, 12])\n",
      "start: torch.Size([64, 1, 28, 28])\n",
      "conv1: torch.Size([64, 10, 24, 24])\n",
      "pool1: torch.Size([64, 10, 12, 12])\n",
      "start: torch.Size([64, 1, 28, 28])\n",
      "conv1: torch.Size([64, 10, 24, 24])\n",
      "pool1: torch.Size([64, 10, 12, 12])\n",
      "start: torch.Size([64, 1, 28, 28])\n",
      "conv1: torch.Size([64, 10, 24, 24])\n",
      "pool1: torch.Size([64, 10, 12, 12])\n",
      "start: torch.Size([64, 1, 28, 28])\n",
      "conv1: torch.Size([64, 10, 24, 24])\n",
      "pool1: torch.Size([64, 10, 12, 12])\n"
     ]
    },
    {
     "name": "stderr",
     "output_type": "stream",
     "text": [
      "Epoch 4:  98%|███████████████████████████████████████▏| 918/938 [00:36<00:00, 22.34batch/s, accuracy=98.4, loss=0.0714]"
     ]
    },
    {
     "name": "stdout",
     "output_type": "stream",
     "text": [
      "start: torch.Size([64, 1, 28, 28])\n",
      "conv1: torch.Size([64, 10, 24, 24])\n",
      "pool1: torch.Size([64, 10, 12, 12])\n",
      "start: torch.Size([64, 1, 28, 28])\n",
      "conv1: torch.Size([64, 10, 24, 24])\n",
      "pool1: torch.Size([64, 10, 12, 12])\n",
      "start: torch.Size([64, 1, 28, 28])\n",
      "conv1: torch.Size([64, 10, 24, 24])\n",
      "pool1: torch.Size([64, 10, 12, 12])\n",
      "start: torch.Size([64, 1, 28, 28])\n",
      "conv1: torch.Size([64, 10, 24, 24])\n",
      "pool1: torch.Size([64, 10, 12, 12])\n"
     ]
    },
    {
     "name": "stderr",
     "output_type": "stream",
     "text": [
      "Epoch 4:  99%|████████████████████████████████████████▍| 924/938 [00:36<00:00, 20.78batch/s, accuracy=92.2, loss=0.257]"
     ]
    },
    {
     "name": "stdout",
     "output_type": "stream",
     "text": [
      "start: torch.Size([64, 1, 28, 28])\n",
      "conv1: torch.Size([64, 10, 24, 24])\n",
      "pool1: torch.Size([64, 10, 12, 12])\n",
      "start: torch.Size([64, 1, 28, 28])\n",
      "conv1: torch.Size([64, 10, 24, 24])\n",
      "pool1: torch.Size([64, 10, 12, 12])\n",
      "start: torch.Size([64, 1, 28, 28])\n",
      "conv1: torch.Size([64, 10, 24, 24])\n",
      "pool1: torch.Size([64, 10, 12, 12])\n",
      "start: torch.Size([64, 1, 28, 28])\n",
      "conv1: torch.Size([64, 10, 24, 24])\n",
      "pool1: torch.Size([64, 10, 12, 12])\n"
     ]
    },
    {
     "name": "stderr",
     "output_type": "stream",
     "text": [
      "Epoch 4:  99%|███████████████████████████████████████▌| 927/938 [00:37<00:00, 20.81batch/s, accuracy=98.4, loss=0.0781]"
     ]
    },
    {
     "name": "stdout",
     "output_type": "stream",
     "text": [
      "start: torch.Size([64, 1, 28, 28])\n",
      "conv1: torch.Size([64, 10, 24, 24])\n",
      "pool1: torch.Size([64, 10, 12, 12])\n",
      "start: torch.Size([64, 1, 28, 28])\n",
      "conv1: torch.Size([64, 10, 24, 24])\n",
      "pool1: torch.Size([64, 10, 12, 12])\n",
      "start: torch.Size([64, 1, 28, 28])\n",
      "conv1: torch.Size([64, 10, 24, 24])\n",
      "pool1: torch.Size([64, 10, 12, 12])\n",
      "start: torch.Size([64, 1, 28, 28])\n",
      "conv1: torch.Size([64, 10, 24, 24])\n",
      "pool1: torch.Size([64, 10, 12, 12])\n",
      "start: torch.Size([64, 1, 28, 28])\n"
     ]
    },
    {
     "name": "stderr",
     "output_type": "stream",
     "text": [
      "Epoch 4:  99%|████████████████████████████████████████▊| 933/938 [00:37<00:00, 21.80batch/s, accuracy=93.8, loss=0.117]"
     ]
    },
    {
     "name": "stdout",
     "output_type": "stream",
     "text": [
      "conv1: torch.Size([64, 10, 24, 24])\n",
      "pool1: torch.Size([64, 10, 12, 12])\n",
      "start: torch.Size([64, 1, 28, 28])\n",
      "conv1: torch.Size([64, 10, 24, 24])\n",
      "pool1: torch.Size([64, 10, 12, 12])\n",
      "start: torch.Size([64, 1, 28, 28])\n",
      "conv1: torch.Size([64, 10, 24, 24])\n",
      "pool1: torch.Size([64, 10, 12, 12])\n",
      "start: torch.Size([64, 1, 28, 28])\n",
      "conv1: torch.Size([64, 10, 24, 24])\n",
      "pool1: torch.Size([64, 10, 12, 12])\n",
      "start: torch.Size([64, 1, 28, 28])\n",
      "conv1: torch.Size([64, 10, 24, 24])\n",
      "pool1: torch.Size([64, 10, 12, 12])\n"
     ]
    },
    {
     "name": "stderr",
     "output_type": "stream",
     "text": [
      "Epoch 4: 100%|████████████████████████████████████████| 938/938 [00:37<00:00, 24.97batch/s, accuracy=48.4, loss=0.0751]\n"
     ]
    },
    {
     "name": "stdout",
     "output_type": "stream",
     "text": [
      "start: torch.Size([64, 1, 28, 28])\n",
      "conv1: torch.Size([64, 10, 24, 24])\n",
      "pool1: torch.Size([64, 10, 12, 12])\n",
      "start: torch.Size([64, 1, 28, 28])\n",
      "conv1: torch.Size([64, 10, 24, 24])\n",
      "pool1: torch.Size([64, 10, 12, 12])\n",
      "start: torch.Size([64, 1, 28, 28])\n",
      "conv1: torch.Size([64, 10, 24, 24])\n",
      "pool1: torch.Size([64, 10, 12, 12])\n",
      "start: torch.Size([32, 1, 28, 28])\n",
      "conv1: torch.Size([32, 10, 24, 24])\n",
      "pool1: torch.Size([32, 10, 12, 12])\n",
      "start: torch.Size([64, 1, 28, 28])\n",
      "conv1: torch.Size([64, 10, 24, 24])\n",
      "pool1: torch.Size([64, 10, 12, 12])\n",
      "start: torch.Size([64, 1, 28, 28])\n",
      "conv1: torch.Size([64, 10, 24, 24])\n",
      "pool1: torch.Size([64, 10, 12, 12])\n",
      "start: torch.Size([64, 1, 28, 28])\n",
      "conv1: torch.Size([64, 10, 24, 24])\n",
      "pool1: torch.Size([64, 10, 12, 12])\n",
      "start: torch.Size([64, 1, 28, 28])\n",
      "conv1: torch.Size([64, 10, 24, 24])\n",
      "pool1: torch.Size([64, 10, 12, 12])\n",
      "start: torch.Size([64, 1, 28, 28])\n",
      "conv1: torch.Size([64, 10, 24, 24])\n",
      "pool1: torch.Size([64, 10, 12, 12])\n",
      "start: torch.Size([64, 1, 28, 28])\n",
      "conv1: torch.Size([64, 10, 24, 24])\n",
      "pool1: torch.Size([64, 10, 12, 12])\n",
      "start: torch.Size([64, 1, 28, 28])\n",
      "conv1: torch.Size([64, 10, 24, 24])\n",
      "pool1: torch.Size([64, 10, 12, 12])\n",
      "start: torch.Size([64, 1, 28, 28])\n",
      "conv1: torch.Size([64, 10, 24, 24])\n",
      "pool1: torch.Size([64, 10, 12, 12])\n",
      "start: torch.Size([64, 1, 28, 28])\n",
      "conv1: torch.Size([64, 10, 24, 24])\n",
      "pool1: torch.Size([64, 10, 12, 12])\n",
      "start: torch.Size([64, 1, 28, 28])\n",
      "conv1: torch.Size([64, 10, 24, 24])\n",
      "pool1: torch.Size([64, 10, 12, 12])\n",
      "start: torch.Size([64, 1, 28, 28])\n",
      "conv1: torch.Size([64, 10, 24, 24])\n",
      "pool1: torch.Size([64, 10, 12, 12])\n",
      "start: torch.Size([64, 1, 28, 28])\n",
      "conv1: torch.Size([64, 10, 24, 24])\n",
      "pool1: torch.Size([64, 10, 12, 12])\n",
      "start: torch.Size([64, 1, 28, 28])\n",
      "conv1: torch.Size([64, 10, 24, 24])\n",
      "pool1: torch.Size([64, 10, 12, 12])\n",
      "start: torch.Size([64, 1, 28, 28])\n",
      "conv1: torch.Size([64, 10, 24, 24])\n",
      "pool1: torch.Size([64, 10, 12, 12])\n",
      "start: torch.Size([64, 1, 28, 28])\n",
      "conv1: torch.Size([64, 10, 24, 24])\n",
      "pool1: torch.Size([64, 10, 12, 12])\n",
      "start: torch.Size([64, 1, 28, 28])\n",
      "conv1: torch.Size([64, 10, 24, 24])\n",
      "pool1: torch.Size([64, 10, 12, 12])\n",
      "start: torch.Size([64, 1, 28, 28])\n",
      "conv1: torch.Size([64, 10, 24, 24])\n",
      "pool1: torch.Size([64, 10, 12, 12])\n",
      "start: torch.Size([64, 1, 28, 28])\n",
      "conv1: torch.Size([64, 10, 24, 24])\n",
      "pool1: torch.Size([64, 10, 12, 12])\n",
      "start: torch.Size([64, 1, 28, 28])\n",
      "conv1: torch.Size([64, 10, 24, 24])\n",
      "pool1: torch.Size([64, 10, 12, 12])\n",
      "start: torch.Size([64, 1, 28, 28])\n",
      "conv1: torch.Size([64, 10, 24, 24])\n",
      "pool1: torch.Size([64, 10, 12, 12])\n",
      "start: torch.Size([64, 1, 28, 28])\n",
      "conv1: torch.Size([64, 10, 24, 24])\n",
      "pool1: torch.Size([64, 10, 12, 12])\n",
      "start: torch.Size([64, 1, 28, 28])\n",
      "conv1: torch.Size([64, 10, 24, 24])\n",
      "pool1: torch.Size([64, 10, 12, 12])\n",
      "start: torch.Size([64, 1, 28, 28])\n",
      "conv1: torch.Size([64, 10, 24, 24])\n",
      "pool1: torch.Size([64, 10, 12, 12])\n",
      "start: torch.Size([64, 1, 28, 28])\n",
      "conv1: torch.Size([64, 10, 24, 24])\n",
      "pool1: torch.Size([64, 10, 12, 12])\n",
      "start: torch.Size([64, 1, 28, 28])\n",
      "conv1: torch.Size([64, 10, 24, 24])\n",
      "pool1: torch.Size([64, 10, 12, 12])\n",
      "start: torch.Size([64, 1, 28, 28])\n",
      "conv1: torch.Size([64, 10, 24, 24])\n",
      "pool1: torch.Size([64, 10, 12, 12])\n",
      "start: torch.Size([64, 1, 28, 28])\n",
      "conv1: torch.Size([64, 10, 24, 24])\n",
      "pool1: torch.Size([64, 10, 12, 12])\n",
      "start: torch.Size([64, 1, 28, 28])\n",
      "conv1: torch.Size([64, 10, 24, 24])\n",
      "pool1: torch.Size([64, 10, 12, 12])\n",
      "start: torch.Size([64, 1, 28, 28])\n",
      "conv1: torch.Size([64, 10, 24, 24])\n",
      "pool1: torch.Size([64, 10, 12, 12])\n",
      "start: torch.Size([64, 1, 28, 28])\n",
      "conv1: torch.Size([64, 10, 24, 24])\n",
      "pool1: torch.Size([64, 10, 12, 12])\n",
      "start: torch.Size([64, 1, 28, 28])\n",
      "conv1: torch.Size([64, 10, 24, 24])\n",
      "pool1: torch.Size([64, 10, 12, 12])\n",
      "start: torch.Size([64, 1, 28, 28])\n",
      "conv1: torch.Size([64, 10, 24, 24])\n",
      "pool1: torch.Size([64, 10, 12, 12])\n",
      "start: torch.Size([64, 1, 28, 28])\n",
      "conv1: torch.Size([64, 10, 24, 24])\n",
      "pool1: torch.Size([64, 10, 12, 12])\n",
      "start: torch.Size([64, 1, 28, 28])\n",
      "conv1: torch.Size([64, 10, 24, 24])\n",
      "pool1: torch.Size([64, 10, 12, 12])\n",
      "start: torch.Size([64, 1, 28, 28])\n",
      "conv1: torch.Size([64, 10, 24, 24])\n",
      "pool1: torch.Size([64, 10, 12, 12])\n",
      "start: torch.Size([64, 1, 28, 28])\n",
      "conv1: torch.Size([64, 10, 24, 24])\n",
      "pool1: torch.Size([64, 10, 12, 12])\n",
      "start: torch.Size([64, 1, 28, 28])\n",
      "conv1: torch.Size([64, 10, 24, 24])\n",
      "pool1: torch.Size([64, 10, 12, 12])\n",
      "start: torch.Size([64, 1, 28, 28])\n",
      "conv1: torch.Size([64, 10, 24, 24])\n",
      "pool1: torch.Size([64, 10, 12, 12])\n",
      "start: torch.Size([64, 1, 28, 28])\n",
      "conv1: torch.Size([64, 10, 24, 24])\n",
      "pool1: torch.Size([64, 10, 12, 12])\n",
      "start: torch.Size([64, 1, 28, 28])\n",
      "conv1: torch.Size([64, 10, 24, 24])\n",
      "pool1: torch.Size([64, 10, 12, 12])\n",
      "start: torch.Size([64, 1, 28, 28])\n",
      "conv1: torch.Size([64, 10, 24, 24])\n",
      "pool1: torch.Size([64, 10, 12, 12])\n",
      "start: torch.Size([64, 1, 28, 28])\n",
      "conv1: torch.Size([64, 10, 24, 24])\n",
      "pool1: torch.Size([64, 10, 12, 12])\n",
      "start: torch.Size([64, 1, 28, 28])\n",
      "conv1: torch.Size([64, 10, 24, 24])\n",
      "pool1: torch.Size([64, 10, 12, 12])\n",
      "start: torch.Size([64, 1, 28, 28])\n",
      "conv1: torch.Size([64, 10, 24, 24])\n",
      "pool1: torch.Size([64, 10, 12, 12])\n",
      "start: torch.Size([64, 1, 28, 28])\n",
      "conv1: torch.Size([64, 10, 24, 24])\n",
      "pool1: torch.Size([64, 10, 12, 12])\n",
      "start: torch.Size([64, 1, 28, 28])\n",
      "conv1: torch.Size([64, 10, 24, 24])\n",
      "pool1: torch.Size([64, 10, 12, 12])\n",
      "start: torch.Size([64, 1, 28, 28])\n",
      "conv1: torch.Size([64, 10, 24, 24])\n",
      "pool1: torch.Size([64, 10, 12, 12])\n",
      "start: torch.Size([64, 1, 28, 28])\n",
      "conv1: torch.Size([64, 10, 24, 24])\n",
      "pool1: torch.Size([64, 10, 12, 12])\n",
      "start: torch.Size([64, 1, 28, 28])\n",
      "conv1: torch.Size([64, 10, 24, 24])\n",
      "pool1: torch.Size([64, 10, 12, 12])\n",
      "start: torch.Size([64, 1, 28, 28])\n",
      "conv1: torch.Size([64, 10, 24, 24])\n",
      "pool1: torch.Size([64, 10, 12, 12])\n",
      "start: torch.Size([64, 1, 28, 28])\n",
      "conv1: torch.Size([64, 10, 24, 24])\n",
      "pool1: torch.Size([64, 10, 12, 12])\n",
      "start: torch.Size([64, 1, 28, 28])\n",
      "conv1: torch.Size([64, 10, 24, 24])\n",
      "pool1: torch.Size([64, 10, 12, 12])\n",
      "start: torch.Size([64, 1, 28, 28])\n",
      "conv1: torch.Size([64, 10, 24, 24])\n",
      "pool1: torch.Size([64, 10, 12, 12])\n",
      "start: torch.Size([64, 1, 28, 28])\n",
      "conv1: torch.Size([64, 10, 24, 24])\n",
      "pool1: torch.Size([64, 10, 12, 12])\n",
      "start: torch.Size([64, 1, 28, 28])\n",
      "conv1: torch.Size([64, 10, 24, 24])\n",
      "pool1: torch.Size([64, 10, 12, 12])\n",
      "start: torch.Size([64, 1, 28, 28])\n",
      "conv1: torch.Size([64, 10, 24, 24])\n",
      "pool1: torch.Size([64, 10, 12, 12])\n",
      "start: torch.Size([64, 1, 28, 28])\n",
      "conv1: torch.Size([64, 10, 24, 24])\n",
      "pool1: torch.Size([64, 10, 12, 12])\n",
      "start: torch.Size([64, 1, 28, 28])\n",
      "conv1: torch.Size([64, 10, 24, 24])\n",
      "pool1: torch.Size([64, 10, 12, 12])\n",
      "start: torch.Size([64, 1, 28, 28])\n",
      "conv1: torch.Size([64, 10, 24, 24])\n",
      "pool1: torch.Size([64, 10, 12, 12])\n",
      "start: torch.Size([64, 1, 28, 28])\n",
      "conv1: torch.Size([64, 10, 24, 24])\n",
      "pool1: torch.Size([64, 10, 12, 12])\n",
      "start: torch.Size([64, 1, 28, 28])\n",
      "conv1: torch.Size([64, 10, 24, 24])\n",
      "pool1: torch.Size([64, 10, 12, 12])\n",
      "start: torch.Size([64, 1, 28, 28])\n",
      "conv1: torch.Size([64, 10, 24, 24])\n",
      "pool1: torch.Size([64, 10, 12, 12])\n",
      "start: torch.Size([64, 1, 28, 28])\n",
      "conv1: torch.Size([64, 10, 24, 24])\n",
      "pool1: torch.Size([64, 10, 12, 12])\n",
      "start: torch.Size([64, 1, 28, 28])\n",
      "conv1: torch.Size([64, 10, 24, 24])\n",
      "pool1: torch.Size([64, 10, 12, 12])\n",
      "start: torch.Size([64, 1, 28, 28])\n",
      "conv1: torch.Size([64, 10, 24, 24])\n",
      "pool1: torch.Size([64, 10, 12, 12])\n",
      "start: torch.Size([64, 1, 28, 28])\n",
      "conv1: torch.Size([64, 10, 24, 24])\n",
      "pool1: torch.Size([64, 10, 12, 12])\n",
      "start: torch.Size([64, 1, 28, 28])\n",
      "conv1: torch.Size([64, 10, 24, 24])\n",
      "pool1: torch.Size([64, 10, 12, 12])\n",
      "start: torch.Size([64, 1, 28, 28])\n",
      "conv1: torch.Size([64, 10, 24, 24])\n",
      "pool1: torch.Size([64, 10, 12, 12])\n",
      "start: torch.Size([64, 1, 28, 28])\n",
      "conv1: torch.Size([64, 10, 24, 24])\n",
      "pool1: torch.Size([64, 10, 12, 12])\n",
      "start: torch.Size([64, 1, 28, 28])\n",
      "conv1: torch.Size([64, 10, 24, 24])\n",
      "pool1: torch.Size([64, 10, 12, 12])\n",
      "start: torch.Size([64, 1, 28, 28])\n",
      "conv1: torch.Size([64, 10, 24, 24])\n",
      "pool1: torch.Size([64, 10, 12, 12])\n",
      "start: torch.Size([64, 1, 28, 28])\n",
      "conv1: torch.Size([64, 10, 24, 24])\n",
      "pool1: torch.Size([64, 10, 12, 12])\n",
      "start: torch.Size([64, 1, 28, 28])\n",
      "conv1: torch.Size([64, 10, 24, 24])\n",
      "pool1: torch.Size([64, 10, 12, 12])\n",
      "start: torch.Size([64, 1, 28, 28])\n",
      "conv1: torch.Size([64, 10, 24, 24])\n",
      "pool1: torch.Size([64, 10, 12, 12])\n",
      "start: torch.Size([64, 1, 28, 28])\n",
      "conv1: torch.Size([64, 10, 24, 24])\n",
      "pool1: torch.Size([64, 10, 12, 12])\n",
      "start: torch.Size([64, 1, 28, 28])\n",
      "conv1: torch.Size([64, 10, 24, 24])\n",
      "pool1: torch.Size([64, 10, 12, 12])\n",
      "start: torch.Size([64, 1, 28, 28])\n",
      "conv1: torch.Size([64, 10, 24, 24])\n",
      "pool1: torch.Size([64, 10, 12, 12])\n"
     ]
    },
    {
     "name": "stdout",
     "output_type": "stream",
     "text": [
      "start: torch.Size([64, 1, 28, 28])\n",
      "conv1: torch.Size([64, 10, 24, 24])\n",
      "pool1: torch.Size([64, 10, 12, 12])\n",
      "start: torch.Size([64, 1, 28, 28])\n",
      "conv1: torch.Size([64, 10, 24, 24])\n",
      "pool1: torch.Size([64, 10, 12, 12])\n",
      "start: torch.Size([64, 1, 28, 28])\n",
      "conv1: torch.Size([64, 10, 24, 24])\n",
      "pool1: torch.Size([64, 10, 12, 12])\n",
      "start: torch.Size([64, 1, 28, 28])\n",
      "conv1: torch.Size([64, 10, 24, 24])\n",
      "pool1: torch.Size([64, 10, 12, 12])\n",
      "start: torch.Size([64, 1, 28, 28])\n",
      "conv1: torch.Size([64, 10, 24, 24])\n",
      "pool1: torch.Size([64, 10, 12, 12])\n",
      "start: torch.Size([64, 1, 28, 28])\n",
      "conv1: torch.Size([64, 10, 24, 24])\n",
      "pool1: torch.Size([64, 10, 12, 12])\n",
      "start: torch.Size([64, 1, 28, 28])\n",
      "conv1: torch.Size([64, 10, 24, 24])\n",
      "pool1: torch.Size([64, 10, 12, 12])\n",
      "start: torch.Size([64, 1, 28, 28])\n",
      "conv1: torch.Size([64, 10, 24, 24])\n",
      "pool1: torch.Size([64, 10, 12, 12])\n",
      "start: torch.Size([64, 1, 28, 28])\n",
      "conv1: torch.Size([64, 10, 24, 24])\n",
      "pool1: torch.Size([64, 10, 12, 12])\n",
      "start: torch.Size([64, 1, 28, 28])\n",
      "conv1: torch.Size([64, 10, 24, 24])\n",
      "pool1: torch.Size([64, 10, 12, 12])\n",
      "start: torch.Size([64, 1, 28, 28])\n",
      "conv1: torch.Size([64, 10, 24, 24])\n",
      "pool1: torch.Size([64, 10, 12, 12])\n",
      "start: torch.Size([64, 1, 28, 28])\n",
      "conv1: torch.Size([64, 10, 24, 24])\n",
      "pool1: torch.Size([64, 10, 12, 12])\n",
      "start: torch.Size([64, 1, 28, 28])\n",
      "conv1: torch.Size([64, 10, 24, 24])\n",
      "pool1: torch.Size([64, 10, 12, 12])\n",
      "start: torch.Size([64, 1, 28, 28])\n",
      "conv1: torch.Size([64, 10, 24, 24])\n",
      "pool1: torch.Size([64, 10, 12, 12])\n",
      "start: torch.Size([64, 1, 28, 28])\n",
      "conv1: torch.Size([64, 10, 24, 24])\n",
      "pool1: torch.Size([64, 10, 12, 12])\n",
      "start: torch.Size([64, 1, 28, 28])\n",
      "conv1: torch.Size([64, 10, 24, 24])\n",
      "pool1: torch.Size([64, 10, 12, 12])\n",
      "start: torch.Size([64, 1, 28, 28])\n",
      "conv1: torch.Size([64, 10, 24, 24])\n",
      "pool1: torch.Size([64, 10, 12, 12])\n",
      "start: torch.Size([64, 1, 28, 28])\n",
      "conv1: torch.Size([64, 10, 24, 24])\n",
      "pool1: torch.Size([64, 10, 12, 12])\n",
      "start: torch.Size([64, 1, 28, 28])\n",
      "conv1: torch.Size([64, 10, 24, 24])\n",
      "pool1: torch.Size([64, 10, 12, 12])\n",
      "start: torch.Size([64, 1, 28, 28])\n",
      "conv1: torch.Size([64, 10, 24, 24])\n",
      "pool1: torch.Size([64, 10, 12, 12])\n",
      "start: torch.Size([64, 1, 28, 28])\n",
      "conv1: torch.Size([64, 10, 24, 24])\n",
      "pool1: torch.Size([64, 10, 12, 12])\n",
      "start: torch.Size([64, 1, 28, 28])\n",
      "conv1: torch.Size([64, 10, 24, 24])\n",
      "pool1: torch.Size([64, 10, 12, 12])\n",
      "start: torch.Size([64, 1, 28, 28])\n",
      "conv1: torch.Size([64, 10, 24, 24])\n",
      "pool1: torch.Size([64, 10, 12, 12])\n",
      "start: torch.Size([64, 1, 28, 28])\n",
      "conv1: torch.Size([64, 10, 24, 24])\n",
      "pool1: torch.Size([64, 10, 12, 12])\n",
      "start: torch.Size([64, 1, 28, 28])\n",
      "conv1: torch.Size([64, 10, 24, 24])\n",
      "pool1: torch.Size([64, 10, 12, 12])\n",
      "start: torch.Size([64, 1, 28, 28])\n",
      "conv1: torch.Size([64, 10, 24, 24])\n",
      "pool1: torch.Size([64, 10, 12, 12])\n",
      "start: torch.Size([64, 1, 28, 28])\n",
      "conv1: torch.Size([64, 10, 24, 24])\n",
      "pool1: torch.Size([64, 10, 12, 12])\n",
      "start: torch.Size([64, 1, 28, 28])\n",
      "conv1: torch.Size([64, 10, 24, 24])\n",
      "pool1: torch.Size([64, 10, 12, 12])\n",
      "start: torch.Size([64, 1, 28, 28])\n",
      "conv1: torch.Size([64, 10, 24, 24])\n",
      "pool1: torch.Size([64, 10, 12, 12])\n",
      "start: torch.Size([64, 1, 28, 28])\n",
      "conv1: torch.Size([64, 10, 24, 24])\n",
      "pool1: torch.Size([64, 10, 12, 12])\n",
      "start: torch.Size([64, 1, 28, 28])\n",
      "conv1: torch.Size([64, 10, 24, 24])\n",
      "pool1: torch.Size([64, 10, 12, 12])\n",
      "start: torch.Size([64, 1, 28, 28])\n",
      "conv1: torch.Size([64, 10, 24, 24])\n",
      "pool1: torch.Size([64, 10, 12, 12])\n",
      "start: torch.Size([64, 1, 28, 28])\n",
      "conv1: torch.Size([64, 10, 24, 24])\n",
      "pool1: torch.Size([64, 10, 12, 12])\n",
      "start: torch.Size([64, 1, 28, 28])\n",
      "conv1: torch.Size([64, 10, 24, 24])\n",
      "pool1: torch.Size([64, 10, 12, 12])\n",
      "start: torch.Size([64, 1, 28, 28])\n",
      "conv1: torch.Size([64, 10, 24, 24])\n",
      "pool1: torch.Size([64, 10, 12, 12])\n",
      "start: torch.Size([64, 1, 28, 28])\n",
      "conv1: torch.Size([64, 10, 24, 24])\n",
      "pool1: torch.Size([64, 10, 12, 12])\n",
      "start: torch.Size([64, 1, 28, 28])\n",
      "conv1: torch.Size([64, 10, 24, 24])\n",
      "pool1: torch.Size([64, 10, 12, 12])\n",
      "start: torch.Size([64, 1, 28, 28])\n",
      "conv1: torch.Size([64, 10, 24, 24])\n",
      "pool1: torch.Size([64, 10, 12, 12])\n",
      "start: torch.Size([64, 1, 28, 28])\n",
      "conv1: torch.Size([64, 10, 24, 24])\n",
      "pool1: torch.Size([64, 10, 12, 12])\n",
      "start: torch.Size([64, 1, 28, 28])\n",
      "conv1: torch.Size([64, 10, 24, 24])\n",
      "pool1: torch.Size([64, 10, 12, 12])\n",
      "start: torch.Size([64, 1, 28, 28])\n",
      "conv1: torch.Size([64, 10, 24, 24])\n",
      "pool1: torch.Size([64, 10, 12, 12])\n",
      "start: torch.Size([64, 1, 28, 28])\n",
      "conv1: torch.Size([64, 10, 24, 24])\n",
      "pool1: torch.Size([64, 10, 12, 12])\n",
      "start: torch.Size([64, 1, 28, 28])\n",
      "conv1: torch.Size([64, 10, 24, 24])\n",
      "pool1: torch.Size([64, 10, 12, 12])\n",
      "start: torch.Size([64, 1, 28, 28])\n",
      "conv1: torch.Size([64, 10, 24, 24])\n",
      "pool1: torch.Size([64, 10, 12, 12])\n",
      "start: torch.Size([64, 1, 28, 28])\n",
      "conv1: torch.Size([64, 10, 24, 24])\n",
      "pool1: torch.Size([64, 10, 12, 12])\n",
      "start: torch.Size([64, 1, 28, 28])\n",
      "conv1: torch.Size([64, 10, 24, 24])\n",
      "pool1: torch.Size([64, 10, 12, 12])\n",
      "start: torch.Size([64, 1, 28, 28])\n",
      "conv1: torch.Size([64, 10, 24, 24])\n",
      "pool1: torch.Size([64, 10, 12, 12])\n",
      "start: torch.Size([64, 1, 28, 28])\n",
      "conv1: torch.Size([64, 10, 24, 24])\n",
      "pool1: torch.Size([64, 10, 12, 12])\n",
      "start: torch.Size([64, 1, 28, 28])\n",
      "conv1: torch.Size([64, 10, 24, 24])\n",
      "pool1: torch.Size([64, 10, 12, 12])\n",
      "start: torch.Size([64, 1, 28, 28])\n",
      "conv1: torch.Size([64, 10, 24, 24])\n",
      "pool1: torch.Size([64, 10, 12, 12])\n",
      "start: torch.Size([64, 1, 28, 28])\n",
      "conv1: torch.Size([64, 10, 24, 24])\n",
      "pool1: torch.Size([64, 10, 12, 12])\n",
      "start: torch.Size([64, 1, 28, 28])\n",
      "conv1: torch.Size([64, 10, 24, 24])\n",
      "pool1: torch.Size([64, 10, 12, 12])\n",
      "start: torch.Size([64, 1, 28, 28])\n",
      "conv1: torch.Size([64, 10, 24, 24])\n",
      "pool1: torch.Size([64, 10, 12, 12])\n",
      "start: torch.Size([64, 1, 28, 28])\n",
      "conv1: torch.Size([64, 10, 24, 24])\n",
      "pool1: torch.Size([64, 10, 12, 12])\n",
      "start: torch.Size([64, 1, 28, 28])\n",
      "conv1: torch.Size([64, 10, 24, 24])\n",
      "pool1: torch.Size([64, 10, 12, 12])\n",
      "start: torch.Size([64, 1, 28, 28])\n",
      "conv1: torch.Size([64, 10, 24, 24])\n",
      "pool1: torch.Size([64, 10, 12, 12])\n",
      "start: torch.Size([64, 1, 28, 28])\n",
      "conv1: torch.Size([64, 10, 24, 24])\n",
      "pool1: torch.Size([64, 10, 12, 12])\n",
      "start: torch.Size([64, 1, 28, 28])\n",
      "conv1: torch.Size([64, 10, 24, 24])\n",
      "pool1: torch.Size([64, 10, 12, 12])\n",
      "start: torch.Size([64, 1, 28, 28])\n",
      "conv1: torch.Size([64, 10, 24, 24])\n",
      "pool1: torch.Size([64, 10, 12, 12])\n",
      "start: torch.Size([64, 1, 28, 28])\n",
      "conv1: torch.Size([64, 10, 24, 24])\n",
      "pool1: torch.Size([64, 10, 12, 12])\n",
      "start: torch.Size([64, 1, 28, 28])\n",
      "conv1: torch.Size([64, 10, 24, 24])\n",
      "pool1: torch.Size([64, 10, 12, 12])\n",
      "start: torch.Size([64, 1, 28, 28])\n",
      "conv1: torch.Size([64, 10, 24, 24])\n",
      "pool1: torch.Size([64, 10, 12, 12])\n",
      "start: torch.Size([64, 1, 28, 28])\n",
      "conv1: torch.Size([64, 10, 24, 24])\n",
      "pool1: torch.Size([64, 10, 12, 12])\n",
      "start: torch.Size([64, 1, 28, 28])\n",
      "conv1: torch.Size([64, 10, 24, 24])\n",
      "pool1: torch.Size([64, 10, 12, 12])\n",
      "start: torch.Size([64, 1, 28, 28])\n",
      "conv1: torch.Size([64, 10, 24, 24])\n",
      "pool1: torch.Size([64, 10, 12, 12])\n",
      "start: torch.Size([64, 1, 28, 28])\n",
      "conv1: torch.Size([64, 10, 24, 24])\n",
      "pool1: torch.Size([64, 10, 12, 12])\n",
      "start: torch.Size([64, 1, 28, 28])\n",
      "conv1: torch.Size([64, 10, 24, 24])\n",
      "pool1: torch.Size([64, 10, 12, 12])\n",
      "start: torch.Size([64, 1, 28, 28])\n",
      "conv1: torch.Size([64, 10, 24, 24])\n",
      "pool1: torch.Size([64, 10, 12, 12])\n",
      "start: torch.Size([64, 1, 28, 28])\n",
      "conv1: torch.Size([64, 10, 24, 24])\n",
      "pool1: torch.Size([64, 10, 12, 12])\n",
      "start: torch.Size([64, 1, 28, 28])\n",
      "conv1: torch.Size([64, 10, 24, 24])\n",
      "pool1: torch.Size([64, 10, 12, 12])\n",
      "start: torch.Size([64, 1, 28, 28])\n",
      "conv1: torch.Size([64, 10, 24, 24])\n",
      "pool1: torch.Size([64, 10, 12, 12])\n",
      "start: torch.Size([64, 1, 28, 28])\n",
      "conv1: torch.Size([64, 10, 24, 24])\n",
      "pool1: torch.Size([64, 10, 12, 12])\n",
      "start: torch.Size([64, 1, 28, 28])\n",
      "conv1: torch.Size([64, 10, 24, 24])\n",
      "pool1: torch.Size([64, 10, 12, 12])\n",
      "start: torch.Size([64, 1, 28, 28])\n",
      "conv1: torch.Size([64, 10, 24, 24])\n",
      "pool1: torch.Size([64, 10, 12, 12])\n",
      "start: torch.Size([64, 1, 28, 28])\n",
      "conv1: torch.Size([64, 10, 24, 24])\n",
      "pool1: torch.Size([64, 10, 12, 12])\n",
      "start: torch.Size([64, 1, 28, 28])\n",
      "conv1: torch.Size([64, 10, 24, 24])\n",
      "pool1: torch.Size([64, 10, 12, 12])\n",
      "start: torch.Size([64, 1, 28, 28])\n",
      "conv1: torch.Size([64, 10, 24, 24])\n",
      "pool1: torch.Size([64, 10, 12, 12])\n",
      "start: torch.Size([64, 1, 28, 28])\n"
     ]
    },
    {
     "name": "stdout",
     "output_type": "stream",
     "text": [
      "conv1: torch.Size([64, 10, 24, 24])\n",
      "pool1: torch.Size([64, 10, 12, 12])\n",
      "start: torch.Size([64, 1, 28, 28])\n",
      "conv1: torch.Size([64, 10, 24, 24])\n",
      "pool1: torch.Size([64, 10, 12, 12])\n",
      "start: torch.Size([16, 1, 28, 28])\n",
      "conv1: torch.Size([16, 10, 24, 24])\n",
      "pool1: torch.Size([16, 10, 12, 12])\n",
      "average loss:  0.08356346208453179\n",
      "accuracy:  97 %\n"
     ]
    }
   ],
   "source": [
    "import torch\n",
    "import torch.nn as nn\n",
    "import torch.nn.functional as F\n",
    "from torch.autograd import Variable\n",
    "import torch.optim as optim\n",
    "from torchvision import datasets, transforms\n",
    "from tqdm import tqdm\n",
    "import time\n",
    "import os\n",
    "\n",
    "kwargs = {}          # without GPU\n",
    "#kwargs = {'num_workers': 1, 'pin_memory': True}        # with GPU\n",
    "batch_size=64\n",
    "train_data = torch.utils.data.DataLoader(datasets.MNIST('data_figures_nn', train=True, download=True, \n",
    "                                                    transform=transforms.Compose([transforms.ToTensor(), transforms.Normalize((0.1307,),(0.3082,))])),\n",
    "                                    batch_size=64, shuffle=True, **kwargs)    # shuffle that network don't learns repetition, kwargs are arguments for the function (has to be written)  \n",
    "print(len(train_data.dataset))\n",
    "\n",
    "test_data = torch.utils.data.DataLoader(datasets.MNIST('data_figures_nn', train=False, download=True, \n",
    "                                                    transform=transforms.Compose([transforms.ToTensor(), transforms.Normalize((0.1307,),(0.3082,))])),\n",
    "                                    batch_size=64, shuffle=True, **kwargs)    # shuffle that network don't learns repetition, kwargs are arguments for the function (has to be written)  \n",
    "\n",
    "class net(nn.Module):\n",
    "    def __init__(self):\n",
    "        super(net, self).__init__()\n",
    "        # definition of object layers\n",
    "        self.conv1 = nn.Conv2d(1,10,kernel_size=5)    # (in_channels: Eingangsdimension, out_channels: Ausgangsdimension)\n",
    "        # (kernel_size: Faltungsfiltergrösse, stride: #Schritte der Faltung (reduziert Dimension), padding: Leerer Rand dass Dimension weniger abnimmt, dilation: adding zeros between kernel, groups: , bias: added to output, padding_mode='zeros')\n",
    "        self.conv2 = nn.Conv2d(10,20,kernel_size=5)\n",
    "        # (p=0.5: probability for dropout, inplace: if True input layer gets changed)\n",
    "        self.conv_dropout = nn.Dropout2d()            # damit das Netz nichts auswendig lernt\n",
    "        self.fc1 = nn.Linear(320, 60)\n",
    "        self.fc2 = nn.Linear(60, 10)\n",
    "    \n",
    "    def forward(self,x):\n",
    "        # actual layer composition\n",
    "        print('start:',x.shape)\n",
    "        x = self.conv1(x)\n",
    "        print('conv1:', x.shape)\n",
    "        # (kernel_size, stride, padding, dilation, return_indices: of max value if True, ceil_mode: ceil if True (aufrunden))\n",
    "        x = F.max_pool2d(x, 2)\n",
    "        print('pool1:', x.shape)\n",
    "        x = F.relu(x)\n",
    "        #print('relu1:',x.shape)\n",
    "        x = self.conv2(x)\n",
    "        #print('conv2:',x.shape)\n",
    "        x = self.conv_dropout(x)\n",
    "        #print('dropout:',x.shape)\n",
    "        x = F.max_pool2d(x, 2)\n",
    "        #print('pool2:',x.shape)\n",
    "        x = F.relu(x)\n",
    "        #print('relu2:', x.shape)\n",
    "        x = x.view(-1,320)        # daten umformen\n",
    "        #print('view:', x.shape)\n",
    "        x = F.relu(self.fc1(x))\n",
    "        #print('relu3_fc1:', x.shape)\n",
    "        x = self.fc2(x)\n",
    "        #print('fc2:', x.shape)\n",
    "        \n",
    "        return F.log_softmax(x, dim=1)\n",
    "    \n",
    "if os.path.isfile('data_figures_nn/MyNet_MNIST.pt'):\n",
    "    net = torch.load('data_figures_nn/MyNet_MNIST.pt')       \n",
    "\n",
    "# model\n",
    "model = net()\n",
    "optimizer = optim.SGD(model.parameters(), lr=0.1, momentum=0.8)   # momentum [0,1]\n",
    "\n",
    "\n",
    "# training\n",
    "def train(epoch):\n",
    "    model.train()\n",
    "    #model.eval()\n",
    "    with tqdm(train_data, unit=\"batch\") as tepoch:\n",
    "        # in our train data we have the pictures (data), target number 1-9 and bates of size 64 in this case\n",
    "        for (data, target) in tepoch:\n",
    "            #data = data.cuda()\n",
    "            #target = target.cuda()\n",
    "            #data = Variable(data)\n",
    "            #target = Variable(target)\n",
    "            optimizer.zero_grad()\n",
    "            \n",
    "            # forward pass\n",
    "            out = model(data)\n",
    "            \n",
    "            #calculate loss\n",
    "            loss = F.nll_loss(out, target)          # criterion = nn.CrossEntropyLoss() + loss = criterion(out, target), F.nll_loss is better\n",
    "            predictions = out.argmax(dim=1, keepdim=True).squeeze()\n",
    "            correct = (predictions == target).sum().item()\n",
    "            accuracy = correct / batch_size\n",
    "            \n",
    "            loss.backward()\n",
    "            optimizer.step()\n",
    "            \n",
    "            # display training progress\n",
    "            #print_progress(epoch, batch_id, accuracy, loss)      # faster?\n",
    "            tepoch.set_description(f\"Epoch {epoch}\")\n",
    "            tepoch.set_postfix(loss=loss.item(), accuracy=100. * accuracy)\n",
    "            #time.sleep(0.1)\n",
    "            torch.save(net, 'data_figures_nn/MyNet_MNIST.pt')\n",
    "\n",
    "def test():\n",
    "    model.eval()\n",
    "    loss = 0\n",
    "    correct = 0\n",
    "    for data, target in test_data:\n",
    "        out = model(data)\n",
    "        loss += F.nll_loss(out, target, size_average=False).item()\n",
    "        prediction = out.data.max(1, keepdim=True)[1]\n",
    "        correct += prediction.eq(target.data.view_as(prediction)).sum()\n",
    "    \n",
    "    loss = loss / len(test_data.dataset)\n",
    "    print('average loss: ', loss)\n",
    "    print('accuracy: ', int(100.*correct/len(test_data.dataset)), '%')\n",
    "        \n",
    "    \n",
    "for epoch in range(1,5):\n",
    "        train(epoch)\n",
    "        test()\n",
    "        \n"
   ]
  },
  {
   "cell_type": "code",
   "execution_count": null,
   "id": "d0efd172",
   "metadata": {},
   "outputs": [],
   "source": []
  }
 ],
 "metadata": {
  "kernelspec": {
   "display_name": "Python 3 (ipykernel)",
   "language": "python",
   "name": "python3"
  },
  "language_info": {
   "codemirror_mode": {
    "name": "ipython",
    "version": 3
   },
   "file_extension": ".py",
   "mimetype": "text/x-python",
   "name": "python",
   "nbconvert_exporter": "python",
   "pygments_lexer": "ipython3",
   "version": "3.9.1"
  }
 },
 "nbformat": 4,
 "nbformat_minor": 5
}
