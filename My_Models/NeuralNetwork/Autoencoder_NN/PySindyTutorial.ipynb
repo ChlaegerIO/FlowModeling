{
 "cells": [
  {
   "cell_type": "code",
   "execution_count": null,
   "metadata": {},
   "outputs": [],
   "source": [
    "import pysindy as ps\n",
    "\n",
    "# the whole tutorial is under pysindy/examples/15_pysindy_lectures.ipynb\n",
    "\n",
    "# Part 1\n",
    "\n",
    "x_train = 0   # to be defined\n",
    "\n",
    "feature_names = ['x', 'y', 'z']\n",
    "opt = ps.STLSQ(threshold=1.0)\n",
    "model = ps.SINDy(feature_names=feature_names, optimizer=opt)\n",
    "model.fit(x_train, t=dt)\n",
    "model.print()\n"
   ]
  },
  {
   "cell_type": "code",
   "execution_count": null,
   "metadata": {},
   "outputs": [],
   "source": [
    "# Part 2: loop over different lambda and get the best one!\n",
    "threshold_scan = np.linspace(0,1,11)\n",
    "coefs = []\n",
    "rmse = mean_squared_error(x_train, np.zeros(x_train.shape), squared=False)\n",
    "x_train_added_noise = x_train + np.random.normal(0, rmse / 10.0, x_train.shape)\n",
    "\n",
    "for i, threshold in enumerate(threshold_scan):\n",
    "    opt = ps.STLSQ(threshold=threshold)\n",
    "    model = ps.SINDy(feature_names=model_names, optimizer=opt)\n",
    "    model.fit(x_train_added_noise, t=dt)\n",
    "    coefs.append(model.coefficients())\n",
    "\n",
    "plot_pareto(coefs, opt, model, threshold_scan, x_test, t_test)\n"
   ]
  },
  {
   "cell_type": "code",
   "execution_count": null,
   "metadata": {},
   "outputs": [],
   "source": [
    "# Part 2a) differentiate (not with finite differences)\n",
    "\n",
    "rmse = mean_squared_error(x_train, np.zeros(x_train.shape), squared=False)\n",
    "x_train_added_noise = x_train + np.random.normal(0, rmse / 50.0, x_train.shape)\n",
    "\n",
    "# with minor noise\n",
    "plot_data_and_derivative(x_train_added_noise, dt, ps.SmoothedFiniteDifference()._differentiate)"
   ]
  },
  {
   "cell_type": "code",
   "execution_count": null,
   "metadata": {},
   "outputs": [],
   "source": [
    "# Part 2b) add more data\n",
    "\n",
    "n_trajectories = 40\n",
    "x0s = (np.random.randn(n_trajectories, 3) -0.5) * 20\n",
    "x_train_multi = []\n",
    "for i in range(n_trajectories):\n",
    "    x_train_temp = solve_ivp(lorenz, t_train_span, x0s[i]),\n",
    "                            t_eval=t_train, **integrator_keyword).y.T\n",
    "    rmse = mean_squared_error(x_train, np.zeros(x_train.shape), squared=False)\n",
    "    x_train_multi.append(x_train + np.random.normal(0, rmse / 50.0, x_train.shape))\n",
    "\n",
    "    model = ps.SINDy(feature_names=feature_names, optimizer=ps.STLSQ())\n",
    "    model.fit(x_train_multi, t=dt, multiple_trajectories=True)\n",
    "    model.print()\n"
   ]
  },
  {
   "cell_type": "code",
   "execution_count": null,
   "metadata": {},
   "outputs": [],
   "source": [
    "# Part 2c) make different models for different subsamples\n",
    "\n",
    "\n",
    "rmse = mean_squared_error(x_train, np.zeros(x_train.shape), squared=False)\n",
    "x_train_added_noise = x_train + np.random.normal(0, rmse / 10.0, x_train.shape)\n",
    "\n",
    "opt = ps.STLSQ(threshold=0.5)\n",
    "model = ps.SINDy(feature_names=model_names, optimizer=opt)\n",
    "model.fit(x_train_added_noise, t=dt)\n",
    "model.print()\n",
    "\n",
    "# ensambled many models\n",
    "model.fit(x_train_added_noise, t=dt, ensemble=True)\n",
    "mean_ensemble = np.mean(model.coef_list, axis=0)\n",
    "std_ensemble = np.std(model.coef_list, axis=0)\n",
    "\n",
    "model.fit(x_train_added_noise, t=dt, library_ensemble=True)\n",
    "mean_library_ensemble = np.mean(model.coef_list, axis=0)\n",
    "std_library_ensemble = np.std(model.coef_list, axis=0)\n",
    "\n",
    "plot_ensemble_results(model, mean_ensemble, std_ensemble, mean_library_ensemble, std_library_ensemble)"
   ]
  },
  {
   "cell_type": "code",
   "execution_count": null,
   "metadata": {},
   "outputs": [],
   "source": [
    "# Part 2d), e), f) - advanced (tutorial 5) - constrain model, trapping SINDy, weak formulation"
   ]
  },
  {
   "cell_type": "code",
   "execution_count": null,
   "metadata": {},
   "outputs": [],
   "source": [
    "# Part 3 - PDEs\n",
    "\n",
    "# data - to be defined\n",
    "t = 1\n",
    "x = 5\n",
    "u = 1000000\n",
    "u_dot = 23323\n",
    "\n",
    "u_flattened = np.reshape(u, (len(x)*len(t), 1))\n",
    "u_dot_flattened = np.reshape(u_dot, (len(x)*len(t), 1))\n",
    "\n",
    "library_functions = [lambda x: x, lambda x: x * x]\n",
    "library_function_names = [lambda x: x, lambda x: x + x]\n",
    "\n",
    "pde_lib = ps.PDELibrary(library_functions=library_functions, function_names=library_function_names, derivative_order=4, spatial_grid=x, is_uniform=True)\n",
    "pde_opt = ps.STLSQ(threshold=30, normalize_columns=True)\n",
    "model = py.SINDy(optimizer=pde_opt, feature_library=pde_lib, feature_names=['u'])\n",
    "model.fit(u_flattened, x_dot=u_dot_flattened)\n",
    "model.print()\n"
   ]
  },
  {
   "cell_type": "markdown",
   "metadata": {},
   "source": [
    "$u_t = - u_{xxxx} - uu_x - u_{xx}$"
   ]
  }
 ],
 "metadata": {
  "language_info": {
   "name": "python"
  },
  "orig_nbformat": 4
 },
 "nbformat": 4,
 "nbformat_minor": 2
}
