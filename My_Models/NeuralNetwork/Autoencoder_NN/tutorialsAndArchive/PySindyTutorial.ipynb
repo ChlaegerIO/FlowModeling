{
 "cells": [
  {
   "cell_type": "code",
   "execution_count": null,
   "metadata": {},
   "outputs": [],
   "source": [
    "import pysindy as ps\n",
    "\n",
    "# the whole tutorial is under pysindy/examples/15_pysindy_lectures.ipynb\n",
    "\n",
    "# Part 1\n",
    "\n",
    "x_train = 0   # to be defined\n",
    "\n",
    "feature_names = ['x', 'y', 'z']\n",
    "opt = ps.STLSQ(threshold=1.0)\n",
    "model = ps.SINDy(feature_names=feature_names, optimizer=opt)\n",
    "model.fit(x_train, t=dt)\n",
    "model.print()\n"
   ]
  },
  {
   "cell_type": "code",
   "execution_count": null,
   "metadata": {},
   "outputs": [],
   "source": [
    "# Part 2: loop over different lambda and get the best one!\n",
    "threshold_scan = np.linspace(0,1,11)\n",
    "coefs = []\n",
    "rmse = mean_squared_error(x_train, np.zeros(x_train.shape), squared=False)\n",
    "x_train_added_noise = x_train + np.random.normal(0, rmse / 10.0, x_train.shape)\n",
    "\n",
    "for i, threshold in enumerate(threshold_scan):\n",
    "    opt = ps.STLSQ(threshold=threshold)\n",
    "    model = ps.SINDy(feature_names=model_names, optimizer=opt)\n",
    "    model.fit(x_train_added_noise, t=dt)\n",
    "    coefs.append(model.coefficients())\n",
    "\n",
    "plot_pareto(coefs, opt, model, threshold_scan, x_test, t_test)\n"
   ]
  },
  {
   "cell_type": "code",
   "execution_count": null,
   "metadata": {},
   "outputs": [],
   "source": [
    "# Part 2a) differentiate (not with finite differences)\n",
    "\n",
    "rmse = mean_squared_error(x_train, np.zeros(x_train.shape), squared=False)\n",
    "x_train_added_noise = x_train + np.random.normal(0, rmse / 50.0, x_train.shape)\n",
    "\n",
    "# with minor noise\n",
    "plot_data_and_derivative(x_train_added_noise, dt, ps.SmoothedFiniteDifference()._differentiate)"
   ]
  },
  {
   "cell_type": "code",
   "execution_count": null,
   "metadata": {},
   "outputs": [],
   "source": [
    "# Part 2b) add more data\n",
    "\n",
    "n_trajectories = 40\n",
    "x0s = (np.random.randn(n_trajectories, 3) -0.5) * 20\n",
    "x_train_multi = []\n",
    "for i in range(n_trajectories):\n",
    "    x_train_temp = solve_ivp(lorenz, t_train_span, x0s[i]),\n",
    "                            t_eval=t_train, **integrator_keyword).y.T\n",
    "    rmse = mean_squared_error(x_train, np.zeros(x_train.shape), squared=False)\n",
    "    x_train_multi.append(x_train + np.random.normal(0, rmse / 50.0, x_train.shape))\n",
    "\n",
    "    model = ps.SINDy(feature_names=feature_names, optimizer=ps.STLSQ())\n",
    "    model.fit(x_train_multi, t=dt, multiple_trajectories=True)\n",
    "    model.print()\n"
   ]
  },
  {
   "cell_type": "code",
   "execution_count": null,
   "metadata": {},
   "outputs": [],
   "source": [
    "# Part 2c) make different models for different subsamples\n",
    "\n",
    "\n",
    "rmse = mean_squared_error(x_train, np.zeros(x_train.shape), squared=False)\n",
    "x_train_added_noise = x_train + np.random.normal(0, rmse / 10.0, x_train.shape)\n",
    "\n",
    "opt = ps.STLSQ(threshold=0.5)\n",
    "model = ps.SINDy(feature_names=model_names, optimizer=opt)\n",
    "model.fit(x_train_added_noise, t=dt)\n",
    "model.print()\n",
    "\n",
    "# ensambled many models\n",
    "model.fit(x_train_added_noise, t=dt, ensemble=True)\n",
    "mean_ensemble = np.mean(model.coef_list, axis=0)\n",
    "std_ensemble = np.std(model.coef_list, axis=0)\n",
    "\n",
    "model.fit(x_train_added_noise, t=dt, library_ensemble=True)\n",
    "mean_library_ensemble = np.mean(model.coef_list, axis=0)\n",
    "std_library_ensemble = np.std(model.coef_list, axis=0)\n",
    "\n",
    "plot_ensemble_results(model, mean_ensemble, std_ensemble, mean_library_ensemble, std_library_ensemble)"
   ]
  },
  {
   "cell_type": "code",
   "execution_count": null,
   "metadata": {},
   "outputs": [],
   "source": [
    "# Part 2d), e), f) - advanced (tutorial 5) - constrain model, trapping SINDy, weak formulation"
   ]
  },
  {
   "cell_type": "code",
   "execution_count": null,
   "metadata": {},
   "outputs": [],
   "source": [
    "# Part 3 - PDEs\n",
    "\n",
    "# data - to be defined\n",
    "t = data_t\n",
    "x = data_x\n",
    "u = data_uu\n",
    "u_dot = plot_u_and_u_dot(t,x,u)\n",
    "\n",
    "u_flattened = np.reshape(u, (len(x)*len(t), 1))\n",
    "u_dot_flattened = np.reshape(u_dot, (len(x)*len(t), 1))\n",
    "\n",
    "library_functions = [lambda x: x, lambda x: x * x]\n",
    "library_function_names = [lambda x: x, lambda x: x + x]\n",
    "\n",
    "pde_lib = ps.PDELibrary(library_functions=library_functions, function_names=library_function_names, derivative_order=4, spatial_grid=x, is_uniform=True)\n",
    "pde_opt = ps.STLSQ(threshold=30, normalize_columns=True)\n",
    "model = py.SINDy(optimizer=pde_opt, feature_library=pde_lib, feature_names=['u'])\n",
    "model.fit(u_flattened, x_dot=u_dot_flattened)\n",
    "model.print()\n",
    "\n",
    "\n",
    "# differentiate\n",
    "u_temp = np.reshape(u[:, i], (len(u[:, i]), 1))\n",
    "ux[:, i] = ps.FiniteDifference(d=1)._differentiate(u_temp, dx)\n",
    "uxx[:, i] = ps.FiniteDifference(d=2)._differentiate(u_temp, dx)\n",
    "\n",
    "\n",
    "# 2D system example (https://pysindy.readthedocs.io/en/latest/examples/10_PDEFIND_examples.html)\n",
    "# Flatten into 2D shape for SINDy model optimization\n",
    "u_train_flattened = np.reshape(u_train, (N * len(t_train), 2))\n",
    "u_dot_train_flattened = np.reshape(u_dot_train, (N * len(t_train), 2))\n",
    "u_test_flattened = np.reshape(u_test, (N * len(t_test), 2))\n",
    "u_dot_test_flattened = np.reshape(u_dot_test, (N * len(t_test), 2))\n",
    "\n",
    "x = np.linspace(0,10,100)\n",
    "y = np.linspace(0,10,100)\n",
    "X, Y = np.meshgrid(x, y)\n",
    "spatial_grid = np.asarray([X, Y]).T\n",
    "# Odd polynomial terms in (u, v), up to second order derivatives in (u, v)\n",
    "library_functions = [\n",
    "    lambda x: x,\n",
    "    lambda x: x * x * x,\n",
    "    lambda x, y: x * y * y,\n",
    "    lambda x, y: x * x * y,\n",
    "]\n",
    "library_function_names = [\n",
    "    lambda x: x,\n",
    "    lambda x: x + x + x,\n",
    "    lambda x, y: x + y + y,\n",
    "    lambda x, y: x + x + y,\n",
    "]\n",
    "pde_lib = ps.PDELibrary(\n",
    "    library_functions=library_functions,\n",
    "    function_names=library_function_names,\n",
    "    derivative_order=2,\n",
    "    spatial_grid=spatial_grid,\n",
    "    include_bias=True,\n",
    "    is_uniform=True,\n",
    ")\n",
    "print('STLSQ model: ')\n",
    "optimizer = ps.STLSQ(threshold=50, alpha=1e-5, normalize_columns=True, max_iter=200)\n",
    "model = ps.SINDy(feature_library=pde_lib, optimizer=optimizer)\n",
    "model.fit(u_train_flattened, x_dot=u_dot_train_flattened)\n",
    "model.print()\n",
    "u_dot_stlsq = model.predict(u_test_flattened)"
   ]
  },
  {
   "cell_type": "markdown",
   "metadata": {},
   "source": [
    "$u_t = - u_{xxxx} - uu_x - u_{xx}$"
   ]
  }
 ],
 "metadata": {
  "language_info": {
   "name": "python"
  },
  "orig_nbformat": 4
 },
 "nbformat": 4,
 "nbformat_minor": 2
}
