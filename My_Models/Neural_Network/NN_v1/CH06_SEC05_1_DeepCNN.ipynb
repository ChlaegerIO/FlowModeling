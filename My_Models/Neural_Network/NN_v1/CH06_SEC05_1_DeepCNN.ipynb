{
 "cells": [
  {
   "cell_type": "code",
   "execution_count": 2,
   "metadata": {
    "scrolled": false
   },
   "outputs": [],
   "source": [
    "import torch\n",
    "from torch.autograd import Variable\n",
    "import numpy as np\n",
    "\n",
    "def rmse(y, y_hat):\n",
    "    \"\"\"Compute root mean squared error\"\"\"\n",
    "    return torch.sqrt(torch.mean((y - y_hat).pow(2)))\n",
    "\n",
    "def forward(x, e):\n",
    "    \"\"\"Forward pass for our fuction\"\"\"\n",
    "    return x.pow(e.repeat(x.size(0)))\n",
    "\n",
    "# Let's define some settings\n",
    "n = 1000 # number of examples\n",
    "learning_rate = 5e-10\n",
    "\n",
    "# Model definition\n",
    "x = Variable(torch.rand(n) * 10, requires_grad=False)\n",
    "y = forward(x, exp)\n",
    "\n",
    "# Model parameters\n",
    "exp = Variable(torch.FloatTensor([2.0]), requires_grad=False)\n",
    "exp_hat = Variable(torch.FloatTensor([4]), requires_grad=True)\n",
    "\n",
    "# Optimizer (NEW)\n",
    "opt = torch.optim.SGD([exp_hat], lr=learning_rate, momentum=0.9)\n",
    "\n",
    "loss_history = []\n",
    "exp_history = []\n",
    "\n",
    "# Training loop\n",
    "for i in range(0, 10000):\n",
    "    opt.zero_grad()\n",
    "    print(\"Iteration %d\" % i)\n",
    "    \n",
    "    # Compute current estimate\n",
    "    y_hat = forward(x, exp_hat)\n",
    "    \n",
    "    # Calculate loss function\n",
    "    loss = rmse(y, y_hat)\n",
    "    \n",
    "    # Do some recordings for plots\n",
    "    loss_history.append(loss.data[0])\n",
    "    exp_history.append(y_hat.data[0])\n",
    "    \n",
    "    # Update model parameters\n",
    "    loss.backward()\n",
    "    opt.step()\n",
    "    \n",
    "    print(\"loss = %s\" % loss.data[0])\n",
    "    print(\"exp = %s\" % exp_hat.data[0])"
   ]
  }
 ],
 "metadata": {
  "kernelspec": {
   "display_name": "Python 3 (ipykernel)",
   "language": "python",
   "name": "python3"
  },
  "language_info": {
   "codemirror_mode": {
    "name": "ipython",
    "version": 3
   },
   "file_extension": ".py",
   "mimetype": "text/x-python",
   "name": "python",
   "nbconvert_exporter": "python",
   "pygments_lexer": "ipython3",
   "version": "3.9.1"
  }
 },
 "nbformat": 4,
 "nbformat_minor": 2
}
